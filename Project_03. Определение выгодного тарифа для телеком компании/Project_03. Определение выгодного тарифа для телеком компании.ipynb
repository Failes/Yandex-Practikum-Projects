{
 "cells": [
  {
   "cell_type": "markdown",
   "metadata": {},
   "source": [
    "# Определение перспективного тарифа для телеком-компании\n",
    "\n",
    "Компания «Мегалайн» — федеральный оператор сотовой связи. Клиентам предлагают два тарифных плана: «Смарт» и «Ультра». Чтобы скорректировать рекламный бюджет, коммерческий департамент хочет понять, какой тариф приносит больше денег.\n",
    "Предстоит сделать предварительный анализ тарифов на небольшой выборке клиентов. В распоряжение предоставлены данные 500 пользователей «Мегалайна»: кто они, откуда, каким тарифом пользуются, сколько звонков и сообщений каждый отправил за 2018 год. Необходимо проанализировать поведение клиентов и сделать вывод — какой тариф лучше."
   ]
  },
  {
   "cell_type": "markdown",
   "metadata": {},
   "source": [
    "## Шаг 1. Откроем файл с данными и изучим общую информацию"
   ]
  },
  {
   "cell_type": "code",
   "execution_count": 5,
   "metadata": {},
   "outputs": [],
   "source": [
    "# Подключим необходимые библиотеки для самостоятельной работы\n",
    "import pandas as pd\n",
    "import numpy as np\n",
    "import matplotlib.pyplot as plt\n",
    "%matplotlib inline\n",
    "import seaborn as sns\n",
    "from scipy import stats as st\n",
    "from math import ceil as math"
   ]
  },
  {
   "cell_type": "markdown",
   "metadata": {},
   "source": [
    "### Прочтем наши файлы с данными и сохраним их в переменных."
   ]
  },
  {
   "cell_type": "code",
   "execution_count": 6,
   "metadata": {},
   "outputs": [],
   "source": [
    "calls = pd.read_csv('/datasets/calls.csv') # информация о звонках\n",
    "internet = pd.read_csv('/datasets/internet.csv', index_col=0) # информация об интернет-сессиях\n",
    "messages = pd.read_csv('/datasets/messages.csv') # информация о сообщениях\n",
    "tariffs = pd.read_csv('/datasets/tariffs.csv') # информация о тарифах\n",
    "users = pd.read_csv('/datasets/users.csv') # информация о пользователях"
   ]
  },
  {
   "cell_type": "markdown",
   "metadata": {},
   "source": [
    "### Изучим данные с загруженных таблиц"
   ]
  },
  {
   "cell_type": "markdown",
   "metadata": {},
   "source": [
    "#### Изучим датасет Calls"
   ]
  },
  {
   "cell_type": "code",
   "execution_count": 7,
   "metadata": {},
   "outputs": [
    {
     "name": "stdout",
     "output_type": "stream",
     "text": [
      "<class 'pandas.core.frame.DataFrame'>\n",
      "RangeIndex: 202607 entries, 0 to 202606\n",
      "Data columns (total 4 columns):\n",
      "id           202607 non-null object\n",
      "call_date    202607 non-null object\n",
      "duration     202607 non-null float64\n",
      "user_id      202607 non-null int64\n",
      "dtypes: float64(1), int64(1), object(2)\n",
      "memory usage: 6.2+ MB\n"
     ]
    }
   ],
   "source": [
    "#Получим информацию с таблицы \"Calls\" методом info\n",
    "calls.info()"
   ]
  },
  {
   "cell_type": "markdown",
   "metadata": {},
   "source": [
    "***Таблица calls (информация о звонках):\n",
    "<br> id — уникальный номер звонка\n",
    "<br> call_date — дата звонка\n",
    "<br> duration — длительность звонка в минутах\n",
    "<br> user_id — идентификатор пользователя, сделавшего звонок***"
   ]
  },
  {
   "cell_type": "code",
   "execution_count": 8,
   "metadata": {},
   "outputs": [
    {
     "data": {
      "text/html": [
       "<div>\n",
       "<style scoped>\n",
       "    .dataframe tbody tr th:only-of-type {\n",
       "        vertical-align: middle;\n",
       "    }\n",
       "\n",
       "    .dataframe tbody tr th {\n",
       "        vertical-align: top;\n",
       "    }\n",
       "\n",
       "    .dataframe thead th {\n",
       "        text-align: right;\n",
       "    }\n",
       "</style>\n",
       "<table border=\"1\" class=\"dataframe\">\n",
       "  <thead>\n",
       "    <tr style=\"text-align: right;\">\n",
       "      <th></th>\n",
       "      <th>id</th>\n",
       "      <th>call_date</th>\n",
       "      <th>duration</th>\n",
       "      <th>user_id</th>\n",
       "    </tr>\n",
       "  </thead>\n",
       "  <tbody>\n",
       "    <tr>\n",
       "      <td>0</td>\n",
       "      <td>1000_0</td>\n",
       "      <td>2018-07-25</td>\n",
       "      <td>0.00</td>\n",
       "      <td>1000</td>\n",
       "    </tr>\n",
       "    <tr>\n",
       "      <td>1</td>\n",
       "      <td>1000_1</td>\n",
       "      <td>2018-08-17</td>\n",
       "      <td>0.00</td>\n",
       "      <td>1000</td>\n",
       "    </tr>\n",
       "    <tr>\n",
       "      <td>2</td>\n",
       "      <td>1000_2</td>\n",
       "      <td>2018-06-11</td>\n",
       "      <td>2.85</td>\n",
       "      <td>1000</td>\n",
       "    </tr>\n",
       "    <tr>\n",
       "      <td>3</td>\n",
       "      <td>1000_3</td>\n",
       "      <td>2018-09-21</td>\n",
       "      <td>13.80</td>\n",
       "      <td>1000</td>\n",
       "    </tr>\n",
       "    <tr>\n",
       "      <td>4</td>\n",
       "      <td>1000_4</td>\n",
       "      <td>2018-12-15</td>\n",
       "      <td>5.18</td>\n",
       "      <td>1000</td>\n",
       "    </tr>\n",
       "  </tbody>\n",
       "</table>\n",
       "</div>"
      ],
      "text/plain": [
       "       id   call_date  duration  user_id\n",
       "0  1000_0  2018-07-25      0.00     1000\n",
       "1  1000_1  2018-08-17      0.00     1000\n",
       "2  1000_2  2018-06-11      2.85     1000\n",
       "3  1000_3  2018-09-21     13.80     1000\n",
       "4  1000_4  2018-12-15      5.18     1000"
      ]
     },
     "execution_count": 8,
     "metadata": {},
     "output_type": "execute_result"
    }
   ],
   "source": [
    "#Выведем первые 5 строк таблицы calls\n",
    "calls.head()"
   ]
  },
  {
   "cell_type": "code",
   "execution_count": 9,
   "metadata": {},
   "outputs": [
    {
     "data": {
      "text/plain": [
       "Index(['id', 'call_date', 'duration', 'user_id'], dtype='object')"
      ]
     },
     "execution_count": 9,
     "metadata": {},
     "output_type": "execute_result"
    }
   ],
   "source": [
    "#Посмотрим на столбцы в таблице\n",
    "calls.columns"
   ]
  },
  {
   "cell_type": "code",
   "execution_count": 10,
   "metadata": {},
   "outputs": [
    {
     "data": {
      "text/plain": [
       "id           0\n",
       "call_date    0\n",
       "duration     0\n",
       "user_id      0\n",
       "dtype: int64"
      ]
     },
     "execution_count": 10,
     "metadata": {},
     "output_type": "execute_result"
    }
   ],
   "source": [
    "#проверим наличие пустых значений\n",
    "calls.isnull().sum()"
   ]
  },
  {
   "cell_type": "code",
   "execution_count": 11,
   "metadata": {},
   "outputs": [
    {
     "data": {
      "text/plain": [
       "0"
      ]
     },
     "execution_count": 11,
     "metadata": {},
     "output_type": "execute_result"
    }
   ],
   "source": [
    "#Проверим наличие дубликатов\n",
    "calls.duplicated().sum()"
   ]
  },
  {
   "cell_type": "code",
   "execution_count": 12,
   "metadata": {},
   "outputs": [
    {
     "name": "stdout",
     "output_type": "stream",
     "text": [
      "Количество звонков у которых длительность звонка менее 1 минуты: 47927\n"
     ]
    }
   ],
   "source": [
    "print('Количество звонков у которых длительность звонка менее 1 минуты: {}'.format(len(calls[calls.duration < 1])))"
   ]
  },
  {
   "cell_type": "markdown",
   "metadata": {},
   "source": [
    "***Вывод по таблице Calls:***\n",
    "<br> Необходимо изменить типы данных в столбцах id, call_date, user_id\n",
    "<br> Пустых значений и дубликатов не имеется\n",
    "47927 звонков было совершено продолжительностью менее 1мин. Все нули заменим на 1 и после поменяем тип на int."
   ]
  },
  {
   "cell_type": "markdown",
   "metadata": {},
   "source": [
    "#### Изучим датасет Internet"
   ]
  },
  {
   "cell_type": "code",
   "execution_count": 13,
   "metadata": {},
   "outputs": [
    {
     "name": "stdout",
     "output_type": "stream",
     "text": [
      "<class 'pandas.core.frame.DataFrame'>\n",
      "Int64Index: 149396 entries, 0 to 149395\n",
      "Data columns (total 4 columns):\n",
      "id              149396 non-null object\n",
      "mb_used         149396 non-null float64\n",
      "session_date    149396 non-null object\n",
      "user_id         149396 non-null int64\n",
      "dtypes: float64(1), int64(1), object(2)\n",
      "memory usage: 5.7+ MB\n"
     ]
    }
   ],
   "source": [
    "##Получим информацию с таблицы \"Internet\" методом info\n",
    "internet.info()"
   ]
  },
  {
   "cell_type": "markdown",
   "metadata": {},
   "source": [
    "***Таблица internet (информация об интернет-сессиях):\n",
    "<br> id — уникальный номер сессии\n",
    "<br> mb_used — объём потраченного за сессию интернет-трафика (в мегабайтах)\n",
    "<br> session_date — дата интернет-сессии\n",
    "<br> user_id — идентификатор пользователя***"
   ]
  },
  {
   "cell_type": "code",
   "execution_count": 14,
   "metadata": {},
   "outputs": [
    {
     "data": {
      "text/html": [
       "<div>\n",
       "<style scoped>\n",
       "    .dataframe tbody tr th:only-of-type {\n",
       "        vertical-align: middle;\n",
       "    }\n",
       "\n",
       "    .dataframe tbody tr th {\n",
       "        vertical-align: top;\n",
       "    }\n",
       "\n",
       "    .dataframe thead th {\n",
       "        text-align: right;\n",
       "    }\n",
       "</style>\n",
       "<table border=\"1\" class=\"dataframe\">\n",
       "  <thead>\n",
       "    <tr style=\"text-align: right;\">\n",
       "      <th></th>\n",
       "      <th>id</th>\n",
       "      <th>mb_used</th>\n",
       "      <th>session_date</th>\n",
       "      <th>user_id</th>\n",
       "    </tr>\n",
       "  </thead>\n",
       "  <tbody>\n",
       "    <tr>\n",
       "      <td>0</td>\n",
       "      <td>1000_0</td>\n",
       "      <td>112.95</td>\n",
       "      <td>2018-11-25</td>\n",
       "      <td>1000</td>\n",
       "    </tr>\n",
       "    <tr>\n",
       "      <td>1</td>\n",
       "      <td>1000_1</td>\n",
       "      <td>1052.81</td>\n",
       "      <td>2018-09-07</td>\n",
       "      <td>1000</td>\n",
       "    </tr>\n",
       "    <tr>\n",
       "      <td>2</td>\n",
       "      <td>1000_2</td>\n",
       "      <td>1197.26</td>\n",
       "      <td>2018-06-25</td>\n",
       "      <td>1000</td>\n",
       "    </tr>\n",
       "    <tr>\n",
       "      <td>3</td>\n",
       "      <td>1000_3</td>\n",
       "      <td>550.27</td>\n",
       "      <td>2018-08-22</td>\n",
       "      <td>1000</td>\n",
       "    </tr>\n",
       "    <tr>\n",
       "      <td>4</td>\n",
       "      <td>1000_4</td>\n",
       "      <td>302.56</td>\n",
       "      <td>2018-09-24</td>\n",
       "      <td>1000</td>\n",
       "    </tr>\n",
       "  </tbody>\n",
       "</table>\n",
       "</div>"
      ],
      "text/plain": [
       "       id  mb_used session_date  user_id\n",
       "0  1000_0   112.95   2018-11-25     1000\n",
       "1  1000_1  1052.81   2018-09-07     1000\n",
       "2  1000_2  1197.26   2018-06-25     1000\n",
       "3  1000_3   550.27   2018-08-22     1000\n",
       "4  1000_4   302.56   2018-09-24     1000"
      ]
     },
     "execution_count": 14,
     "metadata": {},
     "output_type": "execute_result"
    }
   ],
   "source": [
    "#Выведем первые 5 строк таблицы internet\n",
    "internet.head()"
   ]
  },
  {
   "cell_type": "code",
   "execution_count": 15,
   "metadata": {},
   "outputs": [
    {
     "data": {
      "text/plain": [
       "Index(['id', 'mb_used', 'session_date', 'user_id'], dtype='object')"
      ]
     },
     "execution_count": 15,
     "metadata": {},
     "output_type": "execute_result"
    }
   ],
   "source": [
    "#Посмотрим на столбцы в таблице \"Internet\"\n",
    "internet.columns"
   ]
  },
  {
   "cell_type": "code",
   "execution_count": 16,
   "metadata": {},
   "outputs": [
    {
     "data": {
      "text/plain": [
       "id              0\n",
       "mb_used         0\n",
       "session_date    0\n",
       "user_id         0\n",
       "dtype: int64"
      ]
     },
     "execution_count": 16,
     "metadata": {},
     "output_type": "execute_result"
    }
   ],
   "source": [
    "#Посчитаем количество пустых значений в таблице \"Internet\"\n",
    "internet.isnull().sum()"
   ]
  },
  {
   "cell_type": "code",
   "execution_count": 17,
   "metadata": {},
   "outputs": [
    {
     "data": {
      "text/plain": [
       "0"
      ]
     },
     "execution_count": 17,
     "metadata": {},
     "output_type": "execute_result"
    }
   ],
   "source": [
    "#Посчитает количество дубликатов в таблице \"Internet\"\n",
    "internet.duplicated().sum()"
   ]
  },
  {
   "cell_type": "code",
   "execution_count": 18,
   "metadata": {},
   "outputs": [
    {
     "name": "stdout",
     "output_type": "stream",
     "text": [
      "Количество сессий объема потраченного за сессию интернет-трафика менее 1 Мб: 19699\n"
     ]
    }
   ],
   "source": [
    "print('Количество сессий объема потраченного за сессию интернет-трафика менее 1 Мб: {}'.format(len(internet.query('mb_used < 1 '))))"
   ]
  },
  {
   "cell_type": "markdown",
   "metadata": {},
   "source": [
    "***Вывод по таблице Internet:***\n",
    "<br> Также нужно изменить типы данных в столбцах : id , session_date\n",
    "<br> Пустых значений и дубликатов не имеется;\n",
    "<br> Объём потраченного за сессию интернет-трафика указан в мегабайтах, в то время, как в тарифе в гигабайтах. Таким образом, если пользователь израсходует объем трафика, предоставленный тарифным планом, для анализа нам потребуется привести дополнительный объем трафика к гигабайтам, чтобы рассчитать стоимость;\n",
    "<br> 19699 сессий имеют объём потраченного за сессию интернет-трафика менее 1 Мб. Если сессия зарегистрирована, значит трафик был, можно сделать предположение, что в этот день пользователь либо не выходил в интернет, либо уровень сигнала был очень низкий и система зафиксировала начало сессии, но из-за качества соединения абонент ей не смог воспользоваться и сессия закрылась с нулевым значением. Исходя из условий - оператор округляет вверх значения мегабайтов. Все нули заменим на 1 и после поменяем тип на int."
   ]
  },
  {
   "cell_type": "markdown",
   "metadata": {},
   "source": [
    "#### Изучим датасет Messages"
   ]
  },
  {
   "cell_type": "code",
   "execution_count": 19,
   "metadata": {},
   "outputs": [
    {
     "name": "stdout",
     "output_type": "stream",
     "text": [
      "<class 'pandas.core.frame.DataFrame'>\n",
      "RangeIndex: 123036 entries, 0 to 123035\n",
      "Data columns (total 3 columns):\n",
      "id              123036 non-null object\n",
      "message_date    123036 non-null object\n",
      "user_id         123036 non-null int64\n",
      "dtypes: int64(1), object(2)\n",
      "memory usage: 2.8+ MB\n"
     ]
    }
   ],
   "source": [
    "#Получим информацию с таблицы \"Messages\" методом info\n",
    "messages.info()"
   ]
  },
  {
   "cell_type": "markdown",
   "metadata": {},
   "source": [
    "***Таблица messages (информация о сообщениях):\n",
    "<br> id — уникальный номер сообщения\n",
    "<br> message_date — дата сообщения\n",
    "<br> user_id — идентификатор пользователя, отправившего сообщение***"
   ]
  },
  {
   "cell_type": "code",
   "execution_count": 20,
   "metadata": {},
   "outputs": [
    {
     "data": {
      "text/html": [
       "<div>\n",
       "<style scoped>\n",
       "    .dataframe tbody tr th:only-of-type {\n",
       "        vertical-align: middle;\n",
       "    }\n",
       "\n",
       "    .dataframe tbody tr th {\n",
       "        vertical-align: top;\n",
       "    }\n",
       "\n",
       "    .dataframe thead th {\n",
       "        text-align: right;\n",
       "    }\n",
       "</style>\n",
       "<table border=\"1\" class=\"dataframe\">\n",
       "  <thead>\n",
       "    <tr style=\"text-align: right;\">\n",
       "      <th></th>\n",
       "      <th>id</th>\n",
       "      <th>message_date</th>\n",
       "      <th>user_id</th>\n",
       "    </tr>\n",
       "  </thead>\n",
       "  <tbody>\n",
       "    <tr>\n",
       "      <td>0</td>\n",
       "      <td>1000_0</td>\n",
       "      <td>2018-06-27</td>\n",
       "      <td>1000</td>\n",
       "    </tr>\n",
       "    <tr>\n",
       "      <td>1</td>\n",
       "      <td>1000_1</td>\n",
       "      <td>2018-10-08</td>\n",
       "      <td>1000</td>\n",
       "    </tr>\n",
       "    <tr>\n",
       "      <td>2</td>\n",
       "      <td>1000_2</td>\n",
       "      <td>2018-08-04</td>\n",
       "      <td>1000</td>\n",
       "    </tr>\n",
       "    <tr>\n",
       "      <td>3</td>\n",
       "      <td>1000_3</td>\n",
       "      <td>2018-06-16</td>\n",
       "      <td>1000</td>\n",
       "    </tr>\n",
       "    <tr>\n",
       "      <td>4</td>\n",
       "      <td>1000_4</td>\n",
       "      <td>2018-12-05</td>\n",
       "      <td>1000</td>\n",
       "    </tr>\n",
       "  </tbody>\n",
       "</table>\n",
       "</div>"
      ],
      "text/plain": [
       "       id message_date  user_id\n",
       "0  1000_0   2018-06-27     1000\n",
       "1  1000_1   2018-10-08     1000\n",
       "2  1000_2   2018-08-04     1000\n",
       "3  1000_3   2018-06-16     1000\n",
       "4  1000_4   2018-12-05     1000"
      ]
     },
     "execution_count": 20,
     "metadata": {},
     "output_type": "execute_result"
    }
   ],
   "source": [
    "#Выведем первые пять строк из таблицы \"Messages\"\n",
    "messages.head()"
   ]
  },
  {
   "cell_type": "code",
   "execution_count": 21,
   "metadata": {},
   "outputs": [
    {
     "data": {
      "text/plain": [
       "Index(['id', 'message_date', 'user_id'], dtype='object')"
      ]
     },
     "execution_count": 21,
     "metadata": {},
     "output_type": "execute_result"
    }
   ],
   "source": [
    "#Посмотрим на столбцы из таблицы \"Messages\"\n",
    "messages.columns"
   ]
  },
  {
   "cell_type": "code",
   "execution_count": 22,
   "metadata": {},
   "outputs": [
    {
     "data": {
      "text/plain": [
       "id              0\n",
       "message_date    0\n",
       "user_id         0\n",
       "dtype: int64"
      ]
     },
     "execution_count": 22,
     "metadata": {},
     "output_type": "execute_result"
    }
   ],
   "source": [
    "#Посчитаем количество пустых значений в таблице \"Messages\"\n",
    "messages.isnull().sum()"
   ]
  },
  {
   "cell_type": "code",
   "execution_count": 23,
   "metadata": {},
   "outputs": [
    {
     "data": {
      "text/plain": [
       "0"
      ]
     },
     "execution_count": 23,
     "metadata": {},
     "output_type": "execute_result"
    }
   ],
   "source": [
    "#Посчитаем количество дубликатов в таблице \"Messages\"\n",
    "messages.duplicated().sum()"
   ]
  },
  {
   "cell_type": "markdown",
   "metadata": {},
   "source": [
    "***Вывод по таблице Messages:***\n",
    "<br> Изменить типы данных в столбце : id, message_date\n",
    "<br> Пустых значений и дубликатов не имеется"
   ]
  },
  {
   "cell_type": "markdown",
   "metadata": {},
   "source": [
    "#### Изучим датасет Tariffs"
   ]
  },
  {
   "cell_type": "code",
   "execution_count": 24,
   "metadata": {},
   "outputs": [
    {
     "name": "stdout",
     "output_type": "stream",
     "text": [
      "<class 'pandas.core.frame.DataFrame'>\n",
      "RangeIndex: 2 entries, 0 to 1\n",
      "Data columns (total 8 columns):\n",
      "messages_included        2 non-null int64\n",
      "mb_per_month_included    2 non-null int64\n",
      "minutes_included         2 non-null int64\n",
      "rub_monthly_fee          2 non-null int64\n",
      "rub_per_gb               2 non-null int64\n",
      "rub_per_message          2 non-null int64\n",
      "rub_per_minute           2 non-null int64\n",
      "tariff_name              2 non-null object\n",
      "dtypes: int64(7), object(1)\n",
      "memory usage: 256.0+ bytes\n"
     ]
    }
   ],
   "source": [
    "##Получим информацию с таблицы \"Tariffs\" методом info\n",
    "tariffs.info()"
   ]
  },
  {
   "cell_type": "markdown",
   "metadata": {},
   "source": [
    "***Таблица tariffs (информация о тарифах):\n",
    "<br> tariff_name — название тарифа\n",
    "<br> rub_monthly_fee — ежемесячная абонентская плата в рублях\n",
    "<br> minutes_included — количество минут разговора в месяц, включённых в абонентскую плату\n",
    "<br> messages_included — количество сообщений в месяц, включённых в абонентскую плату\n",
    "<br> mb_per_month_included — объём интернет-трафика, включённого в абонентскую плату (в мегабайтах)\n",
    "<br> rub_per_minute — стоимость минуты разговора сверх тарифного пакета (например, если в тарифе 100 минут разговора в месяц, то со 101 минуты будет взиматься плата)\n",
    "<br> rub_per_message — стоимость отправки сообщения сверх тарифного пакета\n",
    "<br> rub_per_gb — стоимость дополнительного гигабайта интернет-трафика сверх тарифного пакета (1 гигабайт = 1024 мегабайта)***"
   ]
  },
  {
   "cell_type": "code",
   "execution_count": 25,
   "metadata": {},
   "outputs": [],
   "source": [
    "# Поменяем имя одного столбца\n",
    "tariffs = tariffs.rename(columns={'tariff_name': 'tariff'})"
   ]
  },
  {
   "cell_type": "code",
   "execution_count": 26,
   "metadata": {},
   "outputs": [
    {
     "data": {
      "text/html": [
       "<div>\n",
       "<style scoped>\n",
       "    .dataframe tbody tr th:only-of-type {\n",
       "        vertical-align: middle;\n",
       "    }\n",
       "\n",
       "    .dataframe tbody tr th {\n",
       "        vertical-align: top;\n",
       "    }\n",
       "\n",
       "    .dataframe thead th {\n",
       "        text-align: right;\n",
       "    }\n",
       "</style>\n",
       "<table border=\"1\" class=\"dataframe\">\n",
       "  <thead>\n",
       "    <tr style=\"text-align: right;\">\n",
       "      <th></th>\n",
       "      <th>messages_included</th>\n",
       "      <th>mb_per_month_included</th>\n",
       "      <th>minutes_included</th>\n",
       "      <th>rub_monthly_fee</th>\n",
       "      <th>rub_per_gb</th>\n",
       "      <th>rub_per_message</th>\n",
       "      <th>rub_per_minute</th>\n",
       "      <th>tariff</th>\n",
       "    </tr>\n",
       "  </thead>\n",
       "  <tbody>\n",
       "    <tr>\n",
       "      <td>0</td>\n",
       "      <td>50</td>\n",
       "      <td>15360</td>\n",
       "      <td>500</td>\n",
       "      <td>550</td>\n",
       "      <td>200</td>\n",
       "      <td>3</td>\n",
       "      <td>3</td>\n",
       "      <td>smart</td>\n",
       "    </tr>\n",
       "    <tr>\n",
       "      <td>1</td>\n",
       "      <td>1000</td>\n",
       "      <td>30720</td>\n",
       "      <td>3000</td>\n",
       "      <td>1950</td>\n",
       "      <td>150</td>\n",
       "      <td>1</td>\n",
       "      <td>1</td>\n",
       "      <td>ultra</td>\n",
       "    </tr>\n",
       "  </tbody>\n",
       "</table>\n",
       "</div>"
      ],
      "text/plain": [
       "   messages_included  mb_per_month_included  minutes_included  \\\n",
       "0                 50                  15360               500   \n",
       "1               1000                  30720              3000   \n",
       "\n",
       "   rub_monthly_fee  rub_per_gb  rub_per_message  rub_per_minute tariff  \n",
       "0              550         200                3               3  smart  \n",
       "1             1950         150                1               1  ultra  "
      ]
     },
     "execution_count": 26,
     "metadata": {},
     "output_type": "execute_result"
    }
   ],
   "source": [
    "#Выведем первые пять строк таблицы \"Tariffs\"\n",
    "tariffs.head()"
   ]
  },
  {
   "cell_type": "code",
   "execution_count": 27,
   "metadata": {},
   "outputs": [
    {
     "data": {
      "text/plain": [
       "Index(['messages_included', 'mb_per_month_included', 'minutes_included',\n",
       "       'rub_monthly_fee', 'rub_per_gb', 'rub_per_message', 'rub_per_minute',\n",
       "       'tariff'],\n",
       "      dtype='object')"
      ]
     },
     "execution_count": 27,
     "metadata": {},
     "output_type": "execute_result"
    }
   ],
   "source": [
    "#Посмотрим на столбцы из таблицы \"Tariffs\"\n",
    "tariffs.columns"
   ]
  },
  {
   "cell_type": "code",
   "execution_count": 28,
   "metadata": {},
   "outputs": [
    {
     "data": {
      "text/plain": [
       "messages_included        0\n",
       "mb_per_month_included    0\n",
       "minutes_included         0\n",
       "rub_monthly_fee          0\n",
       "rub_per_gb               0\n",
       "rub_per_message          0\n",
       "rub_per_minute           0\n",
       "tariff                   0\n",
       "dtype: int64"
      ]
     },
     "execution_count": 28,
     "metadata": {},
     "output_type": "execute_result"
    }
   ],
   "source": [
    "#Посчитаем количество пустых значений в таблице \"Tariffs\"\n",
    "tariffs.isnull().sum()"
   ]
  },
  {
   "cell_type": "code",
   "execution_count": 29,
   "metadata": {},
   "outputs": [
    {
     "data": {
      "text/plain": [
       "0"
      ]
     },
     "execution_count": 29,
     "metadata": {},
     "output_type": "execute_result"
    }
   ],
   "source": [
    "#Посчитаем количество дубликатов в таблице \"Tariffs\"\n",
    "tariffs.duplicated().sum()"
   ]
  },
  {
   "cell_type": "markdown",
   "metadata": {},
   "source": [
    "***Вывод по таблице Tariffs:***\n",
    "<br> Типы данных указаны верно. Изменять ничего не нужно\n",
    "<br> Пустых значений и дубликатов не имеется"
   ]
  },
  {
   "cell_type": "markdown",
   "metadata": {},
   "source": [
    "#### Изучим датасет Users"
   ]
  },
  {
   "cell_type": "code",
   "execution_count": 30,
   "metadata": {},
   "outputs": [
    {
     "name": "stdout",
     "output_type": "stream",
     "text": [
      "<class 'pandas.core.frame.DataFrame'>\n",
      "RangeIndex: 500 entries, 0 to 499\n",
      "Data columns (total 8 columns):\n",
      "user_id       500 non-null int64\n",
      "age           500 non-null int64\n",
      "churn_date    38 non-null object\n",
      "city          500 non-null object\n",
      "first_name    500 non-null object\n",
      "last_name     500 non-null object\n",
      "reg_date      500 non-null object\n",
      "tariff        500 non-null object\n",
      "dtypes: int64(2), object(6)\n",
      "memory usage: 31.4+ KB\n"
     ]
    }
   ],
   "source": [
    "##Получим информацию с таблицы \"Users\" методом info\n",
    "users.info()"
   ]
  },
  {
   "cell_type": "markdown",
   "metadata": {},
   "source": [
    "***Таблица users (информация о пользователях):\n",
    "<br> user_id — уникальный идентификатор пользователя\n",
    "<br> first_name — имя пользователя\n",
    "<br> last_name — фамилия пользователя\n",
    "<br> age — возраст пользователя (годы)\n",
    "<br> reg_date — дата подключения тарифа (день, месяц, год)\n",
    "<br> churn_date — дата прекращения пользования тарифом (если значение пропущено, то тариф ещё действовал на момент выгрузки данных)\n",
    "<br> city — город проживания пользователя\n",
    "<br> tariff — название тарифного плана***"
   ]
  },
  {
   "cell_type": "code",
   "execution_count": 31,
   "metadata": {},
   "outputs": [
    {
     "data": {
      "text/html": [
       "<div>\n",
       "<style scoped>\n",
       "    .dataframe tbody tr th:only-of-type {\n",
       "        vertical-align: middle;\n",
       "    }\n",
       "\n",
       "    .dataframe tbody tr th {\n",
       "        vertical-align: top;\n",
       "    }\n",
       "\n",
       "    .dataframe thead th {\n",
       "        text-align: right;\n",
       "    }\n",
       "</style>\n",
       "<table border=\"1\" class=\"dataframe\">\n",
       "  <thead>\n",
       "    <tr style=\"text-align: right;\">\n",
       "      <th></th>\n",
       "      <th>user_id</th>\n",
       "      <th>age</th>\n",
       "      <th>churn_date</th>\n",
       "      <th>city</th>\n",
       "      <th>first_name</th>\n",
       "      <th>last_name</th>\n",
       "      <th>reg_date</th>\n",
       "      <th>tariff</th>\n",
       "    </tr>\n",
       "  </thead>\n",
       "  <tbody>\n",
       "    <tr>\n",
       "      <td>0</td>\n",
       "      <td>1000</td>\n",
       "      <td>52</td>\n",
       "      <td>NaN</td>\n",
       "      <td>Краснодар</td>\n",
       "      <td>Рафаил</td>\n",
       "      <td>Верещагин</td>\n",
       "      <td>2018-05-25</td>\n",
       "      <td>ultra</td>\n",
       "    </tr>\n",
       "    <tr>\n",
       "      <td>1</td>\n",
       "      <td>1001</td>\n",
       "      <td>41</td>\n",
       "      <td>NaN</td>\n",
       "      <td>Москва</td>\n",
       "      <td>Иван</td>\n",
       "      <td>Ежов</td>\n",
       "      <td>2018-11-01</td>\n",
       "      <td>smart</td>\n",
       "    </tr>\n",
       "    <tr>\n",
       "      <td>2</td>\n",
       "      <td>1002</td>\n",
       "      <td>59</td>\n",
       "      <td>NaN</td>\n",
       "      <td>Стерлитамак</td>\n",
       "      <td>Евгений</td>\n",
       "      <td>Абрамович</td>\n",
       "      <td>2018-06-17</td>\n",
       "      <td>smart</td>\n",
       "    </tr>\n",
       "    <tr>\n",
       "      <td>3</td>\n",
       "      <td>1003</td>\n",
       "      <td>23</td>\n",
       "      <td>NaN</td>\n",
       "      <td>Москва</td>\n",
       "      <td>Белла</td>\n",
       "      <td>Белякова</td>\n",
       "      <td>2018-08-17</td>\n",
       "      <td>ultra</td>\n",
       "    </tr>\n",
       "    <tr>\n",
       "      <td>4</td>\n",
       "      <td>1004</td>\n",
       "      <td>68</td>\n",
       "      <td>NaN</td>\n",
       "      <td>Новокузнецк</td>\n",
       "      <td>Татьяна</td>\n",
       "      <td>Авдеенко</td>\n",
       "      <td>2018-05-14</td>\n",
       "      <td>ultra</td>\n",
       "    </tr>\n",
       "  </tbody>\n",
       "</table>\n",
       "</div>"
      ],
      "text/plain": [
       "   user_id  age churn_date         city first_name  last_name    reg_date  \\\n",
       "0     1000   52        NaN    Краснодар     Рафаил  Верещагин  2018-05-25   \n",
       "1     1001   41        NaN       Москва       Иван       Ежов  2018-11-01   \n",
       "2     1002   59        NaN  Стерлитамак    Евгений  Абрамович  2018-06-17   \n",
       "3     1003   23        NaN       Москва      Белла   Белякова  2018-08-17   \n",
       "4     1004   68        NaN  Новокузнецк    Татьяна   Авдеенко  2018-05-14   \n",
       "\n",
       "  tariff  \n",
       "0  ultra  \n",
       "1  smart  \n",
       "2  smart  \n",
       "3  ultra  \n",
       "4  ultra  "
      ]
     },
     "execution_count": 31,
     "metadata": {},
     "output_type": "execute_result"
    }
   ],
   "source": [
    "#Выведем первые пять строк таблицы \"Users\"\n",
    "users.head()"
   ]
  },
  {
   "cell_type": "code",
   "execution_count": 32,
   "metadata": {},
   "outputs": [
    {
     "data": {
      "text/plain": [
       "Index(['user_id', 'age', 'churn_date', 'city', 'first_name', 'last_name',\n",
       "       'reg_date', 'tariff'],\n",
       "      dtype='object')"
      ]
     },
     "execution_count": 32,
     "metadata": {},
     "output_type": "execute_result"
    }
   ],
   "source": [
    "#Посмотрим на столбцы таблицы \"Users\"\n",
    "users.columns"
   ]
  },
  {
   "cell_type": "markdown",
   "metadata": {},
   "source": [
    "Более подробно изучим данные в столбцах таблицы Users"
   ]
  },
  {
   "cell_type": "code",
   "execution_count": 33,
   "metadata": {},
   "outputs": [
    {
     "data": {
      "text/plain": [
       "53    14\n",
       "42    14\n",
       "63    13\n",
       "71    13\n",
       "64    13\n",
       "73    12\n",
       "21    12\n",
       "40    12\n",
       "39    11\n",
       "47    11\n",
       "29    11\n",
       "26    11\n",
       "37    11\n",
       "41    10\n",
       "36    10\n",
       "58    10\n",
       "45    10\n",
       "70    10\n",
       "52    10\n",
       "51     9\n",
       "27     9\n",
       "48     9\n",
       "50     9\n",
       "28     9\n",
       "30     9\n",
       "24     9\n",
       "20     9\n",
       "19     9\n",
       "56     9\n",
       "23     9\n",
       "68     9\n",
       "66     9\n",
       "65     9\n",
       "69     8\n",
       "62     8\n",
       "60     8\n",
       "44     8\n",
       "55     8\n",
       "25     7\n",
       "43     7\n",
       "67     7\n",
       "35     7\n",
       "74     7\n",
       "32     7\n",
       "31     7\n",
       "46     7\n",
       "75     6\n",
       "54     6\n",
       "59     6\n",
       "18     6\n",
       "33     5\n",
       "34     5\n",
       "38     5\n",
       "22     5\n",
       "72     5\n",
       "49     4\n",
       "57     4\n",
       "61     3\n",
       "Name: age, dtype: int64"
      ]
     },
     "execution_count": 33,
     "metadata": {},
     "output_type": "execute_result"
    }
   ],
   "source": [
    "#Посмотрим на имеющиеся данные о возрасте. Сделаем выборку по количеству повторяющихся значений в столбце age (возраст)\n",
    "# в порядке убывания\n",
    "users['age'].value_counts()"
   ]
  },
  {
   "cell_type": "code",
   "execution_count": 34,
   "metadata": {},
   "outputs": [
    {
     "data": {
      "text/plain": [
       "smart    351\n",
       "ultra    149\n",
       "Name: tariff, dtype: int64"
      ]
     },
     "execution_count": 34,
     "metadata": {},
     "output_type": "execute_result"
    }
   ],
   "source": [
    "#Посмотрим сколько пользователей какого тарифа мы имеем\n",
    "users['tariff'].value_counts()"
   ]
  },
  {
   "cell_type": "code",
   "execution_count": 35,
   "metadata": {},
   "outputs": [
    {
     "data": {
      "text/plain": [
       "Радим       6\n",
       "Леонид      5\n",
       "Пётр        5\n",
       "Всеволод    4\n",
       "Алиса       4\n",
       "           ..\n",
       "Варлам      1\n",
       "Руслана     1\n",
       "Луиза       1\n",
       "Глеб        1\n",
       "Фаддей      1\n",
       "Name: first_name, Length: 246, dtype: int64"
      ]
     },
     "execution_count": 35,
     "metadata": {},
     "output_type": "execute_result"
    }
   ],
   "source": [
    "#Посмотрим на столбец first_name. Сделаем выборку по количеству повторяющихся значений в столбце first_name (имя пользователя)\n",
    "# в порядке убывания\n",
    "users['first_name'].value_counts()"
   ]
  },
  {
   "cell_type": "code",
   "execution_count": 36,
   "metadata": {},
   "outputs": [
    {
     "data": {
      "text/plain": [
       "Андреенко     5\n",
       "Аркадьев      3\n",
       "Абашкина      3\n",
       "Березина      3\n",
       "Озерова       3\n",
       "             ..\n",
       "Тихомирова    1\n",
       "Акимчин       1\n",
       "Игнатьев      1\n",
       "Абрашина      1\n",
       "Синицын       1\n",
       "Name: last_name, Length: 419, dtype: int64"
      ]
     },
     "execution_count": 36,
     "metadata": {},
     "output_type": "execute_result"
    }
   ],
   "source": [
    "#Посмотрим на столбец last_name. Сделаем выборку по количеству повторяющихся значений в столбце last_name (фамилия пользователя)\n",
    "# в порядке убывания\n",
    "users['last_name'].value_counts()"
   ]
  },
  {
   "cell_type": "code",
   "execution_count": 37,
   "metadata": {},
   "outputs": [
    {
     "data": {
      "text/plain": [
       "Москва             99\n",
       "Санкт-Петербург    39\n",
       "Новосибирск        16\n",
       "Омск               14\n",
       "Казань             14\n",
       "                   ..\n",
       "Подольск            1\n",
       "Архангельск         1\n",
       "Нижневартовск       1\n",
       "Иваново             1\n",
       "Химки               1\n",
       "Name: city, Length: 76, dtype: int64"
      ]
     },
     "execution_count": 37,
     "metadata": {},
     "output_type": "execute_result"
    }
   ],
   "source": [
    "#Посмотрим на столбец city. Сделаем выборку по количеству повторяющихся значений в столбце city (город проживания пользователя)\n",
    "# в порядке убывания\n",
    "users['city'].value_counts()"
   ]
  },
  {
   "cell_type": "code",
   "execution_count": 38,
   "metadata": {},
   "outputs": [
    {
     "data": {
      "text/plain": [
       "user_id         0\n",
       "age             0\n",
       "churn_date    462\n",
       "city            0\n",
       "first_name      0\n",
       "last_name       0\n",
       "reg_date        0\n",
       "tariff          0\n",
       "dtype: int64"
      ]
     },
     "execution_count": 38,
     "metadata": {},
     "output_type": "execute_result"
    }
   ],
   "source": [
    "#Посчитаем количество пустых значений в таблице \"users\"\n",
    "users.isnull().sum()"
   ]
  },
  {
   "cell_type": "markdown",
   "metadata": {},
   "source": [
    "Users - это дата с информацией о пользователях. Состоит из 8 столбцов и 500 строк. Пропущенные значения есть. У столбца churn_date есть 462 пропуска.Это столбец с датой прекращения пользования тарифом (если значение пропущено, то тариф ещё действовал на момент выгрузки данных). Вполследствии можно заменить на 0."
   ]
  },
  {
   "cell_type": "code",
   "execution_count": 39,
   "metadata": {},
   "outputs": [
    {
     "data": {
      "text/plain": [
       "2018-12-03    2\n",
       "2018-12-09    2\n",
       "2018-10-03    2\n",
       "2018-12-21    2\n",
       "2018-10-14    2\n",
       "2018-09-02    1\n",
       "2018-11-30    1\n",
       "2018-12-24    1\n",
       "2018-12-30    1\n",
       "2018-11-21    1\n",
       "2018-12-26    1\n",
       "2018-11-16    1\n",
       "2018-11-26    1\n",
       "2018-10-04    1\n",
       "2018-10-28    1\n",
       "2018-11-22    1\n",
       "2018-11-07    1\n",
       "2018-12-14    1\n",
       "2018-11-13    1\n",
       "2018-12-16    1\n",
       "2018-08-31    1\n",
       "2018-09-27    1\n",
       "2018-10-25    1\n",
       "2018-10-27    1\n",
       "2018-08-17    1\n",
       "2018-12-20    1\n",
       "2018-12-23    1\n",
       "2018-11-27    1\n",
       "2018-12-11    1\n",
       "2018-09-26    1\n",
       "2018-12-25    1\n",
       "2018-10-05    1\n",
       "2018-12-18    1\n",
       "Name: churn_date, dtype: int64"
      ]
     },
     "execution_count": 39,
     "metadata": {},
     "output_type": "execute_result"
    }
   ],
   "source": [
    "users['churn_date'].value_counts()"
   ]
  },
  {
   "cell_type": "code",
   "execution_count": 40,
   "metadata": {},
   "outputs": [
    {
     "data": {
      "text/plain": [
       "2018-05-28    8\n",
       "2018-04-03    5\n",
       "2018-01-04    5\n",
       "2018-10-05    5\n",
       "2018-07-16    5\n",
       "             ..\n",
       "2018-07-01    1\n",
       "2018-01-17    1\n",
       "2018-11-27    1\n",
       "2018-04-08    1\n",
       "2018-08-31    1\n",
       "Name: reg_date, Length: 270, dtype: int64"
      ]
     },
     "execution_count": 40,
     "metadata": {},
     "output_type": "execute_result"
    }
   ],
   "source": [
    "users['reg_date'].value_counts()"
   ]
  },
  {
   "cell_type": "code",
   "execution_count": 41,
   "metadata": {},
   "outputs": [
    {
     "data": {
      "text/plain": [
       "0"
      ]
     },
     "execution_count": 41,
     "metadata": {},
     "output_type": "execute_result"
    }
   ],
   "source": [
    "#Посчитаем количество дубликатов таблицы \"Users\"\n",
    "users.duplicated().sum()"
   ]
  },
  {
   "cell_type": "markdown",
   "metadata": {},
   "source": [
    "***Вывод по таблице Users:***\n",
    "<br> Изменить типы данных в : churn_date, reg_date,\n",
    "<br> Имеются пустые значения в столбце churn_date.\n",
    "<br> Дубликатов нет."
   ]
  },
  {
   "cell_type": "markdown",
   "metadata": {},
   "source": [
    "***Вывод по шагу №1:***\n",
    "<br> Нам доступны данные 500 пользователей, 462 из которых все еще пользуются тарифом:\n",
    "<br> 351 – Смарт\n",
    "<br> 149 – Ультра\n",
    "<br> Проблема 1 с таблицей calls: в duration нужно обработать 0 значения, с округлением в большую сторону (т.к. по условию 1 секунда разговора = целой минуте);\n",
    "<br> Проблема 2 с таблицей calls: поменять формат времени call_date на datetime;\n",
    "<br> Проблемы 3 с таблицей internet: в mb_used нужно обработать 0 значения, исправить формат времени session_date на datetime;\n",
    "<br> Проблемы 4 с таблицей messages: поменять формат времени message_date на datetime;\n",
    "<br> Проблемы 5 с таблицей users: обработать столбец churn_date (из условия если значение пропущено, то тариф ещё действовал на момент выгрузки данных). Также сделать user_id index'ом этой таблицы."
   ]
  },
  {
   "cell_type": "markdown",
   "metadata": {},
   "source": [
    "## Шаг 2. Предобработка данных"
   ]
  },
  {
   "cell_type": "markdown",
   "metadata": {},
   "source": [
    "### Восстановим пропуски"
   ]
  },
  {
   "cell_type": "code",
   "execution_count": 42,
   "metadata": {},
   "outputs": [],
   "source": [
    "# Звонки\n",
    "calls['duration'] = calls['duration'].apply(np.ceil)\n",
    "calls.loc[calls['duration'] == 0 ,'duration'] = 1\n",
    "# Интернет-сессии\n",
    "internet['mb_used'] = internet['mb_used'].apply(np.ceil)"
   ]
  },
  {
   "cell_type": "code",
   "execution_count": 43,
   "metadata": {},
   "outputs": [],
   "source": [
    "dtformat = '%Y-%m-%d'\n",
    "\n",
    "def to_datetime(df, columns):\n",
    "    for col in columns:\n",
    "        df[col] = pd.to_datetime(df[col], format=dtformat)\n",
    "\n",
    "# Даты\n",
    "to_datetime(users, ['reg_date', 'churn_date'])\n",
    "to_datetime(calls, ['call_date'])\n",
    "to_datetime(messages, ['message_date'])\n",
    "to_datetime(internet, ['session_date'])\n",
    "# Минуты и мегабайты\n",
    "calls['duration'] = calls['duration'].astype('int64')\n",
    "internet['mb_used'] = internet['mb_used'].astype('int64')"
   ]
  },
  {
   "cell_type": "code",
   "execution_count": 44,
   "metadata": {},
   "outputs": [
    {
     "name": "stdout",
     "output_type": "stream",
     "text": [
      "<class 'pandas.core.frame.DataFrame'>\n",
      "RangeIndex: 500 entries, 0 to 499\n",
      "Data columns (total 8 columns):\n",
      "user_id       500 non-null int64\n",
      "age           500 non-null int64\n",
      "churn_date    38 non-null datetime64[ns]\n",
      "city          500 non-null object\n",
      "first_name    500 non-null object\n",
      "last_name     500 non-null object\n",
      "reg_date      500 non-null datetime64[ns]\n",
      "tariff        500 non-null object\n",
      "dtypes: datetime64[ns](2), int64(2), object(4)\n",
      "memory usage: 31.4+ KB\n"
     ]
    }
   ],
   "source": [
    "users.info()"
   ]
  },
  {
   "cell_type": "code",
   "execution_count": 45,
   "metadata": {},
   "outputs": [
    {
     "name": "stdout",
     "output_type": "stream",
     "text": [
      "<class 'pandas.core.frame.DataFrame'>\n",
      "RangeIndex: 202607 entries, 0 to 202606\n",
      "Data columns (total 4 columns):\n",
      "id           202607 non-null object\n",
      "call_date    202607 non-null datetime64[ns]\n",
      "duration     202607 non-null int64\n",
      "user_id      202607 non-null int64\n",
      "dtypes: datetime64[ns](1), int64(2), object(1)\n",
      "memory usage: 6.2+ MB\n"
     ]
    }
   ],
   "source": [
    "calls.info()"
   ]
  },
  {
   "cell_type": "code",
   "execution_count": 46,
   "metadata": {},
   "outputs": [
    {
     "name": "stdout",
     "output_type": "stream",
     "text": [
      "<class 'pandas.core.frame.DataFrame'>\n",
      "RangeIndex: 123036 entries, 0 to 123035\n",
      "Data columns (total 3 columns):\n",
      "id              123036 non-null object\n",
      "message_date    123036 non-null datetime64[ns]\n",
      "user_id         123036 non-null int64\n",
      "dtypes: datetime64[ns](1), int64(1), object(1)\n",
      "memory usage: 2.8+ MB\n"
     ]
    }
   ],
   "source": [
    "messages.info()"
   ]
  },
  {
   "cell_type": "code",
   "execution_count": 47,
   "metadata": {},
   "outputs": [
    {
     "name": "stdout",
     "output_type": "stream",
     "text": [
      "<class 'pandas.core.frame.DataFrame'>\n",
      "Int64Index: 149396 entries, 0 to 149395\n",
      "Data columns (total 4 columns):\n",
      "id              149396 non-null object\n",
      "mb_used         149396 non-null int64\n",
      "session_date    149396 non-null datetime64[ns]\n",
      "user_id         149396 non-null int64\n",
      "dtypes: datetime64[ns](1), int64(2), object(1)\n",
      "memory usage: 5.7+ MB\n"
     ]
    }
   ],
   "source": [
    "internet.info()"
   ]
  },
  {
   "cell_type": "markdown",
   "metadata": {},
   "source": [
    "Посчитаем значения, необходимые для анализа каждого пользователя"
   ]
  },
  {
   "cell_type": "code",
   "execution_count": 48,
   "metadata": {},
   "outputs": [],
   "source": [
    "users_costs = pd.DataFrame()"
   ]
  },
  {
   "cell_type": "code",
   "execution_count": 49,
   "metadata": {},
   "outputs": [
    {
     "name": "stdout",
     "output_type": "stream",
     "text": [
      "2018-01-01 00:00:00 2018-12-31 00:00:00\n",
      "2018-01-01 00:00:00 2018-12-31 00:00:00\n",
      "2018-01-02 00:00:00 2018-12-31 00:00:00\n",
      "2018-01-01 00:00:00 2018-12-31 00:00:00\n"
     ]
    }
   ],
   "source": [
    "print(users['reg_date'].min(), users['reg_date'].max())\n",
    "print(calls['call_date'].min(), calls['call_date'].max())\n",
    "print(messages['message_date'].min(), messages['message_date'].max())\n",
    "print(internet['session_date'].min(), internet['session_date'].max())"
   ]
  },
  {
   "cell_type": "markdown",
   "metadata": {},
   "source": [
    "По данным получается что охватывается весь 2018 год. Значит рассматриваемый период - 12 месяцев."
   ]
  },
  {
   "cell_type": "code",
   "execution_count": 50,
   "metadata": {},
   "outputs": [],
   "source": [
    "users_costs = pd.DataFrame().astype('datetime64[M]')"
   ]
  },
  {
   "cell_type": "markdown",
   "metadata": {},
   "source": [
    "Количество сделанных звонков и израсходованных минут разговора по месяцам"
   ]
  },
  {
   "cell_type": "code",
   "execution_count": 51,
   "metadata": {},
   "outputs": [
    {
     "name": "stdout",
     "output_type": "stream",
     "text": [
      "       id  call_date  duration  user_id  month\n",
      "0  1000_0 2018-07-25         1     1000      7\n",
      "1  1000_1 2018-08-17         1     1000      8\n",
      "2  1000_2 2018-06-11         3     1000      6\n",
      "3  1000_3 2018-09-21        14     1000      9\n",
      "4  1000_4 2018-12-15         6     1000     12\n"
     ]
    }
   ],
   "source": [
    "calls['month'] = pd.DatetimeIndex(calls['call_date']).month\n",
    "\n",
    "calls_in_month = calls.pivot_table(\n",
    "    index=['month', 'user_id'],\n",
    "    values='duration',\n",
    "    aggfunc=['count', 'sum']\n",
    ")\n",
    "\n",
    "temp = pd.DataFrame(calls_in_month.to_records())\n",
    "\n",
    "users_costs['user_id'] = temp['user_id']\n",
    "users_costs['month']   = temp['month']\n",
    "users_costs['calls']   = temp.iloc[:, 2]\n",
    "users_costs['minutes'] = temp.iloc[:, 3]\n",
    "print(calls.head())"
   ]
  },
  {
   "cell_type": "markdown",
   "metadata": {},
   "source": [
    "Количество отправленных сообщений по месяцам"
   ]
  },
  {
   "cell_type": "code",
   "execution_count": 52,
   "metadata": {},
   "outputs": [
    {
     "name": "stdout",
     "output_type": "stream",
     "text": [
      "       id message_date  user_id  month\n",
      "0  1000_0   2018-06-27     1000      6\n",
      "1  1000_1   2018-10-08     1000     10\n",
      "2  1000_2   2018-08-04     1000      8\n",
      "3  1000_3   2018-06-16     1000      6\n",
      "4  1000_4   2018-12-05     1000     12\n"
     ]
    }
   ],
   "source": [
    "messages['month'] = pd.DatetimeIndex(messages['message_date']).month\n",
    "\n",
    "messages_in_month = messages.pivot_table(\n",
    "    index=['month', 'user_id'],\n",
    "    values='id',\n",
    "    aggfunc='count'\n",
    ")\n",
    "\n",
    "temp = pd.DataFrame(messages_in_month.to_records()).rename(columns={'id': 'messages'})\n",
    "\n",
    "users_costs = users_costs.merge(temp, on=['user_id', 'month'], how='outer')\n",
    "print(messages.head())"
   ]
  },
  {
   "cell_type": "markdown",
   "metadata": {},
   "source": [
    "Объем израсходованного интернет-трафика по месяцам"
   ]
  },
  {
   "cell_type": "code",
   "execution_count": 53,
   "metadata": {},
   "outputs": [
    {
     "name": "stdout",
     "output_type": "stream",
     "text": [
      "       id  mb_used session_date  user_id  month\n",
      "0  1000_0      113   2018-11-25     1000     11\n",
      "1  1000_1     1053   2018-09-07     1000      9\n",
      "2  1000_2     1198   2018-06-25     1000      6\n",
      "3  1000_3      551   2018-08-22     1000      8\n",
      "4  1000_4      303   2018-09-24     1000      9\n"
     ]
    }
   ],
   "source": [
    "internet['month'] = pd.DatetimeIndex(internet['session_date']).month\n",
    "\n",
    "internet_in_month = internet.pivot_table(\n",
    "    index=['month', 'user_id'],\n",
    "    values='mb_used',\n",
    "    aggfunc='sum'\n",
    ")\n",
    "\n",
    "temp = pd.DataFrame(internet_in_month.to_records())\n",
    "\n",
    "users_costs = users_costs.merge(temp, on=['user_id', 'month'], how='outer')\n",
    "print(internet.head())"
   ]
  },
  {
   "cell_type": "code",
   "execution_count": 54,
   "metadata": {},
   "outputs": [
    {
     "name": "stdout",
     "output_type": "stream",
     "text": [
      "<class 'pandas.core.frame.DataFrame'>\n",
      "Int64Index: 3214 entries, 0 to 3213\n",
      "Data columns (total 6 columns):\n",
      "user_id     3214 non-null int64\n",
      "month       3214 non-null int64\n",
      "calls       3174 non-null float64\n",
      "minutes     3174 non-null float64\n",
      "messages    2717 non-null float64\n",
      "mb_used     3203 non-null float64\n",
      "dtypes: float64(4), int64(2)\n",
      "memory usage: 175.8 KB\n"
     ]
    }
   ],
   "source": [
    "users_costs.info()"
   ]
  },
  {
   "cell_type": "markdown",
   "metadata": {},
   "source": [
    "***Вывод по шагу 2.1:***\n",
    "<br> В одном датафрейме собрал информацию по пользователям в разрезе месяцев:\n",
    "<br> * количество сделанных звонков и израсходованных минут разговора;\n",
    "<br> * количество отправленных сообщений;\n",
    "<br> * объем израсходованного интернет-трафика в мегабайтах."
   ]
  },
  {
   "cell_type": "markdown",
   "metadata": {},
   "source": [
    "### Замена пропусков"
   ]
  },
  {
   "cell_type": "markdown",
   "metadata": {},
   "source": [
    "После формирования датафрейма по месяцам появились пропуски. Некоторые пользователи в некоторые месяцы пользовались не всеми услугами. Например, кто-то только мобильным интернетом. Заполним пропуски нулями и позже посмотрим на распределение."
   ]
  },
  {
   "cell_type": "code",
   "execution_count": 55,
   "metadata": {},
   "outputs": [],
   "source": [
    "na_features = ['calls', 'minutes', 'messages', 'mb_used']\n",
    "\n",
    "for f in na_features:\n",
    "    # При соединении датафреймов Pandas привел типы к float64 из-за пропусков,поэтому приведем их к int64\n",
    "    users_costs[f] = users_costs[f].fillna(0).astype('int64')"
   ]
  },
  {
   "cell_type": "code",
   "execution_count": 56,
   "metadata": {},
   "outputs": [
    {
     "name": "stdout",
     "output_type": "stream",
     "text": [
      "<class 'pandas.core.frame.DataFrame'>\n",
      "Int64Index: 3214 entries, 0 to 3213\n",
      "Data columns (total 6 columns):\n",
      "user_id     3214 non-null int64\n",
      "month       3214 non-null int64\n",
      "calls       3214 non-null int64\n",
      "minutes     3214 non-null int64\n",
      "messages    3214 non-null int64\n",
      "mb_used     3214 non-null int64\n",
      "dtypes: int64(6)\n",
      "memory usage: 175.8 KB\n"
     ]
    }
   ],
   "source": [
    "users_costs.info()"
   ]
  },
  {
   "cell_type": "code",
   "execution_count": 57,
   "metadata": {},
   "outputs": [
    {
     "data": {
      "text/html": [
       "<div>\n",
       "<style scoped>\n",
       "    .dataframe tbody tr th:only-of-type {\n",
       "        vertical-align: middle;\n",
       "    }\n",
       "\n",
       "    .dataframe tbody tr th {\n",
       "        vertical-align: top;\n",
       "    }\n",
       "\n",
       "    .dataframe thead th {\n",
       "        text-align: right;\n",
       "    }\n",
       "</style>\n",
       "<table border=\"1\" class=\"dataframe\">\n",
       "  <thead>\n",
       "    <tr style=\"text-align: right;\">\n",
       "      <th></th>\n",
       "      <th>user_id</th>\n",
       "      <th>month</th>\n",
       "      <th>calls</th>\n",
       "      <th>minutes</th>\n",
       "      <th>messages</th>\n",
       "      <th>mb_used</th>\n",
       "    </tr>\n",
       "  </thead>\n",
       "  <tbody>\n",
       "    <tr>\n",
       "      <td>0</td>\n",
       "      <td>1005</td>\n",
       "      <td>1</td>\n",
       "      <td>15</td>\n",
       "      <td>99</td>\n",
       "      <td>7</td>\n",
       "      <td>2730</td>\n",
       "    </tr>\n",
       "    <tr>\n",
       "      <td>1</td>\n",
       "      <td>1032</td>\n",
       "      <td>1</td>\n",
       "      <td>61</td>\n",
       "      <td>397</td>\n",
       "      <td>38</td>\n",
       "      <td>24147</td>\n",
       "    </tr>\n",
       "    <tr>\n",
       "      <td>2</td>\n",
       "      <td>1045</td>\n",
       "      <td>1</td>\n",
       "      <td>1</td>\n",
       "      <td>9</td>\n",
       "      <td>5</td>\n",
       "      <td>2348</td>\n",
       "    </tr>\n",
       "    <tr>\n",
       "      <td>3</td>\n",
       "      <td>1055</td>\n",
       "      <td>1</td>\n",
       "      <td>64</td>\n",
       "      <td>568</td>\n",
       "      <td>30</td>\n",
       "      <td>17111</td>\n",
       "    </tr>\n",
       "    <tr>\n",
       "      <td>4</td>\n",
       "      <td>1071</td>\n",
       "      <td>1</td>\n",
       "      <td>24</td>\n",
       "      <td>200</td>\n",
       "      <td>16</td>\n",
       "      <td>15622</td>\n",
       "    </tr>\n",
       "  </tbody>\n",
       "</table>\n",
       "</div>"
      ],
      "text/plain": [
       "   user_id  month  calls  minutes  messages  mb_used\n",
       "0     1005      1     15       99         7     2730\n",
       "1     1032      1     61      397        38    24147\n",
       "2     1045      1      1        9         5     2348\n",
       "3     1055      1     64      568        30    17111\n",
       "4     1071      1     24      200        16    15622"
      ]
     },
     "execution_count": 57,
     "metadata": {},
     "output_type": "execute_result"
    }
   ],
   "source": [
    "users_costs.head()"
   ]
  },
  {
   "cell_type": "markdown",
   "metadata": {},
   "source": [
    "***Вывод по шагу 2.2:***\n",
    "<br> Убрал пропуски, изменил тип данных."
   ]
  },
  {
   "cell_type": "markdown",
   "metadata": {},
   "source": [
    "### Помесячная выручка с каждого пользователя"
   ]
  },
  {
   "cell_type": "code",
   "execution_count": 58,
   "metadata": {},
   "outputs": [],
   "source": [
    "# Добавим в датафрейм информацию о пользователях и тарифах\n",
    "users_costs = users_costs.merge(users, on='user_id', how='left').merge(tariffs, on='tariff', how='left')"
   ]
  },
  {
   "cell_type": "code",
   "execution_count": 59,
   "metadata": {},
   "outputs": [],
   "source": [
    "# Перерасход минут, сообщений и трафика посчитаем как разность между месячным значением и включенным в тариф\n",
    "users_costs['minutes_over']  = users_costs['minutes'] - users_costs['minutes_included']\n",
    "users_costs['messages_over'] = users_costs['messages'] - users_costs['messages_included']\n",
    "users_costs['mb_used_over']  = users_costs['mb_used'] - users_costs['mb_per_month_included']"
   ]
  },
  {
   "cell_type": "code",
   "execution_count": 60,
   "metadata": {},
   "outputs": [
    {
     "data": {
      "text/html": [
       "<div>\n",
       "<style scoped>\n",
       "    .dataframe tbody tr th:only-of-type {\n",
       "        vertical-align: middle;\n",
       "    }\n",
       "\n",
       "    .dataframe tbody tr th {\n",
       "        vertical-align: top;\n",
       "    }\n",
       "\n",
       "    .dataframe thead th {\n",
       "        text-align: right;\n",
       "    }\n",
       "</style>\n",
       "<table border=\"1\" class=\"dataframe\">\n",
       "  <thead>\n",
       "    <tr style=\"text-align: right;\">\n",
       "      <th></th>\n",
       "      <th>user_id</th>\n",
       "      <th>month</th>\n",
       "      <th>calls</th>\n",
       "      <th>minutes</th>\n",
       "      <th>messages</th>\n",
       "      <th>mb_used</th>\n",
       "      <th>age</th>\n",
       "      <th>churn_date</th>\n",
       "      <th>city</th>\n",
       "      <th>first_name</th>\n",
       "      <th>...</th>\n",
       "      <th>messages_included</th>\n",
       "      <th>mb_per_month_included</th>\n",
       "      <th>minutes_included</th>\n",
       "      <th>rub_monthly_fee</th>\n",
       "      <th>rub_per_gb</th>\n",
       "      <th>rub_per_message</th>\n",
       "      <th>rub_per_minute</th>\n",
       "      <th>minutes_over</th>\n",
       "      <th>messages_over</th>\n",
       "      <th>mb_used_over</th>\n",
       "    </tr>\n",
       "  </thead>\n",
       "  <tbody>\n",
       "    <tr>\n",
       "      <td>0</td>\n",
       "      <td>1005</td>\n",
       "      <td>1</td>\n",
       "      <td>15</td>\n",
       "      <td>99</td>\n",
       "      <td>7</td>\n",
       "      <td>2730</td>\n",
       "      <td>67</td>\n",
       "      <td>NaT</td>\n",
       "      <td>Набережные Челны</td>\n",
       "      <td>Афанасий</td>\n",
       "      <td>...</td>\n",
       "      <td>50</td>\n",
       "      <td>15360</td>\n",
       "      <td>500</td>\n",
       "      <td>550</td>\n",
       "      <td>200</td>\n",
       "      <td>3</td>\n",
       "      <td>3</td>\n",
       "      <td>-401</td>\n",
       "      <td>-43</td>\n",
       "      <td>-12630</td>\n",
       "    </tr>\n",
       "    <tr>\n",
       "      <td>1</td>\n",
       "      <td>1032</td>\n",
       "      <td>1</td>\n",
       "      <td>61</td>\n",
       "      <td>397</td>\n",
       "      <td>38</td>\n",
       "      <td>24147</td>\n",
       "      <td>31</td>\n",
       "      <td>NaT</td>\n",
       "      <td>Ульяновск</td>\n",
       "      <td>Инна</td>\n",
       "      <td>...</td>\n",
       "      <td>50</td>\n",
       "      <td>15360</td>\n",
       "      <td>500</td>\n",
       "      <td>550</td>\n",
       "      <td>200</td>\n",
       "      <td>3</td>\n",
       "      <td>3</td>\n",
       "      <td>-103</td>\n",
       "      <td>-12</td>\n",
       "      <td>8787</td>\n",
       "    </tr>\n",
       "    <tr>\n",
       "      <td>2</td>\n",
       "      <td>1045</td>\n",
       "      <td>1</td>\n",
       "      <td>1</td>\n",
       "      <td>9</td>\n",
       "      <td>5</td>\n",
       "      <td>2348</td>\n",
       "      <td>48</td>\n",
       "      <td>NaT</td>\n",
       "      <td>Улан-Удэ</td>\n",
       "      <td>Джемма</td>\n",
       "      <td>...</td>\n",
       "      <td>50</td>\n",
       "      <td>15360</td>\n",
       "      <td>500</td>\n",
       "      <td>550</td>\n",
       "      <td>200</td>\n",
       "      <td>3</td>\n",
       "      <td>3</td>\n",
       "      <td>-491</td>\n",
       "      <td>-45</td>\n",
       "      <td>-13012</td>\n",
       "    </tr>\n",
       "    <tr>\n",
       "      <td>3</td>\n",
       "      <td>1055</td>\n",
       "      <td>1</td>\n",
       "      <td>64</td>\n",
       "      <td>568</td>\n",
       "      <td>30</td>\n",
       "      <td>17111</td>\n",
       "      <td>39</td>\n",
       "      <td>NaT</td>\n",
       "      <td>Казань</td>\n",
       "      <td>Луиза</td>\n",
       "      <td>...</td>\n",
       "      <td>50</td>\n",
       "      <td>15360</td>\n",
       "      <td>500</td>\n",
       "      <td>550</td>\n",
       "      <td>200</td>\n",
       "      <td>3</td>\n",
       "      <td>3</td>\n",
       "      <td>68</td>\n",
       "      <td>-20</td>\n",
       "      <td>1751</td>\n",
       "    </tr>\n",
       "    <tr>\n",
       "      <td>4</td>\n",
       "      <td>1071</td>\n",
       "      <td>1</td>\n",
       "      <td>24</td>\n",
       "      <td>200</td>\n",
       "      <td>16</td>\n",
       "      <td>15622</td>\n",
       "      <td>20</td>\n",
       "      <td>2018-08-31</td>\n",
       "      <td>Омск</td>\n",
       "      <td>Гектор</td>\n",
       "      <td>...</td>\n",
       "      <td>50</td>\n",
       "      <td>15360</td>\n",
       "      <td>500</td>\n",
       "      <td>550</td>\n",
       "      <td>200</td>\n",
       "      <td>3</td>\n",
       "      <td>3</td>\n",
       "      <td>-300</td>\n",
       "      <td>-34</td>\n",
       "      <td>262</td>\n",
       "    </tr>\n",
       "  </tbody>\n",
       "</table>\n",
       "<p>5 rows × 23 columns</p>\n",
       "</div>"
      ],
      "text/plain": [
       "   user_id  month  calls  minutes  messages  mb_used  age churn_date  \\\n",
       "0     1005      1     15       99         7     2730   67        NaT   \n",
       "1     1032      1     61      397        38    24147   31        NaT   \n",
       "2     1045      1      1        9         5     2348   48        NaT   \n",
       "3     1055      1     64      568        30    17111   39        NaT   \n",
       "4     1071      1     24      200        16    15622   20 2018-08-31   \n",
       "\n",
       "               city first_name  ... messages_included mb_per_month_included  \\\n",
       "0  Набережные Челны   Афанасий  ...                50                 15360   \n",
       "1         Ульяновск       Инна  ...                50                 15360   \n",
       "2          Улан-Удэ     Джемма  ...                50                 15360   \n",
       "3            Казань      Луиза  ...                50                 15360   \n",
       "4              Омск     Гектор  ...                50                 15360   \n",
       "\n",
       "  minutes_included  rub_monthly_fee  rub_per_gb  rub_per_message  \\\n",
       "0              500              550         200                3   \n",
       "1              500              550         200                3   \n",
       "2              500              550         200                3   \n",
       "3              500              550         200                3   \n",
       "4              500              550         200                3   \n",
       "\n",
       "   rub_per_minute  minutes_over  messages_over  mb_used_over  \n",
       "0               3          -401            -43        -12630  \n",
       "1               3          -103            -12          8787  \n",
       "2               3          -491            -45        -13012  \n",
       "3               3            68            -20          1751  \n",
       "4               3          -300            -34           262  \n",
       "\n",
       "[5 rows x 23 columns]"
      ]
     },
     "execution_count": 60,
     "metadata": {},
     "output_type": "execute_result"
    }
   ],
   "source": [
    "users_costs.head()"
   ]
  },
  {
   "cell_type": "markdown",
   "metadata": {},
   "source": [
    "Положительные значения указывают на перерасход. Отрицательные на остаток в рамках тарифа."
   ]
  },
  {
   "cell_type": "code",
   "execution_count": 61,
   "metadata": {},
   "outputs": [],
   "source": [
    "def calc_monthly_finance(row):\n",
    "    \"\"\"\n",
    "    Вычтем бесплатный лимит из суммарного количества звонков, сообщений и интернет-трафика,\n",
    "    остаток умножим на значение из тарифного плана.\n",
    "    \"\"\"\n",
    "    \n",
    "    minutes_price = 0\n",
    "    messages_price = 0\n",
    "    mb_used_price = 0\n",
    "    \n",
    "    # стоимость дополнительных минут\n",
    "    if row['minutes_over'] > 0:\n",
    "        minutes_price = row['minutes_over'] * row['rub_per_minute']\n",
    "\n",
    "    # стоимость дополнительных сообщений\n",
    "    if row['messages_over'] > 0:\n",
    "        messages_price = row['messages_over'] * row['rub_per_message']\n",
    "\n",
    "    # стоимость дополнительного трафика\n",
    "    if row['mb_used_over'] > 0:\n",
    "        mb_used_price = (row['mb_used_over'] / 1024) * row['rub_per_gb']\n",
    "    \n",
    "    return minutes_price + messages_price + mb_used_price"
   ]
  },
  {
   "cell_type": "code",
   "execution_count": 62,
   "metadata": {},
   "outputs": [
    {
     "data": {
      "text/plain": [
       "'\\n    Вычтем бесплатный лимит из суммарного количества звонков, сообщений и интернет-трафика,\\n    остаток умножим на значение из тарифного плана.\\n    '"
      ]
     },
     "execution_count": 62,
     "metadata": {},
     "output_type": "execute_result"
    }
   ],
   "source": [
    "calc_monthly_finance.__doc__"
   ]
  },
  {
   "cell_type": "code",
   "execution_count": 63,
   "metadata": {},
   "outputs": [],
   "source": [
    "users_costs['rub_monthly_fee_over'] = users_costs.apply(calc_monthly_finance, axis=1)\n",
    "users_costs['rub_monthly_fee_total'] = users_costs['rub_monthly_fee'] + users_costs['rub_monthly_fee_over']"
   ]
  },
  {
   "cell_type": "code",
   "execution_count": 64,
   "metadata": {},
   "outputs": [
    {
     "data": {
      "text/html": [
       "<div>\n",
       "<style scoped>\n",
       "    .dataframe tbody tr th:only-of-type {\n",
       "        vertical-align: middle;\n",
       "    }\n",
       "\n",
       "    .dataframe tbody tr th {\n",
       "        vertical-align: top;\n",
       "    }\n",
       "\n",
       "    .dataframe thead th {\n",
       "        text-align: right;\n",
       "    }\n",
       "</style>\n",
       "<table border=\"1\" class=\"dataframe\">\n",
       "  <thead>\n",
       "    <tr style=\"text-align: right;\">\n",
       "      <th></th>\n",
       "      <th>user_id</th>\n",
       "      <th>month</th>\n",
       "      <th>calls</th>\n",
       "      <th>minutes</th>\n",
       "      <th>messages</th>\n",
       "      <th>mb_used</th>\n",
       "      <th>age</th>\n",
       "      <th>churn_date</th>\n",
       "      <th>city</th>\n",
       "      <th>first_name</th>\n",
       "      <th>...</th>\n",
       "      <th>minutes_included</th>\n",
       "      <th>rub_monthly_fee</th>\n",
       "      <th>rub_per_gb</th>\n",
       "      <th>rub_per_message</th>\n",
       "      <th>rub_per_minute</th>\n",
       "      <th>minutes_over</th>\n",
       "      <th>messages_over</th>\n",
       "      <th>mb_used_over</th>\n",
       "      <th>rub_monthly_fee_over</th>\n",
       "      <th>rub_monthly_fee_total</th>\n",
       "    </tr>\n",
       "  </thead>\n",
       "  <tbody>\n",
       "    <tr>\n",
       "      <td>0</td>\n",
       "      <td>1005</td>\n",
       "      <td>1</td>\n",
       "      <td>15</td>\n",
       "      <td>99</td>\n",
       "      <td>7</td>\n",
       "      <td>2730</td>\n",
       "      <td>67</td>\n",
       "      <td>NaT</td>\n",
       "      <td>Набережные Челны</td>\n",
       "      <td>Афанасий</td>\n",
       "      <td>...</td>\n",
       "      <td>500</td>\n",
       "      <td>550</td>\n",
       "      <td>200</td>\n",
       "      <td>3</td>\n",
       "      <td>3</td>\n",
       "      <td>-401</td>\n",
       "      <td>-43</td>\n",
       "      <td>-12630</td>\n",
       "      <td>0.000000</td>\n",
       "      <td>550.000000</td>\n",
       "    </tr>\n",
       "    <tr>\n",
       "      <td>1</td>\n",
       "      <td>1032</td>\n",
       "      <td>1</td>\n",
       "      <td>61</td>\n",
       "      <td>397</td>\n",
       "      <td>38</td>\n",
       "      <td>24147</td>\n",
       "      <td>31</td>\n",
       "      <td>NaT</td>\n",
       "      <td>Ульяновск</td>\n",
       "      <td>Инна</td>\n",
       "      <td>...</td>\n",
       "      <td>500</td>\n",
       "      <td>550</td>\n",
       "      <td>200</td>\n",
       "      <td>3</td>\n",
       "      <td>3</td>\n",
       "      <td>-103</td>\n",
       "      <td>-12</td>\n",
       "      <td>8787</td>\n",
       "      <td>1716.210938</td>\n",
       "      <td>2266.210938</td>\n",
       "    </tr>\n",
       "    <tr>\n",
       "      <td>2</td>\n",
       "      <td>1045</td>\n",
       "      <td>1</td>\n",
       "      <td>1</td>\n",
       "      <td>9</td>\n",
       "      <td>5</td>\n",
       "      <td>2348</td>\n",
       "      <td>48</td>\n",
       "      <td>NaT</td>\n",
       "      <td>Улан-Удэ</td>\n",
       "      <td>Джемма</td>\n",
       "      <td>...</td>\n",
       "      <td>500</td>\n",
       "      <td>550</td>\n",
       "      <td>200</td>\n",
       "      <td>3</td>\n",
       "      <td>3</td>\n",
       "      <td>-491</td>\n",
       "      <td>-45</td>\n",
       "      <td>-13012</td>\n",
       "      <td>0.000000</td>\n",
       "      <td>550.000000</td>\n",
       "    </tr>\n",
       "    <tr>\n",
       "      <td>3</td>\n",
       "      <td>1055</td>\n",
       "      <td>1</td>\n",
       "      <td>64</td>\n",
       "      <td>568</td>\n",
       "      <td>30</td>\n",
       "      <td>17111</td>\n",
       "      <td>39</td>\n",
       "      <td>NaT</td>\n",
       "      <td>Казань</td>\n",
       "      <td>Луиза</td>\n",
       "      <td>...</td>\n",
       "      <td>500</td>\n",
       "      <td>550</td>\n",
       "      <td>200</td>\n",
       "      <td>3</td>\n",
       "      <td>3</td>\n",
       "      <td>68</td>\n",
       "      <td>-20</td>\n",
       "      <td>1751</td>\n",
       "      <td>545.992188</td>\n",
       "      <td>1095.992188</td>\n",
       "    </tr>\n",
       "    <tr>\n",
       "      <td>4</td>\n",
       "      <td>1071</td>\n",
       "      <td>1</td>\n",
       "      <td>24</td>\n",
       "      <td>200</td>\n",
       "      <td>16</td>\n",
       "      <td>15622</td>\n",
       "      <td>20</td>\n",
       "      <td>2018-08-31</td>\n",
       "      <td>Омск</td>\n",
       "      <td>Гектор</td>\n",
       "      <td>...</td>\n",
       "      <td>500</td>\n",
       "      <td>550</td>\n",
       "      <td>200</td>\n",
       "      <td>3</td>\n",
       "      <td>3</td>\n",
       "      <td>-300</td>\n",
       "      <td>-34</td>\n",
       "      <td>262</td>\n",
       "      <td>51.171875</td>\n",
       "      <td>601.171875</td>\n",
       "    </tr>\n",
       "  </tbody>\n",
       "</table>\n",
       "<p>5 rows × 25 columns</p>\n",
       "</div>"
      ],
      "text/plain": [
       "   user_id  month  calls  minutes  messages  mb_used  age churn_date  \\\n",
       "0     1005      1     15       99         7     2730   67        NaT   \n",
       "1     1032      1     61      397        38    24147   31        NaT   \n",
       "2     1045      1      1        9         5     2348   48        NaT   \n",
       "3     1055      1     64      568        30    17111   39        NaT   \n",
       "4     1071      1     24      200        16    15622   20 2018-08-31   \n",
       "\n",
       "               city first_name  ... minutes_included rub_monthly_fee  \\\n",
       "0  Набережные Челны   Афанасий  ...              500             550   \n",
       "1         Ульяновск       Инна  ...              500             550   \n",
       "2          Улан-Удэ     Джемма  ...              500             550   \n",
       "3            Казань      Луиза  ...              500             550   \n",
       "4              Омск     Гектор  ...              500             550   \n",
       "\n",
       "  rub_per_gb  rub_per_message  rub_per_minute  minutes_over  messages_over  \\\n",
       "0        200                3               3          -401            -43   \n",
       "1        200                3               3          -103            -12   \n",
       "2        200                3               3          -491            -45   \n",
       "3        200                3               3            68            -20   \n",
       "4        200                3               3          -300            -34   \n",
       "\n",
       "   mb_used_over  rub_monthly_fee_over  rub_monthly_fee_total  \n",
       "0        -12630              0.000000             550.000000  \n",
       "1          8787           1716.210938            2266.210938  \n",
       "2        -13012              0.000000             550.000000  \n",
       "3          1751            545.992188            1095.992188  \n",
       "4           262             51.171875             601.171875  \n",
       "\n",
       "[5 rows x 25 columns]"
      ]
     },
     "execution_count": 64,
     "metadata": {},
     "output_type": "execute_result"
    }
   ],
   "source": [
    "users_costs.head()"
   ]
  },
  {
   "cell_type": "code",
   "execution_count": 65,
   "metadata": {},
   "outputs": [
    {
     "data": {
      "image/png": "[encoded data removed]",
      "text/plain": [
       "<Figure size 1440x288 with 2 Axes>"
      ]
     },
     "metadata": {
      "needs_background": "light"
     },
     "output_type": "display_data"
    }
   ],
   "source": [
    "fig, (ax1, ax2) = plt.subplots(1, 2, figsize=(20,4))\n",
    "\n",
    "ax1.boxplot(calls['duration'])\n",
    "ax1.set_ylabel('Продолжительность звонков', fontsize=14)\n",
    "\n",
    "ax2.hist(calls['duration'], bins=round(calls['duration'].max()))\n",
    "ax2.set_xlabel('Продолжительность звонков', fontsize=14)\n",
    "ax2.set_ylabel('Количество звонков', fontsize=14)\n",
    "\n",
    "plt.show()"
   ]
  },
  {
   "cell_type": "markdown",
   "metadata": {},
   "source": [
    "*Боксплот показал звонки длительностью 30мин и более. Считаю от этих выбросов не стоит избавляться, потому что звонок длиной в 30 минут вполне реален и необходимо его учитывать при расчете итоговой стоимости. По гистограмме видно, что больше всего звонков продолжительностью около 5 - 9 мин.*"
   ]
  },
  {
   "cell_type": "code",
   "execution_count": 66,
   "metadata": {},
   "outputs": [
    {
     "data": {
      "image/png": "[encoded data removed]",
      "text/plain": [
       "<Figure size 1440x288 with 2 Axes>"
      ]
     },
     "metadata": {
      "needs_background": "light"
     },
     "output_type": "display_data"
    }
   ],
   "source": [
    "fig, (ax1, ax2) = plt.subplots(1, 2, figsize=(20,4))\n",
    "\n",
    "ax1.boxplot(internet['mb_used'])\n",
    "ax1.set_ylabel('Количество использованных мегабайт', fontsize=14)\n",
    "\n",
    "ax2.hist(internet['mb_used'], bins=30)\n",
    "ax2.set_xlabel('Количество использованных мегабайт', fontsize=14)\n",
    "ax2.set_ylabel('Количество клиентов', fontsize=14)\n",
    "\n",
    "plt.show()"
   ]
  },
  {
   "cell_type": "markdown",
   "metadata": {},
   "source": [
    "*Боксплот указал на количество использованного траффика более 1250Мб, эти выбросы также оставляем в работе. По гистограмме видно, что больше всего траффика используется в интервале 300-400Мб.*"
   ]
  },
  {
   "cell_type": "code",
   "execution_count": 67,
   "metadata": {},
   "outputs": [],
   "source": [
    "smart = users_costs.query(\"tariff == 'smart'\")"
   ]
  },
  {
   "cell_type": "code",
   "execution_count": 68,
   "metadata": {},
   "outputs": [
    {
     "name": "stdout",
     "output_type": "stream",
     "text": [
      "Количество пользователей смарт: 350\n"
     ]
    }
   ],
   "source": [
    "print('Количество пользователей смарт: {}'.format(len(smart.groupby('user_id'))))"
   ]
  },
  {
   "cell_type": "code",
   "execution_count": 69,
   "metadata": {},
   "outputs": [],
   "source": [
    "ultra = users_costs.query(\"tariff == 'ultra'\")"
   ]
  },
  {
   "cell_type": "code",
   "execution_count": 70,
   "metadata": {},
   "outputs": [
    {
     "name": "stdout",
     "output_type": "stream",
     "text": [
      "Количество пользователей юльтра: 148\n"
     ]
    }
   ],
   "source": [
    "print('Количество пользователей юльтра: {}'.format(len(ultra.groupby('user_id'))))"
   ]
  },
  {
   "cell_type": "markdown",
   "metadata": {},
   "source": [
    "***Вывод по шагу 2.3:***\n",
    "<br> * данные без пропусков собрал в итоговую таблицу для анализа;\n",
    "<br> * пользователей тарифа \"Смарт\" - 350, тарифа \"Ультра\" - 148."
   ]
  },
  {
   "cell_type": "markdown",
   "metadata": {},
   "source": [
    "## Шаг 3. Статистический анализ данных"
   ]
  },
  {
   "cell_type": "markdown",
   "metadata": {},
   "source": [
    "### Опишем поведение клиентов оператора, исходя из выборки."
   ]
  },
  {
   "cell_type": "code",
   "execution_count": 71,
   "metadata": {},
   "outputs": [],
   "source": [
    "#Передадим переменным smart_tariff и ultra_tariff соответственные данные из таблицы\n",
    "smart_tariff = users_costs[users_costs['tariff']=='smart']\n",
    "ultra_tariff = users_costs[users_costs['tariff']=='ultra']"
   ]
  },
  {
   "cell_type": "code",
   "execution_count": 72,
   "metadata": {},
   "outputs": [
    {
     "name": "stdout",
     "output_type": "stream",
     "text": [
      "Количество клиентов с тарифом Ультра: 149\n",
      "Количество клиентов с тарифом Смарт: 351\n",
      "\n",
      "В среднем один пользователь тарифа Ультра приносит: 13622 рублей\n",
      "В среднем один пользователь тарифа Смарт приносит: 7940 рублей\n",
      "\n",
      "Годавая прибыль по тарифу Ультра: 2029622 рублей\n",
      "Годовая прибыль по тарифу Смарт: 2786975 рублей\n",
      "\n"
     ]
    }
   ],
   "source": [
    "smart = users[users['tariff']=='smart']\n",
    "ultra = users[users['tariff']=='ultra']\n",
    "\n",
    "print('Количество клиентов с тарифом Ультра: {}'.format(ultra['tariff'].count()))\n",
    "print('Количество клиентов с тарифом Смарт: {}\\n'.format(smart['tariff'].count()))\n",
    "print('В среднем один пользователь тарифа Ультра приносит: {:.0f} рублей'.format(ultra_tariff['rub_monthly_fee_total'].sum()/ultra['tariff'].count()))\n",
    "print('В среднем один пользователь тарифа Смарт приносит: {:.0f} рублей\\n'.format(smart_tariff['rub_monthly_fee_total'].sum()/smart['tariff'].count()))\n",
    "print('Годавая прибыль по тарифу Ультра: {:.0f} рублей'.format(ultra_tariff['rub_monthly_fee_total'].sum()))\n",
    "print('Годовая прибыль по тарифу Смарт: {:.0f} рублей\\n'.format(smart_tariff['rub_monthly_fee_total'].sum()))"
   ]
  },
  {
   "cell_type": "code",
   "execution_count": 73,
   "metadata": {},
   "outputs": [],
   "source": [
    "values = ['minutes', 'messages', 'mb_used', 'rub_monthly_fee_over', 'rub_monthly_fee_total']\n",
    "\n",
    "# Сделаем сводную таблицу по тарифам в разрезе месяцев\n",
    "tariff_monthly_users_costs = users_costs.pivot_table(\n",
    "    index=['tariff', 'month'],\n",
    "    values=values\n",
    ")"
   ]
  },
  {
   "cell_type": "code",
   "execution_count": 74,
   "metadata": {},
   "outputs": [
    {
     "data": {
      "text/html": [
       "<div>\n",
       "<style scoped>\n",
       "    .dataframe tbody tr th:only-of-type {\n",
       "        vertical-align: middle;\n",
       "    }\n",
       "\n",
       "    .dataframe tbody tr th {\n",
       "        vertical-align: top;\n",
       "    }\n",
       "\n",
       "    .dataframe thead th {\n",
       "        text-align: right;\n",
       "    }\n",
       "</style>\n",
       "<table border=\"1\" class=\"dataframe\">\n",
       "  <thead>\n",
       "    <tr style=\"text-align: right;\">\n",
       "      <th></th>\n",
       "      <th>mb_used</th>\n",
       "      <th>messages</th>\n",
       "      <th>minutes</th>\n",
       "      <th>rub_monthly_fee_over</th>\n",
       "      <th>rub_monthly_fee_total</th>\n",
       "    </tr>\n",
       "    <tr>\n",
       "      <th>month</th>\n",
       "      <th></th>\n",
       "      <th></th>\n",
       "      <th></th>\n",
       "      <th></th>\n",
       "      <th></th>\n",
       "    </tr>\n",
       "  </thead>\n",
       "  <tbody>\n",
       "    <tr>\n",
       "      <td>1</td>\n",
       "      <td>8524.441176</td>\n",
       "      <td>18.235294</td>\n",
       "      <td>209.647059</td>\n",
       "      <td>154.585708</td>\n",
       "      <td>704.585708</td>\n",
       "    </tr>\n",
       "    <tr>\n",
       "      <td>2</td>\n",
       "      <td>11611.396552</td>\n",
       "      <td>24.086207</td>\n",
       "      <td>306.310345</td>\n",
       "      <td>261.785964</td>\n",
       "      <td>811.785964</td>\n",
       "    </tr>\n",
       "    <tr>\n",
       "      <td>3</td>\n",
       "      <td>15123.857143</td>\n",
       "      <td>31.857143</td>\n",
       "      <td>400.532468</td>\n",
       "      <td>582.330560</td>\n",
       "      <td>1132.330560</td>\n",
       "    </tr>\n",
       "    <tr>\n",
       "      <td>4</td>\n",
       "      <td>13479.482143</td>\n",
       "      <td>30.741071</td>\n",
       "      <td>377.000000</td>\n",
       "      <td>384.126186</td>\n",
       "      <td>934.126186</td>\n",
       "    </tr>\n",
       "    <tr>\n",
       "      <td>5</td>\n",
       "      <td>15825.198582</td>\n",
       "      <td>33.773050</td>\n",
       "      <td>398.404255</td>\n",
       "      <td>610.007037</td>\n",
       "      <td>1160.007037</td>\n",
       "    </tr>\n",
       "    <tr>\n",
       "      <td>6</td>\n",
       "      <td>15814.768293</td>\n",
       "      <td>33.402439</td>\n",
       "      <td>406.701220</td>\n",
       "      <td>613.610185</td>\n",
       "      <td>1163.610185</td>\n",
       "    </tr>\n",
       "    <tr>\n",
       "      <td>7</td>\n",
       "      <td>15763.512438</td>\n",
       "      <td>33.751244</td>\n",
       "      <td>419.288557</td>\n",
       "      <td>634.615905</td>\n",
       "      <td>1184.615905</td>\n",
       "    </tr>\n",
       "    <tr>\n",
       "      <td>8</td>\n",
       "      <td>16632.174468</td>\n",
       "      <td>33.638298</td>\n",
       "      <td>433.191489</td>\n",
       "      <td>725.515027</td>\n",
       "      <td>1275.515027</td>\n",
       "    </tr>\n",
       "    <tr>\n",
       "      <td>9</td>\n",
       "      <td>16324.526923</td>\n",
       "      <td>33.638462</td>\n",
       "      <td>440.080769</td>\n",
       "      <td>666.703275</td>\n",
       "      <td>1216.703275</td>\n",
       "    </tr>\n",
       "    <tr>\n",
       "      <td>10</td>\n",
       "      <td>16778.564626</td>\n",
       "      <td>33.765306</td>\n",
       "      <td>438.295918</td>\n",
       "      <td>772.699458</td>\n",
       "      <td>1322.699458</td>\n",
       "    </tr>\n",
       "    <tr>\n",
       "      <td>11</td>\n",
       "      <td>16917.531646</td>\n",
       "      <td>34.075949</td>\n",
       "      <td>447.620253</td>\n",
       "      <td>752.881799</td>\n",
       "      <td>1302.881799</td>\n",
       "    </tr>\n",
       "    <tr>\n",
       "      <td>12</td>\n",
       "      <td>18136.833828</td>\n",
       "      <td>35.994065</td>\n",
       "      <td>491.418398</td>\n",
       "      <td>978.041079</td>\n",
       "      <td>1528.041079</td>\n",
       "    </tr>\n",
       "  </tbody>\n",
       "</table>\n",
       "</div>"
      ],
      "text/plain": [
       "            mb_used   messages     minutes  rub_monthly_fee_over  \\\n",
       "month                                                              \n",
       "1       8524.441176  18.235294  209.647059            154.585708   \n",
       "2      11611.396552  24.086207  306.310345            261.785964   \n",
       "3      15123.857143  31.857143  400.532468            582.330560   \n",
       "4      13479.482143  30.741071  377.000000            384.126186   \n",
       "5      15825.198582  33.773050  398.404255            610.007037   \n",
       "6      15814.768293  33.402439  406.701220            613.610185   \n",
       "7      15763.512438  33.751244  419.288557            634.615905   \n",
       "8      16632.174468  33.638298  433.191489            725.515027   \n",
       "9      16324.526923  33.638462  440.080769            666.703275   \n",
       "10     16778.564626  33.765306  438.295918            772.699458   \n",
       "11     16917.531646  34.075949  447.620253            752.881799   \n",
       "12     18136.833828  35.994065  491.418398            978.041079   \n",
       "\n",
       "       rub_monthly_fee_total  \n",
       "month                         \n",
       "1                 704.585708  \n",
       "2                 811.785964  \n",
       "3                1132.330560  \n",
       "4                 934.126186  \n",
       "5                1160.007037  \n",
       "6                1163.610185  \n",
       "7                1184.615905  \n",
       "8                1275.515027  \n",
       "9                1216.703275  \n",
       "10               1322.699458  \n",
       "11               1302.881799  \n",
       "12               1528.041079  "
      ]
     },
     "execution_count": 74,
     "metadata": {},
     "output_type": "execute_result"
    }
   ],
   "source": [
    "smart_monthly_costs = tariff_monthly_users_costs.loc['smart']\n",
    "smart_monthly_costs"
   ]
  },
  {
   "cell_type": "code",
   "execution_count": 75,
   "metadata": {},
   "outputs": [
    {
     "data": {
      "text/html": [
       "<div>\n",
       "<style scoped>\n",
       "    .dataframe tbody tr th:only-of-type {\n",
       "        vertical-align: middle;\n",
       "    }\n",
       "\n",
       "    .dataframe tbody tr th {\n",
       "        vertical-align: top;\n",
       "    }\n",
       "\n",
       "    .dataframe thead th {\n",
       "        text-align: right;\n",
       "    }\n",
       "</style>\n",
       "<table border=\"1\" class=\"dataframe\">\n",
       "  <thead>\n",
       "    <tr style=\"text-align: right;\">\n",
       "      <th></th>\n",
       "      <th>mb_used</th>\n",
       "      <th>messages</th>\n",
       "      <th>minutes</th>\n",
       "      <th>rub_monthly_fee_over</th>\n",
       "      <th>rub_monthly_fee_total</th>\n",
       "    </tr>\n",
       "    <tr>\n",
       "      <th>month</th>\n",
       "      <th></th>\n",
       "      <th></th>\n",
       "      <th></th>\n",
       "      <th></th>\n",
       "      <th></th>\n",
       "    </tr>\n",
       "  </thead>\n",
       "  <tbody>\n",
       "    <tr>\n",
       "      <td>1</td>\n",
       "      <td>13153.555556</td>\n",
       "      <td>33.777778</td>\n",
       "      <td>440.888889</td>\n",
       "      <td>0.000000</td>\n",
       "      <td>1950.000000</td>\n",
       "    </tr>\n",
       "    <tr>\n",
       "      <td>2</td>\n",
       "      <td>11786.958333</td>\n",
       "      <td>21.958333</td>\n",
       "      <td>304.666667</td>\n",
       "      <td>23.046875</td>\n",
       "      <td>1973.046875</td>\n",
       "    </tr>\n",
       "    <tr>\n",
       "      <td>3</td>\n",
       "      <td>17551.972973</td>\n",
       "      <td>32.297297</td>\n",
       "      <td>503.081081</td>\n",
       "      <td>54.171505</td>\n",
       "      <td>2004.171505</td>\n",
       "    </tr>\n",
       "    <tr>\n",
       "      <td>4</td>\n",
       "      <td>16843.800000</td>\n",
       "      <td>31.563636</td>\n",
       "      <td>470.072727</td>\n",
       "      <td>45.431463</td>\n",
       "      <td>1995.431463</td>\n",
       "    </tr>\n",
       "    <tr>\n",
       "      <td>5</td>\n",
       "      <td>19381.194030</td>\n",
       "      <td>37.850746</td>\n",
       "      <td>524.865672</td>\n",
       "      <td>104.965893</td>\n",
       "      <td>2054.965893</td>\n",
       "    </tr>\n",
       "    <tr>\n",
       "      <td>6</td>\n",
       "      <td>18942.238095</td>\n",
       "      <td>41.726190</td>\n",
       "      <td>492.428571</td>\n",
       "      <td>82.060896</td>\n",
       "      <td>2032.060896</td>\n",
       "    </tr>\n",
       "    <tr>\n",
       "      <td>7</td>\n",
       "      <td>20514.648352</td>\n",
       "      <td>49.846154</td>\n",
       "      <td>560.296703</td>\n",
       "      <td>158.502533</td>\n",
       "      <td>2108.502533</td>\n",
       "    </tr>\n",
       "    <tr>\n",
       "      <td>8</td>\n",
       "      <td>19594.065421</td>\n",
       "      <td>48.439252</td>\n",
       "      <td>524.570093</td>\n",
       "      <td>121.152161</td>\n",
       "      <td>2071.152161</td>\n",
       "    </tr>\n",
       "    <tr>\n",
       "      <td>9</td>\n",
       "      <td>19222.208696</td>\n",
       "      <td>52.286957</td>\n",
       "      <td>553.643478</td>\n",
       "      <td>63.725798</td>\n",
       "      <td>2013.725798</td>\n",
       "    </tr>\n",
       "    <tr>\n",
       "      <td>10</td>\n",
       "      <td>20063.869919</td>\n",
       "      <td>58.430894</td>\n",
       "      <td>572.829268</td>\n",
       "      <td>106.918112</td>\n",
       "      <td>2056.918112</td>\n",
       "    </tr>\n",
       "    <tr>\n",
       "      <td>11</td>\n",
       "      <td>19805.313433</td>\n",
       "      <td>55.791045</td>\n",
       "      <td>555.805970</td>\n",
       "      <td>130.786497</td>\n",
       "      <td>2080.786497</td>\n",
       "    </tr>\n",
       "    <tr>\n",
       "      <td>12</td>\n",
       "      <td>21813.589928</td>\n",
       "      <td>60.611511</td>\n",
       "      <td>609.129496</td>\n",
       "      <td>176.245995</td>\n",
       "      <td>2126.245995</td>\n",
       "    </tr>\n",
       "  </tbody>\n",
       "</table>\n",
       "</div>"
      ],
      "text/plain": [
       "            mb_used   messages     minutes  rub_monthly_fee_over  \\\n",
       "month                                                              \n",
       "1      13153.555556  33.777778  440.888889              0.000000   \n",
       "2      11786.958333  21.958333  304.666667             23.046875   \n",
       "3      17551.972973  32.297297  503.081081             54.171505   \n",
       "4      16843.800000  31.563636  470.072727             45.431463   \n",
       "5      19381.194030  37.850746  524.865672            104.965893   \n",
       "6      18942.238095  41.726190  492.428571             82.060896   \n",
       "7      20514.648352  49.846154  560.296703            158.502533   \n",
       "8      19594.065421  48.439252  524.570093            121.152161   \n",
       "9      19222.208696  52.286957  553.643478             63.725798   \n",
       "10     20063.869919  58.430894  572.829268            106.918112   \n",
       "11     19805.313433  55.791045  555.805970            130.786497   \n",
       "12     21813.589928  60.611511  609.129496            176.245995   \n",
       "\n",
       "       rub_monthly_fee_total  \n",
       "month                         \n",
       "1                1950.000000  \n",
       "2                1973.046875  \n",
       "3                2004.171505  \n",
       "4                1995.431463  \n",
       "5                2054.965893  \n",
       "6                2032.060896  \n",
       "7                2108.502533  \n",
       "8                2071.152161  \n",
       "9                2013.725798  \n",
       "10               2056.918112  \n",
       "11               2080.786497  \n",
       "12               2126.245995  "
      ]
     },
     "execution_count": 75,
     "metadata": {},
     "output_type": "execute_result"
    }
   ],
   "source": [
    "ultra_monthly_costs = tariff_monthly_users_costs.loc['ultra']\n",
    "ultra_monthly_costs"
   ]
  },
  {
   "cell_type": "markdown",
   "metadata": {},
   "source": [
    "Минуты разговора, количество сообщений и объём интернет-трафика в среднем необходимые пользователям каждого тарифа в месяц"
   ]
  },
  {
   "cell_type": "code",
   "execution_count": 76,
   "metadata": {},
   "outputs": [
    {
     "data": {
      "text/html": [
       "<div>\n",
       "<style scoped>\n",
       "    .dataframe tbody tr th:only-of-type {\n",
       "        vertical-align: middle;\n",
       "    }\n",
       "\n",
       "    .dataframe tbody tr th {\n",
       "        vertical-align: top;\n",
       "    }\n",
       "\n",
       "    .dataframe thead th {\n",
       "        text-align: right;\n",
       "    }\n",
       "</style>\n",
       "<table border=\"1\" class=\"dataframe\">\n",
       "  <thead>\n",
       "    <tr style=\"text-align: right;\">\n",
       "      <th></th>\n",
       "      <th>mb_used</th>\n",
       "      <th>messages</th>\n",
       "      <th>minutes</th>\n",
       "      <th>rub_monthly_fee_over</th>\n",
       "      <th>rub_monthly_fee_total</th>\n",
       "    </tr>\n",
       "    <tr>\n",
       "      <th>tariff</th>\n",
       "      <th></th>\n",
       "      <th></th>\n",
       "      <th></th>\n",
       "      <th></th>\n",
       "      <th></th>\n",
       "    </tr>\n",
       "  </thead>\n",
       "  <tbody>\n",
       "    <tr>\n",
       "      <td>smart</td>\n",
       "      <td>15077.690651</td>\n",
       "      <td>31.413211</td>\n",
       "      <td>397.374228</td>\n",
       "      <td>594.741849</td>\n",
       "      <td>1144.741849</td>\n",
       "    </tr>\n",
       "    <tr>\n",
       "      <td>ultra</td>\n",
       "      <td>18222.784561</td>\n",
       "      <td>43.714983</td>\n",
       "      <td>509.356551</td>\n",
       "      <td>88.917311</td>\n",
       "      <td>2038.917311</td>\n",
       "    </tr>\n",
       "  </tbody>\n",
       "</table>\n",
       "</div>"
      ],
      "text/plain": [
       "             mb_used   messages     minutes  rub_monthly_fee_over  \\\n",
       "tariff                                                              \n",
       "smart   15077.690651  31.413211  397.374228            594.741849   \n",
       "ultra   18222.784561  43.714983  509.356551             88.917311   \n",
       "\n",
       "        rub_monthly_fee_total  \n",
       "tariff                         \n",
       "smart             1144.741849  \n",
       "ultra             2038.917311  "
      ]
     },
     "execution_count": 76,
     "metadata": {},
     "output_type": "execute_result"
    }
   ],
   "source": [
    "tariff_usage = tariff_monthly_users_costs.pivot_table(\n",
    "    index='tariff',\n",
    "    values=values\n",
    ")\n",
    "tariff_usage"
   ]
  },
  {
   "cell_type": "code",
   "execution_count": 77,
   "metadata": {},
   "outputs": [
    {
     "data": {
      "text/plain": [
       "<matplotlib.legend.Legend at 0x7f351ed72b10>"
      ]
     },
     "execution_count": 77,
     "metadata": {},
     "output_type": "execute_result"
    },
    {
     "data": {
      "image/png": "[encoded data removed]",
      "text/plain": [
       "<Figure size 864x432 with 1 Axes>"
      ]
     },
     "metadata": {
      "needs_background": "light"
     },
     "output_type": "display_data"
    }
   ],
   "source": [
    "#Построим два графика по прибыли без учета абон платы\n",
    "plt.figure(figsize=(12,6))\n",
    "plt.title('Распределение выручки у тарифов Ultra и Smart без учета Абонентской платы', fontsize=15)\n",
    "ax = sns.distplot(a=smart_tariff['rub_monthly_fee_total']-550, label='Тариф Смарт', kde=False)\n",
    "ax = sns.distplot(a=ultra_tariff['rub_monthly_fee_total']-1950, label='Тариф Ультра', kde=False)\n",
    "ax.set(xlabel='Выручка в рублях по тарифам')\n",
    "plt.legend()"
   ]
  },
  {
   "cell_type": "markdown",
   "metadata": {},
   "source": [
    "Пользователи тарифа Смарт больше всего оплачивают сверх абонентской платы. Пользователям тарифа Ультра достаточно пакета с имеющимися минутами и мегабайтами."
   ]
  },
  {
   "cell_type": "markdown",
   "metadata": {},
   "source": [
    "***Вывод по шагу 3.1:***\n",
    "<br> * Пользователи тарифа Ультра более активны почти по всем позициям (длительность звонков, количество сообщений и объём интернет-трафика), но пользователи тарифа Смарт тратят в 6 раз больше на дополнительные пакеты услуг;\n",
    "<br> * Для оператора прибыльным тарифом является тариф Ультра, даже с учетом того, что в среднем пользователи не выходят за границы тарифных лимитов, а пользователи тарифа Смарт не тратят столько денег, чтобы перегнать стоимость тарифа Ультра. Таким образом, для пользователя выгоднее тариф Смарт;\n",
    "<br> * Rаждый пользователь тарифа Ультра приносит компании в среднем 13 622 рублей в год, пользователь тарифа Смарт приносит лишь 7940 рублей в год;\n",
    "<br> * Годовая выручка компании по тарифу Смарт - 2 786 975 рублей в год, по тарифу Ультра приносит 2 029 622 рублей в год."
   ]
  },
  {
   "cell_type": "markdown",
   "metadata": {},
   "source": [
    "### Среднее количество, дисперсия и стандартное отклонение"
   ]
  },
  {
   "cell_type": "markdown",
   "metadata": {},
   "source": [
    "Определяем среднее количество, дисперсию и стандартное отклонение по продолжительности звонков на тарифах \"Смарт\" и \"Ультра\" в минутах разговора"
   ]
  },
  {
   "cell_type": "code",
   "execution_count": 78,
   "metadata": {},
   "outputs": [
    {
     "name": "stdout",
     "output_type": "stream",
     "text": [
      "Среднее minutes: 429\n",
      "Медиана minutes: 435\n",
      "Дисперсия minutes: 37958\n",
      "Среднее отклонение minutes: 195 \n",
      "\n",
      "Среднее messages: 33\n",
      "Медиана messages: 28\n",
      "Дисперсия messages: 796\n",
      "Среднее отклонение messages: 28 \n",
      "\n",
      "Среднее mb_used: 16229\n",
      "Медиана mb_used: 16531\n",
      "Дисперсия mb_used: 34530413\n",
      "Среднее отклонение mb_used: 5876 \n",
      "\n",
      "Среднее rub_monthly_fee_total: 1250\n",
      "Медиана rub_monthly_fee_total: 986\n",
      "Дисперсия rub_monthly_fee_total: 634974\n",
      "Среднее отклонение rub_monthly_fee_total: 797 \n",
      "\n"
     ]
    }
   ],
   "source": [
    "#Посчитаем среднее, медиану, дисперсию и среднее отклонение для тарифа Smart\n",
    "for column in smart_tariff[['minutes','messages','mb_used','rub_monthly_fee_total']]:\n",
    "    print('Среднее {}: {:.0f}'.format(column,smart_tariff[column].mean()))\n",
    "    print('Медиана {}: {:.0f}'.format(column,smart_tariff[column].median()))\n",
    "    print('Дисперсия {}: {:.0f}'.format(column,np.var(smart_tariff[column])))\n",
    "    print('Среднее отклонение {}: {:.0f} \\n'.format(column, np.std(smart_tariff[column])))"
   ]
  },
  {
   "cell_type": "code",
   "execution_count": 79,
   "metadata": {},
   "outputs": [
    {
     "name": "stdout",
     "output_type": "stream",
     "text": [
      "Среднее minutes: 541\n",
      "Медиана minutes: 532\n",
      "Дисперсия minutes: 105998\n",
      "Среднее отклонение minutes: 326 \n",
      "\n",
      "Среднее messages: 49\n",
      "Медиана messages: 38\n",
      "Дисперсия messages: 2283\n",
      "Среднее отклонение messages: 48 \n",
      "\n",
      "Среднее mb_used: 19487\n",
      "Медиана mb_used: 19324\n",
      "Дисперсия mb_used: 101832133\n",
      "Среднее отклонение mb_used: 10091 \n",
      "\n",
      "Среднее rub_monthly_fee_total: 2061\n",
      "Медиана rub_monthly_fee_total: 1950\n",
      "Дисперсия rub_monthly_fee_total: 126824\n",
      "Среднее отклонение rub_monthly_fee_total: 356 \n",
      "\n"
     ]
    }
   ],
   "source": [
    "#Посчитаем среднее, медиану, дисперсию и среднее отклонение для тарифа Ultra\n",
    "for column in ultra_tariff[['minutes','messages','mb_used','rub_monthly_fee_total']]:    \n",
    "    print('Среднее {}: {:.0f}'.format(column,ultra_tariff[column].mean()))\n",
    "    print('Медиана {}: {:.0f}'.format(column,ultra_tariff[column].median()))\n",
    "    print('Дисперсия {}: {:.0f}'.format(column,np.var(ultra_tariff[column])))\n",
    "    print('Среднее отклонение {}: {:.0f} \\n'.format(column, np.std(ultra_tariff[column])))"
   ]
  },
  {
   "cell_type": "markdown",
   "metadata": {},
   "source": [
    "<br> * Оптимальным количеством сообщений для пользователей тарифа ультра можно установить в 49 (среднее значение) + 48 (стандартное отклонение)*3 = 49 + 144 = 193, то есть оптимальным будет установить тариф в 200 сообщений.\n",
    "<br> * Для тарифа смарт оптимальное количество сообщений, нужное для пользователей: 33 (среднее значение) + 28 (стандартное отклонение)*3 = 33 + 84 = 117 сообщений является оптимальным для пользователей смарт, то есть можно округлить либо до 110, либо до 120, чтобы покрыть нужды всех пользователей.\n",
    "<br> * 200 для УЛЬТРА требуется сообщений в месяц.\n",
    "<br> * 120 для СМАРТ требуется сообщений в месяц.\n",
    "<br> * Тем самым для тарифа ультра можно уменьшить тарифный план, а для смарт увеличить."
   ]
  },
  {
   "cell_type": "markdown",
   "metadata": {},
   "source": [
    "<br> * Оптимальным количеством звонков для пользователей тарифа ультра можно установить в 541 (среднее значение) + 326 (стандартное отклонение)*3 = 541 + 978 = 1519 минут разговора для пользователей ультра, то есть оптимальным будет 1550 минут.\n",
    "<br> * Для тарифа смарт оптимальное количество звонков, нужное для пользователей:: 432 (среднее значение) + 192 (стандартное отклонение)*3 = 429 + 585 = 1014 минут разговора для пользователей смарта. То есть можно округлить до 1000 минут в месяц.\n",
    "<br> * 1550 для УЛЬТРА требуется минут разговора в месяц.\n",
    "<br> * 1000 для СМАРТ требуется минут разговора в месяц."
   ]
  },
  {
   "cell_type": "markdown",
   "metadata": {},
   "source": [
    "<br> * Оптимальным количеством трафика для пользователей тарифа ультра можно установить в 19487 (среднее значение) + 10091 (стандартное отклонение)*3 = 19487 + 30273 = 49760 мб интернет-трафика для пользователей ультра, то есть оптимальным будет 1550 будет 50 гб.\n",
    "<br> * Для тарифа смарт оптимальное количество звонков, нужное для пользователей: 16229 (среднее значение) + 5876 (стандартное отклонение)*3 = 16229 + 17628 = 33857 мб интернет-трафика для пользователей смарта, то есть оптимальным тарифным планом для интернета будет 32 гб.\n",
    "<br> * 50 для УЛЬТРА требуется гб интернет трафика в месяц\n",
    "<br> * 32 для СМАРТ требуется гб интернет трафика в месяц"
   ]
  },
  {
   "cell_type": "markdown",
   "metadata": {},
   "source": [
    "Построим гистограммы и опишем распределения"
   ]
  },
  {
   "cell_type": "code",
   "execution_count": 80,
   "metadata": {},
   "outputs": [],
   "source": [
    "#Напишем функцию для построения гистограмм\n",
    "def histogram_drawing(column, title):\n",
    "    sns.set_style('darkgrid')\n",
    "    plt.figure(figsize=(12,6))\n",
    "    plt.title(title, fontsize=15)\n",
    "    sns.distplot(smart_tariff[column], label='Тариф Smart', kde=False)\n",
    "    sns.distplot(ultra_tariff[column], label='Тариф Ultra', kde=False)\n",
    "    plt.axvline(np.mean(smart_tariff[column]),color='g', linestyle='--', label='Smart среднее')\n",
    "    plt.axvline(np.mean(ultra_tariff[column]),color='g', linestyle='-', label='Ultra среднее')\n",
    "    plt.legend()"
   ]
  },
  {
   "cell_type": "code",
   "execution_count": 81,
   "metadata": {},
   "outputs": [
    {
     "data": {
      "image/png": "[encoded data removed]",
      "text/plain": [
       "<Figure size 864x432 with 1 Axes>"
      ]
     },
     "metadata": {},
     "output_type": "display_data"
    }
   ],
   "source": [
    "#Построим гистограммы для mb_used тарифов ultra и smart\n",
    "histogram_drawing('mb_used', 'Распределение по мегабайтам у тарифов Ultra и Smart')"
   ]
  },
  {
   "cell_type": "markdown",
   "metadata": {},
   "source": []
  },
  {
   "cell_type": "code",
   "execution_count": 82,
   "metadata": {},
   "outputs": [
    {
     "data": {
      "image/png": "[encoded data removed]",
      "text/plain": [
       "<Figure size 864x432 with 1 Axes>"
      ]
     },
     "metadata": {},
     "output_type": "display_data"
    }
   ],
   "source": [
    "#Построим гистограммы для minutes тарифов ultra и smart\n",
    "histogram_drawing('minutes','Распределение по минутам у тарифов Ultra и Smart')"
   ]
  },
  {
   "cell_type": "code",
   "execution_count": 83,
   "metadata": {},
   "outputs": [
    {
     "data": {
      "image/png": "[encoded data removed]",
      "text/plain": [
       "<Figure size 864x432 with 1 Axes>"
      ]
     },
     "metadata": {},
     "output_type": "display_data"
    }
   ],
   "source": [
    "#Построим гистограммы для messages тарифов ultra и smart\n",
    "histogram_drawing('messages','Распределение по сообщениям у тарифов Ultra и Smart')"
   ]
  },
  {
   "cell_type": "markdown",
   "metadata": {},
   "source": [
    "По гистограммам видно, что дисперсия по тарифу \"Смарт\" меньше, чем у пользователей с тарифом \"Ультра\" по всем показателям: по длительности разговора, числу сообщений и использованному интернет-трафику. На всех гистограммах тариф \"Ультра\" имеет датасет с положительной скошенностью. На гистограммах \"Распределение по минутам у тарифов Ultra и Smart\" и \"Распределение по мегабайтам у тарифов Ultra и Smart\" тариф \"Smart\"имеет датасет с отрицательной скошенностью. На гистограмме \"Распределение по сообщениям у тарифов Ultra и Smart\" тариф \"Smart\" имеет датасет с положительной скошенностью. Скошенностью понимают, что дополнительные значения находятся со стороны положительного или отрицательного направления оси.\n",
    "Другими словами, поведение пользователей тарифа \"Ультра\" более разнообразное с точки зрения потребления услуг. Пользователи тарифа \"Ультра\" более свободны в выборе того, как именно использовать объемы тарифного пакета."
   ]
  },
  {
   "cell_type": "code",
   "execution_count": 84,
   "metadata": {},
   "outputs": [
    {
     "data": {
      "image/png": "[encoded data removed]",
      "text/plain": [
       "<Figure size 864x432 with 1 Axes>"
      ]
     },
     "metadata": {},
     "output_type": "display_data"
    },
    {
     "data": {
      "image/png": "[encoded data removed]",
      "text/plain": [
       "<Figure size 864x432 with 1 Axes>"
      ]
     },
     "metadata": {},
     "output_type": "display_data"
    },
    {
     "data": {
      "image/png": "[encoded data removed]",
      "text/plain": [
       "<Figure size 864x432 with 1 Axes>"
      ]
     },
     "metadata": {},
     "output_type": "display_data"
    }
   ],
   "source": [
    "#Построим boxplot'ы с помощью цикла \n",
    "for columns in users_costs[['mb_used','minutes','messages']]:\n",
    "    plt.figure(figsize=(12,6))\n",
    "    plt.title(columns, fontsize=15)\n",
    "    sns.boxplot(data=users_costs, x=columns, y='tariff')"
   ]
  },
  {
   "cell_type": "markdown",
   "metadata": {},
   "source": [
    "Вывод по боксплотам: Минуты разговора, число сообщений и объем потраченного интернет-трафика по тарифу «Ультра» имеет большую дисперсию по сравнению с тарифом «Смарт», и медианы по вышеперечисленным признакам также смещены в большую сторону. Кроме того, выбросов в рамках более дешевого тарифа существенно больше."
   ]
  },
  {
   "cell_type": "markdown",
   "metadata": {},
   "source": [
    "**Вывод по графику:**\n",
    "<br> * тариф \"Смарт\" - Пользователи на звонки за месяц тратят от 250 до 650 минут (в среднем 400 минут). Примерно от 8 минут до 22 минут в день, скачивают около 16000 мегабайт, отправляют примерно 33 сообщения. Среднее значение меньше медианы, значит перед нами нормальное распределение с небольшой отрицательной скошенностью. Около 30% людей не хватает 500 минут в тарифе;\n",
    "<br> * тариф \"Ультра\" - Пользователи данного тарифа в осноном говорят от 250 до 900 минут (в среднем 500 минут). Это в разы меньше, чем предоставлено по тарифу, скачивают около 20000 мегабайт, отправляют примерно 49 сообщений. Нормальное распределение имеет положительную скошенность."
   ]
  },
  {
   "cell_type": "code",
   "execution_count": 85,
   "metadata": {},
   "outputs": [
    {
     "name": "stdout",
     "output_type": "stream",
     "text": [
      "Пользователи тарифа Smart.\n",
      "Процент пользователей, превышающих лимит по минутам - 36.38%\n",
      "Процент пользователей, превышающих лимит по смс - 25.30%\n",
      "Процент пользователей, превышающих лимит по МБ - 58.73%\n",
      "Процент пользователей, платящих больше абонентской платы - 75.15%\n",
      "\n",
      "Пользователи тарифа Ultra.\n",
      "Процент пользователей, превышающих лимит по минутам - 0.00%\n",
      "Процент пользователей, превышающих лимит по смс - 0.00%\n",
      "Процент пользователей, превышающих лимит по МБ - 13.60%\n",
      "Процент пользователей, платящих больше абонентской платы - 13.60%\n"
     ]
    }
   ],
   "source": [
    "print('Пользователи тарифа Smart.')\n",
    "print('Процент пользователей, превышающих лимит по минутам - {:.2%}'.format(\n",
    "        smart_tariff['minutes'][smart_tariff['minutes'] > 500].shape[0]/smart_tariff['minutes'].shape[0]))\n",
    "print('Процент пользователей, превышающих лимит по смс - {:.2%}'.format(\n",
    "        smart_tariff['messages'][smart_tariff['messages'] > 50].shape[0]/smart_tariff['messages'].shape[0]))\n",
    "print('Процент пользователей, превышающих лимит по МБ - {:.2%}'.format(\n",
    "        smart_tariff['mb_used'][smart_tariff['mb_used'] > 15360].shape[0]/smart_tariff['mb_used'].shape[0]))\n",
    "print('Процент пользователей, платящих больше абонентской платы - {:.2%}'.format(\n",
    "        smart_tariff['rub_monthly_fee_total'][smart_tariff['rub_monthly_fee_total'] > 550].shape[0]/smart_tariff['rub_monthly_fee_total'].shape[0]))\n",
    "print()\n",
    "print('Пользователи тарифа Ultra.')\n",
    "print('Процент пользователей, превышающих лимит по минутам - {:.2%}'.format(\n",
    "        ultra_tariff['minutes'][ultra_tariff['minutes'] > 3000].shape[0]/ultra_tariff['minutes'].shape[0]))\n",
    "print('Процент пользователей, превышающих лимит по смс - {:.2%}'.format(\n",
    "        ultra_tariff['messages'][ultra_tariff['messages'] > 1000].shape[0]/ultra_tariff['messages'].shape[0]))\n",
    "print('Процент пользователей, превышающих лимит по МБ - {:.2%}'.format(\n",
    "        ultra_tariff['mb_used'][ultra_tariff['mb_used'] > 30720].shape[0]/ultra_tariff['mb_used'].shape[0]))\n",
    "print('Процент пользователей, платящих больше абонентской платы - {:.2%}'.format(\n",
    "        ultra_tariff['rub_monthly_fee_total'][ultra_tariff['rub_monthly_fee_total'] > 1950].shape[0]/ultra_tariff['rub_monthly_fee_total'].shape[0]))"
   ]
  },
  {
   "cell_type": "markdown",
   "metadata": {},
   "source": [
    "***Вывод по шагу 3.2:***\n",
    "<br> * тариф \"Смарт\":\n",
    "<br> Около 36.38% пользователей превышают данный пакетом лимит в 500 минут;\n",
    "<br> Около 25.30% пользователям недостаточно 50 сообщений в месяц;\n",
    "<br> Около 58.73% пользователей использую больше 15 ГБ трафика интернета в месяц;\n",
    "<br> Процент пользователей, платящих больше абонентской платы составляет 75.15%, т.е. пользователи платят больше 550 рублей.\n",
    "<br> Результатом использования сверх лимита является ситуация с большой оплатой за месяц. Рекордная 5252 рубля. Самой значимой затратой является пакет трафика на месяц. По гистограмме видны шаги в 200 рублей.\n",
    "<br> * тариф \"Ультра\":\n",
    "<br> пользователи не превышают лимиты по количеству минут и смс в месяц.\n",
    "<br> Около 13.60% перерасходуют лимит по интернету. Получается плата за месяц выше только по причине интернета. Это видно по шагам в 150 рублей на гистограмме.\n",
    "<br> Процент пользователей, платящих больше абонентской платы составляет 13.60%, т.е. большинству пользователей данного тарифа предоставленного пакета услуг хватает."
   ]
  },
  {
   "cell_type": "markdown",
   "metadata": {},
   "source": [
    "### Среднее количество минут разговора, количества сообщений и объёма интернет-трафика по Москве и другим регионам"
   ]
  },
  {
   "cell_type": "code",
   "execution_count": 86,
   "metadata": {},
   "outputs": [],
   "source": [
    "moscow = users_costs['city'] == 'Москва'\n",
    "users_costs['city'].where(moscow, 'Другой регион', inplace=True)\n",
    "\n",
    "city_monthly_costs = users_costs.pivot_table(\n",
    "    index=['city', 'month'],\n",
    "    values=values\n",
    ")"
   ]
  },
  {
   "cell_type": "code",
   "execution_count": 87,
   "metadata": {},
   "outputs": [
    {
     "data": {
      "text/html": [
       "<div>\n",
       "<style scoped>\n",
       "    .dataframe tbody tr th:only-of-type {\n",
       "        vertical-align: middle;\n",
       "    }\n",
       "\n",
       "    .dataframe tbody tr th {\n",
       "        vertical-align: top;\n",
       "    }\n",
       "\n",
       "    .dataframe thead th {\n",
       "        text-align: right;\n",
       "    }\n",
       "</style>\n",
       "<table border=\"1\" class=\"dataframe\">\n",
       "  <thead>\n",
       "    <tr style=\"text-align: right;\">\n",
       "      <th></th>\n",
       "      <th>mb_used</th>\n",
       "      <th>messages</th>\n",
       "      <th>minutes</th>\n",
       "      <th>rub_monthly_fee_over</th>\n",
       "      <th>rub_monthly_fee_total</th>\n",
       "    </tr>\n",
       "    <tr>\n",
       "      <th>city</th>\n",
       "      <th></th>\n",
       "      <th></th>\n",
       "      <th></th>\n",
       "      <th></th>\n",
       "      <th></th>\n",
       "    </tr>\n",
       "  </thead>\n",
       "  <tbody>\n",
       "    <tr>\n",
       "      <td>Другой регион</td>\n",
       "      <td>15676.051567</td>\n",
       "      <td>35.268458</td>\n",
       "      <td>424.594742</td>\n",
       "      <td>451.303353</td>\n",
       "      <td>1397.843400</td>\n",
       "    </tr>\n",
       "    <tr>\n",
       "      <td>Москва</td>\n",
       "      <td>17597.817342</td>\n",
       "      <td>33.944639</td>\n",
       "      <td>455.792652</td>\n",
       "      <td>388.257994</td>\n",
       "      <td>1483.223264</td>\n",
       "    </tr>\n",
       "  </tbody>\n",
       "</table>\n",
       "</div>"
      ],
      "text/plain": [
       "                    mb_used   messages     minutes  rub_monthly_fee_over  \\\n",
       "city                                                                       \n",
       "Другой регион  15676.051567  35.268458  424.594742            451.303353   \n",
       "Москва         17597.817342  33.944639  455.792652            388.257994   \n",
       "\n",
       "               rub_monthly_fee_total  \n",
       "city                                  \n",
       "Другой регион            1397.843400  \n",
       "Москва                   1483.223264  "
      ]
     },
     "execution_count": 87,
     "metadata": {},
     "output_type": "execute_result"
    }
   ],
   "source": [
    "city_usage = city_monthly_costs.pivot_table(\n",
    "    index='city',\n",
    "    values=values\n",
    ")\n",
    "city_usage"
   ]
  },
  {
   "cell_type": "markdown",
   "metadata": {},
   "source": [
    "***Вывод по шагу 3.3:***\n",
    "<br> * По средним значениям выручки пользователей Москвы и регионов мы видим разницу по столбцу \"rub_monthly_fee_ove\" (+ бесплатный пакет услуг) в 63 рубля в пользу регионов, по столбцу \"rub_monthly_fee_total\" (суммарная оплата услуг) в 85 рублей в пользу Москвы.\n",
    "<br> * В Москве больше трафик интернета и длительность звонков больше. Сообщений больше оправляется с регионов."
   ]
  },
  {
   "cell_type": "markdown",
   "metadata": {},
   "source": [
    "## Шаг 4. Проверка гипотезы"
   ]
  },
  {
   "cell_type": "markdown",
   "metadata": {},
   "source": [
    "### Cредняя выручка пользователей тарифов «Ультра» и «Смарт»"
   ]
  },
  {
   "cell_type": "markdown",
   "metadata": {},
   "source": [
    "<br> H₀: Средняя выручка пользователей тарифов \"Ультра\" и \"Смарт\" не различаются.\n",
    "<br> H₁: Средняя выручка пользователей тарифов \"Ультра\" и \"Смарт\" различаются.\n",
    "<br> Пороговое значение alpha (критический уровень статистической значимости) зададим равным 5%."
   ]
  },
  {
   "cell_type": "code",
   "execution_count": 88,
   "metadata": {},
   "outputs": [
    {
     "name": "stdout",
     "output_type": "stream",
     "text": [
      "p-значение: 3.0842599087855396e-282\n",
      "Отвергаем нулевую гипотезу\n"
     ]
    }
   ],
   "source": [
    "alpha = 0.05 # критический уровень статистической значимости\n",
    "             # если p-value окажется меньше него - отвергнем гипотезу\n",
    "\n",
    "results = st.ttest_ind(\n",
    "    smart_tariff['rub_monthly_fee_total'], \n",
    "    ultra_tariff['rub_monthly_fee_total'],equal_var=False)\n",
    "\n",
    "print('p-значение:', results.pvalue)\n",
    "\n",
    "if (results.pvalue < alpha):\n",
    "    print(\"Отвергаем нулевую гипотезу\")\n",
    "else:\n",
    "    print(\"Не получилось отвергнуть нулевую гипотезу\")"
   ]
  },
  {
   "cell_type": "code",
   "execution_count": 89,
   "metadata": {},
   "outputs": [
    {
     "data": {
      "text/html": [
       "<div>\n",
       "<style scoped>\n",
       "    .dataframe tbody tr th:only-of-type {\n",
       "        vertical-align: middle;\n",
       "    }\n",
       "\n",
       "    .dataframe tbody tr th {\n",
       "        vertical-align: top;\n",
       "    }\n",
       "\n",
       "    .dataframe thead th {\n",
       "        text-align: right;\n",
       "    }\n",
       "</style>\n",
       "<table border=\"1\" class=\"dataframe\">\n",
       "  <thead>\n",
       "    <tr style=\"text-align: right;\">\n",
       "      <th></th>\n",
       "      <th>rub_monthly_fee_total</th>\n",
       "    </tr>\n",
       "    <tr>\n",
       "      <th>tariff</th>\n",
       "      <th></th>\n",
       "    </tr>\n",
       "  </thead>\n",
       "  <tbody>\n",
       "    <tr>\n",
       "      <td>smart</td>\n",
       "      <td>986.492188</td>\n",
       "    </tr>\n",
       "    <tr>\n",
       "      <td>ultra</td>\n",
       "      <td>1950.000000</td>\n",
       "    </tr>\n",
       "  </tbody>\n",
       "</table>\n",
       "</div>"
      ],
      "text/plain": [
       "        rub_monthly_fee_total\n",
       "tariff                       \n",
       "smart              986.492188\n",
       "ultra             1950.000000"
      ]
     },
     "execution_count": 89,
     "metadata": {},
     "output_type": "execute_result"
    }
   ],
   "source": [
    "users_costs.pivot_table(index='tariff', values='rub_monthly_fee_total', aggfunc='median')"
   ]
  },
  {
   "cell_type": "code",
   "execution_count": 90,
   "metadata": {},
   "outputs": [
    {
     "data": {
      "image/png": "[encoded data removed]",
      "text/plain": [
       "<Figure size 360x360 with 1 Axes>"
      ]
     },
     "metadata": {},
     "output_type": "display_data"
    }
   ],
   "source": [
    "_ = sns.catplot(x=\"tariff\", y='rub_monthly_fee_total', kind=\"box\", data=users_costs, orient='v')"
   ]
  },
  {
   "cell_type": "markdown",
   "metadata": {},
   "source": [
    "***Вывод по шагу 4.1:***\n",
    "<br> Средние значения выручки по тарифам различаются в 1,98 раза. Если у пользователя подключен тариф \"Смарт\" с абонентской платой в 550 рублей, то он скорее всего по итогам месяца заплатит гораздо больше из-за нехватки услуг в рамках тарифного пакета.\n",
    "<br> С уверенностью 99% можем предположить, что пользователи тарифа \"Ультра\" действительно отличаются по доходам от тарифа \"Смарт\"."
   ]
  },
  {
   "cell_type": "markdown",
   "metadata": {},
   "source": [
    "### Cредняя выручка пользователей Москвы от выручки пользователей из других регионов"
   ]
  },
  {
   "cell_type": "markdown",
   "metadata": {},
   "source": [
    "<br> H₀: Cредняя выручка пользователей из Москвы не отличается от выручки пользователей из других регионов.\n",
    "<br> H₁: Cредняя выручка пользователей из Москвы отличается от выручки пользователей из других регионов.\n",
    "<br> Пороговое значение alpha (критический уровень статистической значимости) зададим равным 5%."
   ]
  },
  {
   "cell_type": "code",
   "execution_count": 91,
   "metadata": {},
   "outputs": [
    {
     "name": "stdout",
     "output_type": "stream",
     "text": [
      "p-значение: 0.5014487809585113\n",
      "Не получилось отвергнуть нулевую гипотезу\n"
     ]
    }
   ],
   "source": [
    "alpha = 0.05 # критический уровень статистической значимости\n",
    "             # если p-value окажется меньше него - отвергнем гипотезу\n",
    "\n",
    "moscow = users_costs.query(\"city == 'Москва'\")['rub_monthly_fee_total']\n",
    "other_cities = users_costs.query(\"city == 'Другой регион'\")['rub_monthly_fee_total']\n",
    "\n",
    "results = st.ttest_ind(moscow, other_cities, equal_var=False)\n",
    "\n",
    "print('p-значение:', results.pvalue)\n",
    "\n",
    "if (results.pvalue < alpha):\n",
    "    print(\"Отвергаем нулевую гипотезу\")\n",
    "else:\n",
    "    print(\"Не получилось отвергнуть нулевую гипотезу\")"
   ]
  },
  {
   "cell_type": "code",
   "execution_count": 92,
   "metadata": {},
   "outputs": [
    {
     "data": {
      "text/html": [
       "<div>\n",
       "<style scoped>\n",
       "    .dataframe tbody tr th:only-of-type {\n",
       "        vertical-align: middle;\n",
       "    }\n",
       "\n",
       "    .dataframe tbody tr th {\n",
       "        vertical-align: top;\n",
       "    }\n",
       "\n",
       "    .dataframe thead th {\n",
       "        text-align: right;\n",
       "    }\n",
       "</style>\n",
       "<table border=\"1\" class=\"dataframe\">\n",
       "  <thead>\n",
       "    <tr style=\"text-align: right;\">\n",
       "      <th></th>\n",
       "      <th>rub_monthly_fee_total</th>\n",
       "    </tr>\n",
       "    <tr>\n",
       "      <th>region</th>\n",
       "      <th></th>\n",
       "    </tr>\n",
       "  </thead>\n",
       "  <tbody>\n",
       "    <tr>\n",
       "      <td>Другой регион</td>\n",
       "      <td>1544.335938</td>\n",
       "    </tr>\n",
       "    <tr>\n",
       "      <td>Москва</td>\n",
       "      <td>1730.273438</td>\n",
       "    </tr>\n",
       "  </tbody>\n",
       "</table>\n",
       "</div>"
      ],
      "text/plain": [
       "               rub_monthly_fee_total\n",
       "region                              \n",
       "Другой регион            1544.335938\n",
       "Москва                   1730.273438"
      ]
     },
     "execution_count": 92,
     "metadata": {},
     "output_type": "execute_result"
    }
   ],
   "source": [
    "def det_region(city):\n",
    "    if city == 'Москва': return 'Москва'\n",
    "    else: return 'Другой регион'\n",
    "    \n",
    "users_costs['region'] = users_costs['city'].apply(det_region)\n",
    "users_costs.pivot_table(index='region', values='rub_monthly_fee_total', aggfunc='median')"
   ]
  },
  {
   "cell_type": "code",
   "execution_count": 93,
   "metadata": {},
   "outputs": [
    {
     "data": {
      "image/png": "[encoded data removed]",
      "text/plain": [
       "<Figure size 360x360 with 1 Axes>"
      ]
     },
     "metadata": {},
     "output_type": "display_data"
    }
   ],
   "source": [
    "_ = sns.catplot(x=\"region\", y='rub_monthly_fee_total', kind=\"box\", data=users_costs, orient='v')"
   ]
  },
  {
   "cell_type": "markdown",
   "metadata": {},
   "source": [
    "***Вывод по шагу 4.2:***\n",
    "<br> Cредняя выручка пользователей из Москвы не отличается от выручки пользователей из других регионов. Существует вероятность 50,3%  того, что я бы ошибся, если бы не отклонил нулевую гипотезу и сделал вывод, что доходы в Москве и регионах отличаются."
   ]
  },
  {
   "cell_type": "markdown",
   "metadata": {},
   "source": [
    "## Шаг 5. Общий вывод"
   ]
  },
  {
   "cell_type": "markdown",
   "metadata": {},
   "source": [
    "***На основе выполненного анализа пришел к следующему выводу:\n",
    "<br> * за 2018г клиентам двух тарифных планов, «Смарт» и «Ультра»,зафиксировано 500чел.(«Смарт» - 351, «Ультра» - 149);\n",
    "<br> * Пользователи тарифа Ультра более активны почти по всем позициям (длительность звонков, количество сообщений и объём интернет-трафика), но пользователи тарифа Смарт тратят в 6 раз больше на дополнительные пакеты услуг.\n",
    "<br> * Для оператора прибыльным тарифом является тариф Ультра, даже с учетом того, что в среднем пользователи не выходят за границы тарифных лимитов, а пользователи тарифа Смарт не тратят столько денег, чтобы перегнать стоимость тарифа Ультра. Таким образом, для пользователя выгоднее тариф Смарт.\n",
    "<br> * Пользователи тарифа \"Смарт\" на звонки за месяц тратят от 250 до 650 минут. Примерно от 8 минут до 22 минут в день. Около 30% людей не хватает 500 минут в тарифе;\n",
    "<br> * Пользователи тарифа \"Ультра\" в осноном говорят от 250 до 900 минут. Это в разы меньше, чем предоставлено по тарифу.\n",
    "<br> * Пользователи тарифа \"Смарт\" отправляют до 50 сообщений в месяц (по 1-2 в день). Здесь заментна положительная скошенность нормального распределения;\n",
    "<br> * Пользователи тарифа \"Ультра\" отправляют до 75 сообщений в месяц (по 2-3 в день), что в разы меньше предложенного в тарифе;\n",
    "<br> * Пользователи тарифа \"Смарт\" в основном тратили от 12000 до 22000 МБ;\n",
    "<br> * Пользователи тарифа \"Ультра\" в основном тратят от 9000 до 30000 МБ.\n",
    "<br> * Пользователи тарифа \"Смарт\" около 36.37% пользователей превышают данный пакетом лимит в 500 минут.\n",
    "Около 25.29% пользователям недостаточно 50 сообщений в месяц.\n",
    "Около 58.74% пользователей использую больше 15 ГБ трафика интернета в месяц.\n",
    "Результатом использования сверх лимита является ситуация с большой оплатой за месяц. Рекордная 5252 рубля. Самой значимой затратой является пакет трафика на месяц. По гистограмме видны шаги в 200 рублей. 75.16% пользователей платят больше 550 рублей;\n",
    "<br> * Пользователи тарифа \"Ультра\" не превышают лимиты по количеству минут и смс в месяц.\n",
    "Около 13.59% перерасходуют лимит по интернету. Получается плата за месяц выше только по причине интернета. Это видно по шагам в 150 рублей на гистограмме.\n",
    "<br> * По средним значениям выручки пользователей Москвы и регионов мы видим разницу по столбцу \"rub_monthly_fee_ove\" (+ бесплатный пакет услуг) в 63 рубля в пользу регионов, по столбцу \"rub_monthly_fee_total\" (суммарная оплата услуг) в 85 рублей в пользу Москвы.\n",
    "<br> * В Москве больше трафик интернета и длительность звонков больше. Сообщений болше оправляется с регионов.\n",
    "<br> * Средняя выручка пользователей тарифов «Ультра» и «Смарт» дейтсвительно различаются.\n",
    "<br> * Cредняя выручка пользователей из Москвы не отличается от выручки пользователей из других регионов.\n",
    "<br> * 200 для УЛЬТРА требуется сообщений в месяц.\n",
    "<br> * 120 для СМАРТ требуется сообщений в месяц.\n",
    "<br> * Тем самым для тарифа ультра можно уменьшить тарифный план, а для смарт увеличить.\n",
    "<br> * 1550 для УЛЬТРА требуется минут разговора в месяц.\n",
    "<br> * 1000 для СМАРТ требуется минут разговора в месяц.\n",
    "<br> * 50 для УЛЬТРА требуется гб интернет трафика в месяц\n",
    "<br> * 32 для СМАРТ требуется гб интернет трафика в месяц\n",
    "<br> * Каждый пользователь тарифа Ультра приносит компании в среднем 13 622 рублей в год, пользователь тарифа Смарт приносит лишь 7940 рублей в год;\n",
    "<br> * Годовая выручка компании по тарифу Смарт - 2 786 975 рублей в год, по тарифу Ультра приносит 2 029 622 рублей в год.\n",
    "<br> * По проведенному анализу можно сделать вывод, что тариф \"Ультра\" является наиболее выгодным тарифом.***"
   ]
  }
 ],
 "metadata": {
  "ExecuteTimeLog": [
   {
    "duration": 1118,
    "start_time": "2021-09-22T08:42:18.269Z"
   },
   {
    "duration": 1452,
    "start_time": "2021-09-22T08:42:22.777Z"
   },
   {
    "duration": 983,
    "start_time": "2021-09-22T08:44:15.454Z"
   },
   {
    "duration": 1547,
    "start_time": "2021-09-22T08:44:16.438Z"
   },
   {
    "duration": 1026,
    "start_time": "2021-09-22T08:44:40.202Z"
   },
   {
    "duration": 2411,
    "start_time": "2021-09-22T08:44:47.871Z"
   },
   {
    "duration": 387,
    "start_time": "2021-09-22T08:47:05.545Z"
   },
   {
    "duration": 20,
    "start_time": "2021-09-22T08:49:02.533Z"
   },
   {
    "duration": 11,
    "start_time": "2021-09-22T08:49:33.765Z"
   },
   {
    "duration": 4,
    "start_time": "2021-09-22T08:50:09.789Z"
   },
   {
    "duration": 19,
    "start_time": "2021-09-22T08:50:43.793Z"
   },
   {
    "duration": 86,
    "start_time": "2021-09-22T08:51:05.300Z"
   },
   {
    "duration": 17,
    "start_time": "2021-09-22T08:54:34.672Z"
   },
   {
    "duration": 8,
    "start_time": "2021-09-22T08:54:57.628Z"
   },
   {
    "duration": 4,
    "start_time": "2021-09-22T08:55:14.548Z"
   },
   {
    "duration": 15,
    "start_time": "2021-09-22T08:55:34.135Z"
   },
   {
    "duration": 52,
    "start_time": "2021-09-22T08:55:52.172Z"
   },
   {
    "duration": 14,
    "start_time": "2021-09-22T08:57:36.836Z"
   },
   {
    "duration": 7,
    "start_time": "2021-09-22T08:57:51.494Z"
   },
   {
    "duration": 4,
    "start_time": "2021-09-22T08:58:09.919Z"
   },
   {
    "duration": 13,
    "start_time": "2021-09-22T08:58:25.531Z"
   },
   {
    "duration": 41,
    "start_time": "2021-09-22T08:58:41.788Z"
   },
   {
    "duration": 6,
    "start_time": "2021-09-22T09:22:33.810Z"
   },
   {
    "duration": 8,
    "start_time": "2021-09-22T09:23:03.609Z"
   },
   {
    "duration": 4,
    "start_time": "2021-09-22T09:23:24.217Z"
   },
   {
    "duration": 5,
    "start_time": "2021-09-22T09:23:49.578Z"
   },
   {
    "duration": 6,
    "start_time": "2021-09-22T09:24:08.002Z"
   },
   {
    "duration": 6,
    "start_time": "2021-09-22T09:25:52.885Z"
   },
   {
    "duration": 9,
    "start_time": "2021-09-22T09:26:15.739Z"
   },
   {
    "duration": 4,
    "start_time": "2021-09-22T09:26:44.011Z"
   },
   {
    "duration": 6,
    "start_time": "2021-09-22T09:32:24.014Z"
   },
   {
    "duration": 6,
    "start_time": "2021-09-22T09:33:00.746Z"
   },
   {
    "duration": 6,
    "start_time": "2021-09-22T09:35:46.689Z"
   },
   {
    "duration": 6,
    "start_time": "2021-09-22T09:37:45.239Z"
   },
   {
    "duration": 7,
    "start_time": "2021-09-22T09:39:01.410Z"
   },
   {
    "duration": 6,
    "start_time": "2021-09-22T09:39:30.168Z"
   },
   {
    "duration": 7,
    "start_time": "2021-09-22T09:42:05.905Z"
   },
   {
    "duration": 1070,
    "start_time": "2021-09-22T10:10:43.073Z"
   },
   {
    "duration": 411,
    "start_time": "2021-09-22T10:10:44.145Z"
   },
   {
    "duration": 20,
    "start_time": "2021-09-22T10:10:44.560Z"
   },
   {
    "duration": 11,
    "start_time": "2021-09-22T10:10:44.581Z"
   },
   {
    "duration": 3,
    "start_time": "2021-09-22T10:10:44.593Z"
   },
   {
    "duration": 19,
    "start_time": "2021-09-22T10:10:44.598Z"
   },
   {
    "duration": 88,
    "start_time": "2021-09-22T10:10:44.619Z"
   },
   {
    "duration": 446,
    "start_time": "2021-09-22T10:10:44.709Z"
   },
   {
    "duration": 6570,
    "start_time": "2021-09-22T10:10:38.587Z"
   },
   {
    "duration": 6568,
    "start_time": "2021-09-22T10:10:38.590Z"
   },
   {
    "duration": 6568,
    "start_time": "2021-09-22T10:10:38.591Z"
   },
   {
    "duration": 6550,
    "start_time": "2021-09-22T10:10:38.610Z"
   },
   {
    "duration": 6549,
    "start_time": "2021-09-22T10:10:38.611Z"
   },
   {
    "duration": 6549,
    "start_time": "2021-09-22T10:10:38.612Z"
   },
   {
    "duration": 6548,
    "start_time": "2021-09-22T10:10:38.614Z"
   },
   {
    "duration": 6547,
    "start_time": "2021-09-22T10:10:38.616Z"
   },
   {
    "duration": 6547,
    "start_time": "2021-09-22T10:10:38.617Z"
   },
   {
    "duration": 6547,
    "start_time": "2021-09-22T10:10:38.618Z"
   },
   {
    "duration": 6547,
    "start_time": "2021-09-22T10:10:38.619Z"
   },
   {
    "duration": 6547,
    "start_time": "2021-09-22T10:10:38.620Z"
   },
   {
    "duration": 6547,
    "start_time": "2021-09-22T10:10:38.621Z"
   },
   {
    "duration": 6545,
    "start_time": "2021-09-22T10:10:38.624Z"
   },
   {
    "duration": 6535,
    "start_time": "2021-09-22T10:10:38.635Z"
   },
   {
    "duration": 6534,
    "start_time": "2021-09-22T10:10:38.636Z"
   },
   {
    "duration": 6534,
    "start_time": "2021-09-22T10:10:38.637Z"
   },
   {
    "duration": 6535,
    "start_time": "2021-09-22T10:10:38.638Z"
   },
   {
    "duration": 6532,
    "start_time": "2021-09-22T10:10:38.642Z"
   },
   {
    "duration": 6532,
    "start_time": "2021-09-22T10:10:38.643Z"
   },
   {
    "duration": 6532,
    "start_time": "2021-09-22T10:10:38.644Z"
   },
   {
    "duration": 6531,
    "start_time": "2021-09-22T10:10:38.645Z"
   },
   {
    "duration": 6531,
    "start_time": "2021-09-22T10:10:38.646Z"
   },
   {
    "duration": 6531,
    "start_time": "2021-09-22T10:10:38.647Z"
   },
   {
    "duration": 1065,
    "start_time": "2021-09-22T10:11:00.215Z"
   },
   {
    "duration": 397,
    "start_time": "2021-09-22T10:11:04.805Z"
   },
   {
    "duration": 21,
    "start_time": "2021-09-22T10:11:11.183Z"
   },
   {
    "duration": 11,
    "start_time": "2021-09-22T10:11:17.057Z"
   },
   {
    "duration": 4,
    "start_time": "2021-09-22T10:11:23.783Z"
   },
   {
    "duration": 22,
    "start_time": "2021-09-22T10:11:24.958Z"
   },
   {
    "duration": 98,
    "start_time": "2021-09-22T10:11:28.302Z"
   },
   {
    "duration": 296,
    "start_time": "2021-09-22T10:11:31.815Z"
   },
   {
    "duration": 247,
    "start_time": "2021-09-22T10:11:35.534Z"
   },
   {
    "duration": 989,
    "start_time": "2021-09-22T10:14:45.443Z"
   },
   {
    "duration": 1072,
    "start_time": "2021-09-22T10:14:54.067Z"
   },
   {
    "duration": 479,
    "start_time": "2021-09-22T10:14:57.298Z"
   },
   {
    "duration": 404,
    "start_time": "2021-09-22T10:15:27.968Z"
   },
   {
    "duration": 1089,
    "start_time": "2021-09-22T10:15:43.576Z"
   },
   {
    "duration": 426,
    "start_time": "2021-09-22T10:15:44.667Z"
   },
   {
    "duration": 1967,
    "start_time": "2021-09-22T10:15:50.208Z"
   },
   {
    "duration": 413,
    "start_time": "2021-09-22T10:15:55.846Z"
   },
   {
    "duration": 22,
    "start_time": "2021-09-22T10:15:59.188Z"
   },
   {
    "duration": 10,
    "start_time": "2021-09-22T10:16:04.203Z"
   },
   {
    "duration": 4,
    "start_time": "2021-09-22T10:16:05.720Z"
   },
   {
    "duration": 19,
    "start_time": "2021-09-22T10:16:07.825Z"
   },
   {
    "duration": 91,
    "start_time": "2021-09-22T10:16:11.360Z"
   },
   {
    "duration": 16,
    "start_time": "2021-09-22T10:16:15.283Z"
   },
   {
    "duration": 8,
    "start_time": "2021-09-22T10:16:19.691Z"
   },
   {
    "duration": 4,
    "start_time": "2021-09-22T10:16:21.000Z"
   },
   {
    "duration": 16,
    "start_time": "2021-09-22T10:16:22.475Z"
   },
   {
    "duration": 47,
    "start_time": "2021-09-22T10:16:25.868Z"
   },
   {
    "duration": 14,
    "start_time": "2021-09-22T10:16:30.373Z"
   },
   {
    "duration": 8,
    "start_time": "2021-09-22T10:17:00.384Z"
   },
   {
    "duration": 4,
    "start_time": "2021-09-22T10:17:01.439Z"
   },
   {
    "duration": 14,
    "start_time": "2021-09-22T10:17:02.635Z"
   },
   {
    "duration": 39,
    "start_time": "2021-09-22T10:17:04.074Z"
   },
   {
    "duration": 6,
    "start_time": "2021-09-22T10:17:10.856Z"
   },
   {
    "duration": 8,
    "start_time": "2021-09-22T10:17:14.934Z"
   },
   {
    "duration": 4,
    "start_time": "2021-09-22T10:17:15.696Z"
   },
   {
    "duration": 6,
    "start_time": "2021-09-22T10:17:16.483Z"
   },
   {
    "duration": 6,
    "start_time": "2021-09-22T10:17:19.272Z"
   },
   {
    "duration": 6,
    "start_time": "2021-09-22T10:17:22.832Z"
   },
   {
    "duration": 10,
    "start_time": "2021-09-22T10:17:26.691Z"
   },
   {
    "duration": 4,
    "start_time": "2021-09-22T10:17:27.764Z"
   },
   {
    "duration": 6,
    "start_time": "2021-09-22T10:17:32.223Z"
   },
   {
    "duration": 5,
    "start_time": "2021-09-22T10:17:37.592Z"
   },
   {
    "duration": 7,
    "start_time": "2021-09-22T10:17:38.472Z"
   },
   {
    "duration": 7,
    "start_time": "2021-09-22T10:17:39.480Z"
   },
   {
    "duration": 6,
    "start_time": "2021-09-22T10:17:42.609Z"
   },
   {
    "duration": 6,
    "start_time": "2021-09-22T10:17:43.697Z"
   },
   {
    "duration": 8,
    "start_time": "2021-09-22T10:17:48.259Z"
   },
   {
    "duration": 301,
    "start_time": "2021-09-22T19:42:35.086Z"
   },
   {
    "duration": 1092,
    "start_time": "2021-09-22T19:42:54.604Z"
   },
   {
    "duration": 403,
    "start_time": "2021-09-22T19:42:57.760Z"
   },
   {
    "duration": 22,
    "start_time": "2021-09-22T19:43:00.900Z"
   },
   {
    "duration": 12,
    "start_time": "2021-09-22T19:43:04.110Z"
   },
   {
    "duration": 4,
    "start_time": "2021-09-22T19:43:06.129Z"
   },
   {
    "duration": 20,
    "start_time": "2021-09-22T19:43:09.340Z"
   },
   {
    "duration": 90,
    "start_time": "2021-09-22T19:43:10.460Z"
   },
   {
    "duration": 16,
    "start_time": "2021-09-22T19:43:14.098Z"
   },
   {
    "duration": 8,
    "start_time": "2021-09-22T19:43:17.223Z"
   },
   {
    "duration": 4,
    "start_time": "2021-09-22T19:43:18.188Z"
   },
   {
    "duration": 19,
    "start_time": "2021-09-22T19:43:19.414Z"
   },
   {
    "duration": 51,
    "start_time": "2021-09-22T19:43:21.709Z"
   },
   {
    "duration": 14,
    "start_time": "2021-09-22T19:43:24.236Z"
   },
   {
    "duration": 7,
    "start_time": "2021-09-22T19:43:30.784Z"
   },
   {
    "duration": 4,
    "start_time": "2021-09-22T19:43:31.783Z"
   },
   {
    "duration": 14,
    "start_time": "2021-09-22T19:43:34.115Z"
   },
   {
    "duration": 42,
    "start_time": "2021-09-22T19:43:35.495Z"
   },
   {
    "duration": 7,
    "start_time": "2021-09-22T19:43:39.217Z"
   },
   {
    "duration": 7,
    "start_time": "2021-09-22T19:43:43.746Z"
   },
   {
    "duration": 4,
    "start_time": "2021-09-22T19:43:45.490Z"
   },
   {
    "duration": 5,
    "start_time": "2021-09-22T19:43:47.065Z"
   },
   {
    "duration": 5,
    "start_time": "2021-09-22T19:43:49.737Z"
   },
   {
    "duration": 6,
    "start_time": "2021-09-22T19:43:53.083Z"
   },
   {
    "duration": 9,
    "start_time": "2021-09-22T19:43:56.610Z"
   },
   {
    "duration": 4,
    "start_time": "2021-09-22T19:43:57.530Z"
   },
   {
    "duration": 6,
    "start_time": "2021-09-22T19:44:03.945Z"
   },
   {
    "duration": 5,
    "start_time": "2021-09-22T19:44:09.594Z"
   },
   {
    "duration": 6,
    "start_time": "2021-09-22T19:44:10.634Z"
   },
   {
    "duration": 7,
    "start_time": "2021-09-22T19:44:13.819Z"
   },
   {
    "duration": 6,
    "start_time": "2021-09-22T19:44:15.985Z"
   },
   {
    "duration": 6,
    "start_time": "2021-09-22T19:44:16.922Z"
   },
   {
    "duration": 7,
    "start_time": "2021-09-22T19:44:20.315Z"
   },
   {
    "duration": 43,
    "start_time": "2021-09-22T19:44:28.195Z"
   },
   {
    "duration": 5,
    "start_time": "2021-09-22T19:44:52.331Z"
   },
   {
    "duration": 32,
    "start_time": "2021-09-22T19:45:12.819Z"
   },
   {
    "duration": 362,
    "start_time": "2021-09-22T19:45:28.768Z"
   },
   {
    "duration": 9,
    "start_time": "2021-09-22T19:46:00.245Z"
   },
   {
    "duration": 27,
    "start_time": "2021-09-22T19:46:20.259Z"
   },
   {
    "duration": 5,
    "start_time": "2021-09-22T19:46:34.667Z"
   },
   {
    "duration": 7,
    "start_time": "2021-09-22T19:46:50.548Z"
   },
   {
    "duration": 8,
    "start_time": "2021-09-22T19:47:28.955Z"
   },
   {
    "duration": 12,
    "start_time": "2021-09-22T19:47:54.641Z"
   },
   {
    "duration": 6,
    "start_time": "2021-09-22T19:48:43.386Z"
   },
   {
    "duration": 4,
    "start_time": "2021-09-22T19:53:57.470Z"
   },
   {
    "duration": 9,
    "start_time": "2021-09-22T19:54:01.687Z"
   },
   {
    "duration": 4,
    "start_time": "2021-09-22T19:56:36.638Z"
   },
   {
    "duration": 8,
    "start_time": "2021-09-22T19:56:46.354Z"
   },
   {
    "duration": 9,
    "start_time": "2021-09-22T20:09:36.732Z"
   },
   {
    "duration": 10,
    "start_time": "2021-09-22T20:13:36.195Z"
   },
   {
    "duration": 267,
    "start_time": "2021-09-22T20:30:49.815Z"
   },
   {
    "duration": 88,
    "start_time": "2021-09-22T20:32:21.262Z"
   },
   {
    "duration": 36,
    "start_time": "2021-09-22T20:34:23.927Z"
   },
   {
    "duration": 46,
    "start_time": "2021-09-22T20:35:51.565Z"
   },
   {
    "duration": 263,
    "start_time": "2021-09-22T20:41:26.573Z"
   },
   {
    "duration": 250,
    "start_time": "2021-09-22T20:43:10.828Z"
   },
   {
    "duration": 34,
    "start_time": "2021-09-22T20:44:30.636Z"
   },
   {
    "duration": 47,
    "start_time": "2021-09-22T20:45:08.386Z"
   },
   {
    "duration": 42,
    "start_time": "2021-09-22T20:47:00.736Z"
   },
   {
    "duration": 14,
    "start_time": "2021-09-22T20:53:25.699Z"
   },
   {
    "duration": 13,
    "start_time": "2021-09-22T20:55:14.929Z"
   },
   {
    "duration": 13,
    "start_time": "2021-09-22T20:55:37.306Z"
   },
   {
    "duration": 16,
    "start_time": "2021-09-22T20:56:05.773Z"
   },
   {
    "duration": 22,
    "start_time": "2021-09-22T20:56:54.949Z"
   },
   {
    "duration": 26,
    "start_time": "2021-09-22T20:57:23.712Z"
   },
   {
    "duration": 6,
    "start_time": "2021-09-22T20:57:53.681Z"
   },
   {
    "duration": 5,
    "start_time": "2021-09-22T20:58:58.738Z"
   },
   {
    "duration": 4,
    "start_time": "2021-09-22T21:00:17.627Z"
   },
   {
    "duration": 5,
    "start_time": "2021-09-22T21:01:02.728Z"
   },
   {
    "duration": 87,
    "start_time": "2021-09-22T21:04:08.182Z"
   },
   {
    "duration": 17,
    "start_time": "2021-09-22T21:04:27.679Z"
   },
   {
    "duration": 1425,
    "start_time": "2021-09-23T08:59:50.001Z"
   },
   {
    "duration": 549,
    "start_time": "2021-09-23T08:59:59.239Z"
   },
   {
    "duration": 28,
    "start_time": "2021-09-23T09:00:05.445Z"
   },
   {
    "duration": 24,
    "start_time": "2021-09-23T09:00:14.306Z"
   },
   {
    "duration": 6,
    "start_time": "2021-09-23T09:00:26.725Z"
   },
   {
    "duration": 26,
    "start_time": "2021-09-23T09:00:31.511Z"
   },
   {
    "duration": 124,
    "start_time": "2021-09-23T09:00:34.214Z"
   },
   {
    "duration": 23,
    "start_time": "2021-09-23T09:00:45.611Z"
   },
   {
    "duration": 12,
    "start_time": "2021-09-23T09:00:52.478Z"
   },
   {
    "duration": 5,
    "start_time": "2021-09-23T09:01:00.991Z"
   },
   {
    "duration": 21,
    "start_time": "2021-09-23T09:01:08.702Z"
   },
   {
    "duration": 62,
    "start_time": "2021-09-23T09:01:19.939Z"
   },
   {
    "duration": 21,
    "start_time": "2021-09-23T09:01:25.578Z"
   },
   {
    "duration": 11,
    "start_time": "2021-09-23T09:01:37.252Z"
   },
   {
    "duration": 6,
    "start_time": "2021-09-23T09:01:44.189Z"
   },
   {
    "duration": 20,
    "start_time": "2021-09-23T09:01:55.557Z"
   },
   {
    "duration": 63,
    "start_time": "2021-09-23T09:02:05.049Z"
   },
   {
    "duration": 9,
    "start_time": "2021-09-23T09:02:17.197Z"
   },
   {
    "duration": 13,
    "start_time": "2021-09-23T09:02:27.585Z"
   },
   {
    "duration": 8,
    "start_time": "2021-09-23T09:02:33.043Z"
   },
   {
    "duration": 9,
    "start_time": "2021-09-23T09:02:41.972Z"
   },
   {
    "duration": 8,
    "start_time": "2021-09-23T09:02:48.450Z"
   },
   {
    "duration": 9,
    "start_time": "2021-09-23T09:02:52.203Z"
   },
   {
    "duration": 14,
    "start_time": "2021-09-23T09:03:01.932Z"
   },
   {
    "duration": 6,
    "start_time": "2021-09-23T09:03:04.516Z"
   },
   {
    "duration": 8,
    "start_time": "2021-09-23T09:03:07.776Z"
   },
   {
    "duration": 8,
    "start_time": "2021-09-23T09:03:13.003Z"
   },
   {
    "duration": 10,
    "start_time": "2021-09-23T09:03:23.330Z"
   },
   {
    "duration": 9,
    "start_time": "2021-09-23T09:03:26.723Z"
   },
   {
    "duration": 9,
    "start_time": "2021-09-23T09:03:29.243Z"
   },
   {
    "duration": 8,
    "start_time": "2021-09-23T09:03:31.907Z"
   },
   {
    "duration": 9,
    "start_time": "2021-09-23T09:03:36.539Z"
   },
   {
    "duration": 71,
    "start_time": "2021-09-23T09:03:39.946Z"
   },
   {
    "duration": 7,
    "start_time": "2021-09-23T09:03:41.306Z"
   },
   {
    "duration": 7,
    "start_time": "2021-09-23T09:03:44.306Z"
   },
   {
    "duration": 11,
    "start_time": "2021-09-23T09:03:51.627Z"
   },
   {
    "duration": 14,
    "start_time": "2021-09-23T09:04:05.258Z"
   },
   {
    "duration": 466,
    "start_time": "2021-09-23T09:04:18.033Z"
   },
   {
    "duration": 387,
    "start_time": "2021-09-23T09:04:31.487Z"
   },
   {
    "duration": 46,
    "start_time": "2021-09-23T09:07:08.658Z"
   },
   {
    "duration": 6,
    "start_time": "2021-09-23T09:07:28.234Z"
   },
   {
    "duration": 12,
    "start_time": "2021-09-23T09:07:44.218Z"
   },
   {
    "duration": 15,
    "start_time": "2021-09-23T09:08:09.120Z"
   },
   {
    "duration": 40,
    "start_time": "2021-09-23T09:08:21.607Z"
   },
   {
    "duration": 7,
    "start_time": "2021-09-23T09:08:35.623Z"
   },
   {
    "duration": 11,
    "start_time": "2021-09-23T09:08:42.704Z"
   },
   {
    "duration": 14,
    "start_time": "2021-09-23T09:08:50.416Z"
   },
   {
    "duration": 19,
    "start_time": "2021-09-23T09:08:59.392Z"
   },
   {
    "duration": 83,
    "start_time": "2021-09-23T09:09:08.755Z"
   },
   {
    "duration": 57,
    "start_time": "2021-09-23T09:09:20.390Z"
   },
   {
    "duration": 66,
    "start_time": "2021-09-23T09:09:30.369Z"
   },
   {
    "duration": 309,
    "start_time": "2021-09-23T09:11:24.543Z"
   },
   {
    "duration": 19,
    "start_time": "2021-09-23T09:15:38.546Z"
   },
   {
    "duration": 78,
    "start_time": "2021-09-23T09:19:00.355Z"
   },
   {
    "duration": 20,
    "start_time": "2021-09-23T09:20:54.890Z"
   },
   {
    "duration": 24,
    "start_time": "2021-09-23T09:21:35.457Z"
   },
   {
    "duration": 18,
    "start_time": "2021-09-23T09:23:33.305Z"
   },
   {
    "duration": 28,
    "start_time": "2021-09-23T09:24:50.448Z"
   },
   {
    "duration": 36,
    "start_time": "2021-09-23T09:25:50.408Z"
   },
   {
    "duration": 44,
    "start_time": "2021-09-23T09:26:56.752Z"
   },
   {
    "duration": 11,
    "start_time": "2021-09-23T09:27:59.511Z"
   },
   {
    "duration": 7,
    "start_time": "2021-09-23T09:29:05.382Z"
   },
   {
    "duration": 5,
    "start_time": "2021-09-23T09:29:15.006Z"
   },
   {
    "duration": 7,
    "start_time": "2021-09-23T09:29:27.991Z"
   },
   {
    "duration": 9420,
    "start_time": "2021-09-23T09:29:40.982Z"
   },
   {
    "duration": 5,
    "start_time": "2021-09-23T09:36:03.997Z"
   },
   {
    "duration": 8,
    "start_time": "2021-09-23T09:36:08.381Z"
   },
   {
    "duration": 9748,
    "start_time": "2021-09-23T09:36:25.462Z"
   },
   {
    "duration": 9,
    "start_time": "2021-09-23T09:37:58.931Z"
   },
   {
    "duration": 625,
    "start_time": "2021-09-23T09:38:07.173Z"
   },
   {
    "duration": 1449,
    "start_time": "2021-09-23T09:40:25.458Z"
   },
   {
    "duration": 534,
    "start_time": "2021-09-23T09:40:29.323Z"
   },
   {
    "duration": 29,
    "start_time": "2021-09-23T09:40:33.827Z"
   },
   {
    "duration": 17,
    "start_time": "2021-09-23T09:40:37.619Z"
   },
   {
    "duration": 6,
    "start_time": "2021-09-23T09:40:40.307Z"
   },
   {
    "duration": 26,
    "start_time": "2021-09-23T09:40:43.323Z"
   },
   {
    "duration": 128,
    "start_time": "2021-09-23T09:40:44.755Z"
   },
   {
    "duration": 22,
    "start_time": "2021-09-23T09:40:49.156Z"
   },
   {
    "duration": 13,
    "start_time": "2021-09-23T09:40:52.356Z"
   },
   {
    "duration": 5,
    "start_time": "2021-09-23T09:40:53.369Z"
   },
   {
    "duration": 23,
    "start_time": "2021-09-23T09:40:55.002Z"
   },
   {
    "duration": 62,
    "start_time": "2021-09-23T09:40:58.577Z"
   },
   {
    "duration": 18,
    "start_time": "2021-09-23T09:41:01.651Z"
   },
   {
    "duration": 11,
    "start_time": "2021-09-23T09:41:11.419Z"
   },
   {
    "duration": 5,
    "start_time": "2021-09-23T09:41:12.547Z"
   },
   {
    "duration": 19,
    "start_time": "2021-09-23T09:41:13.787Z"
   },
   {
    "duration": 62,
    "start_time": "2021-09-23T09:41:17.627Z"
   },
   {
    "duration": 9,
    "start_time": "2021-09-23T09:41:22.147Z"
   },
   {
    "duration": 11,
    "start_time": "2021-09-23T09:41:27.923Z"
   },
   {
    "duration": 5,
    "start_time": "2021-09-23T09:41:29.339Z"
   },
   {
    "duration": 7,
    "start_time": "2021-09-23T09:41:30.403Z"
   },
   {
    "duration": 8,
    "start_time": "2021-09-23T09:41:34.779Z"
   },
   {
    "duration": 9,
    "start_time": "2021-09-23T09:41:37.955Z"
   },
   {
    "duration": 14,
    "start_time": "2021-09-23T09:41:46.202Z"
   },
   {
    "duration": 7,
    "start_time": "2021-09-23T09:41:47.451Z"
   },
   {
    "duration": 9,
    "start_time": "2021-09-23T09:41:52.918Z"
   },
   {
    "duration": 8,
    "start_time": "2021-09-23T09:41:57.163Z"
   },
   {
    "duration": 9,
    "start_time": "2021-09-23T09:41:58.449Z"
   },
   {
    "duration": 11,
    "start_time": "2021-09-23T09:41:59.643Z"
   },
   {
    "duration": 9,
    "start_time": "2021-09-23T09:42:06.260Z"
   },
   {
    "duration": 8,
    "start_time": "2021-09-23T09:42:07.827Z"
   },
   {
    "duration": 10,
    "start_time": "2021-09-23T09:42:16.531Z"
   },
   {
    "duration": 64,
    "start_time": "2021-09-23T09:42:23.130Z"
   },
   {
    "duration": 7,
    "start_time": "2021-09-23T09:42:24.265Z"
   },
   {
    "duration": 6,
    "start_time": "2021-09-23T09:42:28.883Z"
   },
   {
    "duration": 12,
    "start_time": "2021-09-23T09:42:29.851Z"
   },
   {
    "duration": 13,
    "start_time": "2021-09-23T09:42:31.043Z"
   },
   {
    "duration": 389,
    "start_time": "2021-09-23T09:42:35.978Z"
   },
   {
    "duration": 49,
    "start_time": "2021-09-23T09:42:41.122Z"
   },
   {
    "duration": 4,
    "start_time": "2021-09-23T09:42:44.347Z"
   },
   {
    "duration": 13,
    "start_time": "2021-09-23T09:42:45.451Z"
   },
   {
    "duration": 14,
    "start_time": "2021-09-23T09:42:46.686Z"
   },
   {
    "duration": 41,
    "start_time": "2021-09-23T09:42:55.874Z"
   },
   {
    "duration": 6,
    "start_time": "2021-09-23T09:42:57.051Z"
   },
   {
    "duration": 10,
    "start_time": "2021-09-23T09:42:58.569Z"
   },
   {
    "duration": 13,
    "start_time": "2021-09-23T09:43:03.476Z"
   },
   {
    "duration": 18,
    "start_time": "2021-09-23T09:43:05.202Z"
   },
   {
    "duration": 91,
    "start_time": "2021-09-23T09:43:09.339Z"
   },
   {
    "duration": 57,
    "start_time": "2021-09-23T09:43:13.784Z"
   },
   {
    "duration": 64,
    "start_time": "2021-09-23T09:43:16.861Z"
   },
   {
    "duration": 20,
    "start_time": "2021-09-23T09:43:21.189Z"
   },
   {
    "duration": 23,
    "start_time": "2021-09-23T09:43:44.052Z"
   },
   {
    "duration": 21,
    "start_time": "2021-09-23T09:43:47.962Z"
   },
   {
    "duration": 28,
    "start_time": "2021-09-23T09:43:51.674Z"
   },
   {
    "duration": 39,
    "start_time": "2021-09-23T09:43:57.147Z"
   },
   {
    "duration": 41,
    "start_time": "2021-09-23T09:44:03.379Z"
   },
   {
    "duration": 10,
    "start_time": "2021-09-23T09:44:07.978Z"
   },
   {
    "duration": 8,
    "start_time": "2021-09-23T09:44:12.786Z"
   },
   {
    "duration": 5,
    "start_time": "2021-09-23T09:46:42.434Z"
   },
   {
    "duration": 8,
    "start_time": "2021-09-23T09:49:02.014Z"
   },
   {
    "duration": 268,
    "start_time": "2021-09-23T09:49:17.178Z"
   },
   {
    "duration": 23,
    "start_time": "2021-09-23T09:49:37.889Z"
   },
   {
    "duration": 419,
    "start_time": "2021-09-23T10:09:22.021Z"
   },
   {
    "duration": 302,
    "start_time": "2021-09-23T10:09:46.262Z"
   },
   {
    "duration": 420,
    "start_time": "2021-09-23T10:10:20.699Z"
   },
   {
    "duration": 9,
    "start_time": "2021-09-23T10:14:47.868Z"
   },
   {
    "duration": 17,
    "start_time": "2021-09-23T10:15:30.034Z"
   },
   {
    "duration": 9,
    "start_time": "2021-09-23T10:15:39.633Z"
   },
   {
    "duration": 8,
    "start_time": "2021-09-23T10:16:45.051Z"
   },
   {
    "duration": 36,
    "start_time": "2021-09-23T10:24:12.889Z"
   },
   {
    "duration": 31,
    "start_time": "2021-09-23T10:26:53.857Z"
   },
   {
    "duration": 350,
    "start_time": "2021-09-23T10:28:50.161Z"
   },
   {
    "duration": 19,
    "start_time": "2021-09-23T10:29:22.891Z"
   },
   {
    "duration": 14,
    "start_time": "2021-09-23T10:29:57.919Z"
   },
   {
    "duration": 13,
    "start_time": "2021-09-23T10:30:08.311Z"
   },
   {
    "duration": 8,
    "start_time": "2021-09-23T10:47:50.498Z"
   },
   {
    "duration": 296,
    "start_time": "2021-09-23T10:49:00.954Z"
   },
   {
    "duration": 29,
    "start_time": "2021-09-23T10:49:56.034Z"
   },
   {
    "duration": 31,
    "start_time": "2021-09-23T10:51:20.398Z"
   },
   {
    "duration": 31,
    "start_time": "2021-09-23T10:51:30.010Z"
   },
   {
    "duration": 31,
    "start_time": "2021-09-23T10:52:15.361Z"
   },
   {
    "duration": 314,
    "start_time": "2021-09-23T10:53:32.601Z"
   },
   {
    "duration": 535,
    "start_time": "2021-09-23T10:54:54.777Z"
   },
   {
    "duration": 361,
    "start_time": "2021-09-23T11:24:53.155Z"
   },
   {
    "duration": 13,
    "start_time": "2021-09-23T11:33:47.215Z"
   },
   {
    "duration": 29,
    "start_time": "2021-09-23T11:36:18.597Z"
   },
   {
    "duration": 13,
    "start_time": "2021-09-23T11:37:12.294Z"
   },
   {
    "duration": 12,
    "start_time": "2021-09-23T11:37:37.734Z"
   },
   {
    "duration": 933,
    "start_time": "2021-09-23T11:47:46.591Z"
   },
   {
    "duration": 1026,
    "start_time": "2021-09-23T11:48:17.504Z"
   },
   {
    "duration": 788,
    "start_time": "2021-09-23T11:48:38.147Z"
   },
   {
    "duration": 542,
    "start_time": "2021-09-23T11:48:58.772Z"
   },
   {
    "duration": 781,
    "start_time": "2021-09-23T11:51:02.059Z"
   },
   {
    "duration": 585,
    "start_time": "2021-09-23T11:51:36.856Z"
   },
   {
    "duration": 26,
    "start_time": "2021-09-23T11:55:13.052Z"
   },
   {
    "duration": 25,
    "start_time": "2021-09-23T11:55:45.025Z"
   },
   {
    "duration": 557,
    "start_time": "2021-09-23T11:56:13.939Z"
   },
   {
    "duration": 29,
    "start_time": "2021-09-23T11:57:07.726Z"
   },
   {
    "duration": 28,
    "start_time": "2021-09-23T11:57:20.481Z"
   },
   {
    "duration": 742,
    "start_time": "2021-09-23T11:57:26.393Z"
   },
   {
    "duration": 298,
    "start_time": "2021-09-23T12:01:41.888Z"
   },
   {
    "duration": 1422,
    "start_time": "2021-09-23T12:02:11.582Z"
   },
   {
    "duration": 574,
    "start_time": "2021-09-23T12:02:22.839Z"
   },
   {
    "duration": 29,
    "start_time": "2021-09-23T12:02:26.435Z"
   },
   {
    "duration": 17,
    "start_time": "2021-09-23T12:02:30.972Z"
   },
   {
    "duration": 6,
    "start_time": "2021-09-23T12:02:33.655Z"
   },
   {
    "duration": 28,
    "start_time": "2021-09-23T12:02:36.296Z"
   },
   {
    "duration": 134,
    "start_time": "2021-09-23T12:02:38.206Z"
   },
   {
    "duration": 23,
    "start_time": "2021-09-23T12:02:41.774Z"
   },
   {
    "duration": 12,
    "start_time": "2021-09-23T12:02:45.088Z"
   },
   {
    "duration": 6,
    "start_time": "2021-09-23T12:02:47.246Z"
   },
   {
    "duration": 21,
    "start_time": "2021-09-23T12:02:48.440Z"
   },
   {
    "duration": 68,
    "start_time": "2021-09-23T12:02:50.837Z"
   },
   {
    "duration": 22,
    "start_time": "2021-09-23T12:02:54.159Z"
   },
   {
    "duration": 10,
    "start_time": "2021-09-23T12:02:57.372Z"
   },
   {
    "duration": 9,
    "start_time": "2021-09-23T12:02:59.790Z"
   },
   {
    "duration": 18,
    "start_time": "2021-09-23T12:03:01.967Z"
   },
   {
    "duration": 69,
    "start_time": "2021-09-23T12:03:04.318Z"
   },
   {
    "duration": 10,
    "start_time": "2021-09-23T12:03:07.656Z"
   },
   {
    "duration": 12,
    "start_time": "2021-09-23T12:03:13.395Z"
   },
   {
    "duration": 6,
    "start_time": "2021-09-23T12:03:16.658Z"
   },
   {
    "duration": 8,
    "start_time": "2021-09-23T12:03:49.494Z"
   },
   {
    "duration": 8,
    "start_time": "2021-09-23T12:03:52.061Z"
   },
   {
    "duration": 9,
    "start_time": "2021-09-23T12:03:56.807Z"
   },
   {
    "duration": 14,
    "start_time": "2021-09-23T12:04:01.862Z"
   },
   {
    "duration": 6,
    "start_time": "2021-09-23T12:04:04.423Z"
   },
   {
    "duration": 11,
    "start_time": "2021-09-23T12:04:08.502Z"
   },
   {
    "duration": 9,
    "start_time": "2021-09-23T12:04:13.210Z"
   },
   {
    "duration": 10,
    "start_time": "2021-09-23T12:04:32.695Z"
   },
   {
    "duration": 10,
    "start_time": "2021-09-23T12:04:36.972Z"
   },
   {
    "duration": 9,
    "start_time": "2021-09-23T12:04:39.791Z"
   },
   {
    "duration": 9,
    "start_time": "2021-09-23T12:04:42.986Z"
   },
   {
    "duration": 9,
    "start_time": "2021-09-23T12:04:47.846Z"
   },
   {
    "duration": 65,
    "start_time": "2021-09-23T12:05:09.933Z"
   },
   {
    "duration": 7,
    "start_time": "2021-09-23T12:05:11.353Z"
   },
   {
    "duration": 6,
    "start_time": "2021-09-23T12:05:16.062Z"
   },
   {
    "duration": 12,
    "start_time": "2021-09-23T12:05:18.238Z"
   },
   {
    "duration": 14,
    "start_time": "2021-09-23T12:05:22.036Z"
   },
   {
    "duration": 1269,
    "start_time": "2021-09-23T12:05:31.368Z"
   },
   {
    "duration": 23,
    "start_time": "2021-09-23T12:06:10.499Z"
   },
   {
    "duration": 16,
    "start_time": "2021-09-23T12:08:10.009Z"
   },
   {
    "duration": 12,
    "start_time": "2021-09-23T12:08:14.255Z"
   },
   {
    "duration": 384,
    "start_time": "2021-09-23T12:08:48.640Z"
   },
   {
    "duration": 47,
    "start_time": "2021-09-23T12:09:12.797Z"
   },
   {
    "duration": 5,
    "start_time": "2021-09-23T12:09:16.532Z"
   },
   {
    "duration": 12,
    "start_time": "2021-09-23T12:09:18.560Z"
   },
   {
    "duration": 14,
    "start_time": "2021-09-23T12:09:31.374Z"
   },
   {
    "duration": 40,
    "start_time": "2021-09-23T12:09:32.990Z"
   },
   {
    "duration": 7,
    "start_time": "2021-09-23T12:09:35.909Z"
   },
   {
    "duration": 11,
    "start_time": "2021-09-23T12:09:38.542Z"
   },
   {
    "duration": 13,
    "start_time": "2021-09-23T12:09:39.877Z"
   },
   {
    "duration": 18,
    "start_time": "2021-09-23T12:09:42.157Z"
   },
   {
    "duration": 90,
    "start_time": "2021-09-23T12:09:45.309Z"
   },
   {
    "duration": 57,
    "start_time": "2021-09-23T12:09:49.512Z"
   },
   {
    "duration": 69,
    "start_time": "2021-09-23T12:09:55.663Z"
   },
   {
    "duration": 21,
    "start_time": "2021-09-23T12:09:59.005Z"
   },
   {
    "duration": 22,
    "start_time": "2021-09-23T12:10:01.432Z"
   },
   {
    "duration": 20,
    "start_time": "2021-09-23T12:10:03.757Z"
   },
   {
    "duration": 34,
    "start_time": "2021-09-23T12:10:06.967Z"
   },
   {
    "duration": 40,
    "start_time": "2021-09-23T12:10:10.004Z"
   },
   {
    "duration": 44,
    "start_time": "2021-09-23T12:10:11.253Z"
   },
   {
    "duration": 11,
    "start_time": "2021-09-23T12:10:15.717Z"
   },
   {
    "duration": 7,
    "start_time": "2021-09-23T12:10:18.438Z"
   },
   {
    "duration": 7,
    "start_time": "2021-09-23T12:10:21.254Z"
   },
   {
    "duration": 12,
    "start_time": "2021-09-23T12:10:28.097Z"
   },
   {
    "duration": 241,
    "start_time": "2021-09-23T12:10:30.190Z"
   },
   {
    "duration": 34,
    "start_time": "2021-09-23T12:10:31.336Z"
   },
   {
    "duration": 586,
    "start_time": "2021-09-23T12:10:37.639Z"
   },
   {
    "duration": 10,
    "start_time": "2021-09-23T12:10:48.165Z"
   },
   {
    "duration": 43,
    "start_time": "2021-09-23T12:10:49.708Z"
   },
   {
    "duration": 18,
    "start_time": "2021-09-23T12:10:53.910Z"
   },
   {
    "duration": 47,
    "start_time": "2021-09-23T12:10:55.608Z"
   },
   {
    "duration": 15,
    "start_time": "2021-09-23T12:11:00.353Z"
   },
   {
    "duration": 8,
    "start_time": "2021-09-23T12:11:04.661Z"
   },
   {
    "duration": 33,
    "start_time": "2021-09-23T12:11:05.559Z"
   },
   {
    "duration": 313,
    "start_time": "2021-09-23T12:11:08.822Z"
   },
   {
    "duration": 31,
    "start_time": "2021-09-23T12:12:23.502Z"
   },
   {
    "duration": 518,
    "start_time": "2021-09-23T12:12:28.789Z"
   },
   {
    "duration": 779,
    "start_time": "2021-09-23T12:17:18.266Z"
   },
   {
    "duration": 651,
    "start_time": "2021-09-23T12:19:41.979Z"
   },
   {
    "duration": 284,
    "start_time": "2021-09-23T12:24:23.018Z"
   },
   {
    "duration": 288,
    "start_time": "2021-09-23T12:24:50.354Z"
   },
   {
    "duration": 307,
    "start_time": "2021-09-23T12:28:04.742Z"
   },
   {
    "duration": 17,
    "start_time": "2021-09-23T12:28:36.237Z"
   },
   {
    "duration": 18,
    "start_time": "2021-09-23T12:29:55.425Z"
   },
   {
    "duration": 20,
    "start_time": "2021-09-23T12:30:27.128Z"
   },
   {
    "duration": 488,
    "start_time": "2021-09-23T12:31:45.265Z"
   },
   {
    "duration": 483,
    "start_time": "2021-09-23T12:32:19.289Z"
   },
   {
    "duration": 377,
    "start_time": "2021-09-23T12:33:49.178Z"
   },
   {
    "duration": 10,
    "start_time": "2021-09-23T12:34:29.445Z"
   },
   {
    "duration": 22,
    "start_time": "2021-09-23T12:36:17.084Z"
   },
   {
    "duration": 359,
    "start_time": "2021-09-23T12:45:30.805Z"
   },
   {
    "duration": 20,
    "start_time": "2021-09-23T12:49:46.007Z"
   },
   {
    "duration": 18,
    "start_time": "2021-09-23T12:51:09.061Z"
   },
   {
    "duration": 7,
    "start_time": "2021-09-23T12:52:19.144Z"
   },
   {
    "duration": 1027,
    "start_time": "2021-09-23T12:52:49.852Z"
   },
   {
    "duration": 1120,
    "start_time": "2021-09-23T12:53:35.982Z"
   },
   {
    "duration": 9812,
    "start_time": "2021-09-23T12:54:12.495Z"
   },
   {
    "duration": 836,
    "start_time": "2021-09-23T12:54:52.244Z"
   },
   {
    "duration": 1804,
    "start_time": "2021-09-23T12:55:52.619Z"
   },
   {
    "duration": 547,
    "start_time": "2021-09-23T13:05:05.681Z"
   },
   {
    "duration": 303,
    "start_time": "2021-09-23T13:08:05.344Z"
   },
   {
    "duration": 529,
    "start_time": "2021-09-23T13:10:18.392Z"
   },
   {
    "duration": 579,
    "start_time": "2021-09-23T13:10:52.719Z"
   },
   {
    "duration": 614,
    "start_time": "2021-09-23T13:12:59.961Z"
   },
   {
    "duration": 580,
    "start_time": "2021-09-23T13:14:56.784Z"
   },
   {
    "duration": 610,
    "start_time": "2021-09-23T13:16:28.623Z"
   },
   {
    "duration": 567,
    "start_time": "2021-09-23T13:18:00.764Z"
   },
   {
    "duration": 1457,
    "start_time": "2021-09-23T17:39:30.823Z"
   },
   {
    "duration": 516,
    "start_time": "2021-09-23T17:39:42.891Z"
   },
   {
    "duration": 29,
    "start_time": "2021-09-23T17:39:49.070Z"
   },
   {
    "duration": 16,
    "start_time": "2021-09-23T17:40:03.083Z"
   },
   {
    "duration": 5,
    "start_time": "2021-09-23T17:40:08.252Z"
   },
   {
    "duration": 26,
    "start_time": "2021-09-23T17:40:11.344Z"
   },
   {
    "duration": 134,
    "start_time": "2021-09-23T17:40:13.634Z"
   },
   {
    "duration": 21,
    "start_time": "2021-09-23T17:40:19.026Z"
   },
   {
    "duration": 11,
    "start_time": "2021-09-23T17:40:24.886Z"
   },
   {
    "duration": 5,
    "start_time": "2021-09-23T17:40:27.335Z"
   },
   {
    "duration": 21,
    "start_time": "2021-09-23T17:40:28.841Z"
   },
   {
    "duration": 71,
    "start_time": "2021-09-23T17:40:32.438Z"
   },
   {
    "duration": 18,
    "start_time": "2021-09-23T17:40:41.922Z"
   },
   {
    "duration": 11,
    "start_time": "2021-09-23T17:40:50.001Z"
   },
   {
    "duration": 5,
    "start_time": "2021-09-23T17:40:56.665Z"
   },
   {
    "duration": 18,
    "start_time": "2021-09-23T17:40:59.016Z"
   },
   {
    "duration": 62,
    "start_time": "2021-09-23T17:41:03.417Z"
   },
   {
    "duration": 11,
    "start_time": "2021-09-23T17:41:09.255Z"
   },
   {
    "duration": 12,
    "start_time": "2021-09-23T17:41:14.905Z"
   },
   {
    "duration": 5,
    "start_time": "2021-09-23T17:41:25.897Z"
   },
   {
    "duration": 8,
    "start_time": "2021-09-23T17:41:34.597Z"
   },
   {
    "duration": 8,
    "start_time": "2021-09-23T17:41:41.466Z"
   },
   {
    "duration": 9,
    "start_time": "2021-09-23T17:41:50.609Z"
   },
   {
    "duration": 14,
    "start_time": "2021-09-23T17:41:55.624Z"
   },
   {
    "duration": 5,
    "start_time": "2021-09-23T17:42:04.137Z"
   },
   {
    "duration": 8,
    "start_time": "2021-09-23T17:42:11.617Z"
   },
   {
    "duration": 8,
    "start_time": "2021-09-23T17:42:20.082Z"
   },
   {
    "duration": 9,
    "start_time": "2021-09-23T17:42:28.944Z"
   },
   {
    "duration": 9,
    "start_time": "2021-09-23T17:42:33.806Z"
   },
   {
    "duration": 9,
    "start_time": "2021-09-23T17:42:45.136Z"
   },
   {
    "duration": 8,
    "start_time": "2021-09-23T17:42:59.641Z"
   },
   {
    "duration": 10,
    "start_time": "2021-09-23T17:47:54.847Z"
   },
   {
    "duration": 42,
    "start_time": "2021-09-23T17:55:11.268Z"
   },
   {
    "duration": 24,
    "start_time": "2021-09-23T17:56:33.134Z"
   },
   {
    "duration": 13,
    "start_time": "2021-09-23T17:57:20.636Z"
   },
   {
    "duration": 16,
    "start_time": "2021-09-23T17:58:16.803Z"
   },
   {
    "duration": 6,
    "start_time": "2021-09-23T18:02:10.499Z"
   },
   {
    "duration": 6,
    "start_time": "2021-09-23T18:04:26.364Z"
   },
   {
    "duration": 13,
    "start_time": "2021-09-23T18:04:45.491Z"
   },
   {
    "duration": 13,
    "start_time": "2021-09-23T18:07:24.236Z"
   },
   {
    "duration": 28,
    "start_time": "2021-09-23T18:11:02.673Z"
   },
   {
    "duration": 7,
    "start_time": "2021-09-23T18:11:42.354Z"
   },
   {
    "duration": 7,
    "start_time": "2021-09-23T18:12:21.752Z"
   },
   {
    "duration": 376,
    "start_time": "2021-09-23T18:12:42.732Z"
   },
   {
    "duration": 32,
    "start_time": "2021-09-23T18:14:09.472Z"
   },
   {
    "duration": 42,
    "start_time": "2021-09-23T18:14:44.337Z"
   },
   {
    "duration": 18,
    "start_time": "2021-09-23T18:15:11.127Z"
   },
   {
    "duration": 21,
    "start_time": "2021-09-23T18:16:47.585Z"
   },
   {
    "duration": 26,
    "start_time": "2021-09-23T18:17:19.157Z"
   },
   {
    "duration": 17,
    "start_time": "2021-09-23T18:17:46.478Z"
   },
   {
    "duration": 15,
    "start_time": "2021-09-23T18:18:51.612Z"
   },
   {
    "duration": 22,
    "start_time": "2021-09-23T18:19:21.902Z"
   },
   {
    "duration": 24,
    "start_time": "2021-09-23T18:20:23.546Z"
   },
   {
    "duration": 31,
    "start_time": "2021-09-23T18:21:03.896Z"
   },
   {
    "duration": 18,
    "start_time": "2021-09-23T18:21:33.489Z"
   },
   {
    "duration": 15,
    "start_time": "2021-09-23T18:22:12.119Z"
   },
   {
    "duration": 6,
    "start_time": "2021-09-23T18:22:49.789Z"
   },
   {
    "duration": 16,
    "start_time": "2021-09-23T18:23:19.989Z"
   },
   {
    "duration": 14,
    "start_time": "2021-09-23T18:24:34.198Z"
   },
   {
    "duration": 8,
    "start_time": "2021-09-23T18:26:05.124Z"
   },
   {
    "duration": 21,
    "start_time": "2021-09-23T18:26:28.617Z"
   },
   {
    "duration": 113,
    "start_time": "2021-09-23T18:31:13.848Z"
   },
   {
    "duration": 63,
    "start_time": "2021-09-23T18:32:05.861Z"
   },
   {
    "duration": 63,
    "start_time": "2021-09-23T18:33:54.162Z"
   },
   {
    "duration": 29,
    "start_time": "2021-09-23T18:35:15.072Z"
   },
   {
    "duration": 429,
    "start_time": "2021-09-23T18:39:57.570Z"
   },
   {
    "duration": 301,
    "start_time": "2021-09-23T18:42:15.202Z"
   },
   {
    "duration": 8,
    "start_time": "2021-09-23T18:44:52.453Z"
   },
   {
    "duration": 569,
    "start_time": "2021-09-23T18:45:33.496Z"
   },
   {
    "duration": 8,
    "start_time": "2021-09-23T18:48:06.447Z"
   },
   {
    "duration": 7897,
    "start_time": "2021-09-23T18:48:15.511Z"
   },
   {
    "duration": 581,
    "start_time": "2021-09-23T18:52:08.661Z"
   },
   {
    "duration": 7,
    "start_time": "2021-09-23T18:52:27.191Z"
   },
   {
    "duration": 7487,
    "start_time": "2021-09-23T18:52:39.998Z"
   },
   {
    "duration": 8,
    "start_time": "2021-09-23T18:59:00.625Z"
   },
   {
    "duration": 80,
    "start_time": "2021-09-23T18:59:04.550Z"
   },
   {
    "duration": 17,
    "start_time": "2021-09-23T18:59:57.107Z"
   },
   {
    "duration": 450,
    "start_time": "2021-09-23T19:03:17.211Z"
   },
   {
    "duration": 10,
    "start_time": "2021-09-23T19:03:57.851Z"
   },
   {
    "duration": 20,
    "start_time": "2021-09-23T19:04:25.895Z"
   },
   {
    "duration": 16,
    "start_time": "2021-09-23T19:05:10.252Z"
   },
   {
    "duration": 16,
    "start_time": "2021-09-23T19:05:52.670Z"
   },
   {
    "duration": 19,
    "start_time": "2021-09-23T19:07:00.463Z"
   },
   {
    "duration": 304,
    "start_time": "2021-09-23T19:07:04.754Z"
   },
   {
    "duration": 12,
    "start_time": "2021-09-23T19:07:44.362Z"
   },
   {
    "duration": 19,
    "start_time": "2021-09-23T19:08:11.275Z"
   },
   {
    "duration": 13,
    "start_time": "2021-09-23T19:08:53.991Z"
   },
   {
    "duration": 9,
    "start_time": "2021-09-23T19:09:24.819Z"
   },
   {
    "duration": 19,
    "start_time": "2021-09-23T19:09:31.063Z"
   },
   {
    "duration": 12,
    "start_time": "2021-09-23T19:09:34.112Z"
   },
   {
    "duration": 39,
    "start_time": "2021-09-23T19:09:37.745Z"
   },
   {
    "duration": 12,
    "start_time": "2021-09-23T19:09:48.248Z"
   },
   {
    "duration": 6,
    "start_time": "2021-09-23T19:17:51.720Z"
   },
   {
    "duration": 30,
    "start_time": "2021-09-23T19:19:22.471Z"
   },
   {
    "duration": 30,
    "start_time": "2021-09-23T19:20:20.903Z"
   },
   {
    "duration": 480,
    "start_time": "2021-09-23T19:20:50.358Z"
   },
   {
    "duration": 493,
    "start_time": "2021-09-23T19:21:55.046Z"
   },
   {
    "duration": 536,
    "start_time": "2021-09-23T19:22:20.473Z"
   },
   {
    "duration": 17,
    "start_time": "2021-09-23T19:24:06.790Z"
   },
   {
    "duration": 14,
    "start_time": "2021-09-23T19:25:37.093Z"
   },
   {
    "duration": 408,
    "start_time": "2021-09-23T19:26:45.809Z"
   },
   {
    "duration": 397,
    "start_time": "2021-09-23T19:27:01.165Z"
   },
   {
    "duration": 399,
    "start_time": "2021-09-23T19:27:13.859Z"
   },
   {
    "duration": 409,
    "start_time": "2021-09-23T19:27:28.716Z"
   },
   {
    "duration": 387,
    "start_time": "2021-09-23T19:27:44.972Z"
   },
   {
    "duration": 422,
    "start_time": "2021-09-23T19:27:53.556Z"
   },
   {
    "duration": 6,
    "start_time": "2021-09-23T19:30:18.660Z"
   },
   {
    "duration": 838,
    "start_time": "2021-09-23T19:30:24.987Z"
   },
   {
    "duration": 7497,
    "start_time": "2021-09-23T19:31:10.516Z"
   },
   {
    "duration": 820,
    "start_time": "2021-09-23T19:32:02.588Z"
   },
   {
    "duration": 874,
    "start_time": "2021-09-23T19:32:28.746Z"
   },
   {
    "duration": 280,
    "start_time": "2021-09-23T19:34:17.690Z"
   },
   {
    "duration": 324,
    "start_time": "2021-09-23T19:34:51.338Z"
   },
   {
    "duration": 1606,
    "start_time": "2021-09-23T19:37:25.403Z"
   },
   {
    "duration": 15,
    "start_time": "2021-09-23T19:46:47.112Z"
   },
   {
    "duration": 14,
    "start_time": "2021-09-23T20:27:11.932Z"
   },
   {
    "duration": 732,
    "start_time": "2021-09-23T20:31:31.731Z"
   },
   {
    "duration": 1468,
    "start_time": "2021-09-24T08:32:55.141Z"
   },
   {
    "duration": 567,
    "start_time": "2021-09-24T08:32:59.880Z"
   },
   {
    "duration": 32,
    "start_time": "2021-09-24T08:33:03.784Z"
   },
   {
    "duration": 18,
    "start_time": "2021-09-24T08:33:07.581Z"
   },
   {
    "duration": 6,
    "start_time": "2021-09-24T08:33:10.591Z"
   },
   {
    "duration": 29,
    "start_time": "2021-09-24T08:33:13.684Z"
   },
   {
    "duration": 140,
    "start_time": "2021-09-24T08:33:16.292Z"
   },
   {
    "duration": 26,
    "start_time": "2021-09-24T08:33:19.464Z"
   },
   {
    "duration": 32,
    "start_time": "2021-09-24T08:33:23.470Z"
   },
   {
    "duration": 6,
    "start_time": "2021-09-24T08:33:26.128Z"
   },
   {
    "duration": 22,
    "start_time": "2021-09-24T08:33:27.231Z"
   },
   {
    "duration": 68,
    "start_time": "2021-09-24T08:33:28.217Z"
   },
   {
    "duration": 21,
    "start_time": "2021-09-24T08:33:34.130Z"
   },
   {
    "duration": 11,
    "start_time": "2021-09-24T08:33:36.914Z"
   },
   {
    "duration": 5,
    "start_time": "2021-09-24T08:33:39.896Z"
   },
   {
    "duration": 19,
    "start_time": "2021-09-24T08:33:42.026Z"
   },
   {
    "duration": 61,
    "start_time": "2021-09-24T08:33:42.911Z"
   },
   {
    "duration": 9,
    "start_time": "2021-09-24T08:33:46.298Z"
   },
   {
    "duration": 14,
    "start_time": "2021-09-24T08:33:50.080Z"
   },
   {
    "duration": 5,
    "start_time": "2021-09-24T08:33:51.951Z"
   },
   {
    "duration": 8,
    "start_time": "2021-09-24T08:33:53.354Z"
   },
   {
    "duration": 8,
    "start_time": "2021-09-24T08:33:56.336Z"
   },
   {
    "duration": 9,
    "start_time": "2021-09-24T08:34:00.111Z"
   },
   {
    "duration": 14,
    "start_time": "2021-09-24T08:34:04.145Z"
   },
   {
    "duration": 6,
    "start_time": "2021-09-24T08:34:05.223Z"
   },
   {
    "duration": 8,
    "start_time": "2021-09-24T08:34:08.701Z"
   },
   {
    "duration": 9,
    "start_time": "2021-09-24T08:34:11.903Z"
   },
   {
    "duration": 9,
    "start_time": "2021-09-24T08:34:12.855Z"
   },
   {
    "duration": 10,
    "start_time": "2021-09-24T08:34:16.119Z"
   },
   {
    "duration": 10,
    "start_time": "2021-09-24T08:34:17.223Z"
   },
   {
    "duration": 11,
    "start_time": "2021-09-24T08:34:20.185Z"
   },
   {
    "duration": 9,
    "start_time": "2021-09-24T08:34:23.471Z"
   },
   {
    "duration": 488,
    "start_time": "2021-09-24T08:51:21.876Z"
   },
   {
    "duration": 26,
    "start_time": "2021-09-24T08:52:01.839Z"
   },
   {
    "duration": 1212,
    "start_time": "2021-09-24T08:59:09.641Z"
   },
   {
    "duration": 16,
    "start_time": "2021-09-24T08:59:27.476Z"
   },
   {
    "duration": 20,
    "start_time": "2021-09-24T09:00:13.481Z"
   },
   {
    "duration": 380,
    "start_time": "2021-09-24T09:02:21.266Z"
   },
   {
    "duration": 14,
    "start_time": "2021-09-24T09:02:51.042Z"
   },
   {
    "duration": 97,
    "start_time": "2021-09-24T09:05:40.543Z"
   },
   {
    "duration": 56,
    "start_time": "2021-09-24T09:07:42.560Z"
   },
   {
    "duration": 480,
    "start_time": "2021-09-24T09:09:43.333Z"
   },
   {
    "duration": 43,
    "start_time": "2021-09-24T09:10:00.392Z"
   },
   {
    "duration": 10,
    "start_time": "2021-09-24T09:12:34.574Z"
   },
   {
    "duration": 405,
    "start_time": "2021-09-24T09:14:52.157Z"
   },
   {
    "duration": 26,
    "start_time": "2021-09-24T09:19:39.230Z"
   },
   {
    "duration": 357,
    "start_time": "2021-09-24T09:23:00.845Z"
   },
   {
    "duration": 17,
    "start_time": "2021-09-24T09:23:09.416Z"
   },
   {
    "duration": 397,
    "start_time": "2021-09-24T09:23:42.010Z"
   },
   {
    "duration": 398,
    "start_time": "2021-09-24T09:26:48.379Z"
   },
   {
    "duration": 12,
    "start_time": "2021-09-24T09:29:10.692Z"
   },
   {
    "duration": 16,
    "start_time": "2021-09-24T09:29:54.496Z"
   },
   {
    "duration": 12,
    "start_time": "2021-09-24T09:30:18.101Z"
   },
   {
    "duration": 11,
    "start_time": "2021-09-24T09:30:43.632Z"
   },
   {
    "duration": 87,
    "start_time": "2021-09-24T09:37:14.321Z"
   },
   {
    "duration": 60,
    "start_time": "2021-09-24T09:44:16.285Z"
   },
   {
    "duration": 64,
    "start_time": "2021-09-24T09:46:27.802Z"
   },
   {
    "duration": 15,
    "start_time": "2021-09-24T09:57:10.434Z"
   },
   {
    "duration": 34,
    "start_time": "2021-09-24T09:57:29.379Z"
   },
   {
    "duration": 354,
    "start_time": "2021-09-24T09:58:48.015Z"
   },
   {
    "duration": 27,
    "start_time": "2021-09-24T10:00:10.296Z"
   },
   {
    "duration": 13,
    "start_time": "2021-09-24T10:01:45.098Z"
   },
   {
    "duration": 8,
    "start_time": "2021-09-24T10:02:48.505Z"
   },
   {
    "duration": 23,
    "start_time": "2021-09-24T10:03:02.387Z"
   },
   {
    "duration": 9,
    "start_time": "2021-09-24T10:03:15.010Z"
   },
   {
    "duration": 9085,
    "start_time": "2021-09-24T10:03:19.223Z"
   },
   {
    "duration": 7967,
    "start_time": "2021-09-24T10:03:20.343Z"
   },
   {
    "duration": 1573,
    "start_time": "2021-09-24T10:05:19.534Z"
   },
   {
    "duration": 539,
    "start_time": "2021-09-24T10:05:21.110Z"
   },
   {
    "duration": 28,
    "start_time": "2021-09-24T10:05:21.652Z"
   },
   {
    "duration": 24,
    "start_time": "2021-09-24T10:05:21.683Z"
   },
   {
    "duration": 12,
    "start_time": "2021-09-24T10:05:21.710Z"
   },
   {
    "duration": 33,
    "start_time": "2021-09-24T10:05:21.725Z"
   },
   {
    "duration": 165,
    "start_time": "2021-09-24T10:05:21.760Z"
   },
   {
    "duration": 23,
    "start_time": "2021-09-24T10:05:21.928Z"
   },
   {
    "duration": 31,
    "start_time": "2021-09-24T10:05:21.954Z"
   },
   {
    "duration": 12,
    "start_time": "2021-09-24T10:05:21.988Z"
   },
   {
    "duration": 37,
    "start_time": "2021-09-24T10:05:22.003Z"
   },
   {
    "duration": 79,
    "start_time": "2021-09-24T10:05:22.043Z"
   },
   {
    "duration": 19,
    "start_time": "2021-09-24T10:05:22.124Z"
   },
   {
    "duration": 17,
    "start_time": "2021-09-24T10:05:22.146Z"
   },
   {
    "duration": 7,
    "start_time": "2021-09-24T10:05:22.183Z"
   },
   {
    "duration": 31,
    "start_time": "2021-09-24T10:05:22.193Z"
   },
   {
    "duration": 83,
    "start_time": "2021-09-24T10:05:22.226Z"
   },
   {
    "duration": 8,
    "start_time": "2021-09-24T10:05:22.311Z"
   },
   {
    "duration": 13,
    "start_time": "2021-09-24T10:05:22.321Z"
   },
   {
    "duration": 13,
    "start_time": "2021-09-24T10:05:22.336Z"
   },
   {
    "duration": 35,
    "start_time": "2021-09-24T10:05:22.351Z"
   },
   {
    "duration": 15,
    "start_time": "2021-09-24T10:05:22.390Z"
   },
   {
    "duration": 9,
    "start_time": "2021-09-24T10:05:22.413Z"
   },
   {
    "duration": 16,
    "start_time": "2021-09-24T10:05:22.428Z"
   },
   {
    "duration": 50,
    "start_time": "2021-09-24T10:05:22.446Z"
   },
   {
    "duration": 17,
    "start_time": "2021-09-24T10:05:22.499Z"
   },
   {
    "duration": 15,
    "start_time": "2021-09-24T10:05:22.519Z"
   },
   {
    "duration": 15,
    "start_time": "2021-09-24T10:05:22.536Z"
   },
   {
    "duration": 29,
    "start_time": "2021-09-24T10:05:22.553Z"
   },
   {
    "duration": 12,
    "start_time": "2021-09-24T10:05:22.586Z"
   },
   {
    "duration": 8,
    "start_time": "2021-09-24T10:05:22.601Z"
   },
   {
    "duration": 14,
    "start_time": "2021-09-24T10:05:22.611Z"
   },
   {
    "duration": 68,
    "start_time": "2021-09-24T10:05:22.629Z"
   },
   {
    "duration": 18,
    "start_time": "2021-09-24T10:05:22.700Z"
   },
   {
    "duration": 25,
    "start_time": "2021-09-24T10:05:22.721Z"
   },
   {
    "duration": 54,
    "start_time": "2021-09-24T10:05:22.748Z"
   },
   {
    "duration": 446,
    "start_time": "2021-09-24T10:05:22.805Z"
   },
   {
    "duration": 33,
    "start_time": "2021-09-24T10:05:23.254Z"
   },
   {
    "duration": 26,
    "start_time": "2021-09-24T10:05:23.289Z"
   },
   {
    "duration": 452,
    "start_time": "2021-09-24T10:05:23.318Z"
   },
   {
    "duration": 25,
    "start_time": "2021-09-24T10:05:23.772Z"
   },
   {
    "duration": 67,
    "start_time": "2021-09-24T10:05:23.800Z"
   },
   {
    "duration": 39,
    "start_time": "2021-09-24T10:05:23.883Z"
   },
   {
    "duration": 80,
    "start_time": "2021-09-24T10:05:23.926Z"
   },
   {
    "duration": 14,
    "start_time": "2021-09-24T10:05:24.009Z"
   },
   {
    "duration": 112,
    "start_time": "2021-09-24T10:05:24.026Z"
   },
   {
    "duration": 77,
    "start_time": "2021-09-24T10:05:24.141Z"
   },
   {
    "duration": 31,
    "start_time": "2021-09-24T10:05:24.221Z"
   },
   {
    "duration": 86,
    "start_time": "2021-09-24T10:05:24.255Z"
   },
   {
    "duration": 54,
    "start_time": "2021-09-24T10:05:24.344Z"
   },
   {
    "duration": 14,
    "start_time": "2021-09-24T10:05:24.400Z"
   },
   {
    "duration": 8,
    "start_time": "2021-09-24T10:05:24.417Z"
   },
   {
    "duration": 20,
    "start_time": "2021-09-24T10:05:24.427Z"
   },
   {
    "duration": 155,
    "start_time": "2021-09-24T10:05:24.450Z"
   },
   {
    "duration": 78,
    "start_time": "2021-09-24T10:05:24.608Z"
   },
   {
    "duration": 64,
    "start_time": "2021-09-24T10:05:24.689Z"
   },
   {
    "duration": 27,
    "start_time": "2021-09-24T10:05:24.756Z"
   },
   {
    "duration": 101,
    "start_time": "2021-09-24T10:05:24.787Z"
   },
   {
    "duration": 24,
    "start_time": "2021-09-24T10:05:24.891Z"
   },
   {
    "duration": 490,
    "start_time": "2021-09-24T10:05:24.917Z"
   },
   {
    "duration": 9,
    "start_time": "2021-09-24T10:05:25.410Z"
   },
   {
    "duration": 46,
    "start_time": "2021-09-24T10:05:25.421Z"
   },
   {
    "duration": 12,
    "start_time": "2021-09-24T10:05:25.469Z"
   },
   {
    "duration": 39,
    "start_time": "2021-09-24T10:05:25.484Z"
   },
   {
    "duration": 13,
    "start_time": "2021-09-24T10:05:25.525Z"
   },
   {
    "duration": 12,
    "start_time": "2021-09-24T10:05:25.540Z"
   },
   {
    "duration": 56,
    "start_time": "2021-09-24T10:05:25.554Z"
   },
   {
    "duration": 30,
    "start_time": "2021-09-24T10:05:25.619Z"
   },
   {
    "duration": 550,
    "start_time": "2021-09-24T10:05:25.652Z"
   },
   {
    "duration": 638,
    "start_time": "2021-09-24T10:05:26.204Z"
   },
   {
    "duration": 504,
    "start_time": "2021-09-24T10:05:26.845Z"
   },
   {
    "duration": 32,
    "start_time": "2021-09-24T10:05:27.352Z"
   },
   {
    "duration": 22,
    "start_time": "2021-09-24T10:05:27.387Z"
   },
   {
    "duration": 478,
    "start_time": "2021-09-24T10:05:27.411Z"
   },
   {
    "duration": 437,
    "start_time": "2021-09-24T10:05:27.892Z"
   },
   {
    "duration": 422,
    "start_time": "2021-09-24T10:05:28.332Z"
   },
   {
    "duration": 449,
    "start_time": "2021-09-24T10:05:28.757Z"
   },
   {
    "duration": 417,
    "start_time": "2021-09-24T10:05:29.209Z"
   },
   {
    "duration": 458,
    "start_time": "2021-09-24T10:05:29.629Z"
   },
   {
    "duration": 6,
    "start_time": "2021-09-24T10:05:30.090Z"
   },
   {
    "duration": 861,
    "start_time": "2021-09-24T10:05:30.100Z"
   },
   {
    "duration": 885,
    "start_time": "2021-09-24T10:05:30.964Z"
   },
   {
    "duration": 867,
    "start_time": "2021-09-24T10:05:31.852Z"
   },
   {
    "duration": 1850,
    "start_time": "2021-09-24T10:05:32.722Z"
   },
   {
    "duration": 19,
    "start_time": "2021-09-24T10:05:34.575Z"
   },
   {
    "duration": 771,
    "start_time": "2021-09-24T10:05:34.597Z"
   },
   {
    "duration": 6,
    "start_time": "2021-09-24T10:05:37.655Z"
   },
   {
    "duration": 1604,
    "start_time": "2021-09-24T10:06:02.359Z"
   },
   {
    "duration": 547,
    "start_time": "2021-09-24T10:06:03.965Z"
   },
   {
    "duration": 27,
    "start_time": "2021-09-24T10:06:04.515Z"
   },
   {
    "duration": 15,
    "start_time": "2021-09-24T10:06:04.545Z"
   },
   {
    "duration": 9,
    "start_time": "2021-09-24T10:06:04.562Z"
   },
   {
    "duration": 33,
    "start_time": "2021-09-24T10:06:04.574Z"
   },
   {
    "duration": 146,
    "start_time": "2021-09-24T10:06:04.609Z"
   },
   {
    "duration": 32,
    "start_time": "2021-09-24T10:06:04.759Z"
   },
   {
    "duration": 16,
    "start_time": "2021-09-24T10:06:04.796Z"
   },
   {
    "duration": 16,
    "start_time": "2021-09-24T10:06:04.814Z"
   },
   {
    "duration": 64,
    "start_time": "2021-09-24T10:06:04.832Z"
   },
   {
    "duration": 67,
    "start_time": "2021-09-24T10:06:04.898Z"
   },
   {
    "duration": 36,
    "start_time": "2021-09-24T10:06:04.967Z"
   },
   {
    "duration": 14,
    "start_time": "2021-09-24T10:06:05.005Z"
   },
   {
    "duration": 13,
    "start_time": "2021-09-24T10:06:05.022Z"
   },
   {
    "duration": 36,
    "start_time": "2021-09-24T10:06:05.037Z"
   },
   {
    "duration": 63,
    "start_time": "2021-09-24T10:06:05.083Z"
   },
   {
    "duration": 9,
    "start_time": "2021-09-24T10:06:05.149Z"
   },
   {
    "duration": 36,
    "start_time": "2021-09-24T10:06:05.161Z"
   },
   {
    "duration": 11,
    "start_time": "2021-09-24T10:06:05.200Z"
   },
   {
    "duration": 11,
    "start_time": "2021-09-24T10:06:05.213Z"
   },
   {
    "duration": 11,
    "start_time": "2021-09-24T10:06:05.227Z"
   },
   {
    "duration": 47,
    "start_time": "2021-09-24T10:06:05.244Z"
   },
   {
    "duration": 22,
    "start_time": "2021-09-24T10:06:05.296Z"
   },
   {
    "duration": 8,
    "start_time": "2021-09-24T10:06:05.321Z"
   },
   {
    "duration": 16,
    "start_time": "2021-09-24T10:06:05.332Z"
   },
   {
    "duration": 36,
    "start_time": "2021-09-24T10:06:05.350Z"
   },
   {
    "duration": 29,
    "start_time": "2021-09-24T10:06:05.388Z"
   },
   {
    "duration": 15,
    "start_time": "2021-09-24T10:06:05.419Z"
   },
   {
    "duration": 30,
    "start_time": "2021-09-24T10:06:05.437Z"
   },
   {
    "duration": 24,
    "start_time": "2021-09-24T10:06:05.469Z"
   },
   {
    "duration": 9,
    "start_time": "2021-09-24T10:06:05.501Z"
   },
   {
    "duration": 1508,
    "start_time": "2021-09-24T10:06:19.533Z"
   },
   {
    "duration": 545,
    "start_time": "2021-09-24T10:06:23.166Z"
   },
   {
    "duration": 30,
    "start_time": "2021-09-24T10:06:27.445Z"
   },
   {
    "duration": 16,
    "start_time": "2021-09-24T10:06:30.838Z"
   },
   {
    "duration": 5,
    "start_time": "2021-09-24T10:06:33.128Z"
   },
   {
    "duration": 28,
    "start_time": "2021-09-24T10:06:35.129Z"
   },
   {
    "duration": 138,
    "start_time": "2021-09-24T10:06:38.957Z"
   },
   {
    "duration": 23,
    "start_time": "2021-09-24T10:06:42.842Z"
   },
   {
    "duration": 15,
    "start_time": "2021-09-24T10:06:48.079Z"
   },
   {
    "duration": 6,
    "start_time": "2021-09-24T10:06:51.668Z"
   },
   {
    "duration": 22,
    "start_time": "2021-09-24T10:06:53.548Z"
   },
   {
    "duration": 70,
    "start_time": "2021-09-24T10:06:56.719Z"
   },
   {
    "duration": 20,
    "start_time": "2021-09-24T10:07:01.001Z"
   },
   {
    "duration": 11,
    "start_time": "2021-09-24T10:07:04.440Z"
   },
   {
    "duration": 6,
    "start_time": "2021-09-24T10:07:07.250Z"
   },
   {
    "duration": 18,
    "start_time": "2021-09-24T10:07:08.398Z"
   },
   {
    "duration": 71,
    "start_time": "2021-09-24T10:07:09.566Z"
   },
   {
    "duration": 9,
    "start_time": "2021-09-24T10:07:13.043Z"
   },
   {
    "duration": 12,
    "start_time": "2021-09-24T10:07:19.038Z"
   },
   {
    "duration": 5,
    "start_time": "2021-09-24T10:07:20.523Z"
   },
   {
    "duration": 8,
    "start_time": "2021-09-24T10:07:21.982Z"
   },
   {
    "duration": 8,
    "start_time": "2021-09-24T10:07:24.900Z"
   },
   {
    "duration": 9,
    "start_time": "2021-09-24T10:07:27.611Z"
   },
   {
    "duration": 15,
    "start_time": "2021-09-24T10:07:31.549Z"
   },
   {
    "duration": 6,
    "start_time": "2021-09-24T10:07:32.983Z"
   },
   {
    "duration": 9,
    "start_time": "2021-09-24T10:07:36.282Z"
   },
   {
    "duration": 9,
    "start_time": "2021-09-24T10:07:39.426Z"
   },
   {
    "duration": 9,
    "start_time": "2021-09-24T10:07:40.726Z"
   },
   {
    "duration": 9,
    "start_time": "2021-09-24T10:07:43.496Z"
   },
   {
    "duration": 9,
    "start_time": "2021-09-24T10:07:45.414Z"
   },
   {
    "duration": 8,
    "start_time": "2021-09-24T10:07:50.358Z"
   },
   {
    "duration": 8,
    "start_time": "2021-09-24T10:07:53.625Z"
   },
   {
    "duration": 27,
    "start_time": "2021-09-24T10:07:57.604Z"
   },
   {
    "duration": 15,
    "start_time": "2021-09-24T10:08:03.403Z"
   },
   {
    "duration": 30,
    "start_time": "2021-09-24T10:08:08.669Z"
   },
   {
    "duration": 17,
    "start_time": "2021-09-24T10:08:14.718Z"
   },
   {
    "duration": 422,
    "start_time": "2021-09-24T10:08:21.983Z"
   },
   {
    "duration": 21,
    "start_time": "2021-09-24T10:08:28.124Z"
   },
   {
    "duration": 23,
    "start_time": "2021-09-24T10:08:37.503Z"
   },
   {
    "duration": 429,
    "start_time": "2021-09-24T10:08:51.332Z"
   },
   {
    "duration": 16,
    "start_time": "2021-09-24T10:08:56.395Z"
   },
   {
    "duration": 66,
    "start_time": "2021-09-24T10:08:59.853Z"
   },
   {
    "duration": 36,
    "start_time": "2021-09-24T10:09:04.834Z"
   },
   {
    "duration": 54,
    "start_time": "2021-09-24T10:09:08.036Z"
   },
   {
    "duration": 15,
    "start_time": "2021-09-24T10:09:10.875Z"
   },
   {
    "duration": 88,
    "start_time": "2021-09-24T10:09:14.589Z"
   },
   {
    "duration": 58,
    "start_time": "2021-09-24T10:09:18.349Z"
   },
   {
    "duration": 37,
    "start_time": "2021-09-24T10:09:22.092Z"
   },
   {
    "duration": 66,
    "start_time": "2021-09-24T10:09:29.411Z"
   },
   {
    "duration": 29,
    "start_time": "2021-09-24T10:09:34.556Z"
   },
   {
    "duration": 14,
    "start_time": "2021-09-24T10:09:51.235Z"
   },
   {
    "duration": 8,
    "start_time": "2021-09-24T10:10:43.705Z"
   },
   {
    "duration": 15,
    "start_time": "2021-09-24T10:10:47.932Z"
   },
   {
    "duration": 10,
    "start_time": "2021-09-24T10:12:31.098Z"
   },
   {
    "duration": 7,
    "start_time": "2021-09-24T10:22:04.682Z"
   },
   {
    "duration": 8,
    "start_time": "2021-09-24T10:24:24.048Z"
   },
   {
    "duration": 513,
    "start_time": "2021-09-24T10:25:52.662Z"
   },
   {
    "duration": 411,
    "start_time": "2021-09-24T10:26:20.393Z"
   },
   {
    "duration": 11994,
    "start_time": "2021-09-24T10:26:32.286Z"
   },
   {
    "duration": 9,
    "start_time": "2021-09-24T10:28:47.978Z"
   },
   {
    "duration": 45,
    "start_time": "2021-09-24T10:29:01.971Z"
   },
   {
    "duration": 21,
    "start_time": "2021-09-24T10:29:26.918Z"
   },
   {
    "duration": 113,
    "start_time": "2021-09-24T10:36:57.536Z"
   },
   {
    "duration": 1538,
    "start_time": "2021-09-24T10:40:13.329Z"
   },
   {
    "duration": 538,
    "start_time": "2021-09-24T10:40:18.348Z"
   },
   {
    "duration": 27,
    "start_time": "2021-09-24T10:40:22.052Z"
   },
   {
    "duration": 16,
    "start_time": "2021-09-24T10:40:25.343Z"
   },
   {
    "duration": 6,
    "start_time": "2021-09-24T10:40:28.241Z"
   },
   {
    "duration": 29,
    "start_time": "2021-09-24T10:40:29.893Z"
   },
   {
    "duration": 137,
    "start_time": "2021-09-24T10:40:31.118Z"
   },
   {
    "duration": 23,
    "start_time": "2021-09-24T10:40:34.932Z"
   },
   {
    "duration": 17,
    "start_time": "2021-09-24T10:40:38.679Z"
   },
   {
    "duration": 6,
    "start_time": "2021-09-24T10:40:40.053Z"
   },
   {
    "duration": 23,
    "start_time": "2021-09-24T10:40:41.538Z"
   },
   {
    "duration": 71,
    "start_time": "2021-09-24T10:40:44.490Z"
   },
   {
    "duration": 21,
    "start_time": "2021-09-24T10:40:48.092Z"
   },
   {
    "duration": 13,
    "start_time": "2021-09-24T10:40:51.284Z"
   },
   {
    "duration": 6,
    "start_time": "2021-09-24T10:40:52.676Z"
   },
   {
    "duration": 18,
    "start_time": "2021-09-24T10:40:55.716Z"
   },
   {
    "duration": 58,
    "start_time": "2021-09-24T10:40:57.214Z"
   },
   {
    "duration": 11,
    "start_time": "2021-09-24T10:41:00.180Z"
   },
   {
    "duration": 11,
    "start_time": "2021-09-24T10:41:03.756Z"
   },
   {
    "duration": 6,
    "start_time": "2021-09-24T10:41:05.707Z"
   },
   {
    "duration": 11,
    "start_time": "2021-09-24T10:41:07.403Z"
   },
   {
    "duration": 8,
    "start_time": "2021-09-24T10:41:10.243Z"
   },
   {
    "duration": 8,
    "start_time": "2021-09-24T10:41:13.043Z"
   },
   {
    "duration": 14,
    "start_time": "2021-09-24T10:41:16.260Z"
   },
   {
    "duration": 7,
    "start_time": "2021-09-24T10:41:17.493Z"
   },
   {
    "duration": 11,
    "start_time": "2021-09-24T10:41:20.883Z"
   },
   {
    "duration": 8,
    "start_time": "2021-09-24T10:41:25.323Z"
   },
   {
    "duration": 12,
    "start_time": "2021-09-24T10:41:26.495Z"
   },
   {
    "duration": 25,
    "start_time": "2021-09-24T10:41:29.076Z"
   },
   {
    "duration": 9,
    "start_time": "2021-09-24T10:41:30.181Z"
   },
   {
    "duration": 8,
    "start_time": "2021-09-24T10:41:33.360Z"
   },
   {
    "duration": 11,
    "start_time": "2021-09-24T10:41:37.202Z"
   },
   {
    "duration": 28,
    "start_time": "2021-09-24T10:41:41.998Z"
   },
   {
    "duration": 14,
    "start_time": "2021-09-24T10:41:46.227Z"
   },
   {
    "duration": 24,
    "start_time": "2021-09-24T10:41:47.216Z"
   },
   {
    "duration": 18,
    "start_time": "2021-09-24T10:41:50.563Z"
   },
   {
    "duration": 416,
    "start_time": "2021-09-24T10:41:53.539Z"
   },
   {
    "duration": 19,
    "start_time": "2021-09-24T10:41:57.417Z"
   },
   {
    "duration": 23,
    "start_time": "2021-09-24T10:41:58.723Z"
   },
   {
    "duration": 416,
    "start_time": "2021-09-24T10:42:01.220Z"
   },
   {
    "duration": 17,
    "start_time": "2021-09-24T10:42:04.635Z"
   },
   {
    "duration": 68,
    "start_time": "2021-09-24T10:42:07.684Z"
   },
   {
    "duration": 35,
    "start_time": "2021-09-24T10:42:10.746Z"
   },
   {
    "duration": 50,
    "start_time": "2021-09-24T10:42:14.425Z"
   },
   {
    "duration": 13,
    "start_time": "2021-09-24T10:42:21.746Z"
   },
   {
    "duration": 133,
    "start_time": "2021-09-24T10:42:37.084Z"
   },
   {
    "duration": 120,
    "start_time": "2021-09-24T10:43:47.230Z"
   },
   {
    "duration": 136,
    "start_time": "2021-09-24T10:46:09.737Z"
   },
   {
    "duration": 118,
    "start_time": "2021-09-24T10:48:15.442Z"
   },
   {
    "duration": 129,
    "start_time": "2021-09-24T10:49:08.353Z"
   },
   {
    "duration": 145,
    "start_time": "2021-09-24T10:49:36.464Z"
   },
   {
    "duration": 124,
    "start_time": "2021-09-24T10:51:53.080Z"
   },
   {
    "duration": 131,
    "start_time": "2021-09-24T10:54:32.672Z"
   },
   {
    "duration": 56,
    "start_time": "2021-09-24T10:55:15.318Z"
   },
   {
    "duration": 36,
    "start_time": "2021-09-24T10:55:42.516Z"
   },
   {
    "duration": 118,
    "start_time": "2021-09-24T10:57:35.310Z"
   },
   {
    "duration": 90,
    "start_time": "2021-09-24T10:58:13.279Z"
   },
   {
    "duration": 68,
    "start_time": "2021-09-24T10:58:49.166Z"
   },
   {
    "duration": 117,
    "start_time": "2021-09-24T10:59:30.087Z"
   },
   {
    "duration": 69,
    "start_time": "2021-09-24T11:08:51.057Z"
   },
   {
    "duration": 65,
    "start_time": "2021-09-24T11:10:24.577Z"
   },
   {
    "duration": 23,
    "start_time": "2021-09-24T11:11:06.904Z"
   },
   {
    "duration": 24,
    "start_time": "2021-09-24T11:13:09.722Z"
   },
   {
    "duration": 22,
    "start_time": "2021-09-24T11:13:41.520Z"
   },
   {
    "duration": 17,
    "start_time": "2021-09-24T11:14:10.266Z"
   },
   {
    "duration": 28,
    "start_time": "2021-09-24T11:14:23.812Z"
   },
   {
    "duration": 34,
    "start_time": "2021-09-24T11:15:14.815Z"
   },
   {
    "duration": 44,
    "start_time": "2021-09-24T11:16:15.163Z"
   },
   {
    "duration": 10712,
    "start_time": "2021-09-24T11:18:21.883Z"
   },
   {
    "duration": 9963,
    "start_time": "2021-09-24T11:19:00.563Z"
   },
   {
    "duration": 11853,
    "start_time": "2021-09-24T11:20:40.396Z"
   },
   {
    "duration": 11537,
    "start_time": "2021-09-24T11:21:07.605Z"
   },
   {
    "duration": 9,
    "start_time": "2021-09-24T11:21:49.018Z"
   },
   {
    "duration": 528,
    "start_time": "2021-09-24T11:25:13.264Z"
   },
   {
    "duration": 2875,
    "start_time": "2021-09-24T11:26:00.560Z"
   },
   {
    "duration": 2920,
    "start_time": "2021-09-24T11:27:25.451Z"
   },
   {
    "duration": 2236,
    "start_time": "2021-09-24T11:27:44.654Z"
   },
   {
    "duration": 2752,
    "start_time": "2021-09-24T11:28:38.530Z"
   },
   {
    "duration": 756,
    "start_time": "2021-09-24T11:30:10.840Z"
   },
   {
    "duration": 71,
    "start_time": "2021-09-24T11:30:35.073Z"
   },
   {
    "duration": 52,
    "start_time": "2021-09-24T11:32:09.004Z"
   },
   {
    "duration": 404,
    "start_time": "2021-09-24T11:33:16.327Z"
   },
   {
    "duration": 57,
    "start_time": "2021-09-24T11:33:27.608Z"
   },
   {
    "duration": 2560,
    "start_time": "2021-09-24T12:13:42.122Z"
   },
   {
    "duration": 67,
    "start_time": "2021-09-24T12:14:22.273Z"
   },
   {
    "duration": 45,
    "start_time": "2021-09-24T12:14:27.650Z"
   },
   {
    "duration": 62,
    "start_time": "2021-09-24T12:14:31.013Z"
   },
   {
    "duration": 440,
    "start_time": "2021-09-24T12:16:08.657Z"
   },
   {
    "duration": 358,
    "start_time": "2021-09-24T12:19:22.551Z"
   },
   {
    "duration": 371,
    "start_time": "2021-09-24T12:19:48.320Z"
   },
   {
    "duration": 100,
    "start_time": "2021-09-24T12:24:56.689Z"
   },
   {
    "duration": 61,
    "start_time": "2021-09-24T12:25:28.910Z"
   },
   {
    "duration": 63,
    "start_time": "2021-09-24T12:25:51.774Z"
   },
   {
    "duration": 20,
    "start_time": "2021-09-24T12:26:24.517Z"
   },
   {
    "duration": 19,
    "start_time": "2021-09-24T12:27:34.115Z"
   },
   {
    "duration": 22,
    "start_time": "2021-09-24T12:27:58.631Z"
   },
   {
    "duration": 21,
    "start_time": "2021-09-24T12:28:05.422Z"
   },
   {
    "duration": 26,
    "start_time": "2021-09-24T12:28:28.628Z"
   },
   {
    "duration": 38,
    "start_time": "2021-09-24T12:28:43.086Z"
   },
   {
    "duration": 54,
    "start_time": "2021-09-24T12:29:33.052Z"
   },
   {
    "duration": 9,
    "start_time": "2021-09-24T12:30:05.487Z"
   },
   {
    "duration": 6,
    "start_time": "2021-09-24T12:30:49.965Z"
   },
   {
    "duration": 5,
    "start_time": "2021-09-24T12:31:28.813Z"
   },
   {
    "duration": 8,
    "start_time": "2021-09-24T12:31:31.823Z"
   },
   {
    "duration": 12286,
    "start_time": "2021-09-24T12:32:13.748Z"
   },
   {
    "duration": 7,
    "start_time": "2021-09-24T12:33:30.630Z"
   },
   {
    "duration": 11037,
    "start_time": "2021-09-24T12:33:37.081Z"
   },
   {
    "duration": 10,
    "start_time": "2021-09-24T12:34:09.787Z"
   },
   {
    "duration": 12265,
    "start_time": "2021-09-24T12:34:14.840Z"
   },
   {
    "duration": 12,
    "start_time": "2021-09-24T12:34:57.900Z"
   },
   {
    "duration": 166,
    "start_time": "2021-09-24T12:35:04.101Z"
   },
   {
    "duration": 24,
    "start_time": "2021-09-24T12:35:25.755Z"
   },
   {
    "duration": 50,
    "start_time": "2021-09-24T12:36:06.380Z"
   },
   {
    "duration": 10,
    "start_time": "2021-09-24T12:36:15.196Z"
   },
   {
    "duration": 7,
    "start_time": "2021-09-24T12:36:20.738Z"
   },
   {
    "duration": 6,
    "start_time": "2021-09-24T12:36:24.580Z"
   },
   {
    "duration": 7,
    "start_time": "2021-09-24T12:36:32.313Z"
   },
   {
    "duration": 14166,
    "start_time": "2021-09-24T12:36:36.254Z"
   },
   {
    "duration": 7909,
    "start_time": "2021-09-24T12:36:42.514Z"
   },
   {
    "duration": 1655,
    "start_time": "2021-09-24T12:37:45.896Z"
   },
   {
    "duration": 578,
    "start_time": "2021-09-24T12:37:47.554Z"
   },
   {
    "duration": 31,
    "start_time": "2021-09-24T12:37:48.136Z"
   },
   {
    "duration": 26,
    "start_time": "2021-09-24T12:37:48.170Z"
   },
   {
    "duration": 7,
    "start_time": "2021-09-24T12:37:48.199Z"
   },
   {
    "duration": 57,
    "start_time": "2021-09-24T12:37:48.208Z"
   },
   {
    "duration": 179,
    "start_time": "2021-09-24T12:37:48.267Z"
   },
   {
    "duration": 1533,
    "start_time": "2021-09-24T12:37:57.674Z"
   },
   {
    "duration": 577,
    "start_time": "2021-09-24T12:38:01.721Z"
   },
   {
    "duration": 33,
    "start_time": "2021-09-24T12:38:05.492Z"
   },
   {
    "duration": 17,
    "start_time": "2021-09-24T12:38:08.693Z"
   },
   {
    "duration": 9,
    "start_time": "2021-09-24T12:38:11.291Z"
   },
   {
    "duration": 61,
    "start_time": "2021-09-24T12:38:13.642Z"
   },
   {
    "duration": 144,
    "start_time": "2021-09-24T12:38:15.258Z"
   },
   {
    "duration": 23,
    "start_time": "2021-09-24T12:38:19.321Z"
   },
   {
    "duration": 12,
    "start_time": "2021-09-24T12:38:23.412Z"
   },
   {
    "duration": 6,
    "start_time": "2021-09-24T12:38:24.539Z"
   },
   {
    "duration": 21,
    "start_time": "2021-09-24T12:38:25.603Z"
   },
   {
    "duration": 76,
    "start_time": "2021-09-24T12:38:28.836Z"
   },
   {
    "duration": 20,
    "start_time": "2021-09-24T12:38:32.130Z"
   },
   {
    "duration": 16,
    "start_time": "2021-09-24T12:38:35.971Z"
   },
   {
    "duration": 5,
    "start_time": "2021-09-24T12:38:37.026Z"
   },
   {
    "duration": 18,
    "start_time": "2021-09-24T12:38:39.137Z"
   },
   {
    "duration": 63,
    "start_time": "2021-09-24T12:38:40.097Z"
   },
   {
    "duration": 10,
    "start_time": "2021-09-24T12:38:43.865Z"
   },
   {
    "duration": 19,
    "start_time": "2021-09-24T12:38:48.181Z"
   },
   {
    "duration": 6,
    "start_time": "2021-09-24T12:38:49.873Z"
   },
   {
    "duration": 10,
    "start_time": "2021-09-24T12:38:50.984Z"
   },
   {
    "duration": 9,
    "start_time": "2021-09-24T12:38:54.237Z"
   },
   {
    "duration": 9,
    "start_time": "2021-09-24T12:38:58.566Z"
   },
   {
    "duration": 15,
    "start_time": "2021-09-24T12:39:02.904Z"
   },
   {
    "duration": 6,
    "start_time": "2021-09-24T12:39:03.825Z"
   },
   {
    "duration": 9,
    "start_time": "2021-09-24T12:39:06.897Z"
   },
   {
    "duration": 10,
    "start_time": "2021-09-24T12:39:09.986Z"
   },
   {
    "duration": 10,
    "start_time": "2021-09-24T12:39:10.867Z"
   },
   {
    "duration": 9,
    "start_time": "2021-09-24T12:39:11.953Z"
   },
   {
    "duration": 9,
    "start_time": "2021-09-24T12:39:15.449Z"
   },
   {
    "duration": 8,
    "start_time": "2021-09-24T12:39:16.409Z"
   },
   {
    "duration": 12,
    "start_time": "2021-09-24T12:39:20.092Z"
   },
   {
    "duration": 27,
    "start_time": "2021-09-24T12:39:23.626Z"
   },
   {
    "duration": 15,
    "start_time": "2021-09-24T12:39:27.377Z"
   },
   {
    "duration": 24,
    "start_time": "2021-09-24T12:39:28.210Z"
   },
   {
    "duration": 20,
    "start_time": "2021-09-24T12:39:30.770Z"
   },
   {
    "duration": 419,
    "start_time": "2021-09-24T12:39:31.810Z"
   },
   {
    "duration": 23,
    "start_time": "2021-09-24T12:39:36.074Z"
   },
   {
    "duration": 23,
    "start_time": "2021-09-24T12:39:36.843Z"
   },
   {
    "duration": 420,
    "start_time": "2021-09-24T12:39:39.386Z"
   },
   {
    "duration": 23,
    "start_time": "2021-09-24T12:39:44.376Z"
   },
   {
    "duration": 65,
    "start_time": "2021-09-24T12:39:47.888Z"
   },
   {
    "duration": 43,
    "start_time": "2021-09-24T12:39:50.767Z"
   },
   {
    "duration": 63,
    "start_time": "2021-09-24T12:39:54.143Z"
   },
   {
    "duration": 12,
    "start_time": "2021-09-24T12:39:56.993Z"
   },
   {
    "duration": 127,
    "start_time": "2021-09-24T12:40:00.409Z"
   },
   {
    "duration": 68,
    "start_time": "2021-09-24T12:40:03.473Z"
   },
   {
    "duration": 67,
    "start_time": "2021-09-24T12:40:06.561Z"
   },
   {
    "duration": 22,
    "start_time": "2021-09-24T12:40:12.625Z"
   },
   {
    "duration": 19,
    "start_time": "2021-09-24T12:40:15.449Z"
   },
   {
    "duration": 23,
    "start_time": "2021-09-24T12:40:18.578Z"
   },
   {
    "duration": 19,
    "start_time": "2021-09-24T12:40:21.355Z"
   },
   {
    "duration": 27,
    "start_time": "2021-09-24T12:40:24.137Z"
   },
   {
    "duration": 40,
    "start_time": "2021-09-24T12:40:26.860Z"
   },
   {
    "duration": 39,
    "start_time": "2021-09-24T12:40:29.258Z"
   },
   {
    "duration": 12,
    "start_time": "2021-09-24T12:40:32.130Z"
   },
   {
    "duration": 7,
    "start_time": "2021-09-24T12:40:33.249Z"
   },
   {
    "duration": 5,
    "start_time": "2021-09-24T12:40:40.313Z"
   },
   {
    "duration": 8,
    "start_time": "2021-09-24T12:40:44.973Z"
   },
   {
    "duration": 169,
    "start_time": "2021-09-24T12:40:55.577Z"
   },
   {
    "duration": 26,
    "start_time": "2021-09-24T12:40:59.489Z"
   },
   {
    "duration": 451,
    "start_time": "2021-09-24T13:21:43.324Z"
   },
   {
    "duration": 16,
    "start_time": "2021-09-24T13:22:57.388Z"
   },
   {
    "duration": 33,
    "start_time": "2021-09-24T13:26:55.780Z"
   },
   {
    "duration": 13,
    "start_time": "2021-09-24T13:29:44.747Z"
   },
   {
    "duration": 121,
    "start_time": "2021-09-24T13:30:35.888Z"
   },
   {
    "duration": 13,
    "start_time": "2021-09-24T13:30:54.619Z"
   },
   {
    "duration": 16,
    "start_time": "2021-09-24T13:38:39.288Z"
   },
   {
    "duration": 22,
    "start_time": "2021-09-24T13:39:14.563Z"
   },
   {
    "duration": 13,
    "start_time": "2021-09-24T13:39:25.105Z"
   },
   {
    "duration": 30,
    "start_time": "2021-09-24T13:39:48.096Z"
   },
   {
    "duration": 14,
    "start_time": "2021-09-24T13:40:05.919Z"
   },
   {
    "duration": 842,
    "start_time": "2021-09-24T13:41:34.040Z"
   },
   {
    "duration": 15,
    "start_time": "2021-09-24T13:41:58.152Z"
   },
   {
    "duration": 405,
    "start_time": "2021-09-24T13:46:07.950Z"
   },
   {
    "duration": 9,
    "start_time": "2021-09-24T13:46:52.324Z"
   },
   {
    "duration": 376,
    "start_time": "2021-09-24T13:47:21.679Z"
   },
   {
    "duration": 416,
    "start_time": "2021-09-24T13:48:08.580Z"
   },
   {
    "duration": 404,
    "start_time": "2021-09-24T13:48:18.295Z"
   },
   {
    "duration": 39,
    "start_time": "2021-09-24T13:49:03.829Z"
   },
   {
    "duration": 33,
    "start_time": "2021-09-24T13:50:00.950Z"
   },
   {
    "duration": 687,
    "start_time": "2021-09-24T13:50:27.446Z"
   },
   {
    "duration": 16,
    "start_time": "2021-09-24T13:52:00.481Z"
   },
   {
    "duration": 32,
    "start_time": "2021-09-24T13:53:22.809Z"
   },
   {
    "duration": 19,
    "start_time": "2021-09-24T13:54:22.325Z"
   },
   {
    "duration": 605,
    "start_time": "2021-09-24T16:36:46.581Z"
   },
   {
    "duration": 1165,
    "start_time": "2021-09-24T16:37:06.105Z"
   },
   {
    "duration": 413,
    "start_time": "2021-09-24T16:37:07.272Z"
   },
   {
    "duration": 21,
    "start_time": "2021-09-24T16:37:07.687Z"
   },
   {
    "duration": 11,
    "start_time": "2021-09-24T16:37:07.710Z"
   },
   {
    "duration": 5,
    "start_time": "2021-09-24T16:37:07.723Z"
   },
   {
    "duration": 24,
    "start_time": "2021-09-24T16:37:07.730Z"
   },
   {
    "duration": 105,
    "start_time": "2021-09-24T16:37:07.755Z"
   },
   {
    "duration": 17,
    "start_time": "2021-09-24T16:37:07.862Z"
   },
   {
    "duration": 8,
    "start_time": "2021-09-24T16:37:07.882Z"
   },
   {
    "duration": 6,
    "start_time": "2021-09-24T16:37:07.892Z"
   },
   {
    "duration": 24,
    "start_time": "2021-09-24T16:37:07.900Z"
   },
   {
    "duration": 66,
    "start_time": "2021-09-24T16:37:07.925Z"
   },
   {
    "duration": 15,
    "start_time": "2021-09-24T16:37:07.993Z"
   },
   {
    "duration": 7,
    "start_time": "2021-09-24T16:37:08.010Z"
   },
   {
    "duration": 27,
    "start_time": "2021-09-24T16:37:08.019Z"
   },
   {
    "duration": 16,
    "start_time": "2021-09-24T16:37:08.048Z"
   },
   {
    "duration": 47,
    "start_time": "2021-09-24T16:37:08.066Z"
   },
   {
    "duration": 6,
    "start_time": "2021-09-24T16:37:08.115Z"
   },
   {
    "duration": 9,
    "start_time": "2021-09-24T16:37:08.145Z"
   },
   {
    "duration": 6,
    "start_time": "2021-09-24T16:37:08.155Z"
   },
   {
    "duration": 6,
    "start_time": "2021-09-24T16:37:08.163Z"
   },
   {
    "duration": 7,
    "start_time": "2021-09-24T16:37:08.171Z"
   },
   {
    "duration": 12,
    "start_time": "2021-09-24T16:37:08.180Z"
   },
   {
    "duration": 11,
    "start_time": "2021-09-24T16:37:08.194Z"
   },
   {
    "duration": 41,
    "start_time": "2021-09-24T16:37:08.207Z"
   },
   {
    "duration": 9,
    "start_time": "2021-09-24T16:37:08.249Z"
   },
   {
    "duration": 5,
    "start_time": "2021-09-24T16:37:08.262Z"
   },
   {
    "duration": 8,
    "start_time": "2021-09-24T16:37:08.270Z"
   },
   {
    "duration": 8,
    "start_time": "2021-09-24T16:37:08.280Z"
   },
   {
    "duration": 7,
    "start_time": "2021-09-24T16:37:08.289Z"
   },
   {
    "duration": 51,
    "start_time": "2021-09-24T16:37:08.298Z"
   },
   {
    "duration": 8,
    "start_time": "2021-09-24T16:37:08.351Z"
   },
   {
    "duration": 24,
    "start_time": "2021-09-24T16:37:08.361Z"
   },
   {
    "duration": 12,
    "start_time": "2021-09-24T16:37:08.387Z"
   },
   {
    "duration": 49,
    "start_time": "2021-09-24T16:37:08.400Z"
   },
   {
    "duration": 13,
    "start_time": "2021-09-24T16:37:08.451Z"
   },
   {
    "duration": 259,
    "start_time": "2021-09-24T16:37:08.465Z"
   },
   {
    "duration": 21,
    "start_time": "2021-09-24T16:37:08.725Z"
   },
   {
    "duration": 16,
    "start_time": "2021-09-24T16:37:08.748Z"
   },
   {
    "duration": 255,
    "start_time": "2021-09-24T16:37:08.766Z"
   },
   {
    "duration": 10,
    "start_time": "2021-09-24T16:37:09.022Z"
   },
   {
    "duration": 50,
    "start_time": "2021-09-24T16:37:09.033Z"
   },
   {
    "duration": 24,
    "start_time": "2021-09-24T16:37:09.085Z"
   },
   {
    "duration": 60,
    "start_time": "2021-09-24T16:37:09.111Z"
   },
   {
    "duration": 9,
    "start_time": "2021-09-24T16:37:09.172Z"
   },
   {
    "duration": 108,
    "start_time": "2021-09-24T16:37:09.183Z"
   },
   {
    "duration": 60,
    "start_time": "2021-09-24T16:37:09.293Z"
   },
   {
    "duration": 47,
    "start_time": "2021-09-24T16:37:09.355Z"
   },
   {
    "duration": 15,
    "start_time": "2021-09-24T16:37:09.404Z"
   },
   {
    "duration": 35,
    "start_time": "2021-09-24T16:37:09.421Z"
   },
   {
    "duration": 16,
    "start_time": "2021-09-24T16:37:09.458Z"
   },
   {
    "duration": 19,
    "start_time": "2021-09-24T16:37:09.476Z"
   },
   {
    "duration": 1240,
    "start_time": "2021-09-24T16:37:21.239Z"
   },
   {
    "duration": 411,
    "start_time": "2021-09-24T16:37:25.717Z"
   },
   {
    "duration": 23,
    "start_time": "2021-09-24T16:37:29.217Z"
   },
   {
    "duration": 12,
    "start_time": "2021-09-24T16:37:32.794Z"
   },
   {
    "duration": 5,
    "start_time": "2021-09-24T16:37:35.811Z"
   },
   {
    "duration": 20,
    "start_time": "2021-09-24T16:37:38.618Z"
   },
   {
    "duration": 94,
    "start_time": "2021-09-24T16:37:41.362Z"
   },
   {
    "duration": 16,
    "start_time": "2021-09-24T16:37:44.889Z"
   },
   {
    "duration": 11,
    "start_time": "2021-09-24T16:37:47.661Z"
   },
   {
    "duration": 5,
    "start_time": "2021-09-24T16:37:50.482Z"
   },
   {
    "duration": 17,
    "start_time": "2021-09-24T16:37:52.755Z"
   },
   {
    "duration": 48,
    "start_time": "2021-09-24T16:37:54.077Z"
   },
   {
    "duration": 14,
    "start_time": "2021-09-24T16:38:00.965Z"
   },
   {
    "duration": 7,
    "start_time": "2021-09-24T16:38:04.173Z"
   },
   {
    "duration": 4,
    "start_time": "2021-09-24T16:38:06.897Z"
   },
   {
    "duration": 13,
    "start_time": "2021-09-24T16:38:08.907Z"
   },
   {
    "duration": 44,
    "start_time": "2021-09-24T16:38:10.181Z"
   },
   {
    "duration": 7,
    "start_time": "2021-09-24T16:38:14.041Z"
   },
   {
    "duration": 8,
    "start_time": "2021-09-24T16:38:17.121Z"
   },
   {
    "duration": 5,
    "start_time": "2021-09-24T16:38:19.553Z"
   },
   {
    "duration": 5,
    "start_time": "2021-09-24T16:38:20.531Z"
   },
   {
    "duration": 5,
    "start_time": "2021-09-24T16:38:25.224Z"
   },
   {
    "duration": 6,
    "start_time": "2021-09-24T16:38:28.601Z"
   },
   {
    "duration": 11,
    "start_time": "2021-09-24T16:38:32.906Z"
   },
   {
    "duration": 4,
    "start_time": "2021-09-24T16:38:35.933Z"
   },
   {
    "duration": 7,
    "start_time": "2021-09-24T16:38:39.874Z"
   },
   {
    "duration": 5,
    "start_time": "2021-09-24T16:38:44.546Z"
   },
   {
    "duration": 6,
    "start_time": "2021-09-24T16:38:46.216Z"
   },
   {
    "duration": 7,
    "start_time": "2021-09-24T16:38:51.064Z"
   },
   {
    "duration": 6,
    "start_time": "2021-09-24T16:38:53.401Z"
   },
   {
    "duration": 5,
    "start_time": "2021-09-24T16:38:56.041Z"
   },
   {
    "duration": 7,
    "start_time": "2021-09-24T16:38:59.884Z"
   },
   {
    "duration": 26,
    "start_time": "2021-09-24T16:39:05.536Z"
   },
   {
    "duration": 13,
    "start_time": "2021-09-24T16:39:09.878Z"
   },
   {
    "duration": 15,
    "start_time": "2021-09-24T16:39:14.999Z"
   },
   {
    "duration": 12,
    "start_time": "2021-09-24T16:39:18.915Z"
   },
   {
    "duration": 239,
    "start_time": "2021-09-24T16:39:21.383Z"
   },
   {
    "duration": 11,
    "start_time": "2021-09-24T16:39:25.336Z"
   },
   {
    "duration": 18,
    "start_time": "2021-09-24T16:39:26.631Z"
   },
   {
    "duration": 235,
    "start_time": "2021-09-24T16:39:29.072Z"
   },
   {
    "duration": 10,
    "start_time": "2021-09-24T16:39:32.674Z"
   },
   {
    "duration": 45,
    "start_time": "2021-09-24T16:39:35.776Z"
   },
   {
    "duration": 26,
    "start_time": "2021-09-24T16:39:39.383Z"
   },
   {
    "duration": 37,
    "start_time": "2021-09-24T16:39:42.672Z"
   },
   {
    "duration": 10,
    "start_time": "2021-09-24T16:39:45.735Z"
   },
   {
    "duration": 85,
    "start_time": "2021-09-24T16:39:49.584Z"
   },
   {
    "duration": 46,
    "start_time": "2021-09-24T16:39:53.838Z"
   },
   {
    "duration": 45,
    "start_time": "2021-09-24T16:39:59.846Z"
   },
   {
    "duration": 13,
    "start_time": "2021-09-24T16:40:05.108Z"
   },
   {
    "duration": 14,
    "start_time": "2021-09-24T16:40:08.687Z"
   },
   {
    "duration": 15,
    "start_time": "2021-09-24T16:40:18.047Z"
   },
   {
    "duration": 12,
    "start_time": "2021-09-24T16:40:21.631Z"
   },
   {
    "duration": 18,
    "start_time": "2021-09-24T16:40:26.326Z"
   },
   {
    "duration": 21,
    "start_time": "2021-09-24T16:40:37.164Z"
   },
   {
    "duration": 23,
    "start_time": "2021-09-24T16:40:49.647Z"
   },
   {
    "duration": 7,
    "start_time": "2021-09-24T16:41:03.831Z"
   },
   {
    "duration": 5,
    "start_time": "2021-09-24T16:41:10.229Z"
   },
   {
    "duration": 3,
    "start_time": "2021-09-24T16:41:26.950Z"
   },
   {
    "duration": 5,
    "start_time": "2021-09-24T16:41:35.383Z"
   },
   {
    "duration": 123,
    "start_time": "2021-09-24T16:41:40.597Z"
   },
   {
    "duration": 16,
    "start_time": "2021-09-24T16:41:44.887Z"
   },
   {
    "duration": 255,
    "start_time": "2021-09-24T16:42:19.460Z"
   },
   {
    "duration": 7,
    "start_time": "2021-09-24T16:42:25.321Z"
   },
   {
    "duration": 27,
    "start_time": "2021-09-24T16:42:29.349Z"
   },
   {
    "duration": 9,
    "start_time": "2021-09-24T16:42:56.629Z"
   },
   {
    "duration": 74,
    "start_time": "2021-09-24T16:43:09.204Z"
   },
   {
    "duration": 10,
    "start_time": "2021-09-24T16:43:20.516Z"
   },
   {
    "duration": 9,
    "start_time": "2021-09-24T16:43:35.558Z"
   },
   {
    "duration": 17,
    "start_time": "2021-09-24T16:43:38.262Z"
   },
   {
    "duration": 9,
    "start_time": "2021-09-24T16:43:44.387Z"
   },
   {
    "duration": 9,
    "start_time": "2021-09-24T16:44:41.619Z"
   },
   {
    "duration": 382,
    "start_time": "2021-09-24T17:08:50.646Z"
   },
   {
    "duration": 1266,
    "start_time": "2021-09-24T17:09:14.832Z"
   },
   {
    "duration": 424,
    "start_time": "2021-09-24T17:09:16.100Z"
   },
   {
    "duration": 21,
    "start_time": "2021-09-24T17:09:16.526Z"
   },
   {
    "duration": 12,
    "start_time": "2021-09-24T17:09:16.549Z"
   },
   {
    "duration": 9,
    "start_time": "2021-09-24T17:09:16.563Z"
   },
   {
    "duration": 25,
    "start_time": "2021-09-24T17:09:16.573Z"
   },
   {
    "duration": 104,
    "start_time": "2021-09-24T17:09:16.600Z"
   },
   {
    "duration": 17,
    "start_time": "2021-09-24T17:09:16.708Z"
   },
   {
    "duration": 22,
    "start_time": "2021-09-24T17:09:16.727Z"
   },
   {
    "duration": 16,
    "start_time": "2021-09-24T17:09:16.751Z"
   },
   {
    "duration": 30,
    "start_time": "2021-09-24T17:09:16.769Z"
   },
   {
    "duration": 1138,
    "start_time": "2021-09-24T17:09:24.257Z"
   },
   {
    "duration": 420,
    "start_time": "2021-09-24T17:09:28.340Z"
   },
   {
    "duration": 21,
    "start_time": "2021-09-24T17:09:31.769Z"
   },
   {
    "duration": 12,
    "start_time": "2021-09-24T17:09:35.523Z"
   },
   {
    "duration": 4,
    "start_time": "2021-09-24T17:09:38.131Z"
   },
   {
    "duration": 21,
    "start_time": "2021-09-24T17:09:40.331Z"
   },
   {
    "duration": 97,
    "start_time": "2021-09-24T17:09:43.539Z"
   },
   {
    "duration": 17,
    "start_time": "2021-09-24T17:09:47.833Z"
   },
   {
    "duration": 8,
    "start_time": "2021-09-24T17:09:51.173Z"
   },
   {
    "duration": 5,
    "start_time": "2021-09-24T17:09:53.821Z"
   },
   {
    "duration": 17,
    "start_time": "2021-09-24T17:09:55.842Z"
   },
   {
    "duration": 50,
    "start_time": "2021-09-24T17:09:57.034Z"
   },
   {
    "duration": 14,
    "start_time": "2021-09-24T17:10:00.081Z"
   },
   {
    "duration": 7,
    "start_time": "2021-09-24T17:10:03.141Z"
   },
   {
    "duration": 4,
    "start_time": "2021-09-24T17:10:05.459Z"
   },
   {
    "duration": 13,
    "start_time": "2021-09-24T17:10:06.373Z"
   },
   {
    "duration": 43,
    "start_time": "2021-09-24T17:10:07.570Z"
   },
   {
    "duration": 6,
    "start_time": "2021-09-24T17:10:11.003Z"
   },
   {
    "duration": 9,
    "start_time": "2021-09-24T17:10:14.829Z"
   },
   {
    "duration": 4,
    "start_time": "2021-09-24T17:10:16.074Z"
   },
   {
    "duration": 5,
    "start_time": "2021-09-24T17:10:17.059Z"
   },
   {
    "duration": 5,
    "start_time": "2021-09-24T17:10:19.754Z"
   },
   {
    "duration": 7,
    "start_time": "2021-09-24T17:10:22.781Z"
   },
   {
    "duration": 10,
    "start_time": "2021-09-24T17:10:26.806Z"
   },
   {
    "duration": 4,
    "start_time": "2021-09-24T17:10:29.178Z"
   },
   {
    "duration": 6,
    "start_time": "2021-09-24T17:10:32.482Z"
   },
   {
    "duration": 6,
    "start_time": "2021-09-24T17:10:36.138Z"
   },
   {
    "duration": 7,
    "start_time": "2021-09-24T17:10:38.146Z"
   },
   {
    "duration": 7,
    "start_time": "2021-09-24T17:10:41.099Z"
   },
   {
    "duration": 7,
    "start_time": "2021-09-24T17:10:42.839Z"
   },
   {
    "duration": 6,
    "start_time": "2021-09-24T17:10:46.634Z"
   },
   {
    "duration": 7,
    "start_time": "2021-09-24T17:10:50.194Z"
   },
   {
    "duration": 24,
    "start_time": "2021-09-24T17:10:55.955Z"
   },
   {
    "duration": 11,
    "start_time": "2021-09-24T17:11:00.737Z"
   },
   {
    "duration": 17,
    "start_time": "2021-09-24T17:11:05.546Z"
   },
   {
    "duration": 12,
    "start_time": "2021-09-24T17:11:08.244Z"
   },
   {
    "duration": 260,
    "start_time": "2021-09-24T17:11:14.160Z"
   },
   {
    "duration": 14,
    "start_time": "2021-09-24T17:11:28.125Z"
   },
   {
    "duration": 24,
    "start_time": "2021-09-24T17:11:30.243Z"
   },
   {
    "duration": 405,
    "start_time": "2021-09-24T17:11:40.733Z"
   },
   {
    "duration": 18,
    "start_time": "2021-09-24T17:11:47.773Z"
   },
   {
    "duration": 44,
    "start_time": "2021-09-24T17:12:11.594Z"
   },
   {
    "duration": 26,
    "start_time": "2021-09-24T17:12:15.498Z"
   },
   {
    "duration": 36,
    "start_time": "2021-09-24T17:12:19.210Z"
   },
   {
    "duration": 8,
    "start_time": "2021-09-24T17:12:25.659Z"
   },
   {
    "duration": 114,
    "start_time": "2021-09-24T17:18:26.141Z"
   },
   {
    "duration": 62,
    "start_time": "2021-09-24T17:18:42.952Z"
   },
   {
    "duration": 60,
    "start_time": "2021-09-24T17:18:58.709Z"
   },
   {
    "duration": 19,
    "start_time": "2021-09-24T17:19:12.919Z"
   },
   {
    "duration": 15,
    "start_time": "2021-09-24T17:19:32.414Z"
   },
   {
    "duration": 15,
    "start_time": "2021-09-24T17:19:50.476Z"
   },
   {
    "duration": 429,
    "start_time": "2021-09-24T17:22:17.797Z"
   },
   {
    "duration": 296,
    "start_time": "2021-09-24T17:28:09.449Z"
   },
   {
    "duration": 26,
    "start_time": "2021-09-24T17:28:30.388Z"
   },
   {
    "duration": 50,
    "start_time": "2021-09-24T17:29:26.502Z"
   },
   {
    "duration": 37,
    "start_time": "2021-09-24T17:31:43.982Z"
   },
   {
    "duration": 20,
    "start_time": "2021-09-24T17:34:09.587Z"
   },
   {
    "duration": 316,
    "start_time": "2021-09-24T17:35:40.759Z"
   },
   {
    "duration": 44,
    "start_time": "2021-09-24T17:36:05.132Z"
   },
   {
    "duration": 17,
    "start_time": "2021-09-24T17:40:48.324Z"
   },
   {
    "duration": 18,
    "start_time": "2021-09-24T17:41:18.650Z"
   },
   {
    "duration": 21,
    "start_time": "2021-09-24T17:41:35.437Z"
   },
   {
    "duration": 384,
    "start_time": "2021-09-24T17:43:04.210Z"
   },
   {
    "duration": 37,
    "start_time": "2021-09-24T17:43:14.674Z"
   },
   {
    "duration": 791,
    "start_time": "2021-09-24T17:56:21.283Z"
   },
   {
    "duration": 761,
    "start_time": "2021-09-24T17:56:34.917Z"
   },
   {
    "duration": 55,
    "start_time": "2021-09-24T17:56:50.602Z"
   },
   {
    "duration": 9,
    "start_time": "2021-09-24T17:58:25.116Z"
   },
   {
    "duration": 6,
    "start_time": "2021-09-24T17:59:22.891Z"
   },
   {
    "duration": 10,
    "start_time": "2021-09-24T17:59:50.787Z"
   },
   {
    "duration": 6,
    "start_time": "2021-09-24T18:02:02.348Z"
   },
   {
    "duration": 7592,
    "start_time": "2021-09-24T18:02:55.951Z"
   },
   {
    "duration": 6,
    "start_time": "2021-09-24T18:03:45.908Z"
   },
   {
    "duration": 56,
    "start_time": "2021-09-24T18:03:49.310Z"
   },
   {
    "duration": 267,
    "start_time": "2021-09-24T18:04:59.137Z"
   },
   {
    "duration": 7,
    "start_time": "2021-09-24T18:05:36.676Z"
   },
   {
    "duration": 18,
    "start_time": "2021-09-24T18:09:15.918Z"
   },
   {
    "duration": 8,
    "start_time": "2021-09-24T18:09:44.253Z"
   },
   {
    "duration": 8,
    "start_time": "2021-09-24T18:11:18.925Z"
   },
   {
    "duration": 12,
    "start_time": "2021-09-24T18:11:37.721Z"
   },
   {
    "duration": 19,
    "start_time": "2021-09-24T18:14:28.352Z"
   },
   {
    "duration": 8,
    "start_time": "2021-09-24T18:15:30.905Z"
   },
   {
    "duration": 9,
    "start_time": "2021-09-24T18:16:30.106Z"
   },
   {
    "duration": 335,
    "start_time": "2021-09-24T18:21:26.361Z"
   },
   {
    "duration": 374,
    "start_time": "2021-09-24T18:22:47.132Z"
   },
   {
    "duration": 314,
    "start_time": "2021-09-24T18:26:16.848Z"
   },
   {
    "duration": 18,
    "start_time": "2021-09-24T18:29:20.426Z"
   },
   {
    "duration": 269,
    "start_time": "2021-09-24T18:33:20.705Z"
   },
   {
    "duration": 8,
    "start_time": "2021-09-24T18:34:18.257Z"
   },
   {
    "duration": 13,
    "start_time": "2021-09-24T18:36:49.831Z"
   },
   {
    "duration": 18,
    "start_time": "2021-09-24T18:38:53.310Z"
   },
   {
    "duration": 6,
    "start_time": "2021-09-24T18:40:25.257Z"
   },
   {
    "duration": 4,
    "start_time": "2021-09-24T18:40:46.877Z"
   },
   {
    "duration": 13,
    "start_time": "2021-09-24T18:41:39.154Z"
   },
   {
    "duration": 18,
    "start_time": "2021-09-24T18:45:57.108Z"
   },
   {
    "duration": 17,
    "start_time": "2021-09-24T18:45:58.336Z"
   },
   {
    "duration": 7,
    "start_time": "2021-09-24T18:47:08.679Z"
   },
   {
    "duration": 13,
    "start_time": "2021-09-24T18:49:26.970Z"
   },
   {
    "duration": 17,
    "start_time": "2021-09-24T18:50:04.937Z"
   },
   {
    "duration": 266,
    "start_time": "2021-09-24T18:51:08.227Z"
   },
   {
    "duration": 12,
    "start_time": "2021-09-24T18:52:32.402Z"
   },
   {
    "duration": 8,
    "start_time": "2021-09-24T18:53:27.962Z"
   },
   {
    "duration": 13,
    "start_time": "2021-09-24T18:54:52.823Z"
   },
   {
    "duration": 13,
    "start_time": "2021-09-24T18:56:41.081Z"
   },
   {
    "duration": 18,
    "start_time": "2021-09-24T18:58:55.441Z"
   },
   {
    "duration": 6,
    "start_time": "2021-09-24T19:00:25.151Z"
   },
   {
    "duration": 4,
    "start_time": "2021-09-24T19:00:41.585Z"
   },
   {
    "duration": 21,
    "start_time": "2021-09-24T19:05:00.169Z"
   },
   {
    "duration": 15,
    "start_time": "2021-09-24T19:05:24.082Z"
   },
   {
    "duration": 17,
    "start_time": "2021-09-24T19:09:37.532Z"
   },
   {
    "duration": 7,
    "start_time": "2021-09-24T19:10:08.218Z"
   },
   {
    "duration": 234,
    "start_time": "2021-09-24T19:11:37.266Z"
   },
   {
    "duration": 229,
    "start_time": "2021-09-24T19:13:04.218Z"
   },
   {
    "duration": 236,
    "start_time": "2021-09-24T19:14:32.759Z"
   },
   {
    "duration": 240,
    "start_time": "2021-09-24T19:15:48.620Z"
   },
   {
    "duration": 223,
    "start_time": "2021-09-24T19:17:02.676Z"
   },
   {
    "duration": 259,
    "start_time": "2021-09-24T19:18:00.677Z"
   },
   {
    "duration": 5,
    "start_time": "2021-09-24T19:24:42.490Z"
   },
   {
    "duration": 477,
    "start_time": "2021-09-24T19:25:21.784Z"
   },
   {
    "duration": 4,
    "start_time": "2021-09-24T19:26:42.081Z"
   },
   {
    "duration": 624,
    "start_time": "2021-09-24T19:26:47.386Z"
   },
   {
    "duration": 5,
    "start_time": "2021-09-24T19:27:01.786Z"
   },
   {
    "duration": 501,
    "start_time": "2021-09-24T19:27:02.729Z"
   },
   {
    "duration": 4,
    "start_time": "2021-09-24T19:27:17.664Z"
   },
   {
    "duration": 452,
    "start_time": "2021-09-24T19:27:20.566Z"
   },
   {
    "duration": 4,
    "start_time": "2021-09-24T19:27:37.067Z"
   },
   {
    "duration": 504,
    "start_time": "2021-09-24T19:27:37.977Z"
   },
   {
    "duration": 4,
    "start_time": "2021-09-24T19:27:53.248Z"
   },
   {
    "duration": 509,
    "start_time": "2021-09-24T19:27:53.922Z"
   },
   {
    "duration": 315,
    "start_time": "2021-09-24T19:42:12.898Z"
   },
   {
    "duration": 376,
    "start_time": "2021-09-24T19:42:43.508Z"
   },
   {
    "duration": 3,
    "start_time": "2021-09-24T19:51:57.710Z"
   },
   {
    "duration": 6,
    "start_time": "2021-09-24T19:53:08.482Z"
   },
   {
    "duration": 4,
    "start_time": "2021-09-24T19:53:17.605Z"
   },
   {
    "duration": 3,
    "start_time": "2021-09-24T19:54:08.157Z"
   },
   {
    "duration": 5,
    "start_time": "2021-09-24T19:54:15.126Z"
   },
   {
    "duration": 6,
    "start_time": "2021-09-24T19:55:04.544Z"
   },
   {
    "duration": 5,
    "start_time": "2021-09-24T19:55:32.917Z"
   },
   {
    "duration": 3,
    "start_time": "2021-09-24T19:55:47.731Z"
   },
   {
    "duration": 4,
    "start_time": "2021-09-24T19:56:03.245Z"
   },
   {
    "duration": 93,
    "start_time": "2021-09-24T19:56:25.126Z"
   },
   {
    "duration": 6,
    "start_time": "2021-09-24T19:56:53.685Z"
   },
   {
    "duration": 4,
    "start_time": "2021-09-24T19:57:11.095Z"
   },
   {
    "duration": 4,
    "start_time": "2021-09-24T19:57:51.181Z"
   },
   {
    "duration": 3,
    "start_time": "2021-09-24T19:58:32.117Z"
   },
   {
    "duration": 1474,
    "start_time": "2021-09-25T08:32:25.082Z"
   },
   {
    "duration": 530,
    "start_time": "2021-09-25T08:32:31.642Z"
   },
   {
    "duration": 29,
    "start_time": "2021-09-25T08:32:35.420Z"
   },
   {
    "duration": 16,
    "start_time": "2021-09-25T08:32:38.802Z"
   },
   {
    "duration": 6,
    "start_time": "2021-09-25T08:32:41.332Z"
   },
   {
    "duration": 26,
    "start_time": "2021-09-25T08:32:42.452Z"
   },
   {
    "duration": 133,
    "start_time": "2021-09-25T08:32:43.242Z"
   },
   {
    "duration": 25,
    "start_time": "2021-09-25T08:32:46.772Z"
   },
   {
    "duration": 11,
    "start_time": "2021-09-25T08:32:51.312Z"
   },
   {
    "duration": 6,
    "start_time": "2021-09-25T08:32:53.014Z"
   },
   {
    "duration": 22,
    "start_time": "2021-09-25T08:32:54.001Z"
   },
   {
    "duration": 63,
    "start_time": "2021-09-25T08:32:56.502Z"
   },
   {
    "duration": 22,
    "start_time": "2021-09-25T08:32:59.082Z"
   },
   {
    "duration": 11,
    "start_time": "2021-09-25T08:33:03.610Z"
   },
   {
    "duration": 5,
    "start_time": "2021-09-25T08:33:05.961Z"
   },
   {
    "duration": 18,
    "start_time": "2021-09-25T08:33:08.052Z"
   },
   {
    "duration": 69,
    "start_time": "2021-09-25T08:33:11.092Z"
   },
   {
    "duration": 10,
    "start_time": "2021-09-25T08:33:14.381Z"
   },
   {
    "duration": 13,
    "start_time": "2021-09-25T08:33:18.664Z"
   },
   {
    "duration": 5,
    "start_time": "2021-09-25T08:33:19.741Z"
   },
   {
    "duration": 7,
    "start_time": "2021-09-25T08:33:20.592Z"
   },
   {
    "duration": 8,
    "start_time": "2021-09-25T08:33:23.422Z"
   },
   {
    "duration": 10,
    "start_time": "2021-09-25T08:33:27.402Z"
   },
   {
    "duration": 15,
    "start_time": "2021-09-25T08:33:31.512Z"
   },
   {
    "duration": 5,
    "start_time": "2021-09-25T08:33:32.660Z"
   },
   {
    "duration": 10,
    "start_time": "2021-09-25T08:33:35.954Z"
   },
   {
    "duration": 9,
    "start_time": "2021-09-25T08:33:38.979Z"
   },
   {
    "duration": 10,
    "start_time": "2021-09-25T08:33:40.412Z"
   },
   {
    "duration": 9,
    "start_time": "2021-09-25T08:33:42.432Z"
   },
   {
    "duration": 10,
    "start_time": "2021-09-25T08:33:44.422Z"
   },
   {
    "duration": 8,
    "start_time": "2021-09-25T08:33:47.493Z"
   },
   {
    "duration": 11,
    "start_time": "2021-09-25T08:33:51.111Z"
   },
   {
    "duration": 33,
    "start_time": "2021-09-25T08:33:57.863Z"
   },
   {
    "duration": 17,
    "start_time": "2021-09-25T08:34:01.982Z"
   },
   {
    "duration": 25,
    "start_time": "2021-09-25T08:34:04.681Z"
   },
   {
    "duration": 16,
    "start_time": "2021-09-25T08:34:05.742Z"
   },
   {
    "duration": 406,
    "start_time": "2021-09-25T08:34:07.231Z"
   },
   {
    "duration": 19,
    "start_time": "2021-09-25T08:34:11.832Z"
   },
   {
    "duration": 22,
    "start_time": "2021-09-25T08:34:12.842Z"
   },
   {
    "duration": 413,
    "start_time": "2021-09-25T08:34:14.041Z"
   },
   {
    "duration": 15,
    "start_time": "2021-09-25T08:34:18.102Z"
   },
   {
    "duration": 64,
    "start_time": "2021-09-25T08:34:22.514Z"
   },
   {
    "duration": 36,
    "start_time": "2021-09-25T08:34:25.839Z"
   },
   {
    "duration": 50,
    "start_time": "2021-09-25T08:34:29.715Z"
   },
   {
    "duration": 12,
    "start_time": "2021-09-25T08:34:33.481Z"
   },
   {
    "duration": 84,
    "start_time": "2021-09-25T08:34:38.932Z"
   },
   {
    "duration": 56,
    "start_time": "2021-09-25T08:34:43.725Z"
   },
   {
    "duration": 31,
    "start_time": "2021-09-25T08:34:47.802Z"
   },
   {
    "duration": 65,
    "start_time": "2021-09-25T08:34:51.359Z"
   },
   {
    "duration": 34,
    "start_time": "2021-09-25T08:34:54.421Z"
   },
   {
    "duration": 46,
    "start_time": "2021-09-25T08:34:57.875Z"
   },
   {
    "duration": 13,
    "start_time": "2021-09-25T08:35:05.821Z"
   },
   {
    "duration": 9,
    "start_time": "2021-09-25T08:35:09.706Z"
   },
   {
    "duration": 15,
    "start_time": "2021-09-25T08:35:13.522Z"
   },
   {
    "duration": 8,
    "start_time": "2021-09-25T08:35:20.511Z"
   },
   {
    "duration": 105,
    "start_time": "2021-09-25T08:35:26.971Z"
   },
   {
    "duration": 456,
    "start_time": "2021-09-25T08:35:29.200Z"
   },
   {
    "duration": 12,
    "start_time": "2021-09-25T08:35:41.082Z"
   },
   {
    "duration": 25,
    "start_time": "2021-09-25T08:35:44.562Z"
   },
   {
    "duration": 12,
    "start_time": "2021-09-25T08:35:48.392Z"
   },
   {
    "duration": 19,
    "start_time": "2021-09-25T08:35:53.779Z"
   },
   {
    "duration": 33,
    "start_time": "2021-09-25T08:35:58.872Z"
   },
   {
    "duration": 14,
    "start_time": "2021-09-25T08:36:03.801Z"
   },
   {
    "duration": 12,
    "start_time": "2021-09-25T08:36:13.712Z"
   },
   {
    "duration": 536,
    "start_time": "2021-09-25T08:36:18.212Z"
   },
   {
    "duration": 540,
    "start_time": "2021-09-25T08:36:22.954Z"
   },
   {
    "duration": 564,
    "start_time": "2021-09-25T08:36:28.022Z"
   },
   {
    "duration": 31,
    "start_time": "2021-09-25T08:36:32.673Z"
   },
   {
    "duration": 15,
    "start_time": "2021-09-25T08:36:37.112Z"
   },
   {
    "duration": 18,
    "start_time": "2021-09-25T08:36:40.782Z"
   },
   {
    "duration": 30,
    "start_time": "2021-09-25T08:36:45.461Z"
   },
   {
    "duration": 9,
    "start_time": "2021-09-25T08:36:48.671Z"
   },
   {
    "duration": 30,
    "start_time": "2021-09-25T08:36:52.431Z"
   },
   {
    "duration": 8,
    "start_time": "2021-09-25T08:36:54.502Z"
   },
   {
    "duration": 24,
    "start_time": "2021-09-25T08:36:55.632Z"
   },
   {
    "duration": 29,
    "start_time": "2021-09-25T08:37:06.724Z"
   },
   {
    "duration": 11,
    "start_time": "2021-09-25T08:37:13.821Z"
   },
   {
    "duration": 25,
    "start_time": "2021-09-25T08:37:18.202Z"
   },
   {
    "duration": 459,
    "start_time": "2021-09-25T08:37:24.692Z"
   },
   {
    "duration": 12,
    "start_time": "2021-09-25T08:37:31.911Z"
   },
   {
    "duration": 20,
    "start_time": "2021-09-25T08:37:34.412Z"
   },
   {
    "duration": 33,
    "start_time": "2021-09-25T08:37:41.702Z"
   },
   {
    "duration": 8,
    "start_time": "2021-09-25T08:37:46.172Z"
   },
   {
    "duration": 29,
    "start_time": "2021-09-25T08:37:48.929Z"
   },
   {
    "duration": 7,
    "start_time": "2021-09-25T08:37:51.306Z"
   },
   {
    "duration": 29,
    "start_time": "2021-09-25T08:37:53.815Z"
   },
   {
    "duration": 25,
    "start_time": "2021-09-25T08:37:56.681Z"
   },
   {
    "duration": 10,
    "start_time": "2021-09-25T08:38:01.539Z"
   },
   {
    "duration": 418,
    "start_time": "2021-09-25T08:38:06.690Z"
   },
   {
    "duration": 385,
    "start_time": "2021-09-25T08:38:11.442Z"
   },
   {
    "duration": 382,
    "start_time": "2021-09-25T08:38:15.825Z"
   },
   {
    "duration": 414,
    "start_time": "2021-09-25T08:38:20.261Z"
   },
   {
    "duration": 373,
    "start_time": "2021-09-25T08:38:24.112Z"
   },
   {
    "duration": 409,
    "start_time": "2021-09-25T08:38:28.102Z"
   },
   {
    "duration": 4,
    "start_time": "2021-09-25T08:38:35.065Z"
   },
   {
    "duration": 9,
    "start_time": "2021-09-25T08:38:38.822Z"
   },
   {
    "duration": 7,
    "start_time": "2021-09-25T08:38:42.492Z"
   },
   {
    "duration": 5,
    "start_time": "2021-09-25T08:38:44.551Z"
   },
   {
    "duration": 6,
    "start_time": "2021-09-25T08:38:46.342Z"
   },
   {
    "duration": 9,
    "start_time": "2021-09-25T08:38:51.541Z"
   },
   {
    "duration": 6,
    "start_time": "2021-09-25T08:38:53.482Z"
   },
   {
    "duration": 4,
    "start_time": "2021-09-25T08:38:54.992Z"
   },
   {
    "duration": 7,
    "start_time": "2021-09-25T08:38:56.135Z"
   },
   {
    "duration": 8,
    "start_time": "2021-09-25T08:39:00.411Z"
   },
   {
    "duration": 6,
    "start_time": "2021-09-25T08:39:02.032Z"
   },
   {
    "duration": 5,
    "start_time": "2021-09-25T08:39:03.472Z"
   },
   {
    "duration": 4,
    "start_time": "2021-09-25T08:39:09.452Z"
   },
   {
    "duration": 246,
    "start_time": "2021-09-25T08:49:16.591Z"
   },
   {
    "duration": 12235,
    "start_time": "2021-09-25T08:54:42.081Z"
   },
   {
    "duration": 720,
    "start_time": "2021-09-25T08:55:34.582Z"
   },
   {
    "duration": 918,
    "start_time": "2021-09-25T08:57:36.090Z"
   },
   {
    "duration": 590,
    "start_time": "2021-09-25T08:57:45.932Z"
   },
   {
    "duration": 708,
    "start_time": "2021-09-25T08:59:02.063Z"
   },
   {
    "duration": 608,
    "start_time": "2021-09-25T08:59:59.551Z"
   },
   {
    "duration": 650,
    "start_time": "2021-09-25T09:00:13.842Z"
   },
   {
    "duration": 575,
    "start_time": "2021-09-25T09:01:27.632Z"
   },
   {
    "duration": 830,
    "start_time": "2021-09-25T09:01:43.952Z"
   },
   {
    "duration": 624,
    "start_time": "2021-09-25T09:02:00.164Z"
   },
   {
    "duration": 610,
    "start_time": "2021-09-25T09:05:57.572Z"
   },
   {
    "duration": 1003,
    "start_time": "2021-09-25T09:07:32.259Z"
   },
   {
    "duration": 1065,
    "start_time": "2021-09-25T09:08:06.582Z"
   },
   {
    "duration": 595,
    "start_time": "2021-09-25T09:08:37.271Z"
   },
   {
    "duration": 577,
    "start_time": "2021-09-25T09:11:14.232Z"
   },
   {
    "duration": 698,
    "start_time": "2021-09-25T09:12:33.001Z"
   },
   {
    "duration": 79,
    "start_time": "2021-09-25T09:26:35.661Z"
   },
   {
    "duration": 5,
    "start_time": "2021-09-25T09:31:17.162Z"
   },
   {
    "duration": 8,
    "start_time": "2021-09-25T09:33:23.331Z"
   },
   {
    "duration": 355,
    "start_time": "2021-09-25T09:33:48.852Z"
   },
   {
    "duration": 4,
    "start_time": "2021-09-25T09:36:07.950Z"
   },
   {
    "duration": 10642,
    "start_time": "2021-09-25T09:36:11.266Z"
   },
   {
    "duration": 4,
    "start_time": "2021-09-25T09:40:03.782Z"
   },
   {
    "duration": 63,
    "start_time": "2021-09-25T09:40:05.731Z"
   },
   {
    "duration": 5,
    "start_time": "2021-09-25T09:40:06.855Z"
   },
   {
    "duration": 7,
    "start_time": "2021-09-25T09:40:11.101Z"
   },
   {
    "duration": 20,
    "start_time": "2021-09-25T09:45:06.271Z"
   },
   {
    "duration": 20,
    "start_time": "2021-09-25T09:46:27.641Z"
   },
   {
    "duration": 346,
    "start_time": "2021-09-25T10:01:22.124Z"
   },
   {
    "duration": 11394,
    "start_time": "2021-09-25T10:03:33.015Z"
   },
   {
    "duration": 371,
    "start_time": "2021-09-25T10:04:03.625Z"
   },
   {
    "duration": 84,
    "start_time": "2021-09-25T10:07:45.053Z"
   },
   {
    "duration": 393,
    "start_time": "2021-09-25T10:08:11.435Z"
   },
   {
    "duration": 12,
    "start_time": "2021-09-25T10:32:24.355Z"
   },
   {
    "duration": 10836,
    "start_time": "2021-09-25T10:37:29.116Z"
   },
   {
    "duration": 341,
    "start_time": "2021-09-25T10:39:07.285Z"
   },
   {
    "duration": 7,
    "start_time": "2021-09-25T10:39:29.229Z"
   },
   {
    "duration": 11,
    "start_time": "2021-09-25T10:44:13.013Z"
   },
   {
    "duration": 68,
    "start_time": "2021-09-25T11:05:53.290Z"
   },
   {
    "duration": 5,
    "start_time": "2021-09-25T11:11:48.448Z"
   },
   {
    "duration": 359,
    "start_time": "2021-09-25T11:13:29.639Z"
   },
   {
    "duration": 724,
    "start_time": "2021-09-25T11:16:09.718Z"
   },
   {
    "duration": 406,
    "start_time": "2021-09-25T11:24:03.319Z"
   },
   {
    "duration": 19,
    "start_time": "2021-09-25T11:24:35.983Z"
   },
   {
    "duration": 5,
    "start_time": "2021-09-25T11:24:45.308Z"
   },
   {
    "duration": 7,
    "start_time": "2021-09-25T11:26:17.648Z"
   },
   {
    "duration": 1551,
    "start_time": "2021-09-25T11:26:36.496Z"
   },
   {
    "duration": 548,
    "start_time": "2021-09-25T11:26:44.146Z"
   },
   {
    "duration": 30,
    "start_time": "2021-09-25T11:26:47.865Z"
   },
   {
    "duration": 16,
    "start_time": "2021-09-25T11:26:51.446Z"
   },
   {
    "duration": 6,
    "start_time": "2021-09-25T11:26:53.336Z"
   },
   {
    "duration": 28,
    "start_time": "2021-09-25T11:26:54.347Z"
   },
   {
    "duration": 145,
    "start_time": "2021-09-25T11:26:57.366Z"
   },
   {
    "duration": 23,
    "start_time": "2021-09-25T11:27:00.906Z"
   },
   {
    "duration": 11,
    "start_time": "2021-09-25T11:27:05.704Z"
   },
   {
    "duration": 6,
    "start_time": "2021-09-25T11:27:06.807Z"
   },
   {
    "duration": 27,
    "start_time": "2021-09-25T11:27:07.785Z"
   },
   {
    "duration": 67,
    "start_time": "2021-09-25T11:27:10.496Z"
   },
   {
    "duration": 20,
    "start_time": "2021-09-25T11:27:14.306Z"
   },
   {
    "duration": 11,
    "start_time": "2021-09-25T11:27:17.939Z"
   },
   {
    "duration": 5,
    "start_time": "2021-09-25T11:27:19.935Z"
   },
   {
    "duration": 21,
    "start_time": "2021-09-25T11:27:47.175Z"
   },
   {
    "duration": 65,
    "start_time": "2021-09-25T11:27:48.525Z"
   },
   {
    "duration": 10,
    "start_time": "2021-09-25T11:27:52.947Z"
   },
   {
    "duration": 17,
    "start_time": "2021-09-25T11:27:56.475Z"
   },
   {
    "duration": 6,
    "start_time": "2021-09-25T11:27:57.369Z"
   },
   {
    "duration": 8,
    "start_time": "2021-09-25T11:27:58.257Z"
   },
   {
    "duration": 9,
    "start_time": "2021-09-25T11:28:01.520Z"
   },
   {
    "duration": 9,
    "start_time": "2021-09-25T11:28:04.356Z"
   },
   {
    "duration": 16,
    "start_time": "2021-09-25T11:28:07.756Z"
   },
   {
    "duration": 6,
    "start_time": "2021-09-25T11:28:11.776Z"
   },
   {
    "duration": 8,
    "start_time": "2021-09-25T11:28:16.126Z"
   },
   {
    "duration": 8,
    "start_time": "2021-09-25T11:28:20.157Z"
   },
   {
    "duration": 9,
    "start_time": "2021-09-25T11:28:21.236Z"
   },
   {
    "duration": 11,
    "start_time": "2021-09-25T11:28:24.886Z"
   },
   {
    "duration": 11,
    "start_time": "2021-09-25T11:28:26.086Z"
   },
   {
    "duration": 8,
    "start_time": "2021-09-25T11:28:32.466Z"
   },
   {
    "duration": 11,
    "start_time": "2021-09-25T11:28:37.875Z"
   },
   {
    "duration": 28,
    "start_time": "2021-09-25T11:28:44.515Z"
   },
   {
    "duration": 15,
    "start_time": "2021-09-25T11:28:50.200Z"
   },
   {
    "duration": 24,
    "start_time": "2021-09-25T11:28:52.335Z"
   },
   {
    "duration": 21,
    "start_time": "2021-09-25T11:28:56.936Z"
   },
   {
    "duration": 19,
    "start_time": "2021-09-25T11:29:01.871Z"
   },
   {
    "duration": 22,
    "start_time": "2021-09-25T11:29:08.185Z"
   },
   {
    "duration": 24,
    "start_time": "2021-09-25T11:29:11.815Z"
   },
   {
    "duration": 15,
    "start_time": "2021-09-25T11:29:16.406Z"
   },
   {
    "duration": 67,
    "start_time": "2021-09-25T11:29:20.149Z"
   },
   {
    "duration": 621,
    "start_time": "2021-09-25T11:29:24.736Z"
   },
   {
    "duration": 40,
    "start_time": "2021-09-25T11:29:30.550Z"
   },
   {
    "duration": 55,
    "start_time": "2021-09-25T11:29:33.466Z"
   },
   {
    "duration": 618,
    "start_time": "2021-09-25T11:29:35.983Z"
   },
   {
    "duration": 14,
    "start_time": "2021-09-25T11:29:40.586Z"
   },
   {
    "duration": 507,
    "start_time": "2021-09-25T11:29:45.596Z"
   },
   {
    "duration": 54,
    "start_time": "2021-09-25T11:31:09.955Z"
   },
   {
    "duration": 376,
    "start_time": "2021-09-25T11:32:26.966Z"
   },
   {
    "duration": 1583,
    "start_time": "2021-09-25T11:32:53.555Z"
   },
   {
    "duration": 50,
    "start_time": "2021-09-25T11:33:20.785Z"
   },
   {
    "duration": 1275,
    "start_time": "2021-09-25T11:35:24.166Z"
   },
   {
    "duration": 96,
    "start_time": "2021-09-25T11:36:10.487Z"
   },
   {
    "duration": 1485,
    "start_time": "2021-09-25T11:36:33.569Z"
   },
   {
    "duration": 556,
    "start_time": "2021-09-25T11:36:35.057Z"
   },
   {
    "duration": 28,
    "start_time": "2021-09-25T11:36:35.617Z"
   },
   {
    "duration": 16,
    "start_time": "2021-09-25T11:36:35.648Z"
   },
   {
    "duration": 19,
    "start_time": "2021-09-25T11:36:35.667Z"
   },
   {
    "duration": 29,
    "start_time": "2021-09-25T11:36:35.690Z"
   },
   {
    "duration": 1454,
    "start_time": "2021-09-25T11:36:43.107Z"
   },
   {
    "duration": 559,
    "start_time": "2021-09-25T11:36:48.118Z"
   },
   {
    "duration": 28,
    "start_time": "2021-09-25T11:36:51.516Z"
   },
   {
    "duration": 16,
    "start_time": "2021-09-25T11:36:54.697Z"
   },
   {
    "duration": 5,
    "start_time": "2021-09-25T11:36:58.267Z"
   },
   {
    "duration": 27,
    "start_time": "2021-09-25T11:36:59.247Z"
   },
   {
    "duration": 135,
    "start_time": "2021-09-25T11:37:00.347Z"
   },
   {
    "duration": 23,
    "start_time": "2021-09-25T11:37:04.010Z"
   },
   {
    "duration": 12,
    "start_time": "2021-09-25T11:37:07.545Z"
   },
   {
    "duration": 6,
    "start_time": "2021-09-25T11:37:08.386Z"
   },
   {
    "duration": 21,
    "start_time": "2021-09-25T11:37:09.287Z"
   },
   {
    "duration": 65,
    "start_time": "2021-09-25T11:37:12.546Z"
   },
   {
    "duration": 20,
    "start_time": "2021-09-25T11:37:16.004Z"
   },
   {
    "duration": 9,
    "start_time": "2021-09-25T11:37:19.827Z"
   },
   {
    "duration": 5,
    "start_time": "2021-09-25T11:37:20.880Z"
   },
   {
    "duration": 19,
    "start_time": "2021-09-25T11:37:21.907Z"
   },
   {
    "duration": 64,
    "start_time": "2021-09-25T11:37:25.360Z"
   },
   {
    "duration": 10,
    "start_time": "2021-09-25T11:37:28.777Z"
   },
   {
    "duration": 13,
    "start_time": "2021-09-25T11:37:34.166Z"
   },
   {
    "duration": 5,
    "start_time": "2021-09-25T11:37:34.968Z"
   },
   {
    "duration": 8,
    "start_time": "2021-09-25T11:37:35.867Z"
   },
   {
    "duration": 9,
    "start_time": "2021-09-25T11:37:40.886Z"
   },
   {
    "duration": 9,
    "start_time": "2021-09-25T11:37:44.697Z"
   },
   {
    "duration": 15,
    "start_time": "2021-09-25T11:37:49.576Z"
   },
   {
    "duration": 6,
    "start_time": "2021-09-25T11:37:52.738Z"
   },
   {
    "duration": 8,
    "start_time": "2021-09-25T11:37:58.527Z"
   },
   {
    "duration": 8,
    "start_time": "2021-09-25T11:38:02.400Z"
   },
   {
    "duration": 9,
    "start_time": "2021-09-25T11:38:03.477Z"
   },
   {
    "duration": 10,
    "start_time": "2021-09-25T11:38:06.817Z"
   },
   {
    "duration": 9,
    "start_time": "2021-09-25T11:38:09.477Z"
   },
   {
    "duration": 9,
    "start_time": "2021-09-25T11:38:10.537Z"
   },
   {
    "duration": 10,
    "start_time": "2021-09-25T11:38:14.520Z"
   },
   {
    "duration": 28,
    "start_time": "2021-09-25T11:38:18.136Z"
   },
   {
    "duration": 16,
    "start_time": "2021-09-25T11:38:28.195Z"
   },
   {
    "duration": 25,
    "start_time": "2021-09-25T11:38:31.006Z"
   },
   {
    "duration": 22,
    "start_time": "2021-09-25T11:38:37.096Z"
   },
   {
    "duration": 16,
    "start_time": "2021-09-25T11:38:46.117Z"
   },
   {
    "duration": 20,
    "start_time": "2021-09-25T11:38:50.666Z"
   },
   {
    "duration": 23,
    "start_time": "2021-09-25T11:38:54.876Z"
   },
   {
    "duration": 16,
    "start_time": "2021-09-25T11:38:58.644Z"
   },
   {
    "duration": 63,
    "start_time": "2021-09-25T11:39:03.657Z"
   },
   {
    "duration": 597,
    "start_time": "2021-09-25T11:39:06.647Z"
   },
   {
    "duration": 36,
    "start_time": "2021-09-25T11:39:11.757Z"
   },
   {
    "duration": 52,
    "start_time": "2021-09-25T11:39:14.916Z"
   },
   {
    "duration": 591,
    "start_time": "2021-09-25T11:39:18.287Z"
   },
   {
    "duration": 11,
    "start_time": "2021-09-25T11:39:26.877Z"
   },
   {
    "duration": 1063,
    "start_time": "2021-09-25T11:41:11.896Z"
   },
   {
    "duration": 99,
    "start_time": "2021-09-25T11:41:17.487Z"
   },
   {
    "duration": 55,
    "start_time": "2021-09-25T11:41:23.326Z"
   },
   {
    "duration": 40,
    "start_time": "2021-09-25T11:41:31.559Z"
   },
   {
    "duration": 64,
    "start_time": "2021-09-25T11:41:43.727Z"
   },
   {
    "duration": 95,
    "start_time": "2021-09-25T11:41:50.007Z"
   },
   {
    "duration": 48,
    "start_time": "2021-09-25T11:42:00.325Z"
   },
   {
    "duration": 12,
    "start_time": "2021-09-25T11:42:07.390Z"
   },
   {
    "duration": 9,
    "start_time": "2021-09-25T11:42:12.407Z"
   },
   {
    "duration": 17,
    "start_time": "2021-09-25T11:42:16.476Z"
   },
   {
    "duration": 8,
    "start_time": "2021-09-25T11:42:25.695Z"
   },
   {
    "duration": 11383,
    "start_time": "2021-09-25T11:42:32.167Z"
   },
   {
    "duration": 387,
    "start_time": "2021-09-25T11:44:16.178Z"
   },
   {
    "duration": 10945,
    "start_time": "2021-09-25T11:44:41.325Z"
   },
   {
    "duration": 8,
    "start_time": "2021-09-25T11:45:56.061Z"
   },
   {
    "duration": 99,
    "start_time": "2021-09-25T11:46:02.428Z"
   },
   {
    "duration": 439,
    "start_time": "2021-09-25T11:46:24.238Z"
   },
   {
    "duration": 10,
    "start_time": "2021-09-25T11:46:32.248Z"
   },
   {
    "duration": 37,
    "start_time": "2021-09-25T11:46:40.566Z"
   },
   {
    "duration": 13,
    "start_time": "2021-09-25T11:46:50.364Z"
   },
   {
    "duration": 347,
    "start_time": "2021-09-25T11:46:57.568Z"
   },
   {
    "duration": 17,
    "start_time": "2021-09-25T11:47:13.448Z"
   },
   {
    "duration": 18,
    "start_time": "2021-09-25T11:48:25.138Z"
   },
   {
    "duration": 19,
    "start_time": "2021-09-25T11:48:37.725Z"
   },
   {
    "duration": 17,
    "start_time": "2021-09-25T11:48:49.308Z"
   },
   {
    "duration": 422,
    "start_time": "2021-09-25T11:48:54.738Z"
   },
   {
    "duration": 19,
    "start_time": "2021-09-25T11:49:28.428Z"
   },
   {
    "duration": 437,
    "start_time": "2021-09-25T11:49:40.147Z"
   },
   {
    "duration": 33,
    "start_time": "2021-09-25T11:49:54.997Z"
   },
   {
    "duration": 13,
    "start_time": "2021-09-25T11:50:00.959Z"
   },
   {
    "duration": 12,
    "start_time": "2021-09-25T11:50:13.088Z"
   },
   {
    "duration": 529,
    "start_time": "2021-09-25T11:50:22.397Z"
   },
   {
    "duration": 11018,
    "start_time": "2021-09-25T11:50:27.738Z"
   },
   {
    "duration": 573,
    "start_time": "2021-09-25T11:50:58.270Z"
   },
   {
    "duration": 581,
    "start_time": "2021-09-25T11:51:04.568Z"
   },
   {
    "duration": 26,
    "start_time": "2021-09-25T11:51:32.367Z"
   },
   {
    "duration": 368,
    "start_time": "2021-09-25T11:51:54.818Z"
   },
   {
    "duration": 27,
    "start_time": "2021-09-25T11:52:07.687Z"
   },
   {
    "duration": 499,
    "start_time": "2021-09-25T11:52:16.688Z"
   },
   {
    "duration": 10101,
    "start_time": "2021-09-25T11:52:22.979Z"
   },
   {
    "duration": 12,
    "start_time": "2021-09-25T11:52:41.628Z"
   },
   {
    "duration": 20,
    "start_time": "2021-09-25T11:52:51.858Z"
   },
   {
    "duration": 458,
    "start_time": "2021-09-25T11:54:00.052Z"
   },
   {
    "duration": 32,
    "start_time": "2021-09-25T11:54:15.807Z"
   },
   {
    "duration": 9,
    "start_time": "2021-09-25T11:54:28.107Z"
   },
   {
    "duration": 31,
    "start_time": "2021-09-25T11:54:36.238Z"
   },
   {
    "duration": 7,
    "start_time": "2021-09-25T11:54:43.528Z"
   },
   {
    "duration": 24,
    "start_time": "2021-09-25T11:54:49.358Z"
   },
   {
    "duration": 26,
    "start_time": "2021-09-25T11:54:53.479Z"
   },
   {
    "duration": 11,
    "start_time": "2021-09-25T11:55:03.617Z"
   },
   {
    "duration": 399,
    "start_time": "2021-09-25T11:55:13.958Z"
   },
   {
    "duration": 27,
    "start_time": "2021-09-25T11:55:29.577Z"
   },
   {
    "duration": 463,
    "start_time": "2021-09-25T11:55:39.648Z"
   },
   {
    "duration": 13,
    "start_time": "2021-09-25T11:55:52.822Z"
   },
   {
    "duration": 20,
    "start_time": "2021-09-25T11:56:00.133Z"
   },
   {
    "duration": 419,
    "start_time": "2021-09-25T11:56:11.195Z"
   },
   {
    "duration": 30,
    "start_time": "2021-09-25T11:56:20.141Z"
   },
   {
    "duration": 8,
    "start_time": "2021-09-25T11:56:29.758Z"
   },
   {
    "duration": 30,
    "start_time": "2021-09-25T11:56:37.603Z"
   },
   {
    "duration": 7,
    "start_time": "2021-09-25T11:56:42.098Z"
   },
   {
    "duration": 22,
    "start_time": "2021-09-25T11:56:46.178Z"
   },
   {
    "duration": 24,
    "start_time": "2021-09-25T11:56:48.917Z"
   },
   {
    "duration": 9,
    "start_time": "2021-09-25T11:56:57.318Z"
   },
   {
    "duration": 414,
    "start_time": "2021-09-25T11:57:08.540Z"
   },
   {
    "duration": 408,
    "start_time": "2021-09-25T11:57:23.518Z"
   },
   {
    "duration": 402,
    "start_time": "2021-09-25T11:57:29.288Z"
   },
   {
    "duration": 440,
    "start_time": "2021-09-25T11:57:33.968Z"
   },
   {
    "duration": 500,
    "start_time": "2021-09-25T11:57:38.827Z"
   },
   {
    "duration": 451,
    "start_time": "2021-09-25T11:57:44.068Z"
   },
   {
    "duration": 87,
    "start_time": "2021-09-25T11:57:53.126Z"
   },
   {
    "duration": 292,
    "start_time": "2021-09-25T11:57:56.352Z"
   },
   {
    "duration": 11,
    "start_time": "2021-09-25T11:58:03.167Z"
   },
   {
    "duration": 8,
    "start_time": "2021-09-25T11:58:08.330Z"
   },
   {
    "duration": 12,
    "start_time": "2021-09-25T11:58:17.218Z"
   },
   {
    "duration": 9,
    "start_time": "2021-09-25T13:59:10.996Z"
   },
   {
    "duration": 481,
    "start_time": "2021-09-25T14:07:39.824Z"
   },
   {
    "duration": 342,
    "start_time": "2021-09-25T14:09:11.107Z"
   },
   {
    "duration": 339,
    "start_time": "2021-09-25T14:09:42.906Z"
   },
   {
    "duration": 472,
    "start_time": "2021-09-25T14:10:25.226Z"
   },
   {
    "duration": 343,
    "start_time": "2021-09-25T14:10:47.276Z"
   },
   {
    "duration": 11020,
    "start_time": "2021-09-25T14:17:38.386Z"
   },
   {
    "duration": 12085,
    "start_time": "2021-09-25T14:18:35.104Z"
   },
   {
    "duration": 10018,
    "start_time": "2021-09-25T14:43:24.346Z"
   },
   {
    "duration": 85,
    "start_time": "2021-09-25T14:45:51.103Z"
   },
   {
    "duration": 17,
    "start_time": "2021-09-25T14:46:13.640Z"
   },
   {
    "duration": 18,
    "start_time": "2021-09-25T14:48:21.192Z"
   },
   {
    "duration": 16,
    "start_time": "2021-09-25T14:49:16.893Z"
   },
   {
    "duration": 129,
    "start_time": "2021-09-25T14:55:36.537Z"
   },
   {
    "duration": 20,
    "start_time": "2021-09-25T14:56:13.357Z"
   },
   {
    "duration": 10429,
    "start_time": "2021-09-25T15:04:52.515Z"
   },
   {
    "duration": 444,
    "start_time": "2021-09-25T15:11:24.554Z"
   },
   {
    "duration": 1609,
    "start_time": "2021-09-25T15:12:53.354Z"
   },
   {
    "duration": 546,
    "start_time": "2021-09-25T15:12:54.965Z"
   },
   {
    "duration": 27,
    "start_time": "2021-09-25T15:12:55.514Z"
   },
   {
    "duration": 15,
    "start_time": "2021-09-25T15:12:55.545Z"
   },
   {
    "duration": 4,
    "start_time": "2021-09-25T15:12:55.563Z"
   },
   {
    "duration": 37,
    "start_time": "2021-09-25T15:12:55.569Z"
   },
   {
    "duration": 154,
    "start_time": "2021-09-25T15:12:55.609Z"
   },
   {
    "duration": 31,
    "start_time": "2021-09-25T15:12:55.766Z"
   },
   {
    "duration": 11,
    "start_time": "2021-09-25T15:12:55.801Z"
   },
   {
    "duration": 7,
    "start_time": "2021-09-25T15:12:55.815Z"
   },
   {
    "duration": 24,
    "start_time": "2021-09-25T15:12:55.825Z"
   },
   {
    "duration": 97,
    "start_time": "2021-09-25T15:12:55.852Z"
   },
   {
    "duration": 37,
    "start_time": "2021-09-25T15:12:55.952Z"
   },
   {
    "duration": 11,
    "start_time": "2021-09-25T15:12:55.992Z"
   },
   {
    "duration": 6,
    "start_time": "2021-09-25T15:12:56.006Z"
   },
   {
    "duration": 25,
    "start_time": "2021-09-25T15:12:56.015Z"
   },
   {
    "duration": 106,
    "start_time": "2021-09-25T15:12:56.043Z"
   },
   {
    "duration": 9,
    "start_time": "2021-09-25T15:12:56.152Z"
   },
   {
    "duration": 13,
    "start_time": "2021-09-25T15:12:56.183Z"
   },
   {
    "duration": 11,
    "start_time": "2021-09-25T15:12:56.198Z"
   },
   {
    "duration": 10,
    "start_time": "2021-09-25T15:12:56.212Z"
   },
   {
    "duration": 13,
    "start_time": "2021-09-25T15:12:56.224Z"
   },
   {
    "duration": 50,
    "start_time": "2021-09-25T15:12:56.240Z"
   },
   {
    "duration": 25,
    "start_time": "2021-09-25T15:12:56.293Z"
   },
   {
    "duration": 7,
    "start_time": "2021-09-25T15:12:56.321Z"
   },
   {
    "duration": 21,
    "start_time": "2021-09-25T15:12:56.330Z"
   },
   {
    "duration": 7,
    "start_time": "2021-09-25T15:12:56.358Z"
   },
   {
    "duration": 9,
    "start_time": "2021-09-25T15:12:56.385Z"
   },
   {
    "duration": 12,
    "start_time": "2021-09-25T15:12:56.396Z"
   },
   {
    "duration": 13,
    "start_time": "2021-09-25T15:12:56.410Z"
   },
   {
    "duration": 10,
    "start_time": "2021-09-25T15:12:56.425Z"
   },
   {
    "duration": 51,
    "start_time": "2021-09-25T15:12:56.438Z"
   },
   {
    "duration": 29,
    "start_time": "2021-09-25T15:12:56.491Z"
   },
   {
    "duration": 14,
    "start_time": "2021-09-25T15:12:56.523Z"
   },
   {
    "duration": 51,
    "start_time": "2021-09-25T15:12:56.540Z"
   },
   {
    "duration": 22,
    "start_time": "2021-09-25T15:12:56.593Z"
   },
   {
    "duration": 17,
    "start_time": "2021-09-25T15:12:56.617Z"
   },
   {
    "duration": 51,
    "start_time": "2021-09-25T15:12:56.637Z"
   },
   {
    "duration": 23,
    "start_time": "2021-09-25T15:12:56.690Z"
   },
   {
    "duration": 16,
    "start_time": "2021-09-25T15:12:56.715Z"
   },
   {
    "duration": 101,
    "start_time": "2021-09-25T15:12:56.734Z"
   },
   {
    "duration": 1511,
    "start_time": "2021-09-25T15:13:06.002Z"
   },
   {
    "duration": 542,
    "start_time": "2021-09-25T15:13:12.762Z"
   },
   {
    "duration": 29,
    "start_time": "2021-09-25T15:13:16.020Z"
   },
   {
    "duration": 16,
    "start_time": "2021-09-25T15:13:19.252Z"
   },
   {
    "duration": 5,
    "start_time": "2021-09-25T15:13:22.412Z"
   },
   {
    "duration": 27,
    "start_time": "2021-09-25T15:13:24.303Z"
   },
   {
    "duration": 139,
    "start_time": "2021-09-25T15:13:25.432Z"
   },
   {
    "duration": 26,
    "start_time": "2021-09-25T15:13:29.872Z"
   },
   {
    "duration": 14,
    "start_time": "2021-09-25T15:13:33.172Z"
   },
   {
    "duration": 6,
    "start_time": "2021-09-25T15:13:35.693Z"
   },
   {
    "duration": 22,
    "start_time": "2021-09-25T15:13:36.853Z"
   },
   {
    "duration": 73,
    "start_time": "2021-09-25T15:13:37.882Z"
   },
   {
    "duration": 19,
    "start_time": "2021-09-25T15:13:41.512Z"
   },
   {
    "duration": 11,
    "start_time": "2021-09-25T15:13:44.848Z"
   },
   {
    "duration": 6,
    "start_time": "2021-09-25T15:13:48.782Z"
   },
   {
    "duration": 20,
    "start_time": "2021-09-25T15:13:50.072Z"
   },
   {
    "duration": 68,
    "start_time": "2021-09-25T15:13:54.005Z"
   },
   {
    "duration": 12,
    "start_time": "2021-09-25T15:14:03.482Z"
   },
   {
    "duration": 12,
    "start_time": "2021-09-25T15:14:07.692Z"
   },
   {
    "duration": 6,
    "start_time": "2021-09-25T15:14:09.702Z"
   },
   {
    "duration": 8,
    "start_time": "2021-09-25T15:14:11.223Z"
   },
   {
    "duration": 9,
    "start_time": "2021-09-25T15:14:13.962Z"
   },
   {
    "duration": 9,
    "start_time": "2021-09-25T15:14:18.802Z"
   },
   {
    "duration": 15,
    "start_time": "2021-09-25T15:14:22.492Z"
   },
   {
    "duration": 6,
    "start_time": "2021-09-25T15:14:24.858Z"
   },
   {
    "duration": 9,
    "start_time": "2021-09-25T15:14:27.182Z"
   },
   {
    "duration": 9,
    "start_time": "2021-09-25T15:14:35.975Z"
   },
   {
    "duration": 10,
    "start_time": "2021-09-25T15:14:38.693Z"
   },
   {
    "duration": 9,
    "start_time": "2021-09-25T15:14:41.902Z"
   },
   {
    "duration": 9,
    "start_time": "2021-09-25T15:14:44.705Z"
   },
   {
    "duration": 12,
    "start_time": "2021-09-25T15:14:47.662Z"
   },
   {
    "duration": 11,
    "start_time": "2021-09-25T15:14:52.282Z"
   },
   {
    "duration": 33,
    "start_time": "2021-09-25T15:15:01.022Z"
   },
   {
    "duration": 19,
    "start_time": "2021-09-25T15:15:04.283Z"
   },
   {
    "duration": 24,
    "start_time": "2021-09-25T15:15:08.362Z"
   },
   {
    "duration": 24,
    "start_time": "2021-09-25T15:15:09.564Z"
   },
   {
    "duration": 17,
    "start_time": "2021-09-25T15:15:13.694Z"
   },
   {
    "duration": 20,
    "start_time": "2021-09-25T15:15:15.053Z"
   },
   {
    "duration": 23,
    "start_time": "2021-09-25T15:15:17.882Z"
   },
   {
    "duration": 16,
    "start_time": "2021-09-25T15:15:21.574Z"
   },
   {
    "duration": 62,
    "start_time": "2021-09-25T15:15:26.802Z"
   },
   {
    "duration": 699,
    "start_time": "2021-09-25T15:15:31.233Z"
   },
   {
    "duration": 37,
    "start_time": "2021-09-25T15:15:36.452Z"
   },
   {
    "duration": 51,
    "start_time": "2021-09-25T15:15:39.371Z"
   },
   {
    "duration": 591,
    "start_time": "2021-09-25T15:15:41.923Z"
   },
   {
    "duration": 11,
    "start_time": "2021-09-25T15:15:48.123Z"
   },
   {
    "duration": 1093,
    "start_time": "2021-09-25T15:15:54.372Z"
   },
   {
    "duration": 93,
    "start_time": "2021-09-25T15:15:58.153Z"
   },
   {
    "duration": 58,
    "start_time": "2021-09-25T15:16:01.773Z"
   },
   {
    "duration": 36,
    "start_time": "2021-09-25T15:16:05.073Z"
   },
   {
    "duration": 65,
    "start_time": "2021-09-25T15:16:10.132Z"
   },
   {
    "duration": 96,
    "start_time": "2021-09-25T15:16:13.532Z"
   },
   {
    "duration": 51,
    "start_time": "2021-09-25T15:16:17.193Z"
   },
   {
    "duration": 14,
    "start_time": "2021-09-25T15:16:22.014Z"
   },
   {
    "duration": 8,
    "start_time": "2021-09-25T15:16:25.986Z"
   },
   {
    "duration": 17,
    "start_time": "2021-09-25T15:16:31.712Z"
   },
   {
    "duration": 682,
    "start_time": "2021-09-25T15:16:42.313Z"
   },
   {
    "duration": 443,
    "start_time": "2021-09-25T15:21:56.243Z"
   },
   {
    "duration": 5,
    "start_time": "2021-09-25T15:23:16.471Z"
   },
   {
    "duration": 402,
    "start_time": "2021-09-25T15:23:28.218Z"
   },
   {
    "duration": 359,
    "start_time": "2021-09-25T15:25:54.206Z"
   },
   {
    "duration": 363,
    "start_time": "2021-09-25T15:26:17.193Z"
   },
   {
    "duration": 1490,
    "start_time": "2021-09-25T15:30:10.659Z"
   },
   {
    "duration": 753,
    "start_time": "2021-09-25T15:30:23.550Z"
   },
   {
    "duration": 48,
    "start_time": "2021-09-25T15:30:30.130Z"
   },
   {
    "duration": 26,
    "start_time": "2021-09-25T15:30:34.010Z"
   },
   {
    "duration": 8,
    "start_time": "2021-09-25T15:30:34.939Z"
   },
   {
    "duration": 48,
    "start_time": "2021-09-25T15:30:36.050Z"
   },
   {
    "duration": 215,
    "start_time": "2021-09-25T15:30:37.220Z"
   },
   {
    "duration": 39,
    "start_time": "2021-09-25T15:30:41.331Z"
   },
   {
    "duration": 18,
    "start_time": "2021-09-25T15:30:44.680Z"
   },
   {
    "duration": 6,
    "start_time": "2021-09-25T15:30:45.779Z"
   },
   {
    "duration": 35,
    "start_time": "2021-09-25T15:30:46.659Z"
   },
   {
    "duration": 71,
    "start_time": "2021-09-25T15:30:48.139Z"
   },
   {
    "duration": 20,
    "start_time": "2021-09-25T15:30:52.360Z"
   },
   {
    "duration": 11,
    "start_time": "2021-09-25T15:31:01.889Z"
   },
   {
    "duration": 6,
    "start_time": "2021-09-25T15:31:02.899Z"
   },
   {
    "duration": 19,
    "start_time": "2021-09-25T15:31:03.799Z"
   },
   {
    "duration": 68,
    "start_time": "2021-09-25T15:31:04.831Z"
   },
   {
    "duration": 10,
    "start_time": "2021-09-25T15:31:09.149Z"
   },
   {
    "duration": 13,
    "start_time": "2021-09-25T15:31:26.150Z"
   },
   {
    "duration": 6,
    "start_time": "2021-09-25T15:31:27.229Z"
   },
   {
    "duration": 8,
    "start_time": "2021-09-25T15:31:28.660Z"
   },
   {
    "duration": 8,
    "start_time": "2021-09-25T15:31:30.251Z"
   },
   {
    "duration": 10,
    "start_time": "2021-09-25T15:31:35.180Z"
   },
   {
    "duration": 14,
    "start_time": "2021-09-25T15:32:18.810Z"
   },
   {
    "duration": 6,
    "start_time": "2021-09-25T15:32:20.059Z"
   },
   {
    "duration": 8,
    "start_time": "2021-09-25T15:32:23.039Z"
   },
   {
    "duration": 8,
    "start_time": "2021-09-25T15:32:26.262Z"
   },
   {
    "duration": 10,
    "start_time": "2021-09-25T15:32:27.427Z"
   },
   {
    "duration": 10,
    "start_time": "2021-09-25T15:32:28.469Z"
   },
   {
    "duration": 11,
    "start_time": "2021-09-25T15:32:31.850Z"
   },
   {
    "duration": 7,
    "start_time": "2021-09-25T15:32:32.969Z"
   },
   {
    "duration": 11,
    "start_time": "2021-09-25T15:32:36.229Z"
   },
   {
    "duration": 32,
    "start_time": "2021-09-25T15:32:40.984Z"
   },
   {
    "duration": 20,
    "start_time": "2021-09-25T15:32:45.019Z"
   },
   {
    "duration": 25,
    "start_time": "2021-09-25T15:32:45.913Z"
   },
   {
    "duration": 24,
    "start_time": "2021-09-25T15:32:49.101Z"
   },
   {
    "duration": 18,
    "start_time": "2021-09-25T15:32:53.730Z"
   },
   {
    "duration": 20,
    "start_time": "2021-09-25T15:32:54.599Z"
   },
   {
    "duration": 23,
    "start_time": "2021-09-25T15:32:55.429Z"
   },
   {
    "duration": 16,
    "start_time": "2021-09-25T15:32:59.983Z"
   },
   {
    "duration": 65,
    "start_time": "2021-09-25T15:33:03.399Z"
   },
   {
    "duration": 606,
    "start_time": "2021-09-25T15:33:06.470Z"
   },
   {
    "duration": 37,
    "start_time": "2021-09-25T15:33:10.838Z"
   },
   {
    "duration": 57,
    "start_time": "2021-09-25T15:33:13.949Z"
   },
   {
    "duration": 613,
    "start_time": "2021-09-25T15:33:16.687Z"
   },
   {
    "duration": 12,
    "start_time": "2021-09-25T15:33:20.899Z"
   },
   {
    "duration": 1184,
    "start_time": "2021-09-25T15:33:29.863Z"
   },
   {
    "duration": 95,
    "start_time": "2021-09-25T15:33:31.949Z"
   },
   {
    "duration": 58,
    "start_time": "2021-09-25T15:33:38.959Z"
   },
   {
    "duration": 34,
    "start_time": "2021-09-25T15:33:42.330Z"
   },
   {
    "duration": 66,
    "start_time": "2021-09-25T15:33:45.698Z"
   },
   {
    "duration": 101,
    "start_time": "2021-09-25T15:33:49.037Z"
   },
   {
    "duration": 48,
    "start_time": "2021-09-25T15:33:53.741Z"
   },
   {
    "duration": 14,
    "start_time": "2021-09-25T15:33:57.669Z"
   },
   {
    "duration": 8,
    "start_time": "2021-09-25T15:34:01.029Z"
   },
   {
    "duration": 16,
    "start_time": "2021-09-25T15:34:03.819Z"
   },
   {
    "duration": 5,
    "start_time": "2021-09-25T15:35:47.024Z"
   },
   {
    "duration": 502,
    "start_time": "2021-09-25T15:35:53.835Z"
   },
   {
    "duration": 9,
    "start_time": "2021-09-25T15:37:10.986Z"
   },
   {
    "duration": 96,
    "start_time": "2021-09-25T15:37:16.846Z"
   },
   {
    "duration": 790,
    "start_time": "2021-09-25T15:40:34.441Z"
   },
   {
    "duration": 11,
    "start_time": "2021-09-25T15:40:43.707Z"
   },
   {
    "duration": 10722,
    "start_time": "2021-09-25T15:40:48.406Z"
   },
   {
    "duration": 20,
    "start_time": "2021-09-25T15:47:14.689Z"
   },
   {
    "duration": 6,
    "start_time": "2021-09-25T15:49:26.207Z"
   },
   {
    "duration": 6,
    "start_time": "2021-09-25T15:52:48.886Z"
   },
   {
    "duration": 14,
    "start_time": "2021-09-25T15:52:52.786Z"
   },
   {
    "duration": 1529,
    "start_time": "2021-09-25T15:53:08.942Z"
   },
   {
    "duration": 559,
    "start_time": "2021-09-25T15:53:10.473Z"
   },
   {
    "duration": 30,
    "start_time": "2021-09-25T15:53:11.035Z"
   },
   {
    "duration": 21,
    "start_time": "2021-09-25T15:53:11.069Z"
   },
   {
    "duration": 9,
    "start_time": "2021-09-25T15:53:11.093Z"
   },
   {
    "duration": 30,
    "start_time": "2021-09-25T15:53:11.104Z"
   },
   {
    "duration": 236,
    "start_time": "2021-09-25T15:53:11.137Z"
   },
   {
    "duration": 38,
    "start_time": "2021-09-25T15:53:11.384Z"
   },
   {
    "duration": 16,
    "start_time": "2021-09-25T15:53:11.427Z"
   },
   {
    "duration": 38,
    "start_time": "2021-09-25T15:53:11.446Z"
   },
   {
    "duration": 26,
    "start_time": "2021-09-25T15:53:11.486Z"
   },
   {
    "duration": 91,
    "start_time": "2021-09-25T15:53:11.514Z"
   },
   {
    "duration": 20,
    "start_time": "2021-09-25T15:53:11.607Z"
   },
   {
    "duration": 10,
    "start_time": "2021-09-25T15:53:11.630Z"
   },
   {
    "duration": 9,
    "start_time": "2021-09-25T15:53:11.643Z"
   },
   {
    "duration": 20,
    "start_time": "2021-09-25T15:53:11.682Z"
   },
   {
    "duration": 86,
    "start_time": "2021-09-25T15:53:11.705Z"
   },
   {
    "duration": 8,
    "start_time": "2021-09-25T15:53:11.794Z"
   },
   {
    "duration": 12,
    "start_time": "2021-09-25T15:53:11.804Z"
   },
   {
    "duration": 14,
    "start_time": "2021-09-25T15:53:11.818Z"
   },
   {
    "duration": 8,
    "start_time": "2021-09-25T15:53:11.835Z"
   },
   {
    "duration": 37,
    "start_time": "2021-09-25T15:53:11.846Z"
   },
   {
    "duration": 10,
    "start_time": "2021-09-25T15:53:11.890Z"
   },
   {
    "duration": 11,
    "start_time": "2021-09-25T15:53:11.904Z"
   },
   {
    "duration": 14,
    "start_time": "2021-09-25T15:53:11.918Z"
   },
   {
    "duration": 54,
    "start_time": "2021-09-25T15:53:11.936Z"
   },
   {
    "duration": 12,
    "start_time": "2021-09-25T15:53:11.992Z"
   },
   {
    "duration": 10,
    "start_time": "2021-09-25T15:53:12.007Z"
   },
   {
    "duration": 9,
    "start_time": "2021-09-25T15:53:12.020Z"
   },
   {
    "duration": 11,
    "start_time": "2021-09-25T15:53:12.031Z"
   },
   {
    "duration": 1524,
    "start_time": "2021-09-25T15:53:21.490Z"
   },
   {
    "duration": 541,
    "start_time": "2021-09-25T15:53:25.550Z"
   },
   {
    "duration": 30,
    "start_time": "2021-09-25T15:53:29.599Z"
   },
   {
    "duration": 18,
    "start_time": "2021-09-25T15:53:34.760Z"
   },
   {
    "duration": 8,
    "start_time": "2021-09-25T15:53:35.780Z"
   },
   {
    "duration": 31,
    "start_time": "2021-09-25T15:53:36.839Z"
   },
   {
    "duration": 138,
    "start_time": "2021-09-25T15:53:40.898Z"
   },
   {
    "duration": 23,
    "start_time": "2021-09-25T15:53:44.069Z"
   },
   {
    "duration": 13,
    "start_time": "2021-09-25T15:53:48.589Z"
   },
   {
    "duration": 7,
    "start_time": "2021-09-25T15:53:49.760Z"
   },
   {
    "duration": 38,
    "start_time": "2021-09-25T15:53:50.688Z"
   },
   {
    "duration": 110,
    "start_time": "2021-09-25T15:53:55.700Z"
   },
   {
    "duration": 33,
    "start_time": "2021-09-25T15:53:59.690Z"
   },
   {
    "duration": 15,
    "start_time": "2021-09-25T15:54:03.620Z"
   },
   {
    "duration": 6,
    "start_time": "2021-09-25T15:54:04.709Z"
   },
   {
    "duration": 31,
    "start_time": "2021-09-25T15:54:05.730Z"
   },
   {
    "duration": 71,
    "start_time": "2021-09-25T15:54:09.008Z"
   },
   {
    "duration": 10,
    "start_time": "2021-09-25T15:54:13.540Z"
   },
   {
    "duration": 6,
    "start_time": "2021-09-25T15:54:18.647Z"
   },
   {
    "duration": 12,
    "start_time": "2021-09-25T15:54:19.869Z"
   },
   {
    "duration": 5,
    "start_time": "2021-09-25T15:54:22.150Z"
   },
   {
    "duration": 8,
    "start_time": "2021-09-25T15:54:29.139Z"
   },
   {
    "duration": 10,
    "start_time": "2021-09-25T15:54:32.570Z"
   },
   {
    "duration": 11,
    "start_time": "2021-09-25T15:54:36.939Z"
   },
   {
    "duration": 16,
    "start_time": "2021-09-25T15:54:41.419Z"
   },
   {
    "duration": 6,
    "start_time": "2021-09-25T15:54:44.279Z"
   },
   {
    "duration": 8,
    "start_time": "2021-09-25T15:54:49.300Z"
   },
   {
    "duration": 8,
    "start_time": "2021-09-25T15:54:52.910Z"
   },
   {
    "duration": 9,
    "start_time": "2021-09-25T15:54:57.009Z"
   },
   {
    "duration": 10,
    "start_time": "2021-09-25T15:55:00.449Z"
   },
   {
    "duration": 9,
    "start_time": "2021-09-25T15:55:01.500Z"
   },
   {
    "duration": 8,
    "start_time": "2021-09-25T15:55:04.760Z"
   },
   {
    "duration": 11,
    "start_time": "2021-09-25T15:55:09.139Z"
   },
   {
    "duration": 30,
    "start_time": "2021-09-25T15:55:12.669Z"
   },
   {
    "duration": 18,
    "start_time": "2021-09-25T15:55:16.573Z"
   },
   {
    "duration": 24,
    "start_time": "2021-09-25T15:55:19.159Z"
   },
   {
    "duration": 24,
    "start_time": "2021-09-25T15:55:20.209Z"
   },
   {
    "duration": 18,
    "start_time": "2021-09-25T15:55:23.768Z"
   },
   {
    "duration": 11,
    "start_time": "2021-09-25T15:55:24.779Z"
   },
   {
    "duration": 19,
    "start_time": "2021-09-25T15:55:25.729Z"
   },
   {
    "duration": 24,
    "start_time": "2021-09-25T15:55:28.542Z"
   },
   {
    "duration": 21,
    "start_time": "2021-09-25T15:55:29.679Z"
   },
   {
    "duration": 15,
    "start_time": "2021-09-25T15:55:33.439Z"
   },
   {
    "duration": 64,
    "start_time": "2021-09-25T15:55:36.910Z"
   },
   {
    "duration": 607,
    "start_time": "2021-09-25T15:55:39.720Z"
   },
   {
    "duration": 39,
    "start_time": "2021-09-25T15:55:44.600Z"
   },
   {
    "duration": 54,
    "start_time": "2021-09-25T15:55:47.880Z"
   },
   {
    "duration": 595,
    "start_time": "2021-09-25T15:55:50.320Z"
   },
   {
    "duration": 11,
    "start_time": "2021-09-25T15:55:54.206Z"
   },
   {
    "duration": 1124,
    "start_time": "2021-09-25T15:55:59.169Z"
   },
   {
    "duration": 92,
    "start_time": "2021-09-25T15:56:03.022Z"
   },
   {
    "duration": 57,
    "start_time": "2021-09-25T15:56:07.479Z"
   },
   {
    "duration": 33,
    "start_time": "2021-09-25T15:56:11.110Z"
   },
   {
    "duration": 68,
    "start_time": "2021-09-25T15:56:16.889Z"
   },
   {
    "duration": 100,
    "start_time": "2021-09-25T15:56:20.080Z"
   },
   {
    "duration": 50,
    "start_time": "2021-09-25T15:56:23.789Z"
   },
   {
    "duration": 14,
    "start_time": "2021-09-25T15:56:34.810Z"
   },
   {
    "duration": 9,
    "start_time": "2021-09-25T15:56:43.769Z"
   },
   {
    "duration": 16,
    "start_time": "2021-09-25T15:56:47.509Z"
   },
   {
    "duration": 12,
    "start_time": "2021-09-25T15:56:53.090Z"
   },
   {
    "duration": 201,
    "start_time": "2021-09-25T15:56:57.519Z"
   },
   {
    "duration": 437,
    "start_time": "2021-09-25T15:57:10.370Z"
   },
   {
    "duration": 9,
    "start_time": "2021-09-25T15:57:15.429Z"
   },
   {
    "duration": 9177,
    "start_time": "2021-09-25T15:57:17.671Z"
   },
   {
    "duration": 88,
    "start_time": "2021-09-25T15:59:01.450Z"
   },
   {
    "duration": 19,
    "start_time": "2021-09-25T15:59:19.648Z"
   },
   {
    "duration": 17,
    "start_time": "2021-09-25T15:59:25.799Z"
   },
   {
    "duration": 1304,
    "start_time": "2021-09-25T16:07:08.260Z"
   },
   {
    "duration": 10293,
    "start_time": "2021-09-25T16:09:05.560Z"
   },
   {
    "duration": 10020,
    "start_time": "2021-09-25T16:10:17.101Z"
   },
   {
    "duration": 11361,
    "start_time": "2021-09-25T16:11:15.968Z"
   },
   {
    "duration": 9393,
    "start_time": "2021-09-25T16:13:39.941Z"
   },
   {
    "duration": 461,
    "start_time": "2021-09-25T17:32:12.434Z"
   },
   {
    "duration": 16,
    "start_time": "2021-09-25T17:52:03.093Z"
   },
   {
    "duration": 7,
    "start_time": "2021-09-25T18:01:20.763Z"
   },
   {
    "duration": 13,
    "start_time": "2021-09-25T18:05:14.213Z"
   },
   {
    "duration": 446,
    "start_time": "2021-09-25T18:15:43.943Z"
   },
   {
    "duration": 416,
    "start_time": "2021-09-25T18:15:55.344Z"
   },
   {
    "duration": 27,
    "start_time": "2021-09-25T18:16:03.407Z"
   },
   {
    "duration": 54,
    "start_time": "2021-09-25T18:17:19.003Z"
   },
   {
    "duration": 6,
    "start_time": "2021-09-25T18:18:12.623Z"
   },
   {
    "duration": 351,
    "start_time": "2021-09-25T18:20:10.304Z"
   },
   {
    "duration": 107,
    "start_time": "2021-09-25T18:21:15.283Z"
   },
   {
    "duration": 66,
    "start_time": "2021-09-25T18:22:28.643Z"
   },
   {
    "duration": 509,
    "start_time": "2021-09-25T18:23:45.908Z"
   },
   {
    "duration": 69,
    "start_time": "2021-09-25T18:23:58.642Z"
   },
   {
    "duration": 10,
    "start_time": "2021-09-25T18:24:14.412Z"
   },
   {
    "duration": 9,
    "start_time": "2021-09-25T18:32:18.773Z"
   },
   {
    "duration": 10,
    "start_time": "2021-09-25T18:32:37.840Z"
   },
   {
    "duration": 12,
    "start_time": "2021-09-25T18:33:09.652Z"
   },
   {
    "duration": 25,
    "start_time": "2021-09-25T18:34:45.972Z"
   },
   {
    "duration": 9,
    "start_time": "2021-09-25T18:35:11.653Z"
   },
   {
    "duration": 27,
    "start_time": "2021-09-25T18:35:26.175Z"
   },
   {
    "duration": 10,
    "start_time": "2021-09-25T18:36:54.636Z"
   },
   {
    "duration": 487,
    "start_time": "2021-09-25T18:37:27.071Z"
   },
   {
    "duration": 42,
    "start_time": "2021-09-25T18:37:44.224Z"
   },
   {
    "duration": 17,
    "start_time": "2021-09-25T18:38:28.333Z"
   },
   {
    "duration": 49,
    "start_time": "2021-09-25T18:38:48.202Z"
   },
   {
    "duration": 14,
    "start_time": "2021-09-25T18:39:04.783Z"
   },
   {
    "duration": 31,
    "start_time": "2021-09-25T18:39:27.363Z"
   },
   {
    "duration": 696,
    "start_time": "2021-09-25T18:47:17.263Z"
   },
   {
    "duration": 619,
    "start_time": "2021-09-25T18:48:11.982Z"
   },
   {
    "duration": 371,
    "start_time": "2021-09-25T18:53:25.673Z"
   },
   {
    "duration": 1686,
    "start_time": "2021-09-25T18:54:01.587Z"
   },
   {
    "duration": 613,
    "start_time": "2021-09-25T18:54:03.276Z"
   },
   {
    "duration": 29,
    "start_time": "2021-09-25T18:54:03.894Z"
   },
   {
    "duration": 38,
    "start_time": "2021-09-25T18:54:03.927Z"
   },
   {
    "duration": 37,
    "start_time": "2021-09-25T18:54:03.969Z"
   },
   {
    "duration": 47,
    "start_time": "2021-09-25T18:54:04.009Z"
   },
   {
    "duration": 152,
    "start_time": "2021-09-25T18:54:04.061Z"
   },
   {
    "duration": 16,
    "start_time": "2021-09-25T18:54:04.218Z"
   },
   {
    "duration": 48,
    "start_time": "2021-09-25T18:54:04.238Z"
   },
   {
    "duration": 48,
    "start_time": "2021-09-25T18:54:04.289Z"
   },
   {
    "duration": 41,
    "start_time": "2021-09-25T18:54:04.340Z"
   },
   {
    "duration": 54,
    "start_time": "2021-09-25T18:54:04.384Z"
   },
   {
    "duration": 93,
    "start_time": "2021-09-25T18:54:04.440Z"
   },
   {
    "duration": 16,
    "start_time": "2021-09-25T18:54:04.535Z"
   },
   {
    "duration": 47,
    "start_time": "2021-09-25T18:54:04.554Z"
   },
   {
    "duration": 44,
    "start_time": "2021-09-25T18:54:04.605Z"
   },
   {
    "duration": 17,
    "start_time": "2021-09-25T18:54:04.652Z"
   },
   {
    "duration": 30,
    "start_time": "2021-09-25T18:54:04.672Z"
   },
   {
    "duration": 81,
    "start_time": "2021-09-25T18:54:04.705Z"
   },
   {
    "duration": 9,
    "start_time": "2021-09-25T18:54:04.789Z"
   },
   {
    "duration": 18,
    "start_time": "2021-09-25T18:54:04.800Z"
   },
   {
    "duration": 23,
    "start_time": "2021-09-25T18:54:04.821Z"
   },
   {
    "duration": 1512,
    "start_time": "2021-09-25T18:54:15.515Z"
   },
   {
    "duration": 587,
    "start_time": "2021-09-25T18:54:20.715Z"
   },
   {
    "duration": 30,
    "start_time": "2021-09-25T18:54:24.465Z"
   },
   {
    "duration": 20,
    "start_time": "2021-09-25T18:54:27.806Z"
   },
   {
    "duration": 6,
    "start_time": "2021-09-25T18:54:30.555Z"
   },
   {
    "duration": 27,
    "start_time": "2021-09-25T18:54:33.205Z"
   },
   {
    "duration": 146,
    "start_time": "2021-09-25T18:54:35.316Z"
   },
   {
    "duration": 20,
    "start_time": "2021-09-25T18:54:37.805Z"
   },
   {
    "duration": 23,
    "start_time": "2021-09-25T18:54:43.094Z"
   },
   {
    "duration": 13,
    "start_time": "2021-09-25T18:54:46.965Z"
   },
   {
    "duration": 6,
    "start_time": "2021-09-25T18:54:49.135Z"
   },
   {
    "duration": 24,
    "start_time": "2021-09-25T18:54:51.344Z"
   },
   {
    "duration": 83,
    "start_time": "2021-09-25T18:54:53.826Z"
   },
   {
    "duration": 18,
    "start_time": "2021-09-25T18:54:56.135Z"
   },
   {
    "duration": 21,
    "start_time": "2021-09-25T18:54:59.625Z"
   },
   {
    "duration": 12,
    "start_time": "2021-09-25T18:55:02.555Z"
   },
   {
    "duration": 7,
    "start_time": "2021-09-25T18:55:06.111Z"
   },
   {
    "duration": 20,
    "start_time": "2021-09-25T18:55:07.165Z"
   },
   {
    "duration": 65,
    "start_time": "2021-09-25T18:55:08.475Z"
   },
   {
    "duration": 10,
    "start_time": "2021-09-25T18:55:12.864Z"
   },
   {
    "duration": 5,
    "start_time": "2021-09-25T18:55:16.538Z"
   },
   {
    "duration": 13,
    "start_time": "2021-09-25T18:55:17.615Z"
   },
   {
    "duration": 6,
    "start_time": "2021-09-25T18:55:20.318Z"
   },
   {
    "duration": 8,
    "start_time": "2021-09-25T18:55:21.395Z"
   },
   {
    "duration": 10,
    "start_time": "2021-09-25T18:55:22.374Z"
   },
   {
    "duration": 9,
    "start_time": "2021-09-25T18:55:27.005Z"
   },
   {
    "duration": 17,
    "start_time": "2021-09-25T18:55:30.456Z"
   },
   {
    "duration": 6,
    "start_time": "2021-09-25T18:55:31.485Z"
   },
   {
    "duration": 9,
    "start_time": "2021-09-25T18:55:35.625Z"
   },
   {
    "duration": 9,
    "start_time": "2021-09-25T18:55:39.365Z"
   },
   {
    "duration": 9,
    "start_time": "2021-09-25T18:55:40.490Z"
   },
   {
    "duration": 9,
    "start_time": "2021-09-25T18:55:41.648Z"
   },
   {
    "duration": 9,
    "start_time": "2021-09-25T18:55:45.185Z"
   },
   {
    "duration": 8,
    "start_time": "2021-09-25T18:55:46.346Z"
   },
   {
    "duration": 11,
    "start_time": "2021-09-25T18:55:50.145Z"
   },
   {
    "duration": 16,
    "start_time": "2021-09-25T18:55:56.098Z"
   },
   {
    "duration": 214,
    "start_time": "2021-09-25T18:55:57.259Z"
   },
   {
    "duration": 4,
    "start_time": "2021-09-25T18:56:01.160Z"
   },
   {
    "duration": 121,
    "start_time": "2021-09-25T18:56:03.982Z"
   },
   {
    "duration": 68,
    "start_time": "2021-09-25T18:56:12.206Z"
   },
   {
    "duration": 69,
    "start_time": "2021-09-25T18:56:17.625Z"
   },
   {
    "duration": 10,
    "start_time": "2021-09-25T18:56:20.143Z"
   },
   {
    "duration": 9,
    "start_time": "2021-09-25T18:56:32.134Z"
   },
   {
    "duration": 9,
    "start_time": "2021-09-25T18:56:34.745Z"
   },
   {
    "duration": 12,
    "start_time": "2021-09-25T18:56:41.133Z"
   },
   {
    "duration": 16,
    "start_time": "2021-09-25T18:56:52.636Z"
   },
   {
    "duration": 10,
    "start_time": "2021-09-25T18:56:54.645Z"
   },
   {
    "duration": 25,
    "start_time": "2021-09-25T18:56:55.525Z"
   },
   {
    "duration": 7,
    "start_time": "2021-09-25T18:57:01.670Z"
   },
   {
    "duration": 219,
    "start_time": "2021-09-25T18:57:03.935Z"
   },
   {
    "duration": 26,
    "start_time": "2021-09-25T18:57:05.498Z"
   },
   {
    "duration": 614,
    "start_time": "2021-09-25T18:57:09.734Z"
   },
   {
    "duration": 686,
    "start_time": "2021-09-25T18:57:15.045Z"
   },
   {
    "duration": 10,
    "start_time": "2021-09-25T18:57:19.844Z"
   },
   {
    "duration": 103,
    "start_time": "2021-09-25T18:57:21.384Z"
   },
   {
    "duration": 9,
    "start_time": "2021-09-25T18:57:22.574Z"
   },
   {
    "duration": 17,
    "start_time": "2021-09-25T18:57:24.468Z"
   },
   {
    "duration": 20,
    "start_time": "2021-09-25T18:57:31.194Z"
   },
   {
    "duration": 16,
    "start_time": "2021-09-25T18:58:04.934Z"
   },
   {
    "duration": 17,
    "start_time": "2021-09-25T18:58:25.094Z"
   },
   {
    "duration": 21,
    "start_time": "2021-09-25T18:59:15.164Z"
   },
   {
    "duration": 28,
    "start_time": "2021-09-25T19:21:25.734Z"
   },
   {
    "duration": 681,
    "start_time": "2021-09-25T19:23:42.893Z"
   },
   {
    "duration": 64858,
    "start_time": "2021-09-25T19:24:44.174Z"
   },
   {
    "duration": 9862,
    "start_time": "2021-09-25T19:26:56.684Z"
   },
   {
    "duration": 43694,
    "start_time": "2021-09-25T19:27:35.655Z"
   },
   {
    "duration": 12,
    "start_time": "2021-09-25T19:35:10.864Z"
   },
   {
    "duration": 13,
    "start_time": "2021-09-25T19:35:33.974Z"
   },
   {
    "duration": 611,
    "start_time": "2021-09-25T19:41:03.802Z"
   },
   {
    "duration": 8,
    "start_time": "2021-09-25T19:48:18.554Z"
   },
   {
    "duration": 13,
    "start_time": "2021-09-25T19:56:24.016Z"
   },
   {
    "duration": 14,
    "start_time": "2021-09-25T19:56:54.955Z"
   },
   {
    "duration": 11,
    "start_time": "2021-09-25T20:00:18.005Z"
   },
   {
    "duration": 11,
    "start_time": "2021-09-25T20:00:52.960Z"
   },
   {
    "duration": 578,
    "start_time": "2021-09-25T20:01:14.955Z"
   },
   {
    "duration": 117,
    "start_time": "2021-09-25T20:05:30.155Z"
   },
   {
    "duration": 372,
    "start_time": "2021-09-25T20:05:46.894Z"
   },
   {
    "duration": 392,
    "start_time": "2021-09-25T20:06:08.653Z"
   },
   {
    "duration": 150,
    "start_time": "2021-09-25T20:06:27.825Z"
   },
   {
    "duration": 11,
    "start_time": "2021-09-25T20:06:40.134Z"
   },
   {
    "duration": 9671,
    "start_time": "2021-09-25T20:10:52.655Z"
   },
   {
    "duration": 10106,
    "start_time": "2021-09-25T20:12:04.764Z"
   },
   {
    "duration": 10187,
    "start_time": "2021-09-25T20:13:43.594Z"
   },
   {
    "duration": 1617,
    "start_time": "2021-09-25T20:14:55.776Z"
   },
   {
    "duration": 702,
    "start_time": "2021-09-25T20:14:57.396Z"
   },
   {
    "duration": 43,
    "start_time": "2021-09-25T20:14:58.101Z"
   },
   {
    "duration": 36,
    "start_time": "2021-09-25T20:14:58.149Z"
   },
   {
    "duration": 7,
    "start_time": "2021-09-25T20:14:58.188Z"
   },
   {
    "duration": 30,
    "start_time": "2021-09-25T20:14:58.199Z"
   },
   {
    "duration": 197,
    "start_time": "2021-09-25T20:14:58.232Z"
   },
   {
    "duration": 13,
    "start_time": "2021-09-25T20:14:58.431Z"
   },
   {
    "duration": 57,
    "start_time": "2021-09-25T20:14:58.448Z"
   },
   {
    "duration": 13,
    "start_time": "2021-09-25T20:14:58.509Z"
   },
   {
    "duration": 7,
    "start_time": "2021-09-25T20:14:58.524Z"
   },
   {
    "duration": 56,
    "start_time": "2021-09-25T20:14:58.534Z"
   },
   {
    "duration": 91,
    "start_time": "2021-09-25T20:14:58.593Z"
   },
   {
    "duration": 19,
    "start_time": "2021-09-25T20:14:58.686Z"
   },
   {
    "duration": 24,
    "start_time": "2021-09-25T20:14:58.708Z"
   },
   {
    "duration": 14,
    "start_time": "2021-09-25T20:14:58.736Z"
   },
   {
    "duration": 8,
    "start_time": "2021-09-25T20:14:58.785Z"
   },
   {
    "duration": 23,
    "start_time": "2021-09-25T20:14:58.796Z"
   },
   {
    "duration": 96,
    "start_time": "2021-09-25T20:14:58.822Z"
   },
   {
    "duration": 10,
    "start_time": "2021-09-25T20:14:58.920Z"
   },
   {
    "duration": 13,
    "start_time": "2021-09-25T20:14:58.932Z"
   },
   {
    "duration": 36,
    "start_time": "2021-09-25T20:14:58.948Z"
   },
   {
    "duration": 8,
    "start_time": "2021-09-25T20:14:58.988Z"
   },
   {
    "duration": 37,
    "start_time": "2021-09-25T20:14:58.999Z"
   },
   {
    "duration": 25,
    "start_time": "2021-09-25T20:14:59.039Z"
   },
   {
    "duration": 25,
    "start_time": "2021-09-25T20:14:59.067Z"
   },
   {
    "duration": 25,
    "start_time": "2021-09-25T20:14:59.103Z"
   },
   {
    "duration": 14,
    "start_time": "2021-09-25T20:14:59.132Z"
   },
   {
    "duration": 24,
    "start_time": "2021-09-25T20:14:59.148Z"
   },
   {
    "duration": 26,
    "start_time": "2021-09-25T20:14:59.175Z"
   },
   {
    "duration": 23,
    "start_time": "2021-09-25T20:14:59.205Z"
   },
   {
    "duration": 26,
    "start_time": "2021-09-25T20:14:59.230Z"
   },
   {
    "duration": 16,
    "start_time": "2021-09-25T20:14:59.259Z"
   },
   {
    "duration": 12,
    "start_time": "2021-09-25T20:14:59.279Z"
   },
   {
    "duration": 10,
    "start_time": "2021-09-25T20:14:59.294Z"
   },
   {
    "duration": 19,
    "start_time": "2021-09-25T20:14:59.307Z"
   },
   {
    "duration": 136,
    "start_time": "2021-09-25T20:14:59.328Z"
   },
   {
    "duration": 17,
    "start_time": "2021-09-25T20:14:59.466Z"
   },
   {
    "duration": 158,
    "start_time": "2021-09-25T20:14:59.487Z"
   },
   {
    "duration": 86,
    "start_time": "2021-09-25T20:14:59.647Z"
   },
   {
    "duration": 87,
    "start_time": "2021-09-25T20:14:59.735Z"
   },
   {
    "duration": 9,
    "start_time": "2021-09-25T20:14:59.825Z"
   },
   {
    "duration": 9,
    "start_time": "2021-09-25T20:14:59.837Z"
   },
   {
    "duration": 42,
    "start_time": "2021-09-25T20:14:59.849Z"
   },
   {
    "duration": 13,
    "start_time": "2021-09-25T20:14:59.895Z"
   },
   {
    "duration": 17,
    "start_time": "2021-09-25T20:14:59.911Z"
   },
   {
    "duration": 9,
    "start_time": "2021-09-25T20:14:59.930Z"
   },
   {
    "duration": 66,
    "start_time": "2021-09-25T20:14:59.941Z"
   },
   {
    "duration": 7,
    "start_time": "2021-09-25T20:15:00.009Z"
   },
   {
    "duration": 290,
    "start_time": "2021-09-25T20:15:00.019Z"
   },
   {
    "duration": 29,
    "start_time": "2021-09-25T20:15:00.312Z"
   },
   {
    "duration": 1561,
    "start_time": "2021-09-25T20:15:14.407Z"
   },
   {
    "duration": 564,
    "start_time": "2021-09-25T20:15:18.856Z"
   },
   {
    "duration": 28,
    "start_time": "2021-09-25T20:15:23.015Z"
   },
   {
    "duration": 16,
    "start_time": "2021-09-25T20:15:27.446Z"
   },
   {
    "duration": 8,
    "start_time": "2021-09-25T20:15:31.622Z"
   },
   {
    "duration": 44,
    "start_time": "2021-09-25T20:15:32.486Z"
   },
   {
    "duration": 191,
    "start_time": "2021-09-25T20:15:33.510Z"
   },
   {
    "duration": 17,
    "start_time": "2021-09-25T20:15:34.779Z"
   },
   {
    "duration": 31,
    "start_time": "2021-09-25T20:15:38.780Z"
   },
   {
    "duration": 15,
    "start_time": "2021-09-25T20:15:42.136Z"
   },
   {
    "duration": 5,
    "start_time": "2021-09-25T20:15:44.736Z"
   },
   {
    "duration": 30,
    "start_time": "2021-09-25T20:15:45.676Z"
   },
   {
    "duration": 71,
    "start_time": "2021-09-25T20:15:46.816Z"
   },
   {
    "duration": 21,
    "start_time": "2021-09-25T20:15:47.794Z"
   },
   {
    "duration": 22,
    "start_time": "2021-09-25T20:15:56.956Z"
   },
   {
    "duration": 12,
    "start_time": "2021-09-25T20:16:01.715Z"
   },
   {
    "duration": 5,
    "start_time": "2021-09-25T20:16:03.216Z"
   },
   {
    "duration": 19,
    "start_time": "2021-09-25T20:16:04.627Z"
   },
   {
    "duration": 70,
    "start_time": "2021-09-25T20:16:07.889Z"
   },
   {
    "duration": 10,
    "start_time": "2021-09-25T20:16:11.055Z"
   },
   {
    "duration": 5,
    "start_time": "2021-09-25T20:16:14.726Z"
   },
   {
    "duration": 12,
    "start_time": "2021-09-25T20:16:15.446Z"
   },
   {
    "duration": 5,
    "start_time": "2021-09-25T20:16:16.476Z"
   },
   {
    "duration": 9,
    "start_time": "2021-09-25T20:16:17.525Z"
   },
   {
    "duration": 9,
    "start_time": "2021-09-25T20:16:20.455Z"
   },
   {
    "duration": 10,
    "start_time": "2021-09-25T20:16:26.215Z"
   },
   {
    "duration": 18,
    "start_time": "2021-09-25T20:16:29.596Z"
   },
   {
    "duration": 6,
    "start_time": "2021-09-25T20:16:30.596Z"
   },
   {
    "duration": 9,
    "start_time": "2021-09-25T20:16:34.326Z"
   },
   {
    "duration": 7,
    "start_time": "2021-09-25T20:16:37.246Z"
   },
   {
    "duration": 9,
    "start_time": "2021-09-25T20:16:38.300Z"
   },
   {
    "duration": 13,
    "start_time": "2021-09-25T20:16:39.586Z"
   },
   {
    "duration": 9,
    "start_time": "2021-09-25T20:16:40.696Z"
   },
   {
    "duration": 9,
    "start_time": "2021-09-25T20:16:43.887Z"
   },
   {
    "duration": 16,
    "start_time": "2021-09-25T20:16:50.216Z"
   },
   {
    "duration": 15,
    "start_time": "2021-09-25T20:16:55.939Z"
   },
   {
    "duration": 106,
    "start_time": "2021-09-25T20:16:57.166Z"
   },
   {
    "duration": 4,
    "start_time": "2021-09-25T20:17:02.326Z"
   },
   {
    "duration": 148,
    "start_time": "2021-09-25T20:17:05.146Z"
   },
   {
    "duration": 83,
    "start_time": "2021-09-25T20:17:08.626Z"
   },
   {
    "duration": 67,
    "start_time": "2021-09-25T20:17:11.516Z"
   },
   {
    "duration": 17,
    "start_time": "2021-09-25T20:17:13.637Z"
   },
   {
    "duration": 18,
    "start_time": "2021-09-25T20:17:17.105Z"
   },
   {
    "duration": 10,
    "start_time": "2021-09-25T20:17:19.266Z"
   },
   {
    "duration": 15,
    "start_time": "2021-09-25T20:17:21.976Z"
   },
   {
    "duration": 17,
    "start_time": "2021-09-25T20:17:25.936Z"
   },
   {
    "duration": 11,
    "start_time": "2021-09-25T20:17:26.816Z"
   },
   {
    "duration": 45,
    "start_time": "2021-09-25T20:17:27.774Z"
   },
   {
    "duration": 6,
    "start_time": "2021-09-25T20:17:31.445Z"
   },
   {
    "duration": 269,
    "start_time": "2021-09-25T20:17:34.778Z"
   },
   {
    "duration": 26,
    "start_time": "2021-09-25T20:17:35.838Z"
   },
   {
    "duration": 688,
    "start_time": "2021-09-25T20:17:39.305Z"
   },
   {
    "duration": 699,
    "start_time": "2021-09-25T20:17:44.187Z"
   },
   {
    "duration": 9,
    "start_time": "2021-09-25T20:17:49.256Z"
   },
   {
    "duration": 116,
    "start_time": "2021-09-25T20:17:50.236Z"
   },
   {
    "duration": 9,
    "start_time": "2021-09-25T20:17:51.415Z"
   },
   {
    "duration": 17,
    "start_time": "2021-09-25T20:17:54.362Z"
   },
   {
    "duration": 27,
    "start_time": "2021-09-25T20:17:57.956Z"
   },
   {
    "duration": 23,
    "start_time": "2021-09-25T20:17:59.076Z"
   },
   {
    "duration": 17,
    "start_time": "2021-09-25T20:18:00.218Z"
   },
   {
    "duration": 37,
    "start_time": "2021-09-25T20:18:05.436Z"
   },
   {
    "duration": 21,
    "start_time": "2021-09-25T20:18:10.987Z"
   },
   {
    "duration": 12,
    "start_time": "2021-09-25T20:18:12.056Z"
   },
   {
    "duration": 771,
    "start_time": "2021-09-25T20:18:13.216Z"
   },
   {
    "duration": 8,
    "start_time": "2021-09-25T20:18:18.849Z"
   },
   {
    "duration": 8,
    "start_time": "2021-09-25T20:18:19.956Z"
   },
   {
    "duration": 10,
    "start_time": "2021-09-25T20:18:23.046Z"
   },
   {
    "duration": 12,
    "start_time": "2021-09-25T20:18:29.666Z"
   },
   {
    "duration": 12,
    "start_time": "2021-09-25T20:18:30.746Z"
   },
   {
    "duration": 654,
    "start_time": "2021-09-25T20:18:36.377Z"
   },
   {
    "duration": 10032,
    "start_time": "2021-09-25T20:18:45.024Z"
   },
   {
    "duration": 8,
    "start_time": "2021-09-25T20:27:26.759Z"
   },
   {
    "duration": 8,
    "start_time": "2021-09-25T20:28:04.196Z"
   },
   {
    "duration": 10,
    "start_time": "2021-09-25T20:28:21.176Z"
   },
   {
    "duration": 11,
    "start_time": "2021-09-25T20:30:02.306Z"
   },
   {
    "duration": 12,
    "start_time": "2021-09-25T20:30:21.175Z"
   },
   {
    "duration": 575,
    "start_time": "2021-09-25T20:30:42.696Z"
   },
   {
    "duration": 388,
    "start_time": "2021-09-25T20:35:48.335Z"
   },
   {
    "duration": 162,
    "start_time": "2021-09-25T20:36:29.035Z"
   },
   {
    "duration": 368,
    "start_time": "2021-09-25T20:36:42.996Z"
   },
   {
    "duration": 391,
    "start_time": "2021-09-25T20:37:13.826Z"
   },
   {
    "duration": 7,
    "start_time": "2021-09-25T20:40:09.836Z"
   },
   {
    "duration": 8,
    "start_time": "2021-09-25T20:40:32.706Z"
   },
   {
    "duration": 10,
    "start_time": "2021-09-25T20:40:52.906Z"
   },
   {
    "duration": 25,
    "start_time": "2021-09-25T20:46:32.475Z"
   },
   {
    "duration": 20,
    "start_time": "2021-09-25T20:46:55.912Z"
   },
   {
    "duration": 36,
    "start_time": "2021-09-25T21:23:38.100Z"
   },
   {
    "duration": 390,
    "start_time": "2021-09-25T21:34:33.460Z"
   },
   {
    "duration": 8,
    "start_time": "2021-09-25T22:42:22.149Z"
   },
   {
    "duration": 15,
    "start_time": "2021-09-25T22:48:55.720Z"
   },
   {
    "duration": 1502,
    "start_time": "2021-09-25T23:36:43.847Z"
   },
   {
    "duration": 505,
    "start_time": "2021-09-25T23:36:49.188Z"
   },
   {
    "duration": 29,
    "start_time": "2021-09-25T23:36:53.758Z"
   },
   {
    "duration": 15,
    "start_time": "2021-09-25T23:36:57.838Z"
   },
   {
    "duration": 5,
    "start_time": "2021-09-25T23:36:58.838Z"
   },
   {
    "duration": 26,
    "start_time": "2021-09-25T23:36:59.898Z"
   },
   {
    "duration": 132,
    "start_time": "2021-09-25T23:37:01.395Z"
   },
   {
    "duration": 13,
    "start_time": "2021-09-25T23:37:02.748Z"
   },
   {
    "duration": 22,
    "start_time": "2021-09-25T23:37:08.098Z"
   },
   {
    "duration": 13,
    "start_time": "2021-09-25T23:37:11.677Z"
   },
   {
    "duration": 5,
    "start_time": "2021-09-25T23:37:12.777Z"
   },
   {
    "duration": 22,
    "start_time": "2021-09-25T23:37:13.878Z"
   },
   {
    "duration": 72,
    "start_time": "2021-09-25T23:37:15.037Z"
   },
   {
    "duration": 21,
    "start_time": "2021-09-25T23:37:16.612Z"
   },
   {
    "duration": 19,
    "start_time": "2021-09-25T23:37:29.558Z"
   },
   {
    "duration": 10,
    "start_time": "2021-09-25T23:37:34.157Z"
   },
   {
    "duration": 6,
    "start_time": "2021-09-25T23:37:35.407Z"
   },
   {
    "duration": 17,
    "start_time": "2021-09-25T23:37:36.588Z"
   },
   {
    "duration": 61,
    "start_time": "2021-09-25T23:37:40.168Z"
   },
   {
    "duration": 8,
    "start_time": "2021-09-25T23:37:45.338Z"
   },
   {
    "duration": 5,
    "start_time": "2021-09-25T23:37:48.728Z"
   },
   {
    "duration": 11,
    "start_time": "2021-09-25T23:37:49.647Z"
   },
   {
    "duration": 6,
    "start_time": "2021-09-25T23:37:50.698Z"
   },
   {
    "duration": 9,
    "start_time": "2021-09-25T23:37:51.685Z"
   },
   {
    "duration": 9,
    "start_time": "2021-09-25T23:37:55.438Z"
   },
   {
    "duration": 8,
    "start_time": "2021-09-25T23:37:59.478Z"
   },
   {
    "duration": 15,
    "start_time": "2021-09-25T23:38:02.961Z"
   },
   {
    "duration": 6,
    "start_time": "2021-09-25T23:38:04.027Z"
   },
   {
    "duration": 9,
    "start_time": "2021-09-25T23:38:07.647Z"
   },
   {
    "duration": 8,
    "start_time": "2021-09-25T23:38:10.748Z"
   },
   {
    "duration": 8,
    "start_time": "2021-09-25T23:38:13.038Z"
   },
   {
    "duration": 10,
    "start_time": "2021-09-25T23:38:14.187Z"
   },
   {
    "duration": 9,
    "start_time": "2021-09-25T23:38:15.198Z"
   },
   {
    "duration": 8,
    "start_time": "2021-09-25T23:38:19.707Z"
   },
   {
    "duration": 11,
    "start_time": "2021-09-25T23:38:53.828Z"
   },
   {
    "duration": 18,
    "start_time": "2021-09-25T23:39:21.636Z"
   },
   {
    "duration": 106,
    "start_time": "2021-09-25T23:39:23.078Z"
   },
   {
    "duration": 4,
    "start_time": "2021-09-25T23:39:26.906Z"
   },
   {
    "duration": 109,
    "start_time": "2021-09-25T23:39:29.228Z"
   },
   {
    "duration": 63,
    "start_time": "2021-09-25T23:39:32.308Z"
   },
   {
    "duration": 68,
    "start_time": "2021-09-25T23:39:35.287Z"
   },
   {
    "duration": 10,
    "start_time": "2021-09-25T23:39:39.135Z"
   },
   {
    "duration": 9,
    "start_time": "2021-09-25T23:39:45.678Z"
   },
   {
    "duration": 9,
    "start_time": "2021-09-25T23:39:47.021Z"
   },
   {
    "duration": 12,
    "start_time": "2021-09-25T23:39:48.388Z"
   },
   {
    "duration": 18,
    "start_time": "2021-09-25T23:39:53.685Z"
   },
   {
    "duration": 10,
    "start_time": "2021-09-25T23:39:55.078Z"
   },
   {
    "duration": 27,
    "start_time": "2021-09-25T23:39:56.667Z"
   },
   {
    "duration": 7,
    "start_time": "2021-09-25T23:40:01.419Z"
   },
   {
    "duration": 203,
    "start_time": "2021-09-25T23:40:04.317Z"
   },
   {
    "duration": 25,
    "start_time": "2021-09-25T23:40:05.568Z"
   },
   {
    "duration": 569,
    "start_time": "2021-09-25T23:40:08.918Z"
   },
   {
    "duration": 575,
    "start_time": "2021-09-25T23:40:12.845Z"
   },
   {
    "duration": 10,
    "start_time": "2021-09-25T23:40:17.036Z"
   },
   {
    "duration": 86,
    "start_time": "2021-09-25T23:40:17.930Z"
   },
   {
    "duration": 8,
    "start_time": "2021-09-25T23:40:18.838Z"
   },
   {
    "duration": 20,
    "start_time": "2021-09-25T23:40:19.968Z"
   },
   {
    "duration": 20,
    "start_time": "2021-09-25T23:40:28.288Z"
   },
   {
    "duration": 15,
    "start_time": "2021-09-25T23:40:29.257Z"
   },
   {
    "duration": 16,
    "start_time": "2021-09-25T23:40:32.198Z"
   },
   {
    "duration": 22,
    "start_time": "2021-09-25T23:40:35.898Z"
   },
   {
    "duration": 12,
    "start_time": "2021-09-25T23:40:40.941Z"
   },
   {
    "duration": 11,
    "start_time": "2021-09-25T23:40:41.907Z"
   },
   {
    "duration": 566,
    "start_time": "2021-09-25T23:40:44.948Z"
   },
   {
    "duration": 7,
    "start_time": "2021-09-25T23:40:52.906Z"
   },
   {
    "duration": 11,
    "start_time": "2021-09-25T23:40:55.208Z"
   },
   {
    "duration": 10,
    "start_time": "2021-09-25T23:40:57.747Z"
   },
   {
    "duration": 11,
    "start_time": "2021-09-25T23:41:02.148Z"
   },
   {
    "duration": 12,
    "start_time": "2021-09-25T23:41:03.126Z"
   },
   {
    "duration": 545,
    "start_time": "2021-09-25T23:41:06.640Z"
   },
   {
    "duration": 7,
    "start_time": "2021-09-25T23:41:10.988Z"
   },
   {
    "duration": 8,
    "start_time": "2021-09-25T23:41:12.047Z"
   },
   {
    "duration": 10,
    "start_time": "2021-09-25T23:41:12.928Z"
   },
   {
    "duration": 10,
    "start_time": "2021-09-25T23:41:17.141Z"
   },
   {
    "duration": 11,
    "start_time": "2021-09-25T23:41:18.039Z"
   },
   {
    "duration": 555,
    "start_time": "2021-09-25T23:41:19.087Z"
   },
   {
    "duration": 6,
    "start_time": "2021-09-25T23:41:24.426Z"
   },
   {
    "duration": 8,
    "start_time": "2021-09-25T23:41:25.468Z"
   },
   {
    "duration": 11,
    "start_time": "2021-09-25T23:41:26.408Z"
   },
   {
    "duration": 37,
    "start_time": "2021-09-25T23:41:29.920Z"
   },
   {
    "duration": 20,
    "start_time": "2021-09-25T23:41:41.261Z"
   },
   {
    "duration": 20,
    "start_time": "2021-09-25T23:41:42.227Z"
   },
   {
    "duration": 8,
    "start_time": "2021-09-25T23:41:47.638Z"
   },
   {
    "duration": 15,
    "start_time": "2021-09-25T23:41:51.348Z"
   },
   {
    "duration": 125,
    "start_time": "2021-09-26T20:21:13.096Z"
   },
   {
    "duration": 103,
    "start_time": "2021-09-26T20:35:35.665Z"
   },
   {
    "duration": 373,
    "start_time": "2021-09-27T10:41:30.910Z"
   },
   {
    "duration": 1489,
    "start_time": "2021-09-27T10:42:01.716Z"
   },
   {
    "duration": 639,
    "start_time": "2021-09-27T10:42:05.748Z"
   },
   {
    "duration": 30,
    "start_time": "2021-09-27T10:42:09.244Z"
   },
   {
    "duration": 15,
    "start_time": "2021-09-27T10:42:13.233Z"
   },
   {
    "duration": 6,
    "start_time": "2021-09-27T10:42:17.796Z"
   },
   {
    "duration": 26,
    "start_time": "2021-09-27T10:42:19.181Z"
   },
   {
    "duration": 137,
    "start_time": "2021-09-27T10:42:22.155Z"
   },
   {
    "duration": 13,
    "start_time": "2021-09-27T10:42:24.012Z"
   },
   {
    "duration": 30,
    "start_time": "2021-09-27T10:42:54.062Z"
   },
   {
    "duration": 12,
    "start_time": "2021-09-27T10:42:59.436Z"
   },
   {
    "duration": 6,
    "start_time": "2021-09-27T10:43:01.205Z"
   },
   {
    "duration": 21,
    "start_time": "2021-09-27T10:43:03.487Z"
   },
   {
    "duration": 76,
    "start_time": "2021-09-27T10:43:09.620Z"
   },
   {
    "duration": 16,
    "start_time": "2021-09-27T10:43:13.548Z"
   },
   {
    "duration": 20,
    "start_time": "2021-09-27T10:43:57.012Z"
   },
   {
    "duration": 14,
    "start_time": "2021-09-27T10:44:01.528Z"
   },
   {
    "duration": 7,
    "start_time": "2021-09-27T10:44:03.244Z"
   },
   {
    "duration": 19,
    "start_time": "2021-09-27T10:44:05.820Z"
   },
   {
    "duration": 66,
    "start_time": "2021-09-27T10:44:09.475Z"
   },
   {
    "duration": 8,
    "start_time": "2021-09-27T10:44:13.785Z"
   },
   {
    "duration": 5,
    "start_time": "2021-09-27T10:44:18.074Z"
   },
   {
    "duration": 12,
    "start_time": "2021-09-27T10:44:19.547Z"
   },
   {
    "duration": 5,
    "start_time": "2021-09-27T10:44:21.114Z"
   },
   {
    "duration": 7,
    "start_time": "2021-09-27T10:44:24.452Z"
   },
   {
    "duration": 8,
    "start_time": "2021-09-27T10:44:25.796Z"
   },
   {
    "duration": 9,
    "start_time": "2021-09-27T10:44:30.644Z"
   },
   {
    "duration": 21,
    "start_time": "2021-09-27T10:44:33.964Z"
   },
   {
    "duration": 6,
    "start_time": "2021-09-27T10:44:37.244Z"
   },
   {
    "duration": 9,
    "start_time": "2021-09-27T10:44:40.844Z"
   },
   {
    "duration": 8,
    "start_time": "2021-09-27T10:44:44.289Z"
   },
   {
    "duration": 10,
    "start_time": "2021-09-27T10:44:45.499Z"
   },
   {
    "duration": 10,
    "start_time": "2021-09-27T10:44:47.092Z"
   },
   {
    "duration": 9,
    "start_time": "2021-09-27T10:44:49.667Z"
   },
   {
    "duration": 8,
    "start_time": "2021-09-27T10:44:50.966Z"
   },
   {
    "duration": 10,
    "start_time": "2021-09-27T10:44:54.260Z"
   },
   {
    "duration": 22,
    "start_time": "2021-09-27T10:45:16.772Z"
   },
   {
    "duration": 91,
    "start_time": "2021-09-27T10:52:32.443Z"
   },
   {
    "duration": 16,
    "start_time": "2021-09-27T10:52:35.674Z"
   },
   {
    "duration": 4,
    "start_time": "2021-09-27T10:54:13.914Z"
   },
   {
    "duration": 108,
    "start_time": "2021-09-27T10:54:18.386Z"
   },
   {
    "duration": 8,
    "start_time": "2021-09-27T10:56:13.352Z"
   },
   {
    "duration": 24,
    "start_time": "2021-09-27T10:56:18.974Z"
   },
   {
    "duration": 21,
    "start_time": "2021-09-27T10:56:22.729Z"
   },
   {
    "duration": 7,
    "start_time": "2021-09-27T10:56:52.207Z"
   },
   {
    "duration": 21,
    "start_time": "2021-09-27T10:56:56.610Z"
   },
   {
    "duration": 7,
    "start_time": "2021-09-27T10:57:32.910Z"
   },
   {
    "duration": 1444,
    "start_time": "2021-09-27T10:58:00.131Z"
   },
   {
    "duration": 513,
    "start_time": "2021-09-27T10:58:04.555Z"
   },
   {
    "duration": 27,
    "start_time": "2021-09-27T10:58:08.425Z"
   },
   {
    "duration": 16,
    "start_time": "2021-09-27T10:58:11.290Z"
   },
   {
    "duration": 6,
    "start_time": "2021-09-27T10:58:24.241Z"
   },
   {
    "duration": 25,
    "start_time": "2021-09-27T10:58:26.811Z"
   },
   {
    "duration": 136,
    "start_time": "2021-09-27T10:58:30.123Z"
   },
   {
    "duration": 12,
    "start_time": "2021-09-27T10:58:31.235Z"
   },
   {
    "duration": 22,
    "start_time": "2021-09-27T10:58:35.418Z"
   },
   {
    "duration": 11,
    "start_time": "2021-09-27T10:58:39.571Z"
   },
   {
    "duration": 5,
    "start_time": "2021-09-27T10:58:42.051Z"
   },
   {
    "duration": 21,
    "start_time": "2021-09-27T10:58:43.218Z"
   },
   {
    "duration": 63,
    "start_time": "2021-09-27T10:58:44.874Z"
   },
   {
    "duration": 16,
    "start_time": "2021-09-27T10:58:46.754Z"
   },
   {
    "duration": 18,
    "start_time": "2021-09-27T10:58:56.376Z"
   },
   {
    "duration": 10,
    "start_time": "2021-09-27T10:59:00.465Z"
   },
   {
    "duration": 6,
    "start_time": "2021-09-27T10:59:03.038Z"
   },
   {
    "duration": 18,
    "start_time": "2021-09-27T10:59:04.722Z"
   },
   {
    "duration": 54,
    "start_time": "2021-09-27T10:59:08.346Z"
   },
   {
    "duration": 9,
    "start_time": "2021-09-27T10:59:14.475Z"
   },
   {
    "duration": 6,
    "start_time": "2021-09-27T10:59:21.830Z"
   },
   {
    "duration": 11,
    "start_time": "2021-09-27T10:59:23.515Z"
   },
   {
    "duration": 6,
    "start_time": "2021-09-27T10:59:24.938Z"
   },
   {
    "duration": 7,
    "start_time": "2021-09-27T10:59:26.185Z"
   },
   {
    "duration": 9,
    "start_time": "2021-09-27T10:59:30.194Z"
   },
   {
    "duration": 9,
    "start_time": "2021-09-27T10:59:53.002Z"
   },
   {
    "duration": 17,
    "start_time": "2021-09-27T11:00:05.711Z"
   },
   {
    "duration": 5,
    "start_time": "2021-09-27T11:00:11.074Z"
   },
   {
    "duration": 9,
    "start_time": "2021-09-27T11:00:16.536Z"
   },
   {
    "duration": 8,
    "start_time": "2021-09-27T11:00:21.082Z"
   },
   {
    "duration": 9,
    "start_time": "2021-09-27T11:00:23.803Z"
   },
   {
    "duration": 9,
    "start_time": "2021-09-27T11:00:28.768Z"
   },
   {
    "duration": 10,
    "start_time": "2021-09-27T11:00:32.785Z"
   },
   {
    "duration": 7,
    "start_time": "2021-09-27T11:00:36.276Z"
   },
   {
    "duration": 9,
    "start_time": "2021-09-27T11:00:40.755Z"
   },
   {
    "duration": 15,
    "start_time": "2021-09-27T11:01:15.946Z"
   },
   {
    "duration": 7,
    "start_time": "2021-09-27T11:01:29.914Z"
   },
   {
    "duration": 14,
    "start_time": "2021-09-27T11:01:42.835Z"
   },
   {
    "duration": 8,
    "start_time": "2021-09-27T11:05:12.259Z"
   },
   {
    "duration": 10,
    "start_time": "2021-09-27T11:06:17.753Z"
   },
   {
    "duration": 535,
    "start_time": "2021-09-27T11:19:28.468Z"
   },
   {
    "duration": 9,
    "start_time": "2021-09-27T11:19:35.851Z"
   },
   {
    "duration": 65,
    "start_time": "2021-09-27T11:20:52.805Z"
   },
   {
    "duration": 59,
    "start_time": "2021-09-27T11:21:07.146Z"
   },
   {
    "duration": 9,
    "start_time": "2021-09-27T11:21:53.282Z"
   },
   {
    "duration": 29,
    "start_time": "2021-09-27T11:22:12.411Z"
   },
   {
    "duration": 18,
    "start_time": "2021-09-27T11:22:26.831Z"
   },
   {
    "duration": 21,
    "start_time": "2021-09-27T11:22:34.226Z"
   },
   {
    "duration": 1426,
    "start_time": "2021-09-27T11:25:08.236Z"
   },
   {
    "duration": 518,
    "start_time": "2021-09-27T11:25:12.177Z"
   },
   {
    "duration": 28,
    "start_time": "2021-09-27T11:25:18.745Z"
   },
   {
    "duration": 15,
    "start_time": "2021-09-27T11:25:21.759Z"
   },
   {
    "duration": 6,
    "start_time": "2021-09-27T11:25:30.855Z"
   },
   {
    "duration": 28,
    "start_time": "2021-09-27T11:25:32.113Z"
   },
   {
    "duration": 126,
    "start_time": "2021-09-27T11:25:34.649Z"
   },
   {
    "duration": 12,
    "start_time": "2021-09-27T11:25:36.248Z"
   },
   {
    "duration": 21,
    "start_time": "2021-09-27T11:25:40.505Z"
   },
   {
    "duration": 11,
    "start_time": "2021-09-27T11:25:43.735Z"
   },
   {
    "duration": 6,
    "start_time": "2021-09-27T11:25:54.658Z"
   },
   {
    "duration": 21,
    "start_time": "2021-09-27T11:25:56.761Z"
   },
   {
    "duration": 62,
    "start_time": "2021-09-27T11:26:04.553Z"
   },
   {
    "duration": 16,
    "start_time": "2021-09-27T11:26:06.305Z"
   },
   {
    "duration": 18,
    "start_time": "2021-09-27T11:26:13.616Z"
   },
   {
    "duration": 10,
    "start_time": "2021-09-27T11:26:21.523Z"
   },
   {
    "duration": 6,
    "start_time": "2021-09-27T11:26:27.841Z"
   },
   {
    "duration": 18,
    "start_time": "2021-09-27T11:26:29.241Z"
   },
   {
    "duration": 62,
    "start_time": "2021-09-27T11:26:35.042Z"
   },
   {
    "duration": 9,
    "start_time": "2021-09-27T11:26:39.464Z"
   },
   {
    "duration": 5,
    "start_time": "2021-09-27T11:26:44.888Z"
   },
   {
    "duration": 12,
    "start_time": "2021-09-27T11:26:46.944Z"
   },
   {
    "duration": 5,
    "start_time": "2021-09-27T11:26:49.048Z"
   },
   {
    "duration": 8,
    "start_time": "2021-09-27T11:26:50.984Z"
   },
   {
    "duration": 9,
    "start_time": "2021-09-27T11:26:54.043Z"
   },
   {
    "duration": 9,
    "start_time": "2021-09-27T11:27:00.817Z"
   },
   {
    "duration": 15,
    "start_time": "2021-09-27T11:27:06.075Z"
   },
   {
    "duration": 6,
    "start_time": "2021-09-27T11:27:08.849Z"
   },
   {
    "duration": 10,
    "start_time": "2021-09-27T11:27:12.464Z"
   },
   {
    "duration": 9,
    "start_time": "2021-09-27T11:27:15.886Z"
   },
   {
    "duration": 9,
    "start_time": "2021-09-27T11:27:17.592Z"
   },
   {
    "duration": 9,
    "start_time": "2021-09-27T11:27:20.424Z"
   },
   {
    "duration": 10,
    "start_time": "2021-09-27T11:27:21.744Z"
   },
   {
    "duration": 8,
    "start_time": "2021-09-27T11:27:24.833Z"
   },
   {
    "duration": 8,
    "start_time": "2021-09-27T11:27:29.856Z"
   },
   {
    "duration": 9,
    "start_time": "2021-09-27T11:27:44.520Z"
   },
   {
    "duration": 9,
    "start_time": "2021-09-27T11:27:48.382Z"
   },
   {
    "duration": 15,
    "start_time": "2021-09-27T11:27:57.764Z"
   },
   {
    "duration": 90,
    "start_time": "2021-09-27T11:28:02.032Z"
   },
   {
    "duration": 10,
    "start_time": "2021-09-27T11:28:04.396Z"
   },
   {
    "duration": 25,
    "start_time": "2021-09-27T11:28:45.223Z"
   },
   {
    "duration": 17,
    "start_time": "2021-09-27T11:28:54.142Z"
   },
   {
    "duration": 17,
    "start_time": "2021-09-27T11:28:56.599Z"
   },
   {
    "duration": 4,
    "start_time": "2021-09-27T11:29:21.376Z"
   },
   {
    "duration": 5,
    "start_time": "2021-09-27T11:30:32.839Z"
   },
   {
    "duration": 7,
    "start_time": "2021-09-27T11:31:43.293Z"
   },
   {
    "duration": 4,
    "start_time": "2021-09-27T11:33:01.863Z"
   },
   {
    "duration": 13,
    "start_time": "2021-09-27T11:34:33.087Z"
   },
   {
    "duration": 755,
    "start_time": "2021-09-27T11:36:15.933Z"
   },
   {
    "duration": 116,
    "start_time": "2021-09-27T11:39:04.764Z"
   },
   {
    "duration": 449,
    "start_time": "2021-09-27T11:40:12.523Z"
   },
   {
    "duration": 104,
    "start_time": "2021-09-27T11:41:30.649Z"
   },
   {
    "duration": 466,
    "start_time": "2021-09-27T11:42:11.293Z"
   },
   {
    "duration": 115,
    "start_time": "2021-09-27T11:42:40.690Z"
   },
   {
    "duration": 106,
    "start_time": "2021-09-27T11:43:04.035Z"
   },
   {
    "duration": 109,
    "start_time": "2021-09-27T11:43:21.276Z"
   },
   {
    "duration": 106,
    "start_time": "2021-09-27T11:44:10.554Z"
   },
   {
    "duration": 110,
    "start_time": "2021-09-27T11:45:19.515Z"
   },
   {
    "duration": 140,
    "start_time": "2021-09-27T11:46:07.618Z"
   },
   {
    "duration": 71,
    "start_time": "2021-09-27T11:46:37.361Z"
   },
   {
    "duration": 123,
    "start_time": "2021-09-27T11:46:56.255Z"
   },
   {
    "duration": 9,
    "start_time": "2021-09-27T11:47:05.440Z"
   },
   {
    "duration": 6,
    "start_time": "2021-09-27T11:55:17.699Z"
   },
   {
    "duration": 1590,
    "start_time": "2021-09-27T11:57:04.400Z"
   },
   {
    "duration": 545,
    "start_time": "2021-09-27T11:57:05.993Z"
   },
   {
    "duration": 27,
    "start_time": "2021-09-27T11:57:06.546Z"
   },
   {
    "duration": 18,
    "start_time": "2021-09-27T11:57:06.575Z"
   },
   {
    "duration": 12,
    "start_time": "2021-09-27T11:57:06.595Z"
   },
   {
    "duration": 33,
    "start_time": "2021-09-27T11:57:06.623Z"
   },
   {
    "duration": 139,
    "start_time": "2021-09-27T11:57:06.659Z"
   },
   {
    "duration": 22,
    "start_time": "2021-09-27T11:57:06.801Z"
   },
   {
    "duration": 23,
    "start_time": "2021-09-27T11:57:06.828Z"
   },
   {
    "duration": 27,
    "start_time": "2021-09-27T11:57:06.854Z"
   },
   {
    "duration": 11,
    "start_time": "2021-09-27T11:57:06.884Z"
   },
   {
    "duration": 42,
    "start_time": "2021-09-27T11:57:06.897Z"
   },
   {
    "duration": 71,
    "start_time": "2021-09-27T11:57:06.941Z"
   },
   {
    "duration": 23,
    "start_time": "2021-09-27T11:57:07.014Z"
   },
   {
    "duration": 18,
    "start_time": "2021-09-27T11:57:07.039Z"
   },
   {
    "duration": 27,
    "start_time": "2021-09-27T11:57:07.060Z"
   },
   {
    "duration": 13,
    "start_time": "2021-09-27T11:57:07.089Z"
   },
   {
    "duration": 36,
    "start_time": "2021-09-27T11:57:07.105Z"
   },
   {
    "duration": 92,
    "start_time": "2021-09-27T11:57:07.143Z"
   },
   {
    "duration": 9,
    "start_time": "2021-09-27T11:57:07.238Z"
   },
   {
    "duration": 20,
    "start_time": "2021-09-27T11:57:07.249Z"
   },
   {
    "duration": 26,
    "start_time": "2021-09-27T11:57:07.277Z"
   },
   {
    "duration": 24,
    "start_time": "2021-09-27T11:57:07.306Z"
   },
   {
    "duration": 17,
    "start_time": "2021-09-27T11:57:07.333Z"
   },
   {
    "duration": 19,
    "start_time": "2021-09-27T11:57:07.353Z"
   },
   {
    "duration": 24,
    "start_time": "2021-09-27T11:57:07.375Z"
   },
   {
    "duration": 25,
    "start_time": "2021-09-27T11:57:07.401Z"
   },
   {
    "duration": 10,
    "start_time": "2021-09-27T11:57:07.433Z"
   },
   {
    "duration": 21,
    "start_time": "2021-09-27T11:57:07.446Z"
   },
   {
    "duration": 21,
    "start_time": "2021-09-27T11:57:07.469Z"
   },
   {
    "duration": 21,
    "start_time": "2021-09-27T11:57:07.493Z"
   },
   {
    "duration": 25,
    "start_time": "2021-09-27T11:57:07.517Z"
   },
   {
    "duration": 20,
    "start_time": "2021-09-27T11:57:07.545Z"
   },
   {
    "duration": 27,
    "start_time": "2021-09-27T11:57:07.568Z"
   },
   {
    "duration": 28,
    "start_time": "2021-09-27T11:57:07.598Z"
   },
   {
    "duration": 19,
    "start_time": "2021-09-27T11:57:07.629Z"
   },
   {
    "duration": 16,
    "start_time": "2021-09-27T11:57:07.651Z"
   },
   {
    "duration": 18,
    "start_time": "2021-09-27T11:57:07.669Z"
   },
   {
    "duration": 111,
    "start_time": "2021-09-27T11:57:07.689Z"
   },
   {
    "duration": 23,
    "start_time": "2021-09-27T11:57:07.803Z"
   },
   {
    "duration": 36,
    "start_time": "2021-09-27T11:57:07.830Z"
   },
   {
    "duration": 14,
    "start_time": "2021-09-27T11:57:07.868Z"
   },
   {
    "duration": 50,
    "start_time": "2021-09-27T11:57:07.884Z"
   },
   {
    "duration": 3,
    "start_time": "2021-09-27T11:57:07.937Z"
   },
   {
    "duration": 22,
    "start_time": "2021-09-27T11:57:07.943Z"
   },
   {
    "duration": 7,
    "start_time": "2021-09-27T11:57:07.968Z"
   },
   {
    "duration": 128,
    "start_time": "2021-09-27T11:57:07.977Z"
   },
   {
    "duration": 79,
    "start_time": "2021-09-27T11:57:08.107Z"
   },
   {
    "duration": 86,
    "start_time": "2021-09-27T11:57:08.189Z"
   },
   {
    "duration": 9,
    "start_time": "2021-09-27T11:57:08.278Z"
   },
   {
    "duration": 23,
    "start_time": "2021-09-27T11:57:08.289Z"
   },
   {
    "duration": 26,
    "start_time": "2021-09-27T11:57:08.314Z"
   },
   {
    "duration": 16,
    "start_time": "2021-09-27T11:57:08.343Z"
   },
   {
    "duration": 27,
    "start_time": "2021-09-27T11:57:08.361Z"
   },
   {
    "duration": 12,
    "start_time": "2021-09-27T11:57:08.390Z"
   },
   {
    "duration": 49,
    "start_time": "2021-09-27T11:57:08.405Z"
   },
   {
    "duration": 7,
    "start_time": "2021-09-27T11:57:08.456Z"
   },
   {
    "duration": 220,
    "start_time": "2021-09-27T11:57:08.465Z"
   },
   {
    "duration": 39,
    "start_time": "2021-09-27T11:57:08.687Z"
   },
   {
    "duration": 621,
    "start_time": "2021-09-27T11:57:08.729Z"
   },
   {
    "duration": 772,
    "start_time": "2021-09-27T11:57:09.353Z"
   },
   {
    "duration": 11,
    "start_time": "2021-09-27T11:57:10.129Z"
   },
   {
    "duration": 35,
    "start_time": "2021-09-27T11:57:10.143Z"
   },
   {
    "duration": 8,
    "start_time": "2021-09-27T11:57:10.180Z"
   },
   {
    "duration": 46,
    "start_time": "2021-09-27T11:57:10.190Z"
   },
   {
    "duration": 19,
    "start_time": "2021-09-27T11:57:10.238Z"
   },
   {
    "duration": 15,
    "start_time": "2021-09-27T11:57:10.264Z"
   },
   {
    "duration": 15,
    "start_time": "2021-09-27T11:57:10.282Z"
   },
   {
    "duration": 43,
    "start_time": "2021-09-27T11:57:10.300Z"
   },
   {
    "duration": 11,
    "start_time": "2021-09-27T11:57:10.345Z"
   },
   {
    "duration": 10,
    "start_time": "2021-09-27T11:57:10.358Z"
   },
   {
    "duration": 593,
    "start_time": "2021-09-27T11:57:10.371Z"
   },
   {
    "duration": 6,
    "start_time": "2021-09-27T11:57:10.967Z"
   },
   {
    "duration": 19,
    "start_time": "2021-09-27T11:57:10.976Z"
   },
   {
    "duration": 27,
    "start_time": "2021-09-27T11:57:10.997Z"
   },
   {
    "duration": 14,
    "start_time": "2021-09-27T11:57:11.031Z"
   },
   {
    "duration": 10,
    "start_time": "2021-09-27T11:57:11.047Z"
   },
   {
    "duration": 575,
    "start_time": "2021-09-27T11:57:11.059Z"
   },
   {
    "duration": 8,
    "start_time": "2021-09-27T11:57:11.637Z"
   },
   {
    "duration": 10,
    "start_time": "2021-09-27T11:57:11.648Z"
   },
   {
    "duration": 19,
    "start_time": "2021-09-27T11:57:11.661Z"
   },
   {
    "duration": 47,
    "start_time": "2021-09-27T11:57:11.683Z"
   },
   {
    "duration": 16,
    "start_time": "2021-09-27T11:57:11.733Z"
   },
   {
    "duration": 574,
    "start_time": "2021-09-27T11:57:11.751Z"
   },
   {
    "duration": 8,
    "start_time": "2021-09-27T11:57:12.330Z"
   },
   {
    "duration": 25,
    "start_time": "2021-09-27T11:57:12.341Z"
   },
   {
    "duration": 28,
    "start_time": "2021-09-27T11:57:12.369Z"
   },
   {
    "duration": 59,
    "start_time": "2021-09-27T11:57:12.399Z"
   },
   {
    "duration": 25,
    "start_time": "2021-09-27T11:57:12.460Z"
   },
   {
    "duration": 30,
    "start_time": "2021-09-27T11:57:12.487Z"
   },
   {
    "duration": 42,
    "start_time": "2021-09-27T11:57:12.520Z"
   },
   {
    "duration": 36,
    "start_time": "2021-09-27T11:57:12.564Z"
   },
   {
    "duration": 25,
    "start_time": "2021-09-27T11:57:12.606Z"
   },
   {
    "duration": 516,
    "start_time": "2021-09-27T11:57:12.931Z"
   },
   {
    "duration": 1460,
    "start_time": "2021-09-27T11:57:28.482Z"
   },
   {
    "duration": 1445,
    "start_time": "2021-09-27T11:57:39.947Z"
   },
   {
    "duration": 546,
    "start_time": "2021-09-27T11:57:44.154Z"
   },
   {
    "duration": 27,
    "start_time": "2021-09-27T11:57:47.656Z"
   },
   {
    "duration": 15,
    "start_time": "2021-09-27T11:57:51.101Z"
   },
   {
    "duration": 6,
    "start_time": "2021-09-27T11:57:54.219Z"
   },
   {
    "duration": 25,
    "start_time": "2021-09-27T11:57:55.587Z"
   },
   {
    "duration": 130,
    "start_time": "2021-09-27T11:57:56.730Z"
   },
   {
    "duration": 14,
    "start_time": "2021-09-27T11:58:00.282Z"
   },
   {
    "duration": 22,
    "start_time": "2021-09-27T11:58:03.386Z"
   },
   {
    "duration": 12,
    "start_time": "2021-09-27T11:58:06.477Z"
   },
   {
    "duration": 7,
    "start_time": "2021-09-27T11:58:07.755Z"
   },
   {
    "duration": 22,
    "start_time": "2021-09-27T11:58:11.005Z"
   },
   {
    "duration": 70,
    "start_time": "2021-09-27T11:58:12.330Z"
   },
   {
    "duration": 17,
    "start_time": "2021-09-27T11:58:14.058Z"
   },
   {
    "duration": 21,
    "start_time": "2021-09-27T11:58:22.028Z"
   },
   {
    "duration": 11,
    "start_time": "2021-09-27T11:58:28.730Z"
   },
   {
    "duration": 5,
    "start_time": "2021-09-27T11:58:30.338Z"
   },
   {
    "duration": 20,
    "start_time": "2021-09-27T11:58:31.509Z"
   },
   {
    "duration": 67,
    "start_time": "2021-09-27T11:58:35.290Z"
   },
   {
    "duration": 9,
    "start_time": "2021-09-27T11:58:38.762Z"
   },
   {
    "duration": 4,
    "start_time": "2021-09-27T11:58:43.387Z"
   },
   {
    "duration": 16,
    "start_time": "2021-09-27T11:58:45.954Z"
   },
   {
    "duration": 6,
    "start_time": "2021-09-27T11:58:49.210Z"
   },
   {
    "duration": 8,
    "start_time": "2021-09-27T11:58:50.906Z"
   },
   {
    "duration": 9,
    "start_time": "2021-09-27T11:58:52.050Z"
   },
   {
    "duration": 10,
    "start_time": "2021-09-27T11:58:56.477Z"
   },
   {
    "duration": 17,
    "start_time": "2021-09-27T11:59:00.920Z"
   },
   {
    "duration": 6,
    "start_time": "2021-09-27T11:59:01.793Z"
   },
   {
    "duration": 9,
    "start_time": "2021-09-27T11:59:04.996Z"
   },
   {
    "duration": 8,
    "start_time": "2021-09-27T11:59:08.672Z"
   },
   {
    "duration": 9,
    "start_time": "2021-09-27T11:59:09.642Z"
   },
   {
    "duration": 9,
    "start_time": "2021-09-27T11:59:10.730Z"
   },
   {
    "duration": 9,
    "start_time": "2021-09-27T11:59:13.874Z"
   },
   {
    "duration": 8,
    "start_time": "2021-09-27T11:59:14.794Z"
   },
   {
    "duration": 9,
    "start_time": "2021-09-27T11:59:18.157Z"
   },
   {
    "duration": 9,
    "start_time": "2021-09-27T11:59:22.780Z"
   },
   {
    "duration": 9,
    "start_time": "2021-09-27T11:59:26.690Z"
   },
   {
    "duration": 16,
    "start_time": "2021-09-27T11:59:33.634Z"
   },
   {
    "duration": 90,
    "start_time": "2021-09-27T11:59:49.275Z"
   },
   {
    "duration": 11,
    "start_time": "2021-09-27T11:59:51.651Z"
   },
   {
    "duration": 24,
    "start_time": "2021-09-27T11:59:53.130Z"
   },
   {
    "duration": 16,
    "start_time": "2021-09-27T11:59:57.227Z"
   },
   {
    "duration": 18,
    "start_time": "2021-09-27T11:59:58.450Z"
   },
   {
    "duration": 5,
    "start_time": "2021-09-27T12:00:05.314Z"
   },
   {
    "duration": 13,
    "start_time": "2021-09-27T12:00:07.209Z"
   },
   {
    "duration": 4,
    "start_time": "2021-09-27T12:00:11.860Z"
   },
   {
    "duration": 118,
    "start_time": "2021-09-27T12:00:20.521Z"
   },
   {
    "duration": 105,
    "start_time": "2021-09-27T12:00:26.777Z"
   },
   {
    "duration": 67,
    "start_time": "2021-09-27T12:00:30.364Z"
   },
   {
    "duration": 11,
    "start_time": "2021-09-27T12:00:35.809Z"
   },
   {
    "duration": 15,
    "start_time": "2021-09-27T12:21:16.021Z"
   },
   {
    "duration": 9,
    "start_time": "2021-09-27T12:22:23.912Z"
   },
   {
    "duration": 27,
    "start_time": "2021-09-27T12:22:27.549Z"
   },
   {
    "duration": 9,
    "start_time": "2021-09-27T12:22:33.612Z"
   },
   {
    "duration": 22,
    "start_time": "2021-09-27T12:22:34.595Z"
   },
   {
    "duration": 14,
    "start_time": "2021-09-27T12:22:36.150Z"
   },
   {
    "duration": 18,
    "start_time": "2021-09-27T12:22:37.715Z"
   },
   {
    "duration": 4,
    "start_time": "2021-09-27T12:22:48.299Z"
   },
   {
    "duration": 5,
    "start_time": "2021-09-27T12:22:54.520Z"
   },
   {
    "duration": 92,
    "start_time": "2021-09-27T12:22:59.394Z"
   },
   {
    "duration": 68,
    "start_time": "2021-09-27T12:23:06.426Z"
   },
   {
    "duration": 59,
    "start_time": "2021-09-27T12:23:14.090Z"
   },
   {
    "duration": 10,
    "start_time": "2021-09-27T12:23:22.371Z"
   },
   {
    "duration": 11,
    "start_time": "2021-09-27T12:23:43.239Z"
   },
   {
    "duration": 10,
    "start_time": "2021-09-27T12:23:48.637Z"
   },
   {
    "duration": 11,
    "start_time": "2021-09-27T12:23:52.756Z"
   },
   {
    "duration": 18,
    "start_time": "2021-09-27T12:32:45.992Z"
   },
   {
    "duration": 9,
    "start_time": "2021-09-27T12:34:19.235Z"
   },
   {
    "duration": 25,
    "start_time": "2021-09-27T12:34:22.698Z"
   },
   {
    "duration": 6,
    "start_time": "2021-09-27T12:34:51.051Z"
   },
   {
    "duration": 415,
    "start_time": "2021-09-27T12:35:33.093Z"
   },
   {
    "duration": 6,
    "start_time": "2021-09-27T12:36:24.238Z"
   },
   {
    "duration": 342,
    "start_time": "2021-09-27T12:36:28.790Z"
   },
   {
    "duration": 6,
    "start_time": "2021-09-27T12:36:48.600Z"
   },
   {
    "duration": 315,
    "start_time": "2021-09-27T12:36:58.686Z"
   },
   {
    "duration": 112,
    "start_time": "2021-09-27T12:37:47.182Z"
   },
   {
    "duration": 657,
    "start_time": "2021-09-27T12:37:52.174Z"
   },
   {
    "duration": 5,
    "start_time": "2021-09-27T12:38:07.006Z"
   },
   {
    "duration": 375,
    "start_time": "2021-09-27T12:38:16.885Z"
   },
   {
    "duration": 25,
    "start_time": "2021-09-27T12:38:24.805Z"
   },
   {
    "duration": 563,
    "start_time": "2021-09-27T12:38:26.433Z"
   },
   {
    "duration": 647,
    "start_time": "2021-09-27T12:38:30.861Z"
   },
   {
    "duration": 537,
    "start_time": "2021-09-27T13:23:20.840Z"
   },
   {
    "duration": 1172,
    "start_time": "2021-09-27T13:23:33.440Z"
   },
   {
    "duration": 565,
    "start_time": "2021-09-27T13:23:49.194Z"
   },
   {
    "duration": 609,
    "start_time": "2021-09-27T13:24:01.090Z"
   },
   {
    "duration": 691,
    "start_time": "2021-09-27T13:24:20.450Z"
   },
   {
    "duration": 627,
    "start_time": "2021-09-27T13:24:49.970Z"
   },
   {
    "duration": 575,
    "start_time": "2021-09-27T13:25:04.432Z"
   },
   {
    "duration": 549,
    "start_time": "2021-09-27T13:25:35.929Z"
   },
   {
    "duration": 632,
    "start_time": "2021-09-27T13:25:53.491Z"
   },
   {
    "duration": 533,
    "start_time": "2021-09-27T13:26:03.410Z"
   },
   {
    "duration": 545,
    "start_time": "2021-09-27T13:26:20.754Z"
   },
   {
    "duration": 675,
    "start_time": "2021-09-27T13:26:30.881Z"
   },
   {
    "duration": 641,
    "start_time": "2021-09-27T13:26:42.697Z"
   },
   {
    "duration": 766,
    "start_time": "2021-09-27T13:27:11.138Z"
   },
   {
    "duration": 776,
    "start_time": "2021-09-27T13:29:31.977Z"
   },
   {
    "duration": 640,
    "start_time": "2021-09-27T13:29:45.987Z"
   },
   {
    "duration": 1949,
    "start_time": "2021-09-27T13:29:59.121Z"
   },
   {
    "duration": 722,
    "start_time": "2021-09-27T13:30:17.872Z"
   },
   {
    "duration": 623,
    "start_time": "2021-09-27T13:30:27.434Z"
   },
   {
    "duration": 604,
    "start_time": "2021-09-27T13:30:38.840Z"
   },
   {
    "duration": 682,
    "start_time": "2021-09-27T13:30:45.630Z"
   },
   {
    "duration": 593,
    "start_time": "2021-09-27T13:30:53.074Z"
   },
   {
    "duration": 624,
    "start_time": "2021-09-27T13:31:02.632Z"
   },
   {
    "duration": 9,
    "start_time": "2021-09-27T13:40:45.487Z"
   },
   {
    "duration": 25,
    "start_time": "2021-09-27T13:40:47.588Z"
   },
   {
    "duration": 10,
    "start_time": "2021-09-27T13:40:49.221Z"
   },
   {
    "duration": 17,
    "start_time": "2021-09-27T13:40:50.670Z"
   },
   {
    "duration": 19,
    "start_time": "2021-09-27T13:40:55.317Z"
   },
   {
    "duration": 14,
    "start_time": "2021-09-27T13:40:58.188Z"
   },
   {
    "duration": 15,
    "start_time": "2021-09-27T13:41:01.237Z"
   },
   {
    "duration": 19,
    "start_time": "2021-09-27T13:41:05.880Z"
   },
   {
    "duration": 10,
    "start_time": "2021-09-27T13:41:09.690Z"
   },
   {
    "duration": 12,
    "start_time": "2021-09-27T13:41:11.038Z"
   },
   {
    "duration": 538,
    "start_time": "2021-09-27T13:41:14.171Z"
   },
   {
    "duration": 8,
    "start_time": "2021-09-27T13:41:40.597Z"
   },
   {
    "duration": 10,
    "start_time": "2021-09-27T13:41:41.549Z"
   },
   {
    "duration": 10,
    "start_time": "2021-09-27T13:41:42.508Z"
   },
   {
    "duration": 11,
    "start_time": "2021-09-27T13:41:45.533Z"
   },
   {
    "duration": 11,
    "start_time": "2021-09-27T13:41:46.388Z"
   },
   {
    "duration": 522,
    "start_time": "2021-09-27T13:41:49.095Z"
   },
   {
    "duration": 6,
    "start_time": "2021-09-27T13:41:55.762Z"
   },
   {
    "duration": 10,
    "start_time": "2021-09-27T13:41:56.478Z"
   },
   {
    "duration": 9,
    "start_time": "2021-09-27T13:41:57.220Z"
   },
   {
    "duration": 13,
    "start_time": "2021-09-27T13:42:01.653Z"
   },
   {
    "duration": 13,
    "start_time": "2021-09-27T13:42:02.439Z"
   },
   {
    "duration": 633,
    "start_time": "2021-09-27T13:42:05.206Z"
   },
   {
    "duration": 7,
    "start_time": "2021-09-27T13:42:09.173Z"
   },
   {
    "duration": 8,
    "start_time": "2021-09-27T13:42:11.813Z"
   },
   {
    "duration": 10,
    "start_time": "2021-09-27T13:42:12.884Z"
   },
   {
    "duration": 35,
    "start_time": "2021-09-27T13:42:13.812Z"
   },
   {
    "duration": 22,
    "start_time": "2021-09-27T13:42:17.051Z"
   },
   {
    "duration": 21,
    "start_time": "2021-09-27T13:42:17.965Z"
   },
   {
    "duration": 8,
    "start_time": "2021-09-27T13:42:22.091Z"
   },
   {
    "duration": 16,
    "start_time": "2021-09-27T13:42:26.365Z"
   },
   {
    "duration": 1448,
    "start_time": "2021-09-27T13:43:53.064Z"
   },
   {
    "duration": 1409,
    "start_time": "2021-09-27T13:44:14.664Z"
   },
   {
    "duration": 540,
    "start_time": "2021-09-27T13:44:22.076Z"
   },
   {
    "duration": 29,
    "start_time": "2021-09-27T13:44:25.308Z"
   },
   {
    "duration": 17,
    "start_time": "2021-09-27T13:44:28.700Z"
   },
   {
    "duration": 5,
    "start_time": "2021-09-27T13:44:29.476Z"
   },
   {
    "duration": 25,
    "start_time": "2021-09-27T13:44:30.227Z"
   },
   {
    "duration": 123,
    "start_time": "2021-09-27T13:44:33.140Z"
   },
   {
    "duration": 12,
    "start_time": "2021-09-27T13:44:34.108Z"
   },
   {
    "duration": 25,
    "start_time": "2021-09-27T13:44:39.186Z"
   },
   {
    "duration": 12,
    "start_time": "2021-09-27T13:44:42.876Z"
   },
   {
    "duration": 6,
    "start_time": "2021-09-27T13:44:43.769Z"
   },
   {
    "duration": 22,
    "start_time": "2021-09-27T13:44:44.572Z"
   },
   {
    "duration": 66,
    "start_time": "2021-09-27T13:44:45.675Z"
   },
   {
    "duration": 16,
    "start_time": "2021-09-27T13:44:46.763Z"
   },
   {
    "duration": 19,
    "start_time": "2021-09-27T13:44:50.459Z"
   },
   {
    "duration": 10,
    "start_time": "2021-09-27T13:44:53.220Z"
   },
   {
    "duration": 5,
    "start_time": "2021-09-27T13:44:53.972Z"
   },
   {
    "duration": 19,
    "start_time": "2021-09-27T13:44:54.594Z"
   },
   {
    "duration": 86,
    "start_time": "2021-09-27T13:44:58.212Z"
   },
   {
    "duration": 9,
    "start_time": "2021-09-27T13:45:03.548Z"
   },
   {
    "duration": 5,
    "start_time": "2021-09-27T13:45:07.443Z"
   },
   {
    "duration": 12,
    "start_time": "2021-09-27T13:45:08.379Z"
   },
   {
    "duration": 6,
    "start_time": "2021-09-27T13:45:09.236Z"
   },
   {
    "duration": 8,
    "start_time": "2021-09-27T13:45:10.107Z"
   },
   {
    "duration": 9,
    "start_time": "2021-09-27T13:45:10.933Z"
   },
   {
    "duration": 9,
    "start_time": "2021-09-27T13:45:14.292Z"
   },
   {
    "duration": 16,
    "start_time": "2021-09-27T13:45:17.709Z"
   },
   {
    "duration": 5,
    "start_time": "2021-09-27T13:45:18.490Z"
   },
   {
    "duration": 9,
    "start_time": "2021-09-27T13:45:22.435Z"
   },
   {
    "duration": 8,
    "start_time": "2021-09-27T13:45:23.301Z"
   },
   {
    "duration": 10,
    "start_time": "2021-09-27T13:45:24.851Z"
   },
   {
    "duration": 9,
    "start_time": "2021-09-27T13:45:25.583Z"
   },
   {
    "duration": 9,
    "start_time": "2021-09-27T13:45:27.452Z"
   },
   {
    "duration": 8,
    "start_time": "2021-09-27T13:45:31.100Z"
   },
   {
    "duration": 12,
    "start_time": "2021-09-27T13:45:34.344Z"
   },
   {
    "duration": 8,
    "start_time": "2021-09-27T13:45:35.084Z"
   },
   {
    "duration": 13,
    "start_time": "2021-09-27T13:45:36.348Z"
   },
   {
    "duration": 13,
    "start_time": "2021-09-27T13:45:41.916Z"
   },
   {
    "duration": 98,
    "start_time": "2021-09-27T13:45:44.978Z"
   },
   {
    "duration": 10,
    "start_time": "2021-09-27T13:45:47.419Z"
   },
   {
    "duration": 24,
    "start_time": "2021-09-27T13:45:48.323Z"
   },
   {
    "duration": 14,
    "start_time": "2021-09-27T13:45:49.435Z"
   },
   {
    "duration": 19,
    "start_time": "2021-09-27T13:45:50.291Z"
   },
   {
    "duration": 4,
    "start_time": "2021-09-27T13:45:53.835Z"
   },
   {
    "duration": 12,
    "start_time": "2021-09-27T13:45:54.635Z"
   },
   {
    "duration": 4,
    "start_time": "2021-09-27T13:45:58.571Z"
   },
   {
    "duration": 214,
    "start_time": "2021-09-27T13:46:02.020Z"
   },
   {
    "duration": 70,
    "start_time": "2021-09-27T13:46:06.315Z"
   },
   {
    "duration": 90,
    "start_time": "2021-09-27T13:46:09.220Z"
   },
   {
    "duration": 9,
    "start_time": "2021-09-27T13:46:11.970Z"
   },
   {
    "duration": 9,
    "start_time": "2021-09-27T13:46:16.148Z"
   },
   {
    "duration": 11,
    "start_time": "2021-09-27T13:46:21.091Z"
   },
   {
    "duration": 11,
    "start_time": "2021-09-27T13:46:22.276Z"
   },
   {
    "duration": 16,
    "start_time": "2021-09-27T13:46:26.035Z"
   },
   {
    "duration": 9,
    "start_time": "2021-09-27T13:46:27.155Z"
   },
   {
    "duration": 25,
    "start_time": "2021-09-27T13:46:28.083Z"
   },
   {
    "duration": 6,
    "start_time": "2021-09-27T13:46:31.164Z"
   },
   {
    "duration": 208,
    "start_time": "2021-09-27T13:46:36.217Z"
   },
   {
    "duration": 25,
    "start_time": "2021-09-27T13:46:37.252Z"
   },
   {
    "duration": 796,
    "start_time": "2021-09-27T13:46:38.253Z"
   },
   {
    "duration": 778,
    "start_time": "2021-09-27T13:46:44.018Z"
   },
   {
    "duration": 10,
    "start_time": "2021-09-27T13:46:49.171Z"
   },
   {
    "duration": 28,
    "start_time": "2021-09-27T13:46:50.180Z"
   },
   {
    "duration": 9,
    "start_time": "2021-09-27T13:46:51.115Z"
   },
   {
    "duration": 15,
    "start_time": "2021-09-27T13:46:51.939Z"
   },
   {
    "duration": 20,
    "start_time": "2021-09-27T13:46:55.380Z"
   },
   {
    "duration": 14,
    "start_time": "2021-09-27T13:46:56.266Z"
   },
   {
    "duration": 14,
    "start_time": "2021-09-27T13:46:58.534Z"
   },
   {
    "duration": 20,
    "start_time": "2021-09-27T13:47:02.263Z"
   },
   {
    "duration": 11,
    "start_time": "2021-09-27T13:47:06.147Z"
   },
   {
    "duration": 11,
    "start_time": "2021-09-27T13:47:06.922Z"
   },
   {
    "duration": 548,
    "start_time": "2021-09-27T13:47:07.699Z"
   },
   {
    "duration": 8,
    "start_time": "2021-09-27T13:47:13.275Z"
   },
   {
    "duration": 8,
    "start_time": "2021-09-27T13:47:14.540Z"
   },
   {
    "duration": 11,
    "start_time": "2021-09-27T13:47:15.611Z"
   },
   {
    "duration": 11,
    "start_time": "2021-09-27T13:47:20.547Z"
   },
   {
    "duration": 12,
    "start_time": "2021-09-27T13:47:21.467Z"
   },
   {
    "duration": 618,
    "start_time": "2021-09-27T13:47:23.963Z"
   },
   {
    "duration": 6,
    "start_time": "2021-09-27T13:47:29.171Z"
   },
   {
    "duration": 8,
    "start_time": "2021-09-27T13:47:29.961Z"
   },
   {
    "duration": 11,
    "start_time": "2021-09-27T13:47:30.900Z"
   },
   {
    "duration": 12,
    "start_time": "2021-09-27T13:47:35.354Z"
   },
   {
    "duration": 11,
    "start_time": "2021-09-27T13:47:36.158Z"
   },
   {
    "duration": 551,
    "start_time": "2021-09-27T13:47:37.226Z"
   },
   {
    "duration": 6,
    "start_time": "2021-09-27T13:47:42.210Z"
   },
   {
    "duration": 8,
    "start_time": "2021-09-27T13:47:43.491Z"
   },
   {
    "duration": 10,
    "start_time": "2021-09-27T13:47:44.667Z"
   },
   {
    "duration": 35,
    "start_time": "2021-09-27T13:47:46.587Z"
   },
   {
    "duration": 21,
    "start_time": "2021-09-27T13:47:52.848Z"
   },
   {
    "duration": 25,
    "start_time": "2021-09-27T13:47:53.779Z"
   },
   {
    "duration": 9,
    "start_time": "2021-09-27T13:47:59.571Z"
   },
   {
    "duration": 13,
    "start_time": "2021-09-27T13:48:04.412Z"
   },
   {
    "duration": 291,
    "start_time": "2021-09-28T07:29:13.873Z"
   },
   {
    "duration": 261,
    "start_time": "2021-09-28T07:31:43.483Z"
   },
   {
    "duration": 1109,
    "start_time": "2021-09-28T07:32:15.203Z"
   },
   {
    "duration": 1918,
    "start_time": "2021-09-28T07:32:29.689Z"
   },
   {
    "duration": 413,
    "start_time": "2021-09-28T07:32:35.621Z"
   },
   {
    "duration": 24,
    "start_time": "2021-09-28T07:32:39.218Z"
   },
   {
    "duration": 11,
    "start_time": "2021-09-28T07:32:44.509Z"
   },
   {
    "duration": 4,
    "start_time": "2021-09-28T07:32:45.429Z"
   },
   {
    "duration": 21,
    "start_time": "2021-09-28T07:32:46.299Z"
   },
   {
    "duration": 107,
    "start_time": "2021-09-28T07:32:47.217Z"
   },
   {
    "duration": 10,
    "start_time": "2021-09-28T07:32:49.059Z"
   },
   {
    "duration": 17,
    "start_time": "2021-09-28T07:32:52.989Z"
   },
   {
    "duration": 8,
    "start_time": "2021-09-28T07:32:57.329Z"
   },
   {
    "duration": 4,
    "start_time": "2021-09-28T07:32:58.169Z"
   },
   {
    "duration": 17,
    "start_time": "2021-09-28T07:32:58.988Z"
   },
   {
    "duration": 55,
    "start_time": "2021-09-28T07:33:00.032Z"
   },
   {
    "duration": 14,
    "start_time": "2021-09-28T07:33:01.528Z"
   },
   {
    "duration": 15,
    "start_time": "2021-09-28T07:33:05.238Z"
   },
   {
    "duration": 8,
    "start_time": "2021-09-28T07:33:09.118Z"
   },
   {
    "duration": 4,
    "start_time": "2021-09-28T07:33:09.939Z"
   },
   {
    "duration": 14,
    "start_time": "2021-09-28T07:33:10.797Z"
   },
   {
    "duration": 45,
    "start_time": "2021-09-28T07:33:11.708Z"
   },
   {
    "duration": 6,
    "start_time": "2021-09-28T07:33:15.268Z"
   },
   {
    "duration": 4,
    "start_time": "2021-09-28T07:33:18.779Z"
   },
   {
    "duration": 9,
    "start_time": "2021-09-28T07:33:20.078Z"
   },
   {
    "duration": 4,
    "start_time": "2021-09-28T07:33:20.948Z"
   },
   {
    "duration": 7,
    "start_time": "2021-09-28T07:33:21.948Z"
   },
   {
    "duration": 6,
    "start_time": "2021-09-28T07:33:23.068Z"
   },
   {
    "duration": 6,
    "start_time": "2021-09-28T07:33:26.898Z"
   },
   {
    "duration": 10,
    "start_time": "2021-09-28T07:33:29.848Z"
   },
   {
    "duration": 6,
    "start_time": "2021-09-28T07:33:30.955Z"
   },
   {
    "duration": 6,
    "start_time": "2021-09-28T07:33:32.707Z"
   },
   {
    "duration": 6,
    "start_time": "2021-09-28T07:33:37.978Z"
   },
   {
    "duration": 7,
    "start_time": "2021-09-28T07:33:38.819Z"
   },
   {
    "duration": 7,
    "start_time": "2021-09-28T07:33:39.828Z"
   },
   {
    "duration": 8,
    "start_time": "2021-09-28T07:33:41.458Z"
   },
   {
    "duration": 7,
    "start_time": "2021-09-28T07:33:42.906Z"
   },
   {
    "duration": 6,
    "start_time": "2021-09-28T07:33:47.398Z"
   },
   {
    "duration": 8,
    "start_time": "2021-09-28T07:33:48.278Z"
   },
   {
    "duration": 8,
    "start_time": "2021-09-28T07:33:49.460Z"
   },
   {
    "duration": 12,
    "start_time": "2021-09-28T07:33:54.078Z"
   },
   {
    "duration": 69,
    "start_time": "2021-09-28T07:33:58.253Z"
   },
   {
    "duration": 7,
    "start_time": "2021-09-28T07:34:03.108Z"
   },
   {
    "duration": 20,
    "start_time": "2021-09-28T07:34:03.868Z"
   },
   {
    "duration": 13,
    "start_time": "2021-09-28T07:34:04.708Z"
   },
   {
    "duration": 15,
    "start_time": "2021-09-28T07:34:05.677Z"
   },
   {
    "duration": 3,
    "start_time": "2021-09-28T07:34:08.212Z"
   },
   {
    "duration": 9,
    "start_time": "2021-09-28T07:34:11.668Z"
   },
   {
    "duration": 4,
    "start_time": "2021-09-28T07:34:20.038Z"
   },
   {
    "duration": 83,
    "start_time": "2021-09-28T07:34:23.250Z"
   },
   {
    "duration": 51,
    "start_time": "2021-09-28T07:34:26.378Z"
   },
   {
    "duration": 48,
    "start_time": "2021-09-28T07:34:30.155Z"
   },
   {
    "duration": 8,
    "start_time": "2021-09-28T07:34:32.172Z"
   },
   {
    "duration": 8,
    "start_time": "2021-09-28T07:34:36.758Z"
   },
   {
    "duration": 7,
    "start_time": "2021-09-28T07:34:40.098Z"
   },
   {
    "duration": 8,
    "start_time": "2021-09-28T07:34:40.978Z"
   },
   {
    "duration": 12,
    "start_time": "2021-09-28T07:34:44.928Z"
   },
   {
    "duration": 7,
    "start_time": "2021-09-28T07:34:45.778Z"
   },
   {
    "duration": 18,
    "start_time": "2021-09-28T07:34:46.488Z"
   },
   {
    "duration": 4,
    "start_time": "2021-09-28T07:34:49.919Z"
   },
   {
    "duration": 118,
    "start_time": "2021-09-28T07:34:54.008Z"
   },
   {
    "duration": 16,
    "start_time": "2021-09-28T07:34:54.997Z"
   },
   {
    "duration": 459,
    "start_time": "2021-09-28T07:34:55.898Z"
   },
   {
    "duration": 418,
    "start_time": "2021-09-28T07:35:01.718Z"
   },
   {
    "duration": 7,
    "start_time": "2021-09-28T07:35:12.058Z"
   },
   {
    "duration": 15,
    "start_time": "2021-09-28T07:35:14.649Z"
   },
   {
    "duration": 6,
    "start_time": "2021-09-28T07:35:15.738Z"
   },
   {
    "duration": 10,
    "start_time": "2021-09-28T07:35:17.508Z"
   },
   {
    "duration": 13,
    "start_time": "2021-09-28T07:35:21.909Z"
   },
   {
    "duration": 11,
    "start_time": "2021-09-28T07:35:22.678Z"
   },
   {
    "duration": 6,
    "start_time": "2021-09-28T07:35:39.618Z"
   },
   {
    "duration": 329,
    "start_time": "2021-09-28T07:36:17.541Z"
   },
   {
    "duration": 7,
    "start_time": "2021-09-28T07:36:30.638Z"
   },
   {
    "duration": 10,
    "start_time": "2021-09-28T07:38:31.898Z"
   },
   {
    "duration": 7,
    "start_time": "2021-09-28T07:38:35.638Z"
   },
   {
    "duration": 13,
    "start_time": "2021-09-28T07:38:41.150Z"
   },
   {
    "duration": 448,
    "start_time": "2021-09-28T07:53:05.817Z"
   },
   {
    "duration": 12,
    "start_time": "2021-09-28T07:53:43.337Z"
   },
   {
    "duration": 258,
    "start_time": "2021-09-28T08:32:20.385Z"
   },
   {
    "duration": 9,
    "start_time": "2021-09-28T08:40:26.496Z"
   },
   {
    "duration": 10,
    "start_time": "2021-09-28T08:44:28.315Z"
   },
   {
    "duration": 7,
    "start_time": "2021-09-28T08:50:18.247Z"
   },
   {
    "duration": 10,
    "start_time": "2021-09-28T08:50:21.794Z"
   },
   {
    "duration": 10,
    "start_time": "2021-09-28T08:52:24.918Z"
   },
   {
    "duration": 7234,
    "start_time": "2021-09-28T09:08:07.580Z"
   },
   {
    "duration": 7289,
    "start_time": "2021-09-28T09:08:36.041Z"
   },
   {
    "duration": 8359,
    "start_time": "2021-09-28T09:08:48.359Z"
   },
   {
    "duration": 403,
    "start_time": "2021-09-28T09:10:46.349Z"
   },
   {
    "duration": 5,
    "start_time": "2021-09-28T09:14:49.052Z"
   },
   {
    "duration": 555,
    "start_time": "2021-09-28T09:14:53.461Z"
   },
   {
    "duration": 1147,
    "start_time": "2021-09-28T09:15:11.668Z"
   },
   {
    "duration": 432,
    "start_time": "2021-09-28T09:15:12.817Z"
   },
   {
    "duration": 21,
    "start_time": "2021-09-28T09:15:13.251Z"
   },
   {
    "duration": 10,
    "start_time": "2021-09-28T09:15:13.274Z"
   },
   {
    "duration": 4,
    "start_time": "2021-09-28T09:15:13.285Z"
   },
   {
    "duration": 24,
    "start_time": "2021-09-28T09:15:13.290Z"
   },
   {
    "duration": 1162,
    "start_time": "2021-09-28T09:15:23.268Z"
   },
   {
    "duration": 444,
    "start_time": "2021-09-28T09:15:27.308Z"
   },
   {
    "duration": 22,
    "start_time": "2021-09-28T09:15:31.068Z"
   },
   {
    "duration": 13,
    "start_time": "2021-09-28T09:15:34.128Z"
   },
   {
    "duration": 5,
    "start_time": "2021-09-28T09:15:36.948Z"
   },
   {
    "duration": 20,
    "start_time": "2021-09-28T09:15:39.389Z"
   },
   {
    "duration": 100,
    "start_time": "2021-09-28T09:15:40.488Z"
   },
   {
    "duration": 11,
    "start_time": "2021-09-28T09:15:41.558Z"
   },
   {
    "duration": 19,
    "start_time": "2021-09-28T09:15:45.608Z"
   },
   {
    "duration": 8,
    "start_time": "2021-09-28T09:15:49.499Z"
   },
   {
    "duration": 4,
    "start_time": "2021-09-28T09:15:50.438Z"
   },
   {
    "duration": 16,
    "start_time": "2021-09-28T09:15:51.598Z"
   },
   {
    "duration": 51,
    "start_time": "2021-09-28T09:15:53.618Z"
   },
   {
    "duration": 13,
    "start_time": "2021-09-28T09:15:54.869Z"
   },
   {
    "duration": 15,
    "start_time": "2021-09-28T09:15:59.796Z"
   },
   {
    "duration": 7,
    "start_time": "2021-09-28T09:16:04.035Z"
   },
   {
    "duration": 5,
    "start_time": "2021-09-28T09:16:05.020Z"
   },
   {
    "duration": 13,
    "start_time": "2021-09-28T09:16:05.898Z"
   },
   {
    "duration": 47,
    "start_time": "2021-09-28T09:16:08.968Z"
   },
   {
    "duration": 6,
    "start_time": "2021-09-28T09:16:12.318Z"
   },
   {
    "duration": 4,
    "start_time": "2021-09-28T09:16:15.898Z"
   },
   {
    "duration": 8,
    "start_time": "2021-09-28T09:16:17.264Z"
   },
   {
    "duration": 4,
    "start_time": "2021-09-28T09:16:18.428Z"
   },
   {
    "duration": 5,
    "start_time": "2021-09-28T09:16:19.568Z"
   },
   {
    "duration": 6,
    "start_time": "2021-09-28T09:16:38.588Z"
   },
   {
    "duration": 7,
    "start_time": "2021-09-28T09:16:42.632Z"
   },
   {
    "duration": 11,
    "start_time": "2021-09-28T09:16:47.081Z"
   },
   {
    "duration": 4,
    "start_time": "2021-09-28T09:16:47.988Z"
   },
   {
    "duration": 7,
    "start_time": "2021-09-28T09:16:51.798Z"
   },
   {
    "duration": 6,
    "start_time": "2021-09-28T09:16:55.084Z"
   },
   {
    "duration": 7,
    "start_time": "2021-09-28T09:16:57.008Z"
   },
   {
    "duration": 7,
    "start_time": "2021-09-28T09:16:58.181Z"
   },
   {
    "duration": 7,
    "start_time": "2021-09-28T09:16:59.416Z"
   },
   {
    "duration": 6,
    "start_time": "2021-09-28T09:17:02.542Z"
   },
   {
    "duration": 7,
    "start_time": "2021-09-28T09:17:06.218Z"
   },
   {
    "duration": 8,
    "start_time": "2021-09-28T09:17:07.126Z"
   },
   {
    "duration": 7,
    "start_time": "2021-09-28T09:17:09.268Z"
   },
   {
    "duration": 10,
    "start_time": "2021-09-28T09:17:14.329Z"
   },
   {
    "duration": 63,
    "start_time": "2021-09-28T09:17:21.231Z"
   },
   {
    "duration": 7,
    "start_time": "2021-09-28T09:17:22.579Z"
   },
   {
    "duration": 19,
    "start_time": "2021-09-28T09:17:24.197Z"
   },
   {
    "duration": 12,
    "start_time": "2021-09-28T09:17:25.767Z"
   },
   {
    "duration": 13,
    "start_time": "2021-09-28T09:17:26.698Z"
   },
   {
    "duration": 4,
    "start_time": "2021-09-28T09:17:31.463Z"
   },
   {
    "duration": 9,
    "start_time": "2021-09-28T09:17:32.260Z"
   },
   {
    "duration": 4,
    "start_time": "2021-09-28T09:17:36.313Z"
   },
   {
    "duration": 81,
    "start_time": "2021-09-28T09:17:41.656Z"
   },
   {
    "duration": 52,
    "start_time": "2021-09-28T09:17:47.650Z"
   },
   {
    "duration": 45,
    "start_time": "2021-09-28T09:17:55.956Z"
   },
   {
    "duration": 7,
    "start_time": "2021-09-28T09:17:59.246Z"
   },
   {
    "duration": 7,
    "start_time": "2021-09-28T09:18:10.018Z"
   },
   {
    "duration": 7,
    "start_time": "2021-09-28T09:18:15.856Z"
   },
   {
    "duration": 8,
    "start_time": "2021-09-28T09:18:19.606Z"
   },
   {
    "duration": 12,
    "start_time": "2021-09-28T09:18:28.138Z"
   },
   {
    "duration": 6,
    "start_time": "2021-09-28T09:18:29.992Z"
   },
   {
    "duration": 16,
    "start_time": "2021-09-28T09:18:34.518Z"
   },
   {
    "duration": 5,
    "start_time": "2021-09-28T09:18:38.678Z"
   },
   {
    "duration": 120,
    "start_time": "2021-09-28T09:18:43.248Z"
   },
   {
    "duration": 17,
    "start_time": "2021-09-28T09:18:47.228Z"
   },
   {
    "duration": 454,
    "start_time": "2021-09-28T09:18:48.807Z"
   },
   {
    "duration": 436,
    "start_time": "2021-09-28T09:18:54.950Z"
   },
   {
    "duration": 7,
    "start_time": "2021-09-28T09:19:00.438Z"
   },
   {
    "duration": 14,
    "start_time": "2021-09-28T09:19:01.738Z"
   },
   {
    "duration": 6,
    "start_time": "2021-09-28T09:19:04.538Z"
   },
   {
    "duration": 12,
    "start_time": "2021-09-28T09:19:05.878Z"
   },
   {
    "duration": 13,
    "start_time": "2021-09-28T09:19:13.977Z"
   },
   {
    "duration": 12,
    "start_time": "2021-09-28T09:19:15.247Z"
   },
   {
    "duration": 10,
    "start_time": "2021-09-28T09:19:16.828Z"
   },
   {
    "duration": 14,
    "start_time": "2021-09-28T09:19:22.759Z"
   },
   {
    "duration": 6,
    "start_time": "2021-09-28T09:19:28.137Z"
   },
   {
    "duration": 10,
    "start_time": "2021-09-28T09:19:34.678Z"
   },
   {
    "duration": 391,
    "start_time": "2021-09-28T09:19:44.068Z"
   },
   {
    "duration": 5716,
    "start_time": "2021-09-28T09:23:15.467Z"
   },
   {
    "duration": 8,
    "start_time": "2021-09-28T09:25:31.018Z"
   },
   {
    "duration": 8,
    "start_time": "2021-09-28T09:25:52.028Z"
   },
   {
    "duration": 6183,
    "start_time": "2021-09-28T09:26:04.748Z"
   },
   {
    "duration": 8,
    "start_time": "2021-09-28T09:27:26.542Z"
   },
   {
    "duration": 7642,
    "start_time": "2021-09-28T09:27:29.898Z"
   },
   {
    "duration": 323,
    "start_time": "2021-09-28T09:28:04.288Z"
   },
   {
    "duration": 6863,
    "start_time": "2021-09-28T09:32:37.827Z"
   },
   {
    "duration": 319,
    "start_time": "2021-09-28T09:41:58.278Z"
   },
   {
    "duration": 286,
    "start_time": "2021-09-28T09:42:14.107Z"
   },
   {
    "duration": 317,
    "start_time": "2021-09-28T09:42:40.388Z"
   },
   {
    "duration": 6401,
    "start_time": "2021-09-28T09:42:57.748Z"
   },
   {
    "duration": -402,
    "start_time": "2021-09-28T09:43:04.552Z"
   },
   {
    "duration": 8,
    "start_time": "2021-09-28T09:43:19.478Z"
   },
   {
    "duration": 5765,
    "start_time": "2021-09-28T09:43:21.857Z"
   },
   {
    "duration": 1141,
    "start_time": "2021-09-28T09:47:22.768Z"
   },
   {
    "duration": 1189,
    "start_time": "2021-09-28T09:47:37.131Z"
   },
   {
    "duration": 421,
    "start_time": "2021-09-28T09:47:41.136Z"
   },
   {
    "duration": 21,
    "start_time": "2021-09-28T09:47:44.518Z"
   },
   {
    "duration": 12,
    "start_time": "2021-09-28T09:47:47.958Z"
   },
   {
    "duration": 4,
    "start_time": "2021-09-28T09:47:48.833Z"
   },
   {
    "duration": 19,
    "start_time": "2021-09-28T09:47:49.518Z"
   },
   {
    "duration": 103,
    "start_time": "2021-09-28T09:47:50.518Z"
   },
   {
    "duration": 10,
    "start_time": "2021-09-28T09:47:53.789Z"
   },
   {
    "duration": 18,
    "start_time": "2021-09-28T09:48:00.568Z"
   },
   {
    "duration": 10,
    "start_time": "2021-09-28T09:48:03.939Z"
   },
   {
    "duration": 4,
    "start_time": "2021-09-28T09:48:04.678Z"
   },
   {
    "duration": 17,
    "start_time": "2021-09-28T09:48:05.518Z"
   },
   {
    "duration": 45,
    "start_time": "2021-09-28T09:48:06.378Z"
   },
   {
    "duration": 13,
    "start_time": "2021-09-28T09:48:07.641Z"
   },
   {
    "duration": 14,
    "start_time": "2021-09-28T09:48:11.408Z"
   },
   {
    "duration": 7,
    "start_time": "2021-09-28T09:48:16.888Z"
   },
   {
    "duration": 4,
    "start_time": "2021-09-28T09:48:17.908Z"
   },
   {
    "duration": 14,
    "start_time": "2021-09-28T09:48:18.808Z"
   },
   {
    "duration": 48,
    "start_time": "2021-09-28T09:48:19.668Z"
   },
   {
    "duration": 6,
    "start_time": "2021-09-28T09:48:23.177Z"
   },
   {
    "duration": 4,
    "start_time": "2021-09-28T09:48:27.038Z"
   },
   {
    "duration": 8,
    "start_time": "2021-09-28T09:48:28.768Z"
   },
   {
    "duration": 5,
    "start_time": "2021-09-28T09:48:29.618Z"
   },
   {
    "duration": 5,
    "start_time": "2021-09-28T09:48:30.588Z"
   },
   {
    "duration": 6,
    "start_time": "2021-09-28T09:48:31.488Z"
   },
   {
    "duration": 7,
    "start_time": "2021-09-28T09:48:36.228Z"
   },
   {
    "duration": 11,
    "start_time": "2021-09-28T09:48:40.156Z"
   },
   {
    "duration": 5,
    "start_time": "2021-09-28T09:48:40.858Z"
   },
   {
    "duration": 6,
    "start_time": "2021-09-28T09:48:42.618Z"
   },
   {
    "duration": 6,
    "start_time": "2021-09-28T09:48:45.616Z"
   },
   {
    "duration": 8,
    "start_time": "2021-09-28T09:48:47.448Z"
   },
   {
    "duration": 7,
    "start_time": "2021-09-28T09:48:48.238Z"
   },
   {
    "duration": 7,
    "start_time": "2021-09-28T09:48:49.387Z"
   },
   {
    "duration": 6,
    "start_time": "2021-09-28T09:48:50.658Z"
   },
   {
    "duration": 6,
    "start_time": "2021-09-28T09:48:54.971Z"
   },
   {
    "duration": 6,
    "start_time": "2021-09-28T09:48:55.778Z"
   },
   {
    "duration": 6,
    "start_time": "2021-09-28T09:48:56.998Z"
   },
   {
    "duration": 10,
    "start_time": "2021-09-28T09:49:02.869Z"
   },
   {
    "duration": 62,
    "start_time": "2021-09-28T09:49:09.451Z"
   },
   {
    "duration": 9,
    "start_time": "2021-09-28T09:49:11.378Z"
   },
   {
    "duration": 19,
    "start_time": "2021-09-28T09:49:12.488Z"
   },
   {
    "duration": 11,
    "start_time": "2021-09-28T09:49:13.448Z"
   },
   {
    "duration": 14,
    "start_time": "2021-09-28T09:49:15.020Z"
   },
   {
    "duration": 3,
    "start_time": "2021-09-28T09:49:20.348Z"
   },
   {
    "duration": 10,
    "start_time": "2021-09-28T09:49:21.268Z"
   },
   {
    "duration": 3,
    "start_time": "2021-09-28T09:49:25.198Z"
   },
   {
    "duration": 81,
    "start_time": "2021-09-28T09:49:28.638Z"
   },
   {
    "duration": 52,
    "start_time": "2021-09-28T09:49:32.521Z"
   },
   {
    "duration": 46,
    "start_time": "2021-09-28T09:49:37.217Z"
   },
   {
    "duration": 8,
    "start_time": "2021-09-28T09:49:45.168Z"
   },
   {
    "duration": 7,
    "start_time": "2021-09-28T09:49:49.826Z"
   },
   {
    "duration": 8,
    "start_time": "2021-09-28T09:49:55.977Z"
   },
   {
    "duration": 8,
    "start_time": "2021-09-28T09:49:57.199Z"
   },
   {
    "duration": 11,
    "start_time": "2021-09-28T09:50:01.368Z"
   },
   {
    "duration": 7,
    "start_time": "2021-09-28T09:50:02.589Z"
   },
   {
    "duration": 15,
    "start_time": "2021-09-28T09:50:38.618Z"
   },
   {
    "duration": 4,
    "start_time": "2021-09-28T09:50:43.001Z"
   },
   {
    "duration": 117,
    "start_time": "2021-09-28T09:50:48.528Z"
   },
   {
    "duration": 16,
    "start_time": "2021-09-28T09:50:50.443Z"
   },
   {
    "duration": 442,
    "start_time": "2021-09-28T09:50:51.808Z"
   },
   {
    "duration": 427,
    "start_time": "2021-09-28T09:50:56.548Z"
   },
   {
    "duration": 7,
    "start_time": "2021-09-28T09:51:00.118Z"
   },
   {
    "duration": 15,
    "start_time": "2021-09-28T09:51:01.008Z"
   },
   {
    "duration": 7,
    "start_time": "2021-09-28T09:51:01.959Z"
   },
   {
    "duration": 12,
    "start_time": "2021-09-28T09:51:02.878Z"
   },
   {
    "duration": 12,
    "start_time": "2021-09-28T09:51:07.408Z"
   },
   {
    "duration": 12,
    "start_time": "2021-09-28T09:51:08.845Z"
   },
   {
    "duration": 13,
    "start_time": "2021-09-28T09:51:18.601Z"
   },
   {
    "duration": 10,
    "start_time": "2021-09-28T09:51:20.448Z"
   },
   {
    "duration": 10,
    "start_time": "2021-09-28T09:51:23.578Z"
   },
   {
    "duration": 13,
    "start_time": "2021-09-28T09:51:32.678Z"
   },
   {
    "duration": 418,
    "start_time": "2021-09-28T09:52:26.032Z"
   },
   {
    "duration": 5808,
    "start_time": "2021-09-28T09:53:56.688Z"
   },
   {
    "duration": 8,
    "start_time": "2021-09-28T09:54:57.649Z"
   },
   {
    "duration": 8,
    "start_time": "2021-09-28T09:55:27.675Z"
   },
   {
    "duration": 328,
    "start_time": "2021-09-28T09:56:42.126Z"
   },
   {
    "duration": 245,
    "start_time": "2021-09-28T09:58:06.322Z"
   },
   {
    "duration": 11,
    "start_time": "2021-09-28T09:58:51.198Z"
   },
   {
    "duration": 11,
    "start_time": "2021-09-28T10:01:33.737Z"
   },
   {
    "duration": 5,
    "start_time": "2021-09-28T10:03:12.117Z"
   },
   {
    "duration": 609,
    "start_time": "2021-09-28T10:04:14.277Z"
   },
   {
    "duration": 707,
    "start_time": "2021-09-28T10:04:44.348Z"
   },
   {
    "duration": 546,
    "start_time": "2021-09-28T10:05:04.547Z"
   },
   {
    "duration": 254,
    "start_time": "2021-09-28T10:05:30.108Z"
   },
   {
    "duration": 977,
    "start_time": "2021-09-28T10:07:14.817Z"
   },
   {
    "duration": 6304,
    "start_time": "2021-09-28T10:29:17.229Z"
   },
   {
    "duration": 22,
    "start_time": "2021-09-28T11:08:02.112Z"
   },
   {
    "duration": 255,
    "start_time": "2021-09-28T11:11:19.287Z"
   },
   {
    "duration": 274,
    "start_time": "2021-09-28T11:11:48.646Z"
   },
   {
    "duration": 255,
    "start_time": "2021-09-28T11:13:21.986Z"
   },
   {
    "duration": 1175,
    "start_time": "2021-09-28T11:13:55.626Z"
   },
   {
    "duration": 413,
    "start_time": "2021-09-28T11:13:56.803Z"
   },
   {
    "duration": 19,
    "start_time": "2021-09-28T11:13:57.218Z"
   },
   {
    "duration": 10,
    "start_time": "2021-09-28T11:13:57.239Z"
   },
   {
    "duration": 3,
    "start_time": "2021-09-28T11:13:57.251Z"
   },
   {
    "duration": 24,
    "start_time": "2021-09-28T11:13:57.255Z"
   },
   {
    "duration": 116,
    "start_time": "2021-09-28T11:13:57.281Z"
   },
   {
    "duration": 11,
    "start_time": "2021-09-28T11:13:57.400Z"
   },
   {
    "duration": 38,
    "start_time": "2021-09-28T11:13:57.413Z"
   },
   {
    "duration": 9,
    "start_time": "2021-09-28T11:13:57.453Z"
   },
   {
    "duration": 7,
    "start_time": "2021-09-28T11:13:57.464Z"
   },
   {
    "duration": 18,
    "start_time": "2021-09-28T11:13:57.473Z"
   },
   {
    "duration": 82,
    "start_time": "2021-09-28T11:13:57.492Z"
   },
   {
    "duration": 13,
    "start_time": "2021-09-28T11:13:57.576Z"
   },
   {
    "duration": 15,
    "start_time": "2021-09-28T11:13:57.591Z"
   },
   {
    "duration": 13,
    "start_time": "2021-09-28T11:13:57.608Z"
   },
   {
    "duration": 27,
    "start_time": "2021-09-28T11:13:57.622Z"
   },
   {
    "duration": 20,
    "start_time": "2021-09-28T11:13:57.651Z"
   },
   {
    "duration": 59,
    "start_time": "2021-09-28T11:13:57.673Z"
   },
   {
    "duration": 7,
    "start_time": "2021-09-28T11:13:57.734Z"
   },
   {
    "duration": 9,
    "start_time": "2021-09-28T11:13:57.743Z"
   },
   {
    "duration": 9,
    "start_time": "2021-09-28T11:13:57.753Z"
   },
   {
    "duration": 6,
    "start_time": "2021-09-28T11:13:57.767Z"
   },
   {
    "duration": 10,
    "start_time": "2021-09-28T11:13:57.776Z"
   },
   {
    "duration": 10,
    "start_time": "2021-09-28T11:13:57.788Z"
   },
   {
    "duration": 9,
    "start_time": "2021-09-28T11:13:57.799Z"
   },
   {
    "duration": 13,
    "start_time": "2021-09-28T11:13:57.810Z"
   },
   {
    "duration": 27,
    "start_time": "2021-09-28T11:13:57.825Z"
   },
   {
    "duration": 9,
    "start_time": "2021-09-28T11:13:57.853Z"
   },
   {
    "duration": 12,
    "start_time": "2021-09-28T11:13:57.863Z"
   },
   {
    "duration": 14,
    "start_time": "2021-09-28T11:13:57.877Z"
   },
   {
    "duration": 10,
    "start_time": "2021-09-28T11:13:57.893Z"
   },
   {
    "duration": 8,
    "start_time": "2021-09-28T11:13:57.905Z"
   },
   {
    "duration": 11,
    "start_time": "2021-09-28T11:13:57.915Z"
   },
   {
    "duration": 21,
    "start_time": "2021-09-28T11:13:57.928Z"
   },
   {
    "duration": 8,
    "start_time": "2021-09-28T11:13:57.951Z"
   },
   {
    "duration": 12,
    "start_time": "2021-09-28T11:13:57.961Z"
   },
   {
    "duration": 12,
    "start_time": "2021-09-28T11:13:57.974Z"
   },
   {
    "duration": 83,
    "start_time": "2021-09-28T11:13:57.988Z"
   },
   {
    "duration": 7,
    "start_time": "2021-09-28T11:13:58.073Z"
   },
   {
    "duration": 23,
    "start_time": "2021-09-28T11:13:58.081Z"
   },
   {
    "duration": 10,
    "start_time": "2021-09-28T11:13:58.105Z"
   },
   {
    "duration": 32,
    "start_time": "2021-09-28T11:13:58.117Z"
   },
   {
    "duration": 3,
    "start_time": "2021-09-28T11:13:58.151Z"
   },
   {
    "duration": 11,
    "start_time": "2021-09-28T11:13:58.155Z"
   },
   {
    "duration": 4,
    "start_time": "2021-09-28T11:13:58.167Z"
   },
   {
    "duration": 96,
    "start_time": "2021-09-28T11:13:58.172Z"
   },
   {
    "duration": 51,
    "start_time": "2021-09-28T11:13:58.270Z"
   },
   {
    "duration": 60,
    "start_time": "2021-09-28T11:13:58.323Z"
   },
   {
    "duration": 5,
    "start_time": "2021-09-28T11:13:58.385Z"
   },
   {
    "duration": 6,
    "start_time": "2021-09-28T11:13:58.392Z"
   },
   {
    "duration": 6,
    "start_time": "2021-09-28T11:13:58.400Z"
   },
   {
    "duration": 8,
    "start_time": "2021-09-28T11:13:58.407Z"
   },
   {
    "duration": 40,
    "start_time": "2021-09-28T11:13:58.416Z"
   },
   {
    "duration": 6,
    "start_time": "2021-09-28T11:13:58.458Z"
   },
   {
    "duration": 15,
    "start_time": "2021-09-28T11:13:58.466Z"
   },
   {
    "duration": 5,
    "start_time": "2021-09-28T11:13:58.483Z"
   },
   {
    "duration": 148,
    "start_time": "2021-09-28T11:13:58.490Z"
   },
   {
    "duration": 20,
    "start_time": "2021-09-28T11:13:58.640Z"
   },
   {
    "duration": 1131,
    "start_time": "2021-09-28T11:14:10.072Z"
   },
   {
    "duration": 424,
    "start_time": "2021-09-28T11:14:13.963Z"
   },
   {
    "duration": 21,
    "start_time": "2021-09-28T11:14:17.222Z"
   },
   {
    "duration": 11,
    "start_time": "2021-09-28T11:14:20.742Z"
   },
   {
    "duration": 4,
    "start_time": "2021-09-28T11:14:22.999Z"
   },
   {
    "duration": 20,
    "start_time": "2021-09-28T11:14:24.396Z"
   },
   {
    "duration": 107,
    "start_time": "2021-09-28T11:14:25.372Z"
   },
   {
    "duration": 10,
    "start_time": "2021-09-28T11:14:27.003Z"
   },
   {
    "duration": 17,
    "start_time": "2021-09-28T11:14:31.062Z"
   },
   {
    "duration": 8,
    "start_time": "2021-09-28T11:14:36.676Z"
   },
   {
    "duration": 4,
    "start_time": "2021-09-28T11:14:37.556Z"
   },
   {
    "duration": 16,
    "start_time": "2021-09-28T11:14:38.356Z"
   },
   {
    "duration": 50,
    "start_time": "2021-09-28T11:14:39.197Z"
   },
   {
    "duration": 14,
    "start_time": "2021-09-28T11:14:41.837Z"
   },
   {
    "duration": 15,
    "start_time": "2021-09-28T11:15:20.236Z"
   },
   {
    "duration": 7,
    "start_time": "2021-09-28T11:15:57.872Z"
   },
   {
    "duration": 4,
    "start_time": "2021-09-28T11:16:00.932Z"
   },
   {
    "duration": 16,
    "start_time": "2021-09-28T11:16:01.902Z"
   },
   {
    "duration": 45,
    "start_time": "2021-09-28T11:16:03.062Z"
   },
   {
    "duration": 6,
    "start_time": "2021-09-28T11:16:12.852Z"
   },
   {
    "duration": 4,
    "start_time": "2021-09-28T11:16:18.121Z"
   },
   {
    "duration": 9,
    "start_time": "2021-09-28T11:16:18.972Z"
   },
   {
    "duration": 4,
    "start_time": "2021-09-28T11:16:19.823Z"
   },
   {
    "duration": 6,
    "start_time": "2021-09-28T11:16:20.726Z"
   },
   {
    "duration": 6,
    "start_time": "2021-09-28T11:16:26.875Z"
   },
   {
    "duration": 7,
    "start_time": "2021-09-28T11:16:31.346Z"
   },
   {
    "duration": 11,
    "start_time": "2021-09-28T11:16:36.552Z"
   },
   {
    "duration": 4,
    "start_time": "2021-09-28T11:16:37.595Z"
   },
   {
    "duration": 7,
    "start_time": "2021-09-28T11:16:41.742Z"
   },
   {
    "duration": 6,
    "start_time": "2021-09-28T11:16:45.712Z"
   },
   {
    "duration": 6,
    "start_time": "2021-09-28T11:16:46.863Z"
   },
   {
    "duration": 7,
    "start_time": "2021-09-28T11:16:48.092Z"
   },
   {
    "duration": 6,
    "start_time": "2021-09-28T11:16:49.431Z"
   },
   {
    "duration": 5,
    "start_time": "2021-09-28T11:16:52.603Z"
   },
   {
    "duration": 7,
    "start_time": "2021-09-28T11:16:56.022Z"
   },
   {
    "duration": 7,
    "start_time": "2021-09-28T11:16:59.613Z"
   },
   {
    "duration": 7,
    "start_time": "2021-09-28T11:17:00.862Z"
   },
   {
    "duration": 11,
    "start_time": "2021-09-28T11:17:06.102Z"
   },
   {
    "duration": 63,
    "start_time": "2021-09-28T11:17:09.734Z"
   },
   {
    "duration": 7,
    "start_time": "2021-09-28T11:17:12.412Z"
   },
   {
    "duration": 19,
    "start_time": "2021-09-28T11:17:15.352Z"
   },
   {
    "duration": 11,
    "start_time": "2021-09-28T11:17:17.492Z"
   },
   {
    "duration": 15,
    "start_time": "2021-09-28T11:17:18.675Z"
   },
   {
    "duration": 3,
    "start_time": "2021-09-28T11:17:22.835Z"
   },
   {
    "duration": 9,
    "start_time": "2021-09-28T11:17:23.742Z"
   },
   {
    "duration": 4,
    "start_time": "2021-09-28T11:17:26.662Z"
   },
   {
    "duration": 84,
    "start_time": "2021-09-28T11:17:30.743Z"
   },
   {
    "duration": 59,
    "start_time": "2021-09-28T11:17:34.020Z"
   },
   {
    "duration": 46,
    "start_time": "2021-09-28T11:17:37.812Z"
   },
   {
    "duration": 7,
    "start_time": "2021-09-28T11:17:47.592Z"
   },
   {
    "duration": 7,
    "start_time": "2021-09-28T11:17:51.872Z"
   },
   {
    "duration": 7,
    "start_time": "2021-09-28T11:17:55.714Z"
   },
   {
    "duration": 7,
    "start_time": "2021-09-28T11:17:57.012Z"
   },
   {
    "duration": 11,
    "start_time": "2021-09-28T11:18:01.360Z"
   },
   {
    "duration": 7,
    "start_time": "2021-09-28T11:18:02.712Z"
   },
   {
    "duration": 16,
    "start_time": "2021-09-28T11:18:03.825Z"
   },
   {
    "duration": 4,
    "start_time": "2021-09-28T11:18:11.952Z"
   },
   {
    "duration": 113,
    "start_time": "2021-09-28T11:18:16.602Z"
   },
   {
    "duration": 17,
    "start_time": "2021-09-28T11:18:17.942Z"
   },
   {
    "duration": 654,
    "start_time": "2021-09-28T11:18:21.032Z"
   },
   {
    "duration": 428,
    "start_time": "2021-09-28T11:18:26.856Z"
   },
   {
    "duration": 7,
    "start_time": "2021-09-28T11:18:33.492Z"
   },
   {
    "duration": 16,
    "start_time": "2021-09-28T11:18:34.552Z"
   },
   {
    "duration": 8,
    "start_time": "2021-09-28T11:18:35.602Z"
   },
   {
    "duration": 12,
    "start_time": "2021-09-28T11:18:36.712Z"
   },
   {
    "duration": 7,
    "start_time": "2021-09-28T11:18:42.849Z"
   },
   {
    "duration": 10,
    "start_time": "2021-09-28T11:18:43.951Z"
   },
   {
    "duration": 14,
    "start_time": "2021-09-28T11:18:50.321Z"
   },
   {
    "duration": 10,
    "start_time": "2021-09-28T11:18:52.642Z"
   },
   {
    "duration": 10,
    "start_time": "2021-09-28T11:18:58.052Z"
   },
   {
    "duration": 13,
    "start_time": "2021-09-28T11:19:05.612Z"
   },
   {
    "duration": 6,
    "start_time": "2021-09-28T11:19:06.872Z"
   },
   {
    "duration": 10,
    "start_time": "2021-09-28T11:19:09.492Z"
   },
   {
    "duration": 392,
    "start_time": "2021-09-28T11:19:49.502Z"
   },
   {
    "duration": 13,
    "start_time": "2021-09-28T11:19:57.142Z"
   },
   {
    "duration": 11,
    "start_time": "2021-09-28T11:20:00.902Z"
   },
   {
    "duration": 5,
    "start_time": "2021-09-28T11:20:05.182Z"
   },
   {
    "duration": 596,
    "start_time": "2021-09-28T11:20:09.672Z"
   },
   {
    "duration": 621,
    "start_time": "2021-09-28T11:20:13.543Z"
   },
   {
    "duration": 498,
    "start_time": "2021-09-28T11:20:16.372Z"
   },
   {
    "duration": 889,
    "start_time": "2021-09-28T11:20:20.862Z"
   },
   {
    "duration": 552,
    "start_time": "2021-09-28T11:20:30.413Z"
   },
   {
    "duration": 267,
    "start_time": "2021-09-28T11:34:27.625Z"
   },
   {
    "duration": 264,
    "start_time": "2021-09-28T11:36:15.755Z"
   },
   {
    "duration": 3,
    "start_time": "2021-09-28T11:42:28.935Z"
   },
   {
    "duration": 543,
    "start_time": "2021-09-28T11:42:33.974Z"
   },
   {
    "duration": 260,
    "start_time": "2021-09-28T11:43:10.804Z"
   },
   {
    "duration": 252,
    "start_time": "2021-09-28T11:43:13.415Z"
   },
   {
    "duration": 250,
    "start_time": "2021-09-28T11:45:43.484Z"
   },
   {
    "duration": 272,
    "start_time": "2021-09-28T11:46:39.125Z"
   },
   {
    "duration": 279,
    "start_time": "2021-09-28T11:48:38.464Z"
   },
   {
    "duration": 25,
    "start_time": "2021-09-28T11:51:46.074Z"
   },
   {
    "duration": 281,
    "start_time": "2021-09-28T11:53:59.644Z"
   },
   {
    "duration": 266,
    "start_time": "2021-09-28T11:55:12.827Z"
   },
   {
    "duration": 22,
    "start_time": "2021-09-28T11:55:29.236Z"
   },
   {
    "duration": 257,
    "start_time": "2021-09-28T11:58:10.354Z"
   },
   {
    "duration": 291,
    "start_time": "2021-09-28T11:59:43.234Z"
   },
   {
    "duration": 7529,
    "start_time": "2021-09-28T12:00:09.105Z"
   },
   {
    "duration": 7067,
    "start_time": "2021-09-28T12:01:32.324Z"
   },
   {
    "duration": 261,
    "start_time": "2021-09-28T12:02:13.635Z"
   },
   {
    "duration": 314,
    "start_time": "2021-09-28T12:02:51.055Z"
   },
   {
    "duration": 329,
    "start_time": "2021-09-28T12:05:10.546Z"
   },
   {
    "duration": 308,
    "start_time": "2021-09-28T12:05:37.474Z"
   },
   {
    "duration": 330,
    "start_time": "2021-09-28T12:06:54.856Z"
   },
   {
    "duration": 7319,
    "start_time": "2021-09-28T12:08:25.801Z"
   },
   {
    "duration": 752,
    "start_time": "2021-09-28T12:17:02.164Z"
   },
   {
    "duration": 287,
    "start_time": "2021-09-28T12:18:08.494Z"
   },
   {
    "duration": 278,
    "start_time": "2021-09-28T12:18:26.362Z"
   },
   {
    "duration": 257,
    "start_time": "2021-09-28T12:24:29.546Z"
   },
   {
    "duration": 1213,
    "start_time": "2021-09-28T12:24:39.370Z"
   },
   {
    "duration": 261,
    "start_time": "2021-09-28T12:24:49.484Z"
   },
   {
    "duration": 389,
    "start_time": "2021-09-28T12:26:03.244Z"
   },
   {
    "duration": 289,
    "start_time": "2021-09-28T12:26:49.164Z"
   },
   {
    "duration": 389,
    "start_time": "2021-09-28T12:35:37.493Z"
   },
   {
    "duration": 287,
    "start_time": "2021-09-28T12:37:12.576Z"
   },
   {
    "duration": 7585,
    "start_time": "2021-09-28T12:38:12.802Z"
   },
   {
    "duration": 7174,
    "start_time": "2021-09-28T12:40:06.397Z"
   },
   {
    "duration": 6711,
    "start_time": "2021-09-28T12:41:58.874Z"
   },
   {
    "duration": 7665,
    "start_time": "2021-09-28T12:42:19.584Z"
   },
   {
    "duration": 6976,
    "start_time": "2021-09-28T12:42:46.303Z"
   },
   {
    "duration": 106,
    "start_time": "2021-09-28T12:47:16.554Z"
   },
   {
    "duration": 79,
    "start_time": "2021-09-28T12:47:40.694Z"
   },
   {
    "duration": 82,
    "start_time": "2021-09-28T12:47:53.854Z"
   },
   {
    "duration": 279,
    "start_time": "2021-09-28T12:49:05.467Z"
   },
   {
    "duration": 1210,
    "start_time": "2021-09-28T12:52:54.007Z"
   },
   {
    "duration": 461,
    "start_time": "2021-09-28T12:52:55.219Z"
   },
   {
    "duration": 22,
    "start_time": "2021-09-28T12:52:55.683Z"
   },
   {
    "duration": 31,
    "start_time": "2021-09-28T12:52:55.707Z"
   },
   {
    "duration": 18,
    "start_time": "2021-09-28T12:52:55.740Z"
   },
   {
    "duration": 35,
    "start_time": "2021-09-28T12:52:55.761Z"
   },
   {
    "duration": 118,
    "start_time": "2021-09-28T12:52:55.798Z"
   },
   {
    "duration": 143,
    "start_time": "2021-09-28T12:52:55.918Z"
   },
   {
    "duration": 22,
    "start_time": "2021-09-28T12:52:56.064Z"
   },
   {
    "duration": 21,
    "start_time": "2021-09-28T12:52:56.089Z"
   },
   {
    "duration": 10,
    "start_time": "2021-09-28T12:52:56.112Z"
   },
   {
    "duration": 28,
    "start_time": "2021-09-28T12:52:56.123Z"
   },
   {
    "duration": 64,
    "start_time": "2021-09-28T12:52:56.153Z"
   },
   {
    "duration": 14,
    "start_time": "2021-09-28T12:52:56.219Z"
   },
   {
    "duration": 20,
    "start_time": "2021-09-28T12:52:56.235Z"
   },
   {
    "duration": 16,
    "start_time": "2021-09-28T12:52:56.257Z"
   },
   {
    "duration": 24,
    "start_time": "2021-09-28T12:52:56.275Z"
   },
   {
    "duration": 19,
    "start_time": "2021-09-28T12:52:56.301Z"
   },
   {
    "duration": 68,
    "start_time": "2021-09-28T12:52:56.322Z"
   },
   {
    "duration": 6,
    "start_time": "2021-09-28T12:52:56.392Z"
   },
   {
    "duration": 10,
    "start_time": "2021-09-28T12:52:56.400Z"
   },
   {
    "duration": 1213,
    "start_time": "2021-09-28T12:53:06.847Z"
   },
   {
    "duration": 409,
    "start_time": "2021-09-28T12:53:11.527Z"
   },
   {
    "duration": 25,
    "start_time": "2021-09-28T12:53:15.787Z"
   },
   {
    "duration": 14,
    "start_time": "2021-09-28T12:53:19.047Z"
   },
   {
    "duration": 6,
    "start_time": "2021-09-28T12:53:22.287Z"
   },
   {
    "duration": 23,
    "start_time": "2021-09-28T12:53:23.355Z"
   },
   {
    "duration": 105,
    "start_time": "2021-09-28T12:53:24.897Z"
   },
   {
    "duration": 10,
    "start_time": "2021-09-28T12:53:26.025Z"
   },
   {
    "duration": 19,
    "start_time": "2021-09-28T12:53:30.817Z"
   },
   {
    "duration": 9,
    "start_time": "2021-09-28T12:53:35.207Z"
   },
   {
    "duration": 4,
    "start_time": "2021-09-28T12:54:39.554Z"
   },
   {
    "duration": 16,
    "start_time": "2021-09-28T12:54:40.765Z"
   },
   {
    "duration": 46,
    "start_time": "2021-09-28T12:54:41.663Z"
   },
   {
    "duration": 13,
    "start_time": "2021-09-28T12:54:43.387Z"
   },
   {
    "duration": 15,
    "start_time": "2021-09-28T12:54:46.872Z"
   },
   {
    "duration": 7,
    "start_time": "2021-09-28T12:54:50.587Z"
   },
   {
    "duration": 4,
    "start_time": "2021-09-28T12:54:54.653Z"
   },
   {
    "duration": 14,
    "start_time": "2021-09-28T12:54:55.416Z"
   },
   {
    "duration": 46,
    "start_time": "2021-09-28T12:54:56.390Z"
   },
   {
    "duration": 10,
    "start_time": "2021-09-28T12:54:59.603Z"
   },
   {
    "duration": 4,
    "start_time": "2021-09-28T12:55:03.473Z"
   },
   {
    "duration": 8,
    "start_time": "2021-09-28T12:55:04.133Z"
   },
   {
    "duration": 4,
    "start_time": "2021-09-28T12:55:04.863Z"
   },
   {
    "duration": 7,
    "start_time": "2021-09-28T12:55:05.563Z"
   },
   {
    "duration": 7,
    "start_time": "2021-09-28T12:55:06.363Z"
   },
   {
    "duration": 8,
    "start_time": "2021-09-28T12:55:09.633Z"
   },
   {
    "duration": 13,
    "start_time": "2021-09-28T12:55:13.423Z"
   },
   {
    "duration": 5,
    "start_time": "2021-09-28T12:55:14.433Z"
   },
   {
    "duration": 7,
    "start_time": "2021-09-28T12:55:18.023Z"
   },
   {
    "duration": 6,
    "start_time": "2021-09-28T12:55:19.003Z"
   },
   {
    "duration": 8,
    "start_time": "2021-09-28T12:55:20.043Z"
   },
   {
    "duration": 8,
    "start_time": "2021-09-28T12:55:20.853Z"
   },
   {
    "duration": 7,
    "start_time": "2021-09-28T12:55:21.974Z"
   },
   {
    "duration": 8,
    "start_time": "2021-09-28T12:55:23.124Z"
   },
   {
    "duration": 6,
    "start_time": "2021-09-28T12:55:27.723Z"
   },
   {
    "duration": 7,
    "start_time": "2021-09-28T12:55:28.704Z"
   },
   {
    "duration": 7,
    "start_time": "2021-09-28T12:55:30.033Z"
   },
   {
    "duration": 10,
    "start_time": "2021-09-28T12:55:35.584Z"
   },
   {
    "duration": 67,
    "start_time": "2021-09-28T12:55:40.724Z"
   },
   {
    "duration": 8,
    "start_time": "2021-09-28T12:55:42.854Z"
   },
   {
    "duration": 19,
    "start_time": "2021-09-28T12:55:43.623Z"
   },
   {
    "duration": 12,
    "start_time": "2021-09-28T12:55:44.793Z"
   },
   {
    "duration": 14,
    "start_time": "2021-09-28T12:55:45.513Z"
   },
   {
    "duration": 3,
    "start_time": "2021-09-28T12:55:49.973Z"
   },
   {
    "duration": 9,
    "start_time": "2021-09-28T12:55:50.683Z"
   },
   {
    "duration": 4,
    "start_time": "2021-09-28T12:55:54.853Z"
   },
   {
    "duration": 82,
    "start_time": "2021-09-28T12:55:58.532Z"
   },
   {
    "duration": 53,
    "start_time": "2021-09-28T12:56:02.693Z"
   },
   {
    "duration": 48,
    "start_time": "2021-09-28T12:56:06.183Z"
   },
   {
    "duration": 7,
    "start_time": "2021-09-28T12:56:08.822Z"
   },
   {
    "duration": 7,
    "start_time": "2021-09-28T12:56:13.493Z"
   },
   {
    "duration": 8,
    "start_time": "2021-09-28T12:56:17.343Z"
   },
   {
    "duration": 8,
    "start_time": "2021-09-28T12:56:18.273Z"
   },
   {
    "duration": 11,
    "start_time": "2021-09-28T12:56:22.776Z"
   },
   {
    "duration": 7,
    "start_time": "2021-09-28T12:56:24.312Z"
   },
   {
    "duration": 16,
    "start_time": "2021-09-28T12:56:25.644Z"
   },
   {
    "duration": 4,
    "start_time": "2021-09-28T12:56:29.453Z"
   },
   {
    "duration": 123,
    "start_time": "2021-09-28T12:56:33.723Z"
   },
   {
    "duration": 16,
    "start_time": "2021-09-28T12:56:34.593Z"
   },
   {
    "duration": 452,
    "start_time": "2021-09-28T12:56:35.661Z"
   },
   {
    "duration": 433,
    "start_time": "2021-09-28T12:56:40.663Z"
   },
   {
    "duration": 7,
    "start_time": "2021-09-28T12:56:45.706Z"
   },
   {
    "duration": 16,
    "start_time": "2021-09-28T12:56:46.523Z"
   },
   {
    "duration": 7,
    "start_time": "2021-09-28T12:56:47.593Z"
   },
   {
    "duration": 9,
    "start_time": "2021-09-28T12:56:48.603Z"
   },
   {
    "duration": 7,
    "start_time": "2021-09-28T12:56:53.373Z"
   },
   {
    "duration": 10,
    "start_time": "2021-09-28T12:56:58.515Z"
   },
   {
    "duration": 14,
    "start_time": "2021-09-28T12:57:03.153Z"
   },
   {
    "duration": 11,
    "start_time": "2021-09-28T12:57:08.413Z"
   },
   {
    "duration": 12,
    "start_time": "2021-09-28T12:57:13.333Z"
   },
   {
    "duration": 15,
    "start_time": "2021-09-28T12:57:16.792Z"
   },
   {
    "duration": 421,
    "start_time": "2021-09-28T12:57:20.744Z"
   },
   {
    "duration": 12,
    "start_time": "2021-09-28T12:57:32.803Z"
   },
   {
    "duration": 12,
    "start_time": "2021-09-28T12:57:37.803Z"
   },
   {
    "duration": 4,
    "start_time": "2021-09-28T12:57:45.423Z"
   },
   {
    "duration": 633,
    "start_time": "2021-09-28T12:57:48.323Z"
   },
   {
    "duration": 615,
    "start_time": "2021-09-28T12:57:54.284Z"
   },
   {
    "duration": 560,
    "start_time": "2021-09-28T12:57:59.898Z"
   },
   {
    "duration": 1109,
    "start_time": "2021-09-28T12:58:03.353Z"
   },
   {
    "duration": 615,
    "start_time": "2021-09-28T12:58:20.503Z"
   },
   {
    "duration": 522,
    "start_time": "2021-09-28T13:00:06.871Z"
   },
   {
    "duration": 488,
    "start_time": "2021-09-28T13:00:28.265Z"
   },
   {
    "duration": 252,
    "start_time": "2021-09-28T14:39:38.834Z"
   },
   {
    "duration": 80,
    "start_time": "2021-09-28T14:40:34.124Z"
   },
   {
    "duration": 87,
    "start_time": "2021-09-28T14:41:41.028Z"
   },
   {
    "duration": 90,
    "start_time": "2021-09-28T14:43:17.742Z"
   },
   {
    "duration": 86,
    "start_time": "2021-09-28T14:44:28.218Z"
   },
   {
    "duration": 86,
    "start_time": "2021-09-28T14:50:23.226Z"
   },
   {
    "duration": 85,
    "start_time": "2021-09-28T14:51:31.284Z"
   },
   {
    "duration": 251,
    "start_time": "2021-09-28T14:52:07.775Z"
   },
   {
    "duration": 102216,
    "start_time": "2021-09-28T14:56:02.899Z"
   },
   {
    "duration": 259,
    "start_time": "2021-09-28T14:58:17.163Z"
   },
   {
    "duration": 281,
    "start_time": "2021-09-28T15:01:06.094Z"
   },
   {
    "duration": 280,
    "start_time": "2021-09-28T15:02:25.819Z"
   },
   {
    "duration": 23,
    "start_time": "2021-09-28T15:04:48.920Z"
   },
   {
    "duration": 292,
    "start_time": "2021-09-28T15:06:44.179Z"
   },
   {
    "duration": 21,
    "start_time": "2021-09-28T15:07:12.609Z"
   },
   {
    "duration": 253,
    "start_time": "2021-09-28T15:08:47.159Z"
   },
   {
    "duration": 31,
    "start_time": "2021-09-28T15:09:06.639Z"
   },
   {
    "duration": 262,
    "start_time": "2021-09-28T15:10:36.819Z"
   },
   {
    "duration": 22,
    "start_time": "2021-09-28T15:10:53.262Z"
   },
   {
    "duration": 15,
    "start_time": "2021-09-28T15:17:40.392Z"
   },
   {
    "duration": 13,
    "start_time": "2021-09-28T15:17:46.398Z"
   },
   {
    "duration": 7736,
    "start_time": "2021-09-28T15:18:36.917Z"
   },
   {
    "duration": 6,
    "start_time": "2021-09-28T15:24:08.757Z"
   },
   {
    "duration": 90,
    "start_time": "2021-09-28T15:30:29.187Z"
   },
   {
    "duration": 6,
    "start_time": "2021-09-28T15:33:27.419Z"
   },
   {
    "duration": 709,
    "start_time": "2021-09-28T15:34:45.743Z"
   },
   {
    "duration": 12,
    "start_time": "2021-09-28T15:35:15.747Z"
   },
   {
    "duration": 17,
    "start_time": "2021-09-28T15:38:21.354Z"
   },
   {
    "duration": 1182,
    "start_time": "2021-09-28T15:45:12.775Z"
   },
   {
    "duration": 1158,
    "start_time": "2021-09-28T15:45:27.375Z"
   },
   {
    "duration": 458,
    "start_time": "2021-09-28T15:45:31.494Z"
   },
   {
    "duration": 21,
    "start_time": "2021-09-28T15:45:35.713Z"
   },
   {
    "duration": 11,
    "start_time": "2021-09-28T15:45:38.964Z"
   },
   {
    "duration": 5,
    "start_time": "2021-09-28T15:45:42.613Z"
   },
   {
    "duration": 20,
    "start_time": "2021-09-28T15:45:43.473Z"
   },
   {
    "duration": 107,
    "start_time": "2021-09-28T15:45:44.323Z"
   },
   {
    "duration": 11,
    "start_time": "2021-09-28T15:45:45.314Z"
   },
   {
    "duration": 18,
    "start_time": "2021-09-28T15:45:49.603Z"
   },
   {
    "duration": 9,
    "start_time": "2021-09-28T15:45:53.076Z"
   },
   {
    "duration": 5,
    "start_time": "2021-09-28T15:45:54.016Z"
   },
   {
    "duration": 18,
    "start_time": "2021-09-28T15:45:54.854Z"
   },
   {
    "duration": 53,
    "start_time": "2021-09-28T15:45:55.913Z"
   },
   {
    "duration": 14,
    "start_time": "2021-09-28T15:45:56.893Z"
   },
   {
    "duration": 17,
    "start_time": "2021-09-28T15:46:01.223Z"
   },
   {
    "duration": 8,
    "start_time": "2021-09-28T15:46:05.164Z"
   },
   {
    "duration": 4,
    "start_time": "2021-09-28T15:46:05.983Z"
   },
   {
    "duration": 15,
    "start_time": "2021-09-28T15:46:06.963Z"
   },
   {
    "duration": 45,
    "start_time": "2021-09-28T15:46:07.863Z"
   },
   {
    "duration": 6,
    "start_time": "2021-09-28T15:46:11.904Z"
   },
   {
    "duration": 4,
    "start_time": "2021-09-28T15:46:16.473Z"
   },
   {
    "duration": 9,
    "start_time": "2021-09-28T15:46:17.193Z"
   },
   {
    "duration": 5,
    "start_time": "2021-09-28T15:46:17.873Z"
   },
   {
    "duration": 7,
    "start_time": "2021-09-28T15:46:19.563Z"
   },
   {
    "duration": 7,
    "start_time": "2021-09-28T15:46:20.713Z"
   },
   {
    "duration": 10,
    "start_time": "2021-09-28T15:46:27.055Z"
   },
   {
    "duration": 11,
    "start_time": "2021-09-28T15:46:32.203Z"
   },
   {
    "duration": 4,
    "start_time": "2021-09-28T15:46:33.193Z"
   },
   {
    "duration": 9,
    "start_time": "2021-09-28T15:46:37.154Z"
   },
   {
    "duration": 7,
    "start_time": "2021-09-28T15:46:38.244Z"
   },
   {
    "duration": 7,
    "start_time": "2021-09-28T15:46:39.423Z"
   },
   {
    "duration": 8,
    "start_time": "2021-09-28T15:46:40.443Z"
   },
   {
    "duration": 7,
    "start_time": "2021-09-28T15:46:42.623Z"
   },
   {
    "duration": 6,
    "start_time": "2021-09-28T15:46:46.583Z"
   },
   {
    "duration": 6,
    "start_time": "2021-09-28T15:46:50.293Z"
   },
   {
    "duration": 7,
    "start_time": "2021-09-28T15:46:51.313Z"
   },
   {
    "duration": 8,
    "start_time": "2021-09-28T15:46:53.223Z"
   },
   {
    "duration": 10,
    "start_time": "2021-09-28T15:46:58.483Z"
   },
   {
    "duration": 72,
    "start_time": "2021-09-28T15:47:03.344Z"
   },
   {
    "duration": 7,
    "start_time": "2021-09-28T15:47:04.464Z"
   },
   {
    "duration": 19,
    "start_time": "2021-09-28T15:47:05.493Z"
   },
   {
    "duration": 13,
    "start_time": "2021-09-28T15:47:06.724Z"
   },
   {
    "duration": 14,
    "start_time": "2021-09-28T15:47:08.024Z"
   },
   {
    "duration": 4,
    "start_time": "2021-09-28T15:47:12.864Z"
   },
   {
    "duration": 9,
    "start_time": "2021-09-28T15:47:13.873Z"
   },
   {
    "duration": 4,
    "start_time": "2021-09-28T15:47:18.113Z"
   },
   {
    "duration": 84,
    "start_time": "2021-09-28T15:47:24.553Z"
   },
   {
    "duration": 49,
    "start_time": "2021-09-28T15:47:28.693Z"
   },
   {
    "duration": 46,
    "start_time": "2021-09-28T15:47:32.583Z"
   },
   {
    "duration": 7,
    "start_time": "2021-09-28T15:47:33.733Z"
   },
   {
    "duration": 7,
    "start_time": "2021-09-28T15:47:42.823Z"
   },
   {
    "duration": 7,
    "start_time": "2021-09-28T15:47:47.933Z"
   },
   {
    "duration": 12,
    "start_time": "2021-09-28T15:47:48.854Z"
   },
   {
    "duration": 11,
    "start_time": "2021-09-28T15:47:52.713Z"
   },
   {
    "duration": 7,
    "start_time": "2021-09-28T15:47:53.674Z"
   },
   {
    "duration": 18,
    "start_time": "2021-09-28T15:47:54.727Z"
   },
   {
    "duration": 4,
    "start_time": "2021-09-28T15:47:59.942Z"
   },
   {
    "duration": 133,
    "start_time": "2021-09-28T15:48:06.892Z"
   },
   {
    "duration": 16,
    "start_time": "2021-09-28T15:48:08.114Z"
   },
   {
    "duration": 484,
    "start_time": "2021-09-28T15:48:09.354Z"
   },
   {
    "duration": 452,
    "start_time": "2021-09-28T15:48:14.903Z"
   },
   {
    "duration": 9,
    "start_time": "2021-09-28T15:48:19.943Z"
   },
   {
    "duration": 19,
    "start_time": "2021-09-28T15:48:20.764Z"
   },
   {
    "duration": 6,
    "start_time": "2021-09-28T15:48:21.502Z"
   },
   {
    "duration": 8,
    "start_time": "2021-09-28T15:48:22.195Z"
   },
   {
    "duration": 11,
    "start_time": "2021-09-28T15:48:25.654Z"
   },
   {
    "duration": 10,
    "start_time": "2021-09-28T15:48:26.773Z"
   },
   {
    "duration": 12,
    "start_time": "2021-09-28T15:48:38.074Z"
   },
   {
    "duration": 10,
    "start_time": "2021-09-28T15:48:38.874Z"
   },
   {
    "duration": 11,
    "start_time": "2021-09-28T15:48:40.013Z"
   },
   {
    "duration": 13,
    "start_time": "2021-09-28T15:48:45.431Z"
   },
   {
    "duration": 422,
    "start_time": "2021-09-28T15:48:46.857Z"
   },
   {
    "duration": 13,
    "start_time": "2021-09-28T15:48:57.335Z"
   },
   {
    "duration": 13,
    "start_time": "2021-09-28T15:49:00.774Z"
   },
   {
    "duration": 5,
    "start_time": "2021-09-28T15:49:04.233Z"
   },
   {
    "duration": 618,
    "start_time": "2021-09-28T15:49:11.943Z"
   },
   {
    "duration": 675,
    "start_time": "2021-09-28T15:49:16.723Z"
   },
   {
    "duration": 565,
    "start_time": "2021-09-28T15:49:19.933Z"
   },
   {
    "duration": 954,
    "start_time": "2021-09-28T15:49:23.744Z"
   },
   {
    "duration": 174,
    "start_time": "2021-09-28T15:49:32.913Z"
   },
   {
    "duration": 18,
    "start_time": "2021-09-28T15:49:41.313Z"
   },
   {
    "duration": 25,
    "start_time": "2021-09-28T15:49:46.414Z"
   },
   {
    "duration": 6,
    "start_time": "2021-09-28T15:49:53.593Z"
   },
   {
    "duration": 14,
    "start_time": "2021-09-28T15:50:01.463Z"
   },
   {
    "duration": 14,
    "start_time": "2021-09-28T17:04:46.158Z"
   },
   {
    "duration": 381,
    "start_time": "2021-09-28T17:07:27.968Z"
   },
   {
    "duration": 889,
    "start_time": "2021-09-28T17:10:58.680Z"
   },
   {
    "duration": 12,
    "start_time": "2021-09-28T17:11:10.890Z"
   },
   {
    "duration": 11,
    "start_time": "2021-09-28T17:11:19.350Z"
   },
   {
    "duration": 343,
    "start_time": "2021-09-28T17:13:18.330Z"
   },
   {
    "duration": 1136,
    "start_time": "2021-09-28T17:14:28.727Z"
   },
   {
    "duration": 17,
    "start_time": "2021-09-28T17:15:54.510Z"
   },
   {
    "duration": 350,
    "start_time": "2021-09-28T17:17:03.230Z"
   },
   {
    "duration": 5,
    "start_time": "2021-09-28T18:04:15.648Z"
   },
   {
    "duration": 1206,
    "start_time": "2021-09-28T18:04:41.909Z"
   },
   {
    "duration": 426,
    "start_time": "2021-09-28T18:04:46.919Z"
   },
   {
    "duration": 22,
    "start_time": "2021-09-28T18:04:53.539Z"
   },
   {
    "duration": 11,
    "start_time": "2021-09-28T18:04:58.510Z"
   },
   {
    "duration": 5,
    "start_time": "2021-09-28T18:04:59.329Z"
   },
   {
    "duration": 21,
    "start_time": "2021-09-28T18:05:00.359Z"
   },
   {
    "duration": 127,
    "start_time": "2021-09-28T18:05:01.129Z"
   },
   {
    "duration": 11,
    "start_time": "2021-09-28T18:05:02.529Z"
   },
   {
    "duration": 17,
    "start_time": "2021-09-28T18:05:06.509Z"
   },
   {
    "duration": 8,
    "start_time": "2021-09-28T18:05:10.701Z"
   },
   {
    "duration": 3,
    "start_time": "2021-09-28T18:05:11.570Z"
   },
   {
    "duration": 17,
    "start_time": "2021-09-28T18:05:12.399Z"
   },
   {
    "duration": 50,
    "start_time": "2021-09-28T18:05:13.359Z"
   },
   {
    "duration": 13,
    "start_time": "2021-09-28T18:05:14.340Z"
   },
   {
    "duration": 15,
    "start_time": "2021-09-28T18:05:18.508Z"
   },
   {
    "duration": 7,
    "start_time": "2021-09-28T18:05:22.679Z"
   },
   {
    "duration": 5,
    "start_time": "2021-09-28T18:05:23.578Z"
   },
   {
    "duration": 16,
    "start_time": "2021-09-28T18:05:24.389Z"
   },
   {
    "duration": 50,
    "start_time": "2021-09-28T18:05:25.289Z"
   },
   {
    "duration": 6,
    "start_time": "2021-09-28T18:05:29.626Z"
   },
   {
    "duration": 5,
    "start_time": "2021-09-28T18:05:33.458Z"
   },
   {
    "duration": 8,
    "start_time": "2021-09-28T18:05:34.189Z"
   },
   {
    "duration": 4,
    "start_time": "2021-09-28T18:05:35.089Z"
   },
   {
    "duration": 7,
    "start_time": "2021-09-28T18:05:35.948Z"
   },
   {
    "duration": 6,
    "start_time": "2021-09-28T18:05:36.859Z"
   },
   {
    "duration": 7,
    "start_time": "2021-09-28T18:05:40.998Z"
   },
   {
    "duration": 11,
    "start_time": "2021-09-28T18:05:44.959Z"
   },
   {
    "duration": 4,
    "start_time": "2021-09-28T18:05:45.789Z"
   },
   {
    "duration": 7,
    "start_time": "2021-09-28T18:05:47.598Z"
   },
   {
    "duration": 7,
    "start_time": "2021-09-28T18:05:49.418Z"
   },
   {
    "duration": 7,
    "start_time": "2021-09-28T18:06:02.019Z"
   },
   {
    "duration": 7,
    "start_time": "2021-09-28T18:06:03.108Z"
   },
   {
    "duration": 7,
    "start_time": "2021-09-28T18:06:05.499Z"
   },
   {
    "duration": 5,
    "start_time": "2021-09-28T18:06:07.149Z"
   },
   {
    "duration": 7,
    "start_time": "2021-09-28T18:06:12.749Z"
   },
   {
    "duration": 6,
    "start_time": "2021-09-28T18:06:13.709Z"
   },
   {
    "duration": 7,
    "start_time": "2021-09-28T18:06:15.119Z"
   },
   {
    "duration": 12,
    "start_time": "2021-09-28T18:06:21.289Z"
   },
   {
    "duration": 69,
    "start_time": "2021-09-28T18:06:25.489Z"
   },
   {
    "duration": 7,
    "start_time": "2021-09-28T18:06:29.049Z"
   },
   {
    "duration": 26,
    "start_time": "2021-09-28T18:06:29.990Z"
   },
   {
    "duration": 12,
    "start_time": "2021-09-28T18:06:30.930Z"
   },
   {
    "duration": 14,
    "start_time": "2021-09-28T18:06:33.098Z"
   },
   {
    "duration": 3,
    "start_time": "2021-09-28T18:06:37.386Z"
   },
   {
    "duration": 8,
    "start_time": "2021-09-28T18:06:38.289Z"
   },
   {
    "duration": 4,
    "start_time": "2021-09-28T18:06:42.069Z"
   },
   {
    "duration": 97,
    "start_time": "2021-09-28T18:06:46.259Z"
   },
   {
    "duration": 56,
    "start_time": "2021-09-28T18:06:54.020Z"
   },
   {
    "duration": 48,
    "start_time": "2021-09-28T18:06:58.610Z"
   },
   {
    "duration": 7,
    "start_time": "2021-09-28T18:07:01.757Z"
   },
   {
    "duration": 6,
    "start_time": "2021-09-28T18:07:06.080Z"
   },
   {
    "duration": 7,
    "start_time": "2021-09-28T18:07:09.769Z"
   },
   {
    "duration": 10,
    "start_time": "2021-09-28T18:07:10.638Z"
   },
   {
    "duration": 12,
    "start_time": "2021-09-28T18:07:15.940Z"
   },
   {
    "duration": 8,
    "start_time": "2021-09-28T18:07:16.809Z"
   },
   {
    "duration": 16,
    "start_time": "2021-09-28T18:07:17.609Z"
   },
   {
    "duration": 5,
    "start_time": "2021-09-28T18:07:21.589Z"
   },
   {
    "duration": 120,
    "start_time": "2021-09-28T18:07:27.349Z"
   },
   {
    "duration": 17,
    "start_time": "2021-09-28T18:07:28.352Z"
   },
   {
    "duration": 455,
    "start_time": "2021-09-28T18:07:29.394Z"
   },
   {
    "duration": 429,
    "start_time": "2021-09-28T18:07:34.629Z"
   },
   {
    "duration": 8,
    "start_time": "2021-09-28T18:07:40.400Z"
   },
   {
    "duration": 18,
    "start_time": "2021-09-28T18:07:41.299Z"
   },
   {
    "duration": 6,
    "start_time": "2021-09-28T18:07:42.080Z"
   },
   {
    "duration": 9,
    "start_time": "2021-09-28T18:07:42.801Z"
   },
   {
    "duration": 7,
    "start_time": "2021-09-28T18:07:46.271Z"
   },
   {
    "duration": 10,
    "start_time": "2021-09-28T18:07:47.200Z"
   },
   {
    "duration": 13,
    "start_time": "2021-09-28T18:07:51.100Z"
   },
   {
    "duration": 9,
    "start_time": "2021-09-28T18:07:51.850Z"
   },
   {
    "duration": 10,
    "start_time": "2021-09-28T18:07:52.742Z"
   },
   {
    "duration": 13,
    "start_time": "2021-09-28T18:07:56.812Z"
   },
   {
    "duration": 380,
    "start_time": "2021-09-28T18:07:59.539Z"
   },
   {
    "duration": 12,
    "start_time": "2021-09-28T18:08:12.470Z"
   },
   {
    "duration": 13,
    "start_time": "2021-09-28T18:08:13.560Z"
   },
   {
    "duration": 4,
    "start_time": "2021-09-28T18:08:20.108Z"
   },
   {
    "duration": 812,
    "start_time": "2021-09-28T18:08:21.219Z"
   },
   {
    "duration": 584,
    "start_time": "2021-09-28T18:08:28.080Z"
   },
   {
    "duration": 538,
    "start_time": "2021-09-28T18:08:32.650Z"
   },
   {
    "duration": 880,
    "start_time": "2021-09-28T18:08:37.360Z"
   },
   {
    "duration": 109,
    "start_time": "2021-09-28T18:08:46.661Z"
   },
   {
    "duration": 15,
    "start_time": "2021-09-28T18:08:52.935Z"
   },
   {
    "duration": 14,
    "start_time": "2021-09-28T18:08:54.210Z"
   },
   {
    "duration": 5,
    "start_time": "2021-09-28T18:08:59.330Z"
   },
   {
    "duration": 14,
    "start_time": "2021-09-28T18:09:03.870Z"
   },
   {
    "duration": 375,
    "start_time": "2021-09-28T18:09:08.910Z"
   },
   {
    "duration": 11,
    "start_time": "2021-09-28T18:09:14.350Z"
   },
   {
    "duration": 16,
    "start_time": "2021-09-28T18:09:17.510Z"
   },
   {
    "duration": 396,
    "start_time": "2021-09-28T18:09:20.180Z"
   },
   {
    "duration": 311,
    "start_time": "2021-09-29T14:58:10.309Z"
   },
   {
    "duration": 4,
    "start_time": "2021-09-29T14:58:13.249Z"
   },
   {
    "duration": 8,
    "start_time": "2021-09-29T14:58:15.191Z"
   },
   {
    "duration": 913,
    "start_time": "2021-09-29T15:00:01.934Z"
   },
   {
    "duration": 1176,
    "start_time": "2021-09-29T15:00:05.343Z"
   },
   {
    "duration": 404,
    "start_time": "2021-09-29T15:00:06.521Z"
   },
   {
    "duration": 21,
    "start_time": "2021-09-29T15:00:06.928Z"
   },
   {
    "duration": 9,
    "start_time": "2021-09-29T15:00:06.951Z"
   },
   {
    "duration": 6,
    "start_time": "2021-09-29T15:00:06.962Z"
   },
   {
    "duration": 25,
    "start_time": "2021-09-29T15:00:06.970Z"
   },
   {
    "duration": 101,
    "start_time": "2021-09-29T15:00:06.997Z"
   },
   {
    "duration": 8,
    "start_time": "2021-09-29T15:00:07.101Z"
   },
   {
    "duration": 26,
    "start_time": "2021-09-29T15:00:07.112Z"
   },
   {
    "duration": 8,
    "start_time": "2021-09-29T15:00:07.140Z"
   },
   {
    "duration": 6,
    "start_time": "2021-09-29T15:00:07.150Z"
   },
   {
    "duration": 16,
    "start_time": "2021-09-29T15:00:07.177Z"
   },
   {
    "duration": 52,
    "start_time": "2021-09-29T15:00:07.195Z"
   },
   {
    "duration": 9,
    "start_time": "2021-09-29T15:00:07.249Z"
   },
   {
    "duration": 28,
    "start_time": "2021-09-29T15:00:07.260Z"
   },
   {
    "duration": 9,
    "start_time": "2021-09-29T15:00:07.290Z"
   },
   {
    "duration": 10,
    "start_time": "2021-09-29T15:00:07.302Z"
   },
   {
    "duration": 22,
    "start_time": "2021-09-29T15:00:07.314Z"
   },
   {
    "duration": 101,
    "start_time": "2021-09-29T15:00:07.339Z"
   },
   {
    "duration": 9,
    "start_time": "2021-09-29T15:00:07.442Z"
   },
   {
    "duration": 9,
    "start_time": "2021-09-29T15:00:07.453Z"
   },
   {
    "duration": 9,
    "start_time": "2021-09-29T15:00:07.477Z"
   },
   {
    "duration": 5,
    "start_time": "2021-09-29T15:00:07.493Z"
   },
   {
    "duration": 6,
    "start_time": "2021-09-29T15:00:07.501Z"
   },
   {
    "duration": 15,
    "start_time": "2021-09-29T15:00:07.509Z"
   },
   {
    "duration": 8,
    "start_time": "2021-09-29T15:00:07.527Z"
   },
   {
    "duration": 41,
    "start_time": "2021-09-29T15:00:07.537Z"
   },
   {
    "duration": 4,
    "start_time": "2021-09-29T15:00:07.580Z"
   },
   {
    "duration": 8,
    "start_time": "2021-09-29T15:00:07.586Z"
   },
   {
    "duration": 6,
    "start_time": "2021-09-29T15:00:07.596Z"
   },
   {
    "duration": 10,
    "start_time": "2021-09-29T15:00:07.604Z"
   },
   {
    "duration": 13,
    "start_time": "2021-09-29T15:00:07.615Z"
   },
   {
    "duration": 12,
    "start_time": "2021-09-29T15:00:07.629Z"
   },
   {
    "duration": 35,
    "start_time": "2021-09-29T15:00:07.643Z"
   },
   {
    "duration": 11,
    "start_time": "2021-09-29T15:00:07.680Z"
   },
   {
    "duration": 12,
    "start_time": "2021-09-29T15:00:07.693Z"
   },
   {
    "duration": 8,
    "start_time": "2021-09-29T15:00:07.707Z"
   },
   {
    "duration": 9,
    "start_time": "2021-09-29T15:00:07.717Z"
   },
   {
    "duration": 83,
    "start_time": "2021-09-29T15:00:07.728Z"
   },
   {
    "duration": 7,
    "start_time": "2021-09-29T15:00:07.813Z"
   },
   {
    "duration": 30,
    "start_time": "2021-09-29T15:00:07.822Z"
   },
   {
    "duration": 11,
    "start_time": "2021-09-29T15:00:07.854Z"
   },
   {
    "duration": 13,
    "start_time": "2021-09-29T15:00:07.877Z"
   },
   {
    "duration": 3,
    "start_time": "2021-09-29T15:00:07.892Z"
   },
   {
    "duration": 17,
    "start_time": "2021-09-29T15:00:07.897Z"
   },
   {
    "duration": 6,
    "start_time": "2021-09-29T15:00:07.916Z"
   },
   {
    "duration": 98,
    "start_time": "2021-09-29T15:00:07.924Z"
   },
   {
    "duration": 56,
    "start_time": "2021-09-29T15:00:08.024Z"
   },
   {
    "duration": 46,
    "start_time": "2021-09-29T15:00:08.081Z"
   },
   {
    "duration": 6,
    "start_time": "2021-09-29T15:00:08.129Z"
   },
   {
    "duration": 7,
    "start_time": "2021-09-29T15:00:08.137Z"
   },
   {
    "duration": 31,
    "start_time": "2021-09-29T15:00:08.146Z"
   },
   {
    "duration": 9,
    "start_time": "2021-09-29T15:00:08.179Z"
   },
   {
    "duration": 21,
    "start_time": "2021-09-29T15:00:08.190Z"
   },
   {
    "duration": 14,
    "start_time": "2021-09-29T15:00:08.213Z"
   },
   {
    "duration": 24,
    "start_time": "2021-09-29T15:00:08.230Z"
   },
   {
    "duration": 22,
    "start_time": "2021-09-29T15:00:08.257Z"
   },
   {
    "duration": 6,
    "start_time": "2021-09-29T15:00:08.281Z"
   },
   {
    "duration": 228,
    "start_time": "2021-09-29T15:00:08.289Z"
   },
   {
    "duration": 25,
    "start_time": "2021-09-29T15:00:08.520Z"
   },
   {
    "duration": 640,
    "start_time": "2021-09-29T15:00:08.548Z"
   },
   {
    "duration": 670,
    "start_time": "2021-09-29T15:00:09.191Z"
   },
   {
    "duration": 16,
    "start_time": "2021-09-29T15:00:09.864Z"
   },
   {
    "duration": 28,
    "start_time": "2021-09-29T15:00:09.882Z"
   },
   {
    "duration": 9,
    "start_time": "2021-09-29T15:00:09.913Z"
   },
   {
    "duration": 20,
    "start_time": "2021-09-29T15:00:09.925Z"
   },
   {
    "duration": 29,
    "start_time": "2021-09-29T15:00:09.948Z"
   },
   {
    "duration": 15,
    "start_time": "2021-09-29T15:00:09.985Z"
   },
   {
    "duration": 55,
    "start_time": "2021-09-29T15:00:10.003Z"
   },
   {
    "duration": 15,
    "start_time": "2021-09-29T15:00:10.061Z"
   },
   {
    "duration": 20,
    "start_time": "2021-09-29T15:00:10.079Z"
   },
   {
    "duration": 22,
    "start_time": "2021-09-29T15:00:10.102Z"
   },
   {
    "duration": 716,
    "start_time": "2021-09-29T15:00:10.126Z"
   },
   {
    "duration": 11,
    "start_time": "2021-09-29T15:00:10.845Z"
   },
   {
    "duration": 28,
    "start_time": "2021-09-29T15:00:10.858Z"
   },
   {
    "duration": 5,
    "start_time": "2021-09-29T15:00:10.888Z"
   },
   {
    "duration": 726,
    "start_time": "2021-09-29T15:00:10.894Z"
   },
   {
    "duration": 638,
    "start_time": "2021-09-29T15:00:11.621Z"
   },
   {
    "duration": 557,
    "start_time": "2021-09-29T15:00:12.260Z"
   },
   {
    "duration": 952,
    "start_time": "2021-09-29T15:00:12.819Z"
   },
   {
    "duration": 110,
    "start_time": "2021-09-29T15:00:13.773Z"
   },
   {
    "duration": 13,
    "start_time": "2021-09-29T15:00:13.884Z"
   },
   {
    "duration": 12,
    "start_time": "2021-09-29T15:00:13.899Z"
   },
   {
    "duration": 8,
    "start_time": "2021-09-29T15:00:13.913Z"
   },
   {
    "duration": 16,
    "start_time": "2021-09-29T15:00:13.923Z"
   },
   {
    "duration": 435,
    "start_time": "2021-09-29T15:00:13.942Z"
   },
   {
    "duration": 11,
    "start_time": "2021-09-29T15:00:14.380Z"
   },
   {
    "duration": 23,
    "start_time": "2021-09-29T15:00:14.393Z"
   },
   {
    "duration": 395,
    "start_time": "2021-09-29T15:00:14.418Z"
   },
   {
    "duration": 95,
    "start_time": "2021-09-29T15:01:11.114Z"
   }
  ],
  "kernelspec": {
   "display_name": "Python 3 (ipykernel)",
   "language": "python",
   "name": "python3"
  },
  "language_info": {
   "codemirror_mode": {
    "name": "ipython",
    "version": 3
   },
   "file_extension": ".py",
   "mimetype": "text/x-python",
   "name": "python",
   "nbconvert_exporter": "python",
   "pygments_lexer": "ipython3",
   "version": "3.9.7"
  },
  "toc": {
   "base_numbering": 1,
   "nav_menu": {},
   "number_sections": true,
   "sideBar": true,
   "skip_h1_title": true,
   "title_cell": "Table of Contents",
   "title_sidebar": "Contents",
   "toc_cell": false,
   "toc_position": {},
   "toc_section_display": true,
   "toc_window_display": false
  }
 },
 "nbformat": 4,
 "nbformat_minor": 2
}
