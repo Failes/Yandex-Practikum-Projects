{
 "cells": [
  {
   "cell_type": "markdown",
   "metadata": {},
   "source": [
    "# Описание проекта"
   ]
  },
  {
   "cell_type": "markdown",
   "metadata": {},
   "source": [
    "Необходимо приоритизировать гипотезы, запустить A/B-тест и проанализировать результаты."
   ]
  },
  {
   "cell_type": "markdown",
   "metadata": {},
   "source": [
    "**Проект содержит две части.**\n",
    "\n",
    "Часть 1. Приоритизация гипотез.\n",
    "\n",
    "Часть 2. Анализ A/B-теста:\n",
    "\n",
    "• График кумулятивной выручки, среднего чека, конверсии по группам.\n",
    "\n",
    "• График относительного изменения кумулятивного среднего чека, конверсии группы B к группе A.\n",
    "\n",
    "• Точечный график количества заказов по пользователям.\n",
    "\n",
    "• 95-й и 99-й перцентили количества заказов на пользователя.\n",
    "\n",
    "• Точечный график стоимостей заказов.\n",
    "\n",
    "• 95-й и 99-й перцентили стоимости заказов.\n",
    "\n",
    "• Рассчитана статистическая значимость различий в конверсии, в среднем чеке заказа между группами по «сырым» данным.\n",
    "\n",
    "• Рассчитана статистическая значимость различий в конверсии, в среднем чеке заказа между группами по «очищенным» данным.\n",
    "\n",
    "• Выводы по результатам теста."
   ]
  },
  {
   "cell_type": "markdown",
   "metadata": {},
   "source": [
    "## <font color='blue'>Часть 1. Приоритизация гипотез.</font> <a class=\"tocSkip\">"
   ]
  },
  {
   "cell_type": "markdown",
   "metadata": {},
   "source": [
    "***Проверка гипотез чаще всего стоит дорого, а ресурсов не хватает. Приходится выбирать, что будем тестировать, а чему скажем «нет». Чтобы максимизировать ожидаемое улучшение ключевых метрик бизнеса, сформулированные гипотезы приоритизируют.***"
   ]
  },
  {
   "cell_type": "markdown",
   "metadata": {},
   "source": [
    "**Задача:**\n",
    "<br> * Применить фреймворк ICE для приоритизации гипотез. Отсортировать их по убыванию приоритета.\n",
    "<br> * Применить фреймворк RICE для приоритизации гипотез. Отсортировать их по убыванию приоритета.\n",
    "<br> * Указать, как изменилась приоритизация гипотез при применении RICE вместо ICE. Объяснить, почему так произошло."
   ]
  },
  {
   "cell_type": "markdown",
   "metadata": {},
   "source": [
    "### <font color='blue'>Импорт библиотек</font> <a class=\"tocSkip\">"
   ]
  },
  {
   "cell_type": "code",
   "execution_count": 1,
   "metadata": {},
   "outputs": [
    {
     "data": {
      "text/html": [
       "        <script type=\"text/javascript\">\n",
       "        window.PlotlyConfig = {MathJaxConfig: 'local'};\n",
       "        if (window.MathJax) {MathJax.Hub.Config({SVG: {font: \"STIX-Web\"}});}\n",
       "        if (typeof require !== 'undefined') {\n",
       "        require.undef(\"plotly\");\n",
       "        requirejs.config({\n",
       "            paths: {\n",
       "                'plotly': ['https://cdn.plot.ly/plotly-latest.min']\n",
       "            }\n",
       "        });\n",
       "        require(['plotly'], function(Plotly) {\n",
       "            window._Plotly = Plotly;\n",
       "        });\n",
       "        }\n",
       "        </script>\n",
       "        "
      ]
     },
     "metadata": {},
     "output_type": "display_data"
    }
   ],
   "source": [
    "import pandas as pd\n",
    "pd.set_option('max_colwidth', 400)\n",
    "from IPython.display import display\n",
    "import numpy as np\n",
    "import scipy.stats as sps\n",
    "import matplotlib.pyplot as plt\n",
    "import seaborn as sns\n",
    "from scipy import stats as st\n",
    "import math as mth\n",
    "import datetime as dt\n",
    "from collections import defaultdict\n",
    "import warnings\n",
    "warnings.filterwarnings('ignore')\n",
    "import scipy.stats as stats\n",
    "from plotly.offline import download_plotlyjs, init_notebook_mode, plot, iplot\n",
    "import plotly.graph_objs as go\n",
    "init_notebook_mode(connected=True)\n",
    "pd.set_option('display.max_colwidth', -1)"
   ]
  },
  {
   "cell_type": "markdown",
   "metadata": {},
   "source": [
    "### <font color='blue'>Загрузка и изучение данных</font> <a class=\"tocSkip\">"
   ]
  },
  {
   "cell_type": "code",
   "execution_count": 2,
   "metadata": {},
   "outputs": [
    {
     "name": "stdout",
     "output_type": "stream",
     "text": [
      "<class 'pandas.core.frame.DataFrame'>\n",
      "RangeIndex: 9 entries, 0 to 8\n",
      "Data columns (total 5 columns):\n",
      "Hypothesis    9 non-null object\n",
      "Reach         9 non-null int64\n",
      "Impact        9 non-null int64\n",
      "Confidence    9 non-null int64\n",
      "Efforts       9 non-null int64\n",
      "dtypes: int64(4), object(1)\n",
      "memory usage: 488.0+ bytes\n"
     ]
    },
    {
     "data": {
      "text/html": [
       "<div>\n",
       "<style scoped>\n",
       "    .dataframe tbody tr th:only-of-type {\n",
       "        vertical-align: middle;\n",
       "    }\n",
       "\n",
       "    .dataframe tbody tr th {\n",
       "        vertical-align: top;\n",
       "    }\n",
       "\n",
       "    .dataframe thead th {\n",
       "        text-align: right;\n",
       "    }\n",
       "</style>\n",
       "<table border=\"1\" class=\"dataframe\">\n",
       "  <thead>\n",
       "    <tr style=\"text-align: right;\">\n",
       "      <th></th>\n",
       "      <th>Hypothesis</th>\n",
       "      <th>Reach</th>\n",
       "      <th>Impact</th>\n",
       "      <th>Confidence</th>\n",
       "      <th>Efforts</th>\n",
       "    </tr>\n",
       "  </thead>\n",
       "  <tbody>\n",
       "    <tr>\n",
       "      <td>0</td>\n",
       "      <td>Добавить два новых канала привлечения трафика, что позволит привлекать на 30% больше пользователей</td>\n",
       "      <td>3</td>\n",
       "      <td>10</td>\n",
       "      <td>8</td>\n",
       "      <td>6</td>\n",
       "    </tr>\n",
       "    <tr>\n",
       "      <td>1</td>\n",
       "      <td>Запустить собственную службу доставки, что сократит срок доставки заказов</td>\n",
       "      <td>2</td>\n",
       "      <td>5</td>\n",
       "      <td>4</td>\n",
       "      <td>10</td>\n",
       "    </tr>\n",
       "    <tr>\n",
       "      <td>2</td>\n",
       "      <td>Добавить блоки рекомендаций товаров на сайт интернет магазина, чтобы повысить конверсию и средний чек заказа</td>\n",
       "      <td>8</td>\n",
       "      <td>3</td>\n",
       "      <td>7</td>\n",
       "      <td>3</td>\n",
       "    </tr>\n",
       "    <tr>\n",
       "      <td>3</td>\n",
       "      <td>Изменить структура категорий, что увеличит конверсию, т.к. пользователи быстрее найдут нужный товар</td>\n",
       "      <td>8</td>\n",
       "      <td>3</td>\n",
       "      <td>3</td>\n",
       "      <td>8</td>\n",
       "    </tr>\n",
       "    <tr>\n",
       "      <td>4</td>\n",
       "      <td>Изменить цвет фона главной страницы, чтобы увеличить вовлеченность пользователей</td>\n",
       "      <td>3</td>\n",
       "      <td>1</td>\n",
       "      <td>1</td>\n",
       "      <td>1</td>\n",
       "    </tr>\n",
       "    <tr>\n",
       "      <td>5</td>\n",
       "      <td>Добавить страницу отзывов клиентов о магазине, что позволит увеличить количество заказов</td>\n",
       "      <td>3</td>\n",
       "      <td>2</td>\n",
       "      <td>2</td>\n",
       "      <td>3</td>\n",
       "    </tr>\n",
       "    <tr>\n",
       "      <td>6</td>\n",
       "      <td>Показать на главной странице баннеры с актуальными акциями и распродажами, чтобы увеличить конверсию</td>\n",
       "      <td>5</td>\n",
       "      <td>3</td>\n",
       "      <td>8</td>\n",
       "      <td>3</td>\n",
       "    </tr>\n",
       "    <tr>\n",
       "      <td>7</td>\n",
       "      <td>Добавить форму подписки на все основные страницы, чтобы собрать базу клиентов для email-рассылок</td>\n",
       "      <td>10</td>\n",
       "      <td>7</td>\n",
       "      <td>8</td>\n",
       "      <td>5</td>\n",
       "    </tr>\n",
       "    <tr>\n",
       "      <td>8</td>\n",
       "      <td>Запустить акцию, дающую скидку на товар в день рождения</td>\n",
       "      <td>1</td>\n",
       "      <td>9</td>\n",
       "      <td>9</td>\n",
       "      <td>5</td>\n",
       "    </tr>\n",
       "  </tbody>\n",
       "</table>\n",
       "</div>"
      ],
      "text/plain": [
       "                                                                                                     Hypothesis  \\\n",
       "0  Добавить два новых канала привлечения трафика, что позволит привлекать на 30% больше пользователей             \n",
       "1  Запустить собственную службу доставки, что сократит срок доставки заказов                                      \n",
       "2  Добавить блоки рекомендаций товаров на сайт интернет магазина, чтобы повысить конверсию и средний чек заказа   \n",
       "3  Изменить структура категорий, что увеличит конверсию, т.к. пользователи быстрее найдут нужный товар            \n",
       "4  Изменить цвет фона главной страницы, чтобы увеличить вовлеченность пользователей                               \n",
       "5  Добавить страницу отзывов клиентов о магазине, что позволит увеличить количество заказов                       \n",
       "6  Показать на главной странице баннеры с актуальными акциями и распродажами, чтобы увеличить конверсию           \n",
       "7  Добавить форму подписки на все основные страницы, чтобы собрать базу клиентов для email-рассылок               \n",
       "8  Запустить акцию, дающую скидку на товар в день рождения                                                        \n",
       "\n",
       "   Reach  Impact  Confidence  Efforts  \n",
       "0  3      10      8           6        \n",
       "1  2      5       4           10       \n",
       "2  8      3       7           3        \n",
       "3  8      3       3           8        \n",
       "4  3      1       1           1        \n",
       "5  3      2       2           3        \n",
       "6  5      3       8           3        \n",
       "7  10     7       8           5        \n",
       "8  1      9       9           5        "
      ]
     },
     "execution_count": 2,
     "metadata": {},
     "output_type": "execute_result"
    }
   ],
   "source": [
    "hypothesis= pd.read_csv('/datasets/hypothesis.csv')\n",
    "\n",
    "\n",
    "hypothesis.info()\n",
    "hypothesis"
   ]
  },
  {
   "cell_type": "markdown",
   "metadata": {},
   "source": [
    "В файле /datasets/hypothesis.csv 9 гипотез по увеличению выручки интернет-магазина с указанными параметрами Reach, Impact, Confidence, Effort."
   ]
  },
  {
   "cell_type": "markdown",
   "metadata": {},
   "source": [
    "**Описание данных:**"
   ]
  },
  {
   "cell_type": "markdown",
   "metadata": {},
   "source": [
    "**Данные для первой части:**\n",
    "<br> Файл /datasets/hypothesis.csv:\n",
    "<br> * Hypothesis — краткое описание гипотезы;\n",
    "<br> * Reach — охват пользователей по 10-балльной шкале;\n",
    "<br> * Impact — влияние на пользователей по 10-балльной шкале;\n",
    "<br> * Confidence — уверенность в гипотезе по 10-балльной шкале;\n",
    "<br> * Efforts — затраты ресурсов на проверку гипотезы по 10-балльной шкале. Чем больше значение Efforts, тем дороже проверка гипотезы."
   ]
  },
  {
   "cell_type": "markdown",
   "metadata": {},
   "source": [
    "### <font color='blue'>1.1 Применим фреймворк ICE для приоритизации гипотез. Отсортируем их по убыванию приоритета.</font> <a class=\"tocSkip\">"
   ]
  },
  {
   "cell_type": "markdown",
   "metadata": {},
   "source": [
    "***ICE (от англ. impact, confidence, effort / ease «влияние, уверенность, усилия / простота» или impact, confidence / effort «влияние, уверенность/ усилия»)***"
   ]
  },
  {
   "cell_type": "markdown",
   "metadata": {},
   "source": [
    "<br> * Impact — насколько сильно изменение повлияет на пользователей, их опыт и удовлетворение от продукта;\n",
    "<br> * Confidence — насколько вы уверены, что это изменение повлияет на пользователей именно так;\n",
    "<br> * Efforts — сколько стоит протестировать эту гипотезу."
   ]
  },
  {
   "cell_type": "code",
   "execution_count": 3,
   "metadata": {},
   "outputs": [
    {
     "data": {
      "text/html": [
       "<div>\n",
       "<style scoped>\n",
       "    .dataframe tbody tr th:only-of-type {\n",
       "        vertical-align: middle;\n",
       "    }\n",
       "\n",
       "    .dataframe tbody tr th {\n",
       "        vertical-align: top;\n",
       "    }\n",
       "\n",
       "    .dataframe thead th {\n",
       "        text-align: right;\n",
       "    }\n",
       "</style>\n",
       "<table border=\"1\" class=\"dataframe\">\n",
       "  <thead>\n",
       "    <tr style=\"text-align: right;\">\n",
       "      <th></th>\n",
       "      <th>Hypothesis</th>\n",
       "      <th>ICE</th>\n",
       "    </tr>\n",
       "  </thead>\n",
       "  <tbody>\n",
       "    <tr>\n",
       "      <td>8</td>\n",
       "      <td>Запустить акцию, дающую скидку на товар в день рождения</td>\n",
       "      <td>16.20</td>\n",
       "    </tr>\n",
       "    <tr>\n",
       "      <td>0</td>\n",
       "      <td>Добавить два новых канала привлечения трафика, что позволит привлекать на 30% больше пользователей</td>\n",
       "      <td>13.33</td>\n",
       "    </tr>\n",
       "    <tr>\n",
       "      <td>7</td>\n",
       "      <td>Добавить форму подписки на все основные страницы, чтобы собрать базу клиентов для email-рассылок</td>\n",
       "      <td>11.20</td>\n",
       "    </tr>\n",
       "    <tr>\n",
       "      <td>6</td>\n",
       "      <td>Показать на главной странице баннеры с актуальными акциями и распродажами, чтобы увеличить конверсию</td>\n",
       "      <td>8.00</td>\n",
       "    </tr>\n",
       "    <tr>\n",
       "      <td>2</td>\n",
       "      <td>Добавить блоки рекомендаций товаров на сайт интернет магазина, чтобы повысить конверсию и средний чек заказа</td>\n",
       "      <td>7.00</td>\n",
       "    </tr>\n",
       "    <tr>\n",
       "      <td>1</td>\n",
       "      <td>Запустить собственную службу доставки, что сократит срок доставки заказов</td>\n",
       "      <td>2.00</td>\n",
       "    </tr>\n",
       "    <tr>\n",
       "      <td>5</td>\n",
       "      <td>Добавить страницу отзывов клиентов о магазине, что позволит увеличить количество заказов</td>\n",
       "      <td>1.33</td>\n",
       "    </tr>\n",
       "    <tr>\n",
       "      <td>3</td>\n",
       "      <td>Изменить структура категорий, что увеличит конверсию, т.к. пользователи быстрее найдут нужный товар</td>\n",
       "      <td>1.12</td>\n",
       "    </tr>\n",
       "    <tr>\n",
       "      <td>4</td>\n",
       "      <td>Изменить цвет фона главной страницы, чтобы увеличить вовлеченность пользователей</td>\n",
       "      <td>1.00</td>\n",
       "    </tr>\n",
       "  </tbody>\n",
       "</table>\n",
       "</div>"
      ],
      "text/plain": [
       "                                                                                                     Hypothesis  \\\n",
       "8  Запустить акцию, дающую скидку на товар в день рождения                                                        \n",
       "0  Добавить два новых канала привлечения трафика, что позволит привлекать на 30% больше пользователей             \n",
       "7  Добавить форму подписки на все основные страницы, чтобы собрать базу клиентов для email-рассылок               \n",
       "6  Показать на главной странице баннеры с актуальными акциями и распродажами, чтобы увеличить конверсию           \n",
       "2  Добавить блоки рекомендаций товаров на сайт интернет магазина, чтобы повысить конверсию и средний чек заказа   \n",
       "1  Запустить собственную службу доставки, что сократит срок доставки заказов                                      \n",
       "5  Добавить страницу отзывов клиентов о магазине, что позволит увеличить количество заказов                       \n",
       "3  Изменить структура категорий, что увеличит конверсию, т.к. пользователи быстрее найдут нужный товар            \n",
       "4  Изменить цвет фона главной страницы, чтобы увеличить вовлеченность пользователей                               \n",
       "\n",
       "     ICE  \n",
       "8  16.20  \n",
       "0  13.33  \n",
       "7  11.20  \n",
       "6  8.00   \n",
       "2  7.00   \n",
       "1  2.00   \n",
       "5  1.33   \n",
       "3  1.12   \n",
       "4  1.00   "
      ]
     },
     "execution_count": 3,
     "metadata": {},
     "output_type": "execute_result"
    }
   ],
   "source": [
    "hypothesis['ICE'] = hypothesis['Impact'] * hypothesis['Confidence'] / hypothesis['Efforts']\n",
    "hypothesis_ICE = hypothesis[['Hypothesis', 'ICE']].sort_values(by='ICE', ascending=False).round(2)\n",
    "hypothesis_ICE"
   ]
  },
  {
   "cell_type": "markdown",
   "metadata": {},
   "source": [
    "### <font color='blue'>1.2 Применим фреймворк RICE для приоритизации гипотез. Отсортируем их по убыванию приоритета.</font> <a class=\"tocSkip\">"
   ]
  },
  {
   "cell_type": "markdown",
   "metadata": {},
   "source": [
    "***RICE (от англ. reach, impact, confidence/ effort «охват, влияние, уверенность/ усилия»)***"
   ]
  },
  {
   "cell_type": "markdown",
   "metadata": {},
   "source": [
    "<br> * Reach — скольких пользователей затронет изменение, которое вы хотите внести;\n",
    "<br> * Impact — насколько сильно изменение повлияет на пользователей, их опыт и удовлетворение от продукта;\n",
    "<br> * Confidence — насколько вы уверены, что это изменение повлияет на пользователей именно так;\n",
    "<br> * Efforts — сколько стоит протестировать эту гипотезу."
   ]
  },
  {
   "cell_type": "code",
   "execution_count": 4,
   "metadata": {},
   "outputs": [
    {
     "data": {
      "text/html": [
       "<div>\n",
       "<style scoped>\n",
       "    .dataframe tbody tr th:only-of-type {\n",
       "        vertical-align: middle;\n",
       "    }\n",
       "\n",
       "    .dataframe tbody tr th {\n",
       "        vertical-align: top;\n",
       "    }\n",
       "\n",
       "    .dataframe thead th {\n",
       "        text-align: right;\n",
       "    }\n",
       "</style>\n",
       "<table border=\"1\" class=\"dataframe\">\n",
       "  <thead>\n",
       "    <tr style=\"text-align: right;\">\n",
       "      <th></th>\n",
       "      <th>Hypothesis</th>\n",
       "      <th>RICE</th>\n",
       "    </tr>\n",
       "  </thead>\n",
       "  <tbody>\n",
       "    <tr>\n",
       "      <td>7</td>\n",
       "      <td>Добавить форму подписки на все основные страницы, чтобы собрать базу клиентов для email-рассылок</td>\n",
       "      <td>112.0</td>\n",
       "    </tr>\n",
       "    <tr>\n",
       "      <td>2</td>\n",
       "      <td>Добавить блоки рекомендаций товаров на сайт интернет магазина, чтобы повысить конверсию и средний чек заказа</td>\n",
       "      <td>56.0</td>\n",
       "    </tr>\n",
       "    <tr>\n",
       "      <td>0</td>\n",
       "      <td>Добавить два новых канала привлечения трафика, что позволит привлекать на 30% больше пользователей</td>\n",
       "      <td>40.0</td>\n",
       "    </tr>\n",
       "    <tr>\n",
       "      <td>6</td>\n",
       "      <td>Показать на главной странице баннеры с актуальными акциями и распродажами, чтобы увеличить конверсию</td>\n",
       "      <td>40.0</td>\n",
       "    </tr>\n",
       "    <tr>\n",
       "      <td>8</td>\n",
       "      <td>Запустить акцию, дающую скидку на товар в день рождения</td>\n",
       "      <td>16.2</td>\n",
       "    </tr>\n",
       "    <tr>\n",
       "      <td>3</td>\n",
       "      <td>Изменить структура категорий, что увеличит конверсию, т.к. пользователи быстрее найдут нужный товар</td>\n",
       "      <td>9.0</td>\n",
       "    </tr>\n",
       "    <tr>\n",
       "      <td>1</td>\n",
       "      <td>Запустить собственную службу доставки, что сократит срок доставки заказов</td>\n",
       "      <td>4.0</td>\n",
       "    </tr>\n",
       "    <tr>\n",
       "      <td>5</td>\n",
       "      <td>Добавить страницу отзывов клиентов о магазине, что позволит увеличить количество заказов</td>\n",
       "      <td>4.0</td>\n",
       "    </tr>\n",
       "    <tr>\n",
       "      <td>4</td>\n",
       "      <td>Изменить цвет фона главной страницы, чтобы увеличить вовлеченность пользователей</td>\n",
       "      <td>3.0</td>\n",
       "    </tr>\n",
       "  </tbody>\n",
       "</table>\n",
       "</div>"
      ],
      "text/plain": [
       "                                                                                                     Hypothesis  \\\n",
       "7  Добавить форму подписки на все основные страницы, чтобы собрать базу клиентов для email-рассылок               \n",
       "2  Добавить блоки рекомендаций товаров на сайт интернет магазина, чтобы повысить конверсию и средний чек заказа   \n",
       "0  Добавить два новых канала привлечения трафика, что позволит привлекать на 30% больше пользователей             \n",
       "6  Показать на главной странице баннеры с актуальными акциями и распродажами, чтобы увеличить конверсию           \n",
       "8  Запустить акцию, дающую скидку на товар в день рождения                                                        \n",
       "3  Изменить структура категорий, что увеличит конверсию, т.к. пользователи быстрее найдут нужный товар            \n",
       "1  Запустить собственную службу доставки, что сократит срок доставки заказов                                      \n",
       "5  Добавить страницу отзывов клиентов о магазине, что позволит увеличить количество заказов                       \n",
       "4  Изменить цвет фона главной страницы, чтобы увеличить вовлеченность пользователей                               \n",
       "\n",
       "    RICE  \n",
       "7  112.0  \n",
       "2  56.0   \n",
       "0  40.0   \n",
       "6  40.0   \n",
       "8  16.2   \n",
       "3  9.0    \n",
       "1  4.0    \n",
       "5  4.0    \n",
       "4  3.0    "
      ]
     },
     "execution_count": 4,
     "metadata": {},
     "output_type": "execute_result"
    }
   ],
   "source": [
    "hypothesis['RICE'] = hypothesis['Reach'] * hypothesis['Impact'] * hypothesis['Confidence'] / hypothesis['Efforts']\n",
    "hypothesis_RICE = hypothesis[['Hypothesis', 'RICE']].sort_values(by='RICE', ascending=False)\n",
    "hypothesis_RICE"
   ]
  },
  {
   "cell_type": "code",
   "execution_count": 5,
   "metadata": {},
   "outputs": [
    {
     "data": {
      "image/png": "[encoded data removed]",
      "text/plain": [
       "<Figure size 432x288 with 1 Axes>"
      ]
     },
     "metadata": {
      "needs_background": "light"
     },
     "output_type": "display_data"
    }
   ],
   "source": [
    "y = hypothesis['ICE'] #шкала y\n",
    "z = hypothesis['RICE'] #цифра рядом с точкой   \n",
    "n = hypothesis.index #номер гипотезы\n",
    "\n",
    "fig, ax = plt.subplots()\n",
    "ax.scatter(z, y)\n",
    "\n",
    "for i, txt in enumerate(n):\n",
    "    ax.annotate(txt, (z[i], y[i]))\n",
    "\n",
    "plt.title(\"ICE and RICE гипотезы\") \n",
    "plt.xlabel(\"RICE\") \n",
    "plt.ylabel(\"ICE\"); "
   ]
  },
  {
   "cell_type": "markdown",
   "metadata": {},
   "source": [
    "**Вывод:**\n",
    "<br> параметр охвата (Reach), использующийся в методе RICE изменил приоритетность, полученную по методу ICE:\n",
    "\n",
    "<br> * без учета охвата на первом месте идет акция со скидкой имениннику (8), но параметр Reach справедливо понизил приоритет этой акции, т.к. и правда, охват её минимальный (по сравнению с другими гипотезами увеличения выручки);\n",
    "<br> * также произошло и с гипотезой о добавлении 2х каналов трафика (0), с организацией своей службы доставки (1) и с идеей о добавлении страницы отзывов (5);\n",
    "<br> * без изменений осталась рейтинговая позиция гипотез о добавлении баннеров с актуальными акциями на главную страницу (6) и идея с изменением цвета фона главной страницы (4);\n",
    "<br> * выросли в рейтинге (стали более приоритетными) RICE (по сравнению с ICE) гипотеза о добавлении формы подписки на все основные страницы ресурса (7), о добавлении блоков рекомендаций товаров (2) и предложение об изменении структуры категорий (3)."
   ]
  },
  {
   "cell_type": "markdown",
   "metadata": {},
   "source": [
    "**1.2.1 Сравнительный анализ:**"
   ]
  },
  {
   "cell_type": "code",
   "execution_count": 6,
   "metadata": {},
   "outputs": [
    {
     "data": {
      "text/html": [
       "<div>\n",
       "<style scoped>\n",
       "    .dataframe tbody tr th:only-of-type {\n",
       "        vertical-align: middle;\n",
       "    }\n",
       "\n",
       "    .dataframe tbody tr th {\n",
       "        vertical-align: top;\n",
       "    }\n",
       "\n",
       "    .dataframe thead th {\n",
       "        text-align: right;\n",
       "    }\n",
       "</style>\n",
       "<table border=\"1\" class=\"dataframe\">\n",
       "  <thead>\n",
       "    <tr style=\"text-align: right;\">\n",
       "      <th></th>\n",
       "      <th>Hypothesis</th>\n",
       "      <th>ICE</th>\n",
       "      <th>RICE</th>\n",
       "    </tr>\n",
       "  </thead>\n",
       "  <tbody>\n",
       "    <tr>\n",
       "      <td>0</td>\n",
       "      <td>Запустить акцию, дающую скидку на товар в день рождения</td>\n",
       "      <td>16.20</td>\n",
       "      <td>16.2</td>\n",
       "    </tr>\n",
       "    <tr>\n",
       "      <td>1</td>\n",
       "      <td>Добавить два новых канала привлечения трафика, что позволит привлекать на 30% больше пользователей</td>\n",
       "      <td>13.33</td>\n",
       "      <td>40.0</td>\n",
       "    </tr>\n",
       "    <tr>\n",
       "      <td>2</td>\n",
       "      <td>Добавить форму подписки на все основные страницы, чтобы собрать базу клиентов для email-рассылок</td>\n",
       "      <td>11.20</td>\n",
       "      <td>112.0</td>\n",
       "    </tr>\n",
       "    <tr>\n",
       "      <td>3</td>\n",
       "      <td>Показать на главной странице баннеры с актуальными акциями и распродажами, чтобы увеличить конверсию</td>\n",
       "      <td>8.00</td>\n",
       "      <td>40.0</td>\n",
       "    </tr>\n",
       "    <tr>\n",
       "      <td>4</td>\n",
       "      <td>Добавить блоки рекомендаций товаров на сайт интернет магазина, чтобы повысить конверсию и средний чек заказа</td>\n",
       "      <td>7.00</td>\n",
       "      <td>56.0</td>\n",
       "    </tr>\n",
       "    <tr>\n",
       "      <td>5</td>\n",
       "      <td>Запустить собственную службу доставки, что сократит срок доставки заказов</td>\n",
       "      <td>2.00</td>\n",
       "      <td>4.0</td>\n",
       "    </tr>\n",
       "    <tr>\n",
       "      <td>6</td>\n",
       "      <td>Добавить страницу отзывов клиентов о магазине, что позволит увеличить количество заказов</td>\n",
       "      <td>1.33</td>\n",
       "      <td>4.0</td>\n",
       "    </tr>\n",
       "    <tr>\n",
       "      <td>7</td>\n",
       "      <td>Изменить структура категорий, что увеличит конверсию, т.к. пользователи быстрее найдут нужный товар</td>\n",
       "      <td>1.12</td>\n",
       "      <td>9.0</td>\n",
       "    </tr>\n",
       "    <tr>\n",
       "      <td>8</td>\n",
       "      <td>Изменить цвет фона главной страницы, чтобы увеличить вовлеченность пользователей</td>\n",
       "      <td>1.00</td>\n",
       "      <td>3.0</td>\n",
       "    </tr>\n",
       "  </tbody>\n",
       "</table>\n",
       "</div>"
      ],
      "text/plain": [
       "                                                                                                     Hypothesis  \\\n",
       "0  Запустить акцию, дающую скидку на товар в день рождения                                                        \n",
       "1  Добавить два новых канала привлечения трафика, что позволит привлекать на 30% больше пользователей             \n",
       "2  Добавить форму подписки на все основные страницы, чтобы собрать базу клиентов для email-рассылок               \n",
       "3  Показать на главной странице баннеры с актуальными акциями и распродажами, чтобы увеличить конверсию           \n",
       "4  Добавить блоки рекомендаций товаров на сайт интернет магазина, чтобы повысить конверсию и средний чек заказа   \n",
       "5  Запустить собственную службу доставки, что сократит срок доставки заказов                                      \n",
       "6  Добавить страницу отзывов клиентов о магазине, что позволит увеличить количество заказов                       \n",
       "7  Изменить структура категорий, что увеличит конверсию, т.к. пользователи быстрее найдут нужный товар            \n",
       "8  Изменить цвет фона главной страницы, чтобы увеличить вовлеченность пользователей                               \n",
       "\n",
       "     ICE   RICE  \n",
       "0  16.20  16.2   \n",
       "1  13.33  40.0   \n",
       "2  11.20  112.0  \n",
       "3  8.00   40.0   \n",
       "4  7.00   56.0   \n",
       "5  2.00   4.0    \n",
       "6  1.33   4.0    \n",
       "7  1.12   9.0    \n",
       "8  1.00   3.0    "
      ]
     },
     "execution_count": 6,
     "metadata": {},
     "output_type": "execute_result"
    }
   ],
   "source": [
    "priority_of_hypothesis = hypothesis_ICE.merge(hypothesis_RICE, on='Hypothesis')\n",
    "priority_of_hypothesis"
   ]
  },
  {
   "cell_type": "markdown",
   "metadata": {},
   "source": [
    "## <font color='blue'>Часть 2. Анализ A/B-теста.</font> <a class=\"tocSkip\">"
   ]
  },
  {
   "cell_type": "markdown",
   "metadata": {},
   "source": [
    "***Один из самых популярных и точных способов проверки гипотезы — A/B-тест.***"
   ]
  },
  {
   "cell_type": "markdown",
   "metadata": {},
   "source": [
    "**Задача:**\n",
    "<br> * Построить график кумулятивной выручки по группам. Сделать выводы и предположения.\n",
    "<br> * Построить график кумулятивного среднего чека по группам. Сделать выводы и предположения.\n",
    "<br> * Построить график относительного изменения кумулятивного среднего чека группы B к группе A. Сделать выводы и предположения.\n",
    "<br> * Построить график кумулятивной конверсии по группам. Сделать выводы и предположения.\n",
    "<br> * Построить график относительного изменения кумулятивной конверсии группы B к группе A. Сделать выводы и предположения.\n",
    "<br> * Построить точечный график количества заказов по пользователям. Сделать выводы и предположения.\n",
    "<br> * Посчитать 95-й и 99-й перцентили количества заказов на пользователя. Выбрать границу для определения аномальных пользователей.\n",
    "<br> * Построить точечный график стоимостей заказов. Сделать выводы и предположения.\n",
    "<br> * Посчитать 95-й и 99-й перцентили стоимости заказов. Выбрать границу для определения аномальных заказов.\n",
    "<br> * Посчитать статистическую значимость различий в конверсии между группами по «сырым» данным. Сделать выводы и предположения.\n",
    "<br> * Посчитать статистическую значимость различий в среднем чеке заказа между группами по «сырым» данным. Сделать выводы и предположения.\n",
    "<br> * Посчитать статистическую значимость различий в конверсии между группами по «очищенным» данным. Сделать выводы и предположения.\n",
    "<br> * Посчитать статистическую значимость различий в среднем чеке заказа между группами по «очищенным» данным. Сделать выводы и предположения.\n",
    "<br> * Принять решение по результатам теста и объяснить его. Варианты решений: 1. Остановить тест, зафиксировать победу одной из групп. 2. Остановить тест, зафиксировать отсутствие различий между группами. 3."
   ]
  },
  {
   "cell_type": "markdown",
   "metadata": {},
   "source": [
    "### <font color='blue'>Загрузка и изучение данных</font> <a class=\"tocSkip\">"
   ]
  },
  {
   "cell_type": "code",
   "execution_count": 7,
   "metadata": {},
   "outputs": [],
   "source": [
    "orders = pd.read_csv('/datasets/orders.csv')\n",
    "visitors = pd.read_csv('/datasets/visitors.csv')"
   ]
  },
  {
   "cell_type": "markdown",
   "metadata": {},
   "source": [
    "**Таблица orders**"
   ]
  },
  {
   "cell_type": "code",
   "execution_count": 8,
   "metadata": {},
   "outputs": [
    {
     "name": "stdout",
     "output_type": "stream",
     "text": [
      "<class 'pandas.core.frame.DataFrame'>\n",
      "RangeIndex: 1197 entries, 0 to 1196\n",
      "Data columns (total 5 columns):\n",
      "transactionId    1197 non-null int64\n",
      "visitorId        1197 non-null int64\n",
      "date             1197 non-null object\n",
      "revenue          1197 non-null int64\n",
      "group            1197 non-null object\n",
      "dtypes: int64(3), object(2)\n",
      "memory usage: 46.9+ KB\n"
     ]
    },
    {
     "data": {
      "text/html": [
       "<div>\n",
       "<style scoped>\n",
       "    .dataframe tbody tr th:only-of-type {\n",
       "        vertical-align: middle;\n",
       "    }\n",
       "\n",
       "    .dataframe tbody tr th {\n",
       "        vertical-align: top;\n",
       "    }\n",
       "\n",
       "    .dataframe thead th {\n",
       "        text-align: right;\n",
       "    }\n",
       "</style>\n",
       "<table border=\"1\" class=\"dataframe\">\n",
       "  <thead>\n",
       "    <tr style=\"text-align: right;\">\n",
       "      <th></th>\n",
       "      <th>transactionId</th>\n",
       "      <th>visitorId</th>\n",
       "      <th>date</th>\n",
       "      <th>revenue</th>\n",
       "      <th>group</th>\n",
       "    </tr>\n",
       "  </thead>\n",
       "  <tbody>\n",
       "    <tr>\n",
       "      <td>0</td>\n",
       "      <td>3667963787</td>\n",
       "      <td>3312258926</td>\n",
       "      <td>2019-08-15</td>\n",
       "      <td>1650</td>\n",
       "      <td>B</td>\n",
       "    </tr>\n",
       "    <tr>\n",
       "      <td>1</td>\n",
       "      <td>2804400009</td>\n",
       "      <td>3642806036</td>\n",
       "      <td>2019-08-15</td>\n",
       "      <td>730</td>\n",
       "      <td>B</td>\n",
       "    </tr>\n",
       "    <tr>\n",
       "      <td>2</td>\n",
       "      <td>2961555356</td>\n",
       "      <td>4069496402</td>\n",
       "      <td>2019-08-15</td>\n",
       "      <td>400</td>\n",
       "      <td>A</td>\n",
       "    </tr>\n",
       "    <tr>\n",
       "      <td>3</td>\n",
       "      <td>3797467345</td>\n",
       "      <td>1196621759</td>\n",
       "      <td>2019-08-15</td>\n",
       "      <td>9759</td>\n",
       "      <td>B</td>\n",
       "    </tr>\n",
       "    <tr>\n",
       "      <td>4</td>\n",
       "      <td>2282983706</td>\n",
       "      <td>2322279887</td>\n",
       "      <td>2019-08-15</td>\n",
       "      <td>2308</td>\n",
       "      <td>B</td>\n",
       "    </tr>\n",
       "  </tbody>\n",
       "</table>\n",
       "</div>"
      ],
      "text/plain": [
       "   transactionId   visitorId        date  revenue group\n",
       "0  3667963787     3312258926  2019-08-15  1650     B   \n",
       "1  2804400009     3642806036  2019-08-15  730      B   \n",
       "2  2961555356     4069496402  2019-08-15  400      A   \n",
       "3  3797467345     1196621759  2019-08-15  9759     B   \n",
       "4  2282983706     2322279887  2019-08-15  2308     B   "
      ]
     },
     "execution_count": 8,
     "metadata": {},
     "output_type": "execute_result"
    }
   ],
   "source": [
    "orders.info()\n",
    "orders.head()"
   ]
  },
  {
   "cell_type": "markdown",
   "metadata": {},
   "source": [
    "**Описание данных:**"
   ]
  },
  {
   "cell_type": "markdown",
   "metadata": {},
   "source": [
    "**Данные для второй части:**\n",
    "<br> Файл /datasets/orders.csv:\n",
    "<br> * transactionId — идентификатор заказа;\n",
    "<br> * visitorId — идентификатор пользователя, совершившего заказ;\n",
    "<br> * date — дата, когда был совершён заказ;\n",
    "<br> * revenue — выручка заказа;\n",
    "<br> * group — группа A/B-теста, в которую попал заказ."
   ]
  },
  {
   "cell_type": "markdown",
   "metadata": {},
   "source": [
    "В файле /datasets/orders.csv 5 столбцов (3 столбца с чиловым типом данных, 2 - тип данных object), 1197 строк (непустых значений), столбец date имеет тип object, хотя там дата. Изменим формат данных в нём. Изменим навзания столбцов."
   ]
  },
  {
   "cell_type": "markdown",
   "metadata": {},
   "source": [
    "**Таблица visitors**"
   ]
  },
  {
   "cell_type": "code",
   "execution_count": 9,
   "metadata": {},
   "outputs": [
    {
     "name": "stdout",
     "output_type": "stream",
     "text": [
      "<class 'pandas.core.frame.DataFrame'>\n",
      "RangeIndex: 62 entries, 0 to 61\n",
      "Data columns (total 3 columns):\n",
      "date        62 non-null object\n",
      "group       62 non-null object\n",
      "visitors    62 non-null int64\n",
      "dtypes: int64(1), object(2)\n",
      "memory usage: 1.6+ KB\n"
     ]
    },
    {
     "data": {
      "text/html": [
       "<div>\n",
       "<style scoped>\n",
       "    .dataframe tbody tr th:only-of-type {\n",
       "        vertical-align: middle;\n",
       "    }\n",
       "\n",
       "    .dataframe tbody tr th {\n",
       "        vertical-align: top;\n",
       "    }\n",
       "\n",
       "    .dataframe thead th {\n",
       "        text-align: right;\n",
       "    }\n",
       "</style>\n",
       "<table border=\"1\" class=\"dataframe\">\n",
       "  <thead>\n",
       "    <tr style=\"text-align: right;\">\n",
       "      <th></th>\n",
       "      <th>date</th>\n",
       "      <th>group</th>\n",
       "      <th>visitors</th>\n",
       "    </tr>\n",
       "  </thead>\n",
       "  <tbody>\n",
       "    <tr>\n",
       "      <td>0</td>\n",
       "      <td>2019-08-01</td>\n",
       "      <td>A</td>\n",
       "      <td>719</td>\n",
       "    </tr>\n",
       "    <tr>\n",
       "      <td>1</td>\n",
       "      <td>2019-08-02</td>\n",
       "      <td>A</td>\n",
       "      <td>619</td>\n",
       "    </tr>\n",
       "    <tr>\n",
       "      <td>2</td>\n",
       "      <td>2019-08-03</td>\n",
       "      <td>A</td>\n",
       "      <td>507</td>\n",
       "    </tr>\n",
       "    <tr>\n",
       "      <td>3</td>\n",
       "      <td>2019-08-04</td>\n",
       "      <td>A</td>\n",
       "      <td>717</td>\n",
       "    </tr>\n",
       "    <tr>\n",
       "      <td>4</td>\n",
       "      <td>2019-08-05</td>\n",
       "      <td>A</td>\n",
       "      <td>756</td>\n",
       "    </tr>\n",
       "  </tbody>\n",
       "</table>\n",
       "</div>"
      ],
      "text/plain": [
       "         date group  visitors\n",
       "0  2019-08-01  A     719     \n",
       "1  2019-08-02  A     619     \n",
       "2  2019-08-03  A     507     \n",
       "3  2019-08-04  A     717     \n",
       "4  2019-08-05  A     756     "
      ]
     },
     "execution_count": 9,
     "metadata": {},
     "output_type": "execute_result"
    }
   ],
   "source": [
    "visitors.info()\n",
    "visitors.head()"
   ]
  },
  {
   "cell_type": "markdown",
   "metadata": {},
   "source": [
    "**Описание данных:**"
   ]
  },
  {
   "cell_type": "markdown",
   "metadata": {},
   "source": [
    "**Данные для второй части:**\n",
    "<br> Файл /datasets/visitors.csv:\n",
    "<br> * date — дата;\n",
    "<br> * group — группа A/B-теста;\n",
    "<br> * visitors — количество пользователей в указанную дату в указанной группе A/B-теста."
   ]
  },
  {
   "cell_type": "markdown",
   "metadata": {},
   "source": [
    "В файле /datasets/visitors.csv 3 столбца (1 столбец с чиловым типом данных, 2 - тип данных object), 62 строки (непустых значений), столбец date имеет тип object, хотя там дата. Изменим формат данных в нём."
   ]
  },
  {
   "cell_type": "markdown",
   "metadata": {},
   "source": [
    "Проверим, есть ли пользователи, которые оказались в обеих группах одновременно."
   ]
  },
  {
   "cell_type": "code",
   "execution_count": 10,
   "metadata": {},
   "outputs": [
    {
     "data": {
      "text/html": [
       "<div>\n",
       "<style scoped>\n",
       "    .dataframe tbody tr th:only-of-type {\n",
       "        vertical-align: middle;\n",
       "    }\n",
       "\n",
       "    .dataframe tbody tr th {\n",
       "        vertical-align: top;\n",
       "    }\n",
       "\n",
       "    .dataframe thead th {\n",
       "        text-align: right;\n",
       "    }\n",
       "</style>\n",
       "<table border=\"1\" class=\"dataframe\">\n",
       "  <thead>\n",
       "    <tr style=\"text-align: right;\">\n",
       "      <th></th>\n",
       "      <th>visitorId</th>\n",
       "      <th>group</th>\n",
       "      <th>count</th>\n",
       "    </tr>\n",
       "  </thead>\n",
       "  <tbody>\n",
       "    <tr>\n",
       "      <td>45</td>\n",
       "      <td>199603092</td>\n",
       "      <td>A</td>\n",
       "      <td>4</td>\n",
       "    </tr>\n",
       "    <tr>\n",
       "      <td>58</td>\n",
       "      <td>237748145</td>\n",
       "      <td>A</td>\n",
       "      <td>4</td>\n",
       "    </tr>\n",
       "    <tr>\n",
       "      <td>63</td>\n",
       "      <td>249864742</td>\n",
       "      <td>B</td>\n",
       "      <td>3</td>\n",
       "    </tr>\n",
       "    <tr>\n",
       "      <td>94</td>\n",
       "      <td>366673373</td>\n",
       "      <td>A</td>\n",
       "      <td>2</td>\n",
       "    </tr>\n",
       "    <tr>\n",
       "      <td>104</td>\n",
       "      <td>393266494</td>\n",
       "      <td>B</td>\n",
       "      <td>2</td>\n",
       "    </tr>\n",
       "    <tr>\n",
       "      <td>...</td>\n",
       "      <td>...</td>\n",
       "      <td>...</td>\n",
       "      <td>...</td>\n",
       "    </tr>\n",
       "    <tr>\n",
       "      <td>1045</td>\n",
       "      <td>4109358064</td>\n",
       "      <td>A</td>\n",
       "      <td>2</td>\n",
       "    </tr>\n",
       "    <tr>\n",
       "      <td>1050</td>\n",
       "      <td>4134830387</td>\n",
       "      <td>B</td>\n",
       "      <td>2</td>\n",
       "    </tr>\n",
       "    <tr>\n",
       "      <td>1065</td>\n",
       "      <td>4186807279</td>\n",
       "      <td>B</td>\n",
       "      <td>2</td>\n",
       "    </tr>\n",
       "    <tr>\n",
       "      <td>1079</td>\n",
       "      <td>4256040402</td>\n",
       "      <td>A</td>\n",
       "      <td>7</td>\n",
       "    </tr>\n",
       "    <tr>\n",
       "      <td>1080</td>\n",
       "      <td>4256040402</td>\n",
       "      <td>B</td>\n",
       "      <td>4</td>\n",
       "    </tr>\n",
       "  </tbody>\n",
       "</table>\n",
       "<p>64 rows × 3 columns</p>\n",
       "</div>"
      ],
      "text/plain": [
       "       visitorId group  count\n",
       "45    199603092   A     4    \n",
       "58    237748145   A     4    \n",
       "63    249864742   B     3    \n",
       "94    366673373   A     2    \n",
       "104   393266494   B     2    \n",
       "...         ...  ..    ..    \n",
       "1045  4109358064  A     2    \n",
       "1050  4134830387  B     2    \n",
       "1065  4186807279  B     2    \n",
       "1079  4256040402  A     7    \n",
       "1080  4256040402  B     4    \n",
       "\n",
       "[64 rows x 3 columns]"
      ]
     },
     "execution_count": 10,
     "metadata": {},
     "output_type": "execute_result"
    }
   ],
   "source": [
    "group_sizes = orders.groupby(['visitorId', 'group']).size().reset_index()\n",
    "group_sizes.columns = ['visitorId', 'group', 'count']\n",
    "group_sizes = group_sizes.query('count > 1').sort_values(by='visitorId')\n",
    "group_sizes"
   ]
  },
  {
   "cell_type": "markdown",
   "metadata": {},
   "source": [
    "Формируем словарь \"пользователь - группы, в которых он появлялся\" и если одному пользователю принадлежит более 1 значения групп, добавляем его в список broken_users:"
   ]
  },
  {
   "cell_type": "code",
   "execution_count": 11,
   "metadata": {},
   "outputs": [
    {
     "data": {
      "text/html": [
       "<div>\n",
       "<style scoped>\n",
       "    .dataframe tbody tr th:only-of-type {\n",
       "        vertical-align: middle;\n",
       "    }\n",
       "\n",
       "    .dataframe tbody tr th {\n",
       "        vertical-align: top;\n",
       "    }\n",
       "\n",
       "    .dataframe thead th {\n",
       "        text-align: right;\n",
       "    }\n",
       "</style>\n",
       "<table border=\"1\" class=\"dataframe\">\n",
       "  <thead>\n",
       "    <tr style=\"text-align: right;\">\n",
       "      <th></th>\n",
       "      <th></th>\n",
       "      <th></th>\n",
       "      <th>transactionId</th>\n",
       "      <th>revenue</th>\n",
       "    </tr>\n",
       "    <tr>\n",
       "      <th>visitorId</th>\n",
       "      <th>group</th>\n",
       "      <th>date</th>\n",
       "      <th></th>\n",
       "      <th></th>\n",
       "    </tr>\n",
       "  </thead>\n",
       "  <tbody>\n",
       "    <tr>\n",
       "      <td rowspan=\"2\" valign=\"top\">1230306981</td>\n",
       "      <td>A</td>\n",
       "      <td>2019-08-09</td>\n",
       "      <td>3</td>\n",
       "      <td>18440</td>\n",
       "    </tr>\n",
       "    <tr>\n",
       "      <td>B</td>\n",
       "      <td>2019-08-09</td>\n",
       "      <td>2</td>\n",
       "      <td>12840</td>\n",
       "    </tr>\n",
       "    <tr>\n",
       "      <td rowspan=\"7\" valign=\"top\">2038680547</td>\n",
       "      <td rowspan=\"4\" valign=\"top\">A</td>\n",
       "      <td>2019-08-04</td>\n",
       "      <td>2</td>\n",
       "      <td>4070</td>\n",
       "    </tr>\n",
       "    <tr>\n",
       "      <td>2019-08-17</td>\n",
       "      <td>1</td>\n",
       "      <td>3470</td>\n",
       "    </tr>\n",
       "    <tr>\n",
       "      <td>2019-08-22</td>\n",
       "      <td>1</td>\n",
       "      <td>760</td>\n",
       "    </tr>\n",
       "    <tr>\n",
       "      <td>2019-08-25</td>\n",
       "      <td>1</td>\n",
       "      <td>270</td>\n",
       "    </tr>\n",
       "    <tr>\n",
       "      <td rowspan=\"3\" valign=\"top\">B</td>\n",
       "      <td>2019-08-04</td>\n",
       "      <td>1</td>\n",
       "      <td>2800</td>\n",
       "    </tr>\n",
       "    <tr>\n",
       "      <td>2019-08-15</td>\n",
       "      <td>1</td>\n",
       "      <td>1680</td>\n",
       "    </tr>\n",
       "    <tr>\n",
       "      <td>2019-08-29</td>\n",
       "      <td>1</td>\n",
       "      <td>2420</td>\n",
       "    </tr>\n",
       "    <tr>\n",
       "      <td rowspan=\"8\" valign=\"top\">2378935119</td>\n",
       "      <td rowspan=\"4\" valign=\"top\">A</td>\n",
       "      <td>2019-08-10</td>\n",
       "      <td>1</td>\n",
       "      <td>58220</td>\n",
       "    </tr>\n",
       "    <tr>\n",
       "      <td>2019-08-15</td>\n",
       "      <td>1</td>\n",
       "      <td>1650</td>\n",
       "    </tr>\n",
       "    <tr>\n",
       "      <td>2019-08-17</td>\n",
       "      <td>1</td>\n",
       "      <td>310</td>\n",
       "    </tr>\n",
       "    <tr>\n",
       "      <td>2019-08-22</td>\n",
       "      <td>1</td>\n",
       "      <td>3390</td>\n",
       "    </tr>\n",
       "    <tr>\n",
       "      <td rowspan=\"4\" valign=\"top\">B</td>\n",
       "      <td>2019-08-09</td>\n",
       "      <td>1</td>\n",
       "      <td>30649</td>\n",
       "    </tr>\n",
       "    <tr>\n",
       "      <td>2019-08-10</td>\n",
       "      <td>1</td>\n",
       "      <td>2640</td>\n",
       "    </tr>\n",
       "    <tr>\n",
       "      <td>2019-08-25</td>\n",
       "      <td>1</td>\n",
       "      <td>21220</td>\n",
       "    </tr>\n",
       "    <tr>\n",
       "      <td>2019-08-28</td>\n",
       "      <td>2</td>\n",
       "      <td>24860</td>\n",
       "    </tr>\n",
       "    <tr>\n",
       "      <td rowspan=\"10\" valign=\"top\">2458001652</td>\n",
       "      <td rowspan=\"5\" valign=\"top\">A</td>\n",
       "      <td>2019-08-04</td>\n",
       "      <td>1</td>\n",
       "      <td>340</td>\n",
       "    </tr>\n",
       "    <tr>\n",
       "      <td>2019-08-06</td>\n",
       "      <td>1</td>\n",
       "      <td>1620</td>\n",
       "    </tr>\n",
       "    <tr>\n",
       "      <td>2019-08-07</td>\n",
       "      <td>1</td>\n",
       "      <td>17379</td>\n",
       "    </tr>\n",
       "    <tr>\n",
       "      <td>2019-08-11</td>\n",
       "      <td>1</td>\n",
       "      <td>8280</td>\n",
       "    </tr>\n",
       "    <tr>\n",
       "      <td>2019-08-22</td>\n",
       "      <td>1</td>\n",
       "      <td>5190</td>\n",
       "    </tr>\n",
       "    <tr>\n",
       "      <td rowspan=\"5\" valign=\"top\">B</td>\n",
       "      <td>2019-08-05</td>\n",
       "      <td>1</td>\n",
       "      <td>2420</td>\n",
       "    </tr>\n",
       "    <tr>\n",
       "      <td>2019-08-06</td>\n",
       "      <td>2</td>\n",
       "      <td>14030</td>\n",
       "    </tr>\n",
       "    <tr>\n",
       "      <td>2019-08-08</td>\n",
       "      <td>1</td>\n",
       "      <td>5227</td>\n",
       "    </tr>\n",
       "    <tr>\n",
       "      <td>2019-08-09</td>\n",
       "      <td>1</td>\n",
       "      <td>5227</td>\n",
       "    </tr>\n",
       "    <tr>\n",
       "      <td>2019-08-25</td>\n",
       "      <td>1</td>\n",
       "      <td>2385</td>\n",
       "    </tr>\n",
       "    <tr>\n",
       "      <td rowspan=\"11\" valign=\"top\">4256040402</td>\n",
       "      <td rowspan=\"7\" valign=\"top\">A</td>\n",
       "      <td>2019-08-01</td>\n",
       "      <td>1</td>\n",
       "      <td>5800</td>\n",
       "    </tr>\n",
       "    <tr>\n",
       "      <td>2019-08-12</td>\n",
       "      <td>1</td>\n",
       "      <td>50</td>\n",
       "    </tr>\n",
       "    <tr>\n",
       "      <td>2019-08-17</td>\n",
       "      <td>1</td>\n",
       "      <td>1550</td>\n",
       "    </tr>\n",
       "    <tr>\n",
       "      <td>2019-08-20</td>\n",
       "      <td>1</td>\n",
       "      <td>17650</td>\n",
       "    </tr>\n",
       "    <tr>\n",
       "      <td>2019-08-23</td>\n",
       "      <td>1</td>\n",
       "      <td>16950</td>\n",
       "    </tr>\n",
       "    <tr>\n",
       "      <td>2019-08-27</td>\n",
       "      <td>1</td>\n",
       "      <td>1630</td>\n",
       "    </tr>\n",
       "    <tr>\n",
       "      <td>2019-08-31</td>\n",
       "      <td>1</td>\n",
       "      <td>5170</td>\n",
       "    </tr>\n",
       "    <tr>\n",
       "      <td rowspan=\"4\" valign=\"top\">B</td>\n",
       "      <td>2019-08-08</td>\n",
       "      <td>1</td>\n",
       "      <td>58220</td>\n",
       "    </tr>\n",
       "    <tr>\n",
       "      <td>2019-08-16</td>\n",
       "      <td>1</td>\n",
       "      <td>56650</td>\n",
       "    </tr>\n",
       "    <tr>\n",
       "      <td>2019-08-18</td>\n",
       "      <td>1</td>\n",
       "      <td>10970</td>\n",
       "    </tr>\n",
       "    <tr>\n",
       "      <td>2019-08-31</td>\n",
       "      <td>1</td>\n",
       "      <td>1850</td>\n",
       "    </tr>\n",
       "  </tbody>\n",
       "</table>\n",
       "</div>"
      ],
      "text/plain": [
       "                             transactionId  revenue\n",
       "visitorId  group date                              \n",
       "1230306981 A     2019-08-09  3              18440  \n",
       "           B     2019-08-09  2              12840  \n",
       "2038680547 A     2019-08-04  2              4070   \n",
       "                 2019-08-17  1              3470   \n",
       "                 2019-08-22  1              760    \n",
       "                 2019-08-25  1              270    \n",
       "           B     2019-08-04  1              2800   \n",
       "                 2019-08-15  1              1680   \n",
       "                 2019-08-29  1              2420   \n",
       "2378935119 A     2019-08-10  1              58220  \n",
       "                 2019-08-15  1              1650   \n",
       "                 2019-08-17  1              310    \n",
       "                 2019-08-22  1              3390   \n",
       "           B     2019-08-09  1              30649  \n",
       "                 2019-08-10  1              2640   \n",
       "                 2019-08-25  1              21220  \n",
       "                 2019-08-28  2              24860  \n",
       "2458001652 A     2019-08-04  1              340    \n",
       "                 2019-08-06  1              1620   \n",
       "                 2019-08-07  1              17379  \n",
       "                 2019-08-11  1              8280   \n",
       "                 2019-08-22  1              5190   \n",
       "           B     2019-08-05  1              2420   \n",
       "                 2019-08-06  2              14030  \n",
       "                 2019-08-08  1              5227   \n",
       "                 2019-08-09  1              5227   \n",
       "                 2019-08-25  1              2385   \n",
       "4256040402 A     2019-08-01  1              5800   \n",
       "                 2019-08-12  1              50     \n",
       "                 2019-08-17  1              1550   \n",
       "                 2019-08-20  1              17650  \n",
       "                 2019-08-23  1              16950  \n",
       "                 2019-08-27  1              1630   \n",
       "                 2019-08-31  1              5170   \n",
       "           B     2019-08-08  1              58220  \n",
       "                 2019-08-16  1              56650  \n",
       "                 2019-08-18  1              10970  \n",
       "                 2019-08-31  1              1850   "
      ]
     },
     "execution_count": 11,
     "metadata": {},
     "output_type": "execute_result"
    }
   ],
   "source": [
    "potentially_broken_users_list = list(zip(group_sizes['visitorId'], group_sizes['group']))\n",
    "potentially_broken_users_dict = defaultdict(list)\n",
    "for user, group in potentially_broken_users_list:\n",
    "    potentially_broken_users_dict[user].append(group)\n",
    "\n",
    "inappropriate_users = [user for user in potentially_broken_users_dict if len(potentially_broken_users_dict[user]) > 1]\n",
    "inappropriate_orders = orders.query('visitorId in @inappropriate_users')\n",
    "inappropriate_orders_grouped = (inappropriate_orders\n",
    "                        .groupby(['visitorId', 'group', 'date'])\n",
    "                        .agg({'transactionId': 'nunique', 'revenue': 'sum'})\n",
    "                   )\n",
    "inappropriate_orders_grouped"
   ]
  },
  {
   "cell_type": "markdown",
   "metadata": {},
   "source": [
    "Пять пользователей оказались в двух группах одновременно, они совершили достаточно много транзакций и принесли значимую суму выручки, поэтому нужно очистить наши таблицы от этих пользователей, для корретного А/В теста"
   ]
  },
  {
   "cell_type": "code",
   "execution_count": 12,
   "metadata": {},
   "outputs": [],
   "source": [
    "orders_filt = orders.query('visitorId not in @inappropriate_orders')"
   ]
  },
  {
   "cell_type": "markdown",
   "metadata": {},
   "source": [
    "Теперь отфильтруем таблицу visitors"
   ]
  },
  {
   "cell_type": "code",
   "execution_count": 13,
   "metadata": {},
   "outputs": [],
   "source": [
    "inappropriate_orders_grouped = inappropriate_orders_grouped.reset_index()\n",
    "inappropriate_orders_grouped['count'] = -1\n",
    "inappropriate_orders_grouped = inappropriate_orders_grouped[['group', 'date', 'count']]\n",
    "visitors_filt = visitors.merge(inappropriate_orders_grouped, on=['date', 'group'], how='left').fillna(0)\n",
    "visitors_filt['visitors_'] = visitors_filt['visitors'] + visitors_filt['count']\n",
    "visitors_filt = visitors_filt.drop(['visitors', 'count'], axis=1)\n",
    "visitors_filt.columns = ['date', 'group', 'visitors']\n",
    "visitors_filt['visitors'] = visitors_filt['visitors'].astype(int)"
   ]
  },
  {
   "cell_type": "markdown",
   "metadata": {},
   "source": [
    "Так как в рамках этого A/B теста не пользователей, а сесии разделяли на группы, то проблемы в том, что пользователь попал в обе группы, нет. Просто пользователь совершил несколько сессий, которые определились в разные группы."
   ]
  },
  {
   "cell_type": "code",
   "execution_count": 14,
   "metadata": {},
   "outputs": [
    {
     "name": "stdout",
     "output_type": "stream",
     "text": [
      "<class 'pandas.core.frame.DataFrame'>\n",
      "RangeIndex: 1197 entries, 0 to 1196\n",
      "Data columns (total 5 columns):\n",
      "orderId    1197 non-null int64\n",
      "userId     1197 non-null int64\n",
      "date       1197 non-null datetime64[ns]\n",
      "revenue    1197 non-null int64\n",
      "group      1197 non-null object\n",
      "dtypes: datetime64[ns](1), int64(3), object(1)\n",
      "memory usage: 46.9+ KB\n",
      "<class 'pandas.core.frame.DataFrame'>\n",
      "RangeIndex: 62 entries, 0 to 61\n",
      "Data columns (total 3 columns):\n",
      "date        62 non-null datetime64[ns]\n",
      "group       62 non-null object\n",
      "visitors    62 non-null int64\n",
      "dtypes: datetime64[ns](1), int64(1), object(1)\n",
      "memory usage: 1.6+ KB\n"
     ]
    }
   ],
   "source": [
    "#переведем столбцы с датой к соответстующим типам\n",
    "orders['date'] = pd.to_datetime(orders['date'])\n",
    "visitors['date'] = pd.to_datetime(visitors['date'])\n",
    "#изменим навзания столбцов\n",
    "orders = orders.rename(columns=\n",
    "                   {\n",
    "                       'transactionId': 'orderId',\n",
    "                       'visitorId': 'userId',\n",
    "                   }\n",
    "                  )\n",
    "#проверим перевелись ли к нужному типу столбец\n",
    "orders.info()\n",
    "visitors.info()"
   ]
  },
  {
   "cell_type": "code",
   "execution_count": 15,
   "metadata": {},
   "outputs": [
    {
     "data": {
      "text/plain": [
       "orderId    0\n",
       "userId     0\n",
       "date       0\n",
       "revenue    0\n",
       "group      0\n",
       "dtype: int64"
      ]
     },
     "execution_count": 15,
     "metadata": {},
     "output_type": "execute_result"
    }
   ],
   "source": [
    "orders.isnull().sum() # проверим наличие пропусков"
   ]
  },
  {
   "cell_type": "code",
   "execution_count": 16,
   "metadata": {},
   "outputs": [
    {
     "data": {
      "text/plain": [
       "0"
      ]
     },
     "execution_count": 16,
     "metadata": {},
     "output_type": "execute_result"
    }
   ],
   "source": [
    "orders.duplicated().sum() # проверим наличие дубликатов"
   ]
  },
  {
   "cell_type": "code",
   "execution_count": 17,
   "metadata": {},
   "outputs": [
    {
     "data": {
      "text/plain": [
       "date        0\n",
       "group       0\n",
       "visitors    0\n",
       "dtype: int64"
      ]
     },
     "execution_count": 17,
     "metadata": {},
     "output_type": "execute_result"
    }
   ],
   "source": [
    "visitors.isnull().sum() # проверим наличие пропусков"
   ]
  },
  {
   "cell_type": "code",
   "execution_count": 18,
   "metadata": {},
   "outputs": [
    {
     "data": {
      "text/plain": [
       "0"
      ]
     },
     "execution_count": 18,
     "metadata": {},
     "output_type": "execute_result"
    }
   ],
   "source": [
    "visitors.duplicated().sum() # проверим наличие дубликатов"
   ]
  },
  {
   "cell_type": "markdown",
   "metadata": {},
   "source": [
    "**Проверим корректность распределения на группы A/B:**\n",
    "<br> * Проверим размеры групп в выборке, есть ли разница между ними;\n",
    "<br> * Проверим, корректно ли был рассчитан размер выборки для проведения теста."
   ]
  },
  {
   "cell_type": "code",
   "execution_count": 19,
   "metadata": {},
   "outputs": [
    {
     "name": "stdout",
     "output_type": "stream",
     "text": [
      "Кол-во посетителей в группе А: 18736\n",
      "Кол-во посетителей в группе B: 18916\n",
      "Кол-во покупок в группе A: 557\n",
      "Кол-во покупок в группе B: 640\n"
     ]
    },
    {
     "data": {
      "image/png": "[encoded data removed]",
      "text/plain": [
       "<Figure size 432x288 with 1 Axes>"
      ]
     },
     "metadata": {
      "needs_background": "light"
     },
     "output_type": "display_data"
    },
    {
     "name": "stdout",
     "output_type": "stream",
     "text": [
      "P-value:0.36506882746952496\n",
      "Разница в количестве посетителей в группах A и B статистически НЕ значима\n",
      "\n",
      "Начальная конверсия: 0.030\n",
      "Полученная после изменений конверсия: 0.034\n",
      "Относительное изменение конверсии после изменений: 0.121\n",
      "\n",
      "Вводим начальную конверсию и полученное относительное изменение конверсии в калькулятор\n",
      "Сайт калькулятора: https://www.evanmiller.org/ab-testing/sample-size.html\n",
      "Получаем необходимое количество выборки 35855 для корректного проведения тестирования\n",
      "В нашем случае количество 37652 посещений\n",
      "Кол-во выборки для A/B тестирования корректно подобрано, статистически значимой разницы\n",
      "в количестве посещений м/у группами не обнаружено\n",
      "\n",
      "\n"
     ]
    }
   ],
   "source": [
    "print('Кол-во посетителей в группе А: {}\\n'\n",
    "      'Кол-во посетителей в группе B: {}'.format(visitors[visitors['group']=='A']['visitors'].sum(), \n",
    "                                                 visitors[visitors['group']=='B']['visitors'].sum()))\n",
    "purchasesA = len(orders[orders['group']=='A'])\n",
    "purchasesB = len(orders[orders['group']=='B'])\n",
    "print('Кол-во покупок в группе A: {}'.format(purchasesA))\n",
    "print('Кол-во покупок в группе B: {}'.format(purchasesB))\n",
    "plt.hist(visitors[visitors['group']=='A']['visitors'], alpha = 0.8, label='A', bins = 30)\n",
    "plt.hist(visitors[visitors['group']=='B']['visitors'], alpha = 0.8, label='B', bins = 30)\n",
    "plt.legend()\n",
    "plt.title('Гистограммы кол-ва посетителей в день по группам A и B')\n",
    "plt.show()\n",
    "results = st.mannwhitneyu(visitors[visitors['group']=='A']['visitors'], visitors[visitors['group']=='B']['visitors'])\n",
    "alpha = 0.05\n",
    "print('P-value:{}'.format(results.pvalue))\n",
    "if results.pvalue < alpha:\n",
    "    print('Разница в количестве посетителей в группах A и B статистически значима\\n')\n",
    "else:\n",
    "    print('Разница в количестве посетителей в группах A и B статистически НЕ значима\\n')\n",
    "\n",
    "initial_conversion = len(orders[orders['group']=='A']) / visitors[visitors['group']=='A']['visitors'].sum() \n",
    "resulting_conversion = len(orders[orders['group']=='B']) / visitors[visitors['group']=='B']['visitors'].sum()\n",
    "print('Начальная конверсия: {:.3f}'.format(initial_conversion))\n",
    "print('Полученная после изменений конверсия: {:.3f}'.format(resulting_conversion))\n",
    "print('Относительное изменение конверсии после изменений: {:.3f}'.format(abs(1-(initial_conversion/resulting_conversion))))\n",
    "print('\\nВводим начальную конверсию и полученное относительное изменение конверсии в калькулятор\\n'\n",
    "     'Сайт калькулятора: https://www.evanmiller.org/ab-testing/sample-size.html\\n'\n",
    "     'Получаем необходимое количество выборки 35855 для корректного проведения тестирования\\n'\n",
    "     'В нашем случае количество {} посещений\\n'\n",
    "      'Кол-во выборки для A/B тестирования корректно подобрано, ' \n",
    "      'статистически значимой разницы\\nв количестве посещений м/у группами не обнаружено\\n\\n'.format(visitors['visitors'].sum()))"
   ]
  },
  {
   "cell_type": "markdown",
   "metadata": {},
   "source": [
    "**Вывод:**\n",
    "<br> Столбцы с датами переведены в нужный формат, дубликатов и пустых значений нет. Пять пользователей оказались в двух группах одновременно, они совершили достаточно много транзакций и принесли значимую суму выручки. Они совершили несколько сессий, которые определились в разные группы. Провел очистку таблицы от этих пользователей"
   ]
  },
  {
   "cell_type": "markdown",
   "metadata": {},
   "source": [
    "### <font color='blue'>2.1 Проанализируем A/B-тест:</font> <a class=\"tocSkip\">"
   ]
  },
  {
   "cell_type": "markdown",
   "metadata": {},
   "source": [
    "**2.1.1 Построим график кумулятивной выручки по группам. Сделаем выводы и предположения.**"
   ]
  },
  {
   "cell_type": "code",
   "execution_count": 20,
   "metadata": {},
   "outputs": [
    {
     "data": {
      "text/html": [
       "<div>\n",
       "<style scoped>\n",
       "    .dataframe tbody tr th:only-of-type {\n",
       "        vertical-align: middle;\n",
       "    }\n",
       "\n",
       "    .dataframe tbody tr th {\n",
       "        vertical-align: top;\n",
       "    }\n",
       "\n",
       "    .dataframe thead th {\n",
       "        text-align: right;\n",
       "    }\n",
       "</style>\n",
       "<table border=\"1\" class=\"dataframe\">\n",
       "  <thead>\n",
       "    <tr style=\"text-align: right;\">\n",
       "      <th></th>\n",
       "      <th>orderId</th>\n",
       "      <th>userId</th>\n",
       "      <th>date</th>\n",
       "      <th>revenue</th>\n",
       "      <th>group</th>\n",
       "    </tr>\n",
       "  </thead>\n",
       "  <tbody>\n",
       "    <tr>\n",
       "      <td>0</td>\n",
       "      <td>3667963787</td>\n",
       "      <td>3312258926</td>\n",
       "      <td>2019-08-15</td>\n",
       "      <td>1650</td>\n",
       "      <td>B</td>\n",
       "    </tr>\n",
       "    <tr>\n",
       "      <td>1</td>\n",
       "      <td>2804400009</td>\n",
       "      <td>3642806036</td>\n",
       "      <td>2019-08-15</td>\n",
       "      <td>730</td>\n",
       "      <td>B</td>\n",
       "    </tr>\n",
       "    <tr>\n",
       "      <td>2</td>\n",
       "      <td>2961555356</td>\n",
       "      <td>4069496402</td>\n",
       "      <td>2019-08-15</td>\n",
       "      <td>400</td>\n",
       "      <td>A</td>\n",
       "    </tr>\n",
       "    <tr>\n",
       "      <td>3</td>\n",
       "      <td>3797467345</td>\n",
       "      <td>1196621759</td>\n",
       "      <td>2019-08-15</td>\n",
       "      <td>9759</td>\n",
       "      <td>B</td>\n",
       "    </tr>\n",
       "    <tr>\n",
       "      <td>4</td>\n",
       "      <td>2282983706</td>\n",
       "      <td>2322279887</td>\n",
       "      <td>2019-08-15</td>\n",
       "      <td>2308</td>\n",
       "      <td>B</td>\n",
       "    </tr>\n",
       "  </tbody>\n",
       "</table>\n",
       "</div>"
      ],
      "text/plain": [
       "      orderId      userId       date  revenue group\n",
       "0  3667963787  3312258926 2019-08-15  1650     B   \n",
       "1  2804400009  3642806036 2019-08-15  730      B   \n",
       "2  2961555356  4069496402 2019-08-15  400      A   \n",
       "3  3797467345  1196621759 2019-08-15  9759     B   \n",
       "4  2282983706  2322279887 2019-08-15  2308     B   "
      ]
     },
     "execution_count": 20,
     "metadata": {},
     "output_type": "execute_result"
    }
   ],
   "source": [
    "orders.head()"
   ]
  },
  {
   "cell_type": "code",
   "execution_count": 21,
   "metadata": {},
   "outputs": [
    {
     "data": {
      "text/html": [
       "<div>\n",
       "<style scoped>\n",
       "    .dataframe tbody tr th:only-of-type {\n",
       "        vertical-align: middle;\n",
       "    }\n",
       "\n",
       "    .dataframe tbody tr th {\n",
       "        vertical-align: top;\n",
       "    }\n",
       "\n",
       "    .dataframe thead th {\n",
       "        text-align: right;\n",
       "    }\n",
       "</style>\n",
       "<table border=\"1\" class=\"dataframe\">\n",
       "  <thead>\n",
       "    <tr style=\"text-align: right;\">\n",
       "      <th></th>\n",
       "      <th>date</th>\n",
       "      <th>group</th>\n",
       "    </tr>\n",
       "  </thead>\n",
       "  <tbody>\n",
       "    <tr>\n",
       "      <td>55</td>\n",
       "      <td>2019-08-01</td>\n",
       "      <td>A</td>\n",
       "    </tr>\n",
       "    <tr>\n",
       "      <td>66</td>\n",
       "      <td>2019-08-01</td>\n",
       "      <td>B</td>\n",
       "    </tr>\n",
       "    <tr>\n",
       "      <td>175</td>\n",
       "      <td>2019-08-02</td>\n",
       "      <td>A</td>\n",
       "    </tr>\n",
       "    <tr>\n",
       "      <td>173</td>\n",
       "      <td>2019-08-02</td>\n",
       "      <td>B</td>\n",
       "    </tr>\n",
       "    <tr>\n",
       "      <td>291</td>\n",
       "      <td>2019-08-03</td>\n",
       "      <td>A</td>\n",
       "    </tr>\n",
       "  </tbody>\n",
       "</table>\n",
       "</div>"
      ],
      "text/plain": [
       "          date group\n",
       "55  2019-08-01  A   \n",
       "66  2019-08-01  B   \n",
       "175 2019-08-02  A   \n",
       "173 2019-08-02  B   \n",
       "291 2019-08-03  A   "
      ]
     },
     "execution_count": 21,
     "metadata": {},
     "output_type": "execute_result"
    }
   ],
   "source": [
    "#достаем уникальные значения дат и групп\n",
    "datesGroups = orders[['date','group']].drop_duplicates().sort_values(by=['date', 'group'])\n",
    "datesGroups.head()"
   ]
  },
  {
   "cell_type": "code",
   "execution_count": 22,
   "metadata": {},
   "outputs": [
    {
     "data": {
      "text/html": [
       "<div>\n",
       "<style scoped>\n",
       "    .dataframe tbody tr th:only-of-type {\n",
       "        vertical-align: middle;\n",
       "    }\n",
       "\n",
       "    .dataframe tbody tr th {\n",
       "        vertical-align: top;\n",
       "    }\n",
       "\n",
       "    .dataframe thead th {\n",
       "        text-align: right;\n",
       "    }\n",
       "</style>\n",
       "<table border=\"1\" class=\"dataframe\">\n",
       "  <thead>\n",
       "    <tr style=\"text-align: right;\">\n",
       "      <th></th>\n",
       "      <th>date</th>\n",
       "      <th>group</th>\n",
       "      <th>orders</th>\n",
       "      <th>buyers</th>\n",
       "      <th>revenue</th>\n",
       "    </tr>\n",
       "  </thead>\n",
       "  <tbody>\n",
       "    <tr>\n",
       "      <td>55</td>\n",
       "      <td>2019-08-01</td>\n",
       "      <td>A</td>\n",
       "      <td>24</td>\n",
       "      <td>20</td>\n",
       "      <td>148579</td>\n",
       "    </tr>\n",
       "    <tr>\n",
       "      <td>66</td>\n",
       "      <td>2019-08-01</td>\n",
       "      <td>B</td>\n",
       "      <td>21</td>\n",
       "      <td>20</td>\n",
       "      <td>101217</td>\n",
       "    </tr>\n",
       "    <tr>\n",
       "      <td>175</td>\n",
       "      <td>2019-08-02</td>\n",
       "      <td>A</td>\n",
       "      <td>44</td>\n",
       "      <td>38</td>\n",
       "      <td>242401</td>\n",
       "    </tr>\n",
       "    <tr>\n",
       "      <td>173</td>\n",
       "      <td>2019-08-02</td>\n",
       "      <td>B</td>\n",
       "      <td>45</td>\n",
       "      <td>43</td>\n",
       "      <td>266748</td>\n",
       "    </tr>\n",
       "    <tr>\n",
       "      <td>291</td>\n",
       "      <td>2019-08-03</td>\n",
       "      <td>A</td>\n",
       "      <td>68</td>\n",
       "      <td>62</td>\n",
       "      <td>354874</td>\n",
       "    </tr>\n",
       "  </tbody>\n",
       "</table>\n",
       "</div>"
      ],
      "text/plain": [
       "          date group  orders  buyers  revenue\n",
       "55  2019-08-01  A     24      20      148579 \n",
       "66  2019-08-01  B     21      20      101217 \n",
       "175 2019-08-02  A     44      38      242401 \n",
       "173 2019-08-02  B     45      43      266748 \n",
       "291 2019-08-03  A     68      62      354874 "
      ]
     },
     "execution_count": 22,
     "metadata": {},
     "output_type": "execute_result"
    }
   ],
   "source": [
    "#выводим кумулятивные показатели из orders\n",
    "ordersAggregated = datesGroups.apply(lambda x: orders[np.logical_and(x['date'] >= orders['date'], x['group']==orders['group'])]\\\n",
    ".agg({'date':'max', 'group':'max', 'orderId':'nunique', 'userId':'nunique', 'revenue':'sum'}), axis = 1)\n",
    "ordersAggregated.columns = ['date', 'group', 'orders', 'buyers', 'revenue']\n",
    "\n",
    "ordersAggregated.head()"
   ]
  },
  {
   "cell_type": "code",
   "execution_count": 23,
   "metadata": {},
   "outputs": [
    {
     "data": {
      "text/html": [
       "<div>\n",
       "<style scoped>\n",
       "    .dataframe tbody tr th:only-of-type {\n",
       "        vertical-align: middle;\n",
       "    }\n",
       "\n",
       "    .dataframe tbody tr th {\n",
       "        vertical-align: top;\n",
       "    }\n",
       "\n",
       "    .dataframe thead th {\n",
       "        text-align: right;\n",
       "    }\n",
       "</style>\n",
       "<table border=\"1\" class=\"dataframe\">\n",
       "  <thead>\n",
       "    <tr style=\"text-align: right;\">\n",
       "      <th></th>\n",
       "      <th>date</th>\n",
       "      <th>group</th>\n",
       "      <th>visitors</th>\n",
       "    </tr>\n",
       "  </thead>\n",
       "  <tbody>\n",
       "    <tr>\n",
       "      <td>55</td>\n",
       "      <td>2019-08-01</td>\n",
       "      <td>A</td>\n",
       "      <td>719</td>\n",
       "    </tr>\n",
       "    <tr>\n",
       "      <td>66</td>\n",
       "      <td>2019-08-01</td>\n",
       "      <td>B</td>\n",
       "      <td>713</td>\n",
       "    </tr>\n",
       "    <tr>\n",
       "      <td>175</td>\n",
       "      <td>2019-08-02</td>\n",
       "      <td>A</td>\n",
       "      <td>1338</td>\n",
       "    </tr>\n",
       "    <tr>\n",
       "      <td>173</td>\n",
       "      <td>2019-08-02</td>\n",
       "      <td>B</td>\n",
       "      <td>1294</td>\n",
       "    </tr>\n",
       "    <tr>\n",
       "      <td>291</td>\n",
       "      <td>2019-08-03</td>\n",
       "      <td>A</td>\n",
       "      <td>1845</td>\n",
       "    </tr>\n",
       "  </tbody>\n",
       "</table>\n",
       "</div>"
      ],
      "text/plain": [
       "          date group  visitors\n",
       "55  2019-08-01  A     719     \n",
       "66  2019-08-01  B     713     \n",
       "175 2019-08-02  A     1338    \n",
       "173 2019-08-02  B     1294    \n",
       "291 2019-08-03  A     1845    "
      ]
     },
     "execution_count": 23,
     "metadata": {},
     "output_type": "execute_result"
    }
   ],
   "source": [
    "#выводим кумулятивные показатели из visitors\n",
    "visitorsAggregated = datesGroups.apply(lambda x: visitors[np.logical_and(x['date'] >= visitors['date'], x['group']==visitors['group'])]\\\n",
    ".agg({'date':'max', 'group':'max', 'visitors':'sum'}), axis = 1)\n",
    "\n",
    "visitorsAggregated.head()"
   ]
  },
  {
   "cell_type": "code",
   "execution_count": 24,
   "metadata": {},
   "outputs": [
    {
     "name": "stdout",
     "output_type": "stream",
     "text": [
      "        date group  orders  buyers  revenue  visitors\n",
      "0 2019-08-01  A     24      20      148579   719     \n",
      "1 2019-08-01  B     21      20      101217   713     \n",
      "2 2019-08-02  A     44      38      242401   1338    \n",
      "3 2019-08-02  B     45      43      266748   1294    \n",
      "4 2019-08-03  A     68      62      354874   1845    \n"
     ]
    }
   ],
   "source": [
    "# объединяем кумулятивные данные в одной таблице и присваиваем ее столбцам понятные названия\n",
    "cumulativeData = ordersAggregated.merge(visitorsAggregated, left_on=['date', 'group'], right_on=['date', 'group'])\n",
    "cumulativeData.columns = ['date', 'group', 'orders', 'buyers', 'revenue', 'visitors']\n",
    "\n",
    "print(cumulativeData.head(5)) "
   ]
  },
  {
   "cell_type": "code",
   "execution_count": 25,
   "metadata": {},
   "outputs": [],
   "source": [
    "# датафрейм с кумулятивным количеством заказов и кумулятивной выручкой по дням в группе А\n",
    "cumulativeRevenueA = cumulativeData[cumulativeData['group']=='A'][['date','revenue', 'orders']]\n",
    "\n",
    "# датафрейм с кумулятивным количеством заказов и кумулятивной выручкой по дням в группе B\n",
    "cumulativeRevenueB = cumulativeData[cumulativeData['group']=='B'][['date','revenue', 'orders']]"
   ]
  },
  {
   "cell_type": "code",
   "execution_count": 26,
   "metadata": {},
   "outputs": [
    {
     "data": {
      "image/png": "[encoded data removed]",
      "text/plain": [
       "<Figure size 432x288 with 1 Axes>"
      ]
     },
     "metadata": {
      "needs_background": "light"
     },
     "output_type": "display_data"
    }
   ],
   "source": [
    "# Строим график выручки группы А\n",
    "plt.plot(cumulativeRevenueA['date'], cumulativeRevenueA['revenue'], label='A')\n",
    "\n",
    "# Строим график выручки группы B\n",
    "plt.plot(cumulativeRevenueB['date'], cumulativeRevenueB['revenue'], label='B')\n",
    "\n",
    "plt.legend()\n",
    "plt.xticks(rotation=45)\n",
    "plt.title(\"Кумулятивная выручка по группам\") \n",
    "plt.xlabel(\"Дата\") \n",
    "plt.ylabel(\"Выручка\");\n",
    "plt.show()"
   ]
  },
  {
   "cell_type": "markdown",
   "metadata": {},
   "source": [
    "**Вывод:**\n",
    "<br> Выручка увеличивается в течение всего теста в обеих группах. Однако график выручки группы В в одной точке резко растет, а дальше с таким же коэффициентом увеличивается как и в А. Это может сигнализировать о всплеске числа заказов, либо о появлении очень дорогих заказов в выборке в определенный период."
   ]
  },
  {
   "cell_type": "markdown",
   "metadata": {},
   "source": [
    "**2.1.2 Построим график кумулятивного среднего чека по группам. Сделаем выводы и предположения.**"
   ]
  },
  {
   "cell_type": "code",
   "execution_count": 27,
   "metadata": {},
   "outputs": [
    {
     "data": {
      "image/png": "[encoded data removed]",
      "text/plain": [
       "<Figure size 432x288 with 1 Axes>"
      ]
     },
     "metadata": {
      "needs_background": "light"
     },
     "output_type": "display_data"
    }
   ],
   "source": [
    "#Построим графики среднего чека по группам — разделим кумулятивную выручку на кумулятивное число заказов\n",
    "plt.plot(cumulativeRevenueA['date'], cumulativeRevenueA['revenue']/cumulativeRevenueA['orders'], label='A')\n",
    "plt.plot(cumulativeRevenueB['date'], cumulativeRevenueB['revenue']/cumulativeRevenueB['orders'], label='B')\n",
    "plt.legend() \n",
    "plt.title(\"Кумулятивный средний чек по группам\") \n",
    "plt.xlabel(\"Дата\") \n",
    "plt.xticks(rotation=45)\n",
    "plt.ylabel(\"Средний чек\");\n",
    "plt.show()"
   ]
  },
  {
   "cell_type": "markdown",
   "metadata": {},
   "source": [
    "**Вывод:**\n",
    "<br> Средний чек группы А после снижения идет резко вверх и после небольшого снижения устанавливается равномерно. Средний чек группы В растет рывками, причем последний рывок достаточно резкий, а далее идет снижение. Возможно, в группу B периодически попадали крупные заказы. Но после этих заказов средний чек каждый раз падает. Средний кумулятивный чек группы В выше в большей части времени."
   ]
  },
  {
   "cell_type": "markdown",
   "metadata": {},
   "source": [
    "**2.1.3 Построим график относительного изменения кумулятивного среднего чека группы B к группе A. Сделаем выводы и предположения.**"
   ]
  },
  {
   "cell_type": "code",
   "execution_count": 28,
   "metadata": {},
   "outputs": [
    {
     "data": {
      "text/html": [
       "<div>\n",
       "<style scoped>\n",
       "    .dataframe tbody tr th:only-of-type {\n",
       "        vertical-align: middle;\n",
       "    }\n",
       "\n",
       "    .dataframe tbody tr th {\n",
       "        vertical-align: top;\n",
       "    }\n",
       "\n",
       "    .dataframe thead th {\n",
       "        text-align: right;\n",
       "    }\n",
       "</style>\n",
       "<table border=\"1\" class=\"dataframe\">\n",
       "  <thead>\n",
       "    <tr style=\"text-align: right;\">\n",
       "      <th></th>\n",
       "      <th>date</th>\n",
       "      <th>revenueA</th>\n",
       "      <th>ordersA</th>\n",
       "      <th>revenueB</th>\n",
       "      <th>ordersB</th>\n",
       "    </tr>\n",
       "  </thead>\n",
       "  <tbody>\n",
       "    <tr>\n",
       "      <td>0</td>\n",
       "      <td>2019-08-01</td>\n",
       "      <td>148579</td>\n",
       "      <td>24</td>\n",
       "      <td>101217</td>\n",
       "      <td>21</td>\n",
       "    </tr>\n",
       "    <tr>\n",
       "      <td>1</td>\n",
       "      <td>2019-08-02</td>\n",
       "      <td>242401</td>\n",
       "      <td>44</td>\n",
       "      <td>266748</td>\n",
       "      <td>45</td>\n",
       "    </tr>\n",
       "    <tr>\n",
       "      <td>2</td>\n",
       "      <td>2019-08-03</td>\n",
       "      <td>354874</td>\n",
       "      <td>68</td>\n",
       "      <td>380996</td>\n",
       "      <td>61</td>\n",
       "    </tr>\n",
       "    <tr>\n",
       "      <td>3</td>\n",
       "      <td>2019-08-04</td>\n",
       "      <td>425699</td>\n",
       "      <td>84</td>\n",
       "      <td>489567</td>\n",
       "      <td>78</td>\n",
       "    </tr>\n",
       "    <tr>\n",
       "      <td>4</td>\n",
       "      <td>2019-08-05</td>\n",
       "      <td>549917</td>\n",
       "      <td>109</td>\n",
       "      <td>581995</td>\n",
       "      <td>101</td>\n",
       "    </tr>\n",
       "  </tbody>\n",
       "</table>\n",
       "</div>"
      ],
      "text/plain": [
       "        date  revenueA  ordersA  revenueB  ordersB\n",
       "0 2019-08-01  148579    24       101217    21     \n",
       "1 2019-08-02  242401    44       266748    45     \n",
       "2 2019-08-03  354874    68       380996    61     \n",
       "3 2019-08-04  425699    84       489567    78     \n",
       "4 2019-08-05  549917    109      581995    101    "
      ]
     },
     "execution_count": 28,
     "metadata": {},
     "output_type": "execute_result"
    }
   ],
   "source": [
    "# собираем данные в одном датафрейме\n",
    "mergedCumulativeRevenue = cumulativeRevenueA.merge(cumulativeRevenueB, left_on='date', right_on='date', how='left', suffixes=['A', 'B'])\n",
    "mergedCumulativeRevenue.head()"
   ]
  },
  {
   "cell_type": "code",
   "execution_count": 29,
   "metadata": {},
   "outputs": [
    {
     "data": {
      "image/png": "[encoded data removed]",
      "text/plain": [
       "<Figure size 432x288 with 1 Axes>"
      ]
     },
     "metadata": {
      "needs_background": "light"
     },
     "output_type": "display_data"
    }
   ],
   "source": [
    "# cтроим отношение средних чеков\n",
    "plt.plot(mergedCumulativeRevenue['date'], (mergedCumulativeRevenue['revenueB']/mergedCumulativeRevenue['ordersB'])/(mergedCumulativeRevenue['revenueA']/mergedCumulativeRevenue['ordersA'])-1)\n",
    "\n",
    "# добавляем ось X\n",
    "plt.axhline(y=0, color='black', linestyle='--') \n",
    "plt.xticks(rotation=45)\n",
    "plt.title(\"Относительное изменение кумулятивного среднего чека группы В к А\") \n",
    "plt.xlabel(\"Дата\") \n",
    "plt.ylabel(\"Отношение\");\n",
    "\n",
    "plt.show()"
   ]
  },
  {
   "cell_type": "markdown",
   "metadata": {},
   "source": [
    "**Вывод:**\n",
    "<br> В нескольких точках график отношения средних чеков между группами резко «скачет». Где-то уж точно спрятались крупные заказы и выбросы! График сигнализирует о том, что гораздо чаще кумулятивный средний чек группы В больше, чем у А в некоторых случаях разница достигает 30-и почти 50 %."
   ]
  },
  {
   "cell_type": "markdown",
   "metadata": {},
   "source": [
    "**2.1.4 Построим график кумулятивной конверсии по группам. Сделаем выводы и предположения.**"
   ]
  },
  {
   "cell_type": "code",
   "execution_count": 30,
   "metadata": {},
   "outputs": [
    {
     "data": {
      "text/html": [
       "<div>\n",
       "<style scoped>\n",
       "    .dataframe tbody tr th:only-of-type {\n",
       "        vertical-align: middle;\n",
       "    }\n",
       "\n",
       "    .dataframe tbody tr th {\n",
       "        vertical-align: top;\n",
       "    }\n",
       "\n",
       "    .dataframe thead th {\n",
       "        text-align: right;\n",
       "    }\n",
       "</style>\n",
       "<table border=\"1\" class=\"dataframe\">\n",
       "  <thead>\n",
       "    <tr style=\"text-align: right;\">\n",
       "      <th></th>\n",
       "      <th>date</th>\n",
       "      <th>group</th>\n",
       "      <th>orders</th>\n",
       "      <th>buyers</th>\n",
       "      <th>revenue</th>\n",
       "      <th>visitors</th>\n",
       "    </tr>\n",
       "  </thead>\n",
       "  <tbody>\n",
       "    <tr>\n",
       "      <td>0</td>\n",
       "      <td>2019-08-01</td>\n",
       "      <td>A</td>\n",
       "      <td>24</td>\n",
       "      <td>20</td>\n",
       "      <td>148579</td>\n",
       "      <td>719</td>\n",
       "    </tr>\n",
       "    <tr>\n",
       "      <td>1</td>\n",
       "      <td>2019-08-01</td>\n",
       "      <td>B</td>\n",
       "      <td>21</td>\n",
       "      <td>20</td>\n",
       "      <td>101217</td>\n",
       "      <td>713</td>\n",
       "    </tr>\n",
       "    <tr>\n",
       "      <td>2</td>\n",
       "      <td>2019-08-02</td>\n",
       "      <td>A</td>\n",
       "      <td>44</td>\n",
       "      <td>38</td>\n",
       "      <td>242401</td>\n",
       "      <td>1338</td>\n",
       "    </tr>\n",
       "    <tr>\n",
       "      <td>3</td>\n",
       "      <td>2019-08-02</td>\n",
       "      <td>B</td>\n",
       "      <td>45</td>\n",
       "      <td>43</td>\n",
       "      <td>266748</td>\n",
       "      <td>1294</td>\n",
       "    </tr>\n",
       "    <tr>\n",
       "      <td>4</td>\n",
       "      <td>2019-08-03</td>\n",
       "      <td>A</td>\n",
       "      <td>68</td>\n",
       "      <td>62</td>\n",
       "      <td>354874</td>\n",
       "      <td>1845</td>\n",
       "    </tr>\n",
       "  </tbody>\n",
       "</table>\n",
       "</div>"
      ],
      "text/plain": [
       "        date group  orders  buyers  revenue  visitors\n",
       "0 2019-08-01  A     24      20      148579   719     \n",
       "1 2019-08-01  B     21      20      101217   713     \n",
       "2 2019-08-02  A     44      38      242401   1338    \n",
       "3 2019-08-02  B     45      43      266748   1294    \n",
       "4 2019-08-03  A     68      62      354874   1845    "
      ]
     },
     "execution_count": 30,
     "metadata": {},
     "output_type": "execute_result"
    }
   ],
   "source": [
    "cumulativeData.head()"
   ]
  },
  {
   "cell_type": "code",
   "execution_count": 31,
   "metadata": {},
   "outputs": [
    {
     "name": "stdout",
     "output_type": "stream",
     "text": [
      "2019-08-01 00:00:00\n"
     ]
    },
    {
     "data": {
      "text/plain": [
       "Timestamp('2019-08-31 00:00:00')"
      ]
     },
     "execution_count": 31,
     "metadata": {},
     "output_type": "execute_result"
    }
   ],
   "source": [
    "print(cumulativeData['date'].min())\n",
    "cumulativeData['date'].max()"
   ]
  },
  {
   "cell_type": "code",
   "execution_count": 32,
   "metadata": {},
   "outputs": [
    {
     "data": {
      "image/png": "[encoded data removed]",
      "text/plain": [
       "<Figure size 432x288 with 1 Axes>"
      ]
     },
     "metadata": {
      "needs_background": "light"
     },
     "output_type": "display_data"
    }
   ],
   "source": [
    "# считаем кумулятивную конверсию\n",
    "cumulativeData['conversion'] = cumulativeData['orders']/cumulativeData['visitors']\n",
    "\n",
    "# отделяем данные по группе A\n",
    "cumulativeDataA = cumulativeData[cumulativeData['group']=='A']\n",
    "\n",
    "# отделяем данные по группе B\n",
    "cumulativeDataB = cumulativeData[cumulativeData['group']=='B']\n",
    "\n",
    "# строим графики\n",
    "plt.plot(cumulativeDataA['date'], cumulativeDataA['conversion'], label='A')\n",
    "plt.plot(cumulativeDataB['date'], cumulativeDataB['conversion'], label='B')\n",
    "plt.legend()\n",
    "\n",
    "# задаем масштаб осей\n",
    "plt.axis(['2019-08-01', '2019-08-31', 0, 0.05]) \n",
    "plt.xticks(rotation=45)\n",
    "plt.title(\"Кумулятивная конверсия по группам\") \n",
    "plt.xlabel(\"Дата\") \n",
    "plt.ylabel(\"Конверсия\");\n",
    "\n",
    "plt.show()"
   ]
  },
  {
   "cell_type": "markdown",
   "metadata": {},
   "source": [
    "**Вывод:**\n",
    "<br> Группы колебались в первые дни, но затем конверсия группы В вырвалась вперёд и зафиксировалась, а конверсия группы А просела и также зафиксировалась."
   ]
  },
  {
   "cell_type": "markdown",
   "metadata": {},
   "source": [
    "**2.1.5 Построим график относительного изменения кумулятивной конверсии группы B к группе A. Сделаем выводы и предположения.**"
   ]
  },
  {
   "cell_type": "code",
   "execution_count": 33,
   "metadata": {},
   "outputs": [
    {
     "data": {
      "text/html": [
       "<div>\n",
       "<style scoped>\n",
       "    .dataframe tbody tr th:only-of-type {\n",
       "        vertical-align: middle;\n",
       "    }\n",
       "\n",
       "    .dataframe tbody tr th {\n",
       "        vertical-align: top;\n",
       "    }\n",
       "\n",
       "    .dataframe thead th {\n",
       "        text-align: right;\n",
       "    }\n",
       "</style>\n",
       "<table border=\"1\" class=\"dataframe\">\n",
       "  <thead>\n",
       "    <tr style=\"text-align: right;\">\n",
       "      <th></th>\n",
       "      <th>date</th>\n",
       "      <th>group</th>\n",
       "      <th>orders</th>\n",
       "      <th>buyers</th>\n",
       "      <th>revenue</th>\n",
       "      <th>visitors</th>\n",
       "      <th>conversion</th>\n",
       "    </tr>\n",
       "  </thead>\n",
       "  <tbody>\n",
       "    <tr>\n",
       "      <td>0</td>\n",
       "      <td>2019-08-01</td>\n",
       "      <td>A</td>\n",
       "      <td>24</td>\n",
       "      <td>20</td>\n",
       "      <td>148579</td>\n",
       "      <td>719</td>\n",
       "      <td>0.033380</td>\n",
       "    </tr>\n",
       "    <tr>\n",
       "      <td>2</td>\n",
       "      <td>2019-08-02</td>\n",
       "      <td>A</td>\n",
       "      <td>44</td>\n",
       "      <td>38</td>\n",
       "      <td>242401</td>\n",
       "      <td>1338</td>\n",
       "      <td>0.032885</td>\n",
       "    </tr>\n",
       "    <tr>\n",
       "      <td>4</td>\n",
       "      <td>2019-08-03</td>\n",
       "      <td>A</td>\n",
       "      <td>68</td>\n",
       "      <td>62</td>\n",
       "      <td>354874</td>\n",
       "      <td>1845</td>\n",
       "      <td>0.036856</td>\n",
       "    </tr>\n",
       "    <tr>\n",
       "      <td>6</td>\n",
       "      <td>2019-08-04</td>\n",
       "      <td>A</td>\n",
       "      <td>84</td>\n",
       "      <td>77</td>\n",
       "      <td>425699</td>\n",
       "      <td>2562</td>\n",
       "      <td>0.032787</td>\n",
       "    </tr>\n",
       "    <tr>\n",
       "      <td>8</td>\n",
       "      <td>2019-08-05</td>\n",
       "      <td>A</td>\n",
       "      <td>109</td>\n",
       "      <td>100</td>\n",
       "      <td>549917</td>\n",
       "      <td>3318</td>\n",
       "      <td>0.032851</td>\n",
       "    </tr>\n",
       "  </tbody>\n",
       "</table>\n",
       "</div>"
      ],
      "text/plain": [
       "        date group  orders  buyers  revenue  visitors  conversion\n",
       "0 2019-08-01  A     24      20      148579   719       0.033380  \n",
       "2 2019-08-02  A     44      38      242401   1338      0.032885  \n",
       "4 2019-08-03  A     68      62      354874   1845      0.036856  \n",
       "6 2019-08-04  A     84      77      425699   2562      0.032787  \n",
       "8 2019-08-05  A     109     100     549917   3318      0.032851  "
      ]
     },
     "metadata": {},
     "output_type": "display_data"
    },
    {
     "data": {
      "text/html": [
       "<div>\n",
       "<style scoped>\n",
       "    .dataframe tbody tr th:only-of-type {\n",
       "        vertical-align: middle;\n",
       "    }\n",
       "\n",
       "    .dataframe tbody tr th {\n",
       "        vertical-align: top;\n",
       "    }\n",
       "\n",
       "    .dataframe thead th {\n",
       "        text-align: right;\n",
       "    }\n",
       "</style>\n",
       "<table border=\"1\" class=\"dataframe\">\n",
       "  <thead>\n",
       "    <tr style=\"text-align: right;\">\n",
       "      <th></th>\n",
       "      <th>date</th>\n",
       "      <th>group</th>\n",
       "      <th>orders</th>\n",
       "      <th>buyers</th>\n",
       "      <th>revenue</th>\n",
       "      <th>visitors</th>\n",
       "      <th>conversion</th>\n",
       "    </tr>\n",
       "  </thead>\n",
       "  <tbody>\n",
       "    <tr>\n",
       "      <td>1</td>\n",
       "      <td>2019-08-01</td>\n",
       "      <td>B</td>\n",
       "      <td>21</td>\n",
       "      <td>20</td>\n",
       "      <td>101217</td>\n",
       "      <td>713</td>\n",
       "      <td>0.029453</td>\n",
       "    </tr>\n",
       "    <tr>\n",
       "      <td>3</td>\n",
       "      <td>2019-08-02</td>\n",
       "      <td>B</td>\n",
       "      <td>45</td>\n",
       "      <td>43</td>\n",
       "      <td>266748</td>\n",
       "      <td>1294</td>\n",
       "      <td>0.034776</td>\n",
       "    </tr>\n",
       "    <tr>\n",
       "      <td>5</td>\n",
       "      <td>2019-08-03</td>\n",
       "      <td>B</td>\n",
       "      <td>61</td>\n",
       "      <td>59</td>\n",
       "      <td>380996</td>\n",
       "      <td>1803</td>\n",
       "      <td>0.033833</td>\n",
       "    </tr>\n",
       "    <tr>\n",
       "      <td>7</td>\n",
       "      <td>2019-08-04</td>\n",
       "      <td>B</td>\n",
       "      <td>78</td>\n",
       "      <td>75</td>\n",
       "      <td>489567</td>\n",
       "      <td>2573</td>\n",
       "      <td>0.030315</td>\n",
       "    </tr>\n",
       "    <tr>\n",
       "      <td>9</td>\n",
       "      <td>2019-08-05</td>\n",
       "      <td>B</td>\n",
       "      <td>101</td>\n",
       "      <td>98</td>\n",
       "      <td>581995</td>\n",
       "      <td>3280</td>\n",
       "      <td>0.030793</td>\n",
       "    </tr>\n",
       "  </tbody>\n",
       "</table>\n",
       "</div>"
      ],
      "text/plain": [
       "        date group  orders  buyers  revenue  visitors  conversion\n",
       "1 2019-08-01  B     21      20      101217   713       0.029453  \n",
       "3 2019-08-02  B     45      43      266748   1294      0.034776  \n",
       "5 2019-08-03  B     61      59      380996   1803      0.033833  \n",
       "7 2019-08-04  B     78      75      489567   2573      0.030315  \n",
       "9 2019-08-05  B     101     98      581995   3280      0.030793  "
      ]
     },
     "execution_count": 33,
     "metadata": {},
     "output_type": "execute_result"
    }
   ],
   "source": [
    "display(cumulativeDataA.head())\n",
    "cumulativeDataB.head()"
   ]
  },
  {
   "cell_type": "code",
   "execution_count": 34,
   "metadata": {},
   "outputs": [
    {
     "data": {
      "text/html": [
       "<div>\n",
       "<style scoped>\n",
       "    .dataframe tbody tr th:only-of-type {\n",
       "        vertical-align: middle;\n",
       "    }\n",
       "\n",
       "    .dataframe tbody tr th {\n",
       "        vertical-align: top;\n",
       "    }\n",
       "\n",
       "    .dataframe thead th {\n",
       "        text-align: right;\n",
       "    }\n",
       "</style>\n",
       "<table border=\"1\" class=\"dataframe\">\n",
       "  <thead>\n",
       "    <tr style=\"text-align: right;\">\n",
       "      <th></th>\n",
       "      <th>date</th>\n",
       "      <th>conversionA</th>\n",
       "      <th>conversionB</th>\n",
       "    </tr>\n",
       "  </thead>\n",
       "  <tbody>\n",
       "    <tr>\n",
       "      <td>0</td>\n",
       "      <td>2019-08-01</td>\n",
       "      <td>0.033380</td>\n",
       "      <td>0.029453</td>\n",
       "    </tr>\n",
       "    <tr>\n",
       "      <td>1</td>\n",
       "      <td>2019-08-02</td>\n",
       "      <td>0.032885</td>\n",
       "      <td>0.034776</td>\n",
       "    </tr>\n",
       "    <tr>\n",
       "      <td>2</td>\n",
       "      <td>2019-08-03</td>\n",
       "      <td>0.036856</td>\n",
       "      <td>0.033833</td>\n",
       "    </tr>\n",
       "    <tr>\n",
       "      <td>3</td>\n",
       "      <td>2019-08-04</td>\n",
       "      <td>0.032787</td>\n",
       "      <td>0.030315</td>\n",
       "    </tr>\n",
       "    <tr>\n",
       "      <td>4</td>\n",
       "      <td>2019-08-05</td>\n",
       "      <td>0.032851</td>\n",
       "      <td>0.030793</td>\n",
       "    </tr>\n",
       "  </tbody>\n",
       "</table>\n",
       "</div>"
      ],
      "text/plain": [
       "        date  conversionA  conversionB\n",
       "0 2019-08-01  0.033380     0.029453   \n",
       "1 2019-08-02  0.032885     0.034776   \n",
       "2 2019-08-03  0.036856     0.033833   \n",
       "3 2019-08-04  0.032787     0.030315   \n",
       "4 2019-08-05  0.032851     0.030793   "
      ]
     },
     "execution_count": 34,
     "metadata": {},
     "output_type": "execute_result"
    }
   ],
   "source": [
    "mergedCumulativeConversions = cumulativeDataA[['date','conversion']].merge(cumulativeDataB[['date','conversion']], left_on='date', right_on='date', how='left', suffixes=['A', 'B'])\n",
    "\n",
    "mergedCumulativeConversions.head()"
   ]
  },
  {
   "cell_type": "code",
   "execution_count": 35,
   "metadata": {},
   "outputs": [
    {
     "data": {
      "image/png": "[encoded data removed]",
      "text/plain": [
       "<Figure size 432x288 with 1 Axes>"
      ]
     },
     "metadata": {
      "needs_background": "light"
     },
     "output_type": "display_data"
    }
   ],
   "source": [
    "plt.plot(mergedCumulativeConversions['date'], mergedCumulativeConversions['conversionB']/mergedCumulativeConversions['conversionA']-1, label=\"Относительный прирост конверсии группы B относительно группы A\")\n",
    "plt.legend()\n",
    "\n",
    "plt.axhline(y=0, color='black', linestyle='--')\n",
    "plt.axhline(y=-0.1, color='grey', linestyle='--')\n",
    "plt.axis([\"2019-08-01\", '2019-08-31', -0.6, 0.6]) \n",
    "plt.xticks(rotation=45)\n",
    "plt.title(\"Относительное изменение кумулятивной конверсии группы В к А\") \n",
    "plt.xlabel(\"Дата\") \n",
    "plt.ylabel(\"Отношение конверсии\");\n",
    "plt.show()"
   ]
  },
  {
   "cell_type": "markdown",
   "metadata": {},
   "source": [
    "**Вывод:**\n",
    "<br> В целом, конверсия группы В выше группы А, только в первые дни было иначе. Прирост относительно группы А составляет 10-20 %."
   ]
  },
  {
   "cell_type": "markdown",
   "metadata": {},
   "source": [
    "**2.1.6 Построим точечный график количества заказов по пользователям. Сделаем выводы и предположения.**"
   ]
  },
  {
   "cell_type": "code",
   "execution_count": 36,
   "metadata": {},
   "outputs": [
    {
     "data": {
      "text/html": [
       "<div>\n",
       "<style scoped>\n",
       "    .dataframe tbody tr th:only-of-type {\n",
       "        vertical-align: middle;\n",
       "    }\n",
       "\n",
       "    .dataframe tbody tr th {\n",
       "        vertical-align: top;\n",
       "    }\n",
       "\n",
       "    .dataframe thead th {\n",
       "        text-align: right;\n",
       "    }\n",
       "</style>\n",
       "<table border=\"1\" class=\"dataframe\">\n",
       "  <thead>\n",
       "    <tr style=\"text-align: right;\">\n",
       "      <th></th>\n",
       "      <th>orderId</th>\n",
       "      <th>userId</th>\n",
       "      <th>date</th>\n",
       "      <th>revenue</th>\n",
       "      <th>group</th>\n",
       "    </tr>\n",
       "  </thead>\n",
       "  <tbody>\n",
       "    <tr>\n",
       "      <td>0</td>\n",
       "      <td>3667963787</td>\n",
       "      <td>3312258926</td>\n",
       "      <td>2019-08-15</td>\n",
       "      <td>1650</td>\n",
       "      <td>B</td>\n",
       "    </tr>\n",
       "    <tr>\n",
       "      <td>1</td>\n",
       "      <td>2804400009</td>\n",
       "      <td>3642806036</td>\n",
       "      <td>2019-08-15</td>\n",
       "      <td>730</td>\n",
       "      <td>B</td>\n",
       "    </tr>\n",
       "    <tr>\n",
       "      <td>2</td>\n",
       "      <td>2961555356</td>\n",
       "      <td>4069496402</td>\n",
       "      <td>2019-08-15</td>\n",
       "      <td>400</td>\n",
       "      <td>A</td>\n",
       "    </tr>\n",
       "    <tr>\n",
       "      <td>3</td>\n",
       "      <td>3797467345</td>\n",
       "      <td>1196621759</td>\n",
       "      <td>2019-08-15</td>\n",
       "      <td>9759</td>\n",
       "      <td>B</td>\n",
       "    </tr>\n",
       "    <tr>\n",
       "      <td>4</td>\n",
       "      <td>2282983706</td>\n",
       "      <td>2322279887</td>\n",
       "      <td>2019-08-15</td>\n",
       "      <td>2308</td>\n",
       "      <td>B</td>\n",
       "    </tr>\n",
       "  </tbody>\n",
       "</table>\n",
       "</div>"
      ],
      "text/plain": [
       "      orderId      userId       date  revenue group\n",
       "0  3667963787  3312258926 2019-08-15  1650     B   \n",
       "1  2804400009  3642806036 2019-08-15  730      B   \n",
       "2  2961555356  4069496402 2019-08-15  400      A   \n",
       "3  3797467345  1196621759 2019-08-15  9759     B   \n",
       "4  2282983706  2322279887 2019-08-15  2308     B   "
      ]
     },
     "execution_count": 36,
     "metadata": {},
     "output_type": "execute_result"
    }
   ],
   "source": [
    "orders.head()"
   ]
  },
  {
   "cell_type": "code",
   "execution_count": 37,
   "metadata": {},
   "outputs": [
    {
     "data": {
      "text/html": [
       "<div>\n",
       "<style scoped>\n",
       "    .dataframe tbody tr th:only-of-type {\n",
       "        vertical-align: middle;\n",
       "    }\n",
       "\n",
       "    .dataframe tbody tr th {\n",
       "        vertical-align: top;\n",
       "    }\n",
       "\n",
       "    .dataframe thead th {\n",
       "        text-align: right;\n",
       "    }\n",
       "</style>\n",
       "<table border=\"1\" class=\"dataframe\">\n",
       "  <thead>\n",
       "    <tr style=\"text-align: right;\">\n",
       "      <th></th>\n",
       "      <th>userId</th>\n",
       "      <th>orders</th>\n",
       "    </tr>\n",
       "  </thead>\n",
       "  <tbody>\n",
       "    <tr>\n",
       "      <td>1023</td>\n",
       "      <td>4256040402</td>\n",
       "      <td>11</td>\n",
       "    </tr>\n",
       "    <tr>\n",
       "      <td>591</td>\n",
       "      <td>2458001652</td>\n",
       "      <td>11</td>\n",
       "    </tr>\n",
       "    <tr>\n",
       "      <td>569</td>\n",
       "      <td>2378935119</td>\n",
       "      <td>9</td>\n",
       "    </tr>\n",
       "    <tr>\n",
       "      <td>487</td>\n",
       "      <td>2038680547</td>\n",
       "      <td>8</td>\n",
       "    </tr>\n",
       "    <tr>\n",
       "      <td>44</td>\n",
       "      <td>199603092</td>\n",
       "      <td>5</td>\n",
       "    </tr>\n",
       "    <tr>\n",
       "      <td>744</td>\n",
       "      <td>3062433592</td>\n",
       "      <td>5</td>\n",
       "    </tr>\n",
       "    <tr>\n",
       "      <td>55</td>\n",
       "      <td>237748145</td>\n",
       "      <td>5</td>\n",
       "    </tr>\n",
       "    <tr>\n",
       "      <td>917</td>\n",
       "      <td>3803269165</td>\n",
       "      <td>5</td>\n",
       "    </tr>\n",
       "    <tr>\n",
       "      <td>299</td>\n",
       "      <td>1230306981</td>\n",
       "      <td>5</td>\n",
       "    </tr>\n",
       "    <tr>\n",
       "      <td>897</td>\n",
       "      <td>3717692402</td>\n",
       "      <td>5</td>\n",
       "    </tr>\n",
       "  </tbody>\n",
       "</table>\n",
       "</div>"
      ],
      "text/plain": [
       "          userId  orders\n",
       "1023  4256040402  11    \n",
       "591   2458001652  11    \n",
       "569   2378935119  9     \n",
       "487   2038680547  8     \n",
       "44    199603092   5     \n",
       "744   3062433592  5     \n",
       "55    237748145   5     \n",
       "917   3803269165  5     \n",
       "299   1230306981  5     \n",
       "897   3717692402  5     "
      ]
     },
     "execution_count": 37,
     "metadata": {},
     "output_type": "execute_result"
    }
   ],
   "source": [
    "ordersByUsers = (\n",
    "    orders.drop(['group', 'revenue', 'date'], axis=1)\n",
    "    .groupby('userId', as_index=False)\n",
    "    .agg({'orderId': pd.Series.nunique})\n",
    ")\n",
    "\n",
    "ordersByUsers.columns = ['userId', 'orders']\n",
    "\n",
    "ordersByUsers.sort_values(by='orders', ascending=False).head(10)"
   ]
  },
  {
   "cell_type": "code",
   "execution_count": 38,
   "metadata": {},
   "outputs": [
    {
     "data": {
      "image/png": "[encoded data removed]",
      "text/plain": [
       "<Figure size 432x288 with 1 Axes>"
      ]
     },
     "metadata": {
      "needs_background": "light"
     },
     "output_type": "display_data"
    }
   ],
   "source": [
    "x_values = pd.Series(range(0,len(ordersByUsers)))\n",
    "plt.scatter(x_values, ordersByUsers['orders']) \n",
    "plt.title(\"Кол-во заказов по пользователям\") \n",
    "plt.xlabel(\"Пользователи\") \n",
    "plt.ylabel(\"Заказы\");\n",
    "plt.show()"
   ]
  },
  {
   "cell_type": "code",
   "execution_count": 39,
   "metadata": {},
   "outputs": [],
   "source": [
    "ordersByUsers_a = (\n",
    "    orders.query('group == \"A\"').drop(['group', 'revenue', 'date'], axis=1)\n",
    "    .groupby('userId', as_index=False)\n",
    "    .agg({'orderId': pd.Series.nunique})\n",
    ")\n",
    "\n",
    "ordersByUsers_a.columns = ['userId', 'orders']\n",
    "x_values_a = pd.Series(range(0,len(ordersByUsers_a)))\n",
    "\n",
    "ordersByUsers_b = (\n",
    "    orders.query('group == \"B\"').drop(['group', 'revenue', 'date'], axis=1)\n",
    "    .groupby('userId', as_index=False)\n",
    "    .agg({'orderId': pd.Series.nunique})\n",
    ")\n",
    "\n",
    "ordersByUsers_b.columns = ['userId', 'orders']\n",
    "x_values_b = pd.Series(range(0,len(ordersByUsers_b)))"
   ]
  },
  {
   "cell_type": "code",
   "execution_count": 40,
   "metadata": {},
   "outputs": [
    {
     "data": {
      "image/png": "[encoded data removed]",
      "text/plain": [
       "<Figure size 432x288 with 1 Axes>"
      ]
     },
     "metadata": {
      "needs_background": "light"
     },
     "output_type": "display_data"
    }
   ],
   "source": [
    "x = x_values_a\n",
    "y = ordersByUsers_a['orders']\n",
    "\n",
    "plt.scatter(x, y, c='coral')\n",
    "\n",
    "x = x_values_b\n",
    "y = ordersByUsers_b['orders']\n",
    "\n",
    "plt.scatter(x, y, c='lightblue')\n",
    "\n",
    "plt.title('Кол-во заказов по пользователям')\n",
    "plt.xlabel('Пользователи')\n",
    "plt.ylabel('Заказы')\n",
    "\n",
    "plt.show()"
   ]
  },
  {
   "cell_type": "markdown",
   "metadata": {},
   "source": [
    "**Вывод:**\n",
    "<br> Выводы подтверждаются: много пользователей с 1-3 заказами, а покупателей с 4 и более заказами – гораздо меньше. Судя по граифкам, подавляющее большинство пользователей не совершает более 2 заказов. В группе В привалируют пользователи с одним заказом, а в А - с двумя, а покупателей с 4 и более заказами – гораздо меньше. В группе В преобладают пользователи с одним заказом, а в А - с двумя, а покупателей с 4 и более заказами – гораздо меньше."
   ]
  },
  {
   "cell_type": "markdown",
   "metadata": {},
   "source": [
    "**2.1.7 Посчитаем 95-й и 99-й перцентили количества заказов на пользователя. Выберем границу для определения аномальных пользователей.**"
   ]
  },
  {
   "cell_type": "code",
   "execution_count": 41,
   "metadata": {},
   "outputs": [
    {
     "data": {
      "text/plain": [
       "array([2., 4.])"
      ]
     },
     "execution_count": 41,
     "metadata": {},
     "output_type": "execute_result"
    }
   ],
   "source": [
    "np.percentile(ordersByUsers['orders'], [95, 99])"
   ]
  },
  {
   "cell_type": "markdown",
   "metadata": {},
   "source": [
    "**Вывод:**\n",
    "<br> 99-му перцентилю соотвествует значение 4, то есть больше 4 заказов сделали меньше 1% пользователей, 95-му перцентилю соотвестует число 2, то есть больше 2 заказов совершили меньше 5% пользователей. Выберем 2 заказа на одного пользователя за нижнюю границу числа заказов, и отсеем аномальных пользователей по ней. "
   ]
  },
  {
   "cell_type": "markdown",
   "metadata": {},
   "source": [
    "**2.1.8 Построим точечный график стоимостей заказов. Сделаем выводы и предположения.**"
   ]
  },
  {
   "cell_type": "code",
   "execution_count": 42,
   "metadata": {},
   "outputs": [
    {
     "data": {
      "text/html": [
       "<div>\n",
       "<style scoped>\n",
       "    .dataframe tbody tr th:only-of-type {\n",
       "        vertical-align: middle;\n",
       "    }\n",
       "\n",
       "    .dataframe tbody tr th {\n",
       "        vertical-align: top;\n",
       "    }\n",
       "\n",
       "    .dataframe thead th {\n",
       "        text-align: right;\n",
       "    }\n",
       "</style>\n",
       "<table border=\"1\" class=\"dataframe\">\n",
       "  <thead>\n",
       "    <tr style=\"text-align: right;\">\n",
       "      <th></th>\n",
       "      <th>orderId</th>\n",
       "      <th>userId</th>\n",
       "      <th>date</th>\n",
       "      <th>revenue</th>\n",
       "      <th>group</th>\n",
       "    </tr>\n",
       "  </thead>\n",
       "  <tbody>\n",
       "    <tr>\n",
       "      <td>0</td>\n",
       "      <td>3667963787</td>\n",
       "      <td>3312258926</td>\n",
       "      <td>2019-08-15</td>\n",
       "      <td>1650</td>\n",
       "      <td>B</td>\n",
       "    </tr>\n",
       "    <tr>\n",
       "      <td>1</td>\n",
       "      <td>2804400009</td>\n",
       "      <td>3642806036</td>\n",
       "      <td>2019-08-15</td>\n",
       "      <td>730</td>\n",
       "      <td>B</td>\n",
       "    </tr>\n",
       "    <tr>\n",
       "      <td>2</td>\n",
       "      <td>2961555356</td>\n",
       "      <td>4069496402</td>\n",
       "      <td>2019-08-15</td>\n",
       "      <td>400</td>\n",
       "      <td>A</td>\n",
       "    </tr>\n",
       "    <tr>\n",
       "      <td>3</td>\n",
       "      <td>3797467345</td>\n",
       "      <td>1196621759</td>\n",
       "      <td>2019-08-15</td>\n",
       "      <td>9759</td>\n",
       "      <td>B</td>\n",
       "    </tr>\n",
       "    <tr>\n",
       "      <td>4</td>\n",
       "      <td>2282983706</td>\n",
       "      <td>2322279887</td>\n",
       "      <td>2019-08-15</td>\n",
       "      <td>2308</td>\n",
       "      <td>B</td>\n",
       "    </tr>\n",
       "  </tbody>\n",
       "</table>\n",
       "</div>"
      ],
      "text/plain": [
       "      orderId      userId       date  revenue group\n",
       "0  3667963787  3312258926 2019-08-15  1650     B   \n",
       "1  2804400009  3642806036 2019-08-15  730      B   \n",
       "2  2961555356  4069496402 2019-08-15  400      A   \n",
       "3  3797467345  1196621759 2019-08-15  9759     B   \n",
       "4  2282983706  2322279887 2019-08-15  2308     B   "
      ]
     },
     "execution_count": 42,
     "metadata": {},
     "output_type": "execute_result"
    }
   ],
   "source": [
    "orders.head()"
   ]
  },
  {
   "cell_type": "code",
   "execution_count": 43,
   "metadata": {},
   "outputs": [
    {
     "data": {
      "image/png": "[encoded data removed]",
      "text/plain": [
       "<Figure size 432x288 with 1 Axes>"
      ]
     },
     "metadata": {
      "needs_background": "light"
     },
     "output_type": "display_data"
    }
   ],
   "source": [
    "x_values = pd.Series(range(0,len(orders['revenue'])))\n",
    "plt.scatter(x_values, orders['revenue']) \n",
    "plt.title('Стоимость заказов')\n",
    "plt.xlabel('Заказы')\n",
    "plt.ylabel('Стоимость')\n",
    "plt.show()"
   ]
  },
  {
   "cell_type": "markdown",
   "metadata": {},
   "source": [
    "**Вывод по графику:**\n",
    "<br> Всё, как предполагалось: есть немного дорогих заказов."
   ]
  },
  {
   "cell_type": "code",
   "execution_count": 44,
   "metadata": {},
   "outputs": [
    {
     "data": {
      "image/png": "[encoded data removed]",
      "text/plain": [
       "<Figure size 432x288 with 1 Axes>"
      ]
     },
     "metadata": {
      "needs_background": "light"
     },
     "output_type": "display_data"
    }
   ],
   "source": [
    "x_values = pd.Series(range(0,len(orders['revenue'])))\n",
    "plt.scatter(x_values, orders['revenue']) \n",
    "plt.title('Стоимость заказов')\n",
    "plt.xlabel('Заказы')\n",
    "plt.ylabel('Стоимость')\n",
    "plt.ylim([0, 20000])\n",
    "plt.show()"
   ]
  },
  {
   "cell_type": "markdown",
   "metadata": {},
   "source": [
    "**Вывод по графику:**\n",
    "<br> Большая часть заказов до 2500-3000."
   ]
  },
  {
   "cell_type": "markdown",
   "metadata": {},
   "source": [
    "**2.1.9 Посчитаем 95-й и 99-й перцентили стоимости заказов. Выберем границу для определения аномальных заказов.**"
   ]
  },
  {
   "cell_type": "code",
   "execution_count": 45,
   "metadata": {},
   "outputs": [
    {
     "data": {
      "text/plain": [
       "array([28000. , 58233.2])"
      ]
     },
     "execution_count": 45,
     "metadata": {},
     "output_type": "execute_result"
    }
   ],
   "source": [
    "np.percentile(orders['revenue'], [95, 99])"
   ]
  },
  {
   "cell_type": "markdown",
   "metadata": {},
   "source": [
    "**Вывод:**\n",
    "<br> Не более 5% заказов дороже 28 000 рублей и не более 1% дороже 58 233,20 рублей. Если смотреть в целом на график и перцентили, можно выбрать границу аномальных заказов - 28 000 рублей"
   ]
  },
  {
   "cell_type": "markdown",
   "metadata": {},
   "source": [
    "**2.1.10 Посчитаем статистическую значимость различий в конверсии между группами по «сырым» данным. Сделаем выводы и предположения.**"
   ]
  },
  {
   "cell_type": "code",
   "execution_count": 46,
   "metadata": {},
   "outputs": [
    {
     "data": {
      "text/html": [
       "<div>\n",
       "<style scoped>\n",
       "    .dataframe tbody tr th:only-of-type {\n",
       "        vertical-align: middle;\n",
       "    }\n",
       "\n",
       "    .dataframe tbody tr th {\n",
       "        vertical-align: top;\n",
       "    }\n",
       "\n",
       "    .dataframe thead th {\n",
       "        text-align: right;\n",
       "    }\n",
       "</style>\n",
       "<table border=\"1\" class=\"dataframe\">\n",
       "  <thead>\n",
       "    <tr style=\"text-align: right;\">\n",
       "      <th></th>\n",
       "      <th>date</th>\n",
       "      <th>visitorsPerDateA</th>\n",
       "    </tr>\n",
       "  </thead>\n",
       "  <tbody>\n",
       "    <tr>\n",
       "      <td>0</td>\n",
       "      <td>2019-08-01</td>\n",
       "      <td>719</td>\n",
       "    </tr>\n",
       "    <tr>\n",
       "      <td>1</td>\n",
       "      <td>2019-08-02</td>\n",
       "      <td>619</td>\n",
       "    </tr>\n",
       "    <tr>\n",
       "      <td>2</td>\n",
       "      <td>2019-08-03</td>\n",
       "      <td>507</td>\n",
       "    </tr>\n",
       "    <tr>\n",
       "      <td>3</td>\n",
       "      <td>2019-08-04</td>\n",
       "      <td>717</td>\n",
       "    </tr>\n",
       "    <tr>\n",
       "      <td>4</td>\n",
       "      <td>2019-08-05</td>\n",
       "      <td>756</td>\n",
       "    </tr>\n",
       "  </tbody>\n",
       "</table>\n",
       "</div>"
      ],
      "text/plain": [
       "        date  visitorsPerDateA\n",
       "0 2019-08-01  719             \n",
       "1 2019-08-02  619             \n",
       "2 2019-08-03  507             \n",
       "3 2019-08-04  717             \n",
       "4 2019-08-05  756             "
      ]
     },
     "execution_count": 46,
     "metadata": {},
     "output_type": "execute_result"
    }
   ],
   "source": [
    "visitorsADaily = visitors[visitors['group'] == 'A'][['date', 'visitors']]\n",
    "visitorsADaily.columns = ['date', 'visitorsPerDateA']\n",
    "\n",
    "visitorsADaily.head()"
   ]
  },
  {
   "cell_type": "code",
   "execution_count": 47,
   "metadata": {},
   "outputs": [
    {
     "data": {
      "text/html": [
       "<div>\n",
       "<style scoped>\n",
       "    .dataframe tbody tr th:only-of-type {\n",
       "        vertical-align: middle;\n",
       "    }\n",
       "\n",
       "    .dataframe tbody tr th {\n",
       "        vertical-align: top;\n",
       "    }\n",
       "\n",
       "    .dataframe thead th {\n",
       "        text-align: right;\n",
       "    }\n",
       "</style>\n",
       "<table border=\"1\" class=\"dataframe\">\n",
       "  <thead>\n",
       "    <tr style=\"text-align: right;\">\n",
       "      <th></th>\n",
       "      <th>date</th>\n",
       "      <th>visitorsCummulativeA</th>\n",
       "    </tr>\n",
       "  </thead>\n",
       "  <tbody>\n",
       "    <tr>\n",
       "      <td>0</td>\n",
       "      <td>2019-08-01</td>\n",
       "      <td>719</td>\n",
       "    </tr>\n",
       "    <tr>\n",
       "      <td>1</td>\n",
       "      <td>2019-08-02</td>\n",
       "      <td>1338</td>\n",
       "    </tr>\n",
       "    <tr>\n",
       "      <td>2</td>\n",
       "      <td>2019-08-03</td>\n",
       "      <td>1845</td>\n",
       "    </tr>\n",
       "    <tr>\n",
       "      <td>3</td>\n",
       "      <td>2019-08-04</td>\n",
       "      <td>2562</td>\n",
       "    </tr>\n",
       "    <tr>\n",
       "      <td>4</td>\n",
       "      <td>2019-08-05</td>\n",
       "      <td>3318</td>\n",
       "    </tr>\n",
       "  </tbody>\n",
       "</table>\n",
       "</div>"
      ],
      "text/plain": [
       "        date  visitorsCummulativeA\n",
       "0 2019-08-01  719                 \n",
       "1 2019-08-02  1338                \n",
       "2 2019-08-03  1845                \n",
       "3 2019-08-04  2562                \n",
       "4 2019-08-05  3318                "
      ]
     },
     "execution_count": 47,
     "metadata": {},
     "output_type": "execute_result"
    }
   ],
   "source": [
    "visitorsACummulative = visitorsADaily.apply(\n",
    "    lambda x: visitorsADaily[visitorsADaily['date'] <= x['date']].agg(\n",
    "        {'date': 'max', 'visitorsPerDateA': 'sum'}\n",
    "    ),\n",
    "    axis=1,\n",
    ")\n",
    "visitorsACummulative.columns = ['date', 'visitorsCummulativeA']\n",
    "\n",
    "visitorsACummulative.head()"
   ]
  },
  {
   "cell_type": "code",
   "execution_count": 48,
   "metadata": {},
   "outputs": [
    {
     "data": {
      "text/html": [
       "<div>\n",
       "<style scoped>\n",
       "    .dataframe tbody tr th:only-of-type {\n",
       "        vertical-align: middle;\n",
       "    }\n",
       "\n",
       "    .dataframe tbody tr th {\n",
       "        vertical-align: top;\n",
       "    }\n",
       "\n",
       "    .dataframe thead th {\n",
       "        text-align: right;\n",
       "    }\n",
       "</style>\n",
       "<table border=\"1\" class=\"dataframe\">\n",
       "  <thead>\n",
       "    <tr style=\"text-align: right;\">\n",
       "      <th></th>\n",
       "      <th>date</th>\n",
       "      <th>visitorsCummulativeB</th>\n",
       "    </tr>\n",
       "  </thead>\n",
       "  <tbody>\n",
       "    <tr>\n",
       "      <td>31</td>\n",
       "      <td>2019-08-01</td>\n",
       "      <td>713</td>\n",
       "    </tr>\n",
       "    <tr>\n",
       "      <td>32</td>\n",
       "      <td>2019-08-02</td>\n",
       "      <td>1294</td>\n",
       "    </tr>\n",
       "    <tr>\n",
       "      <td>33</td>\n",
       "      <td>2019-08-03</td>\n",
       "      <td>1803</td>\n",
       "    </tr>\n",
       "    <tr>\n",
       "      <td>34</td>\n",
       "      <td>2019-08-04</td>\n",
       "      <td>2573</td>\n",
       "    </tr>\n",
       "    <tr>\n",
       "      <td>35</td>\n",
       "      <td>2019-08-05</td>\n",
       "      <td>3280</td>\n",
       "    </tr>\n",
       "  </tbody>\n",
       "</table>\n",
       "</div>"
      ],
      "text/plain": [
       "         date  visitorsCummulativeB\n",
       "31 2019-08-01  713                 \n",
       "32 2019-08-02  1294                \n",
       "33 2019-08-03  1803                \n",
       "34 2019-08-04  2573                \n",
       "35 2019-08-05  3280                "
      ]
     },
     "execution_count": 48,
     "metadata": {},
     "output_type": "execute_result"
    }
   ],
   "source": [
    "visitorsBDaily = visitors[visitors['group'] == 'B'][['date', 'visitors']]\n",
    "visitorsBDaily.columns = ['date', 'visitorsPerDateB']\n",
    "\n",
    "visitorsBCummulative = visitorsBDaily.apply(\n",
    "    lambda x: visitorsBDaily[visitorsBDaily['date'] <= x['date']].agg(\n",
    "        {'date': 'max', 'visitorsPerDateB': 'sum'}\n",
    "    ),\n",
    "    axis=1,\n",
    ")\n",
    "visitorsBCummulative.columns = ['date', 'visitorsCummulativeB']\n",
    "\n",
    "visitorsBCummulative.head()"
   ]
  },
  {
   "cell_type": "code",
   "execution_count": 49,
   "metadata": {},
   "outputs": [
    {
     "data": {
      "text/html": [
       "<div>\n",
       "<style scoped>\n",
       "    .dataframe tbody tr th:only-of-type {\n",
       "        vertical-align: middle;\n",
       "    }\n",
       "\n",
       "    .dataframe tbody tr th {\n",
       "        vertical-align: top;\n",
       "    }\n",
       "\n",
       "    .dataframe thead th {\n",
       "        text-align: right;\n",
       "    }\n",
       "</style>\n",
       "<table border=\"1\" class=\"dataframe\">\n",
       "  <thead>\n",
       "    <tr style=\"text-align: right;\">\n",
       "      <th></th>\n",
       "      <th>date</th>\n",
       "      <th>ordersPerDateA</th>\n",
       "      <th>revenuePerDateA</th>\n",
       "    </tr>\n",
       "  </thead>\n",
       "  <tbody>\n",
       "    <tr>\n",
       "      <td>0</td>\n",
       "      <td>2019-08-01</td>\n",
       "      <td>24</td>\n",
       "      <td>148579</td>\n",
       "    </tr>\n",
       "    <tr>\n",
       "      <td>1</td>\n",
       "      <td>2019-08-02</td>\n",
       "      <td>20</td>\n",
       "      <td>93822</td>\n",
       "    </tr>\n",
       "    <tr>\n",
       "      <td>2</td>\n",
       "      <td>2019-08-03</td>\n",
       "      <td>24</td>\n",
       "      <td>112473</td>\n",
       "    </tr>\n",
       "    <tr>\n",
       "      <td>3</td>\n",
       "      <td>2019-08-04</td>\n",
       "      <td>16</td>\n",
       "      <td>70825</td>\n",
       "    </tr>\n",
       "    <tr>\n",
       "      <td>4</td>\n",
       "      <td>2019-08-05</td>\n",
       "      <td>25</td>\n",
       "      <td>124218</td>\n",
       "    </tr>\n",
       "  </tbody>\n",
       "</table>\n",
       "</div>"
      ],
      "text/plain": [
       "        date  ordersPerDateA  revenuePerDateA\n",
       "0 2019-08-01  24              148579         \n",
       "1 2019-08-02  20              93822          \n",
       "2 2019-08-03  24              112473         \n",
       "3 2019-08-04  16              70825          \n",
       "4 2019-08-05  25              124218         "
      ]
     },
     "execution_count": 49,
     "metadata": {},
     "output_type": "execute_result"
    }
   ],
   "source": [
    "ordersADaily = (\n",
    "    orders[orders['group'] == 'A'][['date', 'orderId', 'userId', 'revenue']]\n",
    "    .groupby('date', as_index=False)\n",
    "    .agg({'orderId': pd.Series.nunique, 'revenue': 'sum'})\n",
    ")\n",
    "ordersADaily.columns = ['date', 'ordersPerDateA', 'revenuePerDateA']\n",
    "\n",
    "ordersADaily.head()"
   ]
  },
  {
   "cell_type": "code",
   "execution_count": 50,
   "metadata": {},
   "outputs": [
    {
     "data": {
      "text/html": [
       "<div>\n",
       "<style scoped>\n",
       "    .dataframe tbody tr th:only-of-type {\n",
       "        vertical-align: middle;\n",
       "    }\n",
       "\n",
       "    .dataframe tbody tr th {\n",
       "        vertical-align: top;\n",
       "    }\n",
       "\n",
       "    .dataframe thead th {\n",
       "        text-align: right;\n",
       "    }\n",
       "</style>\n",
       "<table border=\"1\" class=\"dataframe\">\n",
       "  <thead>\n",
       "    <tr style=\"text-align: right;\">\n",
       "      <th></th>\n",
       "      <th>date</th>\n",
       "      <th>ordersCummulativeA</th>\n",
       "      <th>revenueCummulativeA</th>\n",
       "    </tr>\n",
       "  </thead>\n",
       "  <tbody>\n",
       "    <tr>\n",
       "      <td>0</td>\n",
       "      <td>2019-08-01</td>\n",
       "      <td>24</td>\n",
       "      <td>148579</td>\n",
       "    </tr>\n",
       "    <tr>\n",
       "      <td>1</td>\n",
       "      <td>2019-08-02</td>\n",
       "      <td>44</td>\n",
       "      <td>242401</td>\n",
       "    </tr>\n",
       "    <tr>\n",
       "      <td>2</td>\n",
       "      <td>2019-08-03</td>\n",
       "      <td>68</td>\n",
       "      <td>354874</td>\n",
       "    </tr>\n",
       "    <tr>\n",
       "      <td>3</td>\n",
       "      <td>2019-08-04</td>\n",
       "      <td>84</td>\n",
       "      <td>425699</td>\n",
       "    </tr>\n",
       "    <tr>\n",
       "      <td>4</td>\n",
       "      <td>2019-08-05</td>\n",
       "      <td>109</td>\n",
       "      <td>549917</td>\n",
       "    </tr>\n",
       "  </tbody>\n",
       "</table>\n",
       "</div>"
      ],
      "text/plain": [
       "        date  ordersCummulativeA  revenueCummulativeA\n",
       "0 2019-08-01  24                  148579             \n",
       "1 2019-08-02  44                  242401             \n",
       "2 2019-08-03  68                  354874             \n",
       "3 2019-08-04  84                  425699             \n",
       "4 2019-08-05  109                 549917             "
      ]
     },
     "execution_count": 50,
     "metadata": {},
     "output_type": "execute_result"
    }
   ],
   "source": [
    "ordersACummulative = ordersADaily.apply(\n",
    "    lambda x: ordersADaily[ordersADaily['date'] <= x['date']].agg(\n",
    "        {'date': 'max', 'ordersPerDateA': 'sum', 'revenuePerDateA': 'sum'}\n",
    "    ),\n",
    "    axis=1,\n",
    ").sort_values(by=['date'])\n",
    "ordersACummulative.columns = [\n",
    "    'date',\n",
    "    'ordersCummulativeA',\n",
    "    'revenueCummulativeA',\n",
    "]\n",
    "ordersACummulative.head()"
   ]
  },
  {
   "cell_type": "code",
   "execution_count": 51,
   "metadata": {},
   "outputs": [
    {
     "data": {
      "text/html": [
       "<div>\n",
       "<style scoped>\n",
       "    .dataframe tbody tr th:only-of-type {\n",
       "        vertical-align: middle;\n",
       "    }\n",
       "\n",
       "    .dataframe tbody tr th {\n",
       "        vertical-align: top;\n",
       "    }\n",
       "\n",
       "    .dataframe thead th {\n",
       "        text-align: right;\n",
       "    }\n",
       "</style>\n",
       "<table border=\"1\" class=\"dataframe\">\n",
       "  <thead>\n",
       "    <tr style=\"text-align: right;\">\n",
       "      <th></th>\n",
       "      <th>date</th>\n",
       "      <th>ordersPerDateB</th>\n",
       "      <th>revenuePerDateB</th>\n",
       "    </tr>\n",
       "  </thead>\n",
       "  <tbody>\n",
       "    <tr>\n",
       "      <td>0</td>\n",
       "      <td>2019-08-01</td>\n",
       "      <td>21</td>\n",
       "      <td>101217</td>\n",
       "    </tr>\n",
       "    <tr>\n",
       "      <td>1</td>\n",
       "      <td>2019-08-02</td>\n",
       "      <td>24</td>\n",
       "      <td>165531</td>\n",
       "    </tr>\n",
       "    <tr>\n",
       "      <td>2</td>\n",
       "      <td>2019-08-03</td>\n",
       "      <td>16</td>\n",
       "      <td>114248</td>\n",
       "    </tr>\n",
       "    <tr>\n",
       "      <td>3</td>\n",
       "      <td>2019-08-04</td>\n",
       "      <td>17</td>\n",
       "      <td>108571</td>\n",
       "    </tr>\n",
       "    <tr>\n",
       "      <td>4</td>\n",
       "      <td>2019-08-05</td>\n",
       "      <td>23</td>\n",
       "      <td>92428</td>\n",
       "    </tr>\n",
       "  </tbody>\n",
       "</table>\n",
       "</div>"
      ],
      "text/plain": [
       "        date  ordersPerDateB  revenuePerDateB\n",
       "0 2019-08-01  21              101217         \n",
       "1 2019-08-02  24              165531         \n",
       "2 2019-08-03  16              114248         \n",
       "3 2019-08-04  17              108571         \n",
       "4 2019-08-05  23              92428          "
      ]
     },
     "execution_count": 51,
     "metadata": {},
     "output_type": "execute_result"
    }
   ],
   "source": [
    "ordersBDaily = (\n",
    "    orders[orders['group'] == 'B'][['date', 'orderId', 'userId', 'revenue']]\n",
    "    .groupby('date', as_index=False)\n",
    "    .agg({'orderId': pd.Series.nunique, 'revenue': 'sum'})\n",
    ")\n",
    "ordersBDaily.columns = ['date', 'ordersPerDateB', 'revenuePerDateB']\n",
    "\n",
    "ordersBDaily.head()"
   ]
  },
  {
   "cell_type": "code",
   "execution_count": 52,
   "metadata": {},
   "outputs": [
    {
     "data": {
      "text/html": [
       "<div>\n",
       "<style scoped>\n",
       "    .dataframe tbody tr th:only-of-type {\n",
       "        vertical-align: middle;\n",
       "    }\n",
       "\n",
       "    .dataframe tbody tr th {\n",
       "        vertical-align: top;\n",
       "    }\n",
       "\n",
       "    .dataframe thead th {\n",
       "        text-align: right;\n",
       "    }\n",
       "</style>\n",
       "<table border=\"1\" class=\"dataframe\">\n",
       "  <thead>\n",
       "    <tr style=\"text-align: right;\">\n",
       "      <th></th>\n",
       "      <th>date</th>\n",
       "      <th>ordersCummulativeB</th>\n",
       "      <th>revenueCummulativeB</th>\n",
       "    </tr>\n",
       "  </thead>\n",
       "  <tbody>\n",
       "    <tr>\n",
       "      <td>0</td>\n",
       "      <td>2019-08-01</td>\n",
       "      <td>21</td>\n",
       "      <td>101217</td>\n",
       "    </tr>\n",
       "    <tr>\n",
       "      <td>1</td>\n",
       "      <td>2019-08-02</td>\n",
       "      <td>45</td>\n",
       "      <td>266748</td>\n",
       "    </tr>\n",
       "    <tr>\n",
       "      <td>2</td>\n",
       "      <td>2019-08-03</td>\n",
       "      <td>61</td>\n",
       "      <td>380996</td>\n",
       "    </tr>\n",
       "    <tr>\n",
       "      <td>3</td>\n",
       "      <td>2019-08-04</td>\n",
       "      <td>78</td>\n",
       "      <td>489567</td>\n",
       "    </tr>\n",
       "    <tr>\n",
       "      <td>4</td>\n",
       "      <td>2019-08-05</td>\n",
       "      <td>101</td>\n",
       "      <td>581995</td>\n",
       "    </tr>\n",
       "  </tbody>\n",
       "</table>\n",
       "</div>"
      ],
      "text/plain": [
       "        date  ordersCummulativeB  revenueCummulativeB\n",
       "0 2019-08-01  21                  101217             \n",
       "1 2019-08-02  45                  266748             \n",
       "2 2019-08-03  61                  380996             \n",
       "3 2019-08-04  78                  489567             \n",
       "4 2019-08-05  101                 581995             "
      ]
     },
     "execution_count": 52,
     "metadata": {},
     "output_type": "execute_result"
    }
   ],
   "source": [
    "ordersBCummulative = ordersBDaily.apply(\n",
    "    lambda x: ordersBDaily[ordersBDaily['date'] <= x['date']].agg(\n",
    "        {'date': 'max', 'ordersPerDateB': 'sum', 'revenuePerDateB': 'sum'}\n",
    "    ),\n",
    "    axis=1,\n",
    ").sort_values(by=['date'])\n",
    "ordersBCummulative.columns = [\n",
    "    'date',\n",
    "    'ordersCummulativeB',\n",
    "    'revenueCummulativeB',\n",
    "]\n",
    "\n",
    "ordersBCummulative.head()"
   ]
  },
  {
   "cell_type": "code",
   "execution_count": 53,
   "metadata": {},
   "outputs": [
    {
     "data": {
      "text/html": [
       "<div>\n",
       "<style scoped>\n",
       "    .dataframe tbody tr th:only-of-type {\n",
       "        vertical-align: middle;\n",
       "    }\n",
       "\n",
       "    .dataframe tbody tr th {\n",
       "        vertical-align: top;\n",
       "    }\n",
       "\n",
       "    .dataframe thead th {\n",
       "        text-align: right;\n",
       "    }\n",
       "</style>\n",
       "<table border=\"1\" class=\"dataframe\">\n",
       "  <thead>\n",
       "    <tr style=\"text-align: right;\">\n",
       "      <th></th>\n",
       "      <th>date</th>\n",
       "      <th>ordersPerDateA</th>\n",
       "      <th>revenuePerDateA</th>\n",
       "      <th>ordersPerDateB</th>\n",
       "      <th>revenuePerDateB</th>\n",
       "      <th>ordersCummulativeA</th>\n",
       "      <th>revenueCummulativeA</th>\n",
       "      <th>ordersCummulativeB</th>\n",
       "      <th>revenueCummulativeB</th>\n",
       "      <th>visitorsPerDateA</th>\n",
       "      <th>visitorsPerDateB</th>\n",
       "      <th>visitorsCummulativeA</th>\n",
       "      <th>visitorsCummulativeB</th>\n",
       "    </tr>\n",
       "  </thead>\n",
       "  <tbody>\n",
       "    <tr>\n",
       "      <td>0</td>\n",
       "      <td>2019-08-01</td>\n",
       "      <td>24</td>\n",
       "      <td>148579</td>\n",
       "      <td>21</td>\n",
       "      <td>101217</td>\n",
       "      <td>24</td>\n",
       "      <td>148579</td>\n",
       "      <td>21</td>\n",
       "      <td>101217</td>\n",
       "      <td>719</td>\n",
       "      <td>713</td>\n",
       "      <td>719</td>\n",
       "      <td>713</td>\n",
       "    </tr>\n",
       "    <tr>\n",
       "      <td>1</td>\n",
       "      <td>2019-08-02</td>\n",
       "      <td>20</td>\n",
       "      <td>93822</td>\n",
       "      <td>24</td>\n",
       "      <td>165531</td>\n",
       "      <td>44</td>\n",
       "      <td>242401</td>\n",
       "      <td>45</td>\n",
       "      <td>266748</td>\n",
       "      <td>619</td>\n",
       "      <td>581</td>\n",
       "      <td>1338</td>\n",
       "      <td>1294</td>\n",
       "    </tr>\n",
       "    <tr>\n",
       "      <td>2</td>\n",
       "      <td>2019-08-03</td>\n",
       "      <td>24</td>\n",
       "      <td>112473</td>\n",
       "      <td>16</td>\n",
       "      <td>114248</td>\n",
       "      <td>68</td>\n",
       "      <td>354874</td>\n",
       "      <td>61</td>\n",
       "      <td>380996</td>\n",
       "      <td>507</td>\n",
       "      <td>509</td>\n",
       "      <td>1845</td>\n",
       "      <td>1803</td>\n",
       "    </tr>\n",
       "    <tr>\n",
       "      <td>3</td>\n",
       "      <td>2019-08-04</td>\n",
       "      <td>16</td>\n",
       "      <td>70825</td>\n",
       "      <td>17</td>\n",
       "      <td>108571</td>\n",
       "      <td>84</td>\n",
       "      <td>425699</td>\n",
       "      <td>78</td>\n",
       "      <td>489567</td>\n",
       "      <td>717</td>\n",
       "      <td>770</td>\n",
       "      <td>2562</td>\n",
       "      <td>2573</td>\n",
       "    </tr>\n",
       "    <tr>\n",
       "      <td>4</td>\n",
       "      <td>2019-08-05</td>\n",
       "      <td>25</td>\n",
       "      <td>124218</td>\n",
       "      <td>23</td>\n",
       "      <td>92428</td>\n",
       "      <td>109</td>\n",
       "      <td>549917</td>\n",
       "      <td>101</td>\n",
       "      <td>581995</td>\n",
       "      <td>756</td>\n",
       "      <td>707</td>\n",
       "      <td>3318</td>\n",
       "      <td>3280</td>\n",
       "    </tr>\n",
       "  </tbody>\n",
       "</table>\n",
       "</div>"
      ],
      "text/plain": [
       "        date  ordersPerDateA  revenuePerDateA  ordersPerDateB  \\\n",
       "0 2019-08-01  24              148579           21               \n",
       "1 2019-08-02  20              93822            24               \n",
       "2 2019-08-03  24              112473           16               \n",
       "3 2019-08-04  16              70825            17               \n",
       "4 2019-08-05  25              124218           23               \n",
       "\n",
       "   revenuePerDateB  ordersCummulativeA  revenueCummulativeA  \\\n",
       "0  101217           24                  148579                \n",
       "1  165531           44                  242401                \n",
       "2  114248           68                  354874                \n",
       "3  108571           84                  425699                \n",
       "4  92428            109                 549917                \n",
       "\n",
       "   ordersCummulativeB  revenueCummulativeB  visitorsPerDateA  \\\n",
       "0  21                  101217               719                \n",
       "1  45                  266748               619                \n",
       "2  61                  380996               507                \n",
       "3  78                  489567               717                \n",
       "4  101                 581995               756                \n",
       "\n",
       "   visitorsPerDateB  visitorsCummulativeA  visitorsCummulativeB  \n",
       "0  713               719                   713                   \n",
       "1  581               1338                  1294                  \n",
       "2  509               1845                  1803                  \n",
       "3  770               2562                  2573                  \n",
       "4  707               3318                  3280                  "
      ]
     },
     "execution_count": 53,
     "metadata": {},
     "output_type": "execute_result"
    }
   ],
   "source": [
    "data = (\n",
    "    ordersADaily.merge(\n",
    "        ordersBDaily, left_on='date', right_on='date', how='left'\n",
    "    )\n",
    "    .merge(ordersACummulative, left_on='date', right_on='date', how='left')\n",
    "    .merge(ordersBCummulative, left_on='date', right_on='date', how='left')\n",
    "    .merge(visitorsADaily, left_on='date', right_on='date', how='left')\n",
    "    .merge(visitorsBDaily, left_on='date', right_on='date', how='left')\n",
    "    .merge(visitorsACummulative, left_on='date', right_on='date', how='left')\n",
    "    .merge(visitorsBCummulative, left_on='date', right_on='date', how='left')\n",
    ")\n",
    "\n",
    "data.head(5)"
   ]
  },
  {
   "cell_type": "code",
   "execution_count": 54,
   "metadata": {},
   "outputs": [
    {
     "data": {
      "text/html": [
       "<div>\n",
       "<style scoped>\n",
       "    .dataframe tbody tr th:only-of-type {\n",
       "        vertical-align: middle;\n",
       "    }\n",
       "\n",
       "    .dataframe tbody tr th {\n",
       "        vertical-align: top;\n",
       "    }\n",
       "\n",
       "    .dataframe thead th {\n",
       "        text-align: right;\n",
       "    }\n",
       "</style>\n",
       "<table border=\"1\" class=\"dataframe\">\n",
       "  <thead>\n",
       "    <tr style=\"text-align: right;\">\n",
       "      <th></th>\n",
       "      <th>userId</th>\n",
       "      <th>orders</th>\n",
       "    </tr>\n",
       "  </thead>\n",
       "  <tbody>\n",
       "    <tr>\n",
       "      <td>0</td>\n",
       "      <td>8300375</td>\n",
       "      <td>1</td>\n",
       "    </tr>\n",
       "    <tr>\n",
       "      <td>1</td>\n",
       "      <td>11685486</td>\n",
       "      <td>1</td>\n",
       "    </tr>\n",
       "    <tr>\n",
       "      <td>2</td>\n",
       "      <td>54447517</td>\n",
       "      <td>1</td>\n",
       "    </tr>\n",
       "    <tr>\n",
       "      <td>3</td>\n",
       "      <td>66685450</td>\n",
       "      <td>1</td>\n",
       "    </tr>\n",
       "    <tr>\n",
       "      <td>4</td>\n",
       "      <td>78758296</td>\n",
       "      <td>1</td>\n",
       "    </tr>\n",
       "  </tbody>\n",
       "</table>\n",
       "</div>"
      ],
      "text/plain": [
       "     userId  orders\n",
       "0  8300375   1     \n",
       "1  11685486  1     \n",
       "2  54447517  1     \n",
       "3  66685450  1     \n",
       "4  78758296  1     "
      ]
     },
     "metadata": {},
     "output_type": "display_data"
    },
    {
     "data": {
      "text/html": [
       "<div>\n",
       "<style scoped>\n",
       "    .dataframe tbody tr th:only-of-type {\n",
       "        vertical-align: middle;\n",
       "    }\n",
       "\n",
       "    .dataframe tbody tr th {\n",
       "        vertical-align: top;\n",
       "    }\n",
       "\n",
       "    .dataframe thead th {\n",
       "        text-align: right;\n",
       "    }\n",
       "</style>\n",
       "<table border=\"1\" class=\"dataframe\">\n",
       "  <thead>\n",
       "    <tr style=\"text-align: right;\">\n",
       "      <th></th>\n",
       "      <th>userId</th>\n",
       "      <th>orders</th>\n",
       "    </tr>\n",
       "  </thead>\n",
       "  <tbody>\n",
       "    <tr>\n",
       "      <td>0</td>\n",
       "      <td>5114589</td>\n",
       "      <td>1</td>\n",
       "    </tr>\n",
       "    <tr>\n",
       "      <td>1</td>\n",
       "      <td>6958315</td>\n",
       "      <td>1</td>\n",
       "    </tr>\n",
       "    <tr>\n",
       "      <td>2</td>\n",
       "      <td>8300375</td>\n",
       "      <td>1</td>\n",
       "    </tr>\n",
       "    <tr>\n",
       "      <td>3</td>\n",
       "      <td>39475350</td>\n",
       "      <td>1</td>\n",
       "    </tr>\n",
       "    <tr>\n",
       "      <td>4</td>\n",
       "      <td>47206413</td>\n",
       "      <td>1</td>\n",
       "    </tr>\n",
       "  </tbody>\n",
       "</table>\n",
       "</div>"
      ],
      "text/plain": [
       "     userId  orders\n",
       "0  5114589   1     \n",
       "1  6958315   1     \n",
       "2  8300375   1     \n",
       "3  39475350  1     \n",
       "4  47206413  1     "
      ]
     },
     "execution_count": 54,
     "metadata": {},
     "output_type": "execute_result"
    }
   ],
   "source": [
    "#Посчитаем статистическую значимость различия в конверсии между группами.\n",
    "#Создадим переменные ordersByUsersA и ordersByUsersB со столбцами ['userId', 'orders']. \n",
    "#В них для пользователей, которые заказывали хотя бы 1 раз, укажем число совершённых заказов\n",
    "\n",
    "ordersByUsersA = (\n",
    "    orders[orders['group'] == 'A']\n",
    "    .groupby('userId', as_index=False)\n",
    "    .agg({'orderId': pd.Series.nunique})\n",
    ")\n",
    "ordersByUsersA.columns = ['userId', 'orders']\n",
    "\n",
    "ordersByUsersB = (\n",
    "    orders[orders['group'] == 'B']\n",
    "    .groupby('userId', as_index=False)\n",
    "    .agg({'orderId': pd.Series.nunique})\n",
    ")\n",
    "ordersByUsersB.columns = ['userId', 'orders'] \n",
    "\n",
    "display(ordersByUsersA.head())\n",
    "ordersByUsersB.head()"
   ]
  },
  {
   "cell_type": "code",
   "execution_count": 55,
   "metadata": {},
   "outputs": [],
   "source": [
    "#Объявим переменные sampleA и sampleB, в которых пользователям из разных групп будет соответствовать количество заказов. \n",
    "#Тем, кто ничего не заказал, будут соответствовать нули\n",
    "#в sampleA содержится выборка, где каждый элемент — число заказов определённого пользователя, в том числе ноль. \n",
    "#Значит, число элементов sampleA — это количество пользователей, сумма всех элементов — количество заказов. \n",
    "#Чтобы получить конверсию в группе, поделим сумму заказов на число пользователей — \n",
    "#найдём среднее в выборке sampleA методом mean(). Аналогично найдём конверсию группы B: SampleB.mean().\n",
    "#Выведем относительный прирост конверсии группы B: \n",
    "#конверсия группы B / конверсия группы A - 1. Округлим до трёх знаков после запятой.\n",
    "\n",
    "sampleA = pd.concat(\n",
    "    [\n",
    "        ordersByUsersA['orders'],\n",
    "        pd.Series(\n",
    "            0,\n",
    "            index=np.arange(\n",
    "                data['visitorsPerDateA'].sum() - len(ordersByUsersA['orders'])\n",
    "            ),\n",
    "            name='orders',\n",
    "        ),\n",
    "    ],\n",
    "    axis=0,\n",
    ")\n",
    "\n",
    "sampleB = pd.concat(\n",
    "    [\n",
    "        ordersByUsersB['orders'],\n",
    "        pd.Series(\n",
    "            0,\n",
    "            index=np.arange(\n",
    "                data['visitorsPerDateB'].sum() - len(ordersByUsersB['orders'])\n",
    "            ),\n",
    "            name='orders',\n",
    "        ),\n",
    "    ],\n",
    "    axis=0,\n",
    ")"
   ]
  },
  {
   "cell_type": "code",
   "execution_count": 56,
   "metadata": {},
   "outputs": [
    {
     "data": {
      "text/plain": [
       "0    1\n",
       "1    1\n",
       "2    1\n",
       "3    1\n",
       "4    1\n",
       "Name: orders, dtype: int64"
      ]
     },
     "execution_count": 56,
     "metadata": {},
     "output_type": "execute_result"
    }
   ],
   "source": [
    "sampleA.head()"
   ]
  },
  {
   "cell_type": "code",
   "execution_count": 57,
   "metadata": {},
   "outputs": [
    {
     "name": "stdout",
     "output_type": "stream",
     "text": [
      "0.029728864218616567\n"
     ]
    },
    {
     "data": {
      "text/plain": [
       "0.033833791499259885"
      ]
     },
     "execution_count": 57,
     "metadata": {},
     "output_type": "execute_result"
    }
   ],
   "source": [
    "print(sampleA.mean())\n",
    "sampleB.mean()"
   ]
  },
  {
   "cell_type": "markdown",
   "metadata": {},
   "source": [
    "**Вывод:**\n",
    "<br> Конверсия группы А = 0,025, группы В = 0,029. Конверсии в группах различаются. - Предположим что это могло произойти случайно. - Пусть нулевая гипотеза звучит так - разница в конверсиях группы А и В НЕ является статистически значимой - Альтернативная - разница в конверсиях группы А и В является статистически значимой."
   ]
  },
  {
   "cell_type": "code",
   "execution_count": 58,
   "metadata": {},
   "outputs": [
    {
     "name": "stdout",
     "output_type": "stream",
     "text": [
      "0.017\n",
      "0.138\n"
     ]
    }
   ],
   "source": [
    "print(\"{0:.3f}\".format(sps.mannwhitneyu(sampleA, sampleB, alternative='two-sided')[1]))\n",
    "\n",
    "print(\"{0:.3f}\".format(sampleB.mean() / sampleA.mean() - 1))"
   ]
  },
  {
   "cell_type": "markdown",
   "metadata": {},
   "source": [
    "**Вывод:**\n",
    "<br> По «сырым» данным различия в конверсии групп A и B есть. Первое число — p-value = 0.011 меньше 0.05. Значит, нулевую гипотезу о том, что статистически значимых различий в конверсии между группами нет, отвергаем. Относительный выигрыш группы B равен 16% относительно группы А."
   ]
  },
  {
   "cell_type": "markdown",
   "metadata": {},
   "source": [
    "**2.1.11 Посчитаем статистическую значимость различий в среднем чеке заказа между группами по «сырым» данным. Сделаем выводы и предположения.**"
   ]
  },
  {
   "cell_type": "code",
   "execution_count": 59,
   "metadata": {},
   "outputs": [
    {
     "name": "stdout",
     "output_type": "stream",
     "text": [
      "7333.578096947936\n"
     ]
    },
    {
     "data": {
      "text/plain": [
       "9230.875"
      ]
     },
     "execution_count": 59,
     "metadata": {},
     "output_type": "execute_result"
    }
   ],
   "source": [
    "print(orders[orders['group']=='A']['revenue'].mean())\n",
    "orders[orders['group']=='B']['revenue'].mean()"
   ]
  },
  {
   "cell_type": "markdown",
   "metadata": {},
   "source": [
    "**Вывод:**\n",
    "<br> Средний чек группы А = 7189, группы В = 9250. Средние чеки в группах различаются. - Предположим что это могло произойти случайно. - Пусть нулевая гипотеза звучит так - разница в средних чеках группы А и В НЕ является статистически значимой - Альтернативная - разница в средних чеках группы А и В является статистически значимой."
   ]
  },
  {
   "cell_type": "code",
   "execution_count": 60,
   "metadata": {},
   "outputs": [
    {
     "name": "stdout",
     "output_type": "stream",
     "text": [
      "0.729\n",
      "0.259\n"
     ]
    }
   ],
   "source": [
    "#Чтобы рассчитать статистическую значимость различий в среднем чеке между сегментами, \n",
    "#передадим критерию mannwhitneyu() данные о выручке с заказов.\n",
    "#А ещё найдём относительные различия в среднем чеке между группами\n",
    "\n",
    "\n",
    "print('{0:.3f}'.format(sps.mannwhitneyu(orders[orders['group']=='A']['revenue'], orders[orders['group']=='B']['revenue'], alternative='two-sided')[1]))\n",
    "print('{0:.3f}'.format(orders[orders['group']=='B']['revenue'].mean()/orders[orders['group']=='A']['revenue'].mean()-1)) "
   ]
  },
  {
   "cell_type": "markdown",
   "metadata": {},
   "source": [
    "**Вывод:**\n",
    "<br> По «сырым» данным статистически значимых различий в среднем чеке нет. P-value значительно больше 0.05. Значит, причин отвергать нулевую гипотезу и считать, что в среднем чеке есть различия, нет. Но средний чек группы B значительно выше среднего чека группы A, а именно на 29%."
   ]
  },
  {
   "cell_type": "markdown",
   "metadata": {},
   "source": [
    "**2.1.12 Посчитаем статистическую значимость различий в конверсии между группами по «очищенным» данным. Сделаем выводы и предположения.**"
   ]
  },
  {
   "cell_type": "code",
   "execution_count": 61,
   "metadata": {},
   "outputs": [
    {
     "name": "stdout",
     "output_type": "stream",
     "text": [
      "1099    148427295\n",
      "18      199603092\n",
      "928     204675465\n",
      "23      237748145\n",
      "684     358944393\n",
      "Name: userId, dtype: int64\n",
      "(63,)\n"
     ]
    }
   ],
   "source": [
    "#Примем за аномальных пользователей тех, кто совершил от 4 заказов или совершил заказ дороже 28 000 рублей. \n",
    "#Так мы уберём пользователей с наибольшим числом заказов и пользователей с дорогими заказами. \n",
    "#Сделаем срезы пользователей с числом заказов больше 3 — usersWithManyOrders и пользователей, \n",
    "#совершивших заказы дороже 28 000 — usersWithExpensiveOrders. Объединим их в таблице abnormalUsers.\n",
    "#Узнаем, сколько всего аномальных пользователей методом shape().\n",
    "\n",
    "usersWithManyOrders = pd.concat(\n",
    "    [\n",
    "        ordersByUsersA[ordersByUsersA['orders'] > 3]['userId'],\n",
    "        ordersByUsersB[ordersByUsersB['orders'] > 3]['userId'],\n",
    "    ],\n",
    "    axis=0,\n",
    ")\n",
    "usersWithExpensiveOrders = orders[orders['revenue'] > 28000]['userId']\n",
    "abnormalUsers = (\n",
    "    pd.concat([usersWithManyOrders, usersWithExpensiveOrders], axis=0)\n",
    "    .drop_duplicates()\n",
    "    .sort_values()\n",
    ")\n",
    "print(abnormalUsers.head(5))\n",
    "print(abnormalUsers.shape) "
   ]
  },
  {
   "cell_type": "code",
   "execution_count": 62,
   "metadata": {},
   "outputs": [
    {
     "data": {
      "text/plain": [
       "0    1\n",
       "1    1\n",
       "2    1\n",
       "3    1\n",
       "4    1\n",
       "Name: orders, dtype: int64"
      ]
     },
     "execution_count": 62,
     "metadata": {},
     "output_type": "execute_result"
    }
   ],
   "source": [
    "#Сначала подготовим выборки количества заказов по пользователям по группам теста\n",
    "sampleAFiltered = pd.concat(\n",
    "    [\n",
    "        ordersByUsersA[\n",
    "            np.logical_not(ordersByUsersA['userId'].isin(abnormalUsers))\n",
    "        ]['orders'],\n",
    "        pd.Series(\n",
    "            0,\n",
    "            index=np.arange(\n",
    "                data['visitorsPerDateA'].sum() - len(ordersByUsersA['orders'])\n",
    "            ),\n",
    "            name='orders',\n",
    "        ),\n",
    "    ],\n",
    "    axis=0,\n",
    ")\n",
    "\n",
    "sampleBFiltered = pd.concat(\n",
    "    [\n",
    "        ordersByUsersB[\n",
    "            np.logical_not(ordersByUsersB['userId'].isin(abnormalUsers))\n",
    "        ]['orders'],\n",
    "        pd.Series(\n",
    "            0,\n",
    "            index=np.arange(\n",
    "                data['visitorsPerDateB'].sum() - len(ordersByUsersB['orders'])\n",
    "            ),\n",
    "            name='orders',\n",
    "        ),\n",
    "    ],\n",
    "    axis=0,\n",
    ") \n",
    "sampleBFiltered.head()"
   ]
  },
  {
   "cell_type": "code",
   "execution_count": 63,
   "metadata": {},
   "outputs": [
    {
     "name": "stdout",
     "output_type": "stream",
     "text": [
      "0.026525482646130808\n"
     ]
    },
    {
     "data": {
      "text/plain": [
       "0.030463576158940398"
      ]
     },
     "execution_count": 63,
     "metadata": {},
     "output_type": "execute_result"
    }
   ],
   "source": [
    "print(sampleAFiltered.mean())\n",
    "sampleBFiltered.mean()"
   ]
  },
  {
   "cell_type": "markdown",
   "metadata": {},
   "source": [
    "**Вывод:**\n",
    "<br> Конверсия группы А = 0,024, группы В = 0,028. Конверсии в группах различаются, но уже меньше чем по сырым данным. - Предположим что это могло произойти случайно. - Пусть нулевая гипотеза звучит так - разница в конверсиях группы А и В \"по очищенным данным\" НЕ является статистически значимой - Альтернативная - разница в конверсиях группы А и В \"по очищенным данным\" является статистически значимой."
   ]
  },
  {
   "cell_type": "code",
   "execution_count": 64,
   "metadata": {},
   "outputs": [
    {
     "name": "stdout",
     "output_type": "stream",
     "text": [
      "0.018\n",
      "0.148\n"
     ]
    }
   ],
   "source": [
    "print('{0:.3f}'.format(sps.mannwhitneyu(sampleAFiltered, sampleBFiltered, alternative='two-sided')[1]))\n",
    "print('{0:.3f}'.format(sampleBFiltered.mean()/sampleAFiltered.mean()-1)) "
   ]
  },
  {
   "cell_type": "markdown",
   "metadata": {},
   "source": [
    "**Вывод:**\n",
    "<br> По «очищенным» данным статистически значимые различия в конверсии групп A и B есть. Первое число — p-value = 0.013 меньше 0.05. Значит, нулевую гипотезу о том, что статистически значимых различий в конверсии между группами нет, отвергаем. Относительный выигрыш группы B равен 16,2 % относительно группы А. Результаты совпадают с \"сырыми\" данными."
   ]
  },
  {
   "cell_type": "markdown",
   "metadata": {},
   "source": [
    "**2.1.13 Посчитаем статистическую значимость различий в среднем чеке заказа между группами по «очищенным» данным. Сделаем выводы и предположения.**"
   ]
  },
  {
   "cell_type": "code",
   "execution_count": 65,
   "metadata": {},
   "outputs": [
    {
     "name": "stdout",
     "output_type": "stream",
     "text": [
      "0.977\n",
      "-0.017\n"
     ]
    }
   ],
   "source": [
    "print(\n",
    "    '{0:.3f}'.format(\n",
    "        sps.mannwhitneyu(\n",
    "            orders[\n",
    "                np.logical_and(\n",
    "                    orders['group'] == 'A',\n",
    "                    np.logical_not(orders['userId'].isin(abnormalUsers)),\n",
    "                )\n",
    "            ]['revenue'],\n",
    "            orders[\n",
    "                np.logical_and(\n",
    "                    orders['group'] == 'B',\n",
    "                    np.logical_not(orders['userId'].isin(abnormalUsers)),\n",
    "                )\n",
    "            ]['revenue'], alternative='two-sided'\n",
    "        )[1]\n",
    "    )\n",
    ")\n",
    "\n",
    "print(\n",
    "    \"{0:.3f}\".format(\n",
    "        orders[\n",
    "            np.logical_and(\n",
    "                orders['group'] == 'B',\n",
    "                np.logical_not(orders['userId'].isin(abnormalUsers)),\n",
    "            )\n",
    "        ]['revenue'].mean()\n",
    "        / orders[\n",
    "            np.logical_and(\n",
    "                orders['group'] == 'A',\n",
    "                np.logical_not(orders['userId'].isin(abnormalUsers)),\n",
    "            )\n",
    "        ]['revenue'].mean()\n",
    "        - 1\n",
    "    )\n",
    ") "
   ]
  },
  {
   "cell_type": "code",
   "execution_count": 66,
   "metadata": {},
   "outputs": [
    {
     "data": {
      "text/plain": [
       "5192.066532258064"
      ]
     },
     "execution_count": 66,
     "metadata": {},
     "output_type": "execute_result"
    }
   ],
   "source": [
    "orders[np.logical_and(orders['group'] == 'A',np.logical_not(orders['userId'].isin(abnormalUsers)))]['revenue'].mean()"
   ]
  },
  {
   "cell_type": "code",
   "execution_count": 67,
   "metadata": {},
   "outputs": [
    {
     "data": {
      "text/plain": [
       "5104.890434782608"
      ]
     },
     "execution_count": 67,
     "metadata": {},
     "output_type": "execute_result"
    }
   ],
   "source": [
    "orders[np.logical_and(orders['group'] == 'B',np.logical_not(orders['userId'].isin(abnormalUsers)))]['revenue'].mean()"
   ]
  },
  {
   "cell_type": "markdown",
   "metadata": {},
   "source": [
    "**Вывод:**\n",
    "<br> * Средний чек по очищенным данным группы А = 5167, группы В = 5025. Средние чеки в группах различаются немного. - Предположим что это могло произойти случайно. - Пусть нулевая гипотеза звучит так - разница средних чеков группы А и В \"по очищенным данным\" НЕ является статистически значимой - Альтернативная - разница средних чеков группы группы А и В \"по очищенным данным\" является статистически значимой.\n",
    "<br> * По «очищенным» данным статистически значимых различий в среднем чеке нет. P-value значительно больше 0.05. Значит, причин отвергать нулевую гипотезу и считать, что в среднем чеке есть различия, нет. Но средний чек группы B на 1,7% ниже чека группы A."
   ]
  },
  {
   "cell_type": "markdown",
   "metadata": {},
   "source": [
    "**2.1.14 Примем решение по результатам теста и объясним его. Варианты решений: 1. Остановить тест, зафиксировать победу одной из групп. 2. Остановить тест, зафиксировать отсутствие различий между группами. 3. Продолжить тест.**"
   ]
  },
  {
   "cell_type": "markdown",
   "metadata": {},
   "source": [
    "**Вывод:**\n",
    "<br> * Кумулятивные метрики по выручке, среднему чеку и конверсии почти все время лидировали в группе B. У нас на некоторое время возникли сомнения из-за резких колебаний на графике кумулятивного среднего чека в группе B до очистки данных от аномальных пользователей. Наши сомнения подтвердились на этот счет, т.к. после очистки разница между средними чеками стала минимальна, но это не даёт нам повода сомневаться в проведении теста и его результатах.\n",
    "<br> * До и после очистки данных, показатель конверсии в группе B больше показателя в группе A - сначала на 14% до и на 17% после очистки данных.\n",
    "<br> * График различия среднего чека говорит о том, что гораздо чаще кумулятивный средний чек группы В больше, чем у А, а в некоторых случаях разница достигает от 30 до почти 50 %.\n",
    "<br> * Данная разница показателей конверсии между группами и до и после очистки данных является СТАТИСТИЧЕСКИ ЗНАЧИМОЙ, что пользволяет нам сделать вывод о том, что мы можем остановить наш A/B тест и зафиксировать победу группы B."
   ]
  },
  {
   "cell_type": "markdown",
   "metadata": {},
   "source": [
    "**Общий вывод.**"
   ]
  },
  {
   "cell_type": "markdown",
   "metadata": {},
   "source": [
    "По **части 1** параметр охвата (Reach), использующийся в методе RICE изменил приоритетность, полученную по методу ICE:\n",
    "<br> * без учета охвата на первом месте идет акция со скидкой имениннику (8), но параметр Reach справедливо понизил приоритет этой акции, т.к. и правда, охват её минимальный (по сравнению с другими гипотезами увеличения выручки);\n",
    "<br> * также произошло и с гипотезой о добавлении 2х каналов трафика (0), с организацией своей службы доставки (1) и с идеей о добавлении страницы отзывов (5);\n",
    "<br> * без изменений осталась рейтинговая позиция гипотез о добавлении баннеров с актуальными акциями на главную страницу (6) и идея с изменением цвета фона главной страницы (4);\n",
    "<br> * выросли в рейтинге (стали более приоритетными) RICE (по сравнению с ICE) гипотеза о добавлении формы подписки на все основные страницы ресурса (7), о добавлении блоков рекомендаций товаров (2) и предложение об изменении структуры категорий (3).\n",
    "\n",
    "\n",
    "По **части 2**:\n",
    "<br> * Выявили и отфильтровали пользователей, которые были в обеих группах тестирования, поссчитали влияние выручки на тестирование;\n",
    "<br> * Очистили и изменили типы данных и названия столбцов в таблицах;\n",
    "<br> * Выручка увеличивается в течение всего теста в обеих группах. Однако график выручки группы В в одной точке резко растет, а дальше с таким же коэффициентом увеличивается как и в А. Это может сигнализировать о всплеске числа заказов, либо о появлении очень дорогих заказов в выборке в определенный период;\n",
    "<br> * Средний чек группы А после снижения идет резко вверх и после небольшого снижения устанавливается равномерно. Средний чек группы В растет рывками, причем последний рывок достаточно резкий, а далее идет снижение. Возможно, в группу B периодически попадали крупные заказы. Но после этих заказов средний чек каждый раз падает. Средний кумулятивный чек группы В выше в большей части времени;\n",
    "<br> * Группы колебались в первые дни, но затем конверсия группы В вырвалась вперёд и зафиксировалась, а конверсия группы А просела и также зафиксировалась;\n",
    "<br> * В целом, конверсия группы В выше группы А, только в первые дни было иначе. Прирост относительно группы А составляет 10-20 %;\n",
    "<br> * Выводы подтверждаются: много пользователей с 1-3 заказами, а покупателей с 4 и более заказами – гораздо меньше. Судя по граифкам, подавляющее большинство пользователей не совершает более 2 заказов. В группе В привалируют пользователи с одним заказом, а в А - с двумя, а покупателей с 4 и более заказами – гораздо меньше. В группе В преобладают пользователи с одним заказом, а в А - с двумя, а покупателей с 4 и более заказами – гораздо меньше;\n",
    "<br> * Выбрали 2 заказа на одного пользователя за нижнюю границу числа заказов, и отсеяли аномальных пользователей по ней;\n",
    "<br> * Не более 5% заказов дороже 28 000 рублей и не более 1% дороже 58 233,20 рублей. Если смотреть в целом на график и перцентили, можно выбрать границу аномальных заказов - 28 000 рублей;\n",
    "<br> * Данный тест можно остановить и считать успешно проведенным. Конверсия из пользователя в покупателя у группы B статистически значимо выше, чем у группы A. При этом средний чек между группами не отличается;\n",
    "<br> * Помимо этого, в процессе работы с данными было выяснено, что некоторые пользователи от сессии к сессии могли видеть как одну версию сайта, так и другую, что нарушает один из основных принцип работы A/B-теста - один пользователь видит только одну версию на всём протяжении теста;\n",
    "В связи с этим, нам необходимо проверить корректность отработки метода показа пользователям одной или другой версии сайта и поправить его, чтобы одному и тому же пользователю показывалась только та версия сайта, которую он увидел при первом визите."
   ]
  }
 ],
 "metadata": {
  "ExecuteTimeLog": [
   {
    "duration": 1082,
    "start_time": "2021-11-23T16:38:03.139Z"
   },
   {
    "duration": 15,
    "start_time": "2021-11-23T16:50:01.009Z"
   },
   {
    "duration": 10,
    "start_time": "2021-11-23T17:20:05.209Z"
   },
   {
    "duration": 295,
    "start_time": "2021-11-23T17:42:06.762Z"
   },
   {
    "duration": 1026,
    "start_time": "2021-11-23T17:53:35.856Z"
   },
   {
    "duration": 27,
    "start_time": "2021-11-23T17:53:36.884Z"
   },
   {
    "duration": 9,
    "start_time": "2021-11-23T17:53:36.913Z"
   },
   {
    "duration": 10,
    "start_time": "2021-11-23T17:53:36.923Z"
   },
   {
    "duration": 263,
    "start_time": "2021-11-23T17:53:36.935Z"
   },
   {
    "duration": 1090,
    "start_time": "2021-11-23T17:53:52.884Z"
   },
   {
    "duration": 28,
    "start_time": "2021-11-23T17:53:55.828Z"
   },
   {
    "duration": 20,
    "start_time": "2021-11-23T17:54:11.775Z"
   },
   {
    "duration": 11,
    "start_time": "2021-11-23T17:54:16.236Z"
   },
   {
    "duration": 279,
    "start_time": "2021-11-23T17:54:24.258Z"
   },
   {
    "duration": 57,
    "start_time": "2021-11-23T20:07:19.529Z"
   },
   {
    "duration": 24,
    "start_time": "2021-11-23T20:59:51.093Z"
   },
   {
    "duration": 6,
    "start_time": "2021-11-23T21:12:21.041Z"
   },
   {
    "duration": 5,
    "start_time": "2021-11-23T21:13:18.450Z"
   },
   {
    "duration": 6,
    "start_time": "2021-11-23T21:14:02.756Z"
   },
   {
    "duration": 5,
    "start_time": "2021-11-23T21:14:45.234Z"
   },
   {
    "duration": 4,
    "start_time": "2021-11-23T21:21:26.440Z"
   },
   {
    "duration": 5,
    "start_time": "2021-11-23T21:22:12.407Z"
   },
   {
    "duration": 8,
    "start_time": "2021-11-23T21:23:41.701Z"
   },
   {
    "duration": 7,
    "start_time": "2021-11-23T21:24:25.504Z"
   },
   {
    "duration": 5,
    "start_time": "2021-11-23T21:33:18.406Z"
   },
   {
    "duration": 4,
    "start_time": "2021-11-23T21:33:44.036Z"
   },
   {
    "duration": 720,
    "start_time": "2021-11-23T21:44:35.590Z"
   },
   {
    "duration": 1094,
    "start_time": "2021-11-23T21:52:24.999Z"
   },
   {
    "duration": 28,
    "start_time": "2021-11-23T21:52:26.095Z"
   },
   {
    "duration": 11,
    "start_time": "2021-11-23T21:52:26.126Z"
   },
   {
    "duration": 9,
    "start_time": "2021-11-23T21:52:26.139Z"
   },
   {
    "duration": 303,
    "start_time": "2021-11-23T21:52:26.150Z"
   },
   {
    "duration": 47,
    "start_time": "2021-11-23T21:52:26.454Z"
   },
   {
    "duration": 8,
    "start_time": "2021-11-23T21:52:26.503Z"
   },
   {
    "duration": 13,
    "start_time": "2021-11-23T21:52:26.513Z"
   },
   {
    "duration": 25,
    "start_time": "2021-11-23T21:52:26.529Z"
   },
   {
    "duration": 333,
    "start_time": "2021-11-23T21:52:26.556Z"
   },
   {
    "duration": 24553,
    "start_time": "2021-11-23T21:52:02.338Z"
   },
   {
    "duration": 24550,
    "start_time": "2021-11-23T21:52:02.342Z"
   },
   {
    "duration": 24538,
    "start_time": "2021-11-23T21:52:02.356Z"
   },
   {
    "duration": 24538,
    "start_time": "2021-11-23T21:52:02.357Z"
   },
   {
    "duration": 24537,
    "start_time": "2021-11-23T21:52:02.359Z"
   },
   {
    "duration": 24538,
    "start_time": "2021-11-23T21:52:02.360Z"
   },
   {
    "duration": 1121,
    "start_time": "2021-11-23T21:52:48.583Z"
   },
   {
    "duration": 29,
    "start_time": "2021-11-23T21:52:51.712Z"
   },
   {
    "duration": 13,
    "start_time": "2021-11-23T21:53:02.151Z"
   },
   {
    "duration": 11,
    "start_time": "2021-11-23T21:53:08.138Z"
   },
   {
    "duration": 299,
    "start_time": "2021-11-23T21:53:11.602Z"
   },
   {
    "duration": 49,
    "start_time": "2021-11-23T21:53:24.863Z"
   },
   {
    "duration": 9,
    "start_time": "2021-11-23T21:53:35.402Z"
   },
   {
    "duration": 6,
    "start_time": "2021-11-23T21:53:38.062Z"
   },
   {
    "duration": 7,
    "start_time": "2021-11-23T21:53:41.875Z"
   },
   {
    "duration": 344,
    "start_time": "2021-11-23T21:53:46.584Z"
   },
   {
    "duration": 4,
    "start_time": "2021-11-23T21:54:15.193Z"
   },
   {
    "duration": 25,
    "start_time": "2021-11-23T21:54:21.435Z"
   },
   {
    "duration": 7,
    "start_time": "2021-11-23T21:54:29.045Z"
   },
   {
    "duration": 5,
    "start_time": "2021-11-23T21:54:30.445Z"
   },
   {
    "duration": 5,
    "start_time": "2021-11-23T21:54:32.120Z"
   },
   {
    "duration": 4,
    "start_time": "2021-11-23T21:54:33.567Z"
   },
   {
    "duration": 550,
    "start_time": "2021-11-23T21:54:37.409Z"
   },
   {
    "duration": 280,
    "start_time": "2021-11-23T22:05:39.036Z"
   },
   {
    "duration": 339,
    "start_time": "2021-11-23T22:06:15.584Z"
   },
   {
    "duration": 280,
    "start_time": "2021-11-23T22:06:56.510Z"
   },
   {
    "duration": 274,
    "start_time": "2021-11-23T22:07:29.379Z"
   },
   {
    "duration": 292,
    "start_time": "2021-11-23T22:07:47.371Z"
   },
   {
    "duration": 279,
    "start_time": "2021-11-23T22:08:45.028Z"
   },
   {
    "duration": 12,
    "start_time": "2021-11-23T22:21:14.829Z"
   },
   {
    "duration": 301,
    "start_time": "2021-11-23T22:22:57.943Z"
   },
   {
    "duration": 184,
    "start_time": "2021-11-23T22:23:27.288Z"
   },
   {
    "duration": 146,
    "start_time": "2021-11-23T22:23:58.128Z"
   },
   {
    "duration": 13,
    "start_time": "2021-11-23T22:24:40.981Z"
   },
   {
    "duration": 12,
    "start_time": "2021-11-23T22:25:16.073Z"
   },
   {
    "duration": 194,
    "start_time": "2021-11-23T22:30:17.144Z"
   },
   {
    "duration": 278,
    "start_time": "2021-11-23T22:31:47.850Z"
   },
   {
    "duration": 264,
    "start_time": "2021-11-23T22:36:42.820Z"
   },
   {
    "duration": 182,
    "start_time": "2021-11-23T22:45:59.608Z"
   },
   {
    "duration": 202,
    "start_time": "2021-11-23T22:46:37.688Z"
   },
   {
    "duration": 339,
    "start_time": "2021-11-23T22:50:09.461Z"
   },
   {
    "duration": 350,
    "start_time": "2021-11-24T15:56:25.020Z"
   },
   {
    "duration": 1451,
    "start_time": "2021-11-24T15:56:40.723Z"
   },
   {
    "duration": 46,
    "start_time": "2021-11-24T15:56:42.177Z"
   },
   {
    "duration": 22,
    "start_time": "2021-11-24T15:56:42.227Z"
   },
   {
    "duration": 44,
    "start_time": "2021-11-24T15:56:42.253Z"
   },
   {
    "duration": 435,
    "start_time": "2021-11-24T15:56:42.300Z"
   },
   {
    "duration": 78,
    "start_time": "2021-11-24T15:56:42.737Z"
   },
   {
    "duration": 11,
    "start_time": "2021-11-24T15:56:42.817Z"
   },
   {
    "duration": 10,
    "start_time": "2021-11-24T15:56:42.833Z"
   },
   {
    "duration": 11,
    "start_time": "2021-11-24T15:56:42.847Z"
   },
   {
    "duration": 7,
    "start_time": "2021-11-24T15:56:42.883Z"
   },
   {
    "duration": 35,
    "start_time": "2021-11-24T15:56:42.893Z"
   },
   {
    "duration": 13,
    "start_time": "2021-11-24T15:56:42.931Z"
   },
   {
    "duration": 38,
    "start_time": "2021-11-24T15:56:42.947Z"
   },
   {
    "duration": 12,
    "start_time": "2021-11-24T15:56:42.987Z"
   },
   {
    "duration": 11,
    "start_time": "2021-11-24T15:56:43.001Z"
   },
   {
    "duration": 566,
    "start_time": "2021-11-24T15:56:43.015Z"
   },
   {
    "duration": 19,
    "start_time": "2021-11-24T15:56:43.584Z"
   },
   {
    "duration": 1514,
    "start_time": "2021-11-24T15:57:00.053Z"
   },
   {
    "duration": 35,
    "start_time": "2021-11-24T15:57:03.948Z"
   },
   {
    "duration": 20,
    "start_time": "2021-11-24T15:57:11.339Z"
   },
   {
    "duration": 15,
    "start_time": "2021-11-24T15:57:16.536Z"
   },
   {
    "duration": 418,
    "start_time": "2021-11-24T15:57:20.210Z"
   },
   {
    "duration": 70,
    "start_time": "2021-11-24T15:57:29.372Z"
   },
   {
    "duration": 13,
    "start_time": "2021-11-24T15:57:37.444Z"
   },
   {
    "duration": 10,
    "start_time": "2021-11-24T15:57:38.610Z"
   },
   {
    "duration": 10,
    "start_time": "2021-11-24T15:57:40.756Z"
   },
   {
    "duration": 7,
    "start_time": "2021-11-24T15:57:42.853Z"
   },
   {
    "duration": 26,
    "start_time": "2021-11-24T15:57:46.478Z"
   },
   {
    "duration": 14,
    "start_time": "2021-11-24T15:57:57.548Z"
   },
   {
    "duration": 9,
    "start_time": "2021-11-24T15:57:58.819Z"
   },
   {
    "duration": 7,
    "start_time": "2021-11-24T15:58:00.595Z"
   },
   {
    "duration": 6,
    "start_time": "2021-11-24T15:58:01.939Z"
   },
   {
    "duration": 543,
    "start_time": "2021-11-24T15:58:08.139Z"
   },
   {
    "duration": 18,
    "start_time": "2021-11-24T15:58:21.777Z"
   },
   {
    "duration": 320,
    "start_time": "2021-11-24T15:58:22.813Z"
   },
   {
    "duration": 375,
    "start_time": "2021-11-24T15:58:26.924Z"
   },
   {
    "duration": 21,
    "start_time": "2021-11-24T15:58:28.651Z"
   },
   {
    "duration": 367,
    "start_time": "2021-11-24T15:58:30.447Z"
   },
   {
    "duration": 353,
    "start_time": "2021-11-24T15:59:06.606Z"
   },
   {
    "duration": 488,
    "start_time": "2021-11-24T15:59:12.771Z"
   },
   {
    "duration": 432,
    "start_time": "2021-11-24T16:03:41.693Z"
   },
   {
    "duration": 401,
    "start_time": "2021-11-24T16:04:11.668Z"
   },
   {
    "duration": 421,
    "start_time": "2021-11-24T16:06:34.628Z"
   },
   {
    "duration": 1069,
    "start_time": "2021-11-24T18:51:06.904Z"
   },
   {
    "duration": 28,
    "start_time": "2021-11-24T18:51:10.194Z"
   },
   {
    "duration": 15,
    "start_time": "2021-11-24T18:51:15.788Z"
   },
   {
    "duration": 11,
    "start_time": "2021-11-24T18:51:19.665Z"
   },
   {
    "duration": 298,
    "start_time": "2021-11-24T18:51:20.946Z"
   },
   {
    "duration": 43,
    "start_time": "2021-11-24T18:51:26.193Z"
   },
   {
    "duration": 8,
    "start_time": "2021-11-24T18:51:28.857Z"
   },
   {
    "duration": 6,
    "start_time": "2021-11-24T18:51:29.651Z"
   },
   {
    "duration": 7,
    "start_time": "2021-11-24T18:51:30.689Z"
   },
   {
    "duration": 5,
    "start_time": "2021-11-24T18:51:31.345Z"
   },
   {
    "duration": 29,
    "start_time": "2021-11-24T18:51:33.033Z"
   },
   {
    "duration": 8,
    "start_time": "2021-11-24T18:51:36.250Z"
   },
   {
    "duration": 7,
    "start_time": "2021-11-24T18:51:37.286Z"
   },
   {
    "duration": 5,
    "start_time": "2021-11-24T18:51:38.252Z"
   },
   {
    "duration": 4,
    "start_time": "2021-11-24T18:51:39.065Z"
   },
   {
    "duration": 314,
    "start_time": "2021-11-24T18:51:40.705Z"
   },
   {
    "duration": 13,
    "start_time": "2021-11-24T18:51:46.497Z"
   },
   {
    "duration": 184,
    "start_time": "2021-11-24T18:51:47.289Z"
   },
   {
    "duration": 162,
    "start_time": "2021-11-24T18:51:48.540Z"
   },
   {
    "duration": 12,
    "start_time": "2021-11-24T18:51:49.689Z"
   },
   {
    "duration": 224,
    "start_time": "2021-11-24T18:51:54.395Z"
   },
   {
    "duration": 214,
    "start_time": "2021-11-24T18:51:58.746Z"
   },
   {
    "duration": 373,
    "start_time": "2021-11-24T18:52:01.545Z"
   },
   {
    "duration": 223,
    "start_time": "2021-11-24T18:52:04.568Z"
   },
   {
    "duration": 322,
    "start_time": "2021-11-24T18:52:07.645Z"
   },
   {
    "duration": 489,
    "start_time": "2021-11-24T19:12:06.042Z"
   },
   {
    "duration": 442,
    "start_time": "2021-11-24T19:59:13.911Z"
   },
   {
    "duration": 386,
    "start_time": "2021-11-24T20:00:03.059Z"
   },
   {
    "duration": 8,
    "start_time": "2021-11-24T20:00:50.478Z"
   },
   {
    "duration": 264,
    "start_time": "2021-11-24T20:01:21.474Z"
   },
   {
    "duration": 7163,
    "start_time": "2021-11-24T20:02:22.558Z"
   },
   {
    "duration": 109,
    "start_time": "2021-11-24T20:04:00.216Z"
   },
   {
    "duration": 370,
    "start_time": "2021-11-24T20:06:31.531Z"
   },
   {
    "duration": 413,
    "start_time": "2021-11-24T20:07:20.453Z"
   },
   {
    "duration": 266,
    "start_time": "2021-11-24T20:09:05.488Z"
   },
   {
    "duration": 5,
    "start_time": "2021-11-24T20:12:14.677Z"
   },
   {
    "duration": 1171,
    "start_time": "2021-11-24T20:13:47.596Z"
   },
   {
    "duration": 28,
    "start_time": "2021-11-24T20:13:48.769Z"
   },
   {
    "duration": 11,
    "start_time": "2021-11-24T20:13:48.799Z"
   },
   {
    "duration": 10,
    "start_time": "2021-11-24T20:13:48.812Z"
   },
   {
    "duration": 323,
    "start_time": "2021-11-24T20:13:48.824Z"
   },
   {
    "duration": 44,
    "start_time": "2021-11-24T20:13:49.149Z"
   },
   {
    "duration": 7,
    "start_time": "2021-11-24T20:13:49.195Z"
   },
   {
    "duration": 5,
    "start_time": "2021-11-24T20:13:49.205Z"
   },
   {
    "duration": 7,
    "start_time": "2021-11-24T20:13:49.213Z"
   },
   {
    "duration": 1611,
    "start_time": "2021-11-24T20:14:00.460Z"
   },
   {
    "duration": 29,
    "start_time": "2021-11-24T20:14:03.574Z"
   },
   {
    "duration": 15,
    "start_time": "2021-11-24T20:14:09.084Z"
   },
   {
    "duration": 10,
    "start_time": "2021-11-24T20:14:12.362Z"
   },
   {
    "duration": 330,
    "start_time": "2021-11-24T20:14:14.220Z"
   },
   {
    "duration": 45,
    "start_time": "2021-11-24T20:14:18.715Z"
   },
   {
    "duration": 9,
    "start_time": "2021-11-24T20:14:23.396Z"
   },
   {
    "duration": 6,
    "start_time": "2021-11-24T20:14:28.997Z"
   },
   {
    "duration": 6,
    "start_time": "2021-11-24T20:14:30.803Z"
   },
   {
    "duration": 5,
    "start_time": "2021-11-24T20:14:32.291Z"
   },
   {
    "duration": 25,
    "start_time": "2021-11-24T20:14:34.234Z"
   },
   {
    "duration": 8,
    "start_time": "2021-11-24T20:14:37.327Z"
   },
   {
    "duration": 6,
    "start_time": "2021-11-24T20:14:38.463Z"
   },
   {
    "duration": 5,
    "start_time": "2021-11-24T20:14:38.774Z"
   },
   {
    "duration": 4,
    "start_time": "2021-11-24T20:14:39.602Z"
   },
   {
    "duration": 312,
    "start_time": "2021-11-24T20:14:41.454Z"
   },
   {
    "duration": 13,
    "start_time": "2021-11-24T20:14:44.675Z"
   },
   {
    "duration": 195,
    "start_time": "2021-11-24T20:14:45.525Z"
   },
   {
    "duration": 159,
    "start_time": "2021-11-24T20:14:46.779Z"
   },
   {
    "duration": 13,
    "start_time": "2021-11-24T20:14:48.698Z"
   },
   {
    "duration": 219,
    "start_time": "2021-11-24T20:14:50.722Z"
   },
   {
    "duration": 209,
    "start_time": "2021-11-24T20:14:55.765Z"
   },
   {
    "duration": 384,
    "start_time": "2021-11-24T20:14:58.525Z"
   },
   {
    "duration": 227,
    "start_time": "2021-11-24T20:15:03.045Z"
   },
   {
    "duration": 380,
    "start_time": "2021-11-24T20:15:06.738Z"
   },
   {
    "duration": 90,
    "start_time": "2021-11-24T20:43:01.996Z"
   },
   {
    "duration": 1168,
    "start_time": "2021-11-24T20:44:46.019Z"
   },
   {
    "duration": 39,
    "start_time": "2021-11-24T20:44:47.189Z"
   },
   {
    "duration": 14,
    "start_time": "2021-11-24T20:44:47.231Z"
   },
   {
    "duration": 15,
    "start_time": "2021-11-24T20:44:47.247Z"
   },
   {
    "duration": 306,
    "start_time": "2021-11-24T20:44:47.264Z"
   },
   {
    "duration": 45,
    "start_time": "2021-11-24T20:44:47.572Z"
   },
   {
    "duration": 83,
    "start_time": "2021-11-24T20:44:47.619Z"
   },
   {
    "duration": 25035,
    "start_time": "2021-11-24T20:44:22.670Z"
   },
   {
    "duration": 25036,
    "start_time": "2021-11-24T20:44:22.671Z"
   },
   {
    "duration": 25030,
    "start_time": "2021-11-24T20:44:22.678Z"
   },
   {
    "duration": 25029,
    "start_time": "2021-11-24T20:44:22.680Z"
   },
   {
    "duration": 25024,
    "start_time": "2021-11-24T20:44:22.686Z"
   },
   {
    "duration": 25024,
    "start_time": "2021-11-24T20:44:22.687Z"
   },
   {
    "duration": 25019,
    "start_time": "2021-11-24T20:44:22.693Z"
   },
   {
    "duration": 25016,
    "start_time": "2021-11-24T20:44:22.697Z"
   },
   {
    "duration": 25014,
    "start_time": "2021-11-24T20:44:22.700Z"
   },
   {
    "duration": 25014,
    "start_time": "2021-11-24T20:44:22.701Z"
   },
   {
    "duration": 25010,
    "start_time": "2021-11-24T20:44:22.707Z"
   },
   {
    "duration": 25004,
    "start_time": "2021-11-24T20:44:22.714Z"
   },
   {
    "duration": 25003,
    "start_time": "2021-11-24T20:44:22.716Z"
   },
   {
    "duration": 25003,
    "start_time": "2021-11-24T20:44:22.717Z"
   },
   {
    "duration": 25000,
    "start_time": "2021-11-24T20:44:22.721Z"
   },
   {
    "duration": 24999,
    "start_time": "2021-11-24T20:44:22.723Z"
   },
   {
    "duration": 24998,
    "start_time": "2021-11-24T20:44:22.725Z"
   },
   {
    "duration": 24998,
    "start_time": "2021-11-24T20:44:22.726Z"
   },
   {
    "duration": 24998,
    "start_time": "2021-11-24T20:44:22.727Z"
   },
   {
    "duration": 24914,
    "start_time": "2021-11-24T20:44:22.812Z"
   },
   {
    "duration": 24914,
    "start_time": "2021-11-24T20:44:22.813Z"
   },
   {
    "duration": 24914,
    "start_time": "2021-11-24T20:44:22.814Z"
   },
   {
    "duration": 24913,
    "start_time": "2021-11-24T20:44:22.816Z"
   },
   {
    "duration": 24910,
    "start_time": "2021-11-24T20:44:22.820Z"
   },
   {
    "duration": 24908,
    "start_time": "2021-11-24T20:44:22.823Z"
   },
   {
    "duration": 24908,
    "start_time": "2021-11-24T20:44:22.824Z"
   },
   {
    "duration": 2262,
    "start_time": "2021-11-24T20:45:01.123Z"
   },
   {
    "duration": 30,
    "start_time": "2021-11-24T20:45:05.146Z"
   },
   {
    "duration": 15,
    "start_time": "2021-11-24T20:45:11.036Z"
   },
   {
    "duration": 12,
    "start_time": "2021-11-24T20:45:14.071Z"
   },
   {
    "duration": 294,
    "start_time": "2021-11-24T20:45:16.355Z"
   },
   {
    "duration": 46,
    "start_time": "2021-11-24T20:45:23.059Z"
   },
   {
    "duration": 88,
    "start_time": "2021-11-24T20:46:03.652Z"
   },
   {
    "duration": 9,
    "start_time": "2021-11-24T20:46:57.203Z"
   },
   {
    "duration": 7,
    "start_time": "2021-11-24T20:47:02.891Z"
   },
   {
    "duration": 6,
    "start_time": "2021-11-24T20:47:03.996Z"
   },
   {
    "duration": 4,
    "start_time": "2021-11-24T20:47:05.036Z"
   },
   {
    "duration": 24,
    "start_time": "2021-11-24T20:47:06.378Z"
   },
   {
    "duration": 8,
    "start_time": "2021-11-24T20:47:22.354Z"
   },
   {
    "duration": 6,
    "start_time": "2021-11-24T20:47:23.286Z"
   },
   {
    "duration": 5,
    "start_time": "2021-11-24T20:47:24.178Z"
   },
   {
    "duration": 4,
    "start_time": "2021-11-24T20:47:25.125Z"
   },
   {
    "duration": 323,
    "start_time": "2021-11-24T20:47:26.467Z"
   },
   {
    "duration": 21,
    "start_time": "2021-11-24T20:47:29.467Z"
   },
   {
    "duration": 189,
    "start_time": "2021-11-24T20:47:30.435Z"
   },
   {
    "duration": 145,
    "start_time": "2021-11-24T20:47:33.475Z"
   },
   {
    "duration": 13,
    "start_time": "2021-11-24T20:47:35.995Z"
   },
   {
    "duration": 233,
    "start_time": "2021-11-24T20:47:38.578Z"
   },
   {
    "duration": 221,
    "start_time": "2021-11-24T20:47:41.755Z"
   },
   {
    "duration": 407,
    "start_time": "2021-11-24T20:47:44.466Z"
   },
   {
    "duration": 235,
    "start_time": "2021-11-24T20:47:47.227Z"
   },
   {
    "duration": 349,
    "start_time": "2021-11-24T20:47:50.139Z"
   },
   {
    "duration": 320,
    "start_time": "2021-11-24T20:55:36.900Z"
   },
   {
    "duration": 251,
    "start_time": "2021-11-24T20:57:04.977Z"
   },
   {
    "duration": 262,
    "start_time": "2021-11-24T20:58:17.873Z"
   },
   {
    "duration": 214,
    "start_time": "2021-11-24T20:59:45.024Z"
   },
   {
    "duration": 225,
    "start_time": "2021-11-24T21:00:12.145Z"
   },
   {
    "duration": 958,
    "start_time": "2021-11-24T21:00:37.943Z"
   },
   {
    "duration": 253,
    "start_time": "2021-11-24T21:04:32.815Z"
   },
   {
    "duration": 3092,
    "start_time": "2021-11-24T21:05:35.238Z"
   },
   {
    "duration": 313,
    "start_time": "2021-11-24T21:06:13.464Z"
   },
   {
    "duration": 273,
    "start_time": "2021-11-24T21:06:35.912Z"
   },
   {
    "duration": 632,
    "start_time": "2021-11-24T21:11:09.789Z"
   },
   {
    "duration": 13,
    "start_time": "2021-11-24T21:11:44.076Z"
   },
   {
    "duration": 271,
    "start_time": "2021-11-24T21:12:21.590Z"
   },
   {
    "duration": 333,
    "start_time": "2021-11-24T21:12:47.132Z"
   },
   {
    "duration": 1221,
    "start_time": "2021-11-24T21:15:44.212Z"
   },
   {
    "duration": 29,
    "start_time": "2021-11-24T21:15:45.435Z"
   },
   {
    "duration": 11,
    "start_time": "2021-11-24T21:15:45.467Z"
   },
   {
    "duration": 10,
    "start_time": "2021-11-24T21:15:45.480Z"
   },
   {
    "duration": 291,
    "start_time": "2021-11-24T21:15:45.492Z"
   },
   {
    "duration": 44,
    "start_time": "2021-11-24T21:15:45.785Z"
   },
   {
    "duration": 8,
    "start_time": "2021-11-24T21:15:45.830Z"
   },
   {
    "duration": 7,
    "start_time": "2021-11-24T21:15:45.839Z"
   },
   {
    "duration": 6,
    "start_time": "2021-11-24T21:15:45.848Z"
   },
   {
    "duration": 5,
    "start_time": "2021-11-24T21:15:45.856Z"
   },
   {
    "duration": 30,
    "start_time": "2021-11-24T21:15:45.863Z"
   },
   {
    "duration": 6,
    "start_time": "2021-11-24T21:15:45.895Z"
   },
   {
    "duration": 7,
    "start_time": "2021-11-24T21:15:45.903Z"
   },
   {
    "duration": 6,
    "start_time": "2021-11-24T21:15:45.912Z"
   },
   {
    "duration": 5,
    "start_time": "2021-11-24T21:15:45.919Z"
   },
   {
    "duration": 338,
    "start_time": "2021-11-24T21:15:45.945Z"
   },
   {
    "duration": 12,
    "start_time": "2021-11-24T21:15:46.284Z"
   },
   {
    "duration": 207,
    "start_time": "2021-11-24T21:15:46.298Z"
   },
   {
    "duration": 1113,
    "start_time": "2021-11-24T21:22:52.540Z"
   },
   {
    "duration": 29,
    "start_time": "2021-11-24T21:22:55.052Z"
   },
   {
    "duration": 17,
    "start_time": "2021-11-24T21:23:00.278Z"
   },
   {
    "duration": 11,
    "start_time": "2021-11-24T21:23:03.195Z"
   },
   {
    "duration": 329,
    "start_time": "2021-11-24T21:23:04.343Z"
   },
   {
    "duration": 44,
    "start_time": "2021-11-24T21:23:10.039Z"
   },
   {
    "duration": 8,
    "start_time": "2021-11-24T21:23:13.052Z"
   },
   {
    "duration": 6,
    "start_time": "2021-11-24T21:23:14.007Z"
   },
   {
    "duration": 8,
    "start_time": "2021-11-24T21:23:14.870Z"
   },
   {
    "duration": 4,
    "start_time": "2021-11-24T21:23:15.829Z"
   },
   {
    "duration": 24,
    "start_time": "2021-11-24T21:23:18.365Z"
   },
   {
    "duration": 8,
    "start_time": "2021-11-24T21:23:28.820Z"
   },
   {
    "duration": 5,
    "start_time": "2021-11-24T21:23:30.847Z"
   },
   {
    "duration": 5,
    "start_time": "2021-11-24T21:23:31.951Z"
   },
   {
    "duration": 4,
    "start_time": "2021-11-24T21:23:32.729Z"
   },
   {
    "duration": 415,
    "start_time": "2021-11-24T21:23:49.911Z"
   },
   {
    "duration": 9,
    "start_time": "2021-11-24T21:26:02.108Z"
   },
   {
    "duration": 12,
    "start_time": "2021-11-24T21:26:54.438Z"
   },
   {
    "duration": 189,
    "start_time": "2021-11-24T21:27:33.832Z"
   },
   {
    "duration": 159,
    "start_time": "2021-11-24T21:27:55.220Z"
   },
   {
    "duration": 13,
    "start_time": "2021-11-24T21:28:17.126Z"
   },
   {
    "duration": 238,
    "start_time": "2021-11-24T21:29:00.948Z"
   },
   {
    "duration": 441,
    "start_time": "2021-11-24T21:29:31.237Z"
   },
   {
    "duration": 207,
    "start_time": "2021-11-24T21:36:05.066Z"
   },
   {
    "duration": 270,
    "start_time": "2021-11-24T21:36:24.105Z"
   },
   {
    "duration": 220,
    "start_time": "2021-11-24T21:36:47.153Z"
   },
   {
    "duration": 327,
    "start_time": "2021-11-24T21:36:59.257Z"
   },
   {
    "duration": 12,
    "start_time": "2021-11-24T21:38:52.330Z"
   },
   {
    "duration": 305,
    "start_time": "2021-11-24T21:39:26.370Z"
   },
   {
    "duration": 10,
    "start_time": "2021-11-24T21:40:22.001Z"
   },
   {
    "duration": 5,
    "start_time": "2021-11-24T21:41:07.712Z"
   },
   {
    "duration": 224,
    "start_time": "2021-11-24T21:41:28.552Z"
   },
   {
    "duration": 19,
    "start_time": "2021-11-24T21:42:29.353Z"
   },
   {
    "duration": 190,
    "start_time": "2021-11-24T21:45:14.889Z"
   },
   {
    "duration": 188,
    "start_time": "2021-11-24T21:45:33.313Z"
   },
   {
    "duration": 16,
    "start_time": "2021-11-24T21:45:43.098Z"
   },
   {
    "duration": 13,
    "start_time": "2021-11-24T21:46:44.496Z"
   },
   {
    "duration": 300,
    "start_time": "2021-11-24T21:47:33.273Z"
   },
   {
    "duration": 8,
    "start_time": "2021-11-24T21:48:45.456Z"
   },
   {
    "duration": 134,
    "start_time": "2021-11-24T21:48:59.469Z"
   },
   {
    "duration": 280,
    "start_time": "2021-11-24T21:50:10.686Z"
   },
   {
    "duration": 9,
    "start_time": "2021-11-24T21:50:24.997Z"
   },
   {
    "duration": 107,
    "start_time": "2021-11-24T21:50:28.399Z"
   },
   {
    "duration": 294,
    "start_time": "2021-11-24T21:51:05.061Z"
   },
   {
    "duration": 8,
    "start_time": "2021-11-24T21:51:09.984Z"
   },
   {
    "duration": 122,
    "start_time": "2021-11-24T21:51:13.624Z"
   },
   {
    "duration": 499,
    "start_time": "2021-11-24T21:52:23.453Z"
   },
   {
    "duration": 273,
    "start_time": "2021-11-24T21:52:29.752Z"
   },
   {
    "duration": 259,
    "start_time": "2021-11-24T21:52:46.348Z"
   },
   {
    "duration": 5,
    "start_time": "2021-11-24T21:52:54.862Z"
   },
   {
    "duration": 1182,
    "start_time": "2021-11-24T21:56:58.767Z"
   },
   {
    "duration": 28,
    "start_time": "2021-11-24T21:56:59.951Z"
   },
   {
    "duration": 15,
    "start_time": "2021-11-24T21:56:59.983Z"
   },
   {
    "duration": 16,
    "start_time": "2021-11-24T21:56:59.999Z"
   },
   {
    "duration": 334,
    "start_time": "2021-11-24T21:57:00.016Z"
   },
   {
    "duration": 44,
    "start_time": "2021-11-24T21:57:00.352Z"
   },
   {
    "duration": 9,
    "start_time": "2021-11-24T21:57:00.399Z"
   },
   {
    "duration": 18,
    "start_time": "2021-11-24T21:57:00.410Z"
   },
   {
    "duration": 7,
    "start_time": "2021-11-24T21:57:00.430Z"
   },
   {
    "duration": 16,
    "start_time": "2021-11-24T21:57:00.438Z"
   },
   {
    "duration": 29,
    "start_time": "2021-11-24T21:57:00.456Z"
   },
   {
    "duration": 7,
    "start_time": "2021-11-24T21:57:00.487Z"
   },
   {
    "duration": 10,
    "start_time": "2021-11-24T21:57:00.495Z"
   },
   {
    "duration": 12,
    "start_time": "2021-11-24T21:57:00.506Z"
   },
   {
    "duration": 11,
    "start_time": "2021-11-24T21:57:00.520Z"
   },
   {
    "duration": 299,
    "start_time": "2021-11-24T21:57:00.533Z"
   },
   {
    "duration": 12,
    "start_time": "2021-11-24T21:57:00.834Z"
   },
   {
    "duration": 17,
    "start_time": "2021-11-24T21:57:00.848Z"
   },
   {
    "duration": 1096,
    "start_time": "2021-11-24T21:57:18.976Z"
   },
   {
    "duration": 28,
    "start_time": "2021-11-24T21:57:21.538Z"
   },
   {
    "duration": 15,
    "start_time": "2021-11-24T21:57:27.017Z"
   },
   {
    "duration": 12,
    "start_time": "2021-11-24T21:57:30.161Z"
   },
   {
    "duration": 300,
    "start_time": "2021-11-24T21:57:31.466Z"
   },
   {
    "duration": 45,
    "start_time": "2021-11-24T21:57:36.200Z"
   },
   {
    "duration": 11,
    "start_time": "2021-11-24T21:57:39.139Z"
   },
   {
    "duration": 6,
    "start_time": "2021-11-24T21:57:39.849Z"
   },
   {
    "duration": 6,
    "start_time": "2021-11-24T21:57:40.851Z"
   },
   {
    "duration": 5,
    "start_time": "2021-11-24T21:57:45.767Z"
   },
   {
    "duration": 22,
    "start_time": "2021-11-24T21:57:50.272Z"
   },
   {
    "duration": 7,
    "start_time": "2021-11-24T21:57:53.692Z"
   },
   {
    "duration": 5,
    "start_time": "2021-11-24T21:57:54.809Z"
   },
   {
    "duration": 6,
    "start_time": "2021-11-24T21:57:55.497Z"
   },
   {
    "duration": 4,
    "start_time": "2021-11-24T21:57:56.057Z"
   },
   {
    "duration": 284,
    "start_time": "2021-11-24T21:57:57.746Z"
   },
   {
    "duration": 8,
    "start_time": "2021-11-24T21:58:04.665Z"
   },
   {
    "duration": 12,
    "start_time": "2021-11-24T21:58:08.124Z"
   },
   {
    "duration": 6897,
    "start_time": "2021-11-24T21:58:12.320Z"
   },
   {
    "duration": 195,
    "start_time": "2021-11-24T22:00:30.489Z"
   },
   {
    "duration": 159,
    "start_time": "2021-11-24T22:00:43.788Z"
   },
   {
    "duration": 13,
    "start_time": "2021-11-24T22:00:54.600Z"
   },
   {
    "duration": 205,
    "start_time": "2021-11-24T22:00:58.951Z"
   },
   {
    "duration": 305,
    "start_time": "2021-11-24T22:01:34.712Z"
   },
   {
    "duration": 1161,
    "start_time": "2021-11-24T22:14:57.617Z"
   },
   {
    "duration": 29,
    "start_time": "2021-11-24T22:14:58.780Z"
   },
   {
    "duration": 13,
    "start_time": "2021-11-24T22:14:58.811Z"
   },
   {
    "duration": 20,
    "start_time": "2021-11-24T22:14:58.826Z"
   },
   {
    "duration": 332,
    "start_time": "2021-11-24T22:14:58.847Z"
   },
   {
    "duration": 46,
    "start_time": "2021-11-24T22:14:59.181Z"
   },
   {
    "duration": 10,
    "start_time": "2021-11-24T22:14:59.228Z"
   },
   {
    "duration": 8,
    "start_time": "2021-11-24T22:14:59.241Z"
   },
   {
    "duration": 6,
    "start_time": "2021-11-24T22:14:59.251Z"
   },
   {
    "duration": 4,
    "start_time": "2021-11-24T22:14:59.259Z"
   },
   {
    "duration": 24,
    "start_time": "2021-11-24T22:14:59.265Z"
   },
   {
    "duration": 7,
    "start_time": "2021-11-24T22:14:59.290Z"
   },
   {
    "duration": 7,
    "start_time": "2021-11-24T22:14:59.299Z"
   },
   {
    "duration": 5,
    "start_time": "2021-11-24T22:14:59.307Z"
   },
   {
    "duration": 31,
    "start_time": "2021-11-24T22:14:59.314Z"
   },
   {
    "duration": 408,
    "start_time": "2021-11-24T22:14:59.347Z"
   },
   {
    "duration": 8,
    "start_time": "2021-11-24T22:14:59.756Z"
   },
   {
    "duration": 14,
    "start_time": "2021-11-24T22:14:59.765Z"
   },
   {
    "duration": 209,
    "start_time": "2021-11-24T22:14:59.781Z"
   },
   {
    "duration": 1147,
    "start_time": "2021-11-24T22:15:21.236Z"
   },
   {
    "duration": 33,
    "start_time": "2021-11-24T22:15:24.380Z"
   },
   {
    "duration": 15,
    "start_time": "2021-11-24T22:15:29.836Z"
   },
   {
    "duration": 11,
    "start_time": "2021-11-24T22:15:32.741Z"
   },
   {
    "duration": 304,
    "start_time": "2021-11-24T22:15:34.072Z"
   },
   {
    "duration": 44,
    "start_time": "2021-11-24T22:15:41.566Z"
   },
   {
    "duration": 10,
    "start_time": "2021-11-24T22:15:45.244Z"
   },
   {
    "duration": 7,
    "start_time": "2021-11-24T22:16:04.254Z"
   },
   {
    "duration": 6,
    "start_time": "2021-11-24T22:16:05.871Z"
   },
   {
    "duration": 5,
    "start_time": "2021-11-24T22:16:06.803Z"
   },
   {
    "duration": 24,
    "start_time": "2021-11-24T22:16:08.916Z"
   },
   {
    "duration": 7,
    "start_time": "2021-11-24T22:16:12.748Z"
   },
   {
    "duration": 6,
    "start_time": "2021-11-24T22:16:16.709Z"
   },
   {
    "duration": 6,
    "start_time": "2021-11-24T22:16:18.055Z"
   },
   {
    "duration": 4,
    "start_time": "2021-11-24T22:16:19.059Z"
   },
   {
    "duration": 305,
    "start_time": "2021-11-24T22:16:35.525Z"
   },
   {
    "duration": 8,
    "start_time": "2021-11-24T22:16:39.612Z"
   },
   {
    "duration": 13,
    "start_time": "2021-11-24T22:19:30.964Z"
   },
   {
    "duration": 200,
    "start_time": "2021-11-24T22:20:04.244Z"
   },
   {
    "duration": 151,
    "start_time": "2021-11-24T22:20:45.082Z"
   },
   {
    "duration": 13,
    "start_time": "2021-11-24T22:20:50.917Z"
   },
   {
    "duration": 211,
    "start_time": "2021-11-24T22:20:55.955Z"
   },
   {
    "duration": 335,
    "start_time": "2021-11-24T22:21:20.737Z"
   },
   {
    "duration": 263,
    "start_time": "2021-11-24T22:22:08.981Z"
   },
   {
    "duration": 251,
    "start_time": "2021-11-24T22:22:43.603Z"
   },
   {
    "duration": 330,
    "start_time": "2021-11-24T22:26:09.347Z"
   },
   {
    "duration": 324,
    "start_time": "2021-11-24T22:26:26.300Z"
   },
   {
    "duration": 327,
    "start_time": "2021-11-24T22:26:57.027Z"
   },
   {
    "duration": 201,
    "start_time": "2021-11-24T22:29:12.097Z"
   },
   {
    "duration": 201,
    "start_time": "2021-11-24T22:29:21.246Z"
   },
   {
    "duration": 12,
    "start_time": "2021-11-24T22:29:27.657Z"
   },
   {
    "duration": 266,
    "start_time": "2021-11-24T22:29:30.857Z"
   },
   {
    "duration": 259,
    "start_time": "2021-11-24T22:34:47.966Z"
   },
   {
    "duration": 269,
    "start_time": "2021-11-24T22:35:02.857Z"
   },
   {
    "duration": 1104,
    "start_time": "2021-11-24T22:36:53.272Z"
   },
   {
    "duration": 29,
    "start_time": "2021-11-24T22:36:54.378Z"
   },
   {
    "duration": 11,
    "start_time": "2021-11-24T22:36:54.410Z"
   },
   {
    "duration": 25,
    "start_time": "2021-11-24T22:36:54.424Z"
   },
   {
    "duration": 306,
    "start_time": "2021-11-24T22:36:54.451Z"
   },
   {
    "duration": 47,
    "start_time": "2021-11-24T22:36:54.759Z"
   },
   {
    "duration": 11,
    "start_time": "2021-11-24T22:36:54.808Z"
   },
   {
    "duration": 14,
    "start_time": "2021-11-24T22:36:54.821Z"
   },
   {
    "duration": 8,
    "start_time": "2021-11-24T22:36:54.837Z"
   },
   {
    "duration": 4,
    "start_time": "2021-11-24T22:36:54.846Z"
   },
   {
    "duration": 35,
    "start_time": "2021-11-24T22:36:54.852Z"
   },
   {
    "duration": 7,
    "start_time": "2021-11-24T22:36:54.888Z"
   },
   {
    "duration": 9,
    "start_time": "2021-11-24T22:36:54.897Z"
   },
   {
    "duration": 6,
    "start_time": "2021-11-24T22:36:54.907Z"
   },
   {
    "duration": 5,
    "start_time": "2021-11-24T22:36:54.915Z"
   },
   {
    "duration": 322,
    "start_time": "2021-11-24T22:36:54.922Z"
   },
   {
    "duration": 8,
    "start_time": "2021-11-24T22:36:55.246Z"
   },
   {
    "duration": 12,
    "start_time": "2021-11-24T22:36:55.256Z"
   },
   {
    "duration": 211,
    "start_time": "2021-11-24T22:36:55.270Z"
   },
   {
    "duration": 168,
    "start_time": "2021-11-24T22:36:55.483Z"
   },
   {
    "duration": 13,
    "start_time": "2021-11-24T22:36:55.653Z"
   },
   {
    "duration": 343,
    "start_time": "2021-11-24T22:36:55.668Z"
   },
   {
    "duration": 219,
    "start_time": "2021-11-24T22:36:56.014Z"
   },
   {
    "duration": 205,
    "start_time": "2021-11-24T22:36:56.235Z"
   },
   {
    "duration": 12,
    "start_time": "2021-11-24T22:36:56.442Z"
   },
   {
    "duration": 334,
    "start_time": "2021-11-24T22:36:56.455Z"
   },
   {
    "duration": 25061,
    "start_time": "2021-11-24T22:36:31.730Z"
   },
   {
    "duration": 25052,
    "start_time": "2021-11-24T22:36:31.740Z"
   },
   {
    "duration": 25050,
    "start_time": "2021-11-24T22:36:31.743Z"
   },
   {
    "duration": 25047,
    "start_time": "2021-11-24T22:36:31.747Z"
   },
   {
    "duration": 25046,
    "start_time": "2021-11-24T22:36:31.749Z"
   },
   {
    "duration": 25040,
    "start_time": "2021-11-24T22:36:31.756Z"
   },
   {
    "duration": 25039,
    "start_time": "2021-11-24T22:36:31.758Z"
   },
   {
    "duration": 25037,
    "start_time": "2021-11-24T22:36:31.761Z"
   },
   {
    "duration": 25036,
    "start_time": "2021-11-24T22:36:31.763Z"
   },
   {
    "duration": 25035,
    "start_time": "2021-11-24T22:36:31.765Z"
   },
   {
    "duration": 25034,
    "start_time": "2021-11-24T22:36:31.767Z"
   },
   {
    "duration": 25032,
    "start_time": "2021-11-24T22:36:31.769Z"
   },
   {
    "duration": 1136,
    "start_time": "2021-11-24T22:37:40.535Z"
   },
   {
    "duration": 29,
    "start_time": "2021-11-24T22:37:41.672Z"
   },
   {
    "duration": 15,
    "start_time": "2021-11-24T22:37:45.826Z"
   },
   {
    "duration": 11,
    "start_time": "2021-11-24T22:37:48.679Z"
   },
   {
    "duration": 267,
    "start_time": "2021-11-24T22:37:50.184Z"
   },
   {
    "duration": 46,
    "start_time": "2021-11-24T22:37:57.134Z"
   },
   {
    "duration": 10,
    "start_time": "2021-11-24T22:38:30.494Z"
   },
   {
    "duration": 6,
    "start_time": "2021-11-24T22:38:37.359Z"
   },
   {
    "duration": 7,
    "start_time": "2021-11-24T22:38:38.288Z"
   },
   {
    "duration": 4,
    "start_time": "2021-11-24T22:38:39.273Z"
   },
   {
    "duration": 11,
    "start_time": "2021-11-24T22:39:23.315Z"
   },
   {
    "duration": 7,
    "start_time": "2021-11-24T22:39:46.214Z"
   },
   {
    "duration": 24,
    "start_time": "2021-11-24T22:40:13.693Z"
   },
   {
    "duration": 7,
    "start_time": "2021-11-24T22:40:58.209Z"
   },
   {
    "duration": 6,
    "start_time": "2021-11-24T22:40:59.766Z"
   },
   {
    "duration": 6,
    "start_time": "2021-11-24T22:41:03.252Z"
   },
   {
    "duration": 5,
    "start_time": "2021-11-24T22:41:04.543Z"
   },
   {
    "duration": 314,
    "start_time": "2021-11-24T22:41:18.142Z"
   },
   {
    "duration": 9,
    "start_time": "2021-11-24T22:41:35.581Z"
   },
   {
    "duration": 12,
    "start_time": "2021-11-24T22:41:39.783Z"
   },
   {
    "duration": 188,
    "start_time": "2021-11-24T22:41:43.822Z"
   },
   {
    "duration": 148,
    "start_time": "2021-11-24T22:41:50.502Z"
   },
   {
    "duration": 13,
    "start_time": "2021-11-24T22:41:57.812Z"
   },
   {
    "duration": 10,
    "start_time": "2021-11-24T22:44:23.410Z"
   },
   {
    "duration": 217,
    "start_time": "2021-11-24T22:45:51.885Z"
   },
   {
    "duration": 200,
    "start_time": "2021-11-24T22:46:05.904Z"
   },
   {
    "duration": 727,
    "start_time": "2021-11-24T22:46:28.461Z"
   },
   {
    "duration": 256,
    "start_time": "2021-11-24T22:47:09.555Z"
   },
   {
    "duration": 270,
    "start_time": "2021-11-24T22:47:33.011Z"
   },
   {
    "duration": 12,
    "start_time": "2021-11-24T22:47:48.626Z"
   },
   {
    "duration": 264,
    "start_time": "2021-11-24T22:53:48.965Z"
   },
   {
    "duration": 267,
    "start_time": "2021-11-24T22:54:10.185Z"
   },
   {
    "duration": 9,
    "start_time": "2021-11-24T22:54:37.706Z"
   },
   {
    "duration": 6,
    "start_time": "2021-11-24T22:54:53.922Z"
   },
   {
    "duration": 5,
    "start_time": "2021-11-24T22:55:02.866Z"
   },
   {
    "duration": 188,
    "start_time": "2021-11-24T22:55:33.490Z"
   },
   {
    "duration": 259,
    "start_time": "2021-11-24T22:55:55.785Z"
   },
   {
    "duration": 16,
    "start_time": "2021-11-24T22:56:05.719Z"
   },
   {
    "duration": 266,
    "start_time": "2021-11-24T22:56:25.362Z"
   },
   {
    "duration": 13,
    "start_time": "2021-11-24T22:56:44.179Z"
   },
   {
    "duration": 312,
    "start_time": "2021-11-24T22:57:14.098Z"
   },
   {
    "duration": 8,
    "start_time": "2021-11-24T22:57:34.204Z"
   },
   {
    "duration": 285,
    "start_time": "2021-11-24T22:57:47.017Z"
   },
   {
    "duration": 110,
    "start_time": "2021-11-24T22:58:12.852Z"
   },
   {
    "duration": 279,
    "start_time": "2021-11-24T22:58:30.477Z"
   },
   {
    "duration": 275,
    "start_time": "2021-11-24T22:58:39.307Z"
   },
   {
    "duration": 125,
    "start_time": "2021-11-24T22:59:11.705Z"
   },
   {
    "duration": 254,
    "start_time": "2021-11-24T22:59:16.577Z"
   },
   {
    "duration": 5,
    "start_time": "2021-11-24T22:59:53.391Z"
   },
   {
    "duration": 8,
    "start_time": "2021-11-24T23:01:26.504Z"
   },
   {
    "duration": 267,
    "start_time": "2021-11-24T23:02:03.663Z"
   },
   {
    "duration": 268,
    "start_time": "2021-11-24T23:03:14.496Z"
   },
   {
    "duration": 5,
    "start_time": "2021-11-24T23:05:08.223Z"
   },
   {
    "duration": 9,
    "start_time": "2021-11-24T23:06:58.966Z"
   },
   {
    "duration": 62,
    "start_time": "2021-11-24T23:07:26.072Z"
   },
   {
    "duration": 64,
    "start_time": "2021-11-24T23:07:45.728Z"
   },
   {
    "duration": 21,
    "start_time": "2021-11-24T23:08:05.990Z"
   },
   {
    "duration": 67,
    "start_time": "2021-11-24T23:08:31.686Z"
   },
   {
    "duration": 20,
    "start_time": "2021-11-24T23:08:52.667Z"
   },
   {
    "duration": 65,
    "start_time": "2021-11-24T23:09:10.329Z"
   },
   {
    "duration": 31,
    "start_time": "2021-11-24T23:09:30.943Z"
   },
   {
    "duration": 108,
    "start_time": "2021-11-24T23:10:01.728Z"
   },
   {
    "duration": 8,
    "start_time": "2021-11-24T23:10:27.937Z"
   },
   {
    "duration": 4,
    "start_time": "2021-11-24T23:10:44.894Z"
   },
   {
    "duration": 5,
    "start_time": "2021-11-24T23:11:05.873Z"
   },
   {
    "duration": 8,
    "start_time": "2021-11-24T23:12:14.982Z"
   },
   {
    "duration": 270,
    "start_time": "2021-11-25T10:05:07.949Z"
   },
   {
    "duration": 1199,
    "start_time": "2021-11-25T10:05:22.373Z"
   },
   {
    "duration": 28,
    "start_time": "2021-11-25T10:05:23.574Z"
   },
   {
    "duration": 1185,
    "start_time": "2021-11-25T10:05:35.944Z"
   },
   {
    "duration": 30,
    "start_time": "2021-11-25T10:05:38.811Z"
   },
   {
    "duration": 14,
    "start_time": "2021-11-25T10:05:42.924Z"
   },
   {
    "duration": 12,
    "start_time": "2021-11-25T10:05:45.412Z"
   },
   {
    "duration": 303,
    "start_time": "2021-11-25T10:05:46.284Z"
   },
   {
    "duration": 46,
    "start_time": "2021-11-25T10:05:50.820Z"
   },
   {
    "duration": 10,
    "start_time": "2021-11-25T10:05:53.571Z"
   },
   {
    "duration": 6,
    "start_time": "2021-11-25T10:05:55.020Z"
   },
   {
    "duration": 6,
    "start_time": "2021-11-25T10:05:55.498Z"
   },
   {
    "duration": 4,
    "start_time": "2021-11-25T10:05:56.022Z"
   },
   {
    "duration": 9,
    "start_time": "2021-11-25T10:05:56.708Z"
   },
   {
    "duration": 6,
    "start_time": "2021-11-25T10:05:57.413Z"
   },
   {
    "duration": 26,
    "start_time": "2021-11-25T10:05:58.667Z"
   },
   {
    "duration": 9,
    "start_time": "2021-11-25T10:06:00.732Z"
   },
   {
    "duration": 7,
    "start_time": "2021-11-25T10:06:01.803Z"
   },
   {
    "duration": 6,
    "start_time": "2021-11-25T10:06:02.356Z"
   },
   {
    "duration": 5,
    "start_time": "2021-11-25T10:06:02.875Z"
   },
   {
    "duration": 309,
    "start_time": "2021-11-25T10:06:04.076Z"
   },
   {
    "duration": 9,
    "start_time": "2021-11-25T10:06:07.595Z"
   },
   {
    "duration": 13,
    "start_time": "2021-11-25T10:06:08.428Z"
   },
   {
    "duration": 185,
    "start_time": "2021-11-25T10:06:09.304Z"
   },
   {
    "duration": 157,
    "start_time": "2021-11-25T10:06:10.083Z"
   },
   {
    "duration": 11,
    "start_time": "2021-11-25T10:06:10.819Z"
   },
   {
    "duration": 209,
    "start_time": "2021-11-25T10:06:11.699Z"
   },
   {
    "duration": 204,
    "start_time": "2021-11-25T10:06:14.032Z"
   },
   {
    "duration": 12,
    "start_time": "2021-11-25T10:06:15.867Z"
   },
   {
    "duration": 334,
    "start_time": "2021-11-25T10:06:16.658Z"
   },
   {
    "duration": 334,
    "start_time": "2021-11-25T10:06:18.043Z"
   },
   {
    "duration": 5,
    "start_time": "2021-11-25T10:06:19.091Z"
   },
   {
    "duration": 9,
    "start_time": "2021-11-25T10:06:29.932Z"
   },
   {
    "duration": 6,
    "start_time": "2021-11-25T10:06:30.883Z"
   },
   {
    "duration": 279,
    "start_time": "2021-11-25T10:06:31.426Z"
   },
   {
    "duration": 16,
    "start_time": "2021-11-25T10:06:33.683Z"
   },
   {
    "duration": 14,
    "start_time": "2021-11-25T10:06:34.139Z"
   },
   {
    "duration": 282,
    "start_time": "2021-11-25T10:06:34.805Z"
   },
   {
    "duration": 9,
    "start_time": "2021-11-25T10:06:37.171Z"
   },
   {
    "duration": 100,
    "start_time": "2021-11-25T10:06:37.750Z"
   },
   {
    "duration": 275,
    "start_time": "2021-11-25T10:06:38.493Z"
   },
   {
    "duration": 106,
    "start_time": "2021-11-25T10:06:39.127Z"
   },
   {
    "duration": 254,
    "start_time": "2021-11-25T10:06:39.999Z"
   },
   {
    "duration": 5,
    "start_time": "2021-11-25T10:06:42.045Z"
   },
   {
    "duration": 9,
    "start_time": "2021-11-25T10:06:47.481Z"
   },
   {
    "duration": 302,
    "start_time": "2021-11-25T10:06:48.189Z"
   },
   {
    "duration": 336,
    "start_time": "2021-11-25T10:06:49.443Z"
   },
   {
    "duration": 6,
    "start_time": "2021-11-25T10:06:51.625Z"
   },
   {
    "duration": 11,
    "start_time": "2021-11-25T10:06:53.193Z"
   },
   {
    "duration": 74,
    "start_time": "2021-11-25T10:06:53.658Z"
   },
   {
    "duration": 61,
    "start_time": "2021-11-25T10:06:54.403Z"
   },
   {
    "duration": 21,
    "start_time": "2021-11-25T10:06:54.962Z"
   },
   {
    "duration": 66,
    "start_time": "2021-11-25T10:06:55.466Z"
   },
   {
    "duration": 21,
    "start_time": "2021-11-25T10:06:56.109Z"
   },
   {
    "duration": 86,
    "start_time": "2021-11-25T10:06:56.725Z"
   },
   {
    "duration": 41,
    "start_time": "2021-11-25T10:06:57.786Z"
   },
   {
    "duration": 165,
    "start_time": "2021-11-25T10:06:58.363Z"
   },
   {
    "duration": 7,
    "start_time": "2021-11-25T10:06:59.446Z"
   },
   {
    "duration": 6,
    "start_time": "2021-11-25T10:07:02.130Z"
   },
   {
    "duration": 6,
    "start_time": "2021-11-25T10:07:03.166Z"
   },
   {
    "duration": 9,
    "start_time": "2021-11-25T10:07:04.908Z"
   },
   {
    "duration": 9,
    "start_time": "2021-11-25T10:07:11.475Z"
   },
   {
    "duration": 13,
    "start_time": "2021-11-25T10:08:16.475Z"
   },
   {
    "duration": 10,
    "start_time": "2021-11-25T10:09:55.712Z"
   },
   {
    "duration": 12,
    "start_time": "2021-11-25T10:10:22.804Z"
   },
   {
    "duration": 7,
    "start_time": "2021-11-25T10:10:39.130Z"
   },
   {
    "duration": 9,
    "start_time": "2021-11-25T10:11:25.090Z"
   },
   {
    "duration": 15,
    "start_time": "2021-11-25T10:13:01.250Z"
   },
   {
    "duration": 8,
    "start_time": "2021-11-25T10:13:17.593Z"
   },
   {
    "duration": 8,
    "start_time": "2021-11-25T10:13:34.602Z"
   },
   {
    "duration": 1084,
    "start_time": "2021-11-25T16:28:08.609Z"
   },
   {
    "duration": 28,
    "start_time": "2021-11-25T16:28:11.868Z"
   },
   {
    "duration": 11,
    "start_time": "2021-11-25T16:28:17.220Z"
   },
   {
    "duration": 11,
    "start_time": "2021-11-25T16:28:21.091Z"
   },
   {
    "duration": 322,
    "start_time": "2021-11-25T16:28:22.785Z"
   },
   {
    "duration": 64,
    "start_time": "2021-11-25T16:33:24.172Z"
   },
   {
    "duration": 10,
    "start_time": "2021-11-25T16:33:58.651Z"
   },
   {
    "duration": 6,
    "start_time": "2021-11-25T16:34:28.039Z"
   },
   {
    "duration": 6,
    "start_time": "2021-11-25T16:34:50.804Z"
   },
   {
    "duration": 4,
    "start_time": "2021-11-25T16:35:18.922Z"
   },
   {
    "duration": 9,
    "start_time": "2021-11-25T16:39:26.218Z"
   },
   {
    "duration": 5,
    "start_time": "2021-11-25T16:39:28.033Z"
   },
   {
    "duration": 24,
    "start_time": "2021-11-25T16:42:51.351Z"
   },
   {
    "duration": 8,
    "start_time": "2021-11-25T16:43:38.828Z"
   },
   {
    "duration": 7,
    "start_time": "2021-11-25T16:43:47.556Z"
   },
   {
    "duration": 6,
    "start_time": "2021-11-25T16:43:50.923Z"
   },
   {
    "duration": 3,
    "start_time": "2021-11-25T16:43:53.015Z"
   },
   {
    "duration": 320,
    "start_time": "2021-11-25T16:46:28.690Z"
   },
   {
    "duration": 260,
    "start_time": "2021-11-25T16:47:08.911Z"
   },
   {
    "duration": 14,
    "start_time": "2021-11-25T16:48:30.283Z"
   },
   {
    "duration": 177,
    "start_time": "2021-11-25T16:57:16.379Z"
   },
   {
    "duration": 165,
    "start_time": "2021-11-25T16:58:20.948Z"
   },
   {
    "duration": 1047,
    "start_time": "2021-11-25T16:58:55.148Z"
   },
   {
    "duration": 29,
    "start_time": "2021-11-25T16:58:56.196Z"
   },
   {
    "duration": 10,
    "start_time": "2021-11-25T16:58:56.227Z"
   },
   {
    "duration": 10,
    "start_time": "2021-11-25T16:58:56.239Z"
   },
   {
    "duration": 296,
    "start_time": "2021-11-25T16:58:56.250Z"
   },
   {
    "duration": 54,
    "start_time": "2021-11-25T16:58:56.548Z"
   },
   {
    "duration": 9,
    "start_time": "2021-11-25T16:58:56.604Z"
   },
   {
    "duration": 7,
    "start_time": "2021-11-25T16:58:56.614Z"
   },
   {
    "duration": 6,
    "start_time": "2021-11-25T16:58:56.623Z"
   },
   {
    "duration": 3,
    "start_time": "2021-11-25T16:58:56.631Z"
   },
   {
    "duration": 11,
    "start_time": "2021-11-25T16:58:56.636Z"
   },
   {
    "duration": 5,
    "start_time": "2021-11-25T16:58:56.648Z"
   },
   {
    "duration": 60,
    "start_time": "2021-11-25T16:58:56.654Z"
   },
   {
    "duration": 8,
    "start_time": "2021-11-25T16:58:56.715Z"
   },
   {
    "duration": 6,
    "start_time": "2021-11-25T16:58:56.724Z"
   },
   {
    "duration": 9,
    "start_time": "2021-11-25T16:58:56.732Z"
   },
   {
    "duration": 61,
    "start_time": "2021-11-25T16:58:56.743Z"
   },
   {
    "duration": 25694,
    "start_time": "2021-11-25T16:58:31.113Z"
   },
   {
    "duration": 25691,
    "start_time": "2021-11-25T16:58:31.117Z"
   },
   {
    "duration": 25690,
    "start_time": "2021-11-25T16:58:31.119Z"
   },
   {
    "duration": 25689,
    "start_time": "2021-11-25T16:58:31.121Z"
   },
   {
    "duration": 25678,
    "start_time": "2021-11-25T16:58:31.133Z"
   },
   {
    "duration": 25668,
    "start_time": "2021-11-25T16:58:31.144Z"
   },
   {
    "duration": 25667,
    "start_time": "2021-11-25T16:58:31.146Z"
   },
   {
    "duration": 25667,
    "start_time": "2021-11-25T16:58:31.148Z"
   },
   {
    "duration": 25666,
    "start_time": "2021-11-25T16:58:31.150Z"
   },
   {
    "duration": 25664,
    "start_time": "2021-11-25T16:58:31.152Z"
   },
   {
    "duration": 25663,
    "start_time": "2021-11-25T16:58:31.154Z"
   },
   {
    "duration": 25662,
    "start_time": "2021-11-25T16:58:31.156Z"
   },
   {
    "duration": 25661,
    "start_time": "2021-11-25T16:58:31.158Z"
   },
   {
    "duration": 25660,
    "start_time": "2021-11-25T16:58:31.160Z"
   },
   {
    "duration": 25659,
    "start_time": "2021-11-25T16:58:31.162Z"
   },
   {
    "duration": 25658,
    "start_time": "2021-11-25T16:58:31.164Z"
   },
   {
    "duration": 25658,
    "start_time": "2021-11-25T16:58:31.165Z"
   },
   {
    "duration": 25657,
    "start_time": "2021-11-25T16:58:31.167Z"
   },
   {
    "duration": 25656,
    "start_time": "2021-11-25T16:58:31.169Z"
   },
   {
    "duration": 25651,
    "start_time": "2021-11-25T16:58:31.175Z"
   },
   {
    "duration": 25649,
    "start_time": "2021-11-25T16:58:31.177Z"
   },
   {
    "duration": 25648,
    "start_time": "2021-11-25T16:58:31.179Z"
   },
   {
    "duration": 25647,
    "start_time": "2021-11-25T16:58:31.181Z"
   },
   {
    "duration": 25639,
    "start_time": "2021-11-25T16:58:31.190Z"
   },
   {
    "duration": 25638,
    "start_time": "2021-11-25T16:58:31.192Z"
   },
   {
    "duration": 25637,
    "start_time": "2021-11-25T16:58:31.194Z"
   },
   {
    "duration": 25636,
    "start_time": "2021-11-25T16:58:31.196Z"
   },
   {
    "duration": 25635,
    "start_time": "2021-11-25T16:58:31.198Z"
   },
   {
    "duration": 25634,
    "start_time": "2021-11-25T16:58:31.200Z"
   },
   {
    "duration": 25633,
    "start_time": "2021-11-25T16:58:31.202Z"
   },
   {
    "duration": 25628,
    "start_time": "2021-11-25T16:58:31.208Z"
   },
   {
    "duration": 25627,
    "start_time": "2021-11-25T16:58:31.210Z"
   },
   {
    "duration": 25626,
    "start_time": "2021-11-25T16:58:31.212Z"
   },
   {
    "duration": 25624,
    "start_time": "2021-11-25T16:58:31.214Z"
   },
   {
    "duration": 25623,
    "start_time": "2021-11-25T16:58:31.216Z"
   },
   {
    "duration": 25622,
    "start_time": "2021-11-25T16:58:31.218Z"
   },
   {
    "duration": 25621,
    "start_time": "2021-11-25T16:58:31.220Z"
   },
   {
    "duration": 25620,
    "start_time": "2021-11-25T16:58:31.222Z"
   },
   {
    "duration": 25618,
    "start_time": "2021-11-25T16:58:31.225Z"
   },
   {
    "duration": 25611,
    "start_time": "2021-11-25T16:58:31.233Z"
   },
   {
    "duration": 25610,
    "start_time": "2021-11-25T16:58:31.235Z"
   },
   {
    "duration": 25609,
    "start_time": "2021-11-25T16:58:31.237Z"
   },
   {
    "duration": 25608,
    "start_time": "2021-11-25T16:58:31.239Z"
   },
   {
    "duration": 25651,
    "start_time": "2021-11-25T16:58:31.240Z"
   },
   {
    "duration": 25648,
    "start_time": "2021-11-25T16:58:31.244Z"
   },
   {
    "duration": 25646,
    "start_time": "2021-11-25T16:58:31.247Z"
   },
   {
    "duration": 25646,
    "start_time": "2021-11-25T16:58:31.248Z"
   },
   {
    "duration": 25644,
    "start_time": "2021-11-25T16:58:31.251Z"
   },
   {
    "duration": 25643,
    "start_time": "2021-11-25T16:58:31.253Z"
   },
   {
    "duration": 25642,
    "start_time": "2021-11-25T16:58:31.255Z"
   },
   {
    "duration": 1103,
    "start_time": "2021-11-25T16:59:09.012Z"
   },
   {
    "duration": 29,
    "start_time": "2021-11-25T16:59:11.903Z"
   },
   {
    "duration": 12,
    "start_time": "2021-11-25T16:59:17.629Z"
   },
   {
    "duration": 13,
    "start_time": "2021-11-25T16:59:20.914Z"
   },
   {
    "duration": 289,
    "start_time": "2021-11-25T16:59:22.222Z"
   },
   {
    "duration": 55,
    "start_time": "2021-11-25T16:59:38.511Z"
   },
   {
    "duration": 10,
    "start_time": "2021-11-25T16:59:54.251Z"
   },
   {
    "duration": 6,
    "start_time": "2021-11-25T16:59:58.128Z"
   },
   {
    "duration": 7,
    "start_time": "2021-11-25T17:00:01.883Z"
   },
   {
    "duration": 5,
    "start_time": "2021-11-25T17:00:02.982Z"
   },
   {
    "duration": 11,
    "start_time": "2021-11-25T17:00:07.981Z"
   },
   {
    "duration": 6,
    "start_time": "2021-11-25T17:00:09.416Z"
   },
   {
    "duration": 25,
    "start_time": "2021-11-25T17:00:13.660Z"
   },
   {
    "duration": 7,
    "start_time": "2021-11-25T17:00:23.896Z"
   },
   {
    "duration": 6,
    "start_time": "2021-11-25T17:00:54.714Z"
   },
   {
    "duration": 5,
    "start_time": "2021-11-25T17:00:56.659Z"
   },
   {
    "duration": 61,
    "start_time": "2021-11-25T17:01:06.576Z"
   },
   {
    "duration": 4,
    "start_time": "2021-11-25T17:01:38.278Z"
   },
   {
    "duration": 328,
    "start_time": "2021-11-25T17:01:43.087Z"
   },
   {
    "duration": 16,
    "start_time": "2021-11-25T17:01:50.158Z"
   },
   {
    "duration": 283,
    "start_time": "2021-11-25T17:02:02.579Z"
   },
   {
    "duration": 174,
    "start_time": "2021-11-25T17:02:40.279Z"
   },
   {
    "duration": 177,
    "start_time": "2021-11-25T17:04:11.239Z"
   },
   {
    "duration": 5,
    "start_time": "2021-11-25T17:07:16.036Z"
   },
   {
    "duration": 1104,
    "start_time": "2021-11-25T17:12:08.093Z"
   },
   {
    "duration": 28,
    "start_time": "2021-11-25T17:12:09.199Z"
   },
   {
    "duration": 12,
    "start_time": "2021-11-25T17:12:09.229Z"
   },
   {
    "duration": 11,
    "start_time": "2021-11-25T17:12:09.243Z"
   },
   {
    "duration": 339,
    "start_time": "2021-11-25T17:12:09.256Z"
   },
   {
    "duration": 60,
    "start_time": "2021-11-25T17:12:09.597Z"
   },
   {
    "duration": 13,
    "start_time": "2021-11-25T17:12:09.659Z"
   },
   {
    "duration": 7,
    "start_time": "2021-11-25T17:12:09.675Z"
   },
   {
    "duration": 6,
    "start_time": "2021-11-25T17:12:09.684Z"
   },
   {
    "duration": 7,
    "start_time": "2021-11-25T17:12:09.691Z"
   },
   {
    "duration": 15,
    "start_time": "2021-11-25T17:12:09.699Z"
   },
   {
    "duration": 5,
    "start_time": "2021-11-25T17:12:09.715Z"
   },
   {
    "duration": 22,
    "start_time": "2021-11-25T17:12:09.722Z"
   },
   {
    "duration": 11,
    "start_time": "2021-11-25T17:12:09.746Z"
   },
   {
    "duration": 12,
    "start_time": "2021-11-25T17:12:09.759Z"
   },
   {
    "duration": 9,
    "start_time": "2021-11-25T17:12:09.773Z"
   },
   {
    "duration": 12,
    "start_time": "2021-11-25T17:12:09.783Z"
   },
   {
    "duration": 352,
    "start_time": "2021-11-25T17:12:09.796Z"
   },
   {
    "duration": 13,
    "start_time": "2021-11-25T17:12:10.150Z"
   },
   {
    "duration": 4,
    "start_time": "2021-11-25T17:12:10.165Z"
   },
   {
    "duration": 27,
    "start_time": "2021-11-25T17:12:10.170Z"
   },
   {
    "duration": 11,
    "start_time": "2021-11-25T17:12:10.199Z"
   },
   {
    "duration": 202,
    "start_time": "2021-11-25T17:12:10.214Z"
   },
   {
    "duration": 1089,
    "start_time": "2021-11-25T17:12:26.013Z"
   },
   {
    "duration": 32,
    "start_time": "2021-11-25T17:12:28.365Z"
   },
   {
    "duration": 12,
    "start_time": "2021-11-25T17:12:34.687Z"
   },
   {
    "duration": 12,
    "start_time": "2021-11-25T17:12:37.581Z"
   },
   {
    "duration": 297,
    "start_time": "2021-11-25T17:12:39.406Z"
   },
   {
    "duration": 54,
    "start_time": "2021-11-25T17:12:45.967Z"
   },
   {
    "duration": 10,
    "start_time": "2021-11-25T17:12:58.678Z"
   },
   {
    "duration": 6,
    "start_time": "2021-11-25T17:13:03.209Z"
   },
   {
    "duration": 6,
    "start_time": "2021-11-25T17:13:04.536Z"
   },
   {
    "duration": 4,
    "start_time": "2021-11-25T17:13:05.568Z"
   },
   {
    "duration": 9,
    "start_time": "2021-11-25T17:13:10.199Z"
   },
   {
    "duration": 6,
    "start_time": "2021-11-25T17:13:14.340Z"
   },
   {
    "duration": 24,
    "start_time": "2021-11-25T17:13:20.213Z"
   },
   {
    "duration": 7,
    "start_time": "2021-11-25T17:13:37.702Z"
   },
   {
    "duration": 6,
    "start_time": "2021-11-25T17:13:44.351Z"
   },
   {
    "duration": 5,
    "start_time": "2021-11-25T17:13:46.142Z"
   },
   {
    "duration": 4,
    "start_time": "2021-11-25T17:13:47.942Z"
   },
   {
    "duration": 314,
    "start_time": "2021-11-25T17:13:52.710Z"
   },
   {
    "duration": 15,
    "start_time": "2021-11-25T17:13:59.213Z"
   },
   {
    "duration": 4,
    "start_time": "2021-11-25T17:14:10.757Z"
   },
   {
    "duration": 273,
    "start_time": "2021-11-25T17:37:29.618Z"
   },
   {
    "duration": 10,
    "start_time": "2021-11-25T17:38:31.311Z"
   },
   {
    "duration": 1080,
    "start_time": "2021-11-25T17:40:20.426Z"
   },
   {
    "duration": 28,
    "start_time": "2021-11-25T17:40:21.508Z"
   },
   {
    "duration": 10,
    "start_time": "2021-11-25T17:40:21.539Z"
   },
   {
    "duration": 9,
    "start_time": "2021-11-25T17:40:21.551Z"
   },
   {
    "duration": 336,
    "start_time": "2021-11-25T17:40:21.562Z"
   },
   {
    "duration": 44,
    "start_time": "2021-11-25T17:40:21.899Z"
   },
   {
    "duration": 9,
    "start_time": "2021-11-25T17:40:21.945Z"
   },
   {
    "duration": 8,
    "start_time": "2021-11-25T17:40:21.956Z"
   },
   {
    "duration": 4,
    "start_time": "2021-11-25T17:40:21.967Z"
   },
   {
    "duration": 9,
    "start_time": "2021-11-25T17:40:21.973Z"
   },
   {
    "duration": 11,
    "start_time": "2021-11-25T17:40:21.984Z"
   },
   {
    "duration": 24,
    "start_time": "2021-11-25T17:40:21.996Z"
   },
   {
    "duration": 7,
    "start_time": "2021-11-25T17:40:22.021Z"
   },
   {
    "duration": 7,
    "start_time": "2021-11-25T17:40:22.030Z"
   },
   {
    "duration": 5,
    "start_time": "2021-11-25T17:40:22.038Z"
   },
   {
    "duration": 360,
    "start_time": "2021-11-25T17:40:22.044Z"
   },
   {
    "duration": 13,
    "start_time": "2021-11-25T17:40:22.406Z"
   },
   {
    "duration": 5,
    "start_time": "2021-11-25T17:40:22.420Z"
   },
   {
    "duration": 26,
    "start_time": "2021-11-25T17:40:22.426Z"
   },
   {
    "duration": 17,
    "start_time": "2021-11-25T17:40:22.453Z"
   },
   {
    "duration": 27,
    "start_time": "2021-11-25T17:40:22.472Z"
   },
   {
    "duration": 196,
    "start_time": "2021-11-25T17:40:22.501Z"
   },
   {
    "duration": 1087,
    "start_time": "2021-11-25T17:40:39.607Z"
   },
   {
    "duration": 29,
    "start_time": "2021-11-25T17:40:42.680Z"
   },
   {
    "duration": 12,
    "start_time": "2021-11-25T17:40:48.872Z"
   },
   {
    "duration": 11,
    "start_time": "2021-11-25T17:40:52.801Z"
   },
   {
    "duration": 266,
    "start_time": "2021-11-25T17:40:54.541Z"
   },
   {
    "duration": 45,
    "start_time": "2021-11-25T17:41:05.399Z"
   },
   {
    "duration": 11,
    "start_time": "2021-11-25T17:41:15.304Z"
   },
   {
    "duration": 6,
    "start_time": "2021-11-25T17:41:19.227Z"
   },
   {
    "duration": 5,
    "start_time": "2021-11-25T17:41:20.662Z"
   },
   {
    "duration": 10,
    "start_time": "2021-11-25T17:41:25.436Z"
   },
   {
    "duration": 6,
    "start_time": "2021-11-25T17:41:29.592Z"
   },
   {
    "duration": 23,
    "start_time": "2021-11-25T17:41:33.102Z"
   },
   {
    "duration": 8,
    "start_time": "2021-11-25T17:41:39.812Z"
   },
   {
    "duration": 6,
    "start_time": "2021-11-25T17:41:43.494Z"
   },
   {
    "duration": 4,
    "start_time": "2021-11-25T17:41:47.479Z"
   },
   {
    "duration": 356,
    "start_time": "2021-11-25T17:41:50.092Z"
   },
   {
    "duration": 14,
    "start_time": "2021-11-25T17:42:13.231Z"
   },
   {
    "duration": 5,
    "start_time": "2021-11-25T17:42:37.184Z"
   },
   {
    "duration": 10,
    "start_time": "2021-11-25T17:42:47.479Z"
   },
   {
    "duration": 10,
    "start_time": "2021-11-25T17:45:57.470Z"
   },
   {
    "duration": 71,
    "start_time": "2021-11-25T19:09:33.260Z"
   },
   {
    "duration": 6,
    "start_time": "2021-11-25T19:09:52.324Z"
   },
   {
    "duration": 1062,
    "start_time": "2021-11-25T19:10:15.166Z"
   },
   {
    "duration": 31,
    "start_time": "2021-11-25T19:10:28.134Z"
   },
   {
    "duration": 12,
    "start_time": "2021-11-25T19:10:33.034Z"
   },
   {
    "duration": 12,
    "start_time": "2021-11-25T19:10:35.228Z"
   },
   {
    "duration": 296,
    "start_time": "2021-11-25T19:10:36.408Z"
   },
   {
    "duration": 55,
    "start_time": "2021-11-25T19:10:40.542Z"
   },
   {
    "duration": 10,
    "start_time": "2021-11-25T19:10:43.489Z"
   },
   {
    "duration": 7,
    "start_time": "2021-11-25T19:10:46.247Z"
   },
   {
    "duration": 5,
    "start_time": "2021-11-25T19:10:47.554Z"
   },
   {
    "duration": 10,
    "start_time": "2021-11-25T19:10:49.692Z"
   },
   {
    "duration": 6,
    "start_time": "2021-11-25T19:11:03.642Z"
   },
   {
    "duration": 24,
    "start_time": "2021-11-25T19:11:09.047Z"
   },
   {
    "duration": 8,
    "start_time": "2021-11-25T19:11:13.023Z"
   },
   {
    "duration": 7,
    "start_time": "2021-11-25T19:11:17.292Z"
   },
   {
    "duration": 4,
    "start_time": "2021-11-25T19:11:18.536Z"
   },
   {
    "duration": 379,
    "start_time": "2021-11-25T19:11:21.405Z"
   },
   {
    "duration": 15,
    "start_time": "2021-11-25T19:11:28.060Z"
   },
   {
    "duration": 58,
    "start_time": "2021-11-25T19:12:38.608Z"
   },
   {
    "duration": 261,
    "start_time": "2021-11-25T19:14:19.391Z"
   },
   {
    "duration": 169,
    "start_time": "2021-11-25T19:16:15.206Z"
   },
   {
    "duration": 6,
    "start_time": "2021-11-25T19:16:30.246Z"
   },
   {
    "duration": 5,
    "start_time": "2021-11-25T19:16:52.169Z"
   },
   {
    "duration": 5,
    "start_time": "2021-11-25T19:17:53.528Z"
   },
   {
    "duration": 8,
    "start_time": "2021-11-25T20:01:22.917Z"
   },
   {
    "duration": 5,
    "start_time": "2021-11-25T20:02:54.812Z"
   },
   {
    "duration": 1168,
    "start_time": "2021-11-25T20:28:28.144Z"
   },
   {
    "duration": 28,
    "start_time": "2021-11-25T20:28:29.314Z"
   },
   {
    "duration": 24,
    "start_time": "2021-11-25T20:28:29.344Z"
   },
   {
    "duration": 18,
    "start_time": "2021-11-25T20:28:29.370Z"
   },
   {
    "duration": 321,
    "start_time": "2021-11-25T20:28:29.390Z"
   },
   {
    "duration": 1128,
    "start_time": "2021-11-25T20:28:44.990Z"
   },
   {
    "duration": 31,
    "start_time": "2021-11-25T20:28:48.422Z"
   },
   {
    "duration": 12,
    "start_time": "2021-11-25T20:28:54.411Z"
   },
   {
    "duration": 12,
    "start_time": "2021-11-25T20:28:59.337Z"
   },
   {
    "duration": 305,
    "start_time": "2021-11-25T20:29:00.663Z"
   },
   {
    "duration": 45,
    "start_time": "2021-11-25T20:29:15.170Z"
   },
   {
    "duration": 11,
    "start_time": "2021-11-25T20:29:19.741Z"
   },
   {
    "duration": 7,
    "start_time": "2021-11-25T20:29:26.343Z"
   },
   {
    "duration": 8,
    "start_time": "2021-11-25T20:29:27.606Z"
   },
   {
    "duration": 5,
    "start_time": "2021-11-25T20:29:30.070Z"
   },
   {
    "duration": 12,
    "start_time": "2021-11-25T20:29:33.332Z"
   },
   {
    "duration": 6,
    "start_time": "2021-11-25T20:29:37.321Z"
   },
   {
    "duration": 34,
    "start_time": "2021-11-25T20:29:39.710Z"
   },
   {
    "duration": 9,
    "start_time": "2021-11-25T20:29:56.422Z"
   },
   {
    "duration": 6,
    "start_time": "2021-11-25T20:30:00.976Z"
   },
   {
    "duration": 5,
    "start_time": "2021-11-25T20:30:02.294Z"
   },
   {
    "duration": 4,
    "start_time": "2021-11-25T20:30:04.622Z"
   },
   {
    "duration": 339,
    "start_time": "2021-11-25T20:30:12.143Z"
   },
   {
    "duration": 8,
    "start_time": "2021-11-25T20:30:35.925Z"
   },
   {
    "duration": 13,
    "start_time": "2021-11-25T20:30:44.501Z"
   },
   {
    "duration": 194,
    "start_time": "2021-11-25T20:30:48.078Z"
   },
   {
    "duration": 167,
    "start_time": "2021-11-25T20:30:56.889Z"
   },
   {
    "duration": 11,
    "start_time": "2021-11-25T20:31:03.619Z"
   },
   {
    "duration": 221,
    "start_time": "2021-11-25T20:31:09.791Z"
   },
   {
    "duration": 8,
    "start_time": "2021-11-25T20:32:24.214Z"
   },
   {
    "duration": 208,
    "start_time": "2021-11-25T20:32:45.236Z"
   },
   {
    "duration": 242,
    "start_time": "2021-11-25T20:32:53.180Z"
   },
   {
    "duration": 11,
    "start_time": "2021-11-25T20:32:58.469Z"
   },
   {
    "duration": 364,
    "start_time": "2021-11-25T20:33:00.878Z"
   },
   {
    "duration": 9,
    "start_time": "2021-11-25T20:33:06.837Z"
   },
   {
    "duration": 5,
    "start_time": "2021-11-25T20:33:10.406Z"
   },
   {
    "duration": 200,
    "start_time": "2021-11-25T20:33:12.064Z"
   },
   {
    "duration": 16,
    "start_time": "2021-11-25T20:33:16.053Z"
   },
   {
    "duration": 15,
    "start_time": "2021-11-25T20:33:22.884Z"
   },
   {
    "duration": 348,
    "start_time": "2021-11-25T20:33:28.293Z"
   },
   {
    "duration": 10,
    "start_time": "2021-11-25T20:33:33.453Z"
   },
   {
    "duration": 102,
    "start_time": "2021-11-25T20:33:34.373Z"
   },
   {
    "duration": 301,
    "start_time": "2021-11-25T20:33:35.564Z"
   },
   {
    "duration": 113,
    "start_time": "2021-11-25T20:33:39.507Z"
   },
   {
    "duration": 327,
    "start_time": "2021-11-25T20:33:41.378Z"
   },
   {
    "duration": 5,
    "start_time": "2021-11-25T20:33:46.820Z"
   },
   {
    "duration": 8,
    "start_time": "2021-11-25T20:33:49.508Z"
   },
   {
    "duration": 303,
    "start_time": "2021-11-25T20:33:50.602Z"
   },
   {
    "duration": 310,
    "start_time": "2021-11-25T20:33:54.908Z"
   },
   {
    "duration": 5,
    "start_time": "2021-11-25T20:33:59.076Z"
   },
   {
    "duration": 10,
    "start_time": "2021-11-25T20:35:49.970Z"
   },
   {
    "duration": 62,
    "start_time": "2021-11-25T20:35:51.268Z"
   },
   {
    "duration": 64,
    "start_time": "2021-11-25T20:35:52.446Z"
   },
   {
    "duration": 21,
    "start_time": "2021-11-25T20:35:53.601Z"
   },
   {
    "duration": 66,
    "start_time": "2021-11-25T20:35:54.666Z"
   },
   {
    "duration": 20,
    "start_time": "2021-11-25T20:35:55.652Z"
   },
   {
    "duration": 65,
    "start_time": "2021-11-25T20:35:56.596Z"
   },
   {
    "duration": 32,
    "start_time": "2021-11-25T20:35:57.485Z"
   },
   {
    "duration": 102,
    "start_time": "2021-11-25T20:35:58.413Z"
   },
   {
    "duration": 7,
    "start_time": "2021-11-25T20:36:02.378Z"
   },
   {
    "duration": 5,
    "start_time": "2021-11-25T20:36:05.834Z"
   },
   {
    "duration": 5,
    "start_time": "2021-11-25T20:36:06.820Z"
   },
   {
    "duration": 8,
    "start_time": "2021-11-25T20:36:11.722Z"
   },
   {
    "duration": 8,
    "start_time": "2021-11-25T20:36:15.955Z"
   },
   {
    "duration": 10,
    "start_time": "2021-11-25T20:36:17.773Z"
   },
   {
    "duration": 10,
    "start_time": "2021-11-25T20:36:20.911Z"
   },
   {
    "duration": 11,
    "start_time": "2021-11-25T20:36:21.893Z"
   },
   {
    "duration": 5,
    "start_time": "2021-11-25T20:36:22.783Z"
   },
   {
    "duration": 7,
    "start_time": "2021-11-25T20:36:24.772Z"
   },
   {
    "duration": 14,
    "start_time": "2021-11-25T20:36:27.733Z"
   },
   {
    "duration": 6,
    "start_time": "2021-11-25T20:36:29.596Z"
   },
   {
    "duration": 7,
    "start_time": "2021-11-25T20:36:32.114Z"
   },
   {
    "duration": 1055,
    "start_time": "2021-11-25T20:37:09.048Z"
   },
   {
    "duration": 28,
    "start_time": "2021-11-25T20:37:10.105Z"
   },
   {
    "duration": 10,
    "start_time": "2021-11-25T20:37:10.135Z"
   },
   {
    "duration": 10,
    "start_time": "2021-11-25T20:37:10.147Z"
   },
   {
    "duration": 327,
    "start_time": "2021-11-25T20:37:10.159Z"
   },
   {
    "duration": 44,
    "start_time": "2021-11-25T20:37:10.491Z"
   },
   {
    "duration": 20,
    "start_time": "2021-11-25T20:37:10.536Z"
   },
   {
    "duration": 19,
    "start_time": "2021-11-25T20:37:10.558Z"
   },
   {
    "duration": 12,
    "start_time": "2021-11-25T20:37:10.579Z"
   },
   {
    "duration": 26,
    "start_time": "2021-11-25T20:37:10.593Z"
   },
   {
    "duration": 27,
    "start_time": "2021-11-25T20:37:10.620Z"
   },
   {
    "duration": 10,
    "start_time": "2021-11-25T20:37:10.649Z"
   },
   {
    "duration": 36,
    "start_time": "2021-11-25T20:37:10.660Z"
   },
   {
    "duration": 19,
    "start_time": "2021-11-25T20:37:10.698Z"
   },
   {
    "duration": 1077,
    "start_time": "2021-11-25T20:37:21.928Z"
   },
   {
    "duration": 32,
    "start_time": "2021-11-25T20:38:00.005Z"
   },
   {
    "duration": 12,
    "start_time": "2021-11-25T20:38:07.031Z"
   },
   {
    "duration": 11,
    "start_time": "2021-11-25T20:38:09.623Z"
   },
   {
    "duration": 271,
    "start_time": "2021-11-25T20:38:12.352Z"
   },
   {
    "duration": 46,
    "start_time": "2021-11-25T20:38:27.728Z"
   },
   {
    "duration": 11,
    "start_time": "2021-11-25T20:38:32.014Z"
   },
   {
    "duration": 7,
    "start_time": "2021-11-25T20:38:32.711Z"
   },
   {
    "duration": 7,
    "start_time": "2021-11-25T20:38:33.728Z"
   },
   {
    "duration": 5,
    "start_time": "2021-11-25T20:38:34.376Z"
   },
   {
    "duration": 11,
    "start_time": "2021-11-25T20:38:35.527Z"
   },
   {
    "duration": 6,
    "start_time": "2021-11-25T20:38:36.217Z"
   },
   {
    "duration": 23,
    "start_time": "2021-11-25T20:38:46.365Z"
   },
   {
    "duration": 8,
    "start_time": "2021-11-25T20:38:52.728Z"
   },
   {
    "duration": 6,
    "start_time": "2021-11-25T20:39:39.532Z"
   },
   {
    "duration": 6,
    "start_time": "2021-11-25T20:39:44.383Z"
   },
   {
    "duration": 5,
    "start_time": "2021-11-25T20:39:45.512Z"
   },
   {
    "duration": 329,
    "start_time": "2021-11-25T20:39:48.344Z"
   },
   {
    "duration": 9,
    "start_time": "2021-11-25T20:39:56.700Z"
   },
   {
    "duration": 16,
    "start_time": "2021-11-25T20:39:57.397Z"
   },
   {
    "duration": 179,
    "start_time": "2021-11-25T20:39:58.558Z"
   },
   {
    "duration": 148,
    "start_time": "2021-11-25T20:39:59.455Z"
   },
   {
    "duration": 10,
    "start_time": "2021-11-25T20:40:00.948Z"
   },
   {
    "duration": 7,
    "start_time": "2021-11-25T20:40:01.708Z"
   },
   {
    "duration": 214,
    "start_time": "2021-11-25T20:40:04.080Z"
   },
   {
    "duration": 1092,
    "start_time": "2021-11-25T20:49:34.277Z"
   },
   {
    "duration": 30,
    "start_time": "2021-11-25T20:49:36.722Z"
   },
   {
    "duration": 12,
    "start_time": "2021-11-25T20:49:40.877Z"
   },
   {
    "duration": 11,
    "start_time": "2021-11-25T20:49:43.471Z"
   },
   {
    "duration": 273,
    "start_time": "2021-11-25T20:49:44.433Z"
   },
   {
    "duration": 45,
    "start_time": "2021-11-25T20:49:49.075Z"
   },
   {
    "duration": 9,
    "start_time": "2021-11-25T20:49:51.622Z"
   },
   {
    "duration": 6,
    "start_time": "2021-11-25T20:49:52.536Z"
   },
   {
    "duration": 6,
    "start_time": "2021-11-25T20:49:53.527Z"
   },
   {
    "duration": 4,
    "start_time": "2021-11-25T20:49:54.231Z"
   },
   {
    "duration": 10,
    "start_time": "2021-11-25T20:49:54.838Z"
   },
   {
    "duration": 6,
    "start_time": "2021-11-25T20:49:55.519Z"
   },
   {
    "duration": 23,
    "start_time": "2021-11-25T20:49:58.751Z"
   },
   {
    "duration": 7,
    "start_time": "2021-11-25T20:50:01.047Z"
   },
   {
    "duration": 6,
    "start_time": "2021-11-25T20:50:01.810Z"
   },
   {
    "duration": 5,
    "start_time": "2021-11-25T20:50:03.528Z"
   },
   {
    "duration": 4,
    "start_time": "2021-11-25T20:50:04.098Z"
   },
   {
    "duration": 325,
    "start_time": "2021-11-25T20:50:05.598Z"
   },
   {
    "duration": 9,
    "start_time": "2021-11-25T20:50:08.416Z"
   },
   {
    "duration": 12,
    "start_time": "2021-11-25T20:50:09.096Z"
   },
   {
    "duration": 183,
    "start_time": "2021-11-25T20:50:09.849Z"
   },
   {
    "duration": 151,
    "start_time": "2021-11-25T20:50:10.841Z"
   },
   {
    "duration": 11,
    "start_time": "2021-11-25T20:50:13.194Z"
   },
   {
    "duration": 8,
    "start_time": "2021-11-25T20:50:14.017Z"
   },
   {
    "duration": 207,
    "start_time": "2021-11-25T20:50:15.257Z"
   },
   {
    "duration": 207,
    "start_time": "2021-11-25T20:50:21.460Z"
   },
   {
    "duration": 14,
    "start_time": "2021-11-25T20:50:23.510Z"
   },
   {
    "duration": 280,
    "start_time": "2021-11-25T20:50:24.240Z"
   },
   {
    "duration": 9,
    "start_time": "2021-11-25T20:50:26.624Z"
   },
   {
    "duration": 6,
    "start_time": "2021-11-25T20:50:27.230Z"
   },
   {
    "duration": 265,
    "start_time": "2021-11-25T20:50:28.223Z"
   },
   {
    "duration": 15,
    "start_time": "2021-11-25T20:50:32.166Z"
   },
   {
    "duration": 14,
    "start_time": "2021-11-25T20:50:33.311Z"
   },
   {
    "duration": 301,
    "start_time": "2021-11-25T20:50:34.023Z"
   },
   {
    "duration": 9,
    "start_time": "2021-11-25T20:50:36.341Z"
   },
   {
    "duration": 126,
    "start_time": "2021-11-25T20:50:36.975Z"
   },
   {
    "duration": 307,
    "start_time": "2021-11-25T20:50:37.898Z"
   },
   {
    "duration": 96,
    "start_time": "2021-11-25T20:50:40.512Z"
   },
   {
    "duration": 278,
    "start_time": "2021-11-25T20:50:42.718Z"
   },
   {
    "duration": 5,
    "start_time": "2021-11-25T20:50:45.198Z"
   },
   {
    "duration": 8,
    "start_time": "2021-11-25T20:50:47.055Z"
   },
   {
    "duration": 294,
    "start_time": "2021-11-25T20:50:48.017Z"
   },
   {
    "duration": 334,
    "start_time": "2021-11-25T20:50:49.816Z"
   },
   {
    "duration": 5,
    "start_time": "2021-11-25T20:50:52.261Z"
   },
   {
    "duration": 10,
    "start_time": "2021-11-25T20:50:54.319Z"
   },
   {
    "duration": 59,
    "start_time": "2021-11-25T20:50:55.085Z"
   },
   {
    "duration": 60,
    "start_time": "2021-11-25T20:50:55.775Z"
   },
   {
    "duration": 19,
    "start_time": "2021-11-25T20:50:56.574Z"
   },
   {
    "duration": 92,
    "start_time": "2021-11-25T20:50:57.191Z"
   },
   {
    "duration": 19,
    "start_time": "2021-11-25T20:50:58.012Z"
   },
   {
    "duration": 65,
    "start_time": "2021-11-25T20:50:58.800Z"
   },
   {
    "duration": 30,
    "start_time": "2021-11-25T20:50:59.462Z"
   },
   {
    "duration": 108,
    "start_time": "2021-11-25T20:51:00.112Z"
   },
   {
    "duration": 7,
    "start_time": "2021-11-25T20:51:01.275Z"
   },
   {
    "duration": 5,
    "start_time": "2021-11-25T20:51:02.591Z"
   },
   {
    "duration": 6,
    "start_time": "2021-11-25T20:51:03.333Z"
   },
   {
    "duration": 9,
    "start_time": "2021-11-25T20:51:05.117Z"
   },
   {
    "duration": 9,
    "start_time": "2021-11-25T20:51:07.496Z"
   },
   {
    "duration": 10,
    "start_time": "2021-11-25T20:51:08.950Z"
   },
   {
    "duration": 11,
    "start_time": "2021-11-25T20:51:11.725Z"
   },
   {
    "duration": 11,
    "start_time": "2021-11-25T20:51:12.983Z"
   },
   {
    "duration": 6,
    "start_time": "2021-11-25T20:51:14.040Z"
   },
   {
    "duration": 11,
    "start_time": "2021-11-25T20:51:15.712Z"
   },
   {
    "duration": 19,
    "start_time": "2021-11-25T20:51:18.522Z"
   },
   {
    "duration": 7,
    "start_time": "2021-11-25T20:51:19.196Z"
   },
   {
    "duration": 8,
    "start_time": "2021-11-25T20:51:25.100Z"
   },
   {
    "duration": 1557,
    "start_time": "2021-11-26T02:59:48.002Z"
   },
   {
    "duration": 35,
    "start_time": "2021-11-26T02:59:49.561Z"
   },
   {
    "duration": 16,
    "start_time": "2021-11-26T02:59:49.599Z"
   },
   {
    "duration": 17,
    "start_time": "2021-11-26T02:59:49.618Z"
   },
   {
    "duration": 460,
    "start_time": "2021-11-26T02:59:49.637Z"
   },
   {
    "duration": 55,
    "start_time": "2021-11-26T02:59:50.099Z"
   },
   {
    "duration": 16,
    "start_time": "2021-11-26T02:59:50.156Z"
   },
   {
    "duration": 9,
    "start_time": "2021-11-26T02:59:50.176Z"
   },
   {
    "duration": 11,
    "start_time": "2021-11-26T02:59:50.188Z"
   },
   {
    "duration": 5,
    "start_time": "2021-11-26T02:59:50.202Z"
   },
   {
    "duration": 15,
    "start_time": "2021-11-26T02:59:50.209Z"
   },
   {
    "duration": 8,
    "start_time": "2021-11-26T02:59:50.267Z"
   },
   {
    "duration": 28,
    "start_time": "2021-11-26T02:59:50.277Z"
   },
   {
    "duration": 12,
    "start_time": "2021-11-26T02:59:50.308Z"
   },
   {
    "duration": 10,
    "start_time": "2021-11-26T02:59:50.322Z"
   },
   {
    "duration": 44,
    "start_time": "2021-11-26T02:59:50.334Z"
   },
   {
    "duration": 7,
    "start_time": "2021-11-26T02:59:50.380Z"
   },
   {
    "duration": 565,
    "start_time": "2021-11-26T02:59:50.389Z"
   },
   {
    "duration": 12,
    "start_time": "2021-11-26T02:59:50.968Z"
   },
   {
    "duration": 22,
    "start_time": "2021-11-26T02:59:50.982Z"
   },
   {
    "duration": 357,
    "start_time": "2021-11-26T02:59:51.006Z"
   },
   {
    "duration": 289,
    "start_time": "2021-11-26T02:59:51.367Z"
   },
   {
    "duration": 17,
    "start_time": "2021-11-26T02:59:51.670Z"
   },
   {
    "duration": 24,
    "start_time": "2021-11-26T02:59:51.691Z"
   },
   {
    "duration": 359,
    "start_time": "2021-11-26T02:59:51.719Z"
   },
   {
    "duration": 360,
    "start_time": "2021-11-26T02:59:52.081Z"
   },
   {
    "duration": 26,
    "start_time": "2021-11-26T02:59:52.444Z"
   },
   {
    "duration": 428,
    "start_time": "2021-11-26T02:59:52.473Z"
   },
   {
    "duration": 13,
    "start_time": "2021-11-26T02:59:52.904Z"
   },
   {
    "duration": 12,
    "start_time": "2021-11-26T02:59:52.920Z"
   },
   {
    "duration": 440,
    "start_time": "2021-11-26T02:59:52.934Z"
   },
   {
    "duration": 23,
    "start_time": "2021-11-26T02:59:53.376Z"
   },
   {
    "duration": 19,
    "start_time": "2021-11-26T02:59:53.402Z"
   },
   {
    "duration": 485,
    "start_time": "2021-11-26T02:59:53.423Z"
   },
   {
    "duration": 12,
    "start_time": "2021-11-26T02:59:53.910Z"
   },
   {
    "duration": 195,
    "start_time": "2021-11-26T02:59:53.925Z"
   },
   {
    "duration": 405,
    "start_time": "2021-11-26T02:59:54.122Z"
   },
   {
    "duration": 249,
    "start_time": "2021-11-26T02:59:54.530Z"
   },
   {
    "duration": 385,
    "start_time": "2021-11-26T02:59:54.782Z"
   },
   {
    "duration": 7,
    "start_time": "2021-11-26T02:59:55.169Z"
   },
   {
    "duration": 14,
    "start_time": "2021-11-26T02:59:55.178Z"
   },
   {
    "duration": 402,
    "start_time": "2021-11-26T02:59:55.195Z"
   },
   {
    "duration": 414,
    "start_time": "2021-11-26T02:59:55.599Z"
   },
   {
    "duration": 6,
    "start_time": "2021-11-26T02:59:56.016Z"
   },
   {
    "duration": 20,
    "start_time": "2021-11-26T02:59:56.024Z"
   },
   {
    "duration": 128,
    "start_time": "2021-11-26T02:59:56.047Z"
   },
   {
    "duration": 114,
    "start_time": "2021-11-26T02:59:56.177Z"
   },
   {
    "duration": 30,
    "start_time": "2021-11-26T02:59:56.293Z"
   },
   {
    "duration": 122,
    "start_time": "2021-11-26T02:59:56.326Z"
   },
   {
    "duration": 41,
    "start_time": "2021-11-26T02:59:56.450Z"
   },
   {
    "duration": 141,
    "start_time": "2021-11-26T02:59:56.494Z"
   },
   {
    "duration": 64,
    "start_time": "2021-11-26T02:59:56.638Z"
   },
   {
    "duration": 271,
    "start_time": "2021-11-26T02:59:56.704Z"
   },
   {
    "duration": 9,
    "start_time": "2021-11-26T02:59:56.977Z"
   },
   {
    "duration": 11,
    "start_time": "2021-11-26T02:59:56.989Z"
   },
   {
    "duration": 9,
    "start_time": "2021-11-26T02:59:57.002Z"
   },
   {
    "duration": 16,
    "start_time": "2021-11-26T02:59:57.013Z"
   },
   {
    "duration": 44,
    "start_time": "2021-11-26T02:59:57.031Z"
   },
   {
    "duration": 16,
    "start_time": "2021-11-26T02:59:57.078Z"
   },
   {
    "duration": 15,
    "start_time": "2021-11-26T02:59:57.096Z"
   },
   {
    "duration": 56,
    "start_time": "2021-11-26T02:59:57.113Z"
   },
   {
    "duration": 7,
    "start_time": "2021-11-26T02:59:57.171Z"
   },
   {
    "duration": 26,
    "start_time": "2021-11-26T02:59:57.180Z"
   },
   {
    "duration": 46,
    "start_time": "2021-11-26T02:59:57.208Z"
   },
   {
    "duration": 22,
    "start_time": "2021-11-26T02:59:57.256Z"
   },
   {
    "duration": 22,
    "start_time": "2021-11-26T02:59:57.281Z"
   },
   {
    "duration": 7,
    "start_time": "2021-11-26T03:06:24.217Z"
   },
   {
    "duration": 7,
    "start_time": "2021-11-26T03:06:27.233Z"
   },
   {
    "duration": 8,
    "start_time": "2021-11-26T03:06:30.168Z"
   },
   {
    "duration": 14,
    "start_time": "2021-11-26T03:07:59.119Z"
   },
   {
    "duration": 17,
    "start_time": "2021-11-26T03:10:18.484Z"
   },
   {
    "duration": 5,
    "start_time": "2021-11-26T03:10:27.819Z"
   },
   {
    "duration": 1614,
    "start_time": "2021-11-26T03:10:55.876Z"
   },
   {
    "duration": 36,
    "start_time": "2021-11-26T03:10:57.492Z"
   },
   {
    "duration": 17,
    "start_time": "2021-11-26T03:10:57.531Z"
   },
   {
    "duration": 16,
    "start_time": "2021-11-26T03:10:57.567Z"
   },
   {
    "duration": 408,
    "start_time": "2021-11-26T03:10:57.586Z"
   },
   {
    "duration": 51,
    "start_time": "2021-11-26T03:10:57.997Z"
   },
   {
    "duration": 14,
    "start_time": "2021-11-26T03:10:58.051Z"
   },
   {
    "duration": 8,
    "start_time": "2021-11-26T03:10:58.070Z"
   },
   {
    "duration": 22,
    "start_time": "2021-11-26T03:10:58.081Z"
   },
   {
    "duration": 8,
    "start_time": "2021-11-26T03:10:58.105Z"
   },
   {
    "duration": 18,
    "start_time": "2021-11-26T03:10:58.115Z"
   },
   {
    "duration": 36,
    "start_time": "2021-11-26T03:10:58.135Z"
   },
   {
    "duration": 28,
    "start_time": "2021-11-26T03:10:58.173Z"
   },
   {
    "duration": 17,
    "start_time": "2021-11-26T03:10:58.204Z"
   },
   {
    "duration": 17,
    "start_time": "2021-11-26T03:10:58.224Z"
   },
   {
    "duration": 26,
    "start_time": "2021-11-26T03:10:58.243Z"
   },
   {
    "duration": 10,
    "start_time": "2021-11-26T03:10:58.272Z"
   },
   {
    "duration": 569,
    "start_time": "2021-11-26T03:10:58.284Z"
   },
   {
    "duration": 21,
    "start_time": "2021-11-26T03:10:58.856Z"
   },
   {
    "duration": 21,
    "start_time": "2021-11-26T03:10:58.879Z"
   },
   {
    "duration": 344,
    "start_time": "2021-11-26T03:10:58.903Z"
   },
   {
    "duration": 284,
    "start_time": "2021-11-26T03:10:59.250Z"
   },
   {
    "duration": 32,
    "start_time": "2021-11-26T03:10:59.540Z"
   },
   {
    "duration": 13,
    "start_time": "2021-11-26T03:10:59.576Z"
   },
   {
    "duration": 342,
    "start_time": "2021-11-26T03:10:59.591Z"
   },
   {
    "duration": 356,
    "start_time": "2021-11-26T03:10:59.936Z"
   },
   {
    "duration": 17,
    "start_time": "2021-11-26T03:11:00.295Z"
   },
   {
    "duration": 464,
    "start_time": "2021-11-26T03:11:00.314Z"
   },
   {
    "duration": 12,
    "start_time": "2021-11-26T03:11:00.780Z"
   },
   {
    "duration": 27,
    "start_time": "2021-11-26T03:11:00.795Z"
   },
   {
    "duration": 445,
    "start_time": "2021-11-26T03:11:00.824Z"
   },
   {
    "duration": 24,
    "start_time": "2021-11-26T03:11:01.272Z"
   },
   {
    "duration": 26,
    "start_time": "2021-11-26T03:11:01.298Z"
   },
   {
    "duration": 489,
    "start_time": "2021-11-26T03:11:01.327Z"
   },
   {
    "duration": 12,
    "start_time": "2021-11-26T03:11:01.819Z"
   },
   {
    "duration": 217,
    "start_time": "2021-11-26T03:11:01.833Z"
   },
   {
    "duration": 425,
    "start_time": "2021-11-26T03:11:02.053Z"
   },
   {
    "duration": 236,
    "start_time": "2021-11-26T03:11:02.480Z"
   },
   {
    "duration": 426,
    "start_time": "2021-11-26T03:11:02.719Z"
   },
   {
    "duration": 7,
    "start_time": "2021-11-26T03:11:03.147Z"
   },
   {
    "duration": 22,
    "start_time": "2021-11-26T03:11:03.156Z"
   },
   {
    "duration": 436,
    "start_time": "2021-11-26T03:11:03.181Z"
   },
   {
    "duration": 456,
    "start_time": "2021-11-26T03:11:03.619Z"
   },
   {
    "duration": 6,
    "start_time": "2021-11-26T03:11:04.078Z"
   },
   {
    "duration": 12,
    "start_time": "2021-11-26T03:11:04.086Z"
   },
   {
    "duration": 20,
    "start_time": "2021-11-26T03:11:04.100Z"
   },
   {
    "duration": 127,
    "start_time": "2021-11-26T03:11:04.122Z"
   },
   {
    "duration": 123,
    "start_time": "2021-11-26T03:11:04.251Z"
   },
   {
    "duration": 33,
    "start_time": "2021-11-26T03:11:04.376Z"
   },
   {
    "duration": 120,
    "start_time": "2021-11-26T03:11:04.411Z"
   },
   {
    "duration": 49,
    "start_time": "2021-11-26T03:11:04.534Z"
   },
   {
    "duration": 120,
    "start_time": "2021-11-26T03:11:04.585Z"
   },
   {
    "duration": 71,
    "start_time": "2021-11-26T03:11:04.708Z"
   },
   {
    "duration": 243,
    "start_time": "2021-11-26T03:11:04.781Z"
   },
   {
    "duration": 9,
    "start_time": "2021-11-26T03:11:05.026Z"
   },
   {
    "duration": 29,
    "start_time": "2021-11-26T03:11:05.038Z"
   },
   {
    "duration": 8,
    "start_time": "2021-11-26T03:11:05.069Z"
   },
   {
    "duration": 13,
    "start_time": "2021-11-26T03:11:05.079Z"
   },
   {
    "duration": 12,
    "start_time": "2021-11-26T03:11:05.095Z"
   },
   {
    "duration": 61,
    "start_time": "2021-11-26T03:11:05.110Z"
   },
   {
    "duration": 18,
    "start_time": "2021-11-26T03:11:05.174Z"
   },
   {
    "duration": 23,
    "start_time": "2021-11-26T03:11:05.195Z"
   },
   {
    "duration": 9,
    "start_time": "2021-11-26T03:11:05.220Z"
   },
   {
    "duration": 39,
    "start_time": "2021-11-26T03:11:05.231Z"
   },
   {
    "duration": 24,
    "start_time": "2021-11-26T03:11:05.272Z"
   },
   {
    "duration": 12,
    "start_time": "2021-11-26T03:11:05.299Z"
   },
   {
    "duration": 56,
    "start_time": "2021-11-26T03:11:05.314Z"
   },
   {
    "duration": 10,
    "start_time": "2021-11-26T03:12:43.981Z"
   },
   {
    "duration": 84,
    "start_time": "2021-11-26T19:01:07.938Z"
   },
   {
    "duration": 1093,
    "start_time": "2021-11-26T19:20:22.228Z"
   },
   {
    "duration": 1042,
    "start_time": "2021-11-26T19:20:37.057Z"
   },
   {
    "duration": 27,
    "start_time": "2021-11-26T19:20:38.101Z"
   },
   {
    "duration": 254,
    "start_time": "2021-11-26T19:20:38.130Z"
   },
   {
    "duration": 26507,
    "start_time": "2021-11-26T19:20:11.881Z"
   },
   {
    "duration": 26505,
    "start_time": "2021-11-26T19:20:11.884Z"
   },
   {
    "duration": 26503,
    "start_time": "2021-11-26T19:20:11.888Z"
   },
   {
    "duration": 26497,
    "start_time": "2021-11-26T19:20:11.895Z"
   },
   {
    "duration": 26495,
    "start_time": "2021-11-26T19:20:11.899Z"
   },
   {
    "duration": 26493,
    "start_time": "2021-11-26T19:20:11.902Z"
   },
   {
    "duration": 26492,
    "start_time": "2021-11-26T19:20:11.905Z"
   },
   {
    "duration": 26491,
    "start_time": "2021-11-26T19:20:11.907Z"
   },
   {
    "duration": 26488,
    "start_time": "2021-11-26T19:20:11.911Z"
   },
   {
    "duration": 26488,
    "start_time": "2021-11-26T19:20:11.913Z"
   },
   {
    "duration": 26486,
    "start_time": "2021-11-26T19:20:11.916Z"
   },
   {
    "duration": 26486,
    "start_time": "2021-11-26T19:20:11.918Z"
   },
   {
    "duration": 26484,
    "start_time": "2021-11-26T19:20:11.921Z"
   },
   {
    "duration": 26482,
    "start_time": "2021-11-26T19:20:11.924Z"
   },
   {
    "duration": 26476,
    "start_time": "2021-11-26T19:20:11.932Z"
   },
   {
    "duration": 26473,
    "start_time": "2021-11-26T19:20:11.936Z"
   },
   {
    "duration": 26472,
    "start_time": "2021-11-26T19:20:11.939Z"
   },
   {
    "duration": 26472,
    "start_time": "2021-11-26T19:20:11.940Z"
   },
   {
    "duration": 26469,
    "start_time": "2021-11-26T19:20:11.944Z"
   },
   {
    "duration": 26469,
    "start_time": "2021-11-26T19:20:11.946Z"
   },
   {
    "duration": 26467,
    "start_time": "2021-11-26T19:20:11.949Z"
   },
   {
    "duration": 26466,
    "start_time": "2021-11-26T19:20:11.952Z"
   },
   {
    "duration": 26464,
    "start_time": "2021-11-26T19:20:11.955Z"
   },
   {
    "duration": 26463,
    "start_time": "2021-11-26T19:20:11.957Z"
   },
   {
    "duration": 26461,
    "start_time": "2021-11-26T19:20:11.961Z"
   },
   {
    "duration": 26454,
    "start_time": "2021-11-26T19:20:11.969Z"
   },
   {
    "duration": 26452,
    "start_time": "2021-11-26T19:20:11.972Z"
   },
   {
    "duration": 26451,
    "start_time": "2021-11-26T19:20:11.974Z"
   },
   {
    "duration": 26447,
    "start_time": "2021-11-26T19:20:11.978Z"
   },
   {
    "duration": 26446,
    "start_time": "2021-11-26T19:20:11.980Z"
   },
   {
    "duration": 26445,
    "start_time": "2021-11-26T19:20:11.982Z"
   },
   {
    "duration": 26442,
    "start_time": "2021-11-26T19:20:11.986Z"
   },
   {
    "duration": 26440,
    "start_time": "2021-11-26T19:20:11.989Z"
   },
   {
    "duration": 26439,
    "start_time": "2021-11-26T19:20:11.991Z"
   },
   {
    "duration": 26436,
    "start_time": "2021-11-26T19:20:11.995Z"
   },
   {
    "duration": 26435,
    "start_time": "2021-11-26T19:20:11.997Z"
   },
   {
    "duration": 26434,
    "start_time": "2021-11-26T19:20:11.999Z"
   },
   {
    "duration": 26431,
    "start_time": "2021-11-26T19:20:12.003Z"
   },
   {
    "duration": 26429,
    "start_time": "2021-11-26T19:20:12.005Z"
   },
   {
    "duration": 26484,
    "start_time": "2021-11-26T19:20:12.007Z"
   },
   {
    "duration": 26476,
    "start_time": "2021-11-26T19:20:12.016Z"
   },
   {
    "duration": 26467,
    "start_time": "2021-11-26T19:20:12.026Z"
   },
   {
    "duration": 26466,
    "start_time": "2021-11-26T19:20:12.028Z"
   },
   {
    "duration": 26465,
    "start_time": "2021-11-26T19:20:12.030Z"
   },
   {
    "duration": 26464,
    "start_time": "2021-11-26T19:20:12.032Z"
   },
   {
    "duration": 26463,
    "start_time": "2021-11-26T19:20:12.034Z"
   },
   {
    "duration": 26462,
    "start_time": "2021-11-26T19:20:12.036Z"
   },
   {
    "duration": 26456,
    "start_time": "2021-11-26T19:20:12.043Z"
   },
   {
    "duration": 26454,
    "start_time": "2021-11-26T19:20:12.046Z"
   },
   {
    "duration": 26452,
    "start_time": "2021-11-26T19:20:12.049Z"
   },
   {
    "duration": 26450,
    "start_time": "2021-11-26T19:20:12.052Z"
   },
   {
    "duration": 26449,
    "start_time": "2021-11-26T19:20:12.054Z"
   },
   {
    "duration": 26448,
    "start_time": "2021-11-26T19:20:12.056Z"
   },
   {
    "duration": 26446,
    "start_time": "2021-11-26T19:20:12.059Z"
   },
   {
    "duration": 26440,
    "start_time": "2021-11-26T19:20:12.065Z"
   },
   {
    "duration": 26439,
    "start_time": "2021-11-26T19:20:12.067Z"
   },
   {
    "duration": 26438,
    "start_time": "2021-11-26T19:20:12.069Z"
   },
   {
    "duration": 26437,
    "start_time": "2021-11-26T19:20:12.071Z"
   },
   {
    "duration": 26427,
    "start_time": "2021-11-26T19:20:12.082Z"
   },
   {
    "duration": 26424,
    "start_time": "2021-11-26T19:20:12.085Z"
   },
   {
    "duration": 26422,
    "start_time": "2021-11-26T19:20:12.088Z"
   },
   {
    "duration": 26421,
    "start_time": "2021-11-26T19:20:12.090Z"
   },
   {
    "duration": 26420,
    "start_time": "2021-11-26T19:20:12.092Z"
   },
   {
    "duration": 1106,
    "start_time": "2021-11-26T19:21:06.397Z"
   },
   {
    "duration": 40,
    "start_time": "2021-11-26T19:21:17.358Z"
   },
   {
    "duration": 264,
    "start_time": "2021-11-26T19:21:31.128Z"
   },
   {
    "duration": 10,
    "start_time": "2021-11-26T19:21:46.936Z"
   },
   {
    "duration": 10,
    "start_time": "2021-11-26T19:22:27.643Z"
   },
   {
    "duration": 251,
    "start_time": "2021-11-26T19:29:17.537Z"
   },
   {
    "duration": 13,
    "start_time": "2021-11-26T19:29:50.623Z"
   },
   {
    "duration": 15,
    "start_time": "2021-11-26T19:30:59.689Z"
   },
   {
    "duration": 10,
    "start_time": "2021-11-26T19:32:55.369Z"
   },
   {
    "duration": 18,
    "start_time": "2021-11-26T19:33:26.914Z"
   },
   {
    "duration": 7,
    "start_time": "2021-11-26T19:34:27.813Z"
   },
   {
    "duration": 13,
    "start_time": "2021-11-26T19:35:16.102Z"
   },
   {
    "duration": 14,
    "start_time": "2021-11-26T19:36:43.098Z"
   },
   {
    "duration": 15,
    "start_time": "2021-11-26T19:37:10.036Z"
   },
   {
    "duration": 16,
    "start_time": "2021-11-26T19:38:17.088Z"
   },
   {
    "duration": 461,
    "start_time": "2021-11-26T19:39:07.925Z"
   },
   {
    "duration": 18,
    "start_time": "2021-11-26T19:39:18.201Z"
   },
   {
    "duration": 13,
    "start_time": "2021-11-26T19:39:56.683Z"
   },
   {
    "duration": 10,
    "start_time": "2021-11-26T19:42:54.689Z"
   },
   {
    "duration": 273,
    "start_time": "2021-11-26T19:43:11.751Z"
   },
   {
    "duration": 95,
    "start_time": "2021-11-26T19:43:28.631Z"
   },
   {
    "duration": 177,
    "start_time": "2021-11-26T19:49:20.936Z"
   },
   {
    "duration": 178,
    "start_time": "2021-11-26T19:49:56.636Z"
   },
   {
    "duration": 180,
    "start_time": "2021-11-26T19:53:37.478Z"
   },
   {
    "duration": 172,
    "start_time": "2021-11-26T19:56:27.721Z"
   },
   {
    "duration": 1087,
    "start_time": "2021-11-26T19:57:25.835Z"
   },
   {
    "duration": 29,
    "start_time": "2021-11-26T19:57:26.924Z"
   },
   {
    "duration": 16,
    "start_time": "2021-11-26T19:57:26.957Z"
   },
   {
    "duration": 25,
    "start_time": "2021-11-26T19:57:26.974Z"
   },
   {
    "duration": 320,
    "start_time": "2021-11-26T19:57:27.001Z"
   },
   {
    "duration": 261,
    "start_time": "2021-11-26T19:57:27.323Z"
   },
   {
    "duration": 26484,
    "start_time": "2021-11-26T19:57:01.104Z"
   },
   {
    "duration": 26482,
    "start_time": "2021-11-26T19:57:01.107Z"
   },
   {
    "duration": 26480,
    "start_time": "2021-11-26T19:57:01.110Z"
   },
   {
    "duration": 26479,
    "start_time": "2021-11-26T19:57:01.112Z"
   },
   {
    "duration": 26478,
    "start_time": "2021-11-26T19:57:01.114Z"
   },
   {
    "duration": 26475,
    "start_time": "2021-11-26T19:57:01.118Z"
   },
   {
    "duration": 26475,
    "start_time": "2021-11-26T19:57:01.120Z"
   },
   {
    "duration": 26474,
    "start_time": "2021-11-26T19:57:01.122Z"
   },
   {
    "duration": 26473,
    "start_time": "2021-11-26T19:57:01.124Z"
   },
   {
    "duration": 26472,
    "start_time": "2021-11-26T19:57:01.126Z"
   },
   {
    "duration": 26465,
    "start_time": "2021-11-26T19:57:01.134Z"
   },
   {
    "duration": 26460,
    "start_time": "2021-11-26T19:57:01.140Z"
   },
   {
    "duration": 26458,
    "start_time": "2021-11-26T19:57:01.143Z"
   },
   {
    "duration": 26456,
    "start_time": "2021-11-26T19:57:01.146Z"
   },
   {
    "duration": 26455,
    "start_time": "2021-11-26T19:57:01.148Z"
   },
   {
    "duration": 26454,
    "start_time": "2021-11-26T19:57:01.150Z"
   },
   {
    "duration": 26453,
    "start_time": "2021-11-26T19:57:01.152Z"
   },
   {
    "duration": 26452,
    "start_time": "2021-11-26T19:57:01.154Z"
   },
   {
    "duration": 26451,
    "start_time": "2021-11-26T19:57:01.156Z"
   },
   {
    "duration": 26450,
    "start_time": "2021-11-26T19:57:01.158Z"
   },
   {
    "duration": 26449,
    "start_time": "2021-11-26T19:57:01.160Z"
   },
   {
    "duration": 26448,
    "start_time": "2021-11-26T19:57:01.162Z"
   },
   {
    "duration": 26448,
    "start_time": "2021-11-26T19:57:01.163Z"
   },
   {
    "duration": 26447,
    "start_time": "2021-11-26T19:57:01.165Z"
   },
   {
    "duration": 26441,
    "start_time": "2021-11-26T19:57:01.172Z"
   },
   {
    "duration": 26439,
    "start_time": "2021-11-26T19:57:01.174Z"
   },
   {
    "duration": 26438,
    "start_time": "2021-11-26T19:57:01.176Z"
   },
   {
    "duration": 26436,
    "start_time": "2021-11-26T19:57:01.179Z"
   },
   {
    "duration": 26436,
    "start_time": "2021-11-26T19:57:01.181Z"
   },
   {
    "duration": 26436,
    "start_time": "2021-11-26T19:57:01.182Z"
   },
   {
    "duration": 26435,
    "start_time": "2021-11-26T19:57:01.184Z"
   },
   {
    "duration": 26434,
    "start_time": "2021-11-26T19:57:01.187Z"
   },
   {
    "duration": 26433,
    "start_time": "2021-11-26T19:57:01.188Z"
   },
   {
    "duration": 26432,
    "start_time": "2021-11-26T19:57:01.190Z"
   },
   {
    "duration": 26427,
    "start_time": "2021-11-26T19:57:01.196Z"
   },
   {
    "duration": 26425,
    "start_time": "2021-11-26T19:57:01.199Z"
   },
   {
    "duration": 26424,
    "start_time": "2021-11-26T19:57:01.201Z"
   },
   {
    "duration": 26418,
    "start_time": "2021-11-26T19:57:01.208Z"
   },
   {
    "duration": 26413,
    "start_time": "2021-11-26T19:57:01.214Z"
   },
   {
    "duration": 26392,
    "start_time": "2021-11-26T19:57:01.235Z"
   },
   {
    "duration": 26391,
    "start_time": "2021-11-26T19:57:01.237Z"
   },
   {
    "duration": 26390,
    "start_time": "2021-11-26T19:57:01.239Z"
   },
   {
    "duration": 26389,
    "start_time": "2021-11-26T19:57:01.241Z"
   },
   {
    "duration": 26383,
    "start_time": "2021-11-26T19:57:01.247Z"
   },
   {
    "duration": 26383,
    "start_time": "2021-11-26T19:57:01.249Z"
   },
   {
    "duration": 26440,
    "start_time": "2021-11-26T19:57:01.252Z"
   },
   {
    "duration": 26436,
    "start_time": "2021-11-26T19:57:01.257Z"
   },
   {
    "duration": 26434,
    "start_time": "2021-11-26T19:57:01.260Z"
   },
   {
    "duration": 26429,
    "start_time": "2021-11-26T19:57:01.266Z"
   },
   {
    "duration": 26412,
    "start_time": "2021-11-26T19:57:01.284Z"
   },
   {
    "duration": 26411,
    "start_time": "2021-11-26T19:57:01.286Z"
   },
   {
    "duration": 26410,
    "start_time": "2021-11-26T19:57:01.288Z"
   },
   {
    "duration": 26409,
    "start_time": "2021-11-26T19:57:01.289Z"
   },
   {
    "duration": 26408,
    "start_time": "2021-11-26T19:57:01.291Z"
   },
   {
    "duration": 26401,
    "start_time": "2021-11-26T19:57:01.299Z"
   },
   {
    "duration": 1114,
    "start_time": "2021-11-26T19:57:46.588Z"
   },
   {
    "duration": 30,
    "start_time": "2021-11-26T19:57:54.446Z"
   },
   {
    "duration": 17,
    "start_time": "2021-11-26T19:58:47.957Z"
   },
   {
    "duration": 257,
    "start_time": "2021-11-26T20:00:14.705Z"
   },
   {
    "duration": 15,
    "start_time": "2021-11-26T20:00:48.440Z"
   },
   {
    "duration": 1113,
    "start_time": "2021-11-26T20:01:09.108Z"
   },
   {
    "duration": 28,
    "start_time": "2021-11-26T20:01:10.223Z"
   },
   {
    "duration": 16,
    "start_time": "2021-11-26T20:01:10.253Z"
   },
   {
    "duration": 21,
    "start_time": "2021-11-26T20:01:10.271Z"
   },
   {
    "duration": 338,
    "start_time": "2021-11-26T20:01:10.293Z"
   },
   {
    "duration": 254,
    "start_time": "2021-11-26T20:01:10.633Z"
   },
   {
    "duration": 26468,
    "start_time": "2021-11-26T20:00:44.423Z"
   },
   {
    "duration": 26466,
    "start_time": "2021-11-26T20:00:44.426Z"
   },
   {
    "duration": 26465,
    "start_time": "2021-11-26T20:00:44.428Z"
   },
   {
    "duration": 26464,
    "start_time": "2021-11-26T20:00:44.430Z"
   },
   {
    "duration": 26462,
    "start_time": "2021-11-26T20:00:44.433Z"
   },
   {
    "duration": 26408,
    "start_time": "2021-11-26T20:00:44.488Z"
   },
   {
    "duration": 26399,
    "start_time": "2021-11-26T20:00:44.498Z"
   },
   {
    "duration": 26396,
    "start_time": "2021-11-26T20:00:44.502Z"
   },
   {
    "duration": 26394,
    "start_time": "2021-11-26T20:00:44.505Z"
   },
   {
    "duration": 26388,
    "start_time": "2021-11-26T20:00:44.512Z"
   },
   {
    "duration": 26377,
    "start_time": "2021-11-26T20:00:44.524Z"
   },
   {
    "duration": 26369,
    "start_time": "2021-11-26T20:00:44.533Z"
   },
   {
    "duration": 26369,
    "start_time": "2021-11-26T20:00:44.534Z"
   },
   {
    "duration": 26367,
    "start_time": "2021-11-26T20:00:44.537Z"
   },
   {
    "duration": 26366,
    "start_time": "2021-11-26T20:00:44.539Z"
   },
   {
    "duration": 26364,
    "start_time": "2021-11-26T20:00:44.542Z"
   },
   {
    "duration": 26363,
    "start_time": "2021-11-26T20:00:44.544Z"
   },
   {
    "duration": 26344,
    "start_time": "2021-11-26T20:00:44.564Z"
   },
   {
    "duration": 26338,
    "start_time": "2021-11-26T20:00:44.571Z"
   },
   {
    "duration": 26336,
    "start_time": "2021-11-26T20:00:44.574Z"
   },
   {
    "duration": 26335,
    "start_time": "2021-11-26T20:00:44.576Z"
   },
   {
    "duration": 26333,
    "start_time": "2021-11-26T20:00:44.578Z"
   },
   {
    "duration": 26333,
    "start_time": "2021-11-26T20:00:44.579Z"
   },
   {
    "duration": 26332,
    "start_time": "2021-11-26T20:00:44.581Z"
   },
   {
    "duration": 26331,
    "start_time": "2021-11-26T20:00:44.583Z"
   },
   {
    "duration": 26330,
    "start_time": "2021-11-26T20:00:44.585Z"
   },
   {
    "duration": 26329,
    "start_time": "2021-11-26T20:00:44.587Z"
   },
   {
    "duration": 26329,
    "start_time": "2021-11-26T20:00:44.589Z"
   },
   {
    "duration": 26328,
    "start_time": "2021-11-26T20:00:44.591Z"
   },
   {
    "duration": 26326,
    "start_time": "2021-11-26T20:00:44.593Z"
   },
   {
    "duration": 26325,
    "start_time": "2021-11-26T20:00:44.595Z"
   },
   {
    "duration": 26324,
    "start_time": "2021-11-26T20:00:44.597Z"
   },
   {
    "duration": 26323,
    "start_time": "2021-11-26T20:00:44.599Z"
   },
   {
    "duration": 26322,
    "start_time": "2021-11-26T20:00:44.601Z"
   },
   {
    "duration": 26321,
    "start_time": "2021-11-26T20:00:44.603Z"
   },
   {
    "duration": 26320,
    "start_time": "2021-11-26T20:00:44.605Z"
   },
   {
    "duration": 26319,
    "start_time": "2021-11-26T20:00:44.607Z"
   },
   {
    "duration": 26318,
    "start_time": "2021-11-26T20:00:44.609Z"
   },
   {
    "duration": 26317,
    "start_time": "2021-11-26T20:00:44.611Z"
   },
   {
    "duration": 26316,
    "start_time": "2021-11-26T20:00:44.613Z"
   },
   {
    "duration": 26315,
    "start_time": "2021-11-26T20:00:44.615Z"
   },
   {
    "duration": 26314,
    "start_time": "2021-11-26T20:00:44.617Z"
   },
   {
    "duration": 26313,
    "start_time": "2021-11-26T20:00:44.619Z"
   },
   {
    "duration": 26370,
    "start_time": "2021-11-26T20:00:44.622Z"
   },
   {
    "duration": 26364,
    "start_time": "2021-11-26T20:00:44.629Z"
   },
   {
    "duration": 26354,
    "start_time": "2021-11-26T20:00:44.640Z"
   },
   {
    "duration": 26352,
    "start_time": "2021-11-26T20:00:44.642Z"
   },
   {
    "duration": 26351,
    "start_time": "2021-11-26T20:00:44.644Z"
   },
   {
    "duration": 26350,
    "start_time": "2021-11-26T20:00:44.646Z"
   },
   {
    "duration": 26349,
    "start_time": "2021-11-26T20:00:44.648Z"
   },
   {
    "duration": 26345,
    "start_time": "2021-11-26T20:00:44.653Z"
   },
   {
    "duration": 26344,
    "start_time": "2021-11-26T20:00:44.655Z"
   },
   {
    "duration": 26343,
    "start_time": "2021-11-26T20:00:44.657Z"
   },
   {
    "duration": 26342,
    "start_time": "2021-11-26T20:00:44.659Z"
   },
   {
    "duration": 26340,
    "start_time": "2021-11-26T20:00:44.661Z"
   },
   {
    "duration": 26339,
    "start_time": "2021-11-26T20:00:44.663Z"
   },
   {
    "duration": 26338,
    "start_time": "2021-11-26T20:00:44.665Z"
   },
   {
    "duration": 26337,
    "start_time": "2021-11-26T20:00:44.667Z"
   },
   {
    "duration": 26336,
    "start_time": "2021-11-26T20:00:44.669Z"
   },
   {
    "duration": 26334,
    "start_time": "2021-11-26T20:00:44.671Z"
   },
   {
    "duration": 26333,
    "start_time": "2021-11-26T20:00:44.673Z"
   },
   {
    "duration": 1090,
    "start_time": "2021-11-26T20:01:15.731Z"
   },
   {
    "duration": 30,
    "start_time": "2021-11-26T20:01:16.823Z"
   },
   {
    "duration": 15,
    "start_time": "2021-11-26T20:01:16.855Z"
   },
   {
    "duration": 1138,
    "start_time": "2021-11-26T20:01:32.275Z"
   },
   {
    "duration": 31,
    "start_time": "2021-11-26T20:01:39.258Z"
   },
   {
    "duration": 17,
    "start_time": "2021-11-26T20:01:46.666Z"
   },
   {
    "duration": 21,
    "start_time": "2021-11-26T20:01:55.132Z"
   },
   {
    "duration": 307,
    "start_time": "2021-11-26T20:02:23.067Z"
   },
   {
    "duration": 15,
    "start_time": "2021-11-26T20:03:30.859Z"
   },
   {
    "duration": 8,
    "start_time": "2021-11-26T20:06:14.114Z"
   },
   {
    "duration": 262,
    "start_time": "2021-11-26T20:07:07.500Z"
   },
   {
    "duration": 173,
    "start_time": "2021-11-26T20:07:23.475Z"
   },
   {
    "duration": 176,
    "start_time": "2021-11-26T20:08:31.311Z"
   },
   {
    "duration": 170,
    "start_time": "2021-11-26T20:08:42.752Z"
   },
   {
    "duration": 164,
    "start_time": "2021-11-26T20:08:58.767Z"
   },
   {
    "duration": 7,
    "start_time": "2021-11-26T20:09:06.249Z"
   },
   {
    "duration": 73,
    "start_time": "2021-11-26T20:10:22.429Z"
   },
   {
    "duration": 172,
    "start_time": "2021-11-26T20:10:50.701Z"
   },
   {
    "duration": 185,
    "start_time": "2021-11-26T20:11:00.806Z"
   },
   {
    "duration": 7,
    "start_time": "2021-11-26T20:11:21.876Z"
   },
   {
    "duration": 7,
    "start_time": "2021-11-26T20:11:32.139Z"
   },
   {
    "duration": 2594,
    "start_time": "2021-11-26T20:32:50.218Z"
   },
   {
    "duration": 74,
    "start_time": "2021-11-26T20:33:27.464Z"
   },
   {
    "duration": 512,
    "start_time": "2021-11-26T20:34:24.188Z"
   },
   {
    "duration": 2424,
    "start_time": "2021-11-26T20:37:59.259Z"
   },
   {
    "duration": 2104,
    "start_time": "2021-11-26T20:38:23.754Z"
   },
   {
    "duration": 15,
    "start_time": "2021-11-26T20:39:33.169Z"
   },
   {
    "duration": 55,
    "start_time": "2021-11-26T20:39:43.592Z"
   },
   {
    "duration": 9,
    "start_time": "2021-11-26T20:39:49.695Z"
   },
   {
    "duration": 6,
    "start_time": "2021-11-26T20:39:51.520Z"
   },
   {
    "duration": 6,
    "start_time": "2021-11-26T20:39:52.675Z"
   },
   {
    "duration": 5,
    "start_time": "2021-11-26T20:39:53.835Z"
   },
   {
    "duration": 10,
    "start_time": "2021-11-26T20:39:55.227Z"
   },
   {
    "duration": 7,
    "start_time": "2021-11-26T20:39:57.130Z"
   },
   {
    "duration": 24,
    "start_time": "2021-11-26T20:41:47.762Z"
   },
   {
    "duration": 8,
    "start_time": "2021-11-26T20:41:52.865Z"
   },
   {
    "duration": 6,
    "start_time": "2021-11-26T20:41:53.970Z"
   },
   {
    "duration": 6,
    "start_time": "2021-11-26T20:41:55.563Z"
   },
   {
    "duration": 4,
    "start_time": "2021-11-26T20:41:56.394Z"
   },
   {
    "duration": 414,
    "start_time": "2021-11-26T20:41:58.646Z"
   },
   {
    "duration": 4,
    "start_time": "2021-11-26T20:52:25.184Z"
   },
   {
    "duration": 277,
    "start_time": "2021-11-26T20:54:36.202Z"
   },
   {
    "duration": 15,
    "start_time": "2021-11-26T20:55:41.889Z"
   },
   {
    "duration": 206,
    "start_time": "2021-11-26T20:58:27.645Z"
   },
   {
    "duration": 5,
    "start_time": "2021-11-26T20:58:45.763Z"
   },
   {
    "duration": 7,
    "start_time": "2021-11-26T21:00:16.333Z"
   },
   {
    "duration": 1125,
    "start_time": "2021-11-26T21:01:10.088Z"
   },
   {
    "duration": 30,
    "start_time": "2021-11-26T21:01:11.215Z"
   },
   {
    "duration": 15,
    "start_time": "2021-11-26T21:01:11.248Z"
   },
   {
    "duration": 28,
    "start_time": "2021-11-26T21:01:11.265Z"
   },
   {
    "duration": 323,
    "start_time": "2021-11-26T21:01:11.295Z"
   },
   {
    "duration": 15,
    "start_time": "2021-11-26T21:01:11.620Z"
   },
   {
    "duration": 61,
    "start_time": "2021-11-26T21:01:11.637Z"
   },
   {
    "duration": 18,
    "start_time": "2021-11-26T21:01:11.700Z"
   },
   {
    "duration": 15,
    "start_time": "2021-11-26T21:01:11.721Z"
   },
   {
    "duration": 25,
    "start_time": "2021-11-26T21:01:11.737Z"
   },
   {
    "duration": 18,
    "start_time": "2021-11-26T21:01:11.764Z"
   },
   {
    "duration": 25,
    "start_time": "2021-11-26T21:01:11.784Z"
   },
   {
    "duration": 12,
    "start_time": "2021-11-26T21:01:11.811Z"
   },
   {
    "duration": 26,
    "start_time": "2021-11-26T21:01:11.824Z"
   },
   {
    "duration": 9,
    "start_time": "2021-11-26T21:01:11.851Z"
   },
   {
    "duration": 9,
    "start_time": "2021-11-26T21:01:11.861Z"
   },
   {
    "duration": 6,
    "start_time": "2021-11-26T21:01:11.872Z"
   },
   {
    "duration": 6,
    "start_time": "2021-11-26T21:01:11.879Z"
   },
   {
    "duration": 1333,
    "start_time": "2021-11-26T21:01:26.473Z"
   },
   {
    "duration": 30,
    "start_time": "2021-11-26T21:01:27.808Z"
   },
   {
    "duration": 17,
    "start_time": "2021-11-26T21:01:32.031Z"
   },
   {
    "duration": 17,
    "start_time": "2021-11-26T21:01:35.075Z"
   },
   {
    "duration": 327,
    "start_time": "2021-11-26T21:01:36.704Z"
   },
   {
    "duration": 19,
    "start_time": "2021-11-26T21:01:46.274Z"
   },
   {
    "duration": 45,
    "start_time": "2021-11-26T21:01:56.685Z"
   },
   {
    "duration": 10,
    "start_time": "2021-11-26T21:02:05.999Z"
   },
   {
    "duration": 6,
    "start_time": "2021-11-26T21:02:06.569Z"
   },
   {
    "duration": 6,
    "start_time": "2021-11-26T21:02:07.520Z"
   },
   {
    "duration": 4,
    "start_time": "2021-11-26T21:02:08.456Z"
   },
   {
    "duration": 10,
    "start_time": "2021-11-26T21:02:10.623Z"
   },
   {
    "duration": 7,
    "start_time": "2021-11-26T21:02:11.600Z"
   },
   {
    "duration": 23,
    "start_time": "2021-11-26T21:02:16.994Z"
   },
   {
    "duration": 7,
    "start_time": "2021-11-26T21:02:23.200Z"
   },
   {
    "duration": 6,
    "start_time": "2021-11-26T21:02:23.752Z"
   },
   {
    "duration": 6,
    "start_time": "2021-11-26T21:02:24.620Z"
   },
   {
    "duration": 4,
    "start_time": "2021-11-26T21:02:25.245Z"
   },
   {
    "duration": 319,
    "start_time": "2021-11-26T21:02:26.978Z"
   },
   {
    "duration": 13,
    "start_time": "2021-11-26T21:02:34.225Z"
   },
   {
    "duration": 5,
    "start_time": "2021-11-26T21:05:28.962Z"
   },
   {
    "duration": 5,
    "start_time": "2021-11-26T21:08:00.327Z"
   },
   {
    "duration": 5,
    "start_time": "2021-11-26T21:08:19.165Z"
   },
   {
    "duration": 52,
    "start_time": "2021-11-26T21:21:49.275Z"
   },
   {
    "duration": 57,
    "start_time": "2021-11-26T21:22:24.149Z"
   },
   {
    "duration": 53,
    "start_time": "2021-11-26T21:22:37.927Z"
   },
   {
    "duration": 436,
    "start_time": "2021-11-26T21:22:45.570Z"
   },
   {
    "duration": 169,
    "start_time": "2021-11-26T21:23:46.361Z"
   },
   {
    "duration": 4498,
    "start_time": "2021-11-26T21:30:47.064Z"
   },
   {
    "duration": 1106,
    "start_time": "2021-11-26T21:31:02.303Z"
   },
   {
    "duration": 29,
    "start_time": "2021-11-26T21:31:03.411Z"
   },
   {
    "duration": 1092,
    "start_time": "2021-11-26T21:31:16.513Z"
   },
   {
    "duration": 27,
    "start_time": "2021-11-26T21:31:21.466Z"
   },
   {
    "duration": 4370,
    "start_time": "2021-11-26T21:31:31.232Z"
   },
   {
    "duration": 4059,
    "start_time": "2021-11-26T21:32:29.206Z"
   },
   {
    "duration": 13,
    "start_time": "2021-11-26T21:33:16.775Z"
   },
   {
    "duration": 12,
    "start_time": "2021-11-26T21:34:30.816Z"
   },
   {
    "duration": 285,
    "start_time": "2021-11-26T21:34:39.327Z"
   },
   {
    "duration": 11,
    "start_time": "2021-11-26T21:35:28.184Z"
   },
   {
    "duration": 55,
    "start_time": "2021-11-26T21:36:47.336Z"
   },
   {
    "duration": 11,
    "start_time": "2021-11-26T21:36:51.102Z"
   },
   {
    "duration": 7,
    "start_time": "2021-11-26T21:36:56.174Z"
   },
   {
    "duration": 7,
    "start_time": "2021-11-26T21:36:56.935Z"
   },
   {
    "duration": 4,
    "start_time": "2021-11-26T21:36:57.632Z"
   },
   {
    "duration": 10,
    "start_time": "2021-11-26T21:36:58.384Z"
   },
   {
    "duration": 6,
    "start_time": "2021-11-26T21:37:15.834Z"
   },
   {
    "duration": 24,
    "start_time": "2021-11-26T21:37:18.856Z"
   },
   {
    "duration": 7,
    "start_time": "2021-11-26T21:37:21.713Z"
   },
   {
    "duration": 6,
    "start_time": "2021-11-26T21:37:23.745Z"
   },
   {
    "duration": 5,
    "start_time": "2021-11-26T21:37:24.673Z"
   },
   {
    "duration": 5,
    "start_time": "2021-11-26T21:37:25.511Z"
   },
   {
    "duration": 403,
    "start_time": "2021-11-26T21:37:31.512Z"
   },
   {
    "duration": 14,
    "start_time": "2021-11-26T21:38:13.320Z"
   },
   {
    "duration": 14,
    "start_time": "2021-11-26T21:43:06.986Z"
   },
   {
    "duration": 1384,
    "start_time": "2021-11-26T21:46:48.671Z"
   },
   {
    "duration": 32,
    "start_time": "2021-11-26T21:46:50.057Z"
   },
   {
    "duration": 25,
    "start_time": "2021-11-26T21:46:50.091Z"
   },
   {
    "duration": 26,
    "start_time": "2021-11-26T21:46:50.118Z"
   },
   {
    "duration": 1384,
    "start_time": "2021-11-26T21:47:01.681Z"
   },
   {
    "duration": 29,
    "start_time": "2021-11-26T21:47:07.914Z"
   },
   {
    "duration": 13,
    "start_time": "2021-11-26T21:47:14.736Z"
   },
   {
    "duration": 13,
    "start_time": "2021-11-26T21:47:18.422Z"
   },
   {
    "duration": 279,
    "start_time": "2021-11-26T21:47:19.754Z"
   },
   {
    "duration": 12,
    "start_time": "2021-11-26T21:47:24.999Z"
   },
   {
    "duration": 55,
    "start_time": "2021-11-26T21:47:29.511Z"
   },
   {
    "duration": 10,
    "start_time": "2021-11-26T21:48:07.552Z"
   },
   {
    "duration": 6,
    "start_time": "2021-11-26T21:48:13.633Z"
   },
   {
    "duration": 6,
    "start_time": "2021-11-26T21:48:14.870Z"
   },
   {
    "duration": 5,
    "start_time": "2021-11-26T21:48:15.639Z"
   },
   {
    "duration": 11,
    "start_time": "2021-11-26T21:48:16.469Z"
   },
   {
    "duration": 6,
    "start_time": "2021-11-26T21:48:21.920Z"
   },
   {
    "duration": 23,
    "start_time": "2021-11-26T21:48:25.726Z"
   },
   {
    "duration": 8,
    "start_time": "2021-11-26T21:48:29.861Z"
   },
   {
    "duration": 5,
    "start_time": "2021-11-26T21:48:30.672Z"
   },
   {
    "duration": 5,
    "start_time": "2021-11-26T21:48:31.281Z"
   },
   {
    "duration": 4,
    "start_time": "2021-11-26T21:48:31.909Z"
   },
   {
    "duration": 310,
    "start_time": "2021-11-26T21:48:33.367Z"
   },
   {
    "duration": 15,
    "start_time": "2021-11-26T21:48:35.817Z"
   },
   {
    "duration": 15,
    "start_time": "2021-11-26T21:48:36.914Z"
   },
   {
    "duration": 1377,
    "start_time": "2021-11-26T21:51:06.377Z"
   },
   {
    "duration": 29,
    "start_time": "2021-11-26T21:51:07.756Z"
   },
   {
    "duration": 11,
    "start_time": "2021-11-26T21:51:07.787Z"
   },
   {
    "duration": 10,
    "start_time": "2021-11-26T21:51:07.800Z"
   },
   {
    "duration": 313,
    "start_time": "2021-11-26T21:51:07.811Z"
   },
   {
    "duration": 11,
    "start_time": "2021-11-26T21:51:08.125Z"
   },
   {
    "duration": 47,
    "start_time": "2021-11-26T21:51:08.138Z"
   },
   {
    "duration": 9,
    "start_time": "2021-11-26T21:51:08.186Z"
   },
   {
    "duration": 6,
    "start_time": "2021-11-26T21:51:08.198Z"
   },
   {
    "duration": 12,
    "start_time": "2021-11-26T21:51:08.206Z"
   },
   {
    "duration": 7,
    "start_time": "2021-11-26T21:51:08.219Z"
   },
   {
    "duration": 14,
    "start_time": "2021-11-26T21:51:08.228Z"
   },
   {
    "duration": 6,
    "start_time": "2021-11-26T21:51:08.244Z"
   },
   {
    "duration": 40,
    "start_time": "2021-11-26T21:51:08.252Z"
   },
   {
    "duration": 9,
    "start_time": "2021-11-26T21:51:08.294Z"
   },
   {
    "duration": 10,
    "start_time": "2021-11-26T21:51:08.304Z"
   },
   {
    "duration": 6,
    "start_time": "2021-11-26T21:51:08.316Z"
   },
   {
    "duration": 5,
    "start_time": "2021-11-26T21:51:08.324Z"
   },
   {
    "duration": 373,
    "start_time": "2021-11-26T21:51:08.330Z"
   },
   {
    "duration": 16,
    "start_time": "2021-11-26T21:51:08.705Z"
   },
   {
    "duration": 14,
    "start_time": "2021-11-26T21:51:08.723Z"
   },
   {
    "duration": 1357,
    "start_time": "2021-11-26T21:51:17.005Z"
   },
   {
    "duration": 29,
    "start_time": "2021-11-26T21:51:19.051Z"
   },
   {
    "duration": 14,
    "start_time": "2021-11-26T21:51:22.571Z"
   },
   {
    "duration": 11,
    "start_time": "2021-11-26T21:51:26.122Z"
   },
   {
    "duration": 321,
    "start_time": "2021-11-26T21:51:26.794Z"
   },
   {
    "duration": 12,
    "start_time": "2021-11-26T21:51:30.467Z"
   },
   {
    "duration": 51,
    "start_time": "2021-11-26T21:52:01.996Z"
   },
   {
    "duration": 17,
    "start_time": "2021-11-26T21:52:29.851Z"
   },
   {
    "duration": 18,
    "start_time": "2021-11-26T21:53:06.646Z"
   },
   {
    "duration": 6,
    "start_time": "2021-11-26T21:54:41.602Z"
   },
   {
    "duration": 14,
    "start_time": "2021-11-26T21:55:30.635Z"
   },
   {
    "duration": 1309,
    "start_time": "2021-11-26T22:06:52.253Z"
   },
   {
    "duration": 29,
    "start_time": "2021-11-26T22:06:53.564Z"
   },
   {
    "duration": 13,
    "start_time": "2021-11-26T22:06:53.596Z"
   },
   {
    "duration": 13,
    "start_time": "2021-11-26T22:06:53.610Z"
   },
   {
    "duration": 294,
    "start_time": "2021-11-26T22:06:53.625Z"
   },
   {
    "duration": 12,
    "start_time": "2021-11-26T22:06:53.922Z"
   },
   {
    "duration": 51,
    "start_time": "2021-11-26T22:06:53.937Z"
   },
   {
    "duration": 13,
    "start_time": "2021-11-26T22:06:53.989Z"
   },
   {
    "duration": 17,
    "start_time": "2021-11-26T22:06:54.004Z"
   },
   {
    "duration": 27,
    "start_time": "2021-11-26T22:06:54.023Z"
   },
   {
    "duration": 19,
    "start_time": "2021-11-26T22:06:54.052Z"
   },
   {
    "duration": 29,
    "start_time": "2021-11-26T22:06:54.073Z"
   },
   {
    "duration": 25,
    "start_time": "2021-11-26T22:06:54.104Z"
   },
   {
    "duration": 22,
    "start_time": "2021-11-26T22:06:54.131Z"
   },
   {
    "duration": 19,
    "start_time": "2021-11-26T22:06:54.155Z"
   },
   {
    "duration": 17,
    "start_time": "2021-11-26T22:06:54.176Z"
   },
   {
    "duration": 5,
    "start_time": "2021-11-26T22:06:54.195Z"
   },
   {
    "duration": 11,
    "start_time": "2021-11-26T22:06:54.204Z"
   },
   {
    "duration": 11,
    "start_time": "2021-11-26T22:06:54.218Z"
   },
   {
    "duration": 17,
    "start_time": "2021-11-26T22:06:54.231Z"
   },
   {
    "duration": 16,
    "start_time": "2021-11-26T22:06:54.250Z"
   },
   {
    "duration": 340,
    "start_time": "2021-11-26T22:06:54.268Z"
   },
   {
    "duration": 16,
    "start_time": "2021-11-26T22:06:54.610Z"
   },
   {
    "duration": 22,
    "start_time": "2021-11-26T22:06:54.628Z"
   },
   {
    "duration": 285,
    "start_time": "2021-11-26T22:06:54.652Z"
   },
   {
    "duration": 26469,
    "start_time": "2021-11-26T22:06:28.471Z"
   },
   {
    "duration": 26457,
    "start_time": "2021-11-26T22:06:28.484Z"
   },
   {
    "duration": 26455,
    "start_time": "2021-11-26T22:06:28.488Z"
   },
   {
    "duration": 26449,
    "start_time": "2021-11-26T22:06:28.495Z"
   },
   {
    "duration": 26448,
    "start_time": "2021-11-26T22:06:28.498Z"
   },
   {
    "duration": 26448,
    "start_time": "2021-11-26T22:06:28.500Z"
   },
   {
    "duration": 26447,
    "start_time": "2021-11-26T22:06:28.502Z"
   },
   {
    "duration": 26445,
    "start_time": "2021-11-26T22:06:28.505Z"
   },
   {
    "duration": 26445,
    "start_time": "2021-11-26T22:06:28.507Z"
   },
   {
    "duration": 26439,
    "start_time": "2021-11-26T22:06:28.514Z"
   },
   {
    "duration": 26438,
    "start_time": "2021-11-26T22:06:28.517Z"
   },
   {
    "duration": 26433,
    "start_time": "2021-11-26T22:06:28.524Z"
   },
   {
    "duration": 26431,
    "start_time": "2021-11-26T22:06:28.527Z"
   },
   {
    "duration": 26431,
    "start_time": "2021-11-26T22:06:28.529Z"
   },
   {
    "duration": 26430,
    "start_time": "2021-11-26T22:06:28.531Z"
   },
   {
    "duration": 26430,
    "start_time": "2021-11-26T22:06:28.533Z"
   },
   {
    "duration": 26429,
    "start_time": "2021-11-26T22:06:28.535Z"
   },
   {
    "duration": 26426,
    "start_time": "2021-11-26T22:06:28.539Z"
   },
   {
    "duration": 26425,
    "start_time": "2021-11-26T22:06:28.541Z"
   },
   {
    "duration": 26424,
    "start_time": "2021-11-26T22:06:28.543Z"
   },
   {
    "duration": 26422,
    "start_time": "2021-11-26T22:06:28.546Z"
   },
   {
    "duration": 26420,
    "start_time": "2021-11-26T22:06:28.549Z"
   },
   {
    "duration": 26418,
    "start_time": "2021-11-26T22:06:28.552Z"
   },
   {
    "duration": 26416,
    "start_time": "2021-11-26T22:06:28.555Z"
   },
   {
    "duration": 26410,
    "start_time": "2021-11-26T22:06:28.562Z"
   },
   {
    "duration": 26408,
    "start_time": "2021-11-26T22:06:28.565Z"
   },
   {
    "duration": 26407,
    "start_time": "2021-11-26T22:06:28.567Z"
   },
   {
    "duration": 26405,
    "start_time": "2021-11-26T22:06:28.570Z"
   },
   {
    "duration": 26404,
    "start_time": "2021-11-26T22:06:28.572Z"
   },
   {
    "duration": 26404,
    "start_time": "2021-11-26T22:06:28.574Z"
   },
   {
    "duration": 26402,
    "start_time": "2021-11-26T22:06:28.576Z"
   },
   {
    "duration": 26401,
    "start_time": "2021-11-26T22:06:28.579Z"
   },
   {
    "duration": 26399,
    "start_time": "2021-11-26T22:06:28.581Z"
   },
   {
    "duration": 26398,
    "start_time": "2021-11-26T22:06:28.583Z"
   },
   {
    "duration": 26396,
    "start_time": "2021-11-26T22:06:28.586Z"
   },
   {
    "duration": 26393,
    "start_time": "2021-11-26T22:06:28.589Z"
   },
   {
    "duration": 26396,
    "start_time": "2021-11-26T22:06:28.595Z"
   },
   {
    "duration": 26394,
    "start_time": "2021-11-26T22:06:28.598Z"
   },
   {
    "duration": 26391,
    "start_time": "2021-11-26T22:06:28.602Z"
   },
   {
    "duration": 26390,
    "start_time": "2021-11-26T22:06:28.604Z"
   },
   {
    "duration": 26389,
    "start_time": "2021-11-26T22:06:28.606Z"
   },
   {
    "duration": 26386,
    "start_time": "2021-11-26T22:06:28.610Z"
   },
   {
    "duration": 26384,
    "start_time": "2021-11-26T22:06:28.613Z"
   },
   {
    "duration": 26384,
    "start_time": "2021-11-26T22:06:28.615Z"
   },
   {
    "duration": 26383,
    "start_time": "2021-11-26T22:06:28.617Z"
   },
   {
    "duration": 26381,
    "start_time": "2021-11-26T22:06:28.620Z"
   },
   {
    "duration": 26380,
    "start_time": "2021-11-26T22:06:28.622Z"
   },
   {
    "duration": 26373,
    "start_time": "2021-11-26T22:06:28.630Z"
   },
   {
    "duration": 1317,
    "start_time": "2021-11-26T22:08:47.832Z"
   },
   {
    "duration": 28,
    "start_time": "2021-11-26T22:08:55.839Z"
   },
   {
    "duration": 13,
    "start_time": "2021-11-26T22:09:05.391Z"
   },
   {
    "duration": 11,
    "start_time": "2021-11-26T22:09:09.648Z"
   },
   {
    "duration": 317,
    "start_time": "2021-11-26T22:09:12.076Z"
   },
   {
    "duration": 12,
    "start_time": "2021-11-26T22:09:25.871Z"
   },
   {
    "duration": 50,
    "start_time": "2021-11-26T22:09:31.167Z"
   },
   {
    "duration": 12,
    "start_time": "2021-11-26T22:09:37.705Z"
   },
   {
    "duration": 11,
    "start_time": "2021-11-26T22:09:46.196Z"
   },
   {
    "duration": 18,
    "start_time": "2021-11-26T22:09:50.624Z"
   },
   {
    "duration": 17,
    "start_time": "2021-11-26T22:09:52.034Z"
   },
   {
    "duration": 6,
    "start_time": "2021-11-26T22:09:59.349Z"
   },
   {
    "duration": 14,
    "start_time": "2021-11-26T22:10:03.303Z"
   },
   {
    "duration": 13,
    "start_time": "2021-11-26T22:13:26.046Z"
   },
   {
    "duration": 5,
    "start_time": "2021-11-26T22:13:39.479Z"
   },
   {
    "duration": 6,
    "start_time": "2021-11-26T22:13:43.278Z"
   },
   {
    "duration": 6,
    "start_time": "2021-11-26T22:14:04.679Z"
   },
   {
    "duration": 5,
    "start_time": "2021-11-26T22:14:07.680Z"
   },
   {
    "duration": 338,
    "start_time": "2021-11-26T22:14:20.180Z"
   },
   {
    "duration": 9,
    "start_time": "2021-11-26T22:22:02.256Z"
   },
   {
    "duration": 13,
    "start_time": "2021-11-26T22:22:03.521Z"
   },
   {
    "duration": 179,
    "start_time": "2021-11-26T22:22:18.560Z"
   },
   {
    "duration": 157,
    "start_time": "2021-11-26T22:22:19.785Z"
   },
   {
    "duration": 10,
    "start_time": "2021-11-26T22:22:20.930Z"
   },
   {
    "duration": 8,
    "start_time": "2021-11-26T22:22:21.953Z"
   },
   {
    "duration": 210,
    "start_time": "2021-11-26T22:22:22.931Z"
   },
   {
    "duration": 211,
    "start_time": "2021-11-26T22:23:41.059Z"
   },
   {
    "duration": 12,
    "start_time": "2021-11-26T22:23:49.089Z"
   },
   {
    "duration": 315,
    "start_time": "2021-11-26T22:23:52.703Z"
   },
   {
    "duration": 9,
    "start_time": "2021-11-26T22:24:02.368Z"
   },
   {
    "duration": 5,
    "start_time": "2021-11-26T22:24:07.000Z"
   },
   {
    "duration": 269,
    "start_time": "2021-11-26T22:24:14.608Z"
   },
   {
    "duration": 17,
    "start_time": "2021-11-26T22:24:21.400Z"
   },
   {
    "duration": 15,
    "start_time": "2021-11-26T22:24:22.144Z"
   },
   {
    "duration": 344,
    "start_time": "2021-11-26T22:24:23.280Z"
   },
   {
    "duration": 9,
    "start_time": "2021-11-26T22:24:30.504Z"
   },
   {
    "duration": 96,
    "start_time": "2021-11-26T22:24:31.405Z"
   },
   {
    "duration": 241,
    "start_time": "2021-11-26T22:24:32.544Z"
   },
   {
    "duration": 116,
    "start_time": "2021-11-26T22:24:33.805Z"
   },
   {
    "duration": 317,
    "start_time": "2021-11-26T22:24:36.777Z"
   },
   {
    "duration": 5,
    "start_time": "2021-11-26T22:24:41.227Z"
   },
   {
    "duration": 5,
    "start_time": "2021-11-26T22:28:05.314Z"
   },
   {
    "duration": 7,
    "start_time": "2021-11-26T22:34:55.796Z"
   },
   {
    "duration": 288,
    "start_time": "2021-11-26T22:35:15.835Z"
   },
   {
    "duration": 179,
    "start_time": "2021-11-26T22:36:23.382Z"
   },
   {
    "duration": 9,
    "start_time": "2021-11-26T22:38:50.978Z"
   },
   {
    "duration": 290,
    "start_time": "2021-11-26T22:38:52.315Z"
   },
   {
    "duration": 310,
    "start_time": "2021-11-26T22:39:08.601Z"
   },
   {
    "duration": 5,
    "start_time": "2021-11-26T22:39:20.129Z"
   },
   {
    "duration": 10,
    "start_time": "2021-11-26T22:39:26.007Z"
   },
   {
    "duration": 60,
    "start_time": "2021-11-26T22:39:27.335Z"
   },
   {
    "duration": 62,
    "start_time": "2021-11-26T22:39:28.473Z"
   },
   {
    "duration": 18,
    "start_time": "2021-11-26T22:39:29.729Z"
   },
   {
    "duration": 64,
    "start_time": "2021-11-26T22:39:31.361Z"
   },
   {
    "duration": 19,
    "start_time": "2021-11-26T22:39:33.082Z"
   },
   {
    "duration": 65,
    "start_time": "2021-11-26T22:39:34.270Z"
   },
   {
    "duration": 31,
    "start_time": "2021-11-26T22:39:35.484Z"
   },
   {
    "duration": 114,
    "start_time": "2021-11-26T22:39:37.679Z"
   },
   {
    "duration": 7,
    "start_time": "2021-11-26T22:39:40.643Z"
   },
   {
    "duration": 4,
    "start_time": "2021-11-26T22:39:42.193Z"
   },
   {
    "duration": 6,
    "start_time": "2021-11-26T22:39:44.832Z"
   },
   {
    "duration": 9,
    "start_time": "2021-11-26T22:40:03.169Z"
   },
   {
    "duration": 8,
    "start_time": "2021-11-26T22:40:12.269Z"
   },
   {
    "duration": 12,
    "start_time": "2021-11-26T22:40:15.081Z"
   },
   {
    "duration": 11,
    "start_time": "2021-11-26T22:40:23.020Z"
   },
   {
    "duration": 12,
    "start_time": "2021-11-26T22:40:23.874Z"
   },
   {
    "duration": 6,
    "start_time": "2021-11-26T22:40:24.929Z"
   },
   {
    "duration": 9,
    "start_time": "2021-11-26T22:40:28.688Z"
   },
   {
    "duration": 14,
    "start_time": "2021-11-26T22:40:33.003Z"
   },
   {
    "duration": 8,
    "start_time": "2021-11-26T22:40:34.633Z"
   },
   {
    "duration": 8,
    "start_time": "2021-11-26T22:40:35.609Z"
   },
   {
    "duration": 5,
    "start_time": "2021-11-26T22:47:02.038Z"
   },
   {
    "duration": 6,
    "start_time": "2021-11-26T22:47:18.863Z"
   },
   {
    "duration": 2,
    "start_time": "2021-11-26T22:47:33.458Z"
   },
   {
    "duration": 6,
    "start_time": "2021-11-26T22:47:54.528Z"
   },
   {
    "duration": 1377,
    "start_time": "2021-11-26T23:16:07.489Z"
   },
   {
    "duration": 29,
    "start_time": "2021-11-26T23:16:08.868Z"
   },
   {
    "duration": 12,
    "start_time": "2021-11-26T23:16:08.901Z"
   },
   {
    "duration": 10,
    "start_time": "2021-11-26T23:16:08.914Z"
   },
   {
    "duration": 303,
    "start_time": "2021-11-26T23:16:08.926Z"
   },
   {
    "duration": 11,
    "start_time": "2021-11-26T23:16:09.231Z"
   },
   {
    "duration": 51,
    "start_time": "2021-11-26T23:16:09.245Z"
   },
   {
    "duration": 11,
    "start_time": "2021-11-26T23:16:09.298Z"
   },
   {
    "duration": 11,
    "start_time": "2021-11-26T23:16:09.311Z"
   },
   {
    "duration": 17,
    "start_time": "2021-11-26T23:16:09.323Z"
   },
   {
    "duration": 16,
    "start_time": "2021-11-26T23:16:09.341Z"
   },
   {
    "duration": 4,
    "start_time": "2021-11-26T23:16:09.359Z"
   },
   {
    "duration": 38,
    "start_time": "2021-11-26T23:16:09.365Z"
   },
   {
    "duration": 12,
    "start_time": "2021-11-26T23:16:09.405Z"
   },
   {
    "duration": 5,
    "start_time": "2021-11-26T23:16:09.418Z"
   },
   {
    "duration": 6,
    "start_time": "2021-11-26T23:16:09.424Z"
   },
   {
    "duration": 7,
    "start_time": "2021-11-26T23:16:09.432Z"
   },
   {
    "duration": 5,
    "start_time": "2021-11-26T23:16:09.440Z"
   },
   {
    "duration": 357,
    "start_time": "2021-11-26T23:16:09.446Z"
   },
   {
    "duration": 7,
    "start_time": "2021-11-26T23:16:09.805Z"
   },
   {
    "duration": 13,
    "start_time": "2021-11-26T23:16:09.814Z"
   },
   {
    "duration": 209,
    "start_time": "2021-11-26T23:16:09.830Z"
   },
   {
    "duration": 165,
    "start_time": "2021-11-26T23:16:10.042Z"
   },
   {
    "duration": 9,
    "start_time": "2021-11-26T23:16:10.209Z"
   },
   {
    "duration": 23,
    "start_time": "2021-11-26T23:16:10.220Z"
   },
   {
    "duration": 214,
    "start_time": "2021-11-26T23:16:10.245Z"
   },
   {
    "duration": 215,
    "start_time": "2021-11-26T23:16:10.460Z"
   },
   {
    "duration": 16,
    "start_time": "2021-11-26T23:16:10.676Z"
   },
   {
    "duration": 329,
    "start_time": "2021-11-26T23:16:10.694Z"
   },
   {
    "duration": 9,
    "start_time": "2021-11-26T23:16:11.025Z"
   },
   {
    "duration": 9,
    "start_time": "2021-11-26T23:16:11.035Z"
   },
   {
    "duration": 1396,
    "start_time": "2021-11-26T23:19:40.927Z"
   },
   {
    "duration": 28,
    "start_time": "2021-11-26T23:19:46.035Z"
   },
   {
    "duration": 13,
    "start_time": "2021-11-26T23:19:51.236Z"
   },
   {
    "duration": 12,
    "start_time": "2021-11-26T23:20:26.957Z"
   },
   {
    "duration": 343,
    "start_time": "2021-11-26T23:20:27.879Z"
   },
   {
    "duration": 12,
    "start_time": "2021-11-26T23:20:40.956Z"
   },
   {
    "duration": 50,
    "start_time": "2021-11-26T23:20:55.539Z"
   },
   {
    "duration": 12,
    "start_time": "2021-11-26T23:20:57.325Z"
   },
   {
    "duration": 10,
    "start_time": "2021-11-26T23:21:02.336Z"
   },
   {
    "duration": 17,
    "start_time": "2021-11-26T23:21:08.041Z"
   },
   {
    "duration": 18,
    "start_time": "2021-11-26T23:21:11.260Z"
   },
   {
    "duration": 6,
    "start_time": "2021-11-26T23:21:18.123Z"
   },
   {
    "duration": 13,
    "start_time": "2021-11-26T23:21:21.449Z"
   },
   {
    "duration": 15,
    "start_time": "2021-11-26T23:21:24.260Z"
   },
   {
    "duration": 6,
    "start_time": "2021-11-26T23:21:25.675Z"
   },
   {
    "duration": 6,
    "start_time": "2021-11-26T23:21:29.676Z"
   },
   {
    "duration": 6,
    "start_time": "2021-11-26T23:21:30.715Z"
   },
   {
    "duration": 5,
    "start_time": "2021-11-26T23:21:31.772Z"
   },
   {
    "duration": 315,
    "start_time": "2021-11-26T23:21:34.627Z"
   },
   {
    "duration": 9,
    "start_time": "2021-11-26T23:22:31.731Z"
   },
   {
    "duration": 12,
    "start_time": "2021-11-26T23:22:32.765Z"
   },
   {
    "duration": 180,
    "start_time": "2021-11-26T23:22:35.442Z"
   },
   {
    "duration": 150,
    "start_time": "2021-11-26T23:22:37.220Z"
   },
   {
    "duration": 11,
    "start_time": "2021-11-26T23:22:38.684Z"
   },
   {
    "duration": 7,
    "start_time": "2021-11-26T23:22:39.746Z"
   },
   {
    "duration": 205,
    "start_time": "2021-11-26T23:22:40.556Z"
   },
   {
    "duration": 205,
    "start_time": "2021-11-26T23:22:48.372Z"
   },
   {
    "duration": 13,
    "start_time": "2021-11-26T23:22:54.476Z"
   },
   {
    "duration": 334,
    "start_time": "2021-11-26T23:22:55.890Z"
   },
   {
    "duration": 9,
    "start_time": "2021-11-26T23:23:02.142Z"
   },
   {
    "duration": 6,
    "start_time": "2021-11-26T23:23:03.308Z"
   },
   {
    "duration": 277,
    "start_time": "2021-11-26T23:23:06.044Z"
   },
   {
    "duration": 16,
    "start_time": "2021-11-26T23:23:10.558Z"
   },
   {
    "duration": 13,
    "start_time": "2021-11-26T23:23:11.351Z"
   },
   {
    "duration": 307,
    "start_time": "2021-11-26T23:23:12.756Z"
   },
   {
    "duration": 9,
    "start_time": "2021-11-26T23:23:19.985Z"
   },
   {
    "duration": 102,
    "start_time": "2021-11-26T23:23:21.171Z"
   },
   {
    "duration": 251,
    "start_time": "2021-11-26T23:23:23.140Z"
   },
   {
    "duration": 114,
    "start_time": "2021-11-26T23:23:24.915Z"
   },
   {
    "duration": 282,
    "start_time": "2021-11-26T23:23:26.827Z"
   },
   {
    "duration": 6,
    "start_time": "2021-11-26T23:23:34.370Z"
   },
   {
    "duration": 9,
    "start_time": "2021-11-26T23:24:02.561Z"
   },
   {
    "duration": 309,
    "start_time": "2021-11-26T23:24:03.588Z"
   },
   {
    "duration": 310,
    "start_time": "2021-11-26T23:24:07.603Z"
   },
   {
    "duration": 5,
    "start_time": "2021-11-26T23:24:16.173Z"
   },
   {
    "duration": 10,
    "start_time": "2021-11-26T23:24:19.610Z"
   },
   {
    "duration": 62,
    "start_time": "2021-11-26T23:24:20.963Z"
   },
   {
    "duration": 64,
    "start_time": "2021-11-26T23:24:22.398Z"
   },
   {
    "duration": 20,
    "start_time": "2021-11-26T23:24:24.035Z"
   },
   {
    "duration": 68,
    "start_time": "2021-11-26T23:24:25.285Z"
   },
   {
    "duration": 22,
    "start_time": "2021-11-26T23:24:27.517Z"
   },
   {
    "duration": 69,
    "start_time": "2021-11-26T23:24:29.992Z"
   },
   {
    "duration": 32,
    "start_time": "2021-11-26T23:24:31.650Z"
   },
   {
    "duration": 109,
    "start_time": "2021-11-26T23:24:33.668Z"
   },
   {
    "duration": 7,
    "start_time": "2021-11-26T23:24:35.571Z"
   },
   {
    "duration": 5,
    "start_time": "2021-11-26T23:24:37.172Z"
   },
   {
    "duration": 5,
    "start_time": "2021-11-26T23:24:44.646Z"
   },
   {
    "duration": 9,
    "start_time": "2021-11-26T23:24:53.785Z"
   },
   {
    "duration": 8,
    "start_time": "2021-11-26T23:25:03.903Z"
   },
   {
    "duration": 10,
    "start_time": "2021-11-26T23:25:09.300Z"
   },
   {
    "duration": 10,
    "start_time": "2021-11-26T23:25:19.557Z"
   },
   {
    "duration": 11,
    "start_time": "2021-11-26T23:25:21.315Z"
   },
   {
    "duration": 5,
    "start_time": "2021-11-26T23:25:23.310Z"
   },
   {
    "duration": 8,
    "start_time": "2021-11-26T23:25:26.629Z"
   },
   {
    "duration": 14,
    "start_time": "2021-11-26T23:25:30.495Z"
   },
   {
    "duration": 7,
    "start_time": "2021-11-26T23:25:32.234Z"
   },
   {
    "duration": 7,
    "start_time": "2021-11-26T23:25:33.483Z"
   },
   {
    "duration": 2129,
    "start_time": "2021-11-27T03:49:49.966Z"
   },
   {
    "duration": 35,
    "start_time": "2021-11-27T03:49:52.097Z"
   },
   {
    "duration": 16,
    "start_time": "2021-11-27T03:49:52.135Z"
   },
   {
    "duration": 30,
    "start_time": "2021-11-27T03:49:52.154Z"
   },
   {
    "duration": 430,
    "start_time": "2021-11-27T03:49:52.186Z"
   },
   {
    "duration": 18,
    "start_time": "2021-11-27T03:49:52.619Z"
   },
   {
    "duration": 49,
    "start_time": "2021-11-27T03:49:52.640Z"
   },
   {
    "duration": 17,
    "start_time": "2021-11-27T03:49:52.694Z"
   },
   {
    "duration": 15,
    "start_time": "2021-11-27T03:49:52.715Z"
   },
   {
    "duration": 61,
    "start_time": "2021-11-27T03:49:52.734Z"
   },
   {
    "duration": 29,
    "start_time": "2021-11-27T03:49:52.799Z"
   },
   {
    "duration": 12,
    "start_time": "2021-11-27T03:49:52.830Z"
   },
   {
    "duration": 51,
    "start_time": "2021-11-27T03:49:52.844Z"
   },
   {
    "duration": 21,
    "start_time": "2021-11-27T03:49:52.898Z"
   },
   {
    "duration": 8,
    "start_time": "2021-11-27T03:49:52.921Z"
   },
   {
    "duration": 12,
    "start_time": "2021-11-27T03:49:52.931Z"
   },
   {
    "duration": 42,
    "start_time": "2021-11-27T03:49:52.946Z"
   },
   {
    "duration": 21,
    "start_time": "2021-11-27T03:49:52.991Z"
   },
   {
    "duration": 532,
    "start_time": "2021-11-27T03:49:53.015Z"
   },
   {
    "duration": 12,
    "start_time": "2021-11-27T03:49:53.550Z"
   },
   {
    "duration": 19,
    "start_time": "2021-11-27T03:49:53.582Z"
   },
   {
    "duration": 332,
    "start_time": "2021-11-27T03:49:53.604Z"
   },
   {
    "duration": 292,
    "start_time": "2021-11-27T03:49:53.944Z"
   },
   {
    "duration": 15,
    "start_time": "2021-11-27T03:49:54.241Z"
   },
   {
    "duration": 11,
    "start_time": "2021-11-27T03:49:54.283Z"
   },
   {
    "duration": 346,
    "start_time": "2021-11-27T03:49:54.297Z"
   },
   {
    "duration": 356,
    "start_time": "2021-11-27T03:49:54.647Z"
   },
   {
    "duration": 19,
    "start_time": "2021-11-27T03:49:55.006Z"
   },
   {
    "duration": 498,
    "start_time": "2021-11-27T03:49:55.027Z"
   },
   {
    "duration": 12,
    "start_time": "2021-11-27T03:49:55.527Z"
   },
   {
    "duration": 12,
    "start_time": "2021-11-27T03:49:55.541Z"
   },
   {
    "duration": 429,
    "start_time": "2021-11-27T03:49:55.555Z"
   },
   {
    "duration": 22,
    "start_time": "2021-11-27T03:49:55.987Z"
   },
   {
    "duration": 20,
    "start_time": "2021-11-27T03:49:56.011Z"
   },
   {
    "duration": 494,
    "start_time": "2021-11-27T03:49:56.033Z"
   },
   {
    "duration": 11,
    "start_time": "2021-11-27T03:49:56.529Z"
   },
   {
    "duration": 272,
    "start_time": "2021-11-27T03:49:56.542Z"
   },
   {
    "duration": 377,
    "start_time": "2021-11-27T03:49:56.817Z"
   },
   {
    "duration": 223,
    "start_time": "2021-11-27T03:49:57.196Z"
   },
   {
    "duration": 476,
    "start_time": "2021-11-27T03:49:57.422Z"
   },
   {
    "duration": 6,
    "start_time": "2021-11-27T03:49:57.900Z"
   },
   {
    "duration": 16,
    "start_time": "2021-11-27T03:49:57.909Z"
   },
   {
    "duration": 469,
    "start_time": "2021-11-27T03:49:57.927Z"
   },
   {
    "duration": 428,
    "start_time": "2021-11-27T03:49:58.399Z"
   },
   {
    "duration": 7,
    "start_time": "2021-11-27T03:49:58.830Z"
   },
   {
    "duration": 17,
    "start_time": "2021-11-27T03:49:58.840Z"
   },
   {
    "duration": 106,
    "start_time": "2021-11-27T03:49:58.883Z"
   },
   {
    "duration": 125,
    "start_time": "2021-11-27T03:49:58.993Z"
   },
   {
    "duration": 31,
    "start_time": "2021-11-27T03:49:59.121Z"
   },
   {
    "duration": 133,
    "start_time": "2021-11-27T03:49:59.154Z"
   },
   {
    "duration": 33,
    "start_time": "2021-11-27T03:49:59.289Z"
   },
   {
    "duration": 127,
    "start_time": "2021-11-27T03:49:59.324Z"
   },
   {
    "duration": 70,
    "start_time": "2021-11-27T03:49:59.454Z"
   },
   {
    "duration": 246,
    "start_time": "2021-11-27T03:49:59.527Z"
   },
   {
    "duration": 9,
    "start_time": "2021-11-27T03:49:59.781Z"
   },
   {
    "duration": 14,
    "start_time": "2021-11-27T03:49:59.793Z"
   },
   {
    "duration": 9,
    "start_time": "2021-11-27T03:49:59.810Z"
   },
   {
    "duration": 12,
    "start_time": "2021-11-27T03:49:59.822Z"
   },
   {
    "duration": 12,
    "start_time": "2021-11-27T03:49:59.881Z"
   },
   {
    "duration": 20,
    "start_time": "2021-11-27T03:49:59.896Z"
   },
   {
    "duration": 13,
    "start_time": "2021-11-27T03:49:59.919Z"
   },
   {
    "duration": 49,
    "start_time": "2021-11-27T03:49:59.935Z"
   },
   {
    "duration": 7,
    "start_time": "2021-11-27T03:49:59.987Z"
   },
   {
    "duration": 17,
    "start_time": "2021-11-27T03:49:59.997Z"
   },
   {
    "duration": 21,
    "start_time": "2021-11-27T03:50:00.016Z"
   },
   {
    "duration": 45,
    "start_time": "2021-11-27T03:50:00.039Z"
   },
   {
    "duration": 17,
    "start_time": "2021-11-27T03:50:00.087Z"
   }
  ],
  "kernelspec": {
   "display_name": "Python 3 (ipykernel)",
   "language": "python",
   "name": "python3"
  },
  "language_info": {
   "codemirror_mode": {
    "name": "ipython",
    "version": 3
   },
   "file_extension": ".py",
   "mimetype": "text/x-python",
   "name": "python",
   "nbconvert_exporter": "python",
   "pygments_lexer": "ipython3",
   "version": "3.9.7"
  },
  "toc": {
   "base_numbering": 1,
   "nav_menu": {},
   "number_sections": true,
   "sideBar": true,
   "skip_h1_title": true,
   "title_cell": "Table of Contents",
   "title_sidebar": "Contents",
   "toc_cell": false,
   "toc_position": {},
   "toc_section_display": true,
   "toc_window_display": false
  }
 },
 "nbformat": 4,
 "nbformat_minor": 2
}
